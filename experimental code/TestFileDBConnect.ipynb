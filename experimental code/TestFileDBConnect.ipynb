{
 "cells": [
  {
   "cell_type": "markdown",
   "metadata": {},
   "source": [
    "## Connect to Cloud Datebase MYSQL Using Note book\n",
    "<i> Put the config1 file in your exeucting direcotry to connect to db\n",
    "\n",
    "### First install MYSQL Connect: \n",
    "<i> pip install mysql-connector-python </i>\n",
    "\n",
    "### Add your IP to the siteground:\n",
    "<i> https://tools.siteground.com/mysql-access?siteId=TFFud1lYTVBJZz09 <i>\n",
    "\n",
    "    \n",
    "### Code Steps\n",
    "\n",
    "1.  Connect to DB\n",
    "2.  Print out DB info\n",
    "3.  Execute a Query \n",
    "4.  Close Connection"
   ]
  },
  {
   "cell_type": "code",
   "execution_count": 1,
   "metadata": {},
   "outputs": [],
   "source": [
    "import pandas as pd\n",
    "import config1 \n"
   ]
  },
  {
   "cell_type": "code",
   "execution_count": 2,
   "metadata": {},
   "outputs": [],
   "source": [
    "def printTenRows(dbConnection):\n",
    "    \n",
    "    try:\n",
    "        _query = \"select * from 42fire limit 10;\" #John created this table\n",
    "        \n",
    "        dataFrame = pd.read_sql(_query, dbConnection); \n",
    "        print(\"\\nAll the data queried: \\n\", dataFrame)\n",
    "    except Error as e:\n",
    "        print(\"Error while reading\", e)\n",
    "\n",
    "\n",
    "        \n",
    "    "
   ]
  },
  {
   "cell_type": "code",
   "execution_count": 3,
   "metadata": {},
   "outputs": [
    {
     "name": "stdout",
     "output_type": "stream",
     "text": [
      "....Trying to Connect\n",
      "Connected to MySQL Server version  5.7.25-28-log\n",
      "\n",
      "Successfully connected to database:  ('db27bvsdruzh45',)\n",
      "\n",
      "All the data queried: \n",
      "    latitude  longitude bright_ti4  scan track    acq_date acq_time satellite  \\\n",
      "0  40.39339  -79.85433      334.5  0.46  0.63  2012-01-20     0619         N   \n",
      "1  39.21451  -76.47873      328.7  0.59  0.53  2012-01-20     0619         N   \n",
      "2  39.21748  -76.47753      328.3  0.59  0.53  2012-01-20     0619         N   \n",
      "3  36.58757  -78.58813        298  0.37  0.58  2012-01-20     0620         N   \n",
      "4   37.3537  -77.32359        298  0.63  0.54  2012-01-20     0620         N   \n",
      "5  37.34866  -77.32417      295.3  0.63  0.54  2012-01-20     0620         N   \n",
      "6  36.35639  -76.80846      298.9  0.58  0.52  2012-01-20     0620         N   \n",
      "7  37.18184  -77.44683        304  0.32  0.55  2012-01-20     0620         N   \n",
      "8  35.47948  -76.78715      296.8  0.57  0.52  2012-01-20     0620         N   \n",
      "9  35.42217   -78.3699      299.5  0.35  0.56  2012-01-20     0620         N   \n",
      "\n",
      "  instrument confidence version bright_ti5  frp type  \n",
      "0      VIIRS          n       1      265.8    5    2  \n",
      "1      VIIRS          n       1      271.7  5.2    2  \n",
      "2      VIIRS          n       1      272.9  5.5    2  \n",
      "3      VIIRS          n       1      272.2  1.8    0  \n",
      "4      VIIRS          n       1      267.8  1.3    0  \n",
      "5      VIIRS          n       1      268.4  1.3    0  \n",
      "6      VIIRS          n       1        276  1.2    3  \n",
      "7      VIIRS          n       1      274.1  0.7    2  \n",
      "8      VIIRS          n       1      273.7  1.1    0  \n",
      "9      VIIRS          n       1      273.4  0.5    0  \n",
      "\n",
      "Closed MySQL connection.\n"
     ]
    }
   ],
   "source": [
    "#connect to database get back a dbConnection object\n",
    "dbConn = config1.dbConnect()\n",
    "\n",
    "#read data by with a simple select 10 rows\n",
    "printTenRows(dbConn)\n",
    "\n",
    "#close connection\n",
    "config1.dbCloseConn(dbConn)\n"
   ]
  },
  {
   "cell_type": "code",
   "execution_count": null,
   "metadata": {},
   "outputs": [],
   "source": []
  }
 ],
 "metadata": {
  "kernelspec": {
   "display_name": "Python 3",
   "language": "python",
   "name": "python3"
  },
  "language_info": {
   "codemirror_mode": {
    "name": "ipython",
    "version": 3
   },
   "file_extension": ".py",
   "mimetype": "text/x-python",
   "name": "python",
   "nbconvert_exporter": "python",
   "pygments_lexer": "ipython3",
   "version": "3.7.4"
  }
 },
 "nbformat": 4,
 "nbformat_minor": 4
}

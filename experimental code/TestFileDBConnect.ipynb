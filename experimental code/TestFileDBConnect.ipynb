{
 "cells": [
  {
   "cell_type": "markdown",
   "metadata": {},
   "source": [
    "## Connect to Cloud Datebase MYSQL Using Note book\n",
    "\n",
    "### First install MYSQL Connect: \n",
    "<i> pip install mysql-connector-python </i>\n",
    "\n",
    "### Add your IP to the siteground:\n",
    "<i> https://tools.siteground.com/mysql-access?siteId=TFFud1lYTVBJZz09 <i>\n",
    "\n",
    "    \n",
    "### Code Steps\n",
    "\n",
    "1.  Connect to DB\n",
    "2.  Print out DB info\n",
    "3.  Execute a Query (Will skip as database has no data)\n",
    "4.  Close Connection"
   ]
  },
  {
   "cell_type": "code",
   "execution_count": 47,
   "metadata": {},
   "outputs": [],
   "source": [
    "import mysql.connector\n",
    "from mysql.connector import Error\n",
    "import configparser\n",
    "import pandas as pd\n",
    "\n",
    "\n",
    "\n"
   ]
  },
  {
   "cell_type": "code",
   "execution_count": 48,
   "metadata": {},
   "outputs": [],
   "source": [
    "def readConfig():  #return a dict of config params\n",
    "\n",
    "    try:\n",
    "        config = configparser.ConfigParser()\n",
    "        config.read('config.ini')\n",
    "    \n",
    "        host1 = config['mysqlDB']['host']\n",
    "        user1 = config['mysqlDB']['user']\n",
    "        passwd1 = config['mysqlDB']['pass']\n",
    "        db1 = config['mysqlDB']['db']\n",
    "        \n",
    "        config1 = {\n",
    "          'user': config['mysqlDB']['user'],\n",
    "          'password': config['mysqlDB']['pass'],\n",
    "          'host': config['mysqlDB']['host'],\n",
    "          'database': config['mysqlDB']['db'],\n",
    "          'raise_on_warnings': True\n",
    "        }\n",
    "        \n",
    "        return config1\n",
    "     \n",
    "        \n",
    "    except Error as e:\n",
    "        print(\"Error while reading file\", e)\n",
    "    \n",
    "\n"
   ]
  },
  {
   "cell_type": "code",
   "execution_count": 49,
   "metadata": {},
   "outputs": [],
   "source": [
    "def dbConnect(configDict):\n",
    "\n",
    "   \n",
    "    try:\n",
    "   \n",
    "        print(\"....Trying to Connect\")\n",
    "        connection = mysql.connector.connect(host = configDict['host'],\n",
    "                                         database = configDict['database'],\n",
    "                                         user = configDict['user'],\n",
    "                                         password = configDict['password'])\n",
    "        \n",
    "        \n",
    "        if connection.is_connected():\n",
    "            db_Info = connection.get_server_info()\n",
    "            print(\"Connected to MySQL Server version \", db_Info)\n",
    "        \n",
    "        cursor = connection.cursor()\n",
    "        cursor.execute(\"select database();\")\n",
    "        record = cursor.fetchone()\n",
    "        cursor.close()\n",
    "        print(\"\\nSuccessfully connected to database: \", record)\n",
    "        \n",
    "        return connection\n",
    "\n",
    "    except Error as e:\n",
    "        cursor.close()\n",
    "        print(\"Error while connecting to MySQL\", e)\n",
    "    "
   ]
  },
  {
   "cell_type": "code",
   "execution_count": 50,
   "metadata": {},
   "outputs": [],
   "source": [
    "def dbCloseConn(dbConnection):\n",
    "\n",
    "   \n",
    "    try:\n",
    "        if (dbConnection.is_connected()):\n",
    "            dbConnection.close()\n",
    "            print(\"\\nClosed MySQL connection.\")\n",
    "           \n",
    "    except Error as e:\n",
    "        print(\"Error while closing\", e)\n",
    "    \n",
    "        "
   ]
  },
  {
   "cell_type": "code",
   "execution_count": 51,
   "metadata": {},
   "outputs": [],
   "source": [
    "def readTable(dbConnection):\n",
    "    \n",
    "    try:\n",
    "        _query = \"select * from pet\" #Somebody created a pet table\n",
    "        dataFrame = pd.read_sql(_query, dbConnection); \n",
    "        print(\"\\nAll the data queried: \\n\", dataFrame)\n",
    "    except Error as e:\n",
    "        print(\"Error while reading\", e)\n",
    "\n",
    "\n",
    "        \n",
    "    "
   ]
  },
  {
   "cell_type": "code",
   "execution_count": 52,
   "metadata": {},
   "outputs": [
    {
     "name": "stdout",
     "output_type": "stream",
     "text": [
      "....Trying to Connect\n",
      "Connected to MySQL Server version  5.7.25-28-log\n",
      "\n",
      "Successfully connected to database:  ('db27bvsdruzh45',)\n",
      "\n",
      "All the data queried: \n",
      "      name  owner species sex birth death\n",
      "0  sparky  Marty     dog   M  None  None\n",
      "1   rover   John     dog   F  None  None\n",
      "\n",
      "Closed MySQL connection.\n"
     ]
    }
   ],
   "source": [
    "#read config file - get back a dict\n",
    "configDict = readConfig() \n",
    "\n",
    "#connect to database get back a dbConnection object\n",
    "dbConn = dbConnect(configDict)  \n",
    "\n",
    "#read data by with a simple select all\n",
    "readTable(dbConn)\n",
    "\n",
    "#close connection\n",
    "dbCloseConn(dbConn)\n"
   ]
  },
  {
   "cell_type": "code",
   "execution_count": null,
   "metadata": {},
   "outputs": [],
   "source": []
  }
 ],
 "metadata": {
  "kernelspec": {
   "display_name": "Python 3",
   "language": "python",
   "name": "python3"
  },
  "language_info": {
   "codemirror_mode": {
    "name": "ipython",
    "version": 3
   },
   "file_extension": ".py",
   "mimetype": "text/x-python",
   "name": "python",
   "nbconvert_exporter": "python",
   "pygments_lexer": "ipython3",
   "version": "3.7.4"
  }
 },
 "nbformat": 4,
 "nbformat_minor": 4
}

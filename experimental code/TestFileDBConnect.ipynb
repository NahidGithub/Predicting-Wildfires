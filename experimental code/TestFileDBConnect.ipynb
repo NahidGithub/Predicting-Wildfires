{
 "cells": [
  {
   "cell_type": "markdown",
   "metadata": {},
   "source": [
    "## Connect to Cloud Datebase MYSQL Using Note book\n",
    "\n",
    "### First install MYSQL Connect: \n",
    "<i> pip install mysql-connector-python </i>\n",
    "\n",
    "### Add your IP to the siteground:\n",
    "<i> https://tools.siteground.com/mysql-access?siteId=TFFud1lYTVBJZz09 <i>\n",
    "\n",
    "    \n",
    "### Code Steps\n",
    "\n",
    "1.  Connect to DB\n",
    "2.  Print out DB info\n",
    "3.  Execute a Query (Will skip as database has no data)\n",
    "4.  Close Connection"
   ]
  },
  {
   "cell_type": "code",
   "execution_count": 8,
   "metadata": {},
   "outputs": [],
   "source": [
    "import mysql.connector\n",
    "from mysql.connector import Error\n",
    "import configparser\n",
    "import pandas as pd\n",
    "import os\n",
    "\n",
    "\n"
   ]
  },
  {
   "cell_type": "code",
   "execution_count": 7,
   "metadata": {},
   "outputs": [],
   "source": [
    "def readConfig():  #return a dict\n",
    "\n",
    "    try:\n",
    "        config = configparser.ConfigParser()\n",
    "        config.read('config.ini')\n",
    "    \n",
    "        host1 = config['mysqlDB']['host']\n",
    "        user1 = config['mysqlDB']['user']\n",
    "        passwd1 = config['mysqlDB']['pass']\n",
    "        db1 = config['mysqlDB']['db']\n",
    "        \n",
    "        config1 = {\n",
    "          'user': config['mysqlDB']['user'],\n",
    "          'password': config['mysqlDB']['pass'],\n",
    "          'host': config['mysqlDB']['host'],\n",
    "          'database': config['mysqlDB']['db'],\n",
    "          'raise_on_warnings': True\n",
    "        }\n",
    "        \n",
    "        return config1\n",
    "     \n",
    "        \n",
    "    except Error as e:\n",
    "        print(\"Error while reading file\", e)\n",
    "    \n",
    "\n"
   ]
  },
  {
   "cell_type": "code",
   "execution_count": 6,
   "metadata": {},
   "outputs": [],
   "source": [
    "def dbConnect():\n",
    "\n",
    "    configDict = readConfig()\n",
    "   \n",
    "    try:\n",
    "   \n",
    "        print(\"....Trying to Connect\")\n",
    "        connection = mysql.connector.connect(host = configDict['host'],\n",
    "                                         database = configDict['database'],\n",
    "                                         user = configDict['user'],\n",
    "                                         password = configDict['password'])\n",
    "        \n",
    "        print(\"....Connection function executed\")\n",
    "        \n",
    "        if connection.is_connected():\n",
    "            db_Info = connection.get_server_info()\n",
    "            print(\"Connected to MySQL Server version \", db_Info)\n",
    "        \n",
    "        cursor = connection.cursor()\n",
    "        cursor.execute(\"select database();\")\n",
    "        record = cursor.fetchone()\n",
    "        print(\"You're connected to database: \", record)\n",
    "        \n",
    "        readTable(connection)\n",
    "\n",
    "    except Error as e:\n",
    "        print(\"Error while connecting to MySQL\", e)\n",
    "    finally:\n",
    "        if (connection.is_connected()):\n",
    "            cursor.close()\n",
    "            connection.close()\n",
    "            print(\"MySQL connection is closed\")"
   ]
  },
  {
   "cell_type": "code",
   "execution_count": 5,
   "metadata": {},
   "outputs": [],
   "source": [
    "def readTable(dbConnection):\n",
    "    \n",
    "    try:\n",
    "        _query = \"select * from pet\" #Somebody created a pet table\n",
    "        dataFrame = pd.read_sql(_query, dbConnection); \n",
    "        print(\"All the data queried: \\n\", dataFrame)\n",
    "    except Error as e:\n",
    "        print(\"Error while reading\", e)\n",
    "\n",
    "    except Exception as ex:   \n",
    "        print(ex)\n",
    "    finally:\n",
    "        print(\"Finished Reading\")\n",
    "        \n",
    "    "
   ]
  },
  {
   "cell_type": "code",
   "execution_count": 11,
   "metadata": {},
   "outputs": [
    {
     "name": "stdout",
     "output_type": "stream",
     "text": [
      "....Trying to Connect\n",
      "....Connection function executed\n",
      "Connected to MySQL Server version  5.7.25-28-log\n",
      "You're connected to database:  ('db27bvsdruzh45',)\n",
      "All the data queried: \n",
      "      name  owner species sex birth death\n",
      "0  sparky  Marty     dog   M  None  None\n",
      "1   rover   John     dog   F  None  None\n",
      "Finished Reading\n",
      "MySQL connection is closed\n"
     ]
    }
   ],
   "source": [
    "dbConnect()\n"
   ]
  },
  {
   "cell_type": "code",
   "execution_count": null,
   "metadata": {},
   "outputs": [],
   "source": []
  }
 ],
 "metadata": {
  "kernelspec": {
   "display_name": "Python 3",
   "language": "python",
   "name": "python3"
  },
  "language_info": {
   "codemirror_mode": {
    "name": "ipython",
    "version": 3
   },
   "file_extension": ".py",
   "mimetype": "text/x-python",
   "name": "python",
   "nbconvert_exporter": "python",
   "pygments_lexer": "ipython3",
   "version": "3.7.4"
  }
 },
 "nbformat": 4,
 "nbformat_minor": 4
}

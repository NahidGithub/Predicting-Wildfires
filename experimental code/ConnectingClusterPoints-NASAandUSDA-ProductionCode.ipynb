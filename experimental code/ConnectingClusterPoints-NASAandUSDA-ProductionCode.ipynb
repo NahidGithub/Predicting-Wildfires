{
 "cells": [
  {
   "cell_type": "markdown",
   "metadata": {},
   "source": [
    "# <font color=\"#C71585\"> Location of closest coordinate out of a list of coordinates </font>\n",
    "### <font color=\"#C71585\"> Connecting NASA cluster centeroids to USDA unique fires </font>\n",
    "##### - https://www.timvink.nl/closest-coordinates/\n",
    "##### - https://stackoverflow.com/questions/39107896/efficiently-finding-the-closest-coordinate-pair-from-a-set-in-python"
   ]
  },
  {
   "cell_type": "code",
   "execution_count": 1,
   "metadata": {},
   "outputs": [],
   "source": [
    "# import libraries\n",
    "import pandas as pd\n",
    "import datetime\n",
    "import numpy as np\n",
    "from geopy.distance import great_circle\n",
    "import math\n",
    "from scipy import spatial\n",
    "import sklearn\n",
    "import os"
   ]
  },
  {
   "cell_type": "markdown",
   "metadata": {},
   "source": [
    "### <font color=\"#C71585\"> Loading Datasets and setting variables </font>"
   ]
  },
  {
   "cell_type": "code",
   "execution_count": 31,
   "metadata": {},
   "outputs": [],
   "source": [
    "USDA_188MfireDf = pd.read_csv('/Users/nahidmacbook/Documents/DataScience/Data-Wildfire/Fire_Program_Analysis__Fire_Occurrence_Database_Feature_Layer.csv')"
   ]
  },
  {
   "cell_type": "code",
   "execution_count": 23,
   "metadata": {},
   "outputs": [],
   "source": [
    "year = 2006"
   ]
  },
  {
   "cell_type": "code",
   "execution_count": 24,
   "metadata": {},
   "outputs": [],
   "source": [
    "NASAFiresClusters20xx = pd.read_csv('/Users/nahidmacbook/Documents/DataScience/Data-Wildfire/NASA-M6-DBSCAN-Clusters-'+str(year)+'.csv')"
   ]
  },
  {
   "cell_type": "code",
   "execution_count": 25,
   "metadata": {},
   "outputs": [],
   "source": [
    "pd.set_option('display.max_columns', 40)"
   ]
  },
  {
   "cell_type": "code",
   "execution_count": 26,
   "metadata": {},
   "outputs": [
    {
     "data": {
      "text/plain": [
       "(28049, 18)"
      ]
     },
     "execution_count": 26,
     "metadata": {},
     "output_type": "execute_result"
    }
   ],
   "source": [
    "NASAFiresClusters20xx.shape"
   ]
  },
  {
   "cell_type": "code",
   "execution_count": 27,
   "metadata": {
    "scrolled": false
   },
   "outputs": [],
   "source": [
    "# add cluster reference\n",
    "NASAFiresClusters20xx['Cluster_Reference']=range(0, len(NASAFiresClusters20xx))"
   ]
  },
  {
   "cell_type": "code",
   "execution_count": 28,
   "metadata": {},
   "outputs": [],
   "source": [
    "# add day of year\n",
    "NASAFiresClusters20xx['DOY'] = pd.DatetimeIndex(NASAFiresClusters20xx['acq_date']).dayofyear"
   ]
  },
  {
   "cell_type": "markdown",
   "metadata": {},
   "source": [
    "### <font color=\"#C71585\"> Setting up Sample Data for the year </font>"
   ]
  },
  {
   "cell_type": "code",
   "execution_count": 32,
   "metadata": {},
   "outputs": [
    {
     "data": {
      "text/plain": [
       "(114004, 28)"
      ]
     },
     "execution_count": 32,
     "metadata": {},
     "output_type": "execute_result"
    }
   ],
   "source": [
    "### Creating a smaller DF Unique Fires from USDA 1.88m fire set. \n",
    "\n",
    "USDA_188MfireDf = USDA_188MfireDf.drop(['SOURCE_REPORTING_UNIT', 'SOURCE_REPORTING_UNIT_NAME', 'LOCAL_FIRE_REPORT_ID', \n",
    "                                    'LOCAL_INCIDENT_ID', 'OWNER_CODE','OWNER_DESCR', 'X', 'Y','FOD_ID', 'FPA_ID', \n",
    "                                    'SOURCE_SYSTEM_TYPE', 'SOURCE_SYSTEM'], 1)\n",
    "USDA_188MfireDf_20xx = USDA_188MfireDf[(USDA_188MfireDf.FIRE_YEAR == year)]\n",
    "USDA_188MfireDf_20xx.shape"
   ]
  },
  {
   "cell_type": "markdown",
   "metadata": {},
   "source": [
    "### <font color=\"#C71585\"> Encoding Cyclical Feature for finding the closest DOY to the given DOY </font>"
   ]
  },
  {
   "cell_type": "code",
   "execution_count": 33,
   "metadata": {},
   "outputs": [],
   "source": [
    "# function to encode DOY as a cyclical feature\n",
    "def encode(data, col, max_val):\n",
    "    data[col + '_sin'] = np.sin(2 * np.pi * data[col]/max_val)\n",
    "    data[col + '_cos'] = np.cos(2 * np.pi * data[col]/max_val)\n",
    "    return data"
   ]
  },
  {
   "cell_type": "code",
   "execution_count": 34,
   "metadata": {
    "scrolled": true
   },
   "outputs": [
    {
     "name": "stderr",
     "output_type": "stream",
     "text": [
      "/Users/nahidmacbook/opt/anaconda3/lib/python3.7/site-packages/ipykernel_launcher.py:3: SettingWithCopyWarning: \n",
      "A value is trying to be set on a copy of a slice from a DataFrame.\n",
      "Try using .loc[row_indexer,col_indexer] = value instead\n",
      "\n",
      "See the caveats in the documentation: http://pandas.pydata.org/pandas-docs/stable/indexing.html#indexing-view-versus-copy\n",
      "  This is separate from the ipykernel package so we can avoid doing imports until\n",
      "/Users/nahidmacbook/opt/anaconda3/lib/python3.7/site-packages/ipykernel_launcher.py:4: SettingWithCopyWarning: \n",
      "A value is trying to be set on a copy of a slice from a DataFrame.\n",
      "Try using .loc[row_indexer,col_indexer] = value instead\n",
      "\n",
      "See the caveats in the documentation: http://pandas.pydata.org/pandas-docs/stable/indexing.html#indexing-view-versus-copy\n",
      "  after removing the cwd from sys.path.\n"
     ]
    }
   ],
   "source": [
    "# encode DOY of TargetDF and Main DF\n",
    "NASAFiresClusters20xx = encode(NASAFiresClusters20xx, 'DOY', 365)\n",
    "USDA_188MfireDf_20xx = encode(USDA_188MfireDf_20xx, 'DISCOVERY_DOY', 365)"
   ]
  },
  {
   "cell_type": "code",
   "execution_count": 35,
   "metadata": {},
   "outputs": [
    {
     "data": {
      "text/plain": [
       "[35.66861111, -94.28055556, 0.017213356155834685, 0.9998518392091162]"
      ]
     },
     "execution_count": 35,
     "metadata": {},
     "output_type": "execute_result"
    }
   ],
   "source": [
    "# USDA as the TargetDF\n",
    "places = []\n",
    "for index, row in USDA_188MfireDf_20xx.iterrows():\n",
    "    coordinates = [row['LATITUDE'], row['LONGITUDE'], row['DISCOVERY_DOY_sin'], row['DISCOVERY_DOY_cos']]\n",
    "    places.append(coordinates)\n",
    "\n",
    "tree = spatial.KDTree(places)\n",
    "places[1]"
   ]
  },
  {
   "cell_type": "code",
   "execution_count": 36,
   "metadata": {},
   "outputs": [],
   "source": [
    "# closest 4d coordinate from USDA to the 4d coordinate from NASA\n",
    "coordinates4D = []\n",
    "def find_firecluster(lat, lon, DOYsin, DOYcos):\n",
    "    coordinates4D = [lat, lon, DOYsin, DOYcos]\n",
    "    closest = tree.query([coordinates4D], p = 4)\n",
    "    index = closest[1][0]\n",
    "    return closest"
   ]
  },
  {
   "cell_type": "markdown",
   "metadata": {},
   "source": [
    "### <font color=\"#C71585\"> Function to locate Closest Coordinates and Pull data features from target DF to main DF </font>"
   ]
  },
  {
   "cell_type": "code",
   "execution_count": 37,
   "metadata": {},
   "outputs": [],
   "source": [
    " ### clusterdf will be panda dataframe that has cluster coordinates to cross-ref with the     \n",
    "def findclustermatch(clusterdf, targetdf):\n",
    "    clustertotargetdf = pd.DataFrame()\n",
    "    clustindexnum = 0\n",
    "    clustindexnum = int(clustindexnum)\n",
    "    while clustindexnum < len(clusterdf):\n",
    "        #capture data from target/cluster to then use to find target match in other dataframe:\n",
    "        clusteryear = clusterdf.iloc[clustindexnum]['year']\n",
    "        clustermonth = clusterdf.iloc[clustindexnum]['month']\n",
    "        clusterdoy = clusterdf.iloc[clustindexnum]['DOY']\n",
    "        clusterlat = clusterdf.iloc[clustindexnum]['latitude']\n",
    "        clusterlong = clusterdf.iloc[clustindexnum]['longitude']\n",
    "        clusterdoy_sin = clusterdf.iloc[clustindexnum]['DOY_sin']\n",
    "        clusterdoy_cos = clusterdf.iloc[clustindexnum]['DOY_cos']\n",
    "        clusterfrp = clusterdf.iloc[clustindexnum]['frp']\n",
    "        clusterbrightness = clusterdf.iloc[clustindexnum]['brightness']\n",
    "        \n",
    "        # Running cluster find function:\n",
    "        distance_location = find_firecluster(clusterlat, clusterlong, clusterdoy_sin, clusterdoy_cos)\n",
    "        targetlocation = distance_location[1]\n",
    "        targetlocation = int(targetlocation)\n",
    "        \n",
    "        #Lines to pull data from the target dataframe, will need to be customized to the target DF. \n",
    "        target_lat = targetdf.iloc[targetlocation]['LATITUDE']\n",
    "        target_long = targetdf.iloc[targetlocation]['LONGITUDE']\n",
    "        target_firename = targetdf.iloc[targetlocation]['FIRE_NAME']\n",
    "        target_firesize = targetdf.iloc[targetlocation]['FIRE_SIZE']\n",
    "        target_fireclass = targetdf.iloc[targetlocation]['FIRE_SIZE_CLASS']\n",
    "        target_year = targetdf.iloc[targetlocation]['FIRE_YEAR']\n",
    "        target_discdoy = targetdf.iloc[targetlocation]['DISCOVERY_DOY']\n",
    "        target_contdoy = targetdf.iloc[targetlocation]['CONT_DOY']\n",
    "        target_state = targetdf.iloc[targetlocation]['STATE']\n",
    "        \n",
    "        #adfsd\n",
    "        #'cluster_id': [clusterid], \n",
    "        cdftemp = pd.DataFrame({'cluster_index':[clustindexnum], 'clusteryear':[clusteryear], 'clusterdoy':[clusterdoy], 'clusterlat': [clusterlat], 'clusterlog': [clusterlong], 'clusterfrp': [clusterfrp], 'clusterbrightness': [clusterbrightness], 'clustermonth': [clustermonth], \n",
    "                                'distance': distance_location[0], 'resultrow': distance_location[1], 'targetlat':[target_lat], 'targetlong':[target_long], 'firename':[target_firename],\n",
    "                                'firesize':[target_firesize], 'fireclass':[target_fireclass],'fire_year':[target_year], 'discovery_doy': [target_discdoy], 'contain_doy': [target_contdoy], 'state': [target_state]})\n",
    "        \n",
    "        clustertotargetdf = clustertotargetdf.append(cdftemp, ignore_index = True)\n",
    "        clustindexnum = clustindexnum + 1\n",
    "    return clustertotargetdf"
   ]
  },
  {
   "cell_type": "code",
   "execution_count": 38,
   "metadata": {},
   "outputs": [],
   "source": [
    "cluster_targetmatch = findclustermatch(NASAFiresClusters20xx,USDA_188MfireDf_20xx)\n",
    "# cluster_targetmatch.sort_values(by='discovery_doy')"
   ]
  },
  {
   "cell_type": "code",
   "execution_count": 16,
   "metadata": {
    "scrolled": true
   },
   "outputs": [],
   "source": [
    "# Get the count of instances where the doys are exact matches:\n",
    "cluster_targetmatch = cluster_targetmatch[(cluster_targetmatch['discovery_doy'] - cluster_targetmatch['clusterdoy']).abs() < 8]"
   ]
  },
  {
   "cell_type": "markdown",
   "metadata": {},
   "source": [
    "### <font color=\"#C71585\"> Write data back to disk </font>"
   ]
  },
  {
   "cell_type": "code",
   "execution_count": 17,
   "metadata": {},
   "outputs": [],
   "source": [
    "# if file does not exist write header \n",
    "if not os.path.isfile('/Users/nahidmacbook/Documents/DataScience/Data-Wildfire/ConnectedNASA-USDA.csv'):\n",
    "   cluster_targetmatch.to_csv('/Users/nahidmacbook/Documents/DataScience/Data-Wildfire/ConnectedNASA-USDA.csv', header='column_names')\n",
    "else: # else it exists so append without writing the header\n",
    "   cluster_targetmatch.to_csv('/Users/nahidmacbook/Documents/DataScience/Data-Wildfire/ConnectedNASA-USDA.csv', mode='a', header=False)"
   ]
  },
  {
   "cell_type": "code",
   "execution_count": 19,
   "metadata": {},
   "outputs": [],
   "source": [
    "ToGroup = pd.read_csv('/Users/nahidmacbook/Documents/DataScience/Data-Wildfire/ConnectedNASA-USDA.csv')"
   ]
  },
  {
   "cell_type": "code",
   "execution_count": 20,
   "metadata": {},
   "outputs": [],
   "source": [
    "# Group Data by State\n",
    "GroupedDf = ToGroup.groupby(['state']).mean()"
   ]
  },
  {
   "cell_type": "code",
   "execution_count": 22,
   "metadata": {},
   "outputs": [],
   "source": [
    "GroupedDf.to_csv('/Users/nahidmacbook/Documents/DataScience/Data-Wildfire/GroupedConnectedNASA-USDA.csv', encoding='utf-8')"
   ]
  },
  {
   "cell_type": "code",
   "execution_count": null,
   "metadata": {},
   "outputs": [],
   "source": []
  }
 ],
 "metadata": {
  "kernelspec": {
   "display_name": "Python 3",
   "language": "python",
   "name": "python3"
  },
  "language_info": {
   "codemirror_mode": {
    "name": "ipython",
    "version": 3
   },
   "file_extension": ".py",
   "mimetype": "text/x-python",
   "name": "python",
   "nbconvert_exporter": "python",
   "pygments_lexer": "ipython3",
   "version": "3.7.4"
  }
 },
 "nbformat": 4,
 "nbformat_minor": 2
}

{
 "cells": [
  {
   "cell_type": "markdown",
   "metadata": {},
   "source": [
    "## DarkSky API pull for fire post clustered data\n",
    "### Main columns needed are latitude, longitude, datetime"
   ]
  },
  {
   "cell_type": "code",
   "execution_count": 50,
   "metadata": {},
   "outputs": [],
   "source": [
    "import pandas as pd\n",
    "import datetime\n",
    "import numpy as np\n",
    "\n",
    "import config\n",
    "\n",
    "from darksky import forecast\n",
    "from datetime import datetime as dt\n",
    "from datetime import timedelta\n",
    "from datetime import date\n",
    "from sqlalchemy import create_engine"
   ]
  },
  {
   "cell_type": "code",
   "execution_count": 51,
   "metadata": {},
   "outputs": [],
   "source": [
    "# create sqlalchemy engine\n",
    "engine = create_engine(\"mysql+mysqlconnector://{user}:{password}@{host}/{dbname}\"\n",
    "                       .format(user=config.db_user,\n",
    "                               password=config.db_pass,\n",
    "                               dbname=config.db_name,\n",
    "                               host=config.db_host))"
   ]
  },
  {
   "cell_type": "code",
   "execution_count": 52,
   "metadata": {},
   "outputs": [],
   "source": [
    "RAPIDAPI_KEY  = config.darksky_api1\n",
    "RAPIDAPI_KEY2  = config.darksky_api2"
   ]
  },
  {
   "cell_type": "code",
   "execution_count": 53,
   "metadata": {},
   "outputs": [],
   "source": [
    "def weather_lookup(df, key=RAPIDAPI_KEY, days_before=0, days_after=0):\n",
    "    data = []\n",
    "    for index, row in df.iterrows():\n",
    "        ts = row['datetime'].isoformat() \n",
    "        lat = row['latitude']\n",
    "        lon = row['longitude']\n",
    "        weather = forecast(key, lat, lon, time=ts)\n",
    "        w_dict = weather['currently']\n",
    "        w_dict['timestamp'] = ts\n",
    "        w_dict['latitude'] = lat\n",
    "        w_dict['longitude'] = lon\n",
    "        data.append(w_dict)\n",
    "    return data\n"
   ]
  },
  {
   "cell_type": "code",
   "execution_count": 97,
   "metadata": {},
   "outputs": [],
   "source": [
    "filename = \"fire_lat_lon_data/Emissions2015_DBScan_Clusters.csv\""
   ]
  },
  {
   "cell_type": "code",
   "execution_count": 98,
   "metadata": {},
   "outputs": [],
   "source": [
    "firedata = pd.read_csv(filename)"
   ]
  },
  {
   "cell_type": "code",
   "execution_count": 99,
   "metadata": {},
   "outputs": [],
   "source": [
    "firedata['datetime'] = (pd.to_datetime(firedata.year, format='%Y') + \n",
    "                       firedata['doy'].apply(np.ceil).apply(\n",
    "                           lambda x: pd.Timedelta(x, unit='D')) + timedelta(hours=12))"
   ]
  },
  {
   "cell_type": "code",
   "execution_count": 100,
   "metadata": {},
   "outputs": [
    {
     "name": "stdout",
     "output_type": "stream",
     "text": [
      "<class 'pandas.core.frame.DataFrame'>\n",
      "RangeIndex: 8588 entries, 0 to 8587\n",
      "Data columns (total 24 columns):\n",
      "Unnamed: 0             8588 non-null int64\n",
      "id                     8588 non-null float64\n",
      "year                   8588 non-null float64\n",
      "doy                    8588 non-null float64\n",
      "longitude              8588 non-null float64\n",
      "latitude               8588 non-null float64\n",
      "grid10k                8588 non-null float64\n",
      "covertype              8588 non-null float64\n",
      "fuelcode               8588 non-null float64\n",
      "area_burned            8588 non-null float64\n",
      "prefire_fuel           8588 non-null float64\n",
      "consumed_fuel          8588 non-null float64\n",
      "ECO2                   8588 non-null float64\n",
      "ECO                    8588 non-null float64\n",
      "ECH4                   8588 non-null float64\n",
      "EPM2.5                 8588 non-null float64\n",
      "cwd_frac               8588 non-null float64\n",
      "duff_frac              8588 non-null float64\n",
      "fuel_moisture_class    8588 non-null float64\n",
      "burn_source            8588 non-null float64\n",
      "burnday_source         8588 non-null float64\n",
      "BSEV                   8588 non-null float64\n",
      "BSEV_flag              8588 non-null float64\n",
      "datetime               8588 non-null datetime64[ns]\n",
      "dtypes: datetime64[ns](1), float64(22), int64(1)\n",
      "memory usage: 1.6 MB\n"
     ]
    }
   ],
   "source": [
    "firedata.info()"
   ]
  },
  {
   "cell_type": "code",
   "execution_count": 101,
   "metadata": {},
   "outputs": [],
   "source": [
    "firedata1000 = firedata[:]"
   ]
  },
  {
   "cell_type": "code",
   "execution_count": 102,
   "metadata": {},
   "outputs": [],
   "source": [
    "firedata2000 = firedata[1000:2000]"
   ]
  },
  {
   "cell_type": "code",
   "execution_count": 103,
   "metadata": {},
   "outputs": [],
   "source": [
    "firedata3000 = firedata[2000:]"
   ]
  },
  {
   "cell_type": "code",
   "execution_count": 104,
   "metadata": {},
   "outputs": [
    {
     "data": {
      "text/html": [
       "<div>\n",
       "<style scoped>\n",
       "    .dataframe tbody tr th:only-of-type {\n",
       "        vertical-align: middle;\n",
       "    }\n",
       "\n",
       "    .dataframe tbody tr th {\n",
       "        vertical-align: top;\n",
       "    }\n",
       "\n",
       "    .dataframe thead th {\n",
       "        text-align: right;\n",
       "    }\n",
       "</style>\n",
       "<table border=\"1\" class=\"dataframe\">\n",
       "  <thead>\n",
       "    <tr style=\"text-align: right;\">\n",
       "      <th></th>\n",
       "      <th>apparentTemperature</th>\n",
       "      <th>cloudCover</th>\n",
       "      <th>dewPoint</th>\n",
       "      <th>humidity</th>\n",
       "      <th>icon</th>\n",
       "      <th>latitude</th>\n",
       "      <th>longitude</th>\n",
       "      <th>precipAccumulation</th>\n",
       "      <th>precipIntensity</th>\n",
       "      <th>precipProbability</th>\n",
       "      <th>...</th>\n",
       "      <th>pressure</th>\n",
       "      <th>summary</th>\n",
       "      <th>temperature</th>\n",
       "      <th>time</th>\n",
       "      <th>timestamp</th>\n",
       "      <th>uvIndex</th>\n",
       "      <th>visibility</th>\n",
       "      <th>windBearing</th>\n",
       "      <th>windGust</th>\n",
       "      <th>windSpeed</th>\n",
       "    </tr>\n",
       "  </thead>\n",
       "  <tbody>\n",
       "    <tr>\n",
       "      <td>0</td>\n",
       "      <td>68.24</td>\n",
       "      <td>0.0</td>\n",
       "      <td>59.88</td>\n",
       "      <td>0.75</td>\n",
       "      <td>clear-day</td>\n",
       "      <td>48.7142</td>\n",
       "      <td>-121.9806</td>\n",
       "      <td>NaN</td>\n",
       "      <td>0.0000</td>\n",
       "      <td>0.0</td>\n",
       "      <td>...</td>\n",
       "      <td>1018.9</td>\n",
       "      <td>Clear</td>\n",
       "      <td>68.21</td>\n",
       "      <td>1405450800</td>\n",
       "      <td>2014-07-15T12:00:00</td>\n",
       "      <td>9.0</td>\n",
       "      <td>10.000</td>\n",
       "      <td>209.0</td>\n",
       "      <td>2.44</td>\n",
       "      <td>2.17</td>\n",
       "    </tr>\n",
       "    <tr>\n",
       "      <td>1</td>\n",
       "      <td>53.56</td>\n",
       "      <td>NaN</td>\n",
       "      <td>53.43</td>\n",
       "      <td>1.00</td>\n",
       "      <td>NaN</td>\n",
       "      <td>48.9251</td>\n",
       "      <td>-120.4474</td>\n",
       "      <td>NaN</td>\n",
       "      <td>0.0116</td>\n",
       "      <td>0.2</td>\n",
       "      <td>...</td>\n",
       "      <td>NaN</td>\n",
       "      <td>NaN</td>\n",
       "      <td>53.43</td>\n",
       "      <td>1407956400</td>\n",
       "      <td>2014-08-13T12:00:00</td>\n",
       "      <td>NaN</td>\n",
       "      <td>NaN</td>\n",
       "      <td>175.0</td>\n",
       "      <td>6.62</td>\n",
       "      <td>2.29</td>\n",
       "    </tr>\n",
       "    <tr>\n",
       "      <td>2</td>\n",
       "      <td>63.40</td>\n",
       "      <td>0.0</td>\n",
       "      <td>52.90</td>\n",
       "      <td>0.69</td>\n",
       "      <td>clear-day</td>\n",
       "      <td>48.1125</td>\n",
       "      <td>-124.6477</td>\n",
       "      <td>NaN</td>\n",
       "      <td>0.0000</td>\n",
       "      <td>0.0</td>\n",
       "      <td>...</td>\n",
       "      <td>1022.2</td>\n",
       "      <td>Clear</td>\n",
       "      <td>63.40</td>\n",
       "      <td>1407610800</td>\n",
       "      <td>2014-08-09T12:00:00</td>\n",
       "      <td>7.0</td>\n",
       "      <td>7.995</td>\n",
       "      <td>300.0</td>\n",
       "      <td>9.14</td>\n",
       "      <td>6.10</td>\n",
       "    </tr>\n",
       "    <tr>\n",
       "      <td>3</td>\n",
       "      <td>64.03</td>\n",
       "      <td>NaN</td>\n",
       "      <td>62.75</td>\n",
       "      <td>0.98</td>\n",
       "      <td>NaN</td>\n",
       "      <td>48.6051</td>\n",
       "      <td>-121.5700</td>\n",
       "      <td>NaN</td>\n",
       "      <td>0.0000</td>\n",
       "      <td>0.0</td>\n",
       "      <td>...</td>\n",
       "      <td>NaN</td>\n",
       "      <td>NaN</td>\n",
       "      <td>63.40</td>\n",
       "      <td>1407870000</td>\n",
       "      <td>2014-08-12T12:00:00</td>\n",
       "      <td>NaN</td>\n",
       "      <td>NaN</td>\n",
       "      <td>43.0</td>\n",
       "      <td>3.59</td>\n",
       "      <td>1.33</td>\n",
       "    </tr>\n",
       "    <tr>\n",
       "      <td>4</td>\n",
       "      <td>69.67</td>\n",
       "      <td>NaN</td>\n",
       "      <td>39.74</td>\n",
       "      <td>0.34</td>\n",
       "      <td>NaN</td>\n",
       "      <td>48.7550</td>\n",
       "      <td>-120.2527</td>\n",
       "      <td>NaN</td>\n",
       "      <td>0.0000</td>\n",
       "      <td>0.0</td>\n",
       "      <td>...</td>\n",
       "      <td>NaN</td>\n",
       "      <td>NaN</td>\n",
       "      <td>69.67</td>\n",
       "      <td>1407351600</td>\n",
       "      <td>2014-08-06T12:00:00</td>\n",
       "      <td>NaN</td>\n",
       "      <td>NaN</td>\n",
       "      <td>316.0</td>\n",
       "      <td>9.94</td>\n",
       "      <td>3.89</td>\n",
       "    </tr>\n",
       "  </tbody>\n",
       "</table>\n",
       "<p>5 rows × 21 columns</p>\n",
       "</div>"
      ],
      "text/plain": [
       "   apparentTemperature  cloudCover  dewPoint  humidity       icon  latitude  \\\n",
       "0                68.24         0.0     59.88      0.75  clear-day   48.7142   \n",
       "1                53.56         NaN     53.43      1.00        NaN   48.9251   \n",
       "2                63.40         0.0     52.90      0.69  clear-day   48.1125   \n",
       "3                64.03         NaN     62.75      0.98        NaN   48.6051   \n",
       "4                69.67         NaN     39.74      0.34        NaN   48.7550   \n",
       "\n",
       "   longitude  precipAccumulation  precipIntensity  precipProbability  ...  \\\n",
       "0  -121.9806                 NaN           0.0000                0.0  ...   \n",
       "1  -120.4474                 NaN           0.0116                0.2  ...   \n",
       "2  -124.6477                 NaN           0.0000                0.0  ...   \n",
       "3  -121.5700                 NaN           0.0000                0.0  ...   \n",
       "4  -120.2527                 NaN           0.0000                0.0  ...   \n",
       "\n",
       "  pressure  summary temperature        time            timestamp uvIndex  \\\n",
       "0   1018.9    Clear       68.21  1405450800  2014-07-15T12:00:00     9.0   \n",
       "1      NaN      NaN       53.43  1407956400  2014-08-13T12:00:00     NaN   \n",
       "2   1022.2    Clear       63.40  1407610800  2014-08-09T12:00:00     7.0   \n",
       "3      NaN      NaN       63.40  1407870000  2014-08-12T12:00:00     NaN   \n",
       "4      NaN      NaN       69.67  1407351600  2014-08-06T12:00:00     NaN   \n",
       "\n",
       "   visibility  windBearing  windGust  windSpeed  \n",
       "0      10.000        209.0      2.44       2.17  \n",
       "1         NaN        175.0      6.62       2.29  \n",
       "2       7.995        300.0      9.14       6.10  \n",
       "3         NaN         43.0      3.59       1.33  \n",
       "4         NaN        316.0      9.94       3.89  \n",
       "\n",
       "[5 rows x 21 columns]"
      ]
     },
     "execution_count": 104,
     "metadata": {},
     "output_type": "execute_result"
    }
   ],
   "source": [
    "weather_df1.head()"
   ]
  },
  {
   "cell_type": "code",
   "execution_count": 105,
   "metadata": {
    "scrolled": true
   },
   "outputs": [],
   "source": [
    "weather_df1 = pd.DataFrame(weather_lookup(firedata1000,RAPIDAPI_KEY))"
   ]
  },
  {
   "cell_type": "code",
   "execution_count": 106,
   "metadata": {},
   "outputs": [],
   "source": [
    "#weather_df2 = pd.DataFrame(weather_lookup(firedata4000,RAPIDAPI_KEY2))"
   ]
  },
  {
   "cell_type": "code",
   "execution_count": 107,
   "metadata": {},
   "outputs": [],
   "source": [
    "db_columns = ['apparentTemperature', 'cloudCover', 'dewPoint',\n",
    "       'humidity', 'icon', 'latitude', 'longitude', 'precipAccumulation',\n",
    "       'precipIntensity', 'precipProbability', 'precipType', 'pressure',\n",
    "       'summary', 'temperature', 'time', 'timestamp', 'uvIndex', 'visibility',\n",
    "       'windBearing', 'windGust', 'windSpeed']"
   ]
  },
  {
   "cell_type": "code",
   "execution_count": 108,
   "metadata": {},
   "outputs": [],
   "source": [
    "weather_df1 = weather_df1[db_columns]"
   ]
  },
  {
   "cell_type": "code",
   "execution_count": 109,
   "metadata": {},
   "outputs": [],
   "source": [
    "#weather_df2 = weather_df2[db_columns]"
   ]
  },
  {
   "cell_type": "code",
   "execution_count": 111,
   "metadata": {},
   "outputs": [],
   "source": [
    "weather_df1.to_sql('weather_loading', con = engine, if_exists = 'append', chunksize = 100000)"
   ]
  },
  {
   "cell_type": "code",
   "execution_count": 112,
   "metadata": {},
   "outputs": [],
   "source": [
    "#weather_df2.to_sql('weather_loading', con = engine, if_exists = 'append', chunksize = 100000)"
   ]
  },
  {
   "cell_type": "code",
   "execution_count": 113,
   "metadata": {},
   "outputs": [],
   "source": [
    "query = \"\"\"SELECT * FROM weather_loading;\n",
    "\"\"\""
   ]
  },
  {
   "cell_type": "code",
   "execution_count": 114,
   "metadata": {},
   "outputs": [],
   "source": [
    "weather_all_sql = pd.read_sql(query, engine)"
   ]
  },
  {
   "cell_type": "code",
   "execution_count": 115,
   "metadata": {},
   "outputs": [],
   "source": [
    "#weather_all_sql = weather_all_sql.reset_index()[db_columns]"
   ]
  },
  {
   "cell_type": "code",
   "execution_count": 116,
   "metadata": {},
   "outputs": [],
   "source": [
    "#weather_all_sql.to_sql('weather_loading', con = engine, if_exists = 'replace', chunksize = 100000)"
   ]
  },
  {
   "cell_type": "code",
   "execution_count": 117,
   "metadata": {},
   "outputs": [],
   "source": [
    "weather_all_sql.to_csv('weather_80000.csv')"
   ]
  },
  {
   "cell_type": "code",
   "execution_count": 118,
   "metadata": {},
   "outputs": [
    {
     "name": "stdout",
     "output_type": "stream",
     "text": [
      "<class 'pandas.core.frame.DataFrame'>\n",
      "RangeIndex: 79283 entries, 0 to 79282\n",
      "Data columns (total 22 columns):\n",
      "index                  79283 non-null int64\n",
      "apparentTemperature    78565 non-null float64\n",
      "cloudCover             63486 non-null float64\n",
      "dewPoint               78182 non-null float64\n",
      "humidity               78167 non-null float64\n",
      "icon                   63545 non-null object\n",
      "latitude               79283 non-null float64\n",
      "longitude              79283 non-null float64\n",
      "precipAccumulation     409 non-null float64\n",
      "precipIntensity        76491 non-null float64\n",
      "precipProbability      76491 non-null float64\n",
      "precipType             9021 non-null object\n",
      "pressure               47953 non-null float64\n",
      "summary                64018 non-null object\n",
      "temperature            78565 non-null float64\n",
      "time                   79283 non-null int64\n",
      "timestamp              79283 non-null object\n",
      "uvIndex                63486 non-null float64\n",
      "visibility             65172 non-null float64\n",
      "windBearing            77722 non-null float64\n",
      "windGust               75309 non-null float64\n",
      "windSpeed              78259 non-null float64\n",
      "dtypes: float64(16), int64(2), object(4)\n",
      "memory usage: 13.3+ MB\n"
     ]
    }
   ],
   "source": [
    "weather_all_sql.info()"
   ]
  },
  {
   "cell_type": "code",
   "execution_count": 119,
   "metadata": {},
   "outputs": [
    {
     "name": "stdout",
     "output_type": "stream",
     "text": [
      "<class 'pandas.core.frame.DataFrame'>\n",
      "RangeIndex: 8588 entries, 0 to 8587\n",
      "Data columns (total 21 columns):\n",
      "apparentTemperature    8561 non-null float64\n",
      "cloudCover             7240 non-null float64\n",
      "dewPoint               8532 non-null float64\n",
      "humidity               8529 non-null float64\n",
      "icon                   7367 non-null object\n",
      "latitude               8588 non-null float64\n",
      "longitude              8588 non-null float64\n",
      "precipAccumulation     38 non-null float64\n",
      "precipIntensity        8248 non-null float64\n",
      "precipProbability      8248 non-null float64\n",
      "precipType             878 non-null object\n",
      "pressure               5390 non-null float64\n",
      "summary                7425 non-null object\n",
      "temperature            8561 non-null float64\n",
      "time                   8588 non-null int64\n",
      "timestamp              8588 non-null object\n",
      "uvIndex                7240 non-null float64\n",
      "visibility             7420 non-null float64\n",
      "windBearing            8494 non-null float64\n",
      "windGust               8287 non-null float64\n",
      "windSpeed              8535 non-null float64\n",
      "dtypes: float64(16), int64(1), object(4)\n",
      "memory usage: 1.4+ MB\n"
     ]
    }
   ],
   "source": [
    "weather_df1.info()"
   ]
  },
  {
   "cell_type": "code",
   "execution_count": null,
   "metadata": {},
   "outputs": [],
   "source": []
  }
 ],
 "metadata": {
  "kernelspec": {
   "display_name": "Python 3",
   "language": "python",
   "name": "python3"
  },
  "language_info": {
   "codemirror_mode": {
    "name": "ipython",
    "version": 3
   },
   "file_extension": ".py",
   "mimetype": "text/x-python",
   "name": "python",
   "nbconvert_exporter": "python",
   "pygments_lexer": "ipython3",
   "version": "3.7.4"
  }
 },
 "nbformat": 4,
 "nbformat_minor": 4
}

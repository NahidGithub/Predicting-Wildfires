{
 "cells": [
  {
   "cell_type": "markdown",
   "metadata": {},
   "source": [
    "## DarkSky API pull for fire post clustered data\n",
    "### Main columns needed are latitude, longitude, datetime"
   ]
  },
  {
   "cell_type": "code",
   "execution_count": 49,
   "metadata": {},
   "outputs": [],
   "source": [
    "import pandas as pd\n",
    "import datetime\n",
    "import numpy as np\n",
    "\n",
    "import config\n",
    "\n",
    "from darksky import forecast\n",
    "from datetime import datetime as dt\n",
    "from datetime import timedelta\n",
    "from datetime import date\n",
    "from sqlalchemy import create_engine"
   ]
  },
  {
   "cell_type": "code",
   "execution_count": 50,
   "metadata": {},
   "outputs": [],
   "source": [
    "# create sqlalchemy engine\n",
    "engine = create_engine(\"mysql+mysqlconnector://{user}:{password}@{host}/{dbname}\"\n",
    "                       .format(user=config.db_user,\n",
    "                               password=config.db_pass,\n",
    "                               dbname=config.db_name,\n",
    "                               host=config.db_host))"
   ]
  },
  {
   "cell_type": "code",
   "execution_count": null,
   "metadata": {},
   "outputs": [],
   "source": []
  },
  {
   "cell_type": "code",
   "execution_count": 19,
   "metadata": {},
   "outputs": [],
   "source": [
    "RAPIDAPI_KEY  = config.darksky_api1\n",
    "RAPIDAPI_KEY2  = config.darksky_api2"
   ]
  },
  {
   "cell_type": "code",
   "execution_count": 20,
   "metadata": {},
   "outputs": [],
   "source": [
    "def weather_lookup(df, key=RAPIDAPI_KEY, days_before=0, days_after=0):\n",
    "    data = []\n",
    "    for index, row in df.iterrows():\n",
    "        ts = row['datetime'].isoformat() \n",
    "        lat = row['latitude']\n",
    "        lon = row['longitude']\n",
    "        weather = forecast(key, lat, lon, time=ts)\n",
    "        w_dict = weather['currently']\n",
    "        w_dict['timestamp'] = ts\n",
    "        w_dict['latitude'] = lat\n",
    "        w_dict['longitude'] = lon\n",
    "        data.append(w_dict)\n",
    "    return data\n"
   ]
  },
  {
   "cell_type": "code",
   "execution_count": 21,
   "metadata": {},
   "outputs": [],
   "source": [
    "filename = \"fire_lat_lon_data/Emissions2008_DBScan_Clusters.csv\""
   ]
  },
  {
   "cell_type": "code",
   "execution_count": 22,
   "metadata": {},
   "outputs": [],
   "source": [
    "firedata = pd.read_csv(filename)"
   ]
  },
  {
   "cell_type": "code",
   "execution_count": 23,
   "metadata": {},
   "outputs": [],
   "source": [
    "firedata['datetime'] = (pd.to_datetime(firedata.year, format='%Y') + \n",
    "                       firedata['doy'].apply(np.ceil).apply(\n",
    "                           lambda x: pd.Timedelta(x, unit='D')) + timedelta(hours=12))"
   ]
  },
  {
   "cell_type": "code",
   "execution_count": 24,
   "metadata": {},
   "outputs": [
    {
     "name": "stdout",
     "output_type": "stream",
     "text": [
      "<class 'pandas.core.frame.DataFrame'>\n",
      "RangeIndex: 9264 entries, 0 to 9263\n",
      "Data columns (total 24 columns):\n",
      "Unnamed: 0             9264 non-null int64\n",
      "id                     9264 non-null float64\n",
      "year                   9264 non-null float64\n",
      "doy                    9264 non-null float64\n",
      "longitude              9264 non-null float64\n",
      "latitude               9264 non-null float64\n",
      "grid10k                9264 non-null float64\n",
      "covertype              9264 non-null float64\n",
      "fuelcode               9264 non-null float64\n",
      "area_burned            9264 non-null float64\n",
      "prefire_fuel           9264 non-null float64\n",
      "consumed_fuel          9264 non-null float64\n",
      "ECO2                   9264 non-null float64\n",
      "ECO                    9264 non-null float64\n",
      "ECH4                   9264 non-null float64\n",
      "EPM2.5                 9264 non-null float64\n",
      "cwd_frac               9264 non-null float64\n",
      "duff_frac              9264 non-null float64\n",
      "fuel_moisture_class    9264 non-null float64\n",
      "burn_source            9264 non-null float64\n",
      "burnday_source         9264 non-null float64\n",
      "BSEV                   9264 non-null float64\n",
      "BSEV_flag              9264 non-null float64\n",
      "datetime               9264 non-null datetime64[ns]\n",
      "dtypes: datetime64[ns](1), float64(22), int64(1)\n",
      "memory usage: 1.7 MB\n"
     ]
    }
   ],
   "source": [
    "firedata.info()"
   ]
  },
  {
   "cell_type": "code",
   "execution_count": 25,
   "metadata": {},
   "outputs": [],
   "source": [
    "firedata1000 = firedata[0:1000]"
   ]
  },
  {
   "cell_type": "code",
   "execution_count": 26,
   "metadata": {},
   "outputs": [],
   "source": [
    "firedata2000 = firedata[1000:2000]"
   ]
  },
  {
   "cell_type": "code",
   "execution_count": 27,
   "metadata": {},
   "outputs": [],
   "source": [
    "firedata3000 = firedata[2000:3000]"
   ]
  },
  {
   "cell_type": "code",
   "execution_count": 28,
   "metadata": {},
   "outputs": [],
   "source": [
    "firedata4000 = firedata[3000:4000]"
   ]
  },
  {
   "cell_type": "code",
   "execution_count": 29,
   "metadata": {},
   "outputs": [],
   "source": [
    "firedata5000 = firedata[4000:5000]"
   ]
  },
  {
   "cell_type": "code",
   "execution_count": 32,
   "metadata": {},
   "outputs": [],
   "source": [
    "weather_df1 = pd.DataFrame(weather_lookup(firedata1000,RAPIDAPI_KEY))\n",
    "weather_df2 = pd.DataFrame(weather_lookup(firedata2000,RAPIDAPI_KEY2))"
   ]
  },
  {
   "cell_type": "code",
   "execution_count": 59,
   "metadata": {},
   "outputs": [],
   "source": [
    "db_columns = ['apparentTemperature', 'cloudCover', 'dewPoint',\n",
    "       'humidity', 'icon', 'latitude', 'longitude', 'precipAccumulation',\n",
    "       'precipIntensity', 'precipProbability', 'precipType', 'pressure',\n",
    "       'summary', 'temperature', 'time', 'timestamp', 'uvIndex', 'visibility',\n",
    "       'windBearing', 'windGust', 'windSpeed']"
   ]
  },
  {
   "cell_type": "code",
   "execution_count": 61,
   "metadata": {},
   "outputs": [],
   "source": [
    "weather_df1 = weather_df1[db_columns]"
   ]
  },
  {
   "cell_type": "code",
   "execution_count": 63,
   "metadata": {},
   "outputs": [],
   "source": [
    "weather_df2 = weather_df2[db_columns]"
   ]
  },
  {
   "cell_type": "code",
   "execution_count": 58,
   "metadata": {},
   "outputs": [],
   "source": [
    "weather_df1.to_sql('weather_loading', con = engine, if_exists = 'append', chunksize = 100000)"
   ]
  },
  {
   "cell_type": "code",
   "execution_count": null,
   "metadata": {},
   "outputs": [],
   "source": [
    "weather_df2.to_sql('weather_loading', con = engine, if_exists = 'append', chunksize = 100000)"
   ]
  }
 ],
 "metadata": {
  "kernelspec": {
   "display_name": "Python 3",
   "language": "python",
   "name": "python3"
  },
  "language_info": {
   "codemirror_mode": {
    "name": "ipython",
    "version": 3
   },
   "file_extension": ".py",
   "mimetype": "text/x-python",
   "name": "python",
   "nbconvert_exporter": "python",
   "pygments_lexer": "ipython3",
   "version": "3.7.4"
  }
 },
 "nbformat": 4,
 "nbformat_minor": 4
}

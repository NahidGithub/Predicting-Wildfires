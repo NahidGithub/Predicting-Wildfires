{
 "cells": [
  {
   "cell_type": "markdown",
   "metadata": {},
   "source": [
    "## DarkSky API pull for fire post clustered data\n",
    "### Main columns needed are latitude, longitude, datetime"
   ]
  },
  {
   "cell_type": "code",
   "execution_count": 47,
   "metadata": {},
   "outputs": [],
   "source": [
    "import pandas as pd\n",
    "import datetime\n",
    "import numpy as np\n",
    "\n",
    "import config\n",
    "\n",
    "from darksky import forecast\n",
    "from datetime import datetime as dt\n",
    "from datetime import timedelta\n",
    "from datetime import date\n",
    "from sqlalchemy import create_engine"
   ]
  },
  {
   "cell_type": "code",
   "execution_count": 48,
   "metadata": {},
   "outputs": [],
   "source": [
    "# create sqlalchemy engine\n",
    "engine = create_engine(\"mysql+mysqlconnector://{user}:{password}@{host}/{dbname}\"\n",
    "                       .format(user=config.db_user,\n",
    "                               password=config.db_pass,\n",
    "                               dbname=config.db_name,\n",
    "                               host=config.db_host))"
   ]
  },
  {
   "cell_type": "code",
   "execution_count": 49,
   "metadata": {},
   "outputs": [],
   "source": [
    "RAPIDAPI_KEY  = config.darksky_api1\n",
    "RAPIDAPI_KEY2  = config.darksky_api2"
   ]
  },
  {
   "cell_type": "code",
   "execution_count": 50,
   "metadata": {},
   "outputs": [],
   "source": [
    "def weather_lookup(df, key=RAPIDAPI_KEY, days_before=0, days_after=0):\n",
    "    data = []\n",
    "    for index, row in df.iterrows():\n",
    "        ts = row['datetime'].isoformat() \n",
    "        lat = row['latitude']\n",
    "        lon = row['longitude']\n",
    "        weather = forecast(key, lat, lon, time=ts)\n",
    "        w_dict = weather['currently']\n",
    "        w_dict['timestamp'] = ts\n",
    "        w_dict['latitude'] = lat\n",
    "        w_dict['longitude'] = lon\n",
    "        data.append(w_dict)\n",
    "    return data\n"
   ]
  },
  {
   "cell_type": "code",
   "execution_count": 51,
   "metadata": {},
   "outputs": [],
   "source": [
    "filename = \"fire_lat_lon_data/Emissions2010_DBScan_Clusters.csv\""
   ]
  },
  {
   "cell_type": "code",
   "execution_count": 52,
   "metadata": {},
   "outputs": [],
   "source": [
    "firedata = pd.read_csv(filename)"
   ]
  },
  {
   "cell_type": "code",
   "execution_count": 53,
   "metadata": {},
   "outputs": [],
   "source": [
    "firedata['datetime'] = (pd.to_datetime(firedata.year, format='%Y') + \n",
    "                       firedata['doy'].apply(np.ceil).apply(\n",
    "                           lambda x: pd.Timedelta(x, unit='D')) + timedelta(hours=12))"
   ]
  },
  {
   "cell_type": "code",
   "execution_count": 54,
   "metadata": {},
   "outputs": [
    {
     "name": "stdout",
     "output_type": "stream",
     "text": [
      "<class 'pandas.core.frame.DataFrame'>\n",
      "RangeIndex: 8237 entries, 0 to 8236\n",
      "Data columns (total 24 columns):\n",
      "Unnamed: 0             8237 non-null int64\n",
      "id                     8237 non-null float64\n",
      "year                   8237 non-null float64\n",
      "doy                    8237 non-null float64\n",
      "longitude              8237 non-null float64\n",
      "latitude               8237 non-null float64\n",
      "grid10k                8237 non-null float64\n",
      "covertype              8237 non-null float64\n",
      "fuelcode               8237 non-null float64\n",
      "area_burned            8237 non-null float64\n",
      "prefire_fuel           8237 non-null float64\n",
      "consumed_fuel          8237 non-null float64\n",
      "ECO2                   8237 non-null float64\n",
      "ECO                    8237 non-null float64\n",
      "ECH4                   8237 non-null float64\n",
      "EPM2.5                 8237 non-null float64\n",
      "cwd_frac               8237 non-null float64\n",
      "duff_frac              8237 non-null float64\n",
      "fuel_moisture_class    8237 non-null float64\n",
      "burn_source            8237 non-null float64\n",
      "burnday_source         8237 non-null float64\n",
      "BSEV                   8237 non-null float64\n",
      "BSEV_flag              8237 non-null float64\n",
      "datetime               8237 non-null datetime64[ns]\n",
      "dtypes: datetime64[ns](1), float64(22), int64(1)\n",
      "memory usage: 1.5 MB\n"
     ]
    }
   ],
   "source": [
    "firedata.info()"
   ]
  },
  {
   "cell_type": "code",
   "execution_count": 55,
   "metadata": {},
   "outputs": [],
   "source": [
    "firedata1000 = firedata[:]"
   ]
  },
  {
   "cell_type": "code",
   "execution_count": 10,
   "metadata": {},
   "outputs": [],
   "source": [
    "firedata2000 = firedata[1000:2000]"
   ]
  },
  {
   "cell_type": "code",
   "execution_count": 15,
   "metadata": {},
   "outputs": [],
   "source": [
    "firedata3000 = firedata[2000:]"
   ]
  },
  {
   "cell_type": "code",
   "execution_count": 56,
   "metadata": {},
   "outputs": [
    {
     "data": {
      "text/html": [
       "<div>\n",
       "<style scoped>\n",
       "    .dataframe tbody tr th:only-of-type {\n",
       "        vertical-align: middle;\n",
       "    }\n",
       "\n",
       "    .dataframe tbody tr th {\n",
       "        vertical-align: top;\n",
       "    }\n",
       "\n",
       "    .dataframe thead th {\n",
       "        text-align: right;\n",
       "    }\n",
       "</style>\n",
       "<table border=\"1\" class=\"dataframe\">\n",
       "  <thead>\n",
       "    <tr style=\"text-align: right;\">\n",
       "      <th></th>\n",
       "      <th>apparentTemperature</th>\n",
       "      <th>cloudCover</th>\n",
       "      <th>dewPoint</th>\n",
       "      <th>humidity</th>\n",
       "      <th>icon</th>\n",
       "      <th>latitude</th>\n",
       "      <th>longitude</th>\n",
       "      <th>precipAccumulation</th>\n",
       "      <th>precipIntensity</th>\n",
       "      <th>precipProbability</th>\n",
       "      <th>...</th>\n",
       "      <th>pressure</th>\n",
       "      <th>summary</th>\n",
       "      <th>temperature</th>\n",
       "      <th>time</th>\n",
       "      <th>timestamp</th>\n",
       "      <th>uvIndex</th>\n",
       "      <th>visibility</th>\n",
       "      <th>windBearing</th>\n",
       "      <th>windGust</th>\n",
       "      <th>windSpeed</th>\n",
       "    </tr>\n",
       "  </thead>\n",
       "  <tbody>\n",
       "    <tr>\n",
       "      <td>0</td>\n",
       "      <td>80.35</td>\n",
       "      <td>0.0</td>\n",
       "      <td>52.66</td>\n",
       "      <td>0.38</td>\n",
       "      <td>clear-day</td>\n",
       "      <td>41.5250</td>\n",
       "      <td>-121.1583</td>\n",
       "      <td>NaN</td>\n",
       "      <td>0.0007</td>\n",
       "      <td>0.06</td>\n",
       "      <td>...</td>\n",
       "      <td>1013.1</td>\n",
       "      <td>Clear</td>\n",
       "      <td>80.35</td>\n",
       "      <td>1249239600</td>\n",
       "      <td>2009-08-02T12:00:00</td>\n",
       "      <td>9.0</td>\n",
       "      <td>10.000</td>\n",
       "      <td>202.0</td>\n",
       "      <td>8.60</td>\n",
       "      <td>1.99</td>\n",
       "    </tr>\n",
       "    <tr>\n",
       "      <td>1</td>\n",
       "      <td>65.15</td>\n",
       "      <td>NaN</td>\n",
       "      <td>43.74</td>\n",
       "      <td>0.46</td>\n",
       "      <td>NaN</td>\n",
       "      <td>42.5251</td>\n",
       "      <td>-115.5344</td>\n",
       "      <td>NaN</td>\n",
       "      <td>0.0000</td>\n",
       "      <td>0.00</td>\n",
       "      <td>...</td>\n",
       "      <td>NaN</td>\n",
       "      <td>NaN</td>\n",
       "      <td>65.15</td>\n",
       "      <td>1250272800</td>\n",
       "      <td>2009-08-14T12:00:00</td>\n",
       "      <td>NaN</td>\n",
       "      <td>NaN</td>\n",
       "      <td>320.0</td>\n",
       "      <td>28.07</td>\n",
       "      <td>18.68</td>\n",
       "    </tr>\n",
       "    <tr>\n",
       "      <td>2</td>\n",
       "      <td>79.10</td>\n",
       "      <td>0.0</td>\n",
       "      <td>32.34</td>\n",
       "      <td>0.18</td>\n",
       "      <td>clear-day</td>\n",
       "      <td>41.5870</td>\n",
       "      <td>-120.9057</td>\n",
       "      <td>NaN</td>\n",
       "      <td>0.0000</td>\n",
       "      <td>0.00</td>\n",
       "      <td>...</td>\n",
       "      <td>1014.9</td>\n",
       "      <td>Clear</td>\n",
       "      <td>79.10</td>\n",
       "      <td>1249412400</td>\n",
       "      <td>2009-08-04T12:00:00</td>\n",
       "      <td>9.0</td>\n",
       "      <td>9.932</td>\n",
       "      <td>201.0</td>\n",
       "      <td>13.58</td>\n",
       "      <td>8.73</td>\n",
       "    </tr>\n",
       "    <tr>\n",
       "      <td>3</td>\n",
       "      <td>53.52</td>\n",
       "      <td>NaN</td>\n",
       "      <td>31.46</td>\n",
       "      <td>0.43</td>\n",
       "      <td>rain</td>\n",
       "      <td>42.0714</td>\n",
       "      <td>-118.3545</td>\n",
       "      <td>NaN</td>\n",
       "      <td>0.0053</td>\n",
       "      <td>0.52</td>\n",
       "      <td>...</td>\n",
       "      <td>NaN</td>\n",
       "      <td>Possible Drizzle</td>\n",
       "      <td>53.52</td>\n",
       "      <td>1249585200</td>\n",
       "      <td>2009-08-06T12:00:00</td>\n",
       "      <td>NaN</td>\n",
       "      <td>NaN</td>\n",
       "      <td>143.0</td>\n",
       "      <td>5.75</td>\n",
       "      <td>1.92</td>\n",
       "    </tr>\n",
       "    <tr>\n",
       "      <td>4</td>\n",
       "      <td>70.43</td>\n",
       "      <td>NaN</td>\n",
       "      <td>48.22</td>\n",
       "      <td>0.45</td>\n",
       "      <td>NaN</td>\n",
       "      <td>43.6058</td>\n",
       "      <td>-106.7566</td>\n",
       "      <td>NaN</td>\n",
       "      <td>0.0000</td>\n",
       "      <td>0.00</td>\n",
       "      <td>...</td>\n",
       "      <td>NaN</td>\n",
       "      <td>NaN</td>\n",
       "      <td>70.43</td>\n",
       "      <td>1246989600</td>\n",
       "      <td>2009-07-07T12:00:00</td>\n",
       "      <td>NaN</td>\n",
       "      <td>NaN</td>\n",
       "      <td>114.0</td>\n",
       "      <td>14.93</td>\n",
       "      <td>6.67</td>\n",
       "    </tr>\n",
       "  </tbody>\n",
       "</table>\n",
       "<p>5 rows × 21 columns</p>\n",
       "</div>"
      ],
      "text/plain": [
       "   apparentTemperature  cloudCover  dewPoint  humidity       icon  latitude  \\\n",
       "0                80.35         0.0     52.66      0.38  clear-day   41.5250   \n",
       "1                65.15         NaN     43.74      0.46        NaN   42.5251   \n",
       "2                79.10         0.0     32.34      0.18  clear-day   41.5870   \n",
       "3                53.52         NaN     31.46      0.43       rain   42.0714   \n",
       "4                70.43         NaN     48.22      0.45        NaN   43.6058   \n",
       "\n",
       "   longitude  precipAccumulation  precipIntensity  precipProbability  ...  \\\n",
       "0  -121.1583                 NaN           0.0007               0.06  ...   \n",
       "1  -115.5344                 NaN           0.0000               0.00  ...   \n",
       "2  -120.9057                 NaN           0.0000               0.00  ...   \n",
       "3  -118.3545                 NaN           0.0053               0.52  ...   \n",
       "4  -106.7566                 NaN           0.0000               0.00  ...   \n",
       "\n",
       "  pressure           summary temperature        time            timestamp  \\\n",
       "0   1013.1             Clear       80.35  1249239600  2009-08-02T12:00:00   \n",
       "1      NaN               NaN       65.15  1250272800  2009-08-14T12:00:00   \n",
       "2   1014.9             Clear       79.10  1249412400  2009-08-04T12:00:00   \n",
       "3      NaN  Possible Drizzle       53.52  1249585200  2009-08-06T12:00:00   \n",
       "4      NaN               NaN       70.43  1246989600  2009-07-07T12:00:00   \n",
       "\n",
       "  uvIndex  visibility  windBearing  windGust  windSpeed  \n",
       "0     9.0      10.000        202.0      8.60       1.99  \n",
       "1     NaN         NaN        320.0     28.07      18.68  \n",
       "2     9.0       9.932        201.0     13.58       8.73  \n",
       "3     NaN         NaN        143.0      5.75       1.92  \n",
       "4     NaN         NaN        114.0     14.93       6.67  \n",
       "\n",
       "[5 rows x 21 columns]"
      ]
     },
     "execution_count": 56,
     "metadata": {},
     "output_type": "execute_result"
    }
   ],
   "source": [
    "weather_df1.head()"
   ]
  },
  {
   "cell_type": "code",
   "execution_count": 57,
   "metadata": {
    "scrolled": true
   },
   "outputs": [],
   "source": [
    "weather_df1 = pd.DataFrame(weather_lookup(firedata1000,RAPIDAPI_KEY))"
   ]
  },
  {
   "cell_type": "code",
   "execution_count": null,
   "metadata": {},
   "outputs": [],
   "source": [
    "#weather_df2 = pd.DataFrame(weather_lookup(firedata4000,RAPIDAPI_KEY2))"
   ]
  },
  {
   "cell_type": "code",
   "execution_count": 58,
   "metadata": {},
   "outputs": [],
   "source": [
    "db_columns = ['apparentTemperature', 'cloudCover', 'dewPoint',\n",
    "       'humidity', 'icon', 'latitude', 'longitude', 'precipAccumulation',\n",
    "       'precipIntensity', 'precipProbability', 'precipType', 'pressure',\n",
    "       'summary', 'temperature', 'time', 'timestamp', 'uvIndex', 'visibility',\n",
    "       'windBearing', 'windGust', 'windSpeed']"
   ]
  },
  {
   "cell_type": "code",
   "execution_count": 59,
   "metadata": {},
   "outputs": [],
   "source": [
    "weather_df1 = weather_df1[db_columns]"
   ]
  },
  {
   "cell_type": "code",
   "execution_count": 63,
   "metadata": {},
   "outputs": [],
   "source": [
    "#weather_df2 = weather_df2[db_columns]"
   ]
  },
  {
   "cell_type": "code",
   "execution_count": 60,
   "metadata": {},
   "outputs": [],
   "source": [
    "weather_df1.to_sql('weather_loading', con = engine, if_exists = 'append', chunksize = 100000)"
   ]
  },
  {
   "cell_type": "code",
   "execution_count": null,
   "metadata": {},
   "outputs": [],
   "source": [
    "#weather_df2.to_sql('weather_loading', con = engine, if_exists = 'append', chunksize = 100000)"
   ]
  },
  {
   "cell_type": "code",
   "execution_count": 61,
   "metadata": {},
   "outputs": [],
   "source": [
    "query = \"\"\"SELECT * FROM weather_loading;\n",
    "\"\"\""
   ]
  },
  {
   "cell_type": "code",
   "execution_count": 62,
   "metadata": {},
   "outputs": [],
   "source": [
    "weather_all_sql = pd.read_sql(query, engine)"
   ]
  },
  {
   "cell_type": "code",
   "execution_count": 63,
   "metadata": {},
   "outputs": [],
   "source": [
    "#weather_all_sql = weather_all_sql.reset_index()[db_columns]"
   ]
  },
  {
   "cell_type": "code",
   "execution_count": 64,
   "metadata": {},
   "outputs": [],
   "source": [
    "#weather_all_sql.to_sql('weather_loading', con = engine, if_exists = 'replace', chunksize = 100000)"
   ]
  },
  {
   "cell_type": "code",
   "execution_count": 65,
   "metadata": {},
   "outputs": [],
   "source": [
    "weather_all_sql.to_csv('weather_40000.csv')"
   ]
  },
  {
   "cell_type": "code",
   "execution_count": 66,
   "metadata": {},
   "outputs": [
    {
     "name": "stdout",
     "output_type": "stream",
     "text": [
      "<class 'pandas.core.frame.DataFrame'>\n",
      "RangeIndex: 39050 entries, 0 to 39049\n",
      "Data columns (total 22 columns):\n",
      "index                  39050 non-null int64\n",
      "apparentTemperature    38511 non-null float64\n",
      "cloudCover             30509 non-null float64\n",
      "dewPoint               38277 non-null float64\n",
      "humidity               38268 non-null float64\n",
      "icon                   29962 non-null object\n",
      "latitude               39050 non-null float64\n",
      "longitude              39050 non-null float64\n",
      "precipAccumulation     181 non-null float64\n",
      "precipIntensity        36927 non-null float64\n",
      "precipProbability      36927 non-null float64\n",
      "precipType             4138 non-null object\n",
      "pressure               23500 non-null float64\n",
      "summary                30214 non-null object\n",
      "temperature            38511 non-null float64\n",
      "time                   39050 non-null int64\n",
      "timestamp              39050 non-null object\n",
      "uvIndex                30509 non-null float64\n",
      "visibility             31139 non-null float64\n",
      "windBearing            37961 non-null float64\n",
      "windGust               36534 non-null float64\n",
      "windSpeed              38312 non-null float64\n",
      "dtypes: float64(16), int64(2), object(4)\n",
      "memory usage: 6.6+ MB\n"
     ]
    }
   ],
   "source": [
    "weather_all_sql.info()"
   ]
  },
  {
   "cell_type": "code",
   "execution_count": null,
   "metadata": {},
   "outputs": [],
   "source": []
  }
 ],
 "metadata": {
  "kernelspec": {
   "display_name": "Python 3",
   "language": "python",
   "name": "python3"
  },
  "language_info": {
   "codemirror_mode": {
    "name": "ipython",
    "version": 3
   },
   "file_extension": ".py",
   "mimetype": "text/x-python",
   "name": "python",
   "nbconvert_exporter": "python",
   "pygments_lexer": "ipython3",
   "version": "3.7.4"
  }
 },
 "nbformat": 4,
 "nbformat_minor": 4
}

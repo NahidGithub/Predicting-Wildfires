{
 "cells": [
  {
   "cell_type": "markdown",
   "metadata": {},
   "source": [
    "### Data Wrangling, Analysis, and Visualization of USDA Fire Emissions Data Set (2003-2015)"
   ]
  },
  {
   "cell_type": "markdown",
   "metadata": {},
   "source": [
    "### First Step - Importing the Libraries"
   ]
  },
  {
   "cell_type": "code",
   "execution_count": 1,
   "metadata": {},
   "outputs": [],
   "source": [
    "import pandas as pd\n",
    "import numpy as np\n",
    "import seaborn as sns\n",
    "import matplotlib\n",
    "import matplotlib.pyplot as plt, time\n",
    "from numpy import median\n",
    "\n",
    "%matplotlib inline"
   ]
  },
  {
   "cell_type": "code",
   "execution_count": 2,
   "metadata": {},
   "outputs": [],
   "source": [
    "# Load Emissions CSV File\"\n",
    "emdata = pd.read_csv('emissions_year2003to2015.csv')"
   ]
  },
  {
   "cell_type": "code",
   "execution_count": 3,
   "metadata": {},
   "outputs": [
    {
     "data": {
      "text/html": [
       "<div>\n",
       "<style scoped>\n",
       "    .dataframe tbody tr th:only-of-type {\n",
       "        vertical-align: middle;\n",
       "    }\n",
       "\n",
       "    .dataframe tbody tr th {\n",
       "        vertical-align: top;\n",
       "    }\n",
       "\n",
       "    .dataframe thead th {\n",
       "        text-align: right;\n",
       "    }\n",
       "</style>\n",
       "<table border=\"1\" class=\"dataframe\">\n",
       "  <thead>\n",
       "    <tr style=\"text-align: right;\">\n",
       "      <th></th>\n",
       "      <th>id</th>\n",
       "      <th>year</th>\n",
       "      <th>doy</th>\n",
       "      <th>longitude</th>\n",
       "      <th>latitude</th>\n",
       "      <th>grid10k</th>\n",
       "      <th>covertype</th>\n",
       "      <th>fuelcode</th>\n",
       "      <th>area_burned</th>\n",
       "      <th>prefire_fuel</th>\n",
       "      <th>...</th>\n",
       "      <th>ECO</th>\n",
       "      <th>ECH4</th>\n",
       "      <th>EPM2.5</th>\n",
       "      <th>cwd_frac</th>\n",
       "      <th>duff_frac</th>\n",
       "      <th>fuel_moisture_class</th>\n",
       "      <th>burn_source</th>\n",
       "      <th>burnday_source</th>\n",
       "      <th>BSEV</th>\n",
       "      <th>BSEV_flag</th>\n",
       "    </tr>\n",
       "  </thead>\n",
       "  <tbody>\n",
       "    <tr>\n",
       "      <td>0</td>\n",
       "      <td>0</td>\n",
       "      <td>2008</td>\n",
       "      <td>359</td>\n",
       "      <td>-81.0384</td>\n",
       "      <td>25.1958</td>\n",
       "      <td>4536</td>\n",
       "      <td>3</td>\n",
       "      <td>1600</td>\n",
       "      <td>0.0</td>\n",
       "      <td>6220.097576</td>\n",
       "      <td>...</td>\n",
       "      <td>153.981344</td>\n",
       "      <td>4.499455</td>\n",
       "      <td>23.797117</td>\n",
       "      <td>0.023231</td>\n",
       "      <td>0.082115</td>\n",
       "      <td>3</td>\n",
       "      <td>1</td>\n",
       "      <td>81</td>\n",
       "      <td>1</td>\n",
       "      <td>0</td>\n",
       "    </tr>\n",
       "    <tr>\n",
       "      <td>1</td>\n",
       "      <td>1</td>\n",
       "      <td>2008</td>\n",
       "      <td>359</td>\n",
       "      <td>-81.0404</td>\n",
       "      <td>25.1984</td>\n",
       "      <td>4536</td>\n",
       "      <td>3</td>\n",
       "      <td>1600</td>\n",
       "      <td>62500.0</td>\n",
       "      <td>6220.097576</td>\n",
       "      <td>...</td>\n",
       "      <td>157.185824</td>\n",
       "      <td>4.593092</td>\n",
       "      <td>24.292355</td>\n",
       "      <td>0.022757</td>\n",
       "      <td>0.080441</td>\n",
       "      <td>3</td>\n",
       "      <td>1</td>\n",
       "      <td>81</td>\n",
       "      <td>2</td>\n",
       "      <td>0</td>\n",
       "    </tr>\n",
       "    <tr>\n",
       "      <td>2</td>\n",
       "      <td>2</td>\n",
       "      <td>2008</td>\n",
       "      <td>359</td>\n",
       "      <td>-81.0380</td>\n",
       "      <td>25.1981</td>\n",
       "      <td>4536</td>\n",
       "      <td>3</td>\n",
       "      <td>1600</td>\n",
       "      <td>0.0</td>\n",
       "      <td>6220.097576</td>\n",
       "      <td>...</td>\n",
       "      <td>153.981344</td>\n",
       "      <td>4.499455</td>\n",
       "      <td>23.797117</td>\n",
       "      <td>0.023231</td>\n",
       "      <td>0.082115</td>\n",
       "      <td>3</td>\n",
       "      <td>1</td>\n",
       "      <td>81</td>\n",
       "      <td>1</td>\n",
       "      <td>0</td>\n",
       "    </tr>\n",
       "    <tr>\n",
       "      <td>3</td>\n",
       "      <td>3</td>\n",
       "      <td>2008</td>\n",
       "      <td>359</td>\n",
       "      <td>-81.0331</td>\n",
       "      <td>25.1973</td>\n",
       "      <td>4536</td>\n",
       "      <td>95</td>\n",
       "      <td>0</td>\n",
       "      <td>62500.0</td>\n",
       "      <td>0.000000</td>\n",
       "      <td>...</td>\n",
       "      <td>0.000000</td>\n",
       "      <td>0.000000</td>\n",
       "      <td>0.000000</td>\n",
       "      <td>0.000000</td>\n",
       "      <td>0.000000</td>\n",
       "      <td>3</td>\n",
       "      <td>1</td>\n",
       "      <td>81</td>\n",
       "      <td>2</td>\n",
       "      <td>0</td>\n",
       "    </tr>\n",
       "    <tr>\n",
       "      <td>4</td>\n",
       "      <td>4</td>\n",
       "      <td>2008</td>\n",
       "      <td>359</td>\n",
       "      <td>-81.0594</td>\n",
       "      <td>25.2035</td>\n",
       "      <td>4536</td>\n",
       "      <td>3</td>\n",
       "      <td>1600</td>\n",
       "      <td>0.0</td>\n",
       "      <td>6220.097576</td>\n",
       "      <td>...</td>\n",
       "      <td>153.981344</td>\n",
       "      <td>4.499455</td>\n",
       "      <td>23.797117</td>\n",
       "      <td>0.023231</td>\n",
       "      <td>0.082115</td>\n",
       "      <td>3</td>\n",
       "      <td>1</td>\n",
       "      <td>81</td>\n",
       "      <td>1</td>\n",
       "      <td>0</td>\n",
       "    </tr>\n",
       "  </tbody>\n",
       "</table>\n",
       "<p>5 rows × 22 columns</p>\n",
       "</div>"
      ],
      "text/plain": [
       "   id  year  doy  longitude  latitude  grid10k  covertype  fuelcode  \\\n",
       "0   0  2008  359   -81.0384   25.1958     4536          3      1600   \n",
       "1   1  2008  359   -81.0404   25.1984     4536          3      1600   \n",
       "2   2  2008  359   -81.0380   25.1981     4536          3      1600   \n",
       "3   3  2008  359   -81.0331   25.1973     4536         95         0   \n",
       "4   4  2008  359   -81.0594   25.2035     4536          3      1600   \n",
       "\n",
       "   area_burned  prefire_fuel  ...         ECO      ECH4     EPM2.5  cwd_frac  \\\n",
       "0          0.0   6220.097576  ...  153.981344  4.499455  23.797117  0.023231   \n",
       "1      62500.0   6220.097576  ...  157.185824  4.593092  24.292355  0.022757   \n",
       "2          0.0   6220.097576  ...  153.981344  4.499455  23.797117  0.023231   \n",
       "3      62500.0      0.000000  ...    0.000000  0.000000   0.000000  0.000000   \n",
       "4          0.0   6220.097576  ...  153.981344  4.499455  23.797117  0.023231   \n",
       "\n",
       "   duff_frac  fuel_moisture_class  burn_source  burnday_source  BSEV  \\\n",
       "0   0.082115                    3            1              81     1   \n",
       "1   0.080441                    3            1              81     2   \n",
       "2   0.082115                    3            1              81     1   \n",
       "3   0.000000                    3            1              81     2   \n",
       "4   0.082115                    3            1              81     1   \n",
       "\n",
       "   BSEV_flag  \n",
       "0          0  \n",
       "1          0  \n",
       "2          0  \n",
       "3          0  \n",
       "4          0  \n",
       "\n",
       "[5 rows x 22 columns]"
      ]
     },
     "execution_count": 3,
     "metadata": {},
     "output_type": "execute_result"
    }
   ],
   "source": [
    "# Use pandas to view the first 5 rows of the file\n",
    "emdata.head(5)"
   ]
  },
  {
   "cell_type": "code",
   "execution_count": 4,
   "metadata": {},
   "outputs": [
    {
     "name": "stdout",
     "output_type": "stream",
     "text": [
      "<class 'pandas.core.frame.DataFrame'>\n",
      "RangeIndex: 7254534 entries, 0 to 7254533\n",
      "Data columns (total 22 columns):\n",
      "id                     int64\n",
      "year                   int64\n",
      "doy                    int64\n",
      "longitude              float64\n",
      "latitude               float64\n",
      "grid10k                int64\n",
      "covertype              int64\n",
      "fuelcode               int64\n",
      "area_burned            float64\n",
      "prefire_fuel           float64\n",
      "consumed_fuel          float64\n",
      "ECO2                   float64\n",
      "ECO                    float64\n",
      "ECH4                   float64\n",
      "EPM2.5                 float64\n",
      "cwd_frac               float64\n",
      "duff_frac              float64\n",
      "fuel_moisture_class    int64\n",
      "burn_source            int64\n",
      "burnday_source         int64\n",
      "BSEV                   int64\n",
      "BSEV_flag              int64\n",
      "dtypes: float64(11), int64(11)\n",
      "memory usage: 1.2 GB\n"
     ]
    }
   ],
   "source": [
    "# What are the dtypes of the columns\n",
    "emdata.info() "
   ]
  },
  {
   "cell_type": "code",
   "execution_count": 5,
   "metadata": {},
   "outputs": [
    {
     "data": {
      "text/plain": [
       "(7254534, 22)"
      ]
     },
     "execution_count": 5,
     "metadata": {},
     "output_type": "execute_result"
    }
   ],
   "source": [
    "# How many rows and columns is the dataset?\n",
    "emdata.shape"
   ]
  },
  {
   "cell_type": "code",
   "execution_count": 6,
   "metadata": {},
   "outputs": [
    {
     "name": "stdout",
     "output_type": "stream",
     "text": [
      "7254534 instances with 22 features\n",
      "\n"
     ]
    }
   ],
   "source": [
    "# Determine the shape of the data\n",
    "print(\"{} instances with {} features\\n\".format(*emdata.shape))"
   ]
  },
  {
   "cell_type": "code",
   "execution_count": 7,
   "metadata": {},
   "outputs": [
    {
     "name": "stdout",
     "output_type": "stream",
     "text": [
      "[2008 2009 2013 2007 2006 2012 2004 2010 2011 2005 2015 2014 2003]\n"
     ]
    }
   ],
   "source": [
    "# Checking to see that all years were combined to file\n",
    "print(emdata['year'].unique())"
   ]
  },
  {
   "cell_type": "code",
   "execution_count": 8,
   "metadata": {},
   "outputs": [
    {
     "data": {
      "text/plain": [
       "id                     0\n",
       "year                   0\n",
       "doy                    0\n",
       "longitude              0\n",
       "latitude               0\n",
       "grid10k                0\n",
       "covertype              0\n",
       "fuelcode               0\n",
       "area_burned            0\n",
       "prefire_fuel           0\n",
       "consumed_fuel          0\n",
       "ECO2                   0\n",
       "ECO                    0\n",
       "ECH4                   0\n",
       "EPM2.5                 0\n",
       "cwd_frac               0\n",
       "duff_frac              0\n",
       "fuel_moisture_class    0\n",
       "burn_source            0\n",
       "burnday_source         0\n",
       "BSEV                   0\n",
       "BSEV_flag              0\n",
       "dtype: int64"
      ]
     },
     "execution_count": 8,
     "metadata": {},
     "output_type": "execute_result"
    }
   ],
   "source": [
    "# Checking for null values\n",
    "emdata.isnull().sum()"
   ]
  },
  {
   "cell_type": "code",
   "execution_count": 9,
   "metadata": {},
   "outputs": [],
   "source": [
    "# Removing select columns that are not necessary per earlier team discussion\n",
    "emdata = emdata.drop(['grid10k', 'BSEV_flag', 'burnday_source'], 1)"
   ]
  },
  {
   "cell_type": "code",
   "execution_count": 10,
   "metadata": {},
   "outputs": [
    {
     "data": {
      "text/plain": [
       "(7254534, 19)"
      ]
     },
     "execution_count": 10,
     "metadata": {},
     "output_type": "execute_result"
    }
   ],
   "source": [
    "# Verify the three columns were dropped\n",
    "emdata.shape"
   ]
  },
  {
   "cell_type": "code",
   "execution_count": 11,
   "metadata": {},
   "outputs": [
    {
     "name": "stdout",
     "output_type": "stream",
     "text": [
      "0.0    1293962\n",
      "Name: prefire_fuel, dtype: int64\n",
      "0.0    1293962\n",
      "Name: consumed_fuel, dtype: int64\n",
      "0.0    1293962\n",
      "Name: ECO2, dtype: int64\n"
     ]
    }
   ],
   "source": [
    "# Removing the rows with Zero values across Prefire Fuel, Consumed Fuel Mass and ECO2\n",
    "do = emdata[(emdata.prefire_fuel == 0)]\n",
    "do2 = do['prefire_fuel'].value_counts()\n",
    "eo = emdata[(emdata.consumed_fuel == 0)]\n",
    "eo2 = do['consumed_fuel'].value_counts()\n",
    "fo = emdata[(emdata.ECO2 == 0)]\n",
    "fo2 = fo['ECO2'].value_counts()\n",
    "\n",
    "print(do2)\n",
    "print(eo2)\n",
    "print(fo2)"
   ]
  },
  {
   "cell_type": "code",
   "execution_count": 12,
   "metadata": {},
   "outputs": [],
   "source": [
    "indexNames = emdata[(emdata.prefire_fuel == 0) & (emdata.consumed_fuel == 0) & (emdata.ECO2 == 0)].index\n",
    "emdata.drop(indexNames , inplace=True)"
   ]
  },
  {
   "cell_type": "code",
   "execution_count": 13,
   "metadata": {},
   "outputs": [
    {
     "data": {
      "text/html": [
       "<div>\n",
       "<style scoped>\n",
       "    .dataframe tbody tr th:only-of-type {\n",
       "        vertical-align: middle;\n",
       "    }\n",
       "\n",
       "    .dataframe tbody tr th {\n",
       "        vertical-align: top;\n",
       "    }\n",
       "\n",
       "    .dataframe thead th {\n",
       "        text-align: right;\n",
       "    }\n",
       "</style>\n",
       "<table border=\"1\" class=\"dataframe\">\n",
       "  <thead>\n",
       "    <tr style=\"text-align: right;\">\n",
       "      <th></th>\n",
       "      <th>id</th>\n",
       "      <th>year</th>\n",
       "      <th>doy</th>\n",
       "      <th>longitude</th>\n",
       "      <th>latitude</th>\n",
       "      <th>covertype</th>\n",
       "      <th>fuelcode</th>\n",
       "      <th>area_burned</th>\n",
       "      <th>prefire_fuel</th>\n",
       "      <th>consumed_fuel</th>\n",
       "      <th>ECO2</th>\n",
       "      <th>ECO</th>\n",
       "      <th>ECH4</th>\n",
       "      <th>EPM2.5</th>\n",
       "      <th>cwd_frac</th>\n",
       "      <th>duff_frac</th>\n",
       "      <th>fuel_moisture_class</th>\n",
       "      <th>burn_source</th>\n",
       "      <th>BSEV</th>\n",
       "    </tr>\n",
       "  </thead>\n",
       "  <tbody>\n",
       "    <tr>\n",
       "      <td>count</td>\n",
       "      <td>5.960572e+06</td>\n",
       "      <td>5.960572e+06</td>\n",
       "      <td>5.960572e+06</td>\n",
       "      <td>5.960572e+06</td>\n",
       "      <td>5.960572e+06</td>\n",
       "      <td>5.960572e+06</td>\n",
       "      <td>5.960572e+06</td>\n",
       "      <td>5.960572e+06</td>\n",
       "      <td>5.960572e+06</td>\n",
       "      <td>5.960572e+06</td>\n",
       "      <td>5.960572e+06</td>\n",
       "      <td>5.960572e+06</td>\n",
       "      <td>5.960572e+06</td>\n",
       "      <td>5.960572e+06</td>\n",
       "      <td>5.960572e+06</td>\n",
       "      <td>5.960572e+06</td>\n",
       "      <td>5.960572e+06</td>\n",
       "      <td>5.960572e+06</td>\n",
       "      <td>5.960572e+06</td>\n",
       "    </tr>\n",
       "    <tr>\n",
       "      <td>mean</td>\n",
       "      <td>1.128901e+07</td>\n",
       "      <td>2.009305e+03</td>\n",
       "      <td>1.730708e+02</td>\n",
       "      <td>-1.050490e+02</td>\n",
       "      <td>3.803980e+01</td>\n",
       "      <td>2.189173e+00</td>\n",
       "      <td>6.283838e+02</td>\n",
       "      <td>4.992622e+04</td>\n",
       "      <td>2.947503e+03</td>\n",
       "      <td>1.842402e+03</td>\n",
       "      <td>2.965052e+03</td>\n",
       "      <td>1.962275e+02</td>\n",
       "      <td>9.460753e+00</td>\n",
       "      <td>3.243165e+01</td>\n",
       "      <td>5.998773e-02</td>\n",
       "      <td>7.683271e-02</td>\n",
       "      <td>2.216377e+00</td>\n",
       "      <td>1.449038e+00</td>\n",
       "      <td>2.101838e+00</td>\n",
       "    </tr>\n",
       "    <tr>\n",
       "      <td>std</td>\n",
       "      <td>3.113785e+07</td>\n",
       "      <td>3.499761e+00</td>\n",
       "      <td>7.387169e+01</td>\n",
       "      <td>1.257917e+01</td>\n",
       "      <td>5.574091e+00</td>\n",
       "      <td>8.418228e-01</td>\n",
       "      <td>6.976638e+02</td>\n",
       "      <td>2.505517e+04</td>\n",
       "      <td>2.960848e+03</td>\n",
       "      <td>1.767418e+03</td>\n",
       "      <td>2.802989e+03</td>\n",
       "      <td>2.214744e+02</td>\n",
       "      <td>1.252737e+01</td>\n",
       "      <td>3.798760e+01</td>\n",
       "      <td>1.023220e-01</td>\n",
       "      <td>1.071232e-01</td>\n",
       "      <td>7.528200e-01</td>\n",
       "      <td>9.094067e-01</td>\n",
       "      <td>7.947994e-01</td>\n",
       "    </tr>\n",
       "    <tr>\n",
       "      <td>min</td>\n",
       "      <td>0.000000e+00</td>\n",
       "      <td>2.003000e+03</td>\n",
       "      <td>0.000000e+00</td>\n",
       "      <td>-1.246583e+02</td>\n",
       "      <td>2.468010e+01</td>\n",
       "      <td>1.000000e+00</td>\n",
       "      <td>1.000000e+00</td>\n",
       "      <td>0.000000e+00</td>\n",
       "      <td>3.810924e+00</td>\n",
       "      <td>3.544159e+00</td>\n",
       "      <td>5.943555e+00</td>\n",
       "      <td>2.480910e-01</td>\n",
       "      <td>9.498000e-03</td>\n",
       "      <td>3.615000e-02</td>\n",
       "      <td>0.000000e+00</td>\n",
       "      <td>0.000000e+00</td>\n",
       "      <td>1.000000e+00</td>\n",
       "      <td>1.000000e+00</td>\n",
       "      <td>0.000000e+00</td>\n",
       "    </tr>\n",
       "    <tr>\n",
       "      <td>25%</td>\n",
       "      <td>1.474968e+05</td>\n",
       "      <td>2.006000e+03</td>\n",
       "      <td>1.050000e+02</td>\n",
       "      <td>-1.158255e+02</td>\n",
       "      <td>3.353190e+01</td>\n",
       "      <td>1.000000e+00</td>\n",
       "      <td>1.000000e+00</td>\n",
       "      <td>6.250000e+04</td>\n",
       "      <td>2.560044e+02</td>\n",
       "      <td>2.324552e+02</td>\n",
       "      <td>3.898273e+02</td>\n",
       "      <td>1.627186e+01</td>\n",
       "      <td>6.229800e-01</td>\n",
       "      <td>2.371043e+00</td>\n",
       "      <td>0.000000e+00</td>\n",
       "      <td>0.000000e+00</td>\n",
       "      <td>2.000000e+00</td>\n",
       "      <td>1.000000e+00</td>\n",
       "      <td>2.000000e+00</td>\n",
       "    </tr>\n",
       "    <tr>\n",
       "      <td>50%</td>\n",
       "      <td>3.126210e+05</td>\n",
       "      <td>2.009000e+03</td>\n",
       "      <td>1.880000e+02</td>\n",
       "      <td>-1.072852e+02</td>\n",
       "      <td>3.753470e+01</td>\n",
       "      <td>2.000000e+00</td>\n",
       "      <td>2.000000e+00</td>\n",
       "      <td>6.250000e+04</td>\n",
       "      <td>1.470120e+03</td>\n",
       "      <td>1.251245e+03</td>\n",
       "      <td>1.969832e+03</td>\n",
       "      <td>9.266699e+01</td>\n",
       "      <td>3.547822e+00</td>\n",
       "      <td>1.350290e+01</td>\n",
       "      <td>0.000000e+00</td>\n",
       "      <td>0.000000e+00</td>\n",
       "      <td>2.000000e+00</td>\n",
       "      <td>1.000000e+00</td>\n",
       "      <td>2.000000e+00</td>\n",
       "    </tr>\n",
       "    <tr>\n",
       "      <td>75%</td>\n",
       "      <td>5.828092e+05</td>\n",
       "      <td>2.012000e+03</td>\n",
       "      <td>2.270000e+02</td>\n",
       "      <td>-9.629230e+01</td>\n",
       "      <td>4.274970e+01</td>\n",
       "      <td>3.000000e+00</td>\n",
       "      <td>1.220000e+03</td>\n",
       "      <td>6.250000e+04</td>\n",
       "      <td>6.424431e+03</td>\n",
       "      <td>3.569616e+03</td>\n",
       "      <td>5.728583e+03</td>\n",
       "      <td>2.958688e+02</td>\n",
       "      <td>1.087070e+01</td>\n",
       "      <td>4.572518e+01</td>\n",
       "      <td>9.194700e-02</td>\n",
       "      <td>1.543580e-01</td>\n",
       "      <td>3.000000e+00</td>\n",
       "      <td>1.000000e+00</td>\n",
       "      <td>2.000000e+00</td>\n",
       "    </tr>\n",
       "    <tr>\n",
       "      <td>max</td>\n",
       "      <td>1.494107e+08</td>\n",
       "      <td>2.015000e+03</td>\n",
       "      <td>3.660000e+02</td>\n",
       "      <td>-6.700630e+01</td>\n",
       "      <td>4.900280e+01</td>\n",
       "      <td>3.000000e+00</td>\n",
       "      <td>2.950000e+03</td>\n",
       "      <td>6.250000e+04</td>\n",
       "      <td>1.333751e+04</td>\n",
       "      <td>1.047759e+04</td>\n",
       "      <td>1.628218e+04</td>\n",
       "      <td>1.393520e+03</td>\n",
       "      <td>7.837240e+01</td>\n",
       "      <td>2.388891e+02</td>\n",
       "      <td>4.970340e-01</td>\n",
       "      <td>8.003240e-01</td>\n",
       "      <td>4.000000e+00</td>\n",
       "      <td>4.000000e+00</td>\n",
       "      <td>4.000000e+00</td>\n",
       "    </tr>\n",
       "  </tbody>\n",
       "</table>\n",
       "</div>"
      ],
      "text/plain": [
       "                 id          year           doy     longitude      latitude  \\\n",
       "count  5.960572e+06  5.960572e+06  5.960572e+06  5.960572e+06  5.960572e+06   \n",
       "mean   1.128901e+07  2.009305e+03  1.730708e+02 -1.050490e+02  3.803980e+01   \n",
       "std    3.113785e+07  3.499761e+00  7.387169e+01  1.257917e+01  5.574091e+00   \n",
       "min    0.000000e+00  2.003000e+03  0.000000e+00 -1.246583e+02  2.468010e+01   \n",
       "25%    1.474968e+05  2.006000e+03  1.050000e+02 -1.158255e+02  3.353190e+01   \n",
       "50%    3.126210e+05  2.009000e+03  1.880000e+02 -1.072852e+02  3.753470e+01   \n",
       "75%    5.828092e+05  2.012000e+03  2.270000e+02 -9.629230e+01  4.274970e+01   \n",
       "max    1.494107e+08  2.015000e+03  3.660000e+02 -6.700630e+01  4.900280e+01   \n",
       "\n",
       "          covertype      fuelcode   area_burned  prefire_fuel  consumed_fuel  \\\n",
       "count  5.960572e+06  5.960572e+06  5.960572e+06  5.960572e+06   5.960572e+06   \n",
       "mean   2.189173e+00  6.283838e+02  4.992622e+04  2.947503e+03   1.842402e+03   \n",
       "std    8.418228e-01  6.976638e+02  2.505517e+04  2.960848e+03   1.767418e+03   \n",
       "min    1.000000e+00  1.000000e+00  0.000000e+00  3.810924e+00   3.544159e+00   \n",
       "25%    1.000000e+00  1.000000e+00  6.250000e+04  2.560044e+02   2.324552e+02   \n",
       "50%    2.000000e+00  2.000000e+00  6.250000e+04  1.470120e+03   1.251245e+03   \n",
       "75%    3.000000e+00  1.220000e+03  6.250000e+04  6.424431e+03   3.569616e+03   \n",
       "max    3.000000e+00  2.950000e+03  6.250000e+04  1.333751e+04   1.047759e+04   \n",
       "\n",
       "               ECO2           ECO          ECH4        EPM2.5      cwd_frac  \\\n",
       "count  5.960572e+06  5.960572e+06  5.960572e+06  5.960572e+06  5.960572e+06   \n",
       "mean   2.965052e+03  1.962275e+02  9.460753e+00  3.243165e+01  5.998773e-02   \n",
       "std    2.802989e+03  2.214744e+02  1.252737e+01  3.798760e+01  1.023220e-01   \n",
       "min    5.943555e+00  2.480910e-01  9.498000e-03  3.615000e-02  0.000000e+00   \n",
       "25%    3.898273e+02  1.627186e+01  6.229800e-01  2.371043e+00  0.000000e+00   \n",
       "50%    1.969832e+03  9.266699e+01  3.547822e+00  1.350290e+01  0.000000e+00   \n",
       "75%    5.728583e+03  2.958688e+02  1.087070e+01  4.572518e+01  9.194700e-02   \n",
       "max    1.628218e+04  1.393520e+03  7.837240e+01  2.388891e+02  4.970340e-01   \n",
       "\n",
       "          duff_frac  fuel_moisture_class   burn_source          BSEV  \n",
       "count  5.960572e+06         5.960572e+06  5.960572e+06  5.960572e+06  \n",
       "mean   7.683271e-02         2.216377e+00  1.449038e+00  2.101838e+00  \n",
       "std    1.071232e-01         7.528200e-01  9.094067e-01  7.947994e-01  \n",
       "min    0.000000e+00         1.000000e+00  1.000000e+00  0.000000e+00  \n",
       "25%    0.000000e+00         2.000000e+00  1.000000e+00  2.000000e+00  \n",
       "50%    0.000000e+00         2.000000e+00  1.000000e+00  2.000000e+00  \n",
       "75%    1.543580e-01         3.000000e+00  1.000000e+00  2.000000e+00  \n",
       "max    8.003240e-01         4.000000e+00  4.000000e+00  4.000000e+00  "
      ]
     },
     "execution_count": 13,
     "metadata": {},
     "output_type": "execute_result"
    }
   ],
   "source": [
    "# Use pandas to get the summary statistics on the data\n",
    "emdata.describe()"
   ]
  },
  {
   "cell_type": "code",
   "execution_count": 14,
   "metadata": {},
   "outputs": [],
   "source": [
    "# Remove zero value features noted during previous data reviews \n",
    "indexNames = emdata[(emdata.prefire_fuel == 0) & (emdata.consumed_fuel == 0) & (emdata.ECO2 == 0)].index\n",
    "emdata.drop(indexNames , inplace=True)"
   ]
  },
  {
   "cell_type": "code",
   "execution_count": 15,
   "metadata": {},
   "outputs": [
    {
     "data": {
      "text/plain": [
       "(5960572, 19)"
      ]
     },
     "execution_count": 15,
     "metadata": {},
     "output_type": "execute_result"
    }
   ],
   "source": [
    "# How many rows and columns in the revised dataset?\n",
    "emdata.shape"
   ]
  },
  {
   "cell_type": "code",
   "execution_count": 16,
   "metadata": {},
   "outputs": [
    {
     "data": {
      "text/html": [
       "<div>\n",
       "<style scoped>\n",
       "    .dataframe tbody tr th:only-of-type {\n",
       "        vertical-align: middle;\n",
       "    }\n",
       "\n",
       "    .dataframe tbody tr th {\n",
       "        vertical-align: top;\n",
       "    }\n",
       "\n",
       "    .dataframe thead th {\n",
       "        text-align: right;\n",
       "    }\n",
       "</style>\n",
       "<table border=\"1\" class=\"dataframe\">\n",
       "  <thead>\n",
       "    <tr style=\"text-align: right;\">\n",
       "      <th></th>\n",
       "      <th>id</th>\n",
       "      <th>year</th>\n",
       "      <th>doy</th>\n",
       "      <th>longitude</th>\n",
       "      <th>latitude</th>\n",
       "      <th>covertype</th>\n",
       "      <th>fuelcode</th>\n",
       "      <th>area_burned</th>\n",
       "      <th>prefire_fuel</th>\n",
       "      <th>consumed_fuel</th>\n",
       "      <th>ECO2</th>\n",
       "      <th>ECO</th>\n",
       "      <th>ECH4</th>\n",
       "      <th>EPM2.5</th>\n",
       "      <th>cwd_frac</th>\n",
       "      <th>duff_frac</th>\n",
       "      <th>fuel_moisture_class</th>\n",
       "      <th>burn_source</th>\n",
       "      <th>BSEV</th>\n",
       "    </tr>\n",
       "  </thead>\n",
       "  <tbody>\n",
       "    <tr>\n",
       "      <td>7254533</td>\n",
       "      <td>434647</td>\n",
       "      <td>2003</td>\n",
       "      <td>219</td>\n",
       "      <td>-121.9887</td>\n",
       "      <td>48.5002</td>\n",
       "      <td>3</td>\n",
       "      <td>1200</td>\n",
       "      <td>62500.0</td>\n",
       "      <td>6424.431099</td>\n",
       "      <td>4040.568775</td>\n",
       "      <td>6279.043877</td>\n",
       "      <td>537.395647</td>\n",
       "      <td>30.223454</td>\n",
       "      <td>92.124968</td>\n",
       "      <td>0.236728</td>\n",
       "      <td>0.198929</td>\n",
       "      <td>3</td>\n",
       "      <td>4</td>\n",
       "      <td>3</td>\n",
       "    </tr>\n",
       "    <tr>\n",
       "      <td>6348740</td>\n",
       "      <td>24234157</td>\n",
       "      <td>2014</td>\n",
       "      <td>238</td>\n",
       "      <td>-122.5726</td>\n",
       "      <td>43.7428</td>\n",
       "      <td>3</td>\n",
       "      <td>1200</td>\n",
       "      <td>62500.0</td>\n",
       "      <td>6424.431099</td>\n",
       "      <td>3833.490246</td>\n",
       "      <td>5957.243842</td>\n",
       "      <td>509.854203</td>\n",
       "      <td>28.674507</td>\n",
       "      <td>87.403578</td>\n",
       "      <td>0.308820</td>\n",
       "      <td>0.242211</td>\n",
       "      <td>2</td>\n",
       "      <td>1</td>\n",
       "      <td>2</td>\n",
       "    </tr>\n",
       "    <tr>\n",
       "      <td>6348743</td>\n",
       "      <td>24234160</td>\n",
       "      <td>2014</td>\n",
       "      <td>237</td>\n",
       "      <td>-122.5636</td>\n",
       "      <td>43.7446</td>\n",
       "      <td>3</td>\n",
       "      <td>1200</td>\n",
       "      <td>62500.0</td>\n",
       "      <td>6424.431099</td>\n",
       "      <td>3833.490246</td>\n",
       "      <td>5957.243842</td>\n",
       "      <td>509.854203</td>\n",
       "      <td>28.674507</td>\n",
       "      <td>87.403578</td>\n",
       "      <td>0.308820</td>\n",
       "      <td>0.242211</td>\n",
       "      <td>2</td>\n",
       "      <td>1</td>\n",
       "      <td>2</td>\n",
       "    </tr>\n",
       "    <tr>\n",
       "      <td>3866160</td>\n",
       "      <td>565</td>\n",
       "      <td>2010</td>\n",
       "      <td>112</td>\n",
       "      <td>-81.0668</td>\n",
       "      <td>25.6804</td>\n",
       "      <td>3</td>\n",
       "      <td>1600</td>\n",
       "      <td>62500.0</td>\n",
       "      <td>6220.097576</td>\n",
       "      <td>2041.374340</td>\n",
       "      <td>3417.260644</td>\n",
       "      <td>157.185824</td>\n",
       "      <td>4.593092</td>\n",
       "      <td>24.292355</td>\n",
       "      <td>0.022757</td>\n",
       "      <td>0.080441</td>\n",
       "      <td>3</td>\n",
       "      <td>1</td>\n",
       "      <td>2</td>\n",
       "    </tr>\n",
       "    <tr>\n",
       "      <td>3866159</td>\n",
       "      <td>564</td>\n",
       "      <td>2010</td>\n",
       "      <td>112</td>\n",
       "      <td>-81.0693</td>\n",
       "      <td>25.6807</td>\n",
       "      <td>3</td>\n",
       "      <td>1600</td>\n",
       "      <td>62500.0</td>\n",
       "      <td>6220.097576</td>\n",
       "      <td>2041.374340</td>\n",
       "      <td>3417.260644</td>\n",
       "      <td>157.185824</td>\n",
       "      <td>4.593092</td>\n",
       "      <td>24.292355</td>\n",
       "      <td>0.022757</td>\n",
       "      <td>0.080441</td>\n",
       "      <td>3</td>\n",
       "      <td>1</td>\n",
       "      <td>2</td>\n",
       "    </tr>\n",
       "    <tr>\n",
       "      <td>3866158</td>\n",
       "      <td>563</td>\n",
       "      <td>2010</td>\n",
       "      <td>112</td>\n",
       "      <td>-81.0717</td>\n",
       "      <td>25.6811</td>\n",
       "      <td>3</td>\n",
       "      <td>1600</td>\n",
       "      <td>62500.0</td>\n",
       "      <td>6220.097576</td>\n",
       "      <td>2041.374340</td>\n",
       "      <td>3417.260644</td>\n",
       "      <td>157.185824</td>\n",
       "      <td>4.593092</td>\n",
       "      <td>24.292355</td>\n",
       "      <td>0.022757</td>\n",
       "      <td>0.080441</td>\n",
       "      <td>3</td>\n",
       "      <td>1</td>\n",
       "      <td>2</td>\n",
       "    </tr>\n",
       "    <tr>\n",
       "      <td>3866157</td>\n",
       "      <td>562</td>\n",
       "      <td>2010</td>\n",
       "      <td>112</td>\n",
       "      <td>-81.0741</td>\n",
       "      <td>25.6814</td>\n",
       "      <td>3</td>\n",
       "      <td>1600</td>\n",
       "      <td>62500.0</td>\n",
       "      <td>6220.097576</td>\n",
       "      <td>2041.374340</td>\n",
       "      <td>3417.260644</td>\n",
       "      <td>157.185824</td>\n",
       "      <td>4.593092</td>\n",
       "      <td>24.292355</td>\n",
       "      <td>0.022757</td>\n",
       "      <td>0.080441</td>\n",
       "      <td>3</td>\n",
       "      <td>1</td>\n",
       "      <td>2</td>\n",
       "    </tr>\n",
       "    <tr>\n",
       "      <td>3866156</td>\n",
       "      <td>561</td>\n",
       "      <td>2010</td>\n",
       "      <td>112</td>\n",
       "      <td>-81.0766</td>\n",
       "      <td>25.6818</td>\n",
       "      <td>3</td>\n",
       "      <td>1600</td>\n",
       "      <td>62500.0</td>\n",
       "      <td>6220.097576</td>\n",
       "      <td>2041.374340</td>\n",
       "      <td>3417.260644</td>\n",
       "      <td>157.185824</td>\n",
       "      <td>4.593092</td>\n",
       "      <td>24.292355</td>\n",
       "      <td>0.022757</td>\n",
       "      <td>0.080441</td>\n",
       "      <td>3</td>\n",
       "      <td>1</td>\n",
       "      <td>2</td>\n",
       "    </tr>\n",
       "    <tr>\n",
       "      <td>3866155</td>\n",
       "      <td>560</td>\n",
       "      <td>2010</td>\n",
       "      <td>112</td>\n",
       "      <td>-81.0790</td>\n",
       "      <td>25.6821</td>\n",
       "      <td>3</td>\n",
       "      <td>1600</td>\n",
       "      <td>62500.0</td>\n",
       "      <td>6220.097576</td>\n",
       "      <td>2041.374340</td>\n",
       "      <td>3417.260644</td>\n",
       "      <td>157.185824</td>\n",
       "      <td>4.593092</td>\n",
       "      <td>24.292355</td>\n",
       "      <td>0.022757</td>\n",
       "      <td>0.080441</td>\n",
       "      <td>3</td>\n",
       "      <td>1</td>\n",
       "      <td>2</td>\n",
       "    </tr>\n",
       "    <tr>\n",
       "      <td>3866154</td>\n",
       "      <td>559</td>\n",
       "      <td>2010</td>\n",
       "      <td>112</td>\n",
       "      <td>-81.0814</td>\n",
       "      <td>25.6825</td>\n",
       "      <td>3</td>\n",
       "      <td>1600</td>\n",
       "      <td>62500.0</td>\n",
       "      <td>6220.097576</td>\n",
       "      <td>2041.374340</td>\n",
       "      <td>3417.260644</td>\n",
       "      <td>157.185824</td>\n",
       "      <td>4.593092</td>\n",
       "      <td>24.292355</td>\n",
       "      <td>0.022757</td>\n",
       "      <td>0.080441</td>\n",
       "      <td>3</td>\n",
       "      <td>1</td>\n",
       "      <td>2</td>\n",
       "    </tr>\n",
       "  </tbody>\n",
       "</table>\n",
       "</div>"
      ],
      "text/plain": [
       "               id  year  doy  longitude  latitude  covertype  fuelcode  \\\n",
       "7254533    434647  2003  219  -121.9887   48.5002          3      1200   \n",
       "6348740  24234157  2014  238  -122.5726   43.7428          3      1200   \n",
       "6348743  24234160  2014  237  -122.5636   43.7446          3      1200   \n",
       "3866160       565  2010  112   -81.0668   25.6804          3      1600   \n",
       "3866159       564  2010  112   -81.0693   25.6807          3      1600   \n",
       "3866158       563  2010  112   -81.0717   25.6811          3      1600   \n",
       "3866157       562  2010  112   -81.0741   25.6814          3      1600   \n",
       "3866156       561  2010  112   -81.0766   25.6818          3      1600   \n",
       "3866155       560  2010  112   -81.0790   25.6821          3      1600   \n",
       "3866154       559  2010  112   -81.0814   25.6825          3      1600   \n",
       "\n",
       "         area_burned  prefire_fuel  consumed_fuel         ECO2         ECO  \\\n",
       "7254533      62500.0   6424.431099    4040.568775  6279.043877  537.395647   \n",
       "6348740      62500.0   6424.431099    3833.490246  5957.243842  509.854203   \n",
       "6348743      62500.0   6424.431099    3833.490246  5957.243842  509.854203   \n",
       "3866160      62500.0   6220.097576    2041.374340  3417.260644  157.185824   \n",
       "3866159      62500.0   6220.097576    2041.374340  3417.260644  157.185824   \n",
       "3866158      62500.0   6220.097576    2041.374340  3417.260644  157.185824   \n",
       "3866157      62500.0   6220.097576    2041.374340  3417.260644  157.185824   \n",
       "3866156      62500.0   6220.097576    2041.374340  3417.260644  157.185824   \n",
       "3866155      62500.0   6220.097576    2041.374340  3417.260644  157.185824   \n",
       "3866154      62500.0   6220.097576    2041.374340  3417.260644  157.185824   \n",
       "\n",
       "              ECH4     EPM2.5  cwd_frac  duff_frac  fuel_moisture_class  \\\n",
       "7254533  30.223454  92.124968  0.236728   0.198929                    3   \n",
       "6348740  28.674507  87.403578  0.308820   0.242211                    2   \n",
       "6348743  28.674507  87.403578  0.308820   0.242211                    2   \n",
       "3866160   4.593092  24.292355  0.022757   0.080441                    3   \n",
       "3866159   4.593092  24.292355  0.022757   0.080441                    3   \n",
       "3866158   4.593092  24.292355  0.022757   0.080441                    3   \n",
       "3866157   4.593092  24.292355  0.022757   0.080441                    3   \n",
       "3866156   4.593092  24.292355  0.022757   0.080441                    3   \n",
       "3866155   4.593092  24.292355  0.022757   0.080441                    3   \n",
       "3866154   4.593092  24.292355  0.022757   0.080441                    3   \n",
       "\n",
       "         burn_source  BSEV  \n",
       "7254533            4     3  \n",
       "6348740            1     2  \n",
       "6348743            1     2  \n",
       "3866160            1     2  \n",
       "3866159            1     2  \n",
       "3866158            1     2  \n",
       "3866157            1     2  \n",
       "3866156            1     2  \n",
       "3866155            1     2  \n",
       "3866154            1     2  "
      ]
     },
     "execution_count": 16,
     "metadata": {},
     "output_type": "execute_result"
    }
   ],
   "source": [
    "# What are the largest areas burned?\n",
    "emdata.sort_values(by='area_burned', ascending=False).head(10)"
   ]
  },
  {
   "cell_type": "code",
   "execution_count": 17,
   "metadata": {},
   "outputs": [
    {
     "data": {
      "text/plain": [
       "2    3366114\n",
       "1    1199132\n",
       "3     984430\n",
       "4     410877\n",
       "0         19\n",
       "Name: BSEV, dtype: int64"
      ]
     },
     "execution_count": 17,
     "metadata": {},
     "output_type": "execute_result"
    }
   ],
   "source": [
    "# What does the Burn Severity (BSEV) look like - with the rankings from 1 (low) to 4 (highest)?\n",
    "emdata['BSEV'].value_counts()"
   ]
  },
  {
   "cell_type": "code",
   "execution_count": 18,
   "metadata": {},
   "outputs": [
    {
     "name": "stdout",
     "output_type": "stream",
     "text": [
      "           id     year      doy  longitude  latitude  covertype  fuelcode  \\\n",
      "BSEV                                                                        \n",
      "0          19       19       19         19        19         19        19   \n",
      "1     1199132  1199132  1199132    1199132   1199132    1199132   1199132   \n",
      "2     3366114  3366114  3366114    3366114   3366114    3366114   3366114   \n",
      "3      984430   984430   984430     984430    984430     984430    984430   \n",
      "4      410877   410877   410877     410877    410877     410877    410877   \n",
      "\n",
      "      area_burned  prefire_fuel  consumed_fuel     ECO2      ECO     ECH4  \\\n",
      "BSEV                                                                        \n",
      "0              19            19             19       19       19       19   \n",
      "1         1199132       1199132        1199132  1199132  1199132  1199132   \n",
      "2         3366114       3366114        3366114  3366114  3366114  3366114   \n",
      "3          984430        984430         984430   984430   984430   984430   \n",
      "4          410877        410877         410877   410877   410877   410877   \n",
      "\n",
      "       EPM2.5  cwd_frac  duff_frac  fuel_moisture_class  burn_source  \n",
      "BSEV                                                                  \n",
      "0          19        19         19                   19           19  \n",
      "1     1199132   1199132    1199132              1199132      1199132  \n",
      "2     3366114   3366114    3366114              3366114      3366114  \n",
      "3      984430    984430     984430               984430       984430  \n",
      "4      410877    410877     410877               410877       410877  \n"
     ]
    }
   ],
   "source": [
    "# Show the data by BSEV\n",
    "print(emdata.groupby('BSEV').count())"
   ]
  },
  {
   "cell_type": "code",
   "execution_count": 19,
   "metadata": {},
   "outputs": [
    {
     "data": {
      "text/plain": [
       "1       1654890\n",
       "2       1523213\n",
       "1500     386969\n",
       "1140     342021\n",
       "1200     323936\n",
       "1220     320896\n",
       "1160     276662\n",
       "1180     223461\n",
       "1260     197818\n",
       "1370     165640\n",
       "1920     122231\n",
       "1600     110018\n",
       "1280     105916\n",
       "1400      68147\n",
       "2700      28381\n",
       "2900      15624\n",
       "1360      14728\n",
       "1900      14508\n",
       "2180      12468\n",
       "1950      10502\n",
       "1800       8188\n",
       "1940       7317\n",
       "1100       6851\n",
       "1120       5671\n",
       "2950       4849\n",
       "1320       3306\n",
       "1300       2704\n",
       "1340       2315\n",
       "1980        667\n",
       "1700        290\n",
       "1910        257\n",
       "1240        116\n",
       "1990         12\n",
       "Name: fuelcode, dtype: int64"
      ]
     },
     "execution_count": 19,
     "metadata": {},
     "output_type": "execute_result"
    }
   ],
   "source": [
    "# What does the fuel code look like? Check how many unique values there are.\n",
    "emdata['fuelcode'].value_counts()"
   ]
  },
  {
   "cell_type": "markdown",
   "metadata": {},
   "source": [
    "### Analyzing Feature Relationships"
   ]
  },
  {
   "cell_type": "code",
   "execution_count": 20,
   "metadata": {},
   "outputs": [
    {
     "data": {
      "text/plain": [
       "fuelcode\n",
       "1       1.980207\n",
       "2       2.129121\n",
       "1100    2.461684\n",
       "1120    2.788044\n",
       "1140    1.876236\n",
       "Name: BSEV, dtype: float64"
      ]
     },
     "execution_count": 20,
     "metadata": {},
     "output_type": "execute_result"
    }
   ],
   "source": [
    "emdata.groupby('fuelcode')['BSEV'].mean().head()"
   ]
  },
  {
   "cell_type": "code",
   "execution_count": 21,
   "metadata": {},
   "outputs": [
    {
     "data": {
      "text/plain": [
       "fuelcode\n",
       "1       1.980207\n",
       "2       2.129121\n",
       "1100    2.461684\n",
       "1120    2.788044\n",
       "1140    1.876236\n",
       "Name: BSEV, dtype: float64"
      ]
     },
     "execution_count": 21,
     "metadata": {},
     "output_type": "execute_result"
    }
   ],
   "source": [
    "emdata2 = emdata.groupby('fuelcode')['BSEV'].mean()\n",
    "emdata2.head()"
   ]
  },
  {
   "cell_type": "code",
   "execution_count": 22,
   "metadata": {},
   "outputs": [
    {
     "data": {
      "text/plain": [
       "fuelcode\n",
       "2950    4\n",
       "1360    4\n",
       "2       4\n",
       "1100    4\n",
       "1120    4\n",
       "Name: BSEV, dtype: int64"
      ]
     },
     "execution_count": 22,
     "metadata": {},
     "output_type": "execute_result"
    }
   ],
   "source": [
    "emdata3 = emdata.groupby('fuelcode')['BSEV'].max().sort_values(ascending = False)\n",
    "emdata3.head()"
   ]
  },
  {
   "cell_type": "code",
   "execution_count": 23,
   "metadata": {},
   "outputs": [
    {
     "data": {
      "text/plain": [
       "fuelcode\n",
       "2950    1\n",
       "2900    1\n",
       "2       1\n",
       "1100    1\n",
       "1140    1\n",
       "Name: BSEV, dtype: int64"
      ]
     },
     "execution_count": 23,
     "metadata": {},
     "output_type": "execute_result"
    }
   ],
   "source": [
    "emdata4 = emdata.groupby('fuelcode')['BSEV'].min().sort_values(ascending = False)\n",
    "emdata4.head()"
   ]
  },
  {
   "cell_type": "code",
   "execution_count": 24,
   "metadata": {},
   "outputs": [
    {
     "data": {
      "text/plain": [
       "covertype\n",
       "3    4\n",
       "2    4\n",
       "1    4\n",
       "Name: BSEV, dtype: int64"
      ]
     },
     "execution_count": 24,
     "metadata": {},
     "output_type": "execute_result"
    }
   ],
   "source": [
    "emdata5 = emdata.groupby('covertype')['BSEV'].max().sort_values(ascending = False)\n",
    "emdata5.head()"
   ]
  },
  {
   "cell_type": "code",
   "execution_count": 25,
   "metadata": {},
   "outputs": [
    {
     "data": {
      "text/plain": [
       "3    2782469\n",
       "1    1654890\n",
       "2    1523213\n",
       "Name: covertype, dtype: int64"
      ]
     },
     "execution_count": 25,
     "metadata": {},
     "output_type": "execute_result"
    }
   ],
   "source": [
    "# What does the cover type look like? Check how many unique values there are.\n",
    "emdata['covertype'].value_counts()"
   ]
  },
  {
   "cell_type": "code",
   "execution_count": 26,
   "metadata": {},
   "outputs": [
    {
     "data": {
      "text/html": [
       "<div>\n",
       "<style scoped>\n",
       "    .dataframe tbody tr th:only-of-type {\n",
       "        vertical-align: middle;\n",
       "    }\n",
       "\n",
       "    .dataframe tbody tr th {\n",
       "        vertical-align: top;\n",
       "    }\n",
       "\n",
       "    .dataframe thead th {\n",
       "        text-align: right;\n",
       "    }\n",
       "</style>\n",
       "<table border=\"1\" class=\"dataframe\">\n",
       "  <thead>\n",
       "    <tr style=\"text-align: right;\">\n",
       "      <th></th>\n",
       "      <th>cwd_frac</th>\n",
       "      <th>duff_frac</th>\n",
       "    </tr>\n",
       "  </thead>\n",
       "  <tbody>\n",
       "    <tr>\n",
       "      <td>mean</td>\n",
       "      <td>0.059988</td>\n",
       "      <td>0.076833</td>\n",
       "    </tr>\n",
       "    <tr>\n",
       "      <td>min</td>\n",
       "      <td>0.000000</td>\n",
       "      <td>0.000000</td>\n",
       "    </tr>\n",
       "    <tr>\n",
       "      <td>max</td>\n",
       "      <td>0.497034</td>\n",
       "      <td>0.800324</td>\n",
       "    </tr>\n",
       "  </tbody>\n",
       "</table>\n",
       "</div>"
      ],
      "text/plain": [
       "      cwd_frac  duff_frac\n",
       "mean  0.059988   0.076833\n",
       "min   0.000000   0.000000\n",
       "max   0.497034   0.800324"
      ]
     },
     "execution_count": 26,
     "metadata": {},
     "output_type": "execute_result"
    }
   ],
   "source": [
    "# CWD is Coarse Woody Debris and is the estimated quantity of deadwood in Old-Growth Forests\n",
    "# Duff is a term for the measurement of fallen plant material that is in the process of decomposition\n",
    "emdata[['cwd_frac', 'duff_frac']].agg(['mean','min','max'])"
   ]
  },
  {
   "cell_type": "code",
   "execution_count": 27,
   "metadata": {},
   "outputs": [
    {
     "data": {
      "text/html": [
       "<div>\n",
       "<style scoped>\n",
       "    .dataframe tbody tr th:only-of-type {\n",
       "        vertical-align: middle;\n",
       "    }\n",
       "\n",
       "    .dataframe tbody tr th {\n",
       "        vertical-align: top;\n",
       "    }\n",
       "\n",
       "    .dataframe thead th {\n",
       "        text-align: right;\n",
       "    }\n",
       "</style>\n",
       "<table border=\"1\" class=\"dataframe\">\n",
       "  <thead>\n",
       "    <tr style=\"text-align: right;\">\n",
       "      <th></th>\n",
       "      <th>prefire_fuel</th>\n",
       "      <th>consumed_fuel</th>\n",
       "    </tr>\n",
       "  </thead>\n",
       "  <tbody>\n",
       "    <tr>\n",
       "      <td>mean</td>\n",
       "      <td>2947.502844</td>\n",
       "      <td>1842.402260</td>\n",
       "    </tr>\n",
       "    <tr>\n",
       "      <td>min</td>\n",
       "      <td>3.810924</td>\n",
       "      <td>3.544159</td>\n",
       "    </tr>\n",
       "    <tr>\n",
       "      <td>max</td>\n",
       "      <td>13337.510830</td>\n",
       "      <td>10477.593715</td>\n",
       "    </tr>\n",
       "  </tbody>\n",
       "</table>\n",
       "</div>"
      ],
      "text/plain": [
       "      prefire_fuel  consumed_fuel\n",
       "mean   2947.502844    1842.402260\n",
       "min       3.810924       3.544159\n",
       "max   13337.510830   10477.593715"
      ]
     },
     "execution_count": 27,
     "metadata": {},
     "output_type": "execute_result"
    }
   ],
   "source": [
    "# The fuel a wildfire consumes is proportionate to the biomass unique to the surrounding geography\n",
    "emdata[['prefire_fuel', 'consumed_fuel']].agg(['mean','min','max'])"
   ]
  },
  {
   "cell_type": "code",
   "execution_count": 28,
   "metadata": {},
   "outputs": [
    {
     "data": {
      "text/plain": [
       "False"
      ]
     },
     "execution_count": 28,
     "metadata": {},
     "output_type": "execute_result"
    }
   ],
   "source": [
    "# Check if there are any empty/missing values from the csv that would cause errors when we run the scikit-learn tools\n",
    "emdata.isnull().values.any()"
   ]
  },
  {
   "cell_type": "markdown",
   "metadata": {},
   "source": [
    "### Visualization"
   ]
  },
  {
   "cell_type": "code",
   "execution_count": 29,
   "metadata": {},
   "outputs": [
    {
     "data": {
      "image/png": "[encoded data removed]",
      "text/plain": [
       "<Figure size 432x288 with 1 Axes>"
      ]
     },
     "metadata": {
      "needs_background": "light"
     },
     "output_type": "display_data"
    }
   ],
   "source": [
    "# Visualize the BSEV distribution by year\n",
    "fig, ax = plt.subplots()\n",
    "ax.hist(emdata['year'], bins=10, range = (emdata['year'].min(),emdata['year'].max()))\n",
    "plt.title('Fire Calendar Year')\n",
    "plt.xlabel('BSEV')\n",
    "plt.ylabel('count')\n",
    "plt.show()"
   ]
  },
  {
   "cell_type": "markdown",
   "metadata": {},
   "source": [
    "### Visualize the four (4) dependent variables \n",
    "\n",
    "Use seaborn to plot a histogram. We have 4 separate categories.\n",
    "1 (not burned), 2 (light), 3(med), 4 (heavy burn)"
   ]
  },
  {
   "cell_type": "code",
   "execution_count": 30,
   "metadata": {},
   "outputs": [
    {
     "data": {
      "image/png": "[encoded data removed]",
      "text/plain": [
       "<Figure size 432x288 with 1 Axes>"
      ]
     },
     "metadata": {
      "needs_background": "light"
     },
     "output_type": "display_data"
    }
   ],
   "source": [
    "# We have 4 separate categories: 1 (not burned), 2 (light), 3(med), 4 (heavy burn)\n",
    "sns.countplot(emdata['BSEV'],label=\"Count\")\n",
    "plt.show()"
   ]
  },
  {
   "cell_type": "markdown",
   "metadata": {},
   "source": [
    "### Calendar Year 2015 has the highest incidence of Wildfires from histogram ( see above)"
   ]
  },
  {
   "cell_type": "code",
   "execution_count": 31,
   "metadata": {},
   "outputs": [
    {
     "name": "stdout",
     "output_type": "stream",
     "text": [
      "There are 483,703 rows\n"
     ]
    }
   ],
   "source": [
    "# Focus on CY2015 which is the year in our data set that has the highest number of wildfires\n",
    "emdata2015 = emdata[(emdata.year == 2015)]\n",
    "print('There are {:,} rows'.format(len(emdata2015)))"
   ]
  },
  {
   "cell_type": "code",
   "execution_count": 32,
   "metadata": {},
   "outputs": [
    {
     "data": {
      "text/html": [
       "<div>\n",
       "<style scoped>\n",
       "    .dataframe tbody tr th:only-of-type {\n",
       "        vertical-align: middle;\n",
       "    }\n",
       "\n",
       "    .dataframe tbody tr th {\n",
       "        vertical-align: top;\n",
       "    }\n",
       "\n",
       "    .dataframe thead th {\n",
       "        text-align: right;\n",
       "    }\n",
       "</style>\n",
       "<table border=\"1\" class=\"dataframe\">\n",
       "  <thead>\n",
       "    <tr style=\"text-align: right;\">\n",
       "      <th></th>\n",
       "      <th>cwd_frac</th>\n",
       "      <th>duff_frac</th>\n",
       "    </tr>\n",
       "  </thead>\n",
       "  <tbody>\n",
       "    <tr>\n",
       "      <td>mean</td>\n",
       "      <td>0.098463</td>\n",
       "      <td>0.105320</td>\n",
       "    </tr>\n",
       "    <tr>\n",
       "      <td>min</td>\n",
       "      <td>0.000000</td>\n",
       "      <td>0.000000</td>\n",
       "    </tr>\n",
       "    <tr>\n",
       "      <td>max</td>\n",
       "      <td>0.497034</td>\n",
       "      <td>0.787142</td>\n",
       "    </tr>\n",
       "  </tbody>\n",
       "</table>\n",
       "</div>"
      ],
      "text/plain": [
       "      cwd_frac  duff_frac\n",
       "mean  0.098463   0.105320\n",
       "min   0.000000   0.000000\n",
       "max   0.497034   0.787142"
      ]
     },
     "execution_count": 32,
     "metadata": {},
     "output_type": "execute_result"
    }
   ],
   "source": [
    "# For CY2015 look at Coarse Woody Debris and Duff Decomposing Plant Material\n",
    "emdata2015[['cwd_frac', 'duff_frac']].agg(['mean','min','max'])"
   ]
  },
  {
   "cell_type": "code",
   "execution_count": 33,
   "metadata": {},
   "outputs": [
    {
     "data": {
      "text/html": [
       "<div>\n",
       "<style scoped>\n",
       "    .dataframe tbody tr th:only-of-type {\n",
       "        vertical-align: middle;\n",
       "    }\n",
       "\n",
       "    .dataframe tbody tr th {\n",
       "        vertical-align: top;\n",
       "    }\n",
       "\n",
       "    .dataframe thead th {\n",
       "        text-align: right;\n",
       "    }\n",
       "</style>\n",
       "<table border=\"1\" class=\"dataframe\">\n",
       "  <thead>\n",
       "    <tr style=\"text-align: right;\">\n",
       "      <th></th>\n",
       "      <th>prefire_fuel</th>\n",
       "      <th>consumed_fuel</th>\n",
       "    </tr>\n",
       "  </thead>\n",
       "  <tbody>\n",
       "    <tr>\n",
       "      <td>mean</td>\n",
       "      <td>3534.090742</td>\n",
       "      <td>2301.721913</td>\n",
       "    </tr>\n",
       "    <tr>\n",
       "      <td>min</td>\n",
       "      <td>3.810924</td>\n",
       "      <td>3.544159</td>\n",
       "    </tr>\n",
       "    <tr>\n",
       "      <td>max</td>\n",
       "      <td>13337.510830</td>\n",
       "      <td>9591.987935</td>\n",
       "    </tr>\n",
       "  </tbody>\n",
       "</table>\n",
       "</div>"
      ],
      "text/plain": [
       "      prefire_fuel  consumed_fuel\n",
       "mean   3534.090742    2301.721913\n",
       "min       3.810924       3.544159\n",
       "max   13337.510830    9591.987935"
      ]
     },
     "execution_count": 33,
     "metadata": {},
     "output_type": "execute_result"
    }
   ],
   "source": [
    "# Check the fuel a wildfire consumes for CY2015\n",
    "emdata2015[['prefire_fuel', 'consumed_fuel']].agg(['mean','min','max'])"
   ]
  },
  {
   "cell_type": "code",
   "execution_count": 34,
   "metadata": {},
   "outputs": [
    {
     "data": {
      "image/png": "[encoded data removed]",
      "text/plain": [
       "<Figure size 432x288 with 1 Axes>"
      ]
     },
     "metadata": {
      "needs_background": "light"
     },
     "output_type": "display_data"
    }
   ],
   "source": [
    "# Burn measurement categories for CY2015\n",
    "sns.countplot(emdata2015['BSEV'],label=\"Count\")\n",
    "plt.show()"
   ]
  },
  {
   "cell_type": "code",
   "execution_count": 35,
   "metadata": {},
   "outputs": [
    {
     "data": {
      "text/plain": [
       "<seaborn.axisgrid.FacetGrid at 0x22e5fdc0bc8>"
      ]
     },
     "execution_count": 35,
     "metadata": {},
     "output_type": "execute_result"
    },
    {
     "data": {
      "image/png": "[encoded data removed]",
      "text/plain": [
       "<Figure size 432x72 with 1 Axes>"
      ]
     },
     "metadata": {
      "needs_background": "light"
     },
     "output_type": "display_data"
    },
    {
     "data": {
      "text/plain": [
       "<Figure size 1440x432 with 0 Axes>"
      ]
     },
     "metadata": {},
     "output_type": "display_data"
    },
    {
     "data": {
      "image/png": "[encoded data removed]",
      "text/plain": [
       "<Figure size 489.75x432 with 1 Axes>"
      ]
     },
     "metadata": {
      "needs_background": "light"
     },
     "output_type": "display_data"
    }
   ],
   "source": [
    "flatui = [\"#9b59b6\", \"#3498db\", \"#95a5a6\", \"#e74c3c\", \"#34495e\", \"#2ecc71\"]\n",
    "sns.palplot(sns.color_palette(flatui))\n",
    "\n",
    "plt.figure(figsize=(20, 6))\n",
    "\n",
    "covertypeplot = sns.catplot(x=\"year\", y=\"ECO2\", hue='covertype', data=emdata2015,\n",
    "                height=6, kind=\"bar\", palette=flatui)\n",
    "covertypeplot.despine(left=True)\n",
    "covertypeplot.set_ylabels(\"CO2 Emissions Intensity\")"
   ]
  },
  {
   "cell_type": "markdown",
   "metadata": {},
   "source": [
    "### Histogram illustrates that largest number of wildfires consumed least amount PreFire Fuel Mass in hectares"
   ]
  },
  {
   "cell_type": "code",
   "execution_count": 36,
   "metadata": {},
   "outputs": [
    {
     "data": {
      "text/plain": [
       "Text(0, 0.5, 'Distributinon of PreFire Fuel Measurements')"
      ]
     },
     "execution_count": 36,
     "metadata": {},
     "output_type": "execute_result"
    },
    {
     "data": {
      "image/png": "[encoded data removed]",
      "text/plain": [
       "<Figure size 1440x432 with 1 Axes>"
      ]
     },
     "metadata": {
      "needs_background": "light"
     },
     "output_type": "display_data"
    }
   ],
   "source": [
    "plt.figure(figsize=(20, 6))\n",
    "sns.distplot(emdata2015['prefire_fuel'], hist = True, kde = True, bins=int(180/2), color = '#3498db', \n",
    "             kde_kws = {'shade': False, 'linewidth': 1, 'color': '#e74c3c'}, \n",
    "             hist_kws={'edgecolor':'#34495e'})\n",
    "             #label = 'Prefuel Fire Mass')\n",
    "\n",
    "plt.title('Histogram of PreFire Fuel Amounts in 2015')\n",
    "plt.xlabel('PreFire Fuel Mass')\n",
    "plt.ylabel('Distributinon of PreFire Fuel Measurements')"
   ]
  },
  {
   "cell_type": "markdown",
   "metadata": {},
   "source": [
    "### USDA Fire Emissions database covers all of CONUS"
   ]
  },
  {
   "cell_type": "code",
   "execution_count": 37,
   "metadata": {},
   "outputs": [
    {
     "data": {
      "text/plain": [
       "<function matplotlib.pyplot.show(*args, **kw)>"
      ]
     },
     "execution_count": 37,
     "metadata": {},
     "output_type": "execute_result"
    },
    {
     "data": {
      "image/png": "[encoded data removed]",
      "text/plain": [
       "<Figure size 432x288 with 1 Axes>"
      ]
     },
     "metadata": {
      "needs_background": "light"
     },
     "output_type": "display_data"
    }
   ],
   "source": [
    "# Show geographically the extent of wildfires in CY2015\n",
    "emdata2015.plot(kind=\"scatter\", x=\"longitude\", y=\"latitude\",alpha=0.8)\n",
    "\n",
    "plt.show"
   ]
  },
  {
   "cell_type": "markdown",
   "metadata": {},
   "source": [
    "### Lets limit the USDA dataset to just the state of California"
   ]
  },
  {
   "cell_type": "code",
   "execution_count": 38,
   "metadata": {},
   "outputs": [
    {
     "data": {
      "text/html": [
       "<div>\n",
       "<style scoped>\n",
       "    .dataframe tbody tr th:only-of-type {\n",
       "        vertical-align: middle;\n",
       "    }\n",
       "\n",
       "    .dataframe tbody tr th {\n",
       "        vertical-align: top;\n",
       "    }\n",
       "\n",
       "    .dataframe thead th {\n",
       "        text-align: right;\n",
       "    }\n",
       "</style>\n",
       "<table border=\"1\" class=\"dataframe\">\n",
       "  <thead>\n",
       "    <tr style=\"text-align: right;\">\n",
       "      <th></th>\n",
       "      <th>id</th>\n",
       "      <th>year</th>\n",
       "      <th>doy</th>\n",
       "      <th>longitude</th>\n",
       "      <th>latitude</th>\n",
       "      <th>covertype</th>\n",
       "      <th>fuelcode</th>\n",
       "      <th>area_burned</th>\n",
       "      <th>prefire_fuel</th>\n",
       "      <th>consumed_fuel</th>\n",
       "      <th>ECO2</th>\n",
       "      <th>ECO</th>\n",
       "      <th>ECH4</th>\n",
       "      <th>EPM2.5</th>\n",
       "      <th>cwd_frac</th>\n",
       "      <th>duff_frac</th>\n",
       "      <th>fuel_moisture_class</th>\n",
       "      <th>burn_source</th>\n",
       "      <th>BSEV</th>\n",
       "    </tr>\n",
       "  </thead>\n",
       "  <tbody>\n",
       "    <tr>\n",
       "      <td>5600950</td>\n",
       "      <td>277995</td>\n",
       "      <td>2015</td>\n",
       "      <td>201</td>\n",
       "      <td>-124.5848</td>\n",
       "      <td>48.342</td>\n",
       "      <td>3</td>\n",
       "      <td>1300</td>\n",
       "      <td>0.0</td>\n",
       "      <td>11715.036749</td>\n",
       "      <td>6469.142768</td>\n",
       "      <td>10053.047862</td>\n",
       "      <td>860.395988</td>\n",
       "      <td>48.389188</td>\n",
       "      <td>147.496455</td>\n",
       "      <td>0.464559</td>\n",
       "      <td>0.275379</td>\n",
       "      <td>2</td>\n",
       "      <td>3</td>\n",
       "      <td>1</td>\n",
       "    </tr>\n",
       "  </tbody>\n",
       "</table>\n",
       "</div>"
      ],
      "text/plain": [
       "             id  year  doy  longitude  latitude  covertype  fuelcode  \\\n",
       "5600950  277995  2015  201  -124.5848    48.342          3      1300   \n",
       "\n",
       "         area_burned  prefire_fuel  consumed_fuel          ECO2         ECO  \\\n",
       "5600950          0.0  11715.036749    6469.142768  10053.047862  860.395988   \n",
       "\n",
       "              ECH4      EPM2.5  cwd_frac  duff_frac  fuel_moisture_class  \\\n",
       "5600950  48.389188  147.496455  0.464559   0.275379                    2   \n",
       "\n",
       "         burn_source  BSEV  \n",
       "5600950            3     1  "
      ]
     },
     "execution_count": 38,
     "metadata": {},
     "output_type": "execute_result"
    }
   ],
   "source": [
    "# Creating a variable to toggle/limit the dataset to one year within the boundaries of California \n",
    "emdata2015_ca = emdata2015[(emdata2015.latitude > 34) & (emdata2015.longitude < -114)]\n",
    "emdata2015_ca[1:2]"
   ]
  },
  {
   "cell_type": "markdown",
   "metadata": {},
   "source": [
    "### Visualizing the Wildfire data points in California"
   ]
  },
  {
   "cell_type": "code",
   "execution_count": 39,
   "metadata": {},
   "outputs": [
    {
     "data": {
      "image/png": "[encoded data removed]",
      "text/plain": [
       "<Figure size 720x504 with 1 Axes>"
      ]
     },
     "metadata": {
      "needs_background": "light"
     },
     "output_type": "display_data"
    }
   ],
   "source": [
    "# California Fire Distribution Map\n",
    "import matplotlib.image as mpimg\n",
    "california_img=mpimg.imread('CaliforniaMapOutline.gif')\n",
    "emdata2015_ca.plot(kind=\"scatter\", x=\"longitude\", y=\"latitude\", c= \"red\", figsize=(10,7), alpha=0.1)\n",
    "plt.imshow(california_img, extent=[-124.55, -113.80, 32.45, 42.05], alpha=0.1)\n",
    "plt.title('California Fire Cluster Distribution') \n",
    "plt.show()"
   ]
  },
  {
   "cell_type": "code",
   "execution_count": 40,
   "metadata": {},
   "outputs": [],
   "source": [
    "# Removing select columns to shorten the box plot distribution\n",
    "emdata2015_ca2 = emdata2015_ca.drop(['id', 'covertype', 'cwd_frac', 'duff_frac'], 1)"
   ]
  },
  {
   "cell_type": "markdown",
   "metadata": {},
   "source": [
    "### Draw box diagram to see scale and quartiles of data"
   ]
  },
  {
   "cell_type": "code",
   "execution_count": 41,
   "metadata": {},
   "outputs": [
    {
     "data": {
      "text/plain": [
       "<matplotlib.axes._subplots.AxesSubplot at 0x22e60336808>"
      ]
     },
     "execution_count": 41,
     "metadata": {},
     "output_type": "execute_result"
    },
    {
     "data": {
      "image/png": "[encoded data removed]",
      "text/plain": [
       "<Figure size 1440x1080 with 1 Axes>"
      ]
     },
     "metadata": {},
     "output_type": "display_data"
    }
   ],
   "source": [
    "#draw box plot of see range of the data\n",
    "matplotlib.style.use('ggplot')\n",
    "emdata2015_ca2.plot(kind='box',figsize=(20,15))"
   ]
  },
  {
   "cell_type": "code",
   "execution_count": null,
   "metadata": {},
   "outputs": [],
   "source": []
  }
 ],
 "metadata": {
  "kernelspec": {
   "display_name": "Python 3",
   "language": "python",
   "name": "python3"
  },
  "language_info": {
   "codemirror_mode": {
    "name": "ipython",
    "version": 3
   },
   "file_extension": ".py",
   "mimetype": "text/x-python",
   "name": "python",
   "nbconvert_exporter": "python",
   "pygments_lexer": "ipython3",
   "version": "3.7.4"
  }
 },
 "nbformat": 4,
 "nbformat_minor": 2
}

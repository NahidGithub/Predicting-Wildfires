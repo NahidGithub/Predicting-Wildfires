{
 "cells": [
  {
   "cell_type": "markdown",
   "metadata": {},
   "source": [
    "# Determine Date Ranges across Clusters and Assign Range back to Cluster or Unique Fire Table:"
   ]
  },
  {
   "cell_type": "code",
   "execution_count": 26,
   "metadata": {},
   "outputs": [],
   "source": [
    "import pandas as pd, numpy as np, matplotlib.pyplot as plt, time\n",
    "from geopy.distance import great_circle\n",
    "import math\n",
    "from scipy import spatial"
   ]
  },
  {
   "cell_type": "markdown",
   "metadata": {},
   "source": [
    "## Loading data files and reducing Emissions Data to a year by year dataframe. "
   ]
  },
  {
   "cell_type": "code",
   "execution_count": 2,
   "metadata": {},
   "outputs": [],
   "source": [
    "pd.set_option('display.max_columns', 40)"
   ]
  },
  {
   "cell_type": "markdown",
   "metadata": {},
   "source": [
    "FiresClusters2010 = pd.read_csv('/Users/AlfHaugen/Python/Wildfire_Data/FireExports/Emissions Cluster Data/Emissions2010_DBScan_Clusters.csv')"
   ]
  },
  {
   "cell_type": "code",
   "execution_count": 4,
   "metadata": {},
   "outputs": [],
   "source": [
    "Clusterpoints2010 = pd.read_csv('/Users/AlfHaugen/Python/Wildfire_Data/FireExports/Emissions Cluster Data/Emclustermakeup_2010.csv')"
   ]
  },
  {
   "cell_type": "code",
   "execution_count": 7,
   "metadata": {},
   "outputs": [],
   "source": [
    "emdata = pd.read_csv('/Users/AlfHaugen/Python/Wildfire_Data/9 Missoula Emisions Data RDS-2017-0039/Emissions_Year/emissions_year2003to2015.csv')"
   ]
  },
  {
   "cell_type": "markdown",
   "metadata": {},
   "source": [
    "## Pairing down Emissions Data to just the year that matches the Cluster DB Scan year. "
   ]
  },
  {
   "cell_type": "markdown",
   "metadata": {},
   "source": [
    "## Select/Mark Year for Run"
   ]
  },
  {
   "cell_type": "code",
   "execution_count": 38,
   "metadata": {},
   "outputs": [],
   "source": [
    "pullyear = 2010"
   ]
  },
  {
   "cell_type": "code",
   "execution_count": 39,
   "metadata": {},
   "outputs": [
    {
     "data": {
      "text/html": [
       "<div>\n",
       "<style scoped>\n",
       "    .dataframe tbody tr th:only-of-type {\n",
       "        vertical-align: middle;\n",
       "    }\n",
       "\n",
       "    .dataframe tbody tr th {\n",
       "        vertical-align: top;\n",
       "    }\n",
       "\n",
       "    .dataframe thead th {\n",
       "        text-align: right;\n",
       "    }\n",
       "</style>\n",
       "<table border=\"1\" class=\"dataframe\">\n",
       "  <thead>\n",
       "    <tr style=\"text-align: right;\">\n",
       "      <th></th>\n",
       "      <th>id</th>\n",
       "      <th>year</th>\n",
       "      <th>doy</th>\n",
       "      <th>longitude</th>\n",
       "      <th>latitude</th>\n",
       "      <th>grid10k</th>\n",
       "      <th>covertype</th>\n",
       "      <th>fuelcode</th>\n",
       "      <th>area_burned</th>\n",
       "      <th>prefire_fuel</th>\n",
       "      <th>consumed_fuel</th>\n",
       "      <th>ECO2</th>\n",
       "      <th>ECO</th>\n",
       "      <th>ECH4</th>\n",
       "      <th>EPM2.5</th>\n",
       "      <th>cwd_frac</th>\n",
       "      <th>duff_frac</th>\n",
       "      <th>fuel_moisture_class</th>\n",
       "      <th>burn_source</th>\n",
       "      <th>burnday_source</th>\n",
       "      <th>BSEV</th>\n",
       "      <th>BSEV_flag</th>\n",
       "    </tr>\n",
       "  </thead>\n",
       "  <tbody>\n",
       "    <tr>\n",
       "      <th>3865595</th>\n",
       "      <td>0</td>\n",
       "      <td>2010</td>\n",
       "      <td>335</td>\n",
       "      <td>-80.5883</td>\n",
       "      <td>25.4635</td>\n",
       "      <td>5923</td>\n",
       "      <td>95</td>\n",
       "      <td>0</td>\n",
       "      <td>62500.0</td>\n",
       "      <td>0.0</td>\n",
       "      <td>0.0</td>\n",
       "      <td>0.0</td>\n",
       "      <td>0.0</td>\n",
       "      <td>0.0</td>\n",
       "      <td>0.0</td>\n",
       "      <td>0.0</td>\n",
       "      <td>0.0</td>\n",
       "      <td>2</td>\n",
       "      <td>1</td>\n",
       "      <td>77</td>\n",
       "      <td>2</td>\n",
       "      <td>0</td>\n",
       "    </tr>\n",
       "    <tr>\n",
       "      <th>3865596</th>\n",
       "      <td>1</td>\n",
       "      <td>2010</td>\n",
       "      <td>335</td>\n",
       "      <td>-80.5858</td>\n",
       "      <td>25.4631</td>\n",
       "      <td>5923</td>\n",
       "      <td>95</td>\n",
       "      <td>0</td>\n",
       "      <td>62500.0</td>\n",
       "      <td>0.0</td>\n",
       "      <td>0.0</td>\n",
       "      <td>0.0</td>\n",
       "      <td>0.0</td>\n",
       "      <td>0.0</td>\n",
       "      <td>0.0</td>\n",
       "      <td>0.0</td>\n",
       "      <td>0.0</td>\n",
       "      <td>2</td>\n",
       "      <td>1</td>\n",
       "      <td>77</td>\n",
       "      <td>2</td>\n",
       "      <td>0</td>\n",
       "    </tr>\n",
       "    <tr>\n",
       "      <th>3865597</th>\n",
       "      <td>2</td>\n",
       "      <td>2010</td>\n",
       "      <td>335</td>\n",
       "      <td>-80.5834</td>\n",
       "      <td>25.4628</td>\n",
       "      <td>5923</td>\n",
       "      <td>95</td>\n",
       "      <td>0</td>\n",
       "      <td>62500.0</td>\n",
       "      <td>0.0</td>\n",
       "      <td>0.0</td>\n",
       "      <td>0.0</td>\n",
       "      <td>0.0</td>\n",
       "      <td>0.0</td>\n",
       "      <td>0.0</td>\n",
       "      <td>0.0</td>\n",
       "      <td>0.0</td>\n",
       "      <td>2</td>\n",
       "      <td>1</td>\n",
       "      <td>77</td>\n",
       "      <td>2</td>\n",
       "      <td>0</td>\n",
       "    </tr>\n",
       "    <tr>\n",
       "      <th>3865598</th>\n",
       "      <td>3</td>\n",
       "      <td>2010</td>\n",
       "      <td>335</td>\n",
       "      <td>-80.5810</td>\n",
       "      <td>25.4624</td>\n",
       "      <td>5923</td>\n",
       "      <td>95</td>\n",
       "      <td>0</td>\n",
       "      <td>62500.0</td>\n",
       "      <td>0.0</td>\n",
       "      <td>0.0</td>\n",
       "      <td>0.0</td>\n",
       "      <td>0.0</td>\n",
       "      <td>0.0</td>\n",
       "      <td>0.0</td>\n",
       "      <td>0.0</td>\n",
       "      <td>0.0</td>\n",
       "      <td>2</td>\n",
       "      <td>1</td>\n",
       "      <td>77</td>\n",
       "      <td>2</td>\n",
       "      <td>0</td>\n",
       "    </tr>\n",
       "    <tr>\n",
       "      <th>3865599</th>\n",
       "      <td>4</td>\n",
       "      <td>2010</td>\n",
       "      <td>335</td>\n",
       "      <td>-80.5879</td>\n",
       "      <td>25.4657</td>\n",
       "      <td>5923</td>\n",
       "      <td>95</td>\n",
       "      <td>0</td>\n",
       "      <td>62500.0</td>\n",
       "      <td>0.0</td>\n",
       "      <td>0.0</td>\n",
       "      <td>0.0</td>\n",
       "      <td>0.0</td>\n",
       "      <td>0.0</td>\n",
       "      <td>0.0</td>\n",
       "      <td>0.0</td>\n",
       "      <td>0.0</td>\n",
       "      <td>2</td>\n",
       "      <td>1</td>\n",
       "      <td>77</td>\n",
       "      <td>2</td>\n",
       "      <td>0</td>\n",
       "    </tr>\n",
       "  </tbody>\n",
       "</table>\n",
       "</div>"
      ],
      "text/plain": [
       "         id  year  doy  longitude  latitude  grid10k  covertype  fuelcode  \\\n",
       "3865595   0  2010  335   -80.5883   25.4635     5923         95         0   \n",
       "3865596   1  2010  335   -80.5858   25.4631     5923         95         0   \n",
       "3865597   2  2010  335   -80.5834   25.4628     5923         95         0   \n",
       "3865598   3  2010  335   -80.5810   25.4624     5923         95         0   \n",
       "3865599   4  2010  335   -80.5879   25.4657     5923         95         0   \n",
       "\n",
       "         area_burned  prefire_fuel  consumed_fuel  ECO2  ECO  ECH4  EPM2.5  \\\n",
       "3865595      62500.0           0.0            0.0   0.0  0.0   0.0     0.0   \n",
       "3865596      62500.0           0.0            0.0   0.0  0.0   0.0     0.0   \n",
       "3865597      62500.0           0.0            0.0   0.0  0.0   0.0     0.0   \n",
       "3865598      62500.0           0.0            0.0   0.0  0.0   0.0     0.0   \n",
       "3865599      62500.0           0.0            0.0   0.0  0.0   0.0     0.0   \n",
       "\n",
       "         cwd_frac  duff_frac  fuel_moisture_class  burn_source  \\\n",
       "3865595       0.0        0.0                    2            1   \n",
       "3865596       0.0        0.0                    2            1   \n",
       "3865597       0.0        0.0                    2            1   \n",
       "3865598       0.0        0.0                    2            1   \n",
       "3865599       0.0        0.0                    2            1   \n",
       "\n",
       "         burnday_source  BSEV  BSEV_flag  \n",
       "3865595              77     2          0  \n",
       "3865596              77     2          0  \n",
       "3865597              77     2          0  \n",
       "3865598              77     2          0  \n",
       "3865599              77     2          0  "
      ]
     },
     "execution_count": 39,
     "metadata": {},
     "output_type": "execute_result"
    }
   ],
   "source": [
    "emdata2010 = emdata[(emdata.year == pullyear)]\n",
    "emdata2010.head()"
   ]
  },
  {
   "cell_type": "code",
   "execution_count": 40,
   "metadata": {},
   "outputs": [
    {
     "data": {
      "text/plain": [
       "(270486, 5)"
      ]
     },
     "execution_count": 40,
     "metadata": {},
     "output_type": "execute_result"
    }
   ],
   "source": [
    "Clusterpoints2010.shape"
   ]
  },
  {
   "cell_type": "code",
   "execution_count": 41,
   "metadata": {},
   "outputs": [
    {
     "data": {
      "text/html": [
       "<div>\n",
       "<style scoped>\n",
       "    .dataframe tbody tr th:only-of-type {\n",
       "        vertical-align: middle;\n",
       "    }\n",
       "\n",
       "    .dataframe tbody tr th {\n",
       "        vertical-align: top;\n",
       "    }\n",
       "\n",
       "    .dataframe thead th {\n",
       "        text-align: right;\n",
       "    }\n",
       "</style>\n",
       "<table border=\"1\" class=\"dataframe\">\n",
       "  <thead>\n",
       "    <tr style=\"text-align: right;\">\n",
       "      <th></th>\n",
       "      <th>Unnamed: 0</th>\n",
       "      <th>0</th>\n",
       "      <th>1</th>\n",
       "      <th>ClusterNum</th>\n",
       "      <th>Year</th>\n",
       "    </tr>\n",
       "  </thead>\n",
       "  <tbody>\n",
       "    <tr>\n",
       "      <th>270483</th>\n",
       "      <td>270483</td>\n",
       "      <td>48.7412</td>\n",
       "      <td>-119.5757</td>\n",
       "      <td>8234</td>\n",
       "      <td>2010</td>\n",
       "    </tr>\n",
       "    <tr>\n",
       "      <th>270484</th>\n",
       "      <td>270484</td>\n",
       "      <td>48.8160</td>\n",
       "      <td>-119.2463</td>\n",
       "      <td>8235</td>\n",
       "      <td>2010</td>\n",
       "    </tr>\n",
       "    <tr>\n",
       "      <th>270485</th>\n",
       "      <td>270485</td>\n",
       "      <td>48.9655</td>\n",
       "      <td>-119.2912</td>\n",
       "      <td>8236</td>\n",
       "      <td>2010</td>\n",
       "    </tr>\n",
       "  </tbody>\n",
       "</table>\n",
       "</div>"
      ],
      "text/plain": [
       "        Unnamed: 0        0         1  ClusterNum  Year\n",
       "270483      270483  48.7412 -119.5757        8234  2010\n",
       "270484      270484  48.8160 -119.2463        8235  2010\n",
       "270485      270485  48.9655 -119.2912        8236  2010"
      ]
     },
     "execution_count": 41,
     "metadata": {},
     "output_type": "execute_result"
    }
   ],
   "source": [
    "Clusterpoints2010.tail(3)"
   ]
  },
  {
   "cell_type": "markdown",
   "metadata": {},
   "source": [
    "### Testing iloc function across cluster points DF:\n",
    "Clusterpoints2011.iloc[710000]"
   ]
  },
  {
   "cell_type": "code",
   "execution_count": 42,
   "metadata": {},
   "outputs": [
    {
     "name": "stdout",
     "output_type": "stream",
     "text": [
      "25.4924\n",
      "-80.5657\n",
      "2010\n",
      "8236\n"
     ]
    }
   ],
   "source": [
    "clusterindex = 2\n",
    "clusterindex = int(clusterindex)\n",
    "\n",
    "templat = Clusterpoints2010.iloc[clusterindex]['0']\n",
    "templong = Clusterpoints2010.iloc[clusterindex]['1']\n",
    "tempyear = Clusterpoints2010.iloc[clusterindex]['Year']\n",
    "tempCNmax = Clusterpoints2010['ClusterNum'].max()\n",
    "tempyear = int(tempyear)\n",
    "templong = round(templong,4)\n",
    "\n",
    "print(templat)\n",
    "print(templong)\n",
    "print(tempyear)\n",
    "print(tempCNmax)      "
   ]
  },
  {
   "cell_type": "markdown",
   "metadata": {},
   "source": [
    "----"
   ]
  },
  {
   "cell_type": "markdown",
   "metadata": {},
   "source": [
    "# Define Function to Pull DOY from Emissions Data:\n",
    "### Function will go through Cluster Points file from DBScan and for each index row, will pull [Coordinates, ClusterNum and Year], and match these to the Emissions data file. Function will pull the DOY feature and place it into a new dataframe."
   ]
  },
  {
   "cell_type": "code",
   "execution_count": 43,
   "metadata": {},
   "outputs": [],
   "source": [
    "def pulldoyfromtargetdf(datapointsforcluster, targetdf_doy):\n",
    "    clusterindex = 0\n",
    "    clusterindex = int(clusterindex)\n",
    "    \n",
    "    cluserdatapoints_doy = pd.DataFrame()\n",
    "    \n",
    "    ### Test and execution While Loop.  It does work with 1 entry point. \n",
    "    #while clusterindex < 770256:\n",
    "    while clusterindex < len(datapointsforcluster):\n",
    "        ### for each coordinate point in the FireClusterNum sets which is the cluster group for each centerpoint from the DBScan files, go into the original data set and pull\n",
    "        ### the doy over into a new dataframe. \n",
    "        tempclunum1 = datapointsforcluster.iloc[clusterindex]['ClusterNum']\n",
    "        templat1 = datapointsforcluster.iloc[clusterindex]['0']\n",
    "        templong1 = datapointsforcluster.iloc[clusterindex]['1']\n",
    "        tempyear1 = datapointsforcluster.iloc[clusterindex]['Year']\n",
    "        tempyear1 = int(tempyear1)\n",
    "        \n",
    "        search_doy1 = targetdf_doy.loc[(targetdf_doy['year'] == tempyear1) & (targetdf_doy['latitude'] == templat1) & (targetdf_doy['longitude'] == templong1)]\n",
    "        ret_doy1 = search_doy1['doy']\n",
    "        #retdoy1 = int(retdoy1)\n",
    "\n",
    "        \n",
    "        doytemp = pd.DataFrame({'latitude':[templat1], 'longitude': [templong1], 'ClusterNum':[tempclunum1], 'Year': [tempyear1], 'doy':[ret_doy1]})\n",
    "        cluserdatapoints_doy = cluserdatapoints_doy.append(doytemp, ignore_index = True)\n",
    "\n",
    "        clusterindex = clusterindex + 1     \n",
    "    return cluserdatapoints_doy                                              \n",
    "    "
   ]
  },
  {
   "cell_type": "markdown",
   "metadata": {},
   "source": [
    "# Run Function to pull DOYs from target file (Emissions Data):"
   ]
  },
  {
   "cell_type": "markdown",
   "metadata": {},
   "source": [
    "### Size of files:"
   ]
  },
  {
   "cell_type": "code",
   "execution_count": 44,
   "metadata": {},
   "outputs": [
    {
     "name": "stdout",
     "output_type": "stream",
     "text": [
      "270486 378858\n"
     ]
    }
   ],
   "source": [
    "a = len(Clusterpoints2010)\n",
    "b = len(emdata2010)\n",
    "print(a, b)"
   ]
  },
  {
   "cell_type": "code",
   "execution_count": null,
   "metadata": {},
   "outputs": [],
   "source": [
    "start_time = time.time()\n",
    "doypull_clusterpoints = pulldoyfromtargetdf(Clusterpoints2010, emdata2010)\n",
    "message = 'run in {:,.2f} seconds'\n",
    "print(message.format(time.time()-start_time))"
   ]
  },
  {
   "cell_type": "code",
   "execution_count": null,
   "metadata": {},
   "outputs": [],
   "source": [
    "doypull_clusterpoints.tail(10)"
   ]
  },
  {
   "cell_type": "code",
   "execution_count": null,
   "metadata": {},
   "outputs": [],
   "source": [
    "doypull_clusterpoints.to_csv('/Users/AlfHaugen/Python/Wildfire_Data/FireExports/ClusterDP_doy_2010.csv', encoding='utf-8')"
   ]
  },
  {
   "cell_type": "markdown",
   "metadata": {},
   "source": [
    "# Define Function to determine the DOY Range for each Cluster Number:\n",
    "### Function will go through each cluster number set and determing the Max and Min DOY for the cluster and pull into a new DF. "
   ]
  },
  {
   "cell_type": "code",
   "execution_count": null,
   "metadata": {},
   "outputs": [],
   "source": [
    "def determinedaterange(clusterdoydf):\n",
    "    cnumindex = 0\n",
    "    maxclusternum = clusterdoydf['ClusterNum'].max()\n",
    "    ClusterNumDateRange = pd.DataFrame()\n",
    "    \n",
    "    while cnumindex < maxclusternum:\n",
    "        clustnumsel = clusterdoydf[(clusterdoydf.ClusterNum == cnumindex)]\n",
    "    \n",
    "        doymax = clustnumsel['doy'].max()\n",
    "        doymin = clustnumsel['doy'].min()\n",
    "        doyyear = clustnumsel['Year']\n",
    "    \n",
    "        dftemp = ({'ClusterNum': [cnumindex], 'Year': [doyyear], 'doy_min': [doymin], 'doy_max': [doymax]})\n",
    "        ClusterNumDateRange = ClusterNumDateRange.append(dftemp, ignore_index = True)\n",
    "        \n",
    "        cnumindex = cnumindex + 1\n",
    "    \n",
    "    return ClusterNumDateRange"
   ]
  },
  {
   "cell_type": "code",
   "execution_count": null,
   "metadata": {},
   "outputs": [],
   "source": []
  },
  {
   "cell_type": "code",
   "execution_count": null,
   "metadata": {},
   "outputs": [],
   "source": []
  },
  {
   "cell_type": "markdown",
   "metadata": {},
   "source": [
    "------------------------"
   ]
  },
  {
   "cell_type": "markdown",
   "metadata": {},
   "source": [
    "# ---  Alternative Did Not Work - only pulled one line --- "
   ]
  },
  {
   "cell_type": "markdown",
   "metadata": {},
   "source": [
    "# K-D Tree to Repeat Function to pull DOY from Emissions Data. "
   ]
  },
  {
   "cell_type": "markdown",
   "metadata": {},
   "source": [
    "### Define coordinates into cartesian numbers.  6371 is kms. "
   ]
  },
  {
   "cell_type": "code",
   "execution_count": 13,
   "metadata": {},
   "outputs": [],
   "source": [
    "def cartesian(latitude, longitude, elevation = 0):\n",
    "    # Convert to radians\n",
    "    latitude = latitude * (math.pi / 180)\n",
    "    longitude = longitude * (math.pi / 180)\n",
    "\n",
    "    R = 6371 # 6378137.0 + elevation  # relative to centre of the earth\n",
    "    X = R * math.cos(latitude) * math.cos(longitude)\n",
    "    Y = R * math.cos(latitude) * math.sin(longitude)\n",
    "    Z = R * math.sin(latitude)\n",
    "    return (X, Y, Z)"
   ]
  },
  {
   "cell_type": "markdown",
   "metadata": {},
   "source": [
    "### Place target data/coordinates into a Places List in order to change into Cartesian coordinates. "
   ]
  },
  {
   "cell_type": "code",
   "execution_count": 15,
   "metadata": {},
   "outputs": [
    {
     "data": {
      "text/plain": [
       "(940.8795796237181, -5674.6643169387, 2739.08223803334)"
      ]
     },
     "execution_count": 15,
     "metadata": {},
     "output_type": "execute_result"
    }
   ],
   "source": [
    "places = []\n",
    "for index, row in emdata2010.iterrows():\n",
    "    coordinates = [row['latitude'], row['longitude']]\n",
    "    cartesian_coord = cartesian(*coordinates)\n",
    "    places.append(cartesian_coord)\n",
    "\n",
    "tree = spatial.KDTree(places)\n",
    "places[1]"
   ]
  },
  {
   "cell_type": "code",
   "execution_count": 21,
   "metadata": {},
   "outputs": [],
   "source": [
    "def find_coord_doy(lat, lon):\n",
    "    cartesian_coord = cartesian(lat, lon)\n",
    "    coordmatch = tree.query([cartesian_coord], p = 2)\n",
    "    index = coordmatch[1][0]\n",
    "    return coordmatch"
   ]
  },
  {
   "cell_type": "markdown",
   "metadata": {},
   "source": [
    "## Function to determine match across coordinates and pull DOY over into new DF. "
   ]
  },
  {
   "cell_type": "markdown",
   "metadata": {},
   "source": [
    "def pulldoyfromtargetdf(datapointsforcluster, emdataset):\n",
    "    clusterindex = 0\n",
    "    clusterindex = int(clusterindex)\n",
    "    \n",
    "    cluserdatapoints_doy = pd.DataFrame()\n",
    "    \n",
    "    ### Test and execution While Loop.  It does work with 1 entry point. \n",
    "    while clusterindex < 5:\n",
    "    #while clusterindex < len(datapointsforcluster):\n",
    "        ### for each coordinate point in the FireClusterNum sets which is the cluster group for each centerpoint from the DBScan files, go into the original data set and pull\n",
    "        ### the doy over into a new dataframe. \n",
    "        tempclunum2 = datapointsforcluster.iloc[clusterindex]['ClusterNum']\n",
    "        templat2 = datapointsforcluster.iloc[clusterindex]['0']\n",
    "        templong2 = datapointsforcluster.iloc[clusterindex]['1']\n",
    "        tempyear2 = datapointsforcluster.iloc[clusterindex]['Year']\n",
    "        tempyear2 = int(tempyear2)\n",
    "        \n",
    "        # Running K-D Tree function to find coordindate match:\n",
    "        coord_match = find_coord_doy(templat2, templong2)\n",
    "        targetlocation = coord_match[1]\n",
    "        targetlocation = int(targetlocation)\n",
    "        \n",
    "        #Lines to pull data from the target dataframe, will need to be customized to the target DF. \n",
    "        target_lat = emdataset.iloc[targetlocation]['latitude']\n",
    "        target_long = emdataset.iloc[targetlocation]['longitude']\n",
    "        target_doy = emdataset.iloc[targetlocation]['doy']\n",
    "        target_doy = int(target_doy)\n",
    "        \n",
    "        #Create new dataframe pulling in features from clusters and doy from original data set. \n",
    "        doytemp = pd.DataFrame({'cluster_latitude': [templat2], 'cluster_long':[templong2],'ClusterNum':[tempclunum2], 'target_latitude':[target_lat], 'target_longitude': [target_long],\n",
    "                                'Year': [tempyear2], 'doy':[target_doy]})\n",
    "        clusterdatapoints_doy = cluserdatapoints_doy.append(doytemp, ignore_index = True)\n",
    "\n",
    "        clusterindex = clusterindex + 1     \n",
    "    return clusterdatapoints_doy                                              \n",
    "    "
   ]
  },
  {
   "cell_type": "markdown",
   "metadata": {},
   "source": [
    "## Assess size of input files:"
   ]
  },
  {
   "cell_type": "markdown",
   "metadata": {},
   "source": [
    "## Run Function"
   ]
  },
  {
   "cell_type": "code",
   "execution_count": 34,
   "metadata": {},
   "outputs": [
    {
     "name": "stdout",
     "output_type": "stream",
     "text": [
      "run in 0.02 seconds\n"
     ]
    }
   ],
   "source": [
    "start_time = time.time()\n",
    "cdoyfinal = pulldoyfromtargetdf(Clusterpoints2010, emdata2010)\n",
    "message = 'run in {:,.2f} seconds'\n",
    "print(message.format(time.time()-start_time))"
   ]
  },
  {
   "cell_type": "code",
   "execution_count": 35,
   "metadata": {},
   "outputs": [
    {
     "data": {
      "text/html": [
       "<div>\n",
       "<style scoped>\n",
       "    .dataframe tbody tr th:only-of-type {\n",
       "        vertical-align: middle;\n",
       "    }\n",
       "\n",
       "    .dataframe tbody tr th {\n",
       "        vertical-align: top;\n",
       "    }\n",
       "\n",
       "    .dataframe thead th {\n",
       "        text-align: right;\n",
       "    }\n",
       "</style>\n",
       "<table border=\"1\" class=\"dataframe\">\n",
       "  <thead>\n",
       "    <tr style=\"text-align: right;\">\n",
       "      <th></th>\n",
       "      <th>cluster_latitude</th>\n",
       "      <th>cluster_long</th>\n",
       "      <th>ClusterNum</th>\n",
       "      <th>target_latitude</th>\n",
       "      <th>target_longitude</th>\n",
       "      <th>Year</th>\n",
       "      <th>doy</th>\n",
       "    </tr>\n",
       "  </thead>\n",
       "  <tbody>\n",
       "    <tr>\n",
       "      <th>0</th>\n",
       "      <td>48.9655</td>\n",
       "      <td>-119.2912</td>\n",
       "      <td>8236.0</td>\n",
       "      <td>48.9655</td>\n",
       "      <td>-119.2912</td>\n",
       "      <td>2010</td>\n",
       "      <td>214</td>\n",
       "    </tr>\n",
       "  </tbody>\n",
       "</table>\n",
       "</div>"
      ],
      "text/plain": [
       "   cluster_latitude  cluster_long  ClusterNum  target_latitude  \\\n",
       "0           48.9655     -119.2912      8236.0          48.9655   \n",
       "\n",
       "   target_longitude  Year  doy  \n",
       "0         -119.2912  2010  214  "
      ]
     },
     "execution_count": 35,
     "metadata": {},
     "output_type": "execute_result"
    }
   ],
   "source": [
    "clusterdatapoints_doy"
   ]
  },
  {
   "cell_type": "code",
   "execution_count": 32,
   "metadata": {},
   "outputs": [
    {
     "data": {
      "text/html": [
       "<div>\n",
       "<style scoped>\n",
       "    .dataframe tbody tr th:only-of-type {\n",
       "        vertical-align: middle;\n",
       "    }\n",
       "\n",
       "    .dataframe tbody tr th {\n",
       "        vertical-align: top;\n",
       "    }\n",
       "\n",
       "    .dataframe thead th {\n",
       "        text-align: right;\n",
       "    }\n",
       "</style>\n",
       "<table border=\"1\" class=\"dataframe\">\n",
       "  <thead>\n",
       "    <tr style=\"text-align: right;\">\n",
       "      <th></th>\n",
       "      <th>cluster_latitude</th>\n",
       "      <th>cluster_long</th>\n",
       "      <th>ClusterNum</th>\n",
       "      <th>target_latitude</th>\n",
       "      <th>target_longitude</th>\n",
       "      <th>Year</th>\n",
       "      <th>doy</th>\n",
       "    </tr>\n",
       "  </thead>\n",
       "  <tbody>\n",
       "    <tr>\n",
       "      <th>0</th>\n",
       "      <td>48.9655</td>\n",
       "      <td>-119.2912</td>\n",
       "      <td>8236.0</td>\n",
       "      <td>48.9655</td>\n",
       "      <td>-119.2912</td>\n",
       "      <td>2010</td>\n",
       "      <td>214</td>\n",
       "    </tr>\n",
       "  </tbody>\n",
       "</table>\n",
       "</div>"
      ],
      "text/plain": [
       "   cluster_latitude  cluster_long  ClusterNum  target_latitude  \\\n",
       "0           48.9655     -119.2912      8236.0          48.9655   \n",
       "\n",
       "   target_longitude  Year  doy  \n",
       "0         -119.2912  2010  214  "
      ]
     },
     "execution_count": 32,
     "metadata": {},
     "output_type": "execute_result"
    }
   ],
   "source": [
    "cdoyfinal.head(10)"
   ]
  },
  {
   "cell_type": "code",
   "execution_count": 30,
   "metadata": {},
   "outputs": [
    {
     "data": {
      "text/plain": [
       "Unnamed: 0       5.0000\n",
       "0               25.6299\n",
       "1              -81.0530\n",
       "ClusterNum       1.0000\n",
       "Year          2010.0000\n",
       "Name: 5, dtype: float64"
      ]
     },
     "execution_count": 30,
     "metadata": {},
     "output_type": "execute_result"
    }
   ],
   "source": [
    "Clusterpoints2010.iloc[5]"
   ]
  },
  {
   "cell_type": "code",
   "execution_count": null,
   "metadata": {},
   "outputs": [],
   "source": []
  }
 ],
 "metadata": {
  "kernelspec": {
   "display_name": "Python 3",
   "language": "python",
   "name": "python3"
  },
  "language_info": {
   "codemirror_mode": {
    "name": "ipython",
    "version": 3
   },
   "file_extension": ".py",
   "mimetype": "text/x-python",
   "name": "python",
   "nbconvert_exporter": "python",
   "pygments_lexer": "ipython3",
   "version": "3.7.3"
  }
 },
 "nbformat": 4,
 "nbformat_minor": 2
}

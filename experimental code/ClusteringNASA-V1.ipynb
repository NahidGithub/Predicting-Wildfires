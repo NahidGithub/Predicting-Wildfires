{
 "cells": [
  {
   "cell_type": "markdown",
   "metadata": {},
   "source": [
    "\n"
   ]
  },
  {
   "cell_type": "markdown",
   "metadata": {},
   "source": [
    "#### Comparison of NASA-ViiRS, MTBS, and Emiossion on JULY 2014"
   ]
  },
  {
   "cell_type": "markdown",
   "metadata": {},
   "source": [
    "# Using DBSCAN to reduce the size of the spacial dataset"
   ]
  },
  {
   "cell_type": "code",
   "execution_count": 130,
   "metadata": {},
   "outputs": [],
   "source": [
    "import pandas as pd, numpy as np, matplotlib.pyplot as plt, time\n",
    "import datetime\n",
    "from sklearn.cluster import DBSCAN\n",
    "from sklearn import metrics\n",
    "from geopy.distance import great_circle\n",
    "from shapely.geometry import MultiPoint\n",
    "%matplotlib inline"
   ]
  },
  {
   "cell_type": "code",
   "execution_count": 138,
   "metadata": {},
   "outputs": [],
   "source": [
    "### Load File. \n",
    "FRPdf = pd.read_csv('/Users/nahidmacbook/Documents/DataScience/Data-Wildfire/fire_archive_V1_106931.csv')\n",
    "\n",
    "# add a new column, fire_month\n",
    "FRPdf['fire_month'] = pd.DatetimeIndex(FRPdf['acq_date']).month\n"
   ]
  },
  {
   "cell_type": "code",
   "execution_count": 139,
   "metadata": {},
   "outputs": [
    {
     "data": {
      "text/plain": [
       "Series([], dtype: float64)"
      ]
     },
     "execution_count": 139,
     "metadata": {},
     "output_type": "execute_result"
    }
   ],
   "source": [
    "# Check for null values\n",
    "\n",
    "null_columns=FRPdf.columns[FRPdf.isnull().any()]\n",
    "FRPdf[null_columns].isnull().sum()"
   ]
  },
  {
   "cell_type": "code",
   "execution_count": 118,
   "metadata": {},
   "outputs": [
    {
     "data": {
      "text/plain": [
       "2809"
      ]
     },
     "execution_count": 118,
     "metadata": {},
     "output_type": "execute_result"
    }
   ],
   "source": [
    "# check the number of unique dates existing in the dataset\n",
    "FRPdf.acq_date.nunique()"
   ]
  },
  {
   "cell_type": "code",
   "execution_count": 135,
   "metadata": {},
   "outputs": [
    {
     "data": {
      "text/plain": [
       "(3829694, 15)"
      ]
     },
     "execution_count": 135,
     "metadata": {},
     "output_type": "execute_result"
    }
   ],
   "source": [
    "# check the shape of the V1 NASA dataset\n",
    "FRPdf.shape"
   ]
  },
  {
   "cell_type": "code",
   "execution_count": 3,
   "metadata": {},
   "outputs": [
    {
     "name": "stdout",
     "output_type": "stream",
     "text": [
      "There are 44,579 rows\n"
     ]
    }
   ],
   "source": [
    "# create a new dataframe for the data of July 2014, limit the long/lat to the states\n",
    "FRPdf2014 = FRPdf[(FRPdf.acq_date >= '2014') & (FRPdf.acq_date < '2015') & (FRPdf.fire_month == 7) & (FRPdf.longitude > -140) & (FRPdf.latitude <50)]\n",
    "print('There are {:,} rows'.format(len(FRPdf2014)))"
   ]
  },
  {
   "cell_type": "code",
   "execution_count": 4,
   "metadata": {},
   "outputs": [
    {
     "name": "stdout",
     "output_type": "stream",
     "text": [
      "3956\n"
     ]
    }
   ],
   "source": [
    "kms_per_radian = 3956\n",
    "### 3956 for miles, 6371.0088 for kilometers\n",
    "print(kms_per_radian)"
   ]
  },
  {
   "cell_type": "markdown",
   "metadata": {},
   "source": [
    "### Compute DBSCAN\n",
    "\n",
    " #####   eps is the physical distance from each point that forms its neighborhood\n",
    "#####    min_samples is the min cluster size, otherwise it's noise - set to 1 so we get no noise\n",
    "\n",
    "##### Extract the lat, lon columns into a numpy matrix of coordinates, then convert to radians when you call fit, for use by scikit-learn's haversine metric."
   ]
  },
  {
   "cell_type": "code",
   "execution_count": 5,
   "metadata": {
    "scrolled": false
   },
   "outputs": [
    {
     "name": "stderr",
     "output_type": "stream",
     "text": [
      "/Users/nahidmacbook/opt/anaconda3/lib/python3.7/site-packages/ipykernel_launcher.py:1: FutureWarning: Method .as_matrix will be removed in a future version. Use .values instead.\n",
      "  \"\"\"Entry point for launching an IPython kernel.\n"
     ]
    }
   ],
   "source": [
    "coords = FRPdf2014.as_matrix(columns=['latitude', 'longitude'])\n",
    "epsilon = 1.5 / kms_per_radian"
   ]
  },
  {
   "cell_type": "markdown",
   "metadata": {},
   "source": [
    "## Defining the Clustering Functions"
   ]
  },
  {
   "cell_type": "code",
   "execution_count": 126,
   "metadata": {
    "scrolled": true
   },
   "outputs": [
    {
     "name": "stdout",
     "output_type": "stream",
     "text": [
      "Clustered 44,579 points down to 4,626 clusters, for 89.6% compression in 3.21 seconds\n",
      "Silhouette coefficient: 0.629\n"
     ]
    }
   ],
   "source": [
    "start_time = time.time()\n",
    "db = DBSCAN(eps=epsilon, min_samples=1, algorithm='ball_tree', metric='haversine').fit(np.radians(coords))\n",
    "cluster_labels = db.labels_\n",
    "\n",
    "# get the number of clusters\n",
    "num_clusters = len(set(cluster_labels))\n",
    "\n",
    "# all done, print the outcome\n",
    "message = 'Clustered {:,} points down to {:,} clusters, for {:.1f}% compression in {:,.2f} seconds'\n",
    "print(message.format(len(FRPdf2014), num_clusters, 100*(1 - float(num_clusters) / len(FRPdf2014)), time.time()-start_time))\n",
    "print('Silhouette coefficient: {:0.03f}'.format(metrics.silhouette_score(coords, cluster_labels)))\n"
   ]
  },
  {
   "cell_type": "code",
   "execution_count": 127,
   "metadata": {},
   "outputs": [],
   "source": [
    "# turn the clusters into a pandas series, where each element is a cluster of points\n",
    "clusters = pd.Series([coords[cluster_labels==n] for n in range(num_clusters)])"
   ]
  },
  {
   "cell_type": "markdown",
   "metadata": {},
   "source": [
    "###### Add this line of code here if min-sample > 1:\n",
    "\n",
    "clusters.pop(num_clusters-1)"
   ]
  },
  {
   "cell_type": "markdown",
   "metadata": {},
   "source": [
    "## Find the point in each cluster that is closest to its centroid\n",
    "\n",
    "DBSCAN clusters may be non-convex. This technique just returns one representative point from each cluster. First get the lat,lon coordinates of the cluster's centroid (shapely represents the first coordinate in the tuple as x and the second as y, so lat is x and lon is y here). Then find the member of the cluster with the smallest great circle distance to the centroid.\n"
   ]
  },
  {
   "cell_type": "code",
   "execution_count": 125,
   "metadata": {
    "scrolled": true
   },
   "outputs": [],
   "source": [
    "def get_centermost_point(cluster):\n",
    "    centroid = (MultiPoint(cluster).centroid.x, MultiPoint(cluster).centroid.y)\n",
    "    centermost_point = min(cluster, key=lambda point: great_circle(point, centroid).m)\n",
    "    return tuple(centermost_point)\n",
    "\n",
    "centermost_points = clusters.map(get_centermost_point)"
   ]
  },
  {
   "cell_type": "code",
   "execution_count": 85,
   "metadata": {},
   "outputs": [
    {
     "name": "stdout",
     "output_type": "stream",
     "text": [
      "<zip object at 0x115f74500>\n"
     ]
    }
   ],
   "source": [
    "# unzip the list of centermost points (lat, lon) tuples into separate lat and lon lists\n",
    "latlon = zip(*centermost_points)\n",
    "print(latlon)"
   ]
  },
  {
   "cell_type": "code",
   "execution_count": 86,
   "metadata": {},
   "outputs": [],
   "source": [
    "# unzip the list of centermost points (lat, lon) tuples into separate lat and lon lists\n",
    "latitude, longitude = zip(*centermost_points)"
   ]
  },
  {
   "cell_type": "code",
   "execution_count": 87,
   "metadata": {},
   "outputs": [
    {
     "name": "stdout",
     "output_type": "stream",
     "text": [
      "(42.92069, 41.86785, 42.05053, 42.49828) (-76.8341, -76.05788000000001, -73.97713, -73.81472)\n"
     ]
    }
   ],
   "source": [
    "print(latitude[1:5], longitude[1:5])"
   ]
  },
  {
   "cell_type": "code",
   "execution_count": 88,
   "metadata": {},
   "outputs": [
    {
     "data": {
      "text/html": [
       "<div>\n",
       "<style scoped>\n",
       "    .dataframe tbody tr th:only-of-type {\n",
       "        vertical-align: middle;\n",
       "    }\n",
       "\n",
       "    .dataframe tbody tr th {\n",
       "        vertical-align: top;\n",
       "    }\n",
       "\n",
       "    .dataframe thead th {\n",
       "        text-align: right;\n",
       "    }\n",
       "</style>\n",
       "<table border=\"1\" class=\"dataframe\">\n",
       "  <thead>\n",
       "    <tr style=\"text-align: right;\">\n",
       "      <th></th>\n",
       "      <th>longitude</th>\n",
       "      <th>latitude</th>\n",
       "    </tr>\n",
       "  </thead>\n",
       "  <tbody>\n",
       "    <tr>\n",
       "      <td>0</td>\n",
       "      <td>-77.93596</td>\n",
       "      <td>43.06091</td>\n",
       "    </tr>\n",
       "    <tr>\n",
       "      <td>1</td>\n",
       "      <td>-76.83410</td>\n",
       "      <td>42.92069</td>\n",
       "    </tr>\n",
       "    <tr>\n",
       "      <td>2</td>\n",
       "      <td>-76.05788</td>\n",
       "      <td>41.86785</td>\n",
       "    </tr>\n",
       "    <tr>\n",
       "      <td>3</td>\n",
       "      <td>-73.97713</td>\n",
       "      <td>42.05053</td>\n",
       "    </tr>\n",
       "    <tr>\n",
       "      <td>4</td>\n",
       "      <td>-73.81472</td>\n",
       "      <td>42.49828</td>\n",
       "    </tr>\n",
       "  </tbody>\n",
       "</table>\n",
       "</div>"
      ],
      "text/plain": [
       "   longitude  latitude\n",
       "0  -77.93596  43.06091\n",
       "1  -76.83410  42.92069\n",
       "2  -76.05788  41.86785\n",
       "3  -73.97713  42.05053\n",
       "4  -73.81472  42.49828"
      ]
     },
     "execution_count": 88,
     "metadata": {},
     "output_type": "execute_result"
    }
   ],
   "source": [
    "# from these lats/lons create a new df of one representative point for each cluster\n",
    "rep_points = pd.DataFrame({'longitude':longitude, 'latitude':latitude})\n",
    "rep_points.head()"
   ]
  },
  {
   "cell_type": "code",
   "execution_count": 89,
   "metadata": {},
   "outputs": [
    {
     "data": {
      "text/html": [
       "<div>\n",
       "<style scoped>\n",
       "    .dataframe tbody tr th:only-of-type {\n",
       "        vertical-align: middle;\n",
       "    }\n",
       "\n",
       "    .dataframe tbody tr th {\n",
       "        vertical-align: top;\n",
       "    }\n",
       "\n",
       "    .dataframe thead th {\n",
       "        text-align: right;\n",
       "    }\n",
       "</style>\n",
       "<table border=\"1\" class=\"dataframe\">\n",
       "  <thead>\n",
       "    <tr style=\"text-align: right;\">\n",
       "      <th></th>\n",
       "      <th>latitude</th>\n",
       "      <th>longitude</th>\n",
       "      <th>bright_ti4</th>\n",
       "      <th>scan</th>\n",
       "      <th>track</th>\n",
       "      <th>acq_date</th>\n",
       "      <th>acq_time</th>\n",
       "      <th>satellite</th>\n",
       "      <th>instrument</th>\n",
       "      <th>confidence</th>\n",
       "      <th>version</th>\n",
       "      <th>bright_ti5</th>\n",
       "      <th>frp</th>\n",
       "      <th>type</th>\n",
       "      <th>fire_month</th>\n",
       "    </tr>\n",
       "  </thead>\n",
       "  <tbody>\n",
       "    <tr>\n",
       "      <td>4621</td>\n",
       "      <td>43.57063</td>\n",
       "      <td>-111.99709</td>\n",
       "      <td>341.1</td>\n",
       "      <td>0.56</td>\n",
       "      <td>0.52</td>\n",
       "      <td>2014-07-31</td>\n",
       "      <td>2107</td>\n",
       "      <td>N</td>\n",
       "      <td>VIIRS</td>\n",
       "      <td>n</td>\n",
       "      <td>1</td>\n",
       "      <td>304.1</td>\n",
       "      <td>6.3</td>\n",
       "      <td>0</td>\n",
       "      <td>7</td>\n",
       "    </tr>\n",
       "    <tr>\n",
       "      <td>4622</td>\n",
       "      <td>42.04901</td>\n",
       "      <td>-122.34482</td>\n",
       "      <td>367.0</td>\n",
       "      <td>0.39</td>\n",
       "      <td>0.36</td>\n",
       "      <td>2014-07-31</td>\n",
       "      <td>2107</td>\n",
       "      <td>N</td>\n",
       "      <td>VIIRS</td>\n",
       "      <td>h</td>\n",
       "      <td>1</td>\n",
       "      <td>348.3</td>\n",
       "      <td>111.1</td>\n",
       "      <td>0</td>\n",
       "      <td>7</td>\n",
       "    </tr>\n",
       "    <tr>\n",
       "      <td>4623</td>\n",
       "      <td>42.69392</td>\n",
       "      <td>-122.95065</td>\n",
       "      <td>345.1</td>\n",
       "      <td>0.39</td>\n",
       "      <td>0.36</td>\n",
       "      <td>2014-07-31</td>\n",
       "      <td>2107</td>\n",
       "      <td>N</td>\n",
       "      <td>VIIRS</td>\n",
       "      <td>n</td>\n",
       "      <td>1</td>\n",
       "      <td>300.6</td>\n",
       "      <td>6.1</td>\n",
       "      <td>0</td>\n",
       "      <td>7</td>\n",
       "    </tr>\n",
       "    <tr>\n",
       "      <td>4624</td>\n",
       "      <td>42.09565</td>\n",
       "      <td>-122.75276</td>\n",
       "      <td>333.1</td>\n",
       "      <td>0.39</td>\n",
       "      <td>0.36</td>\n",
       "      <td>2014-07-31</td>\n",
       "      <td>2107</td>\n",
       "      <td>N</td>\n",
       "      <td>VIIRS</td>\n",
       "      <td>n</td>\n",
       "      <td>1</td>\n",
       "      <td>297.3</td>\n",
       "      <td>2.5</td>\n",
       "      <td>0</td>\n",
       "      <td>7</td>\n",
       "    </tr>\n",
       "    <tr>\n",
       "      <td>4625</td>\n",
       "      <td>48.98907</td>\n",
       "      <td>-112.10309</td>\n",
       "      <td>347.2</td>\n",
       "      <td>0.62</td>\n",
       "      <td>0.54</td>\n",
       "      <td>2014-07-31</td>\n",
       "      <td>2108</td>\n",
       "      <td>N</td>\n",
       "      <td>VIIRS</td>\n",
       "      <td>n</td>\n",
       "      <td>1</td>\n",
       "      <td>312.1</td>\n",
       "      <td>25.6</td>\n",
       "      <td>0</td>\n",
       "      <td>7</td>\n",
       "    </tr>\n",
       "  </tbody>\n",
       "</table>\n",
       "</div>"
      ],
      "text/plain": [
       "      latitude  longitude  bright_ti4  scan  track    acq_date  acq_time  \\\n",
       "4621  43.57063 -111.99709       341.1  0.56   0.52  2014-07-31      2107   \n",
       "4622  42.04901 -122.34482       367.0  0.39   0.36  2014-07-31      2107   \n",
       "4623  42.69392 -122.95065       345.1  0.39   0.36  2014-07-31      2107   \n",
       "4624  42.09565 -122.75276       333.1  0.39   0.36  2014-07-31      2107   \n",
       "4625  48.98907 -112.10309       347.2  0.62   0.54  2014-07-31      2108   \n",
       "\n",
       "     satellite instrument confidence  version  bright_ti5    frp  type  \\\n",
       "4621         N      VIIRS          n        1       304.1    6.3     0   \n",
       "4622         N      VIIRS          h        1       348.3  111.1     0   \n",
       "4623         N      VIIRS          n        1       300.6    6.1     0   \n",
       "4624         N      VIIRS          n        1       297.3    2.5     0   \n",
       "4625         N      VIIRS          n        1       312.1   25.6     0   \n",
       "\n",
       "      fire_month  \n",
       "4621           7  \n",
       "4622           7  \n",
       "4623           7  \n",
       "4624           7  \n",
       "4625           7  "
      ]
     },
     "execution_count": 89,
     "metadata": {},
     "output_type": "execute_result"
    }
   ],
   "source": [
    "# pull row from original data set where lat/lon match the lat/lon of each row of representative points\n",
    "# that way we get the full details like city, country, and date from the original dataframe\n",
    "\n",
    "#FRPdf2014 = FRPdf[(FRPdf.acq_date >= '2014') & (FRPdf.acq_date < '2015') & (FRPdf.fire_month == 8)]\n",
    "rs = rep_points.apply(lambda row: FRPdf2014[(FRPdf2014['latitude']==row['latitude']) & (FRPdf2014['longitude']==row['longitude'])].iloc[0], axis=1)\n",
    "rs.to_csv('/Users/nahidmacbook/Documents/DataScience/Data-Wildfire/ClusteredNASA-V1.csv', encoding='utf-8')\n",
    "rs.tail()"
   ]
  },
  {
   "cell_type": "code",
   "execution_count": 90,
   "metadata": {},
   "outputs": [
    {
     "data": {
      "image/png": "[encoded data removed]",
      "text/plain": [
       "<Figure size 720x432 with 1 Axes>"
      ]
     },
     "metadata": {
      "needs_background": "light"
     },
     "output_type": "display_data"
    }
   ],
   "source": [
    "# plot the final reduced set of coordinate points vs the original full set\n",
    "fig, ax = plt.subplots(figsize=[10, 6])\n",
    "rs_scatter = ax.scatter(rs['longitude'], rs['latitude'], c='#99cc99', edgecolor='None', alpha=0.7, s=120)\n",
    "df_scatter = ax.scatter(FRPdf2014['longitude'], FRPdf2014['latitude'], c='k', alpha=0.9, s=3)\n",
    "ax.set_title('July 2014 NASA Active Fires - Full data set vs DBSCAN reduced set')\n",
    "ax.set_xlabel('Longitude')\n",
    "ax.set_ylabel('Latitude')\n",
    "ax.legend([df_scatter, rs_scatter], ['Full set', 'Reduced set'], loc='upper right')\n",
    "plt.show()"
   ]
  },
  {
   "cell_type": "markdown",
   "metadata": {},
   "source": [
    "## MTBS Fires - Plotting for July 2014"
   ]
  },
  {
   "cell_type": "code",
   "execution_count": 98,
   "metadata": {},
   "outputs": [
    {
     "data": {
      "text/plain": [
       "110"
      ]
     },
     "execution_count": 98,
     "metadata": {},
     "output_type": "execute_result"
    }
   ],
   "source": [
    "MTBSbound = pd.read_csv('/Users/nahidmacbook/Documents/DataScience/Data-Wildfire/MTBS_Burned_Area_Boundary.csv')\n",
    "MTBSbound2014 = MTBSbound[(MTBSbound.YEAR == 2014) & (MTBSbound.STARTMONTH == 7)]\n",
    "MTBSbound2014.FIRE_ID.nunique()"
   ]
  },
  {
   "cell_type": "code",
   "execution_count": 99,
   "metadata": {},
   "outputs": [
    {
     "data": {
      "text/html": [
       "<div>\n",
       "<style scoped>\n",
       "    .dataframe tbody tr th:only-of-type {\n",
       "        vertical-align: middle;\n",
       "    }\n",
       "\n",
       "    .dataframe tbody tr th {\n",
       "        vertical-align: top;\n",
       "    }\n",
       "\n",
       "    .dataframe thead th {\n",
       "        text-align: right;\n",
       "    }\n",
       "</style>\n",
       "<table border=\"1\" class=\"dataframe\">\n",
       "  <thead>\n",
       "    <tr style=\"text-align: right;\">\n",
       "      <th></th>\n",
       "      <th>X</th>\n",
       "      <th>Y</th>\n",
       "      <th>OBJECTID</th>\n",
       "      <th>FIRE_ID</th>\n",
       "      <th>ASMNT_TYPE</th>\n",
       "      <th>PRE_ID</th>\n",
       "      <th>POST_ID</th>\n",
       "      <th>NODATA_THRESHOLD</th>\n",
       "      <th>LOW_THRESHOLD</th>\n",
       "      <th>MODERATE_THRESHOLD</th>\n",
       "      <th>HIGH_THRESHOLD</th>\n",
       "      <th>LATITUDE</th>\n",
       "      <th>LONGITUDE</th>\n",
       "      <th>FIRE_TYPE</th>\n",
       "      <th>FIRE_NAME</th>\n",
       "      <th>GREENNESS_THRESHOLD</th>\n",
       "      <th>IG_DATE</th>\n",
       "      <th>ACRES</th>\n",
       "    </tr>\n",
       "  </thead>\n",
       "  <tbody>\n",
       "    <tr>\n",
       "      <td>0</td>\n",
       "      <td>-81.280003</td>\n",
       "      <td>25.952005</td>\n",
       "      <td>1001</td>\n",
       "      <td>FL2595208128019860107</td>\n",
       "      <td>Initial (SS)</td>\n",
       "      <td>NaN</td>\n",
       "      <td>50160421986000</td>\n",
       "      <td>-9999</td>\n",
       "      <td>460</td>\n",
       "      <td>-9999</td>\n",
       "      <td>-9999</td>\n",
       "      <td>25.952</td>\n",
       "      <td>-81.280</td>\n",
       "      <td>Prescribed Fire</td>\n",
       "      <td>BASSLK TRR</td>\n",
       "      <td>-9999</td>\n",
       "      <td>1986-01-07T00:00:00.000Z</td>\n",
       "      <td>2750</td>\n",
       "    </tr>\n",
       "    <tr>\n",
       "      <td>1</td>\n",
       "      <td>-97.235007</td>\n",
       "      <td>30.130005</td>\n",
       "      <td>1002</td>\n",
       "      <td>TX3015109722520110904</td>\n",
       "      <td>Extended</td>\n",
       "      <td>50270392010235</td>\n",
       "      <td>70270392012200</td>\n",
       "      <td>-970</td>\n",
       "      <td>70</td>\n",
       "      <td>293</td>\n",
       "      <td>550</td>\n",
       "      <td>30.130</td>\n",
       "      <td>-97.235</td>\n",
       "      <td>Wildfire</td>\n",
       "      <td>BASTROP COUNTY COMPLEX</td>\n",
       "      <td>-150</td>\n",
       "      <td>2011-09-04T00:00:00.000Z</td>\n",
       "      <td>31838</td>\n",
       "    </tr>\n",
       "    <tr>\n",
       "      <td>2</td>\n",
       "      <td>-107.527011</td>\n",
       "      <td>43.639007</td>\n",
       "      <td>1003</td>\n",
       "      <td>WY4363910752719960825</td>\n",
       "      <td>Initial</td>\n",
       "      <td>50360301995241</td>\n",
       "      <td>50360301996200</td>\n",
       "      <td>-970</td>\n",
       "      <td>110</td>\n",
       "      <td>286</td>\n",
       "      <td>510</td>\n",
       "      <td>43.639</td>\n",
       "      <td>-107.527</td>\n",
       "      <td>Wildfire</td>\n",
       "      <td>BATES</td>\n",
       "      <td>-150</td>\n",
       "      <td>1996-08-25T00:00:00.000Z</td>\n",
       "      <td>47060</td>\n",
       "    </tr>\n",
       "    <tr>\n",
       "      <td>3</td>\n",
       "      <td>-102.297009</td>\n",
       "      <td>31.818005</td>\n",
       "      <td>1004</td>\n",
       "      <td>TX3178810230220110403</td>\n",
       "      <td>Initial (SS)</td>\n",
       "      <td>NaN</td>\n",
       "      <td>50300382011100</td>\n",
       "      <td>-9999</td>\n",
       "      <td>-60</td>\n",
       "      <td>-335</td>\n",
       "      <td>-9999</td>\n",
       "      <td>31.818</td>\n",
       "      <td>-102.297</td>\n",
       "      <td>Wildfire</td>\n",
       "      <td>BATES FIELD FIRE</td>\n",
       "      <td>-9999</td>\n",
       "      <td>2011-04-03T00:00:00.000Z</td>\n",
       "      <td>3186</td>\n",
       "    </tr>\n",
       "    <tr>\n",
       "      <td>4</td>\n",
       "      <td>-104.973009</td>\n",
       "      <td>33.180005</td>\n",
       "      <td>1005</td>\n",
       "      <td>NM3322210500120110807</td>\n",
       "      <td>Initial (SS)</td>\n",
       "      <td>NaN</td>\n",
       "      <td>50320372011300</td>\n",
       "      <td>-9999</td>\n",
       "      <td>-70</td>\n",
       "      <td>-200</td>\n",
       "      <td>-9999</td>\n",
       "      <td>33.180</td>\n",
       "      <td>-104.973</td>\n",
       "      <td>Wildfire</td>\n",
       "      <td>BATON ROUGE COMPLEX</td>\n",
       "      <td>-9999</td>\n",
       "      <td>2011-08-07T00:00:00.000Z</td>\n",
       "      <td>21641</td>\n",
       "    </tr>\n",
       "  </tbody>\n",
       "</table>\n",
       "</div>"
      ],
      "text/plain": [
       "            X          Y  OBJECTID                FIRE_ID    ASMNT_TYPE  \\\n",
       "0  -81.280003  25.952005      1001  FL2595208128019860107  Initial (SS)   \n",
       "1  -97.235007  30.130005      1002  TX3015109722520110904      Extended   \n",
       "2 -107.527011  43.639007      1003  WY4363910752719960825       Initial   \n",
       "3 -102.297009  31.818005      1004  TX3178810230220110403  Initial (SS)   \n",
       "4 -104.973009  33.180005      1005  NM3322210500120110807  Initial (SS)   \n",
       "\n",
       "           PRE_ID         POST_ID  NODATA_THRESHOLD  LOW_THRESHOLD  \\\n",
       "0             NaN  50160421986000             -9999            460   \n",
       "1  50270392010235  70270392012200              -970             70   \n",
       "2  50360301995241  50360301996200              -970            110   \n",
       "3             NaN  50300382011100             -9999            -60   \n",
       "4             NaN  50320372011300             -9999            -70   \n",
       "\n",
       "   MODERATE_THRESHOLD  HIGH_THRESHOLD  LATITUDE  LONGITUDE        FIRE_TYPE  \\\n",
       "0               -9999           -9999    25.952    -81.280  Prescribed Fire   \n",
       "1                 293             550    30.130    -97.235         Wildfire   \n",
       "2                 286             510    43.639   -107.527         Wildfire   \n",
       "3                -335           -9999    31.818   -102.297         Wildfire   \n",
       "4                -200           -9999    33.180   -104.973         Wildfire   \n",
       "\n",
       "                FIRE_NAME  GREENNESS_THRESHOLD                   IG_DATE  \\\n",
       "0              BASSLK TRR                -9999  1986-01-07T00:00:00.000Z   \n",
       "1  BASTROP COUNTY COMPLEX                 -150  2011-09-04T00:00:00.000Z   \n",
       "2                   BATES                 -150  1996-08-25T00:00:00.000Z   \n",
       "3        BATES FIELD FIRE                -9999  2011-04-03T00:00:00.000Z   \n",
       "4     BATON ROUGE COMPLEX                -9999  2011-08-07T00:00:00.000Z   \n",
       "\n",
       "   ACRES  \n",
       "0   2750  \n",
       "1  31838  \n",
       "2  47060  \n",
       "3   3186  \n",
       "4  21641  "
      ]
     },
     "execution_count": 99,
     "metadata": {},
     "output_type": "execute_result"
    }
   ],
   "source": [
    "MTBSfire = pd.read_csv('/Users/nahidmacbook/Documents/DataScience/Data-Wildfire/MTBS_Fire_Occurrence_Locations.csv')\n",
    "MTBSfire.head()\n"
   ]
  },
  {
   "cell_type": "code",
   "execution_count": 100,
   "metadata": {},
   "outputs": [
    {
     "data": {
      "text/plain": [
       "110"
      ]
     },
     "execution_count": 100,
     "metadata": {},
     "output_type": "execute_result"
    }
   ],
   "source": [
    "### Create new dataframe, to then append data you want. \n",
    "MTBS2014 = pd.merge(MTBSbound2014, \n",
    "                   MTBSfire[['FIRE_ID','FIRE_NAME', 'LATITUDE', 'LONGITUDE', 'FIRE_TYPE']],\n",
    "                     on ='FIRE_ID', \n",
    "                    how ='inner')\n",
    "MTBS2014.FIRE_ID.nunique()"
   ]
  },
  {
   "cell_type": "code",
   "execution_count": 101,
   "metadata": {},
   "outputs": [
    {
     "data": {
      "text/plain": [
       "<function matplotlib.pyplot.show(*args, **kw)>"
      ]
     },
     "execution_count": 101,
     "metadata": {},
     "output_type": "execute_result"
    },
    {
     "data": {
      "image/png": "[encoded data removed]",
      "text/plain": [
       "<Figure size 432x288 with 1 Axes>"
      ]
     },
     "metadata": {
      "needs_background": "light"
     },
     "output_type": "display_data"
    }
   ],
   "source": [
    "# Unique Fires in July of 2014\n",
    "\n",
    "import matplotlib.pyplot as plt\n",
    "MTBS2014.plot(kind=\"scatter\", x=\"LONGITUDE\", y=\"LATITUDE\",alpha=0.8)\n",
    "plt.title('Monitoring Trends in Burn Severity - July 2014 Unique Fires')\n",
    "plt.show"
   ]
  },
  {
   "cell_type": "markdown",
   "metadata": {},
   "source": [
    "## Emission - Plotting for July 2014"
   ]
  },
  {
   "cell_type": "code",
   "execution_count": 136,
   "metadata": {},
   "outputs": [
    {
     "data": {
      "text/plain": [
       "(7254534, 22)"
      ]
     },
     "execution_count": 136,
     "metadata": {},
     "output_type": "execute_result"
    }
   ],
   "source": [
    "# load emission data into csv and check the shape of the dataset\n",
    "Emission = pd.read_csv('/Users/nahidmacbook/Documents/DataScience/Data-Wildfire/emissions_year2003to2015.csv')\n",
    "Emission.shape"
   ]
  },
  {
   "cell_type": "code",
   "execution_count": 137,
   "metadata": {},
   "outputs": [
    {
     "data": {
      "text/plain": [
       "2048759"
      ]
     },
     "execution_count": 137,
     "metadata": {},
     "output_type": "execute_result"
    }
   ],
   "source": [
    "# check the number of unique fire ids\n",
    "Emission.id.nunique()"
   ]
  },
  {
   "cell_type": "code",
   "execution_count": 102,
   "metadata": {},
   "outputs": [
    {
     "data": {
      "text/html": [
       "<div>\n",
       "<style scoped>\n",
       "    .dataframe tbody tr th:only-of-type {\n",
       "        vertical-align: middle;\n",
       "    }\n",
       "\n",
       "    .dataframe tbody tr th {\n",
       "        vertical-align: top;\n",
       "    }\n",
       "\n",
       "    .dataframe thead th {\n",
       "        text-align: right;\n",
       "    }\n",
       "</style>\n",
       "<table border=\"1\" class=\"dataframe\">\n",
       "  <thead>\n",
       "    <tr style=\"text-align: right;\">\n",
       "      <th></th>\n",
       "      <th>id</th>\n",
       "      <th>year</th>\n",
       "      <th>doy</th>\n",
       "      <th>longitude</th>\n",
       "      <th>latitude</th>\n",
       "      <th>grid10k</th>\n",
       "      <th>covertype</th>\n",
       "      <th>fuelcode</th>\n",
       "      <th>area_burned</th>\n",
       "      <th>prefire_fuel</th>\n",
       "      <th>...</th>\n",
       "      <th>ECO</th>\n",
       "      <th>ECH4</th>\n",
       "      <th>EPM2.5</th>\n",
       "      <th>cwd_frac</th>\n",
       "      <th>duff_frac</th>\n",
       "      <th>fuel_moisture_class</th>\n",
       "      <th>burn_source</th>\n",
       "      <th>burnday_source</th>\n",
       "      <th>BSEV</th>\n",
       "      <th>BSEV_flag</th>\n",
       "    </tr>\n",
       "  </thead>\n",
       "  <tbody>\n",
       "    <tr>\n",
       "      <td>6270930</td>\n",
       "      <td>380713</td>\n",
       "      <td>2014</td>\n",
       "      <td>198</td>\n",
       "      <td>-121.9847</td>\n",
       "      <td>48.7158</td>\n",
       "      <td>131429</td>\n",
       "      <td>3</td>\n",
       "      <td>1260</td>\n",
       "      <td>62500.0</td>\n",
       "      <td>6989.973251</td>\n",
       "      <td>...</td>\n",
       "      <td>629.822967</td>\n",
       "      <td>35.421623</td>\n",
       "      <td>107.969652</td>\n",
       "      <td>0.321165</td>\n",
       "      <td>0.245802</td>\n",
       "      <td>2</td>\n",
       "      <td>2</td>\n",
       "      <td>12</td>\n",
       "      <td>3</td>\n",
       "      <td>1</td>\n",
       "    </tr>\n",
       "    <tr>\n",
       "      <td>6270931</td>\n",
       "      <td>380714</td>\n",
       "      <td>2014</td>\n",
       "      <td>198</td>\n",
       "      <td>-121.9815</td>\n",
       "      <td>48.7164</td>\n",
       "      <td>131429</td>\n",
       "      <td>3</td>\n",
       "      <td>1260</td>\n",
       "      <td>62500.0</td>\n",
       "      <td>6989.973251</td>\n",
       "      <td>...</td>\n",
       "      <td>552.142166</td>\n",
       "      <td>31.052808</td>\n",
       "      <td>94.652943</td>\n",
       "      <td>0.366350</td>\n",
       "      <td>0.280383</td>\n",
       "      <td>2</td>\n",
       "      <td>2</td>\n",
       "      <td>12</td>\n",
       "      <td>2</td>\n",
       "      <td>1</td>\n",
       "    </tr>\n",
       "    <tr>\n",
       "      <td>6270932</td>\n",
       "      <td>382357</td>\n",
       "      <td>2014</td>\n",
       "      <td>198</td>\n",
       "      <td>-121.9838</td>\n",
       "      <td>48.7136</td>\n",
       "      <td>131429</td>\n",
       "      <td>0</td>\n",
       "      <td>0</td>\n",
       "      <td>0.0</td>\n",
       "      <td>0.000000</td>\n",
       "      <td>...</td>\n",
       "      <td>0.000000</td>\n",
       "      <td>0.000000</td>\n",
       "      <td>0.000000</td>\n",
       "      <td>0.000000</td>\n",
       "      <td>0.000000</td>\n",
       "      <td>2</td>\n",
       "      <td>2</td>\n",
       "      <td>12</td>\n",
       "      <td>0</td>\n",
       "      <td>1</td>\n",
       "    </tr>\n",
       "    <tr>\n",
       "      <td>6270933</td>\n",
       "      <td>382358</td>\n",
       "      <td>2014</td>\n",
       "      <td>195</td>\n",
       "      <td>-121.9806</td>\n",
       "      <td>48.7142</td>\n",
       "      <td>131429</td>\n",
       "      <td>3</td>\n",
       "      <td>1260</td>\n",
       "      <td>0.0</td>\n",
       "      <td>6989.973251</td>\n",
       "      <td>...</td>\n",
       "      <td>531.699850</td>\n",
       "      <td>29.903119</td>\n",
       "      <td>91.148546</td>\n",
       "      <td>0.380435</td>\n",
       "      <td>0.291163</td>\n",
       "      <td>2</td>\n",
       "      <td>2</td>\n",
       "      <td>12</td>\n",
       "      <td>1</td>\n",
       "      <td>1</td>\n",
       "    </tr>\n",
       "    <tr>\n",
       "      <td>6270934</td>\n",
       "      <td>382359</td>\n",
       "      <td>2014</td>\n",
       "      <td>195</td>\n",
       "      <td>-121.9773</td>\n",
       "      <td>48.7148</td>\n",
       "      <td>131429</td>\n",
       "      <td>3</td>\n",
       "      <td>1260</td>\n",
       "      <td>62500.0</td>\n",
       "      <td>6989.973251</td>\n",
       "      <td>...</td>\n",
       "      <td>629.822967</td>\n",
       "      <td>35.421623</td>\n",
       "      <td>107.969652</td>\n",
       "      <td>0.321165</td>\n",
       "      <td>0.245802</td>\n",
       "      <td>2</td>\n",
       "      <td>2</td>\n",
       "      <td>12</td>\n",
       "      <td>3</td>\n",
       "      <td>1</td>\n",
       "    </tr>\n",
       "  </tbody>\n",
       "</table>\n",
       "<p>5 rows × 22 columns</p>\n",
       "</div>"
      ],
      "text/plain": [
       "             id  year  doy  longitude  latitude  grid10k  covertype  fuelcode  \\\n",
       "6270930  380713  2014  198  -121.9847   48.7158   131429          3      1260   \n",
       "6270931  380714  2014  198  -121.9815   48.7164   131429          3      1260   \n",
       "6270932  382357  2014  198  -121.9838   48.7136   131429          0         0   \n",
       "6270933  382358  2014  195  -121.9806   48.7142   131429          3      1260   \n",
       "6270934  382359  2014  195  -121.9773   48.7148   131429          3      1260   \n",
       "\n",
       "         area_burned  prefire_fuel  ...         ECO       ECH4      EPM2.5  \\\n",
       "6270930      62500.0   6989.973251  ...  629.822967  35.421623  107.969652   \n",
       "6270931      62500.0   6989.973251  ...  552.142166  31.052808   94.652943   \n",
       "6270932          0.0      0.000000  ...    0.000000   0.000000    0.000000   \n",
       "6270933          0.0   6989.973251  ...  531.699850  29.903119   91.148546   \n",
       "6270934      62500.0   6989.973251  ...  629.822967  35.421623  107.969652   \n",
       "\n",
       "         cwd_frac  duff_frac  fuel_moisture_class  burn_source  \\\n",
       "6270930  0.321165   0.245802                    2            2   \n",
       "6270931  0.366350   0.280383                    2            2   \n",
       "6270932  0.000000   0.000000                    2            2   \n",
       "6270933  0.380435   0.291163                    2            2   \n",
       "6270934  0.321165   0.245802                    2            2   \n",
       "\n",
       "         burnday_source  BSEV  BSEV_flag  \n",
       "6270930              12     3          1  \n",
       "6270931              12     2          1  \n",
       "6270932              12     0          1  \n",
       "6270933              12     1          1  \n",
       "6270934              12     3          1  \n",
       "\n",
       "[5 rows x 22 columns]"
      ]
     },
     "execution_count": 102,
     "metadata": {},
     "output_type": "execute_result"
    }
   ],
   "source": [
    "# create a new dataset on July of 2014, limit the long/lat to the US.\n",
    "Emission = pd.read_csv('/Users/nahidmacbook/Documents/DataScience/Data-Wildfire/emissions_year2003to2015.csv')\n",
    "Emission2014 = Emission[(Emission.year == 2014) & (Emission.latitude > 45) & (Emission.longitude < -120) & (Emission.doy > 181) & (Emission.doy < 213)]\n",
    "Emission2014.head()"
   ]
  },
  {
   "cell_type": "code",
   "execution_count": 105,
   "metadata": {},
   "outputs": [
    {
     "data": {
      "text/html": [
       "<div>\n",
       "<style scoped>\n",
       "    .dataframe tbody tr th:only-of-type {\n",
       "        vertical-align: middle;\n",
       "    }\n",
       "\n",
       "    .dataframe tbody tr th {\n",
       "        vertical-align: top;\n",
       "    }\n",
       "\n",
       "    .dataframe thead th {\n",
       "        text-align: right;\n",
       "    }\n",
       "</style>\n",
       "<table border=\"1\" class=\"dataframe\">\n",
       "  <thead>\n",
       "    <tr style=\"text-align: right;\">\n",
       "      <th></th>\n",
       "      <th>latitude</th>\n",
       "      <th>longitude</th>\n",
       "      <th>ECO</th>\n",
       "    </tr>\n",
       "  </thead>\n",
       "  <tbody>\n",
       "    <tr>\n",
       "      <td>6270930</td>\n",
       "      <td>48.7158</td>\n",
       "      <td>-121.9847</td>\n",
       "      <td>629.822967</td>\n",
       "    </tr>\n",
       "    <tr>\n",
       "      <td>6270931</td>\n",
       "      <td>48.7164</td>\n",
       "      <td>-121.9815</td>\n",
       "      <td>552.142166</td>\n",
       "    </tr>\n",
       "    <tr>\n",
       "      <td>6270932</td>\n",
       "      <td>48.7136</td>\n",
       "      <td>-121.9838</td>\n",
       "      <td>0.000000</td>\n",
       "    </tr>\n",
       "    <tr>\n",
       "      <td>6270933</td>\n",
       "      <td>48.7142</td>\n",
       "      <td>-121.9806</td>\n",
       "      <td>531.699850</td>\n",
       "    </tr>\n",
       "    <tr>\n",
       "      <td>6270934</td>\n",
       "      <td>48.7148</td>\n",
       "      <td>-121.9773</td>\n",
       "      <td>629.822967</td>\n",
       "    </tr>\n",
       "    <tr>\n",
       "      <td>...</td>\n",
       "      <td>...</td>\n",
       "      <td>...</td>\n",
       "      <td>...</td>\n",
       "    </tr>\n",
       "    <tr>\n",
       "      <td>6330802</td>\n",
       "      <td>45.0021</td>\n",
       "      <td>-120.4976</td>\n",
       "      <td>445.540735</td>\n",
       "    </tr>\n",
       "    <tr>\n",
       "      <td>6330803</td>\n",
       "      <td>45.0027</td>\n",
       "      <td>-120.4945</td>\n",
       "      <td>553.351302</td>\n",
       "    </tr>\n",
       "    <tr>\n",
       "      <td>6330918</td>\n",
       "      <td>45.0005</td>\n",
       "      <td>-120.4937</td>\n",
       "      <td>445.540735</td>\n",
       "    </tr>\n",
       "    <tr>\n",
       "      <td>6330919</td>\n",
       "      <td>45.0011</td>\n",
       "      <td>-120.4906</td>\n",
       "      <td>445.540735</td>\n",
       "    </tr>\n",
       "    <tr>\n",
       "      <td>6330920</td>\n",
       "      <td>45.0016</td>\n",
       "      <td>-120.4875</td>\n",
       "      <td>0.000000</td>\n",
       "    </tr>\n",
       "  </tbody>\n",
       "</table>\n",
       "<p>15832 rows × 3 columns</p>\n",
       "</div>"
      ],
      "text/plain": [
       "         latitude  longitude         ECO\n",
       "6270930   48.7158  -121.9847  629.822967\n",
       "6270931   48.7164  -121.9815  552.142166\n",
       "6270932   48.7136  -121.9838    0.000000\n",
       "6270933   48.7142  -121.9806  531.699850\n",
       "6270934   48.7148  -121.9773  629.822967\n",
       "...           ...        ...         ...\n",
       "6330802   45.0021  -120.4976  445.540735\n",
       "6330803   45.0027  -120.4945  553.351302\n",
       "6330918   45.0005  -120.4937  445.540735\n",
       "6330919   45.0011  -120.4906  445.540735\n",
       "6330920   45.0016  -120.4875    0.000000\n",
       "\n",
       "[15832 rows x 3 columns]"
      ]
     },
     "execution_count": 105,
     "metadata": {},
     "output_type": "execute_result"
    }
   ],
   "source": [
    "### Display results from honing in on grid area:\n",
    "Emission2014[['latitude', 'longitude', 'ECO']]"
   ]
  },
  {
   "cell_type": "code",
   "execution_count": 107,
   "metadata": {},
   "outputs": [
    {
     "data": {
      "text/plain": [
       "<function matplotlib.pyplot.show(*args, **kw)>"
      ]
     },
     "execution_count": 107,
     "metadata": {},
     "output_type": "execute_result"
    },
    {
     "data": {
      "image/png": "[encoded data removed]",
      "text/plain": [
       "<Figure size 432x288 with 1 Axes>"
      ]
     },
     "metadata": {
      "needs_background": "light"
     },
     "output_type": "display_data"
    }
   ],
   "source": [
    "import matplotlib.pyplot as plt\n",
    "Emission2014.plot(kind=\"scatter\", x=\"longitude\", y=\"latitude\",alpha=0.8, color=\"y\")\n",
    "plt.title('Emission, ECO, July 2014')\n",
    "plt.show"
   ]
  },
  {
   "cell_type": "code",
   "execution_count": null,
   "metadata": {},
   "outputs": [],
   "source": []
  }
 ],
 "metadata": {
  "kernelspec": {
   "display_name": "Python 3",
   "language": "python",
   "name": "python3"
  },
  "language_info": {
   "codemirror_mode": {
    "name": "ipython",
    "version": 3
   },
   "file_extension": ".py",
   "mimetype": "text/x-python",
   "name": "python",
   "nbconvert_exporter": "python",
   "pygments_lexer": "ipython3",
   "version": "3.7.4"
  }
 },
 "nbformat": 4,
 "nbformat_minor": 2
}

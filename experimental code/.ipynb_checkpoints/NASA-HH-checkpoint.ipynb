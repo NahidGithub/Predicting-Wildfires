{
 "cells": [
  {
   "cell_type": "markdown",
   "metadata": {},
   "source": [
    "\n",
    "## <font color='green'> hh's NASA Review: </font> \n",
    "#### Three files:\n",
    "#### 1. Fire_V1\n",
    "#### 2. Fire_M6\n",
    "#### 3. FireJ1V-C2 - \n",
    "   ##### IIRS 375m NRT files:(VJ114IMGDL) VIIRS Active Fire and Thermal Anomalies product from NOAA-20 (JPSS-1) processed by LANCE / FIRMS\n"
   ]
  },
  {
   "cell_type": "code",
   "execution_count": 1,
   "metadata": {},
   "outputs": [],
   "source": [
    "import os\n",
    "import glob\n",
    "import pandas as pd\n",
    "\n",
    "import matplotlib.pyplot as plt\n",
    "import seaborn as sns\n",
    "import numpy as np "
   ]
  },
  {
   "cell_type": "markdown",
   "metadata": {},
   "source": [
    "### Merge V1 NASA data into single file, current and archive."
   ]
  },
  {
   "cell_type": "markdown",
   "metadata": {},
   "source": [
    "os.chdir('/Users/AlfHaugen/Python/Wildfire_Data/4 NASA/DL_Fire_V1_110068')"
   ]
  },
  {
   "cell_type": "markdown",
   "metadata": {},
   "source": [
    "extension = 'csv'\n",
    "all_filenames = [i for i in glob.glob('*.{}'.format(extension))]\n",
    "\n",
    "###combine all files in the list\n",
    "NASAV1combined = pd.concat([pd.read_csv(f) for f in all_filenames ])\n",
    "###export to csv\n",
    "NASAV1combined.to_csv( \"NASAV1combined.csv\", index=False, encoding='utf-8-sig')"
   ]
  },
  {
   "cell_type": "code",
   "execution_count": 45,
   "metadata": {},
   "outputs": [],
   "source": [
    "FRPdf = pd.read_csv('/Users/AlfHaugen/Python/Wildfire_Data/4 NASA/DL_Fire_V1_110068/fire_archive_V1_110068.csv')"
   ]
  },
  {
   "cell_type": "code",
   "execution_count": 46,
   "metadata": {},
   "outputs": [
    {
     "name": "stderr",
     "output_type": "stream",
     "text": [
      "/Users/AlfHaugen/anaconda3/lib/python3.7/site-packages/IPython/core/interactiveshell.py:3049: DtypeWarning: Columns (5,14) have mixed types. Specify dtype option on import or set low_memory=False.\n",
      "  interactivity=interactivity, compiler=compiler, result=result)\n"
     ]
    }
   ],
   "source": [
    "NASA_V1 = pd.read_csv('/Users/AlfHaugen/Python/Wildfire_Data/4 NASA/DL_Fire_V1_110068/NASAV1combined.csv')"
   ]
  },
  {
   "cell_type": "code",
   "execution_count": 47,
   "metadata": {},
   "outputs": [],
   "source": [
    "NASA_M6 = pd.read_csv('/Users/AlfHaugen/Python/Wildfire_Data/4 NASA/DL_FIRE_M6_110066/fire_archive_M6_110066.csv')"
   ]
  },
  {
   "cell_type": "code",
   "execution_count": 48,
   "metadata": {},
   "outputs": [],
   "source": [
    "NASA_J1V1 = pd.read_csv('/Users/AlfHaugen/Python/Wildfire_Data/4 NASA/DL_FIRE_J1V-C2_110067/fire_nrt_J1V-C2_110067.csv')"
   ]
  },
  {
   "cell_type": "code",
   "execution_count": 49,
   "metadata": {},
   "outputs": [
    {
     "data": {
      "text/plain": [
       "(3829694, 14)"
      ]
     },
     "execution_count": 49,
     "metadata": {},
     "output_type": "execute_result"
    }
   ],
   "source": [
    "FRPdf.shape"
   ]
  },
  {
   "cell_type": "markdown",
   "metadata": {},
   "source": [
    "# NASA V1 Data Review"
   ]
  },
  {
   "cell_type": "code",
   "execution_count": 50,
   "metadata": {},
   "outputs": [
    {
     "data": {
      "text/plain": [
       "(10820816, 15)"
      ]
     },
     "execution_count": 50,
     "metadata": {},
     "output_type": "execute_result"
    }
   ],
   "source": [
    "NASA_V1.shape"
   ]
  },
  {
   "cell_type": "code",
   "execution_count": 51,
   "metadata": {},
   "outputs": [
    {
     "data": {
      "text/html": [
       "<div>\n",
       "<style scoped>\n",
       "    .dataframe tbody tr th:only-of-type {\n",
       "        vertical-align: middle;\n",
       "    }\n",
       "\n",
       "    .dataframe tbody tr th {\n",
       "        vertical-align: top;\n",
       "    }\n",
       "\n",
       "    .dataframe thead th {\n",
       "        text-align: right;\n",
       "    }\n",
       "</style>\n",
       "<table border=\"1\" class=\"dataframe\">\n",
       "  <thead>\n",
       "    <tr style=\"text-align: right;\">\n",
       "      <th></th>\n",
       "      <th>acq_time</th>\n",
       "      <th>bright_ti4</th>\n",
       "      <th>bright_ti5</th>\n",
       "      <th>frp</th>\n",
       "      <th>latitude</th>\n",
       "      <th>longitude</th>\n",
       "      <th>scan</th>\n",
       "      <th>track</th>\n",
       "      <th>type</th>\n",
       "    </tr>\n",
       "  </thead>\n",
       "  <tbody>\n",
       "    <tr>\n",
       "      <th>count</th>\n",
       "      <td>1.082082e+07</td>\n",
       "      <td>1.082082e+07</td>\n",
       "      <td>1.082082e+07</td>\n",
       "      <td>1.082082e+07</td>\n",
       "      <td>1.082082e+07</td>\n",
       "      <td>1.082082e+07</td>\n",
       "      <td>1.082082e+07</td>\n",
       "      <td>1.082082e+07</td>\n",
       "      <td>1.059404e+07</td>\n",
       "    </tr>\n",
       "    <tr>\n",
       "      <th>mean</th>\n",
       "      <td>1.435303e+03</td>\n",
       "      <td>3.278395e+02</td>\n",
       "      <td>2.920592e+02</td>\n",
       "      <td>1.228721e+01</td>\n",
       "      <td>3.950159e+01</td>\n",
       "      <td>-1.075576e+02</td>\n",
       "      <td>4.624647e-01</td>\n",
       "      <td>4.857055e-01</td>\n",
       "      <td>4.513891e-01</td>\n",
       "    </tr>\n",
       "    <tr>\n",
       "      <th>std</th>\n",
       "      <td>5.632978e+02</td>\n",
       "      <td>2.117195e+01</td>\n",
       "      <td>1.240298e+01</td>\n",
       "      <td>3.778120e+01</td>\n",
       "      <td>9.644486e+00</td>\n",
       "      <td>2.112151e+01</td>\n",
       "      <td>9.027072e-02</td>\n",
       "      <td>1.179532e-01</td>\n",
       "      <td>9.152609e-01</td>\n",
       "    </tr>\n",
       "    <tr>\n",
       "      <th>min</th>\n",
       "      <td>0.000000e+00</td>\n",
       "      <td>2.080000e+02</td>\n",
       "      <td>0.000000e+00</td>\n",
       "      <td>0.000000e+00</td>\n",
       "      <td>1.891902e+01</td>\n",
       "      <td>-1.788074e+02</td>\n",
       "      <td>3.200000e-01</td>\n",
       "      <td>3.600000e-01</td>\n",
       "      <td>0.000000e+00</td>\n",
       "    </tr>\n",
       "    <tr>\n",
       "      <th>25%</th>\n",
       "      <td>9.080000e+02</td>\n",
       "      <td>3.071000e+02</td>\n",
       "      <td>2.848000e+02</td>\n",
       "      <td>1.700000e+00</td>\n",
       "      <td>3.312107e+01</td>\n",
       "      <td>-1.197162e+02</td>\n",
       "      <td>3.900000e-01</td>\n",
       "      <td>3.800000e-01</td>\n",
       "      <td>0.000000e+00</td>\n",
       "    </tr>\n",
       "    <tr>\n",
       "      <th>50%</th>\n",
       "      <td>1.735000e+03</td>\n",
       "      <td>3.308000e+02</td>\n",
       "      <td>2.910000e+02</td>\n",
       "      <td>4.000000e+00</td>\n",
       "      <td>3.849042e+01</td>\n",
       "      <td>-1.041523e+02</td>\n",
       "      <td>4.400000e-01</td>\n",
       "      <td>4.500000e-01</td>\n",
       "      <td>0.000000e+00</td>\n",
       "    </tr>\n",
       "    <tr>\n",
       "      <th>75%</th>\n",
       "      <td>1.942000e+03</td>\n",
       "      <td>3.430000e+02</td>\n",
       "      <td>2.984000e+02</td>\n",
       "      <td>9.500000e+00</td>\n",
       "      <td>4.434374e+01</td>\n",
       "      <td>-9.016537e+01</td>\n",
       "      <td>5.100000e-01</td>\n",
       "      <td>5.700000e-01</td>\n",
       "      <td>0.000000e+00</td>\n",
       "    </tr>\n",
       "    <tr>\n",
       "      <th>max</th>\n",
       "      <td>2.359000e+03</td>\n",
       "      <td>3.670000e+02</td>\n",
       "      <td>3.800000e+02</td>\n",
       "      <td>8.065400e+03</td>\n",
       "      <td>7.132837e+01</td>\n",
       "      <td>1.795834e+02</td>\n",
       "      <td>8.000000e-01</td>\n",
       "      <td>7.800000e-01</td>\n",
       "      <td>3.000000e+00</td>\n",
       "    </tr>\n",
       "  </tbody>\n",
       "</table>\n",
       "</div>"
      ],
      "text/plain": [
       "           acq_time    bright_ti4    bright_ti5           frp      latitude  \\\n",
       "count  1.082082e+07  1.082082e+07  1.082082e+07  1.082082e+07  1.082082e+07   \n",
       "mean   1.435303e+03  3.278395e+02  2.920592e+02  1.228721e+01  3.950159e+01   \n",
       "std    5.632978e+02  2.117195e+01  1.240298e+01  3.778120e+01  9.644486e+00   \n",
       "min    0.000000e+00  2.080000e+02  0.000000e+00  0.000000e+00  1.891902e+01   \n",
       "25%    9.080000e+02  3.071000e+02  2.848000e+02  1.700000e+00  3.312107e+01   \n",
       "50%    1.735000e+03  3.308000e+02  2.910000e+02  4.000000e+00  3.849042e+01   \n",
       "75%    1.942000e+03  3.430000e+02  2.984000e+02  9.500000e+00  4.434374e+01   \n",
       "max    2.359000e+03  3.670000e+02  3.800000e+02  8.065400e+03  7.132837e+01   \n",
       "\n",
       "          longitude          scan         track          type  \n",
       "count  1.082082e+07  1.082082e+07  1.082082e+07  1.059404e+07  \n",
       "mean  -1.075576e+02  4.624647e-01  4.857055e-01  4.513891e-01  \n",
       "std    2.112151e+01  9.027072e-02  1.179532e-01  9.152609e-01  \n",
       "min   -1.788074e+02  3.200000e-01  3.600000e-01  0.000000e+00  \n",
       "25%   -1.197162e+02  3.900000e-01  3.800000e-01  0.000000e+00  \n",
       "50%   -1.041523e+02  4.400000e-01  4.500000e-01  0.000000e+00  \n",
       "75%   -9.016537e+01  5.100000e-01  5.700000e-01  0.000000e+00  \n",
       "max    1.795834e+02  8.000000e-01  7.800000e-01  3.000000e+00  "
      ]
     },
     "execution_count": 51,
     "metadata": {},
     "output_type": "execute_result"
    }
   ],
   "source": [
    "NASA_V1.describe()"
   ]
  },
  {
   "cell_type": "code",
   "execution_count": 52,
   "metadata": {},
   "outputs": [],
   "source": [
    "### Pull year out and make into a new column in dataframe. \n",
    "NASA_V1['year'] = NASA_V1['acq_date'].astype(str).str[0:4]"
   ]
  },
  {
   "cell_type": "code",
   "execution_count": 53,
   "metadata": {},
   "outputs": [
    {
     "data": {
      "text/html": [
       "<div>\n",
       "<style scoped>\n",
       "    .dataframe tbody tr th:only-of-type {\n",
       "        vertical-align: middle;\n",
       "    }\n",
       "\n",
       "    .dataframe tbody tr th {\n",
       "        vertical-align: top;\n",
       "    }\n",
       "\n",
       "    .dataframe thead th {\n",
       "        text-align: right;\n",
       "    }\n",
       "</style>\n",
       "<table border=\"1\" class=\"dataframe\">\n",
       "  <thead>\n",
       "    <tr style=\"text-align: right;\">\n",
       "      <th></th>\n",
       "      <th>acq_date</th>\n",
       "      <th>acq_time</th>\n",
       "      <th>bright_ti4</th>\n",
       "      <th>bright_ti5</th>\n",
       "      <th>confidence</th>\n",
       "      <th>daynight</th>\n",
       "      <th>frp</th>\n",
       "      <th>instrument</th>\n",
       "      <th>latitude</th>\n",
       "      <th>longitude</th>\n",
       "      <th>satellite</th>\n",
       "      <th>scan</th>\n",
       "      <th>track</th>\n",
       "      <th>type</th>\n",
       "      <th>version</th>\n",
       "      <th>year</th>\n",
       "    </tr>\n",
       "  </thead>\n",
       "  <tbody>\n",
       "    <tr>\n",
       "      <th>0</th>\n",
       "      <td>2019-10-01</td>\n",
       "      <td>612</td>\n",
       "      <td>307.3</td>\n",
       "      <td>288.6</td>\n",
       "      <td>n</td>\n",
       "      <td>N</td>\n",
       "      <td>2.3</td>\n",
       "      <td>VIIRS</td>\n",
       "      <td>41.46153</td>\n",
       "      <td>-81.67585</td>\n",
       "      <td>N</td>\n",
       "      <td>0.69</td>\n",
       "      <td>0.74</td>\n",
       "      <td>NaN</td>\n",
       "      <td>1.0NRT</td>\n",
       "      <td>2019</td>\n",
       "    </tr>\n",
       "    <tr>\n",
       "      <th>1</th>\n",
       "      <td>2019-10-01</td>\n",
       "      <td>612</td>\n",
       "      <td>312.8</td>\n",
       "      <td>288.3</td>\n",
       "      <td>n</td>\n",
       "      <td>N</td>\n",
       "      <td>2.1</td>\n",
       "      <td>VIIRS</td>\n",
       "      <td>41.45969</td>\n",
       "      <td>-81.67487</td>\n",
       "      <td>N</td>\n",
       "      <td>0.69</td>\n",
       "      <td>0.74</td>\n",
       "      <td>NaN</td>\n",
       "      <td>1.0NRT</td>\n",
       "      <td>2019</td>\n",
       "    </tr>\n",
       "    <tr>\n",
       "      <th>2</th>\n",
       "      <td>2019-10-01</td>\n",
       "      <td>612</td>\n",
       "      <td>336.8</td>\n",
       "      <td>287.2</td>\n",
       "      <td>n</td>\n",
       "      <td>N</td>\n",
       "      <td>4.8</td>\n",
       "      <td>VIIRS</td>\n",
       "      <td>34.66630</td>\n",
       "      <td>-80.58686</td>\n",
       "      <td>N</td>\n",
       "      <td>0.55</td>\n",
       "      <td>0.68</td>\n",
       "      <td>NaN</td>\n",
       "      <td>1.0NRT</td>\n",
       "      <td>2019</td>\n",
       "    </tr>\n",
       "    <tr>\n",
       "      <th>3</th>\n",
       "      <td>2019-10-01</td>\n",
       "      <td>612</td>\n",
       "      <td>307.7</td>\n",
       "      <td>286.4</td>\n",
       "      <td>n</td>\n",
       "      <td>N</td>\n",
       "      <td>1.7</td>\n",
       "      <td>VIIRS</td>\n",
       "      <td>37.23220</td>\n",
       "      <td>-82.03742</td>\n",
       "      <td>N</td>\n",
       "      <td>0.69</td>\n",
       "      <td>0.74</td>\n",
       "      <td>NaN</td>\n",
       "      <td>1.0NRT</td>\n",
       "      <td>2019</td>\n",
       "    </tr>\n",
       "    <tr>\n",
       "      <th>4</th>\n",
       "      <td>2019-10-01</td>\n",
       "      <td>612</td>\n",
       "      <td>297.7</td>\n",
       "      <td>285.9</td>\n",
       "      <td>n</td>\n",
       "      <td>N</td>\n",
       "      <td>2.3</td>\n",
       "      <td>VIIRS</td>\n",
       "      <td>37.22986</td>\n",
       "      <td>-82.04183</td>\n",
       "      <td>N</td>\n",
       "      <td>0.69</td>\n",
       "      <td>0.74</td>\n",
       "      <td>NaN</td>\n",
       "      <td>1.0NRT</td>\n",
       "      <td>2019</td>\n",
       "    </tr>\n",
       "  </tbody>\n",
       "</table>\n",
       "</div>"
      ],
      "text/plain": [
       "     acq_date  acq_time  bright_ti4  bright_ti5 confidence daynight  frp  \\\n",
       "0  2019-10-01       612       307.3       288.6          n        N  2.3   \n",
       "1  2019-10-01       612       312.8       288.3          n        N  2.1   \n",
       "2  2019-10-01       612       336.8       287.2          n        N  4.8   \n",
       "3  2019-10-01       612       307.7       286.4          n        N  1.7   \n",
       "4  2019-10-01       612       297.7       285.9          n        N  2.3   \n",
       "\n",
       "  instrument  latitude  longitude satellite  scan  track  type version  year  \n",
       "0      VIIRS  41.46153  -81.67585         N  0.69   0.74   NaN  1.0NRT  2019  \n",
       "1      VIIRS  41.45969  -81.67487         N  0.69   0.74   NaN  1.0NRT  2019  \n",
       "2      VIIRS  34.66630  -80.58686         N  0.55   0.68   NaN  1.0NRT  2019  \n",
       "3      VIIRS  37.23220  -82.03742         N  0.69   0.74   NaN  1.0NRT  2019  \n",
       "4      VIIRS  37.22986  -82.04183         N  0.69   0.74   NaN  1.0NRT  2019  "
      ]
     },
     "execution_count": 53,
     "metadata": {},
     "output_type": "execute_result"
    }
   ],
   "source": [
    "NASA_V1.head()"
   ]
  },
  {
   "cell_type": "code",
   "execution_count": 54,
   "metadata": {},
   "outputs": [
    {
     "data": {
      "text/plain": [
       "array(['2019', '2012', '2013', '2014', '2015', '2016', '2017', '2018'],\n",
       "      dtype=object)"
      ]
     },
     "execution_count": 54,
     "metadata": {},
     "output_type": "execute_result"
    }
   ],
   "source": [
    "NASA_V1['year'].unique()"
   ]
  },
  {
   "cell_type": "code",
   "execution_count": null,
   "metadata": {},
   "outputs": [],
   "source": [
    "NASA_V1['year'].min()"
   ]
  },
  {
   "cell_type": "markdown",
   "metadata": {},
   "source": [
    "# NASA M6 Data Review"
   ]
  },
  {
   "cell_type": "code",
   "execution_count": 6,
   "metadata": {},
   "outputs": [],
   "source": [
    "NASA_M6['year'] = NASA_M6['acq_date'].astype(str).str[0:4]"
   ]
  },
  {
   "cell_type": "code",
   "execution_count": 7,
   "metadata": {},
   "outputs": [
    {
     "data": {
      "text/plain": [
       "array(['2003', '2004', '2005', '2006', '2007', '2008', '2009', '2010',\n",
       "       '2011', '2012', '2013', '2014', '2015', '2016', '2017', '2018',\n",
       "       '2019'], dtype=object)"
      ]
     },
     "execution_count": 7,
     "metadata": {},
     "output_type": "execute_result"
    }
   ],
   "source": [
    "NASA_M6['year'].unique()"
   ]
  },
  {
   "cell_type": "code",
   "execution_count": 8,
   "metadata": {},
   "outputs": [
    {
     "data": {
      "text/plain": [
       "(2159468, 16)"
      ]
     },
     "execution_count": 8,
     "metadata": {},
     "output_type": "execute_result"
    }
   ],
   "source": [
    "NASA_M6.shape"
   ]
  },
  {
   "cell_type": "code",
   "execution_count": 9,
   "metadata": {},
   "outputs": [
    {
     "data": {
      "text/plain": [
       "2159468"
      ]
     },
     "execution_count": 9,
     "metadata": {},
     "output_type": "execute_result"
    }
   ],
   "source": [
    "NASA_M6['frp'].count()"
   ]
  },
  {
   "cell_type": "code",
   "execution_count": 10,
   "metadata": {},
   "outputs": [
    {
     "name": "stdout",
     "output_type": "stream",
     "text": [
      "latitude      float64\n",
      "longitude     float64\n",
      "brightness    float64\n",
      "scan          float64\n",
      "track         float64\n",
      "acq_date       object\n",
      "acq_time        int64\n",
      "satellite      object\n",
      "instrument     object\n",
      "confidence      int64\n",
      "version       float64\n",
      "bright_t31    float64\n",
      "frp           float64\n",
      "daynight       object\n",
      "type            int64\n",
      "year           object\n",
      "dtype: object\n"
     ]
    }
   ],
   "source": [
    "x = NASA_M6.dtypes\n",
    "print(x)"
   ]
  },
  {
   "cell_type": "code",
   "execution_count": 11,
   "metadata": {},
   "outputs": [
    {
     "data": {
      "text/html": [
       "<div>\n",
       "<style scoped>\n",
       "    .dataframe tbody tr th:only-of-type {\n",
       "        vertical-align: middle;\n",
       "    }\n",
       "\n",
       "    .dataframe tbody tr th {\n",
       "        vertical-align: top;\n",
       "    }\n",
       "\n",
       "    .dataframe thead th {\n",
       "        text-align: right;\n",
       "    }\n",
       "</style>\n",
       "<table border=\"1\" class=\"dataframe\">\n",
       "  <thead>\n",
       "    <tr style=\"text-align: right;\">\n",
       "      <th></th>\n",
       "      <th>latitude</th>\n",
       "      <th>longitude</th>\n",
       "      <th>brightness</th>\n",
       "      <th>scan</th>\n",
       "      <th>track</th>\n",
       "      <th>acq_date</th>\n",
       "      <th>acq_time</th>\n",
       "      <th>satellite</th>\n",
       "      <th>instrument</th>\n",
       "      <th>confidence</th>\n",
       "      <th>version</th>\n",
       "      <th>bright_t31</th>\n",
       "      <th>frp</th>\n",
       "      <th>daynight</th>\n",
       "      <th>type</th>\n",
       "      <th>year</th>\n",
       "    </tr>\n",
       "  </thead>\n",
       "  <tbody>\n",
       "    <tr>\n",
       "      <th>0</th>\n",
       "      <td>38.8142</td>\n",
       "      <td>-93.5539</td>\n",
       "      <td>300.8</td>\n",
       "      <td>1.0</td>\n",
       "      <td>1.0</td>\n",
       "      <td>2003-01-01</td>\n",
       "      <td>423</td>\n",
       "      <td>Terra</td>\n",
       "      <td>MODIS</td>\n",
       "      <td>33</td>\n",
       "      <td>6.2</td>\n",
       "      <td>267.0</td>\n",
       "      <td>10.4</td>\n",
       "      <td>N</td>\n",
       "      <td>0</td>\n",
       "      <td>2003</td>\n",
       "    </tr>\n",
       "    <tr>\n",
       "      <th>1</th>\n",
       "      <td>19.3739</td>\n",
       "      <td>-155.1130</td>\n",
       "      <td>318.8</td>\n",
       "      <td>3.1</td>\n",
       "      <td>1.7</td>\n",
       "      <td>2003-01-01</td>\n",
       "      <td>914</td>\n",
       "      <td>Terra</td>\n",
       "      <td>MODIS</td>\n",
       "      <td>97</td>\n",
       "      <td>6.2</td>\n",
       "      <td>288.7</td>\n",
       "      <td>98.4</td>\n",
       "      <td>N</td>\n",
       "      <td>2</td>\n",
       "      <td>2003</td>\n",
       "    </tr>\n",
       "    <tr>\n",
       "      <th>2</th>\n",
       "      <td>19.3723</td>\n",
       "      <td>-155.1197</td>\n",
       "      <td>316.0</td>\n",
       "      <td>3.1</td>\n",
       "      <td>1.7</td>\n",
       "      <td>2003-01-01</td>\n",
       "      <td>914</td>\n",
       "      <td>Terra</td>\n",
       "      <td>MODIS</td>\n",
       "      <td>90</td>\n",
       "      <td>6.2</td>\n",
       "      <td>288.3</td>\n",
       "      <td>85.0</td>\n",
       "      <td>N</td>\n",
       "      <td>2</td>\n",
       "      <td>2003</td>\n",
       "    </tr>\n",
       "    <tr>\n",
       "      <th>3</th>\n",
       "      <td>19.3589</td>\n",
       "      <td>-155.1107</td>\n",
       "      <td>325.2</td>\n",
       "      <td>3.1</td>\n",
       "      <td>1.7</td>\n",
       "      <td>2003-01-01</td>\n",
       "      <td>914</td>\n",
       "      <td>Terra</td>\n",
       "      <td>MODIS</td>\n",
       "      <td>100</td>\n",
       "      <td>6.2</td>\n",
       "      <td>292.0</td>\n",
       "      <td>131.8</td>\n",
       "      <td>N</td>\n",
       "      <td>2</td>\n",
       "      <td>2003</td>\n",
       "    </tr>\n",
       "    <tr>\n",
       "      <th>4</th>\n",
       "      <td>19.3573</td>\n",
       "      <td>-155.1174</td>\n",
       "      <td>319.0</td>\n",
       "      <td>3.1</td>\n",
       "      <td>1.7</td>\n",
       "      <td>2003-01-01</td>\n",
       "      <td>914</td>\n",
       "      <td>Terra</td>\n",
       "      <td>MODIS</td>\n",
       "      <td>97</td>\n",
       "      <td>6.2</td>\n",
       "      <td>290.3</td>\n",
       "      <td>97.3</td>\n",
       "      <td>N</td>\n",
       "      <td>2</td>\n",
       "      <td>2003</td>\n",
       "    </tr>\n",
       "  </tbody>\n",
       "</table>\n",
       "</div>"
      ],
      "text/plain": [
       "   latitude  longitude  brightness  scan  track    acq_date  acq_time  \\\n",
       "0   38.8142   -93.5539       300.8   1.0    1.0  2003-01-01       423   \n",
       "1   19.3739  -155.1130       318.8   3.1    1.7  2003-01-01       914   \n",
       "2   19.3723  -155.1197       316.0   3.1    1.7  2003-01-01       914   \n",
       "3   19.3589  -155.1107       325.2   3.1    1.7  2003-01-01       914   \n",
       "4   19.3573  -155.1174       319.0   3.1    1.7  2003-01-01       914   \n",
       "\n",
       "  satellite instrument  confidence  version  bright_t31    frp daynight  type  \\\n",
       "0     Terra      MODIS          33      6.2       267.0   10.4        N     0   \n",
       "1     Terra      MODIS          97      6.2       288.7   98.4        N     2   \n",
       "2     Terra      MODIS          90      6.2       288.3   85.0        N     2   \n",
       "3     Terra      MODIS         100      6.2       292.0  131.8        N     2   \n",
       "4     Terra      MODIS          97      6.2       290.3   97.3        N     2   \n",
       "\n",
       "   year  \n",
       "0  2003  \n",
       "1  2003  \n",
       "2  2003  \n",
       "3  2003  \n",
       "4  2003  "
      ]
     },
     "execution_count": 11,
     "metadata": {},
     "output_type": "execute_result"
    }
   ],
   "source": [
    "NASA_M6.head()"
   ]
  },
  {
   "cell_type": "code",
   "execution_count": 12,
   "metadata": {},
   "outputs": [
    {
     "data": {
      "text/html": [
       "<div>\n",
       "<style scoped>\n",
       "    .dataframe tbody tr th:only-of-type {\n",
       "        vertical-align: middle;\n",
       "    }\n",
       "\n",
       "    .dataframe tbody tr th {\n",
       "        vertical-align: top;\n",
       "    }\n",
       "\n",
       "    .dataframe thead th {\n",
       "        text-align: right;\n",
       "    }\n",
       "</style>\n",
       "<table border=\"1\" class=\"dataframe\">\n",
       "  <thead>\n",
       "    <tr style=\"text-align: right;\">\n",
       "      <th></th>\n",
       "      <th>brightness</th>\n",
       "      <th>frp</th>\n",
       "    </tr>\n",
       "  </thead>\n",
       "  <tbody>\n",
       "    <tr>\n",
       "      <th>mean</th>\n",
       "      <td>3.253025e+02</td>\n",
       "      <td>6.540101e+01</td>\n",
       "    </tr>\n",
       "    <tr>\n",
       "      <th>min</th>\n",
       "      <td>3.000000e+02</td>\n",
       "      <td>-5.920000e+01</td>\n",
       "    </tr>\n",
       "    <tr>\n",
       "      <th>max</th>\n",
       "      <td>5.065000e+02</td>\n",
       "      <td>1.437650e+04</td>\n",
       "    </tr>\n",
       "    <tr>\n",
       "      <th>count</th>\n",
       "      <td>2.159468e+06</td>\n",
       "      <td>2.159468e+06</td>\n",
       "    </tr>\n",
       "  </tbody>\n",
       "</table>\n",
       "</div>"
      ],
      "text/plain": [
       "         brightness           frp\n",
       "mean   3.253025e+02  6.540101e+01\n",
       "min    3.000000e+02 -5.920000e+01\n",
       "max    5.065000e+02  1.437650e+04\n",
       "count  2.159468e+06  2.159468e+06"
      ]
     },
     "execution_count": 12,
     "metadata": {},
     "output_type": "execute_result"
    }
   ],
   "source": [
    "NASA_M6[['brightness', 'frp']].agg(['mean','min','max','count'])"
   ]
  },
  {
   "cell_type": "code",
   "execution_count": 13,
   "metadata": {},
   "outputs": [
    {
     "data": {
      "text/plain": [
       "Text(0, 0.5, 'Fire Instances')"
      ]
     },
     "execution_count": 13,
     "metadata": {},
     "output_type": "execute_result"
    },
    {
     "data": {
      "image/png": "[encoded data removed]",
      "text/plain": [
       "<Figure size 432x288 with 1 Axes>"
      ]
     },
     "metadata": {
      "needs_background": "light"
     },
     "output_type": "display_data"
    }
   ],
   "source": [
    "# matplotlib histogram\n",
    "plt.hist(NASA_M6['brightness'], color = 'red', edgecolor = 'black',\n",
    "         bins = int(180/5))\n",
    "\n",
    "# seaborn histogram\n",
    "sns.distplot(NASA_M6['brightness'], hist=True, kde=False, \n",
    "             bins=int(180/5), color = 'red',\n",
    "             hist_kws={'edgecolor':'black'})\n",
    "# Add labels\n",
    "plt.title('Histogram of Fire Brightness')\n",
    "plt.xlabel('Brightness/Intensity')\n",
    "plt.ylabel('Fire Instances')"
   ]
  },
  {
   "cell_type": "code",
   "execution_count": 14,
   "metadata": {},
   "outputs": [
    {
     "data": {
      "text/plain": [
       "Text(0, 0.5, 'Fire Instances')"
      ]
     },
     "execution_count": 14,
     "metadata": {},
     "output_type": "execute_result"
    },
    {
     "data": {
      "image/png": "[encoded data removed]",
      "text/plain": [
       "<Figure size 432x288 with 1 Axes>"
      ]
     },
     "metadata": {
      "needs_background": "light"
     },
     "output_type": "display_data"
    }
   ],
   "source": [
    "# matplotlib histogram\n",
    "plt.hist(NASA_M6['bright_t31'], color = 'blue', edgecolor = 'black',\n",
    "         bins = int(180/5))\n",
    "\n",
    "# seaborn histogram\n",
    "sns.distplot(NASA_M6['bright_t31'], hist=True, kde=False, \n",
    "             bins=int(180/5), color = 'orange',\n",
    "             hist_kws={'edgecolor':'black'})\n",
    "# Add labels\n",
    "plt.title('Histogram of Fire Brightness')\n",
    "plt.xlabel('Brightness/Intensity')\n",
    "plt.ylabel('Fire Instances')"
   ]
  },
  {
   "cell_type": "code",
   "execution_count": 15,
   "metadata": {},
   "outputs": [
    {
     "data": {
      "text/plain": [
       "Text(0, 0.5, 'Fire Instances')"
      ]
     },
     "execution_count": 15,
     "metadata": {},
     "output_type": "execute_result"
    },
    {
     "data": {
      "image/png": "[encoded data removed]",
      "text/plain": [
       "<Figure size 432x288 with 1 Axes>"
      ]
     },
     "metadata": {
      "needs_background": "light"
     },
     "output_type": "display_data"
    }
   ],
   "source": [
    "# matplotlib histogram\n",
    "plt.hist(NASA_M6['frp'], color = 'orange', edgecolor = 'black',\n",
    "         bins = int(180/5))\n",
    "\n",
    "# seaborn histogram\n",
    "sns.distplot(NASA_M6['frp'], hist=True, kde=False, \n",
    "             bins=int(180/5), color = 'orange',\n",
    "             hist_kws={'edgecolor':'black'})\n",
    "# Add labels\n",
    "plt.title('Histogram of Fire Brightness')\n",
    "plt.xlabel('FRP')\n",
    "plt.ylabel('Fire Instances')"
   ]
  },
  {
   "cell_type": "code",
   "execution_count": 39,
   "metadata": {},
   "outputs": [],
   "source": [
    "### & (NASA_M6.latitude > 40) & (NASA_M6.latitude < 50) & (NASA_M6.longitude < -119) & (NASA_M6.longitude > -126)]  \n",
    "NM2005 = NASA_M6[(NASA_M6.year > '2004') & (NASA_M6.year < '2006') & (NASA_M6.latitude > 45.7) & (NASA_M6.latitude < 45.99) & (NASA_M6.longitude < -120.18) & (NASA_M6.longitude > -120.8)] "
   ]
  },
  {
   "cell_type": "code",
   "execution_count": 40,
   "metadata": {},
   "outputs": [
    {
     "data": {
      "text/html": [
       "<div>\n",
       "<style scoped>\n",
       "    .dataframe tbody tr th:only-of-type {\n",
       "        vertical-align: middle;\n",
       "    }\n",
       "\n",
       "    .dataframe tbody tr th {\n",
       "        vertical-align: top;\n",
       "    }\n",
       "\n",
       "    .dataframe thead th {\n",
       "        text-align: right;\n",
       "    }\n",
       "</style>\n",
       "<table border=\"1\" class=\"dataframe\">\n",
       "  <thead>\n",
       "    <tr style=\"text-align: right;\">\n",
       "      <th></th>\n",
       "      <th>latitude</th>\n",
       "      <th>longitude</th>\n",
       "      <th>brightness</th>\n",
       "      <th>scan</th>\n",
       "      <th>track</th>\n",
       "      <th>acq_date</th>\n",
       "      <th>acq_time</th>\n",
       "      <th>satellite</th>\n",
       "      <th>instrument</th>\n",
       "      <th>confidence</th>\n",
       "      <th>version</th>\n",
       "      <th>bright_t31</th>\n",
       "      <th>frp</th>\n",
       "      <th>daynight</th>\n",
       "      <th>type</th>\n",
       "      <th>year</th>\n",
       "    </tr>\n",
       "  </thead>\n",
       "  <tbody>\n",
       "    <tr>\n",
       "      <th>343878</th>\n",
       "      <td>45.8023</td>\n",
       "      <td>-120.2710</td>\n",
       "      <td>336.1</td>\n",
       "      <td>1.3</td>\n",
       "      <td>1.1</td>\n",
       "      <td>2005-07-23</td>\n",
       "      <td>2040</td>\n",
       "      <td>Aqua</td>\n",
       "      <td>MODIS</td>\n",
       "      <td>83</td>\n",
       "      <td>6.2</td>\n",
       "      <td>318.8</td>\n",
       "      <td>17.3</td>\n",
       "      <td>D</td>\n",
       "      <td>0</td>\n",
       "      <td>2005</td>\n",
       "    </tr>\n",
       "    <tr>\n",
       "      <th>344092</th>\n",
       "      <td>45.8270</td>\n",
       "      <td>-120.2290</td>\n",
       "      <td>314.7</td>\n",
       "      <td>1.1</td>\n",
       "      <td>1.1</td>\n",
       "      <td>2005-07-24</td>\n",
       "      <td>608</td>\n",
       "      <td>Terra</td>\n",
       "      <td>MODIS</td>\n",
       "      <td>90</td>\n",
       "      <td>6.2</td>\n",
       "      <td>292.8</td>\n",
       "      <td>15.2</td>\n",
       "      <td>N</td>\n",
       "      <td>0</td>\n",
       "      <td>2005</td>\n",
       "    </tr>\n",
       "    <tr>\n",
       "      <th>344093</th>\n",
       "      <td>45.8176</td>\n",
       "      <td>-120.2265</td>\n",
       "      <td>307.7</td>\n",
       "      <td>1.1</td>\n",
       "      <td>1.1</td>\n",
       "      <td>2005-07-24</td>\n",
       "      <td>608</td>\n",
       "      <td>Terra</td>\n",
       "      <td>MODIS</td>\n",
       "      <td>68</td>\n",
       "      <td>6.2</td>\n",
       "      <td>293.2</td>\n",
       "      <td>9.1</td>\n",
       "      <td>N</td>\n",
       "      <td>0</td>\n",
       "      <td>2005</td>\n",
       "    </tr>\n",
       "    <tr>\n",
       "      <th>344094</th>\n",
       "      <td>45.8082</td>\n",
       "      <td>-120.2242</td>\n",
       "      <td>318.2</td>\n",
       "      <td>1.1</td>\n",
       "      <td>1.1</td>\n",
       "      <td>2005-07-24</td>\n",
       "      <td>608</td>\n",
       "      <td>Terra</td>\n",
       "      <td>MODIS</td>\n",
       "      <td>96</td>\n",
       "      <td>6.2</td>\n",
       "      <td>293.9</td>\n",
       "      <td>18.6</td>\n",
       "      <td>N</td>\n",
       "      <td>0</td>\n",
       "      <td>2005</td>\n",
       "    </tr>\n",
       "    <tr>\n",
       "      <th>344194</th>\n",
       "      <td>45.8062</td>\n",
       "      <td>-120.2258</td>\n",
       "      <td>300.2</td>\n",
       "      <td>1.1</td>\n",
       "      <td>1.0</td>\n",
       "      <td>2005-07-24</td>\n",
       "      <td>1015</td>\n",
       "      <td>Aqua</td>\n",
       "      <td>MODIS</td>\n",
       "      <td>21</td>\n",
       "      <td>6.2</td>\n",
       "      <td>287.7</td>\n",
       "      <td>5.6</td>\n",
       "      <td>N</td>\n",
       "      <td>0</td>\n",
       "      <td>2005</td>\n",
       "    </tr>\n",
       "  </tbody>\n",
       "</table>\n",
       "</div>"
      ],
      "text/plain": [
       "        latitude  longitude  brightness  scan  track    acq_date  acq_time  \\\n",
       "343878   45.8023  -120.2710       336.1   1.3    1.1  2005-07-23      2040   \n",
       "344092   45.8270  -120.2290       314.7   1.1    1.1  2005-07-24       608   \n",
       "344093   45.8176  -120.2265       307.7   1.1    1.1  2005-07-24       608   \n",
       "344094   45.8082  -120.2242       318.2   1.1    1.1  2005-07-24       608   \n",
       "344194   45.8062  -120.2258       300.2   1.1    1.0  2005-07-24      1015   \n",
       "\n",
       "       satellite instrument  confidence  version  bright_t31   frp daynight  \\\n",
       "343878      Aqua      MODIS          83      6.2       318.8  17.3        D   \n",
       "344092     Terra      MODIS          90      6.2       292.8  15.2        N   \n",
       "344093     Terra      MODIS          68      6.2       293.2   9.1        N   \n",
       "344094     Terra      MODIS          96      6.2       293.9  18.6        N   \n",
       "344194      Aqua      MODIS          21      6.2       287.7   5.6        N   \n",
       "\n",
       "        type  year  \n",
       "343878     0  2005  \n",
       "344092     0  2005  \n",
       "344093     0  2005  \n",
       "344094     0  2005  \n",
       "344194     0  2005  "
      ]
     },
     "execution_count": 40,
     "metadata": {},
     "output_type": "execute_result"
    }
   ],
   "source": [
    "NM2005.head()"
   ]
  },
  {
   "cell_type": "markdown",
   "metadata": {},
   "source": [
    "#def graph_data(path, xkey='doy', ykey='eco'):\n",
    "data = NASA_M6_2005\n",
    "xval = data['acq_date']\n",
    "yval = data['frp']\n",
    "#Year = emyear2003['year']\n",
    "\n",
    "fig,axe = plt.subplots()\n",
    "plt.scatter(xval, yval, alpha=0.7)\n",
    "plt.ylim([0, data['frp'].max()+100])\n",
    "\n",
    "plt.ylabel('Emissions of CO')\n",
    "plt.xlabel('Acq Date')\n",
    "plt.title('FRP Brightness across time') \n",
    "#+ str(Year))\n",
    "\n",
    "plt.grid(True)\n",
    "plt.show()\n",
    "\n",
    "#graph_data(emyear2003) # Or whatever your path is"
   ]
  },
  {
   "cell_type": "markdown",
   "metadata": {},
   "source": [
    "NM2005[['longitude', 'frp']]"
   ]
  },
  {
   "cell_type": "markdown",
   "metadata": {},
   "source": [
    "### Sending results of NASA M6 geo zoom map area to file. \n",
    "NM2005.to_csv('/Users/AlfHaugen/Python/Wildfire_Data/Predicting-Wildfires/NASA2005WoodGulch.csv', encoding='utf-8')"
   ]
  },
  {
   "cell_type": "code",
   "execution_count": 36,
   "metadata": {},
   "outputs": [],
   "source": [
    "emdata = pd.read_csv('/Users/AlfHaugen/Python/Wildfire_Data/9 Missoula Emisions Data RDS-2017-0039/Emissions_Year/emissions_year2003to2015.csv')"
   ]
  },
  {
   "cell_type": "code",
   "execution_count": 37,
   "metadata": {},
   "outputs": [],
   "source": [
    "emyear2005 = emdata[(emdata.year == 2005) & (emdata.latitude > 45.6) & (emdata.latitude < 45.99) & (emdata.longitude < -119) & (emdata.longitude > -120.8) & (emdata.doy > 204) & (emdata.doy < 210)]"
   ]
  },
  {
   "cell_type": "code",
   "execution_count": 57,
   "metadata": {},
   "outputs": [],
   "source": [
    "cluster2005 = pd.read_csv('/Users/AlfHaugen/Python/Wildfire_Data/FireExports/ClusterDBScan_Emissions2005.csv')"
   ]
  },
  {
   "cell_type": "code",
   "execution_count": 63,
   "metadata": {},
   "outputs": [],
   "source": [
    "c25 = cluster2005[(cluster2005.latitude > 45.6) & (cluster2005.latitude < 45.99) & (cluster2005.longitude < -119.8) & (cluster2005.longitude > -120.8)] "
   ]
  },
  {
   "cell_type": "code",
   "execution_count": 64,
   "metadata": {},
   "outputs": [
    {
     "data": {
      "text/plain": [
       "(1, 23)"
      ]
     },
     "execution_count": 64,
     "metadata": {},
     "output_type": "execute_result"
    }
   ],
   "source": [
    "c25.shape"
   ]
  },
  {
   "cell_type": "markdown",
   "metadata": {},
   "source": [
    "#### Plotting article. \n",
    "https://medium.com/python-pandemonium/data-visualization-in-python-scatter-plots-in-matplotlib-da90ac4c99f9"
   ]
  },
  {
   "cell_type": "code",
   "execution_count": 38,
   "metadata": {},
   "outputs": [
    {
     "data": {
      "text/plain": [
       "<function matplotlib.pyplot.show(*args, **kw)>"
      ]
     },
     "execution_count": 38,
     "metadata": {},
     "output_type": "execute_result"
    },
    {
     "data": {
      "image/png": "[encoded data removed]",
      "text/plain": [
       "<Figure size 432x288 with 1 Axes>"
      ]
     },
     "metadata": {
      "needs_background": "light"
     },
     "output_type": "display_data"
    },
    {
     "data": {
      "image/png": "[encoded data removed]",
      "text/plain": [
       "<Figure size 432x288 with 1 Axes>"
      ]
     },
     "metadata": {
      "needs_background": "light"
     },
     "output_type": "display_data"
    }
   ],
   "source": [
    "###Plotting area of Emissions Data vs NASA M6 Data together to view overlap. \n",
    "NM2005.plot(kind=\"scatter\", x=\"longitude\", y=\"latitude\",alpha=0.8, color='b')\n",
    "emyear2005.plot(kind=\"scatter\", x=\"longitude\", y=\"latitude\",alpha=0.8, color='r')\n",
    "plt.show"
   ]
  },
  {
   "cell_type": "code",
   "execution_count": 79,
   "metadata": {},
   "outputs": [
    {
     "data": {
      "image/png": "[encoded data removed]",
      "text/plain": [
       "<Figure size 432x288 with 1 Axes>"
      ]
     },
     "metadata": {
      "needs_background": "light"
     },
     "output_type": "display_data"
    }
   ],
   "source": [
    "### Plotting both Emissions and NASA M6 for same geo area to determine overlap. \n",
    "LongNM, LatNM = NM2005['longitude'], NM2005['latitude']\n",
    "LongEM05, LatEM05 = emyear2005['longitude'], emyear2005['latitude']\n",
    "LongEMClust, LatEMClust = c25['longitude'], c25['latitude']\n",
    "    \n",
    "plt.scatter(LongEM05, LatEM05, color='r', edgecolors='r')\n",
    "plt.scatter(LongNM, LatNM, s=100, edgecolors='b')\n",
    "plt.scatter(LongEMClust, LatEMClust, s=350, color='g', edgecolors='g')\n",
    "\n",
    "plt.xlabel('longitude')\n",
    "plt.ylabel('latitude')\n",
    "plt.title('2005 Emissions Cluster Point (Green), Emission Points (Red) and NASA M6 Points (Blue) for July 2005 Wood Gulch Fire')\n",
    "plt.show()"
   ]
  },
  {
   "cell_type": "code",
   "execution_count": 56,
   "metadata": {},
   "outputs": [
    {
     "ename": "IndentationError",
     "evalue": "unexpected indent (<ipython-input-56-24b4278e3b6c>, line 2)",
     "output_type": "error",
     "traceback": [
      "\u001b[0;36m  File \u001b[0;32m\"<ipython-input-56-24b4278e3b6c>\"\u001b[0;36m, line \u001b[0;32m2\u001b[0m\n\u001b[0;31m    lat, lon = cities['latd'], cities['longd']\u001b[0m\n\u001b[0m    ^\u001b[0m\n\u001b[0;31mIndentationError\u001b[0m\u001b[0;31m:\u001b[0m unexpected indent\n"
     ]
    }
   ],
   "source": [
    "# Extract the data we're interested in\n",
    "       lat, lon = cities['latd'], cities['longd']\n",
    "       population, area = cities['population_total'], cities['area_total_km2']\n",
    "\n",
    "       # Scatter the points, using size and color but no label\n",
    "       plt.scatter(lon, lat, label=None,\n",
    "                   c=np.log10(population), cmap='viridis',\n",
    "                   s=area, linewidth=0, alpha=0.5)\n",
    "       plt.axis(aspect='equal')\n",
    "       plt.xlabel('longitude')\n",
    "       plt.ylabel('latitude')\n",
    "       plt.colorbar(label='log$_{10}$(population)')\n",
    "       plt.clim(3, 7)\n",
    "\n",
    "       # Here we create a legend:\n",
    "       # we'll plot empty lists with the desired size and label\n",
    "       for area in [100, 300, 500]:\n",
    "           plt.scatter([], [], c='k', alpha=0.3, s=area,\n",
    "                       label=str(area) + ' km$^2$')\n",
    "       plt.legend(scatterpoints=1, frameon=False,\n",
    "                  labelspacing=1, title='City Area')\n",
    "\n",
    "       plt.title('California Cities: Area and Population');"
   ]
  },
  {
   "cell_type": "markdown",
   "metadata": {},
   "source": [
    "# NASA J1V1 Data Review"
   ]
  },
  {
   "cell_type": "code",
   "execution_count": 80,
   "metadata": {},
   "outputs": [],
   "source": [
    "NASA_J1V1['year'] = NASA_J1V1['acq_date'].astype(str).str[0:4]"
   ]
  },
  {
   "cell_type": "code",
   "execution_count": 81,
   "metadata": {},
   "outputs": [
    {
     "data": {
      "text/html": [
       "<div>\n",
       "<style scoped>\n",
       "    .dataframe tbody tr th:only-of-type {\n",
       "        vertical-align: middle;\n",
       "    }\n",
       "\n",
       "    .dataframe tbody tr th {\n",
       "        vertical-align: top;\n",
       "    }\n",
       "\n",
       "    .dataframe thead th {\n",
       "        text-align: right;\n",
       "    }\n",
       "</style>\n",
       "<table border=\"1\" class=\"dataframe\">\n",
       "  <thead>\n",
       "    <tr style=\"text-align: right;\">\n",
       "      <th></th>\n",
       "      <th>latitude</th>\n",
       "      <th>longitude</th>\n",
       "      <th>brightness</th>\n",
       "      <th>scan</th>\n",
       "      <th>track</th>\n",
       "      <th>acq_date</th>\n",
       "      <th>acq_time</th>\n",
       "      <th>satellite</th>\n",
       "      <th>instrument</th>\n",
       "      <th>confidence</th>\n",
       "      <th>version</th>\n",
       "      <th>bright_t31</th>\n",
       "      <th>frp</th>\n",
       "      <th>daynight</th>\n",
       "      <th>year</th>\n",
       "    </tr>\n",
       "  </thead>\n",
       "  <tbody>\n",
       "    <tr>\n",
       "      <th>0</th>\n",
       "      <td>38.18175</td>\n",
       "      <td>-90.34055</td>\n",
       "      <td>297.1</td>\n",
       "      <td>0.41</td>\n",
       "      <td>0.61</td>\n",
       "      <td>2019-12-04</td>\n",
       "      <td>700</td>\n",
       "      <td>1</td>\n",
       "      <td>VIIRS</td>\n",
       "      <td>n</td>\n",
       "      <td>1.0NRT</td>\n",
       "      <td>276.5</td>\n",
       "      <td>0.7</td>\n",
       "      <td>N</td>\n",
       "      <td>2019</td>\n",
       "    </tr>\n",
       "    <tr>\n",
       "      <th>1</th>\n",
       "      <td>35.64649</td>\n",
       "      <td>-89.94791</td>\n",
       "      <td>295.8</td>\n",
       "      <td>0.37</td>\n",
       "      <td>0.58</td>\n",
       "      <td>2019-12-04</td>\n",
       "      <td>700</td>\n",
       "      <td>1</td>\n",
       "      <td>VIIRS</td>\n",
       "      <td>n</td>\n",
       "      <td>1.0NRT</td>\n",
       "      <td>271.0</td>\n",
       "      <td>0.7</td>\n",
       "      <td>N</td>\n",
       "      <td>2019</td>\n",
       "    </tr>\n",
       "    <tr>\n",
       "      <th>2</th>\n",
       "      <td>41.64045</td>\n",
       "      <td>-87.13892</td>\n",
       "      <td>312.4</td>\n",
       "      <td>0.59</td>\n",
       "      <td>0.53</td>\n",
       "      <td>2019-12-04</td>\n",
       "      <td>700</td>\n",
       "      <td>1</td>\n",
       "      <td>VIIRS</td>\n",
       "      <td>n</td>\n",
       "      <td>1.0NRT</td>\n",
       "      <td>274.6</td>\n",
       "      <td>3.5</td>\n",
       "      <td>N</td>\n",
       "      <td>2019</td>\n",
       "    </tr>\n",
       "    <tr>\n",
       "      <th>3</th>\n",
       "      <td>41.64093</td>\n",
       "      <td>-87.14619</td>\n",
       "      <td>335.3</td>\n",
       "      <td>0.59</td>\n",
       "      <td>0.53</td>\n",
       "      <td>2019-12-04</td>\n",
       "      <td>700</td>\n",
       "      <td>1</td>\n",
       "      <td>VIIRS</td>\n",
       "      <td>n</td>\n",
       "      <td>1.0NRT</td>\n",
       "      <td>273.4</td>\n",
       "      <td>3.3</td>\n",
       "      <td>N</td>\n",
       "      <td>2019</td>\n",
       "    </tr>\n",
       "    <tr>\n",
       "      <th>4</th>\n",
       "      <td>33.44312</td>\n",
       "      <td>-88.57395</td>\n",
       "      <td>305.9</td>\n",
       "      <td>0.59</td>\n",
       "      <td>0.53</td>\n",
       "      <td>2019-12-04</td>\n",
       "      <td>700</td>\n",
       "      <td>1</td>\n",
       "      <td>VIIRS</td>\n",
       "      <td>n</td>\n",
       "      <td>1.0NRT</td>\n",
       "      <td>275.6</td>\n",
       "      <td>1.6</td>\n",
       "      <td>N</td>\n",
       "      <td>2019</td>\n",
       "    </tr>\n",
       "  </tbody>\n",
       "</table>\n",
       "</div>"
      ],
      "text/plain": [
       "   latitude  longitude  brightness  scan  track    acq_date  acq_time  \\\n",
       "0  38.18175  -90.34055       297.1  0.41   0.61  2019-12-04       700   \n",
       "1  35.64649  -89.94791       295.8  0.37   0.58  2019-12-04       700   \n",
       "2  41.64045  -87.13892       312.4  0.59   0.53  2019-12-04       700   \n",
       "3  41.64093  -87.14619       335.3  0.59   0.53  2019-12-04       700   \n",
       "4  33.44312  -88.57395       305.9  0.59   0.53  2019-12-04       700   \n",
       "\n",
       "   satellite instrument confidence version  bright_t31  frp daynight  year  \n",
       "0          1      VIIRS          n  1.0NRT       276.5  0.7        N  2019  \n",
       "1          1      VIIRS          n  1.0NRT       271.0  0.7        N  2019  \n",
       "2          1      VIIRS          n  1.0NRT       274.6  3.5        N  2019  \n",
       "3          1      VIIRS          n  1.0NRT       273.4  3.3        N  2019  \n",
       "4          1      VIIRS          n  1.0NRT       275.6  1.6        N  2019  "
      ]
     },
     "execution_count": 81,
     "metadata": {},
     "output_type": "execute_result"
    }
   ],
   "source": [
    "NASA_J1V1.head()"
   ]
  },
  {
   "cell_type": "code",
   "execution_count": 82,
   "metadata": {},
   "outputs": [
    {
     "data": {
      "text/plain": [
       "array(['2019'], dtype=object)"
      ]
     },
     "execution_count": 82,
     "metadata": {},
     "output_type": "execute_result"
    }
   ],
   "source": [
    "NASA_J1V1['year'].unique()"
   ]
  },
  {
   "cell_type": "code",
   "execution_count": 83,
   "metadata": {},
   "outputs": [
    {
     "data": {
      "text/plain": [
       "(14670, 15)"
      ]
     },
     "execution_count": 83,
     "metadata": {},
     "output_type": "execute_result"
    }
   ],
   "source": [
    "NASA_J1V1.shape"
   ]
  },
  {
   "cell_type": "code",
   "execution_count": null,
   "metadata": {},
   "outputs": [],
   "source": [
    "# matplotlib histogram\n",
    "plt.hist(NASA_M6['brightness'], color = 'red', edgecolor = 'black',\n",
    "         bins = int(180/5))\n",
    "\n",
    "# seaborn histogram\n",
    "sns.distplot(NASA_M6['brightness'], hist=True, kde=False, \n",
    "             bins=int(180/5), color = 'red',\n",
    "             hist_kws={'edgecolor':'black'})\n",
    "# Add labels\n",
    "plt.title('Histogram of Fire Brightness')\n",
    "plt.xlabel('Brightness/Intensity')\n",
    "plt.ylabel('Fire Instances')"
   ]
  },
  {
   "cell_type": "code",
   "execution_count": null,
   "metadata": {},
   "outputs": [],
   "source": []
  },
  {
   "cell_type": "code",
   "execution_count": null,
   "metadata": {},
   "outputs": [],
   "source": []
  }
 ],
 "metadata": {
  "kernelspec": {
   "display_name": "Python 3",
   "language": "python",
   "name": "python3"
  },
  "language_info": {
   "codemirror_mode": {
    "name": "ipython",
    "version": 3
   },
   "file_extension": ".py",
   "mimetype": "text/x-python",
   "name": "python",
   "nbconvert_exporter": "python",
   "pygments_lexer": "ipython3",
   "version": "3.7.3"
  }
 },
 "nbformat": 4,
 "nbformat_minor": 2
}

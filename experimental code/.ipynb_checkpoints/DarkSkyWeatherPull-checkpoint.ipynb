{
 "cells": [
  {
   "cell_type": "markdown",
   "metadata": {},
   "source": [
    "## DarkSky API pull for fire post clustered data\n",
    "### Main columns needed are latitude, longitude, datetime"
   ]
  },
  {
   "cell_type": "code",
   "execution_count": 120,
   "metadata": {},
   "outputs": [],
   "source": [
    "import pandas as pd\n",
    "import datetime\n",
    "import numpy as np\n",
    "\n",
    "import config\n",
    "\n",
    "from darksky import forecast\n",
    "from datetime import datetime as dt\n",
    "from datetime import timedelta\n",
    "from datetime import date\n",
    "from sqlalchemy import create_engine"
   ]
  },
  {
   "cell_type": "code",
   "execution_count": 121,
   "metadata": {},
   "outputs": [],
   "source": [
    "# create sqlalchemy engine\n",
    "engine = create_engine(\"mysql+mysqlconnector://{user}:{password}@{host}/{dbname}\"\n",
    "                       .format(user=config.db_user,\n",
    "                               password=config.db_pass,\n",
    "                               dbname=config.db_name,\n",
    "                               host=config.db_host))"
   ]
  },
  {
   "cell_type": "code",
   "execution_count": 122,
   "metadata": {},
   "outputs": [],
   "source": [
    "RAPIDAPI_KEY  = config.darksky_api1\n",
    "RAPIDAPI_KEY2  = config.darksky_api2"
   ]
  },
  {
   "cell_type": "code",
   "execution_count": 123,
   "metadata": {},
   "outputs": [],
   "source": [
    "def weather_lookup(df, key=RAPIDAPI_KEY, days_before=0, days_after=0):\n",
    "    data = []\n",
    "    for index, row in df.iterrows():\n",
    "        ts = row['datetime'].isoformat() \n",
    "        lat = row['latitude']\n",
    "        lon = row['longitude']\n",
    "        weather = forecast(key, lat, lon, time=ts)\n",
    "        w_dict = weather['currently']\n",
    "        w_dict['timestamp'] = ts\n",
    "        w_dict['latitude'] = lat\n",
    "        w_dict['longitude'] = lon\n",
    "        data.append(w_dict)\n",
    "    return data\n"
   ]
  },
  {
   "cell_type": "code",
   "execution_count": 178,
   "metadata": {},
   "outputs": [],
   "source": [
    "filename = \"fire_lat_lon_data/Emissions2005_DBScan_Clusters.csv\""
   ]
  },
  {
   "cell_type": "code",
   "execution_count": 179,
   "metadata": {},
   "outputs": [],
   "source": [
    "firedata = pd.read_csv(filename)"
   ]
  },
  {
   "cell_type": "code",
   "execution_count": 180,
   "metadata": {},
   "outputs": [],
   "source": [
    "firedata['datetime'] = (pd.to_datetime(firedata.year, format='%Y') + \n",
    "                       firedata['doy'].apply(np.ceil).apply(\n",
    "                           lambda x: pd.Timedelta(x, unit='D')) + timedelta(hours=12))"
   ]
  },
  {
   "cell_type": "code",
   "execution_count": 181,
   "metadata": {},
   "outputs": [
    {
     "name": "stdout",
     "output_type": "stream",
     "text": [
      "<class 'pandas.core.frame.DataFrame'>\n",
      "RangeIndex: 9010 entries, 0 to 9009\n",
      "Data columns (total 24 columns):\n",
      "Unnamed: 0             9010 non-null int64\n",
      "id                     9010 non-null float64\n",
      "year                   9010 non-null float64\n",
      "doy                    9010 non-null float64\n",
      "longitude              9010 non-null float64\n",
      "latitude               9010 non-null float64\n",
      "grid10k                9010 non-null float64\n",
      "covertype              9010 non-null float64\n",
      "fuelcode               9010 non-null float64\n",
      "area_burned            9010 non-null float64\n",
      "prefire_fuel           9010 non-null float64\n",
      "consumed_fuel          9010 non-null float64\n",
      "ECO2                   9010 non-null float64\n",
      "ECO                    9010 non-null float64\n",
      "ECH4                   9010 non-null float64\n",
      "EPM2.5                 9010 non-null float64\n",
      "cwd_frac               9010 non-null float64\n",
      "duff_frac              9010 non-null float64\n",
      "fuel_moisture_class    9010 non-null float64\n",
      "burn_source            9010 non-null float64\n",
      "burnday_source         9010 non-null float64\n",
      "BSEV                   9010 non-null float64\n",
      "BSEV_flag              9010 non-null float64\n",
      "datetime               9010 non-null datetime64[ns]\n",
      "dtypes: datetime64[ns](1), float64(22), int64(1)\n",
      "memory usage: 1.6 MB\n"
     ]
    }
   ],
   "source": [
    "firedata.info()"
   ]
  },
  {
   "cell_type": "code",
   "execution_count": 182,
   "metadata": {},
   "outputs": [],
   "source": [
    "firedata1000 = firedata[:]"
   ]
  },
  {
   "cell_type": "code",
   "execution_count": 183,
   "metadata": {},
   "outputs": [],
   "source": [
    "firedata2000 = firedata[1000:2000]"
   ]
  },
  {
   "cell_type": "code",
   "execution_count": 184,
   "metadata": {},
   "outputs": [],
   "source": [
    "firedata3000 = firedata[2000:]"
   ]
  },
  {
   "cell_type": "code",
   "execution_count": 185,
   "metadata": {
    "scrolled": true
   },
   "outputs": [],
   "source": [
    "weather_df1 = pd.DataFrame(weather_lookup(firedata1000,RAPIDAPI_KEY))"
   ]
  },
  {
   "cell_type": "code",
   "execution_count": 186,
   "metadata": {},
   "outputs": [],
   "source": [
    "#weather_df2 = pd.DataFrame(weather_lookup(firedata4000,RAPIDAPI_KEY2))"
   ]
  },
  {
   "cell_type": "code",
   "execution_count": 187,
   "metadata": {},
   "outputs": [],
   "source": [
    "db_columns = ['apparentTemperature', 'cloudCover', 'dewPoint',\n",
    "       'humidity', 'icon', 'latitude', 'longitude', 'precipAccumulation',\n",
    "       'precipIntensity', 'precipProbability', 'precipType', 'pressure',\n",
    "       'summary', 'temperature', 'time', 'timestamp', 'uvIndex', 'visibility',\n",
    "       'windBearing', 'windGust', 'windSpeed']"
   ]
  },
  {
   "cell_type": "code",
   "execution_count": 188,
   "metadata": {},
   "outputs": [],
   "source": [
    "weather_df1 = weather_df1[db_columns]"
   ]
  },
  {
   "cell_type": "code",
   "execution_count": 189,
   "metadata": {},
   "outputs": [],
   "source": [
    "#weather_df2 = weather_df2[db_columns]"
   ]
  },
  {
   "cell_type": "code",
   "execution_count": 191,
   "metadata": {},
   "outputs": [],
   "source": [
    "weather_df1.to_sql('weather_loading', con = engine, if_exists = 'append', chunksize = 100000)"
   ]
  },
  {
   "cell_type": "code",
   "execution_count": 192,
   "metadata": {},
   "outputs": [],
   "source": [
    "#weather_df2.to_sql('weather_loading', con = engine, if_exists = 'append', chunksize = 100000)"
   ]
  },
  {
   "cell_type": "code",
   "execution_count": 193,
   "metadata": {},
   "outputs": [],
   "source": [
    "query = \"\"\"SELECT * FROM weather_loading;\n",
    "\"\"\""
   ]
  },
  {
   "cell_type": "code",
   "execution_count": 194,
   "metadata": {},
   "outputs": [],
   "source": [
    "weather_all_sql = pd.read_sql(query, engine)"
   ]
  },
  {
   "cell_type": "code",
   "execution_count": 195,
   "metadata": {},
   "outputs": [],
   "source": [
    "#weather_all_sql = weather_all_sql.reset_index()[db_columns]"
   ]
  },
  {
   "cell_type": "code",
   "execution_count": 196,
   "metadata": {},
   "outputs": [],
   "source": [
    "#weather_all_sql.to_sql('weather_loading', con = engine, if_exists = 'replace', chunksize = 100000)"
   ]
  },
  {
   "cell_type": "code",
   "execution_count": 197,
   "metadata": {},
   "outputs": [],
   "source": [
    "weather_all_sql.to_csv('weather_96000.csv')"
   ]
  },
  {
   "cell_type": "code",
   "execution_count": 198,
   "metadata": {},
   "outputs": [
    {
     "name": "stdout",
     "output_type": "stream",
     "text": [
      "<class 'pandas.core.frame.DataFrame'>\n",
      "RangeIndex: 101092 entries, 0 to 101091\n",
      "Data columns (total 22 columns):\n",
      "index                  101092 non-null int64\n",
      "apparentTemperature    99129 non-null float64\n",
      "cloudCover             79410 non-null float64\n",
      "dewPoint               98593 non-null float64\n",
      "humidity               98560 non-null float64\n",
      "icon                   76919 non-null object\n",
      "latitude               101092 non-null float64\n",
      "longitude              101092 non-null float64\n",
      "precipAccumulation     472 non-null float64\n",
      "precipIntensity        93518 non-null float64\n",
      "precipProbability      93518 non-null float64\n",
      "precipType             10846 non-null object\n",
      "pressure               61194 non-null float64\n",
      "summary                77505 non-null object\n",
      "temperature            99129 non-null float64\n",
      "time                   101092 non-null int64\n",
      "timestamp              101092 non-null object\n",
      "uvIndex                79410 non-null float64\n",
      "visibility             81109 non-null float64\n",
      "windBearing            97434 non-null float64\n",
      "windGust               92269 non-null float64\n",
      "windSpeed              98546 non-null float64\n",
      "dtypes: float64(16), int64(2), object(4)\n",
      "memory usage: 17.0+ MB\n"
     ]
    }
   ],
   "source": [
    "weather_all_sql.info()"
   ]
  },
  {
   "cell_type": "code",
   "execution_count": 199,
   "metadata": {},
   "outputs": [
    {
     "name": "stdout",
     "output_type": "stream",
     "text": [
      "<class 'pandas.core.frame.DataFrame'>\n",
      "RangeIndex: 9010 entries, 0 to 9009\n",
      "Data columns (total 21 columns):\n",
      "apparentTemperature    8665 non-null float64\n",
      "cloudCover             6636 non-null float64\n",
      "dewPoint               8614 non-null float64\n",
      "humidity               8606 non-null float64\n",
      "icon                   6154 non-null object\n",
      "latitude               9010 non-null float64\n",
      "longitude              9010 non-null float64\n",
      "precipAccumulation     22 non-null float64\n",
      "precipIntensity        7878 non-null float64\n",
      "precipProbability      7878 non-null float64\n",
      "precipType             829 non-null object\n",
      "pressure               5425 non-null float64\n",
      "summary                6226 non-null object\n",
      "temperature            8665 non-null float64\n",
      "time                   9010 non-null int64\n",
      "timestamp              9010 non-null object\n",
      "uvIndex                6636 non-null float64\n",
      "visibility             6634 non-null float64\n",
      "windBearing            8429 non-null float64\n",
      "windGust               7707 non-null float64\n",
      "windSpeed              8605 non-null float64\n",
      "dtypes: float64(16), int64(1), object(4)\n",
      "memory usage: 1.4+ MB\n"
     ]
    }
   ],
   "source": [
    "weather_df1.info()"
   ]
  },
  {
   "cell_type": "code",
   "execution_count": 200,
   "metadata": {},
   "outputs": [
    {
     "data": {
      "text/html": [
       "<div>\n",
       "<style scoped>\n",
       "    .dataframe tbody tr th:only-of-type {\n",
       "        vertical-align: middle;\n",
       "    }\n",
       "\n",
       "    .dataframe tbody tr th {\n",
       "        vertical-align: top;\n",
       "    }\n",
       "\n",
       "    .dataframe thead th {\n",
       "        text-align: right;\n",
       "    }\n",
       "</style>\n",
       "<table border=\"1\" class=\"dataframe\">\n",
       "  <thead>\n",
       "    <tr style=\"text-align: right;\">\n",
       "      <th></th>\n",
       "      <th>apparentTemperature</th>\n",
       "      <th>cloudCover</th>\n",
       "      <th>dewPoint</th>\n",
       "      <th>humidity</th>\n",
       "      <th>icon</th>\n",
       "      <th>latitude</th>\n",
       "      <th>longitude</th>\n",
       "      <th>precipAccumulation</th>\n",
       "      <th>precipIntensity</th>\n",
       "      <th>precipProbability</th>\n",
       "      <th>...</th>\n",
       "      <th>pressure</th>\n",
       "      <th>summary</th>\n",
       "      <th>temperature</th>\n",
       "      <th>time</th>\n",
       "      <th>timestamp</th>\n",
       "      <th>uvIndex</th>\n",
       "      <th>visibility</th>\n",
       "      <th>windBearing</th>\n",
       "      <th>windGust</th>\n",
       "      <th>windSpeed</th>\n",
       "    </tr>\n",
       "  </thead>\n",
       "  <tbody>\n",
       "    <tr>\n",
       "      <td>0</td>\n",
       "      <td>96.68</td>\n",
       "      <td>NaN</td>\n",
       "      <td>73.55</td>\n",
       "      <td>0.62</td>\n",
       "      <td>NaN</td>\n",
       "      <td>25.4604</td>\n",
       "      <td>-81.0535</td>\n",
       "      <td>NaN</td>\n",
       "      <td>0.0</td>\n",
       "      <td>0.0</td>\n",
       "      <td>...</td>\n",
       "      <td>1017.5</td>\n",
       "      <td>Humid</td>\n",
       "      <td>88.30</td>\n",
       "      <td>1121702400</td>\n",
       "      <td>2005-07-18T12:00:00</td>\n",
       "      <td>NaN</td>\n",
       "      <td>NaN</td>\n",
       "      <td>105.0</td>\n",
       "      <td>17.12</td>\n",
       "      <td>11.13</td>\n",
       "    </tr>\n",
       "    <tr>\n",
       "      <td>1</td>\n",
       "      <td>96.82</td>\n",
       "      <td>0.30</td>\n",
       "      <td>67.69</td>\n",
       "      <td>0.44</td>\n",
       "      <td>clear-day</td>\n",
       "      <td>25.4064</td>\n",
       "      <td>-80.7217</td>\n",
       "      <td>NaN</td>\n",
       "      <td>0.0</td>\n",
       "      <td>0.0</td>\n",
       "      <td>...</td>\n",
       "      <td>1012.7</td>\n",
       "      <td>Clear</td>\n",
       "      <td>92.67</td>\n",
       "      <td>1118937600</td>\n",
       "      <td>2005-06-16T12:00:00</td>\n",
       "      <td>8.0</td>\n",
       "      <td>8.320</td>\n",
       "      <td>233.0</td>\n",
       "      <td>9.77</td>\n",
       "      <td>3.92</td>\n",
       "    </tr>\n",
       "    <tr>\n",
       "      <td>2</td>\n",
       "      <td>103.25</td>\n",
       "      <td>NaN</td>\n",
       "      <td>76.27</td>\n",
       "      <td>0.63</td>\n",
       "      <td>NaN</td>\n",
       "      <td>25.5633</td>\n",
       "      <td>-81.0309</td>\n",
       "      <td>NaN</td>\n",
       "      <td>0.0</td>\n",
       "      <td>0.0</td>\n",
       "      <td>...</td>\n",
       "      <td>NaN</td>\n",
       "      <td>Humid</td>\n",
       "      <td>90.80</td>\n",
       "      <td>1124553600</td>\n",
       "      <td>2005-08-20T12:00:00</td>\n",
       "      <td>NaN</td>\n",
       "      <td>NaN</td>\n",
       "      <td>72.0</td>\n",
       "      <td>10.23</td>\n",
       "      <td>4.56</td>\n",
       "    </tr>\n",
       "    <tr>\n",
       "      <td>3</td>\n",
       "      <td>75.49</td>\n",
       "      <td>NaN</td>\n",
       "      <td>63.00</td>\n",
       "      <td>0.66</td>\n",
       "      <td>NaN</td>\n",
       "      <td>26.7504</td>\n",
       "      <td>-98.8598</td>\n",
       "      <td>NaN</td>\n",
       "      <td>0.0</td>\n",
       "      <td>0.0</td>\n",
       "      <td>...</td>\n",
       "      <td>NaN</td>\n",
       "      <td>NaN</td>\n",
       "      <td>75.17</td>\n",
       "      <td>1115398800</td>\n",
       "      <td>2005-05-06T12:00:00</td>\n",
       "      <td>NaN</td>\n",
       "      <td>NaN</td>\n",
       "      <td>150.0</td>\n",
       "      <td>18.00</td>\n",
       "      <td>8.99</td>\n",
       "    </tr>\n",
       "    <tr>\n",
       "      <td>4</td>\n",
       "      <td>99.08</td>\n",
       "      <td>0.44</td>\n",
       "      <td>74.74</td>\n",
       "      <td>0.63</td>\n",
       "      <td>partly-cloudy-day</td>\n",
       "      <td>25.7083</td>\n",
       "      <td>-80.8412</td>\n",
       "      <td>NaN</td>\n",
       "      <td>0.0</td>\n",
       "      <td>0.0</td>\n",
       "      <td>...</td>\n",
       "      <td>1015.9</td>\n",
       "      <td>Humid and Partly Cloudy</td>\n",
       "      <td>89.13</td>\n",
       "      <td>1122307200</td>\n",
       "      <td>2005-07-25T12:00:00</td>\n",
       "      <td>7.0</td>\n",
       "      <td>9.997</td>\n",
       "      <td>326.0</td>\n",
       "      <td>7.18</td>\n",
       "      <td>4.21</td>\n",
       "    </tr>\n",
       "  </tbody>\n",
       "</table>\n",
       "<p>5 rows × 21 columns</p>\n",
       "</div>"
      ],
      "text/plain": [
       "   apparentTemperature  cloudCover  dewPoint  humidity               icon  \\\n",
       "0                96.68         NaN     73.55      0.62                NaN   \n",
       "1                96.82        0.30     67.69      0.44          clear-day   \n",
       "2               103.25         NaN     76.27      0.63                NaN   \n",
       "3                75.49         NaN     63.00      0.66                NaN   \n",
       "4                99.08        0.44     74.74      0.63  partly-cloudy-day   \n",
       "\n",
       "   latitude  longitude  precipAccumulation  precipIntensity  \\\n",
       "0   25.4604   -81.0535                 NaN              0.0   \n",
       "1   25.4064   -80.7217                 NaN              0.0   \n",
       "2   25.5633   -81.0309                 NaN              0.0   \n",
       "3   26.7504   -98.8598                 NaN              0.0   \n",
       "4   25.7083   -80.8412                 NaN              0.0   \n",
       "\n",
       "   precipProbability  ... pressure                  summary temperature  \\\n",
       "0                0.0  ...   1017.5                    Humid       88.30   \n",
       "1                0.0  ...   1012.7                    Clear       92.67   \n",
       "2                0.0  ...      NaN                    Humid       90.80   \n",
       "3                0.0  ...      NaN                      NaN       75.17   \n",
       "4                0.0  ...   1015.9  Humid and Partly Cloudy       89.13   \n",
       "\n",
       "         time            timestamp uvIndex  visibility  windBearing  windGust  \\\n",
       "0  1121702400  2005-07-18T12:00:00     NaN         NaN        105.0     17.12   \n",
       "1  1118937600  2005-06-16T12:00:00     8.0       8.320        233.0      9.77   \n",
       "2  1124553600  2005-08-20T12:00:00     NaN         NaN         72.0     10.23   \n",
       "3  1115398800  2005-05-06T12:00:00     NaN         NaN        150.0     18.00   \n",
       "4  1122307200  2005-07-25T12:00:00     7.0       9.997        326.0      7.18   \n",
       "\n",
       "   windSpeed  \n",
       "0      11.13  \n",
       "1       3.92  \n",
       "2       4.56  \n",
       "3       8.99  \n",
       "4       4.21  \n",
       "\n",
       "[5 rows x 21 columns]"
      ]
     },
     "execution_count": 200,
     "metadata": {},
     "output_type": "execute_result"
    }
   ],
   "source": [
    "weather_df1.head()"
   ]
  },
  {
   "cell_type": "code",
   "execution_count": null,
   "metadata": {},
   "outputs": [],
   "source": []
  }
 ],
 "metadata": {
  "kernelspec": {
   "display_name": "Python 3",
   "language": "python",
   "name": "python3"
  }
 },
 "nbformat": 4,
 "nbformat_minor": 4
}

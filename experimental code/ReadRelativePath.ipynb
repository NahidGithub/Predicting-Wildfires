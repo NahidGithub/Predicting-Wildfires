{
 "cells": [
  {
   "cell_type": "markdown",
   "metadata": {},
   "source": [
    "## This is a quick summary to read relative paths as we go forward.\n",
    "\n",
    "### If you need ot use local data\n",
    "\n",
    "<ol>\n",
    "<li>Create a local directory relative to the the executing folder: i.e. you can search in the directory \n",
    "    1 level up, 2 levels up, etc...</li>\n",
    "<li>Store the data in the local directory: i.e. file1, file2, </li>\n",
    "<li>Let everyone know  where the data is expected to live</li>\n",
    "<li>Write and share your code to read relative path</li>\n",
    "</ol>\n",
    "\n",
    "<i> The exmaple file DarkSkyAPITest.csv is stored in google drive under experimental code"
   ]
  },
  {
   "cell_type": "code",
   "execution_count": null,
   "metadata": {},
   "outputs": [],
   "source": [
    "import os\n",
    "import pandas as pd\n",
    "\n",
    "#Uses local data folder inside your working directory (experimental code) - you can make it"
   ]
  },
  {
   "cell_type": "code",
   "execution_count": null,
   "metadata": {},
   "outputs": [],
   "source": [
    "#Pandas example\n",
    "\n",
    "# read in using relative path - works the same on everyone's comptuer\n",
    "\n",
    "data = pd.read_csv(\"data/DarkSkyAPITest.csv\")  #assumes data folder is in current directory \n",
    "#data = pd.read_csv(\"../data/DarkSkyAPITest.csv\")  #assumes data folder is 1 directory up and searches \n",
    "#data = pd.read_csv(\"../../data/DarkSkyAPITest.csv\")  #assumes data folder is 2 directories up and searches\n",
    "\n",
    "print(data.head(10))"
   ]
  },
  {
   "cell_type": "code",
   "execution_count": null,
   "metadata": {},
   "outputs": [],
   "source": [
    "#os file example\n",
    "\n",
    "#assumes data folder is in current directory \n",
    "filenames = os.listdir(\"data\")\n",
    "print(filenames)\n",
    "\n",
    "\n",
    "#assumes data folder is in current directory and DarkSkyAPITest.csv is in the data folder\n",
    "pathname = os.path.join(\"data\", \"DarkSkyAPITest.csv\")\n",
    "print(pathname)\n",
    "\n",
    "#pathname = os.path.join(\"../data\", \"DarkSkyAPITest.csv\") #assumes data folder & is 1 directory up\n",
    "#print(pathname)\n",
    "\n",
    "#print out a line\n",
    "file = open(pathname)\n",
    "print(file.readline())\n",
    "file.close()"
   ]
  },
  {
   "cell_type": "code",
   "execution_count": null,
   "metadata": {},
   "outputs": [],
   "source": []
  }
 ],
 "metadata": {
  "kernelspec": {
   "display_name": "Python 3",
   "language": "python",
   "name": "python3"
  },
  "language_info": {
   "codemirror_mode": {
    "name": "ipython",
    "version": 3
   },
   "file_extension": ".py",
   "mimetype": "text/x-python",
   "name": "python",
   "nbconvert_exporter": "python",
   "pygments_lexer": "ipython3",
   "version": "3.7.4"
  }
 },
 "nbformat": 4,
 "nbformat_minor": 4
}

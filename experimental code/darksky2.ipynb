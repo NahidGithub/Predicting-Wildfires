{
 "cells": [
  {
   "cell_type": "markdown",
   "metadata": {},
   "source": [
    "### Copied Code From This location:\n",
    "https://pypi.org/project/darkskylib/\n",
    "\n",
    "\n",
    "### pip uninstall darksky\n",
    "### pip install darkskylib\n"
   ]
  },
  {
   "cell_type": "code",
   "execution_count": 4,
   "metadata": {},
   "outputs": [],
   "source": [
    "from darksky import forecast\n",
    "\n",
    "RAPIDAPI_KEY  = \"add your here\""
   ]
  },
  {
   "cell_type": "code",
   "execution_count": 28,
   "metadata": {},
   "outputs": [
    {
     "name": "stdout",
     "output_type": "stream",
     "text": [
      "<class 'darksky.forecast.Forecast'>\n",
      "1551859200\n",
      "21.88\n",
      "21.88\n",
      "0.51\n",
      "1013.6\n",
      "9.09\n"
     ]
    }
   ],
   "source": [
    "boston = forecast(RAPIDAPI_KEY, 42.3601, -71.0589)\n",
    "\n",
    "print(type(boston))\n",
    "\n",
    "BOSTON = RAPIDAPI_KEY, 42.3601, -71.0589\n",
    "\n",
    "from datetime import datetime as dt\n",
    "t = dt(2019, 3, 6, 3).isoformat() #year, month, day, hour\n",
    "\n",
    "boston = forecast(*BOSTON, time=t)\n",
    "print(boston.time)\n",
    "\n",
    "print(boston['currently']['temperature'])\n",
    "print(boston.temperature)\n",
    "print(boston.humidity)\n",
    "print(boston.pressure)\n",
    "print(boston.windSpeed)\n",
    "             "
   ]
  },
  {
   "cell_type": "code",
   "execution_count": null,
   "metadata": {},
   "outputs": [],
   "source": []
  }
 ],
 "metadata": {
  "kernelspec": {
   "display_name": "Python 3",
   "language": "python",
   "name": "python3"
  },
  "language_info": {
   "codemirror_mode": {
    "name": "ipython",
    "version": 3
   },
   "file_extension": ".py",
   "mimetype": "text/x-python",
   "name": "python",
   "nbconvert_exporter": "python",
   "pygments_lexer": "ipython3",
   "version": "3.7.4"
  }
 },
 "nbformat": 4,
 "nbformat_minor": 4
}

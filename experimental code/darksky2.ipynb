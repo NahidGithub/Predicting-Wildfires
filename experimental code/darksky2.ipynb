{
 "cells": [
  {
   "cell_type": "markdown",
   "metadata": {},
   "source": [
    "### Copied Code From This location:\n",
    "https://pypi.org/project/darkskylib/\n",
    "\n",
    "### Dark sky attributes\n",
    "https://darksky.net/dev/docs#api-request-types\n",
    "\n",
    "### pip uninstall darksky\n",
    "### pip install darkskylib\n"
   ]
  },
  {
   "cell_type": "code",
   "execution_count": 27,
   "metadata": {},
   "outputs": [],
   "source": [
    "from darksky import forecast\n",
    "RAPIDAPI_KEY  = \"need your key\"\n",
    "\n",
    "#boston\n",
    "lat = 42.3601   \n",
    "lon = -71.058  \n",
    "\n",
    "#changed to baltimore\n",
    "lat = 39.299236 \n",
    "lon = -76.609383 \n"
   ]
  },
  {
   "cell_type": "code",
   "execution_count": 32,
   "metadata": {},
   "outputs": [
    {
     "name": "stdout",
     "output_type": "stream",
     "text": [
      "2020-04-01T12:00:00\n",
      "48.9\n",
      "0.63\n",
      "1010.5\n",
      "9.04\n",
      "rain\n"
     ]
    }
   ],
   "source": [
    "boston = forecast(RAPIDAPI_KEY, lat, lon)\n",
    "BOSTON = RAPIDAPI_KEY, lat, lon\n",
    "\n",
    "from datetime import datetime as dt\n",
    "strDate = dt(2020, 4, 1, 12).isoformat() #year, month, day, hour\n",
    "\n",
    "print(strDate)\n",
    "\n",
    "boston = forecast(*BOSTON, time=strDate)\n",
    "\n",
    "#print(boston['currently']['temperature']) this works also\n",
    "print(boston.temperature)\n",
    "print(boston.humidity)\n",
    "print(boston.pressure)\n",
    "print(boston.windSpeed)\n",
    "print(boston.precipType)\n",
    "             "
   ]
  },
  {
   "cell_type": "code",
   "execution_count": null,
   "metadata": {},
   "outputs": [],
   "source": []
  },
  {
   "cell_type": "code",
   "execution_count": null,
   "metadata": {},
   "outputs": [],
   "source": []
  }
 ],
 "metadata": {
  "kernelspec": {
   "display_name": "Python 3",
   "language": "python",
   "name": "python3"
  },
  "language_info": {
   "codemirror_mode": {
    "name": "ipython",
    "version": 3
   },
   "file_extension": ".py",
   "mimetype": "text/x-python",
   "name": "python",
   "nbconvert_exporter": "python",
   "pygments_lexer": "ipython3",
   "version": "3.7.4"
  }
 },
 "nbformat": 4,
 "nbformat_minor": 4
}

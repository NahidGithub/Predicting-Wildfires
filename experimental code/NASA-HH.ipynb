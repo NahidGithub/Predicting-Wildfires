{
 "cells": [
  {
   "cell_type": "markdown",
   "metadata": {},
   "source": [
    "\n",
    "## <font color='green'> hh's NASA Review: </font> \n",
    "#### Three files:\n",
    "#### 1. Fire_V1\n",
    "https://earthdata.nasa.gov/earth-observation-data/near-real-time/firms/v1-vnp14imgt#ed-viirs-375m-attributes\n",
    "\n",
    "#### 2. Fire_M6 - requested MODIS data (M6 stands for MODIS Collection 6; MODIS NRT files:(MCD14DL) MODIS Active Fire and Thermal Anomalies product processed by LANCE / FIRMS\n",
    "https://earthdata.nasa.gov/earth-observation-data/near-real-time/firms/c6-mcd14dl#ed-firms-attributes \n",
    "https://earthdata.nasa.gov/faq/firms-faq\n",
    "\n",
    "#### 3. FireJ1V-C2 - \n",
    "##### IIRS 375m NRT files:(VJ114IMGDL) VIIRS Active Fire and Thermal Anomalies product from NOAA-20 (JPSS-1) processed by LANCE / FIRMS\n",
    "\n",
    "Note:\n",
    "The MODIS and VIIRS fire files are split to ensure users clearly distinguish between these two data sources. Should you wish to combine the datasets you will still be able to distinguish the source using the Collection / Version field. \n",
    "\n",
    "See Read Me File in google drive. "
   ]
  },
  {
   "cell_type": "code",
   "execution_count": 1,
   "metadata": {},
   "outputs": [],
   "source": [
    "import os\n",
    "import glob\n",
    "import pandas as pd\n",
    "\n",
    "import matplotlib.pyplot as plt\n",
    "import seaborn as sns\n",
    "import numpy as np "
   ]
  },
  {
   "cell_type": "markdown",
   "metadata": {},
   "source": [
    "### Merge V1 NASA data into single file, current and archive."
   ]
  },
  {
   "cell_type": "markdown",
   "metadata": {},
   "source": [
    "os.chdir('/Users/AlfHaugen/Python/Wildfire_Data/4 NASA/DL_Fire_V1_110068')"
   ]
  },
  {
   "cell_type": "markdown",
   "metadata": {},
   "source": [
    "extension = 'csv'\n",
    "all_filenames = [i for i in glob.glob('*.{}'.format(extension))]\n",
    "\n",
    "###combine all files in the list\n",
    "NASAV1combined = pd.concat([pd.read_csv(f) for f in all_filenames ])\n",
    "###export to csv\n",
    "NASAV1combined.to_csv( \"NASAV1combined.csv\", index=False, encoding='utf-8-sig')"
   ]
  },
  {
   "cell_type": "code",
   "execution_count": 4,
   "metadata": {},
   "outputs": [],
   "source": [
    "FRPdf = pd.read_csv('/Users/AlfHaugen/Python/Wildfire_Data/4 NASA/DL_Fire_V1_110068/fire_archive_V1_110068.csv')"
   ]
  },
  {
   "cell_type": "code",
   "execution_count": 5,
   "metadata": {},
   "outputs": [
    {
     "name": "stderr",
     "output_type": "stream",
     "text": [
      "/Users/AlfHaugen/anaconda3/lib/python3.7/site-packages/IPython/core/interactiveshell.py:3049: DtypeWarning: Columns (5,14) have mixed types. Specify dtype option on import or set low_memory=False.\n",
      "  interactivity=interactivity, compiler=compiler, result=result)\n"
     ]
    }
   ],
   "source": [
    "NASA_V1 = pd.read_csv('/Users/AlfHaugen/Python/Wildfire_Data/4 NASA/DL_Fire_V1_110068/NASAV1combined.csv', dtype={\"confidence\": object, \"type\": object})"
   ]
  },
  {
   "cell_type": "code",
   "execution_count": 6,
   "metadata": {},
   "outputs": [],
   "source": [
    "NASA_M6 = pd.read_csv('/Users/AlfHaugen/Python/Wildfire_Data/4 NASA/DL_FIRE_M6_110066/fire_archive_M6_110066.csv')"
   ]
  },
  {
   "cell_type": "code",
   "execution_count": null,
   "metadata": {},
   "outputs": [],
   "source": [
    "NASA_J1V1 = pd.read_csv('/Users/AlfHaugen/Python/Wildfire_Data/4 NASA/DL_FIRE_J1V-C2_110067/fire_nrt_J1V-C2_110067.csv')"
   ]
  },
  {
   "cell_type": "code",
   "execution_count": null,
   "metadata": {},
   "outputs": [],
   "source": [
    "FRPdf.shape"
   ]
  },
  {
   "cell_type": "markdown",
   "metadata": {},
   "source": [
    "# NASA V1 Data Review"
   ]
  },
  {
   "cell_type": "code",
   "execution_count": 7,
   "metadata": {},
   "outputs": [
    {
     "data": {
      "text/plain": [
       "(10820816, 15)"
      ]
     },
     "execution_count": 7,
     "metadata": {},
     "output_type": "execute_result"
    }
   ],
   "source": [
    "NASA_V1.shape"
   ]
  },
  {
   "cell_type": "code",
   "execution_count": 8,
   "metadata": {},
   "outputs": [],
   "source": [
    "### Pull year out and make into a new column in dataframe. \n",
    "NASA_V1['year'] = NASA_V1['acq_date'].astype(str).str[0:4]"
   ]
  },
  {
   "cell_type": "code",
   "execution_count": 9,
   "metadata": {},
   "outputs": [
    {
     "data": {
      "text/html": [
       "<div>\n",
       "<style scoped>\n",
       "    .dataframe tbody tr th:only-of-type {\n",
       "        vertical-align: middle;\n",
       "    }\n",
       "\n",
       "    .dataframe tbody tr th {\n",
       "        vertical-align: top;\n",
       "    }\n",
       "\n",
       "    .dataframe thead th {\n",
       "        text-align: right;\n",
       "    }\n",
       "</style>\n",
       "<table border=\"1\" class=\"dataframe\">\n",
       "  <thead>\n",
       "    <tr style=\"text-align: right;\">\n",
       "      <th></th>\n",
       "      <th>acq_date</th>\n",
       "      <th>acq_time</th>\n",
       "      <th>bright_ti4</th>\n",
       "      <th>bright_ti5</th>\n",
       "      <th>confidence</th>\n",
       "      <th>daynight</th>\n",
       "      <th>frp</th>\n",
       "      <th>instrument</th>\n",
       "      <th>latitude</th>\n",
       "      <th>longitude</th>\n",
       "      <th>satellite</th>\n",
       "      <th>scan</th>\n",
       "      <th>track</th>\n",
       "      <th>type</th>\n",
       "      <th>version</th>\n",
       "      <th>year</th>\n",
       "    </tr>\n",
       "  </thead>\n",
       "  <tbody>\n",
       "    <tr>\n",
       "      <th>0</th>\n",
       "      <td>2019-10-01</td>\n",
       "      <td>612</td>\n",
       "      <td>307.3</td>\n",
       "      <td>288.6</td>\n",
       "      <td>n</td>\n",
       "      <td>N</td>\n",
       "      <td>2.3</td>\n",
       "      <td>VIIRS</td>\n",
       "      <td>41.46153</td>\n",
       "      <td>-81.67585</td>\n",
       "      <td>N</td>\n",
       "      <td>0.69</td>\n",
       "      <td>0.74</td>\n",
       "      <td>NaN</td>\n",
       "      <td>1.0NRT</td>\n",
       "      <td>2019</td>\n",
       "    </tr>\n",
       "    <tr>\n",
       "      <th>1</th>\n",
       "      <td>2019-10-01</td>\n",
       "      <td>612</td>\n",
       "      <td>312.8</td>\n",
       "      <td>288.3</td>\n",
       "      <td>n</td>\n",
       "      <td>N</td>\n",
       "      <td>2.1</td>\n",
       "      <td>VIIRS</td>\n",
       "      <td>41.45969</td>\n",
       "      <td>-81.67487</td>\n",
       "      <td>N</td>\n",
       "      <td>0.69</td>\n",
       "      <td>0.74</td>\n",
       "      <td>NaN</td>\n",
       "      <td>1.0NRT</td>\n",
       "      <td>2019</td>\n",
       "    </tr>\n",
       "    <tr>\n",
       "      <th>2</th>\n",
       "      <td>2019-10-01</td>\n",
       "      <td>612</td>\n",
       "      <td>336.8</td>\n",
       "      <td>287.2</td>\n",
       "      <td>n</td>\n",
       "      <td>N</td>\n",
       "      <td>4.8</td>\n",
       "      <td>VIIRS</td>\n",
       "      <td>34.66630</td>\n",
       "      <td>-80.58686</td>\n",
       "      <td>N</td>\n",
       "      <td>0.55</td>\n",
       "      <td>0.68</td>\n",
       "      <td>NaN</td>\n",
       "      <td>1.0NRT</td>\n",
       "      <td>2019</td>\n",
       "    </tr>\n",
       "    <tr>\n",
       "      <th>3</th>\n",
       "      <td>2019-10-01</td>\n",
       "      <td>612</td>\n",
       "      <td>307.7</td>\n",
       "      <td>286.4</td>\n",
       "      <td>n</td>\n",
       "      <td>N</td>\n",
       "      <td>1.7</td>\n",
       "      <td>VIIRS</td>\n",
       "      <td>37.23220</td>\n",
       "      <td>-82.03742</td>\n",
       "      <td>N</td>\n",
       "      <td>0.69</td>\n",
       "      <td>0.74</td>\n",
       "      <td>NaN</td>\n",
       "      <td>1.0NRT</td>\n",
       "      <td>2019</td>\n",
       "    </tr>\n",
       "    <tr>\n",
       "      <th>4</th>\n",
       "      <td>2019-10-01</td>\n",
       "      <td>612</td>\n",
       "      <td>297.7</td>\n",
       "      <td>285.9</td>\n",
       "      <td>n</td>\n",
       "      <td>N</td>\n",
       "      <td>2.3</td>\n",
       "      <td>VIIRS</td>\n",
       "      <td>37.22986</td>\n",
       "      <td>-82.04183</td>\n",
       "      <td>N</td>\n",
       "      <td>0.69</td>\n",
       "      <td>0.74</td>\n",
       "      <td>NaN</td>\n",
       "      <td>1.0NRT</td>\n",
       "      <td>2019</td>\n",
       "    </tr>\n",
       "  </tbody>\n",
       "</table>\n",
       "</div>"
      ],
      "text/plain": [
       "     acq_date  acq_time  bright_ti4  bright_ti5 confidence daynight  frp  \\\n",
       "0  2019-10-01       612       307.3       288.6          n        N  2.3   \n",
       "1  2019-10-01       612       312.8       288.3          n        N  2.1   \n",
       "2  2019-10-01       612       336.8       287.2          n        N  4.8   \n",
       "3  2019-10-01       612       307.7       286.4          n        N  1.7   \n",
       "4  2019-10-01       612       297.7       285.9          n        N  2.3   \n",
       "\n",
       "  instrument  latitude  longitude satellite  scan  track  type version  year  \n",
       "0      VIIRS  41.46153  -81.67585         N  0.69   0.74   NaN  1.0NRT  2019  \n",
       "1      VIIRS  41.45969  -81.67487         N  0.69   0.74   NaN  1.0NRT  2019  \n",
       "2      VIIRS  34.66630  -80.58686         N  0.55   0.68   NaN  1.0NRT  2019  \n",
       "3      VIIRS  37.23220  -82.03742         N  0.69   0.74   NaN  1.0NRT  2019  \n",
       "4      VIIRS  37.22986  -82.04183         N  0.69   0.74   NaN  1.0NRT  2019  "
      ]
     },
     "execution_count": 9,
     "metadata": {},
     "output_type": "execute_result"
    }
   ],
   "source": [
    "NASA_V1.head()"
   ]
  },
  {
   "cell_type": "code",
   "execution_count": 10,
   "metadata": {},
   "outputs": [
    {
     "data": {
      "text/html": [
       "<div>\n",
       "<style scoped>\n",
       "    .dataframe tbody tr th:only-of-type {\n",
       "        vertical-align: middle;\n",
       "    }\n",
       "\n",
       "    .dataframe tbody tr th {\n",
       "        vertical-align: top;\n",
       "    }\n",
       "\n",
       "    .dataframe thead th {\n",
       "        text-align: right;\n",
       "    }\n",
       "</style>\n",
       "<table border=\"1\" class=\"dataframe\">\n",
       "  <thead>\n",
       "    <tr style=\"text-align: right;\">\n",
       "      <th></th>\n",
       "      <th>acq_time</th>\n",
       "      <th>bright_ti4</th>\n",
       "      <th>bright_ti5</th>\n",
       "      <th>frp</th>\n",
       "      <th>latitude</th>\n",
       "      <th>longitude</th>\n",
       "      <th>scan</th>\n",
       "      <th>track</th>\n",
       "      <th>type</th>\n",
       "    </tr>\n",
       "  </thead>\n",
       "  <tbody>\n",
       "    <tr>\n",
       "      <th>count</th>\n",
       "      <td>1.082082e+07</td>\n",
       "      <td>1.082082e+07</td>\n",
       "      <td>1.082082e+07</td>\n",
       "      <td>1.082082e+07</td>\n",
       "      <td>1.082082e+07</td>\n",
       "      <td>1.082082e+07</td>\n",
       "      <td>1.082082e+07</td>\n",
       "      <td>1.082082e+07</td>\n",
       "      <td>1.059404e+07</td>\n",
       "    </tr>\n",
       "    <tr>\n",
       "      <th>mean</th>\n",
       "      <td>1.435303e+03</td>\n",
       "      <td>3.278395e+02</td>\n",
       "      <td>2.920592e+02</td>\n",
       "      <td>1.228721e+01</td>\n",
       "      <td>3.950159e+01</td>\n",
       "      <td>-1.075576e+02</td>\n",
       "      <td>4.624647e-01</td>\n",
       "      <td>4.857055e-01</td>\n",
       "      <td>4.513891e-01</td>\n",
       "    </tr>\n",
       "    <tr>\n",
       "      <th>std</th>\n",
       "      <td>5.632978e+02</td>\n",
       "      <td>2.117195e+01</td>\n",
       "      <td>1.240298e+01</td>\n",
       "      <td>3.778120e+01</td>\n",
       "      <td>9.644486e+00</td>\n",
       "      <td>2.112151e+01</td>\n",
       "      <td>9.027072e-02</td>\n",
       "      <td>1.179532e-01</td>\n",
       "      <td>9.152609e-01</td>\n",
       "    </tr>\n",
       "    <tr>\n",
       "      <th>min</th>\n",
       "      <td>0.000000e+00</td>\n",
       "      <td>2.080000e+02</td>\n",
       "      <td>0.000000e+00</td>\n",
       "      <td>0.000000e+00</td>\n",
       "      <td>1.891902e+01</td>\n",
       "      <td>-1.788074e+02</td>\n",
       "      <td>3.200000e-01</td>\n",
       "      <td>3.600000e-01</td>\n",
       "      <td>0.000000e+00</td>\n",
       "    </tr>\n",
       "    <tr>\n",
       "      <th>25%</th>\n",
       "      <td>9.080000e+02</td>\n",
       "      <td>3.071000e+02</td>\n",
       "      <td>2.848000e+02</td>\n",
       "      <td>1.700000e+00</td>\n",
       "      <td>3.312107e+01</td>\n",
       "      <td>-1.197162e+02</td>\n",
       "      <td>3.900000e-01</td>\n",
       "      <td>3.800000e-01</td>\n",
       "      <td>0.000000e+00</td>\n",
       "    </tr>\n",
       "    <tr>\n",
       "      <th>50%</th>\n",
       "      <td>1.735000e+03</td>\n",
       "      <td>3.308000e+02</td>\n",
       "      <td>2.910000e+02</td>\n",
       "      <td>4.000000e+00</td>\n",
       "      <td>3.849042e+01</td>\n",
       "      <td>-1.041523e+02</td>\n",
       "      <td>4.400000e-01</td>\n",
       "      <td>4.500000e-01</td>\n",
       "      <td>0.000000e+00</td>\n",
       "    </tr>\n",
       "    <tr>\n",
       "      <th>75%</th>\n",
       "      <td>1.942000e+03</td>\n",
       "      <td>3.430000e+02</td>\n",
       "      <td>2.984000e+02</td>\n",
       "      <td>9.500000e+00</td>\n",
       "      <td>4.434374e+01</td>\n",
       "      <td>-9.016537e+01</td>\n",
       "      <td>5.100000e-01</td>\n",
       "      <td>5.700000e-01</td>\n",
       "      <td>0.000000e+00</td>\n",
       "    </tr>\n",
       "    <tr>\n",
       "      <th>max</th>\n",
       "      <td>2.359000e+03</td>\n",
       "      <td>3.670000e+02</td>\n",
       "      <td>3.800000e+02</td>\n",
       "      <td>8.065400e+03</td>\n",
       "      <td>7.132837e+01</td>\n",
       "      <td>1.795834e+02</td>\n",
       "      <td>8.000000e-01</td>\n",
       "      <td>7.800000e-01</td>\n",
       "      <td>3.000000e+00</td>\n",
       "    </tr>\n",
       "  </tbody>\n",
       "</table>\n",
       "</div>"
      ],
      "text/plain": [
       "           acq_time    bright_ti4    bright_ti5           frp      latitude  \\\n",
       "count  1.082082e+07  1.082082e+07  1.082082e+07  1.082082e+07  1.082082e+07   \n",
       "mean   1.435303e+03  3.278395e+02  2.920592e+02  1.228721e+01  3.950159e+01   \n",
       "std    5.632978e+02  2.117195e+01  1.240298e+01  3.778120e+01  9.644486e+00   \n",
       "min    0.000000e+00  2.080000e+02  0.000000e+00  0.000000e+00  1.891902e+01   \n",
       "25%    9.080000e+02  3.071000e+02  2.848000e+02  1.700000e+00  3.312107e+01   \n",
       "50%    1.735000e+03  3.308000e+02  2.910000e+02  4.000000e+00  3.849042e+01   \n",
       "75%    1.942000e+03  3.430000e+02  2.984000e+02  9.500000e+00  4.434374e+01   \n",
       "max    2.359000e+03  3.670000e+02  3.800000e+02  8.065400e+03  7.132837e+01   \n",
       "\n",
       "          longitude          scan         track          type  \n",
       "count  1.082082e+07  1.082082e+07  1.082082e+07  1.059404e+07  \n",
       "mean  -1.075576e+02  4.624647e-01  4.857055e-01  4.513891e-01  \n",
       "std    2.112151e+01  9.027072e-02  1.179532e-01  9.152609e-01  \n",
       "min   -1.788074e+02  3.200000e-01  3.600000e-01  0.000000e+00  \n",
       "25%   -1.197162e+02  3.900000e-01  3.800000e-01  0.000000e+00  \n",
       "50%   -1.041523e+02  4.400000e-01  4.500000e-01  0.000000e+00  \n",
       "75%   -9.016537e+01  5.100000e-01  5.700000e-01  0.000000e+00  \n",
       "max    1.795834e+02  8.000000e-01  7.800000e-01  3.000000e+00  "
      ]
     },
     "execution_count": 10,
     "metadata": {},
     "output_type": "execute_result"
    }
   ],
   "source": [
    "NASA_V1.describe()"
   ]
  },
  {
   "cell_type": "code",
   "execution_count": 11,
   "metadata": {},
   "outputs": [
    {
     "data": {
      "text/plain": [
       "array(['2019', '2012', '2013', '2014', '2015', '2016', '2017', '2018'],\n",
       "      dtype=object)"
      ]
     },
     "execution_count": 11,
     "metadata": {},
     "output_type": "execute_result"
    }
   ],
   "source": [
    "NASA_V1['year'].unique()"
   ]
  },
  {
   "cell_type": "code",
   "execution_count": 75,
   "metadata": {},
   "outputs": [],
   "source": [
    "Nv1frp = NASA_V1[(NASA_V1.frp < 200)]"
   ]
  },
  {
   "cell_type": "code",
   "execution_count": 72,
   "metadata": {},
   "outputs": [
    {
     "data": {
      "text/plain": [
       "<matplotlib.axes._subplots.AxesSubplot at 0x1a2faf3e10>"
      ]
     },
     "execution_count": 72,
     "metadata": {},
     "output_type": "execute_result"
    },
    {
     "data": {
      "image/png": "[encoded data removed]",
      "text/plain": [
       "<Figure size 432x288 with 1 Axes>"
      ]
     },
     "metadata": {
      "needs_background": "light"
     },
     "output_type": "display_data"
    }
   ],
   "source": [
    "sns.distplot(NASA_V1['frp'], hist = False, kde = True,\n",
    "                 kde_kws = {'shade': True, 'linewidth': 3, 'color': 'Y'}, \n",
    "                  label = 'brightness')"
   ]
  },
  {
   "cell_type": "code",
   "execution_count": 85,
   "metadata": {},
   "outputs": [
    {
     "data": {
      "text/plain": [
       "Text(0, 0.5, '# of Fire Instances')"
      ]
     },
     "execution_count": 85,
     "metadata": {},
     "output_type": "execute_result"
    },
    {
     "data": {
      "image/png": "[encoded data removed]",
      "text/plain": [
       "<Figure size 432x288 with 1 Axes>"
      ]
     },
     "metadata": {
      "needs_background": "light"
     },
     "output_type": "display_data"
    }
   ],
   "source": [
    "# matplotlib histogram\n",
    "plt.hist(Nv1frp['frp'], color = 'orange', edgecolor = 'black',\n",
    "         bins = int(180/7))\n",
    "\n",
    "# seaborn histogram\n",
    "sns.distplot(Nv1frp['frp'], hist=True, kde=False, \n",
    "             bins=int(180/3), color = 'blue',\n",
    "             hist_kws={'edgecolor':'black'})\n",
    "# Add labels\n",
    "plt.title('Histogram of FRP across V1 data 2003-2019')\n",
    "plt.xlabel('Brightness/Intensity')\n",
    "plt.ylabel('# of Fire Instances')"
   ]
  },
  {
   "cell_type": "markdown",
   "metadata": {},
   "source": [
    "# NASA M6 Data Review"
   ]
  },
  {
   "cell_type": "code",
   "execution_count": 8,
   "metadata": {},
   "outputs": [],
   "source": [
    "NASA_M6['year'] = NASA_M6['acq_date'].astype(str).str[0:4]"
   ]
  },
  {
   "cell_type": "code",
   "execution_count": 9,
   "metadata": {},
   "outputs": [
    {
     "data": {
      "text/plain": [
       "array(['2003', '2004', '2005', '2006', '2007', '2008', '2009', '2010',\n",
       "       '2011', '2012', '2013', '2014', '2015', '2016', '2017', '2018',\n",
       "       '2019'], dtype=object)"
      ]
     },
     "execution_count": 9,
     "metadata": {},
     "output_type": "execute_result"
    }
   ],
   "source": [
    "NASA_M6['year'].unique()"
   ]
  },
  {
   "cell_type": "code",
   "execution_count": 10,
   "metadata": {},
   "outputs": [
    {
     "data": {
      "text/plain": [
       "(2159468, 16)"
      ]
     },
     "execution_count": 10,
     "metadata": {},
     "output_type": "execute_result"
    }
   ],
   "source": [
    "NASA_M6.shape"
   ]
  },
  {
   "cell_type": "code",
   "execution_count": 11,
   "metadata": {},
   "outputs": [
    {
     "data": {
      "text/html": [
       "<div>\n",
       "<style scoped>\n",
       "    .dataframe tbody tr th:only-of-type {\n",
       "        vertical-align: middle;\n",
       "    }\n",
       "\n",
       "    .dataframe tbody tr th {\n",
       "        vertical-align: top;\n",
       "    }\n",
       "\n",
       "    .dataframe thead th {\n",
       "        text-align: right;\n",
       "    }\n",
       "</style>\n",
       "<table border=\"1\" class=\"dataframe\">\n",
       "  <thead>\n",
       "    <tr style=\"text-align: right;\">\n",
       "      <th></th>\n",
       "      <th>latitude</th>\n",
       "      <th>longitude</th>\n",
       "      <th>brightness</th>\n",
       "      <th>scan</th>\n",
       "      <th>track</th>\n",
       "      <th>acq_date</th>\n",
       "      <th>acq_time</th>\n",
       "      <th>satellite</th>\n",
       "      <th>instrument</th>\n",
       "      <th>confidence</th>\n",
       "      <th>version</th>\n",
       "      <th>bright_t31</th>\n",
       "      <th>frp</th>\n",
       "      <th>daynight</th>\n",
       "      <th>type</th>\n",
       "      <th>year</th>\n",
       "    </tr>\n",
       "  </thead>\n",
       "  <tbody>\n",
       "    <tr>\n",
       "      <th>0</th>\n",
       "      <td>38.8142</td>\n",
       "      <td>-93.5539</td>\n",
       "      <td>300.8</td>\n",
       "      <td>1.0</td>\n",
       "      <td>1.0</td>\n",
       "      <td>2003-01-01</td>\n",
       "      <td>423</td>\n",
       "      <td>Terra</td>\n",
       "      <td>MODIS</td>\n",
       "      <td>33</td>\n",
       "      <td>6.2</td>\n",
       "      <td>267.0</td>\n",
       "      <td>10.4</td>\n",
       "      <td>N</td>\n",
       "      <td>0</td>\n",
       "      <td>2003</td>\n",
       "    </tr>\n",
       "    <tr>\n",
       "      <th>1</th>\n",
       "      <td>19.3739</td>\n",
       "      <td>-155.1130</td>\n",
       "      <td>318.8</td>\n",
       "      <td>3.1</td>\n",
       "      <td>1.7</td>\n",
       "      <td>2003-01-01</td>\n",
       "      <td>914</td>\n",
       "      <td>Terra</td>\n",
       "      <td>MODIS</td>\n",
       "      <td>97</td>\n",
       "      <td>6.2</td>\n",
       "      <td>288.7</td>\n",
       "      <td>98.4</td>\n",
       "      <td>N</td>\n",
       "      <td>2</td>\n",
       "      <td>2003</td>\n",
       "    </tr>\n",
       "    <tr>\n",
       "      <th>2</th>\n",
       "      <td>19.3723</td>\n",
       "      <td>-155.1197</td>\n",
       "      <td>316.0</td>\n",
       "      <td>3.1</td>\n",
       "      <td>1.7</td>\n",
       "      <td>2003-01-01</td>\n",
       "      <td>914</td>\n",
       "      <td>Terra</td>\n",
       "      <td>MODIS</td>\n",
       "      <td>90</td>\n",
       "      <td>6.2</td>\n",
       "      <td>288.3</td>\n",
       "      <td>85.0</td>\n",
       "      <td>N</td>\n",
       "      <td>2</td>\n",
       "      <td>2003</td>\n",
       "    </tr>\n",
       "    <tr>\n",
       "      <th>3</th>\n",
       "      <td>19.3589</td>\n",
       "      <td>-155.1107</td>\n",
       "      <td>325.2</td>\n",
       "      <td>3.1</td>\n",
       "      <td>1.7</td>\n",
       "      <td>2003-01-01</td>\n",
       "      <td>914</td>\n",
       "      <td>Terra</td>\n",
       "      <td>MODIS</td>\n",
       "      <td>100</td>\n",
       "      <td>6.2</td>\n",
       "      <td>292.0</td>\n",
       "      <td>131.8</td>\n",
       "      <td>N</td>\n",
       "      <td>2</td>\n",
       "      <td>2003</td>\n",
       "    </tr>\n",
       "    <tr>\n",
       "      <th>4</th>\n",
       "      <td>19.3573</td>\n",
       "      <td>-155.1174</td>\n",
       "      <td>319.0</td>\n",
       "      <td>3.1</td>\n",
       "      <td>1.7</td>\n",
       "      <td>2003-01-01</td>\n",
       "      <td>914</td>\n",
       "      <td>Terra</td>\n",
       "      <td>MODIS</td>\n",
       "      <td>97</td>\n",
       "      <td>6.2</td>\n",
       "      <td>290.3</td>\n",
       "      <td>97.3</td>\n",
       "      <td>N</td>\n",
       "      <td>2</td>\n",
       "      <td>2003</td>\n",
       "    </tr>\n",
       "  </tbody>\n",
       "</table>\n",
       "</div>"
      ],
      "text/plain": [
       "   latitude  longitude  brightness  scan  track    acq_date  acq_time  \\\n",
       "0   38.8142   -93.5539       300.8   1.0    1.0  2003-01-01       423   \n",
       "1   19.3739  -155.1130       318.8   3.1    1.7  2003-01-01       914   \n",
       "2   19.3723  -155.1197       316.0   3.1    1.7  2003-01-01       914   \n",
       "3   19.3589  -155.1107       325.2   3.1    1.7  2003-01-01       914   \n",
       "4   19.3573  -155.1174       319.0   3.1    1.7  2003-01-01       914   \n",
       "\n",
       "  satellite instrument  confidence  version  bright_t31    frp daynight  type  \\\n",
       "0     Terra      MODIS          33      6.2       267.0   10.4        N     0   \n",
       "1     Terra      MODIS          97      6.2       288.7   98.4        N     2   \n",
       "2     Terra      MODIS          90      6.2       288.3   85.0        N     2   \n",
       "3     Terra      MODIS         100      6.2       292.0  131.8        N     2   \n",
       "4     Terra      MODIS          97      6.2       290.3   97.3        N     2   \n",
       "\n",
       "   year  \n",
       "0  2003  \n",
       "1  2003  \n",
       "2  2003  \n",
       "3  2003  \n",
       "4  2003  "
      ]
     },
     "execution_count": 11,
     "metadata": {},
     "output_type": "execute_result"
    }
   ],
   "source": [
    "NASA_M6.head()"
   ]
  },
  {
   "cell_type": "code",
   "execution_count": 12,
   "metadata": {},
   "outputs": [
    {
     "data": {
      "text/plain": [
       "2159468"
      ]
     },
     "execution_count": 12,
     "metadata": {},
     "output_type": "execute_result"
    }
   ],
   "source": [
    "NASA_M6['frp'].count()"
   ]
  },
  {
   "cell_type": "code",
   "execution_count": 13,
   "metadata": {},
   "outputs": [
    {
     "name": "stdout",
     "output_type": "stream",
     "text": [
      "latitude      float64\n",
      "longitude     float64\n",
      "brightness    float64\n",
      "scan          float64\n",
      "track         float64\n",
      "acq_date       object\n",
      "acq_time        int64\n",
      "satellite      object\n",
      "instrument     object\n",
      "confidence      int64\n",
      "version       float64\n",
      "bright_t31    float64\n",
      "frp           float64\n",
      "daynight       object\n",
      "type            int64\n",
      "year           object\n",
      "dtype: object\n"
     ]
    }
   ],
   "source": [
    "x = NASA_M6.dtypes\n",
    "print(x)"
   ]
  },
  {
   "cell_type": "code",
   "execution_count": 14,
   "metadata": {},
   "outputs": [
    {
     "data": {
      "text/html": [
       "<div>\n",
       "<style scoped>\n",
       "    .dataframe tbody tr th:only-of-type {\n",
       "        vertical-align: middle;\n",
       "    }\n",
       "\n",
       "    .dataframe tbody tr th {\n",
       "        vertical-align: top;\n",
       "    }\n",
       "\n",
       "    .dataframe thead th {\n",
       "        text-align: right;\n",
       "    }\n",
       "</style>\n",
       "<table border=\"1\" class=\"dataframe\">\n",
       "  <thead>\n",
       "    <tr style=\"text-align: right;\">\n",
       "      <th></th>\n",
       "      <th>brightness</th>\n",
       "      <th>frp</th>\n",
       "    </tr>\n",
       "  </thead>\n",
       "  <tbody>\n",
       "    <tr>\n",
       "      <th>mean</th>\n",
       "      <td>3.253025e+02</td>\n",
       "      <td>6.540101e+01</td>\n",
       "    </tr>\n",
       "    <tr>\n",
       "      <th>min</th>\n",
       "      <td>3.000000e+02</td>\n",
       "      <td>-5.920000e+01</td>\n",
       "    </tr>\n",
       "    <tr>\n",
       "      <th>max</th>\n",
       "      <td>5.065000e+02</td>\n",
       "      <td>1.437650e+04</td>\n",
       "    </tr>\n",
       "    <tr>\n",
       "      <th>count</th>\n",
       "      <td>2.159468e+06</td>\n",
       "      <td>2.159468e+06</td>\n",
       "    </tr>\n",
       "  </tbody>\n",
       "</table>\n",
       "</div>"
      ],
      "text/plain": [
       "         brightness           frp\n",
       "mean   3.253025e+02  6.540101e+01\n",
       "min    3.000000e+02 -5.920000e+01\n",
       "max    5.065000e+02  1.437650e+04\n",
       "count  2.159468e+06  2.159468e+06"
      ]
     },
     "execution_count": 14,
     "metadata": {},
     "output_type": "execute_result"
    }
   ],
   "source": [
    "NASA_M6[['brightness', 'frp']].agg(['mean','min','max','count'])"
   ]
  },
  {
   "cell_type": "code",
   "execution_count": 15,
   "metadata": {},
   "outputs": [],
   "source": [
    "b1 = NASA_M6[(NASA_M6.brightness > 505)].sort_values(by='brightness')"
   ]
  },
  {
   "cell_type": "code",
   "execution_count": 16,
   "metadata": {},
   "outputs": [
    {
     "name": "stdout",
     "output_type": "stream",
     "text": [
      "         latitude  longitude  brightness  scan  track    acq_date  acq_time  \\\n",
      "1984419   19.4905  -154.8361       505.1   1.3    1.1  2018-07-14      1153   \n",
      "902655    65.9560  -146.8973       505.1   1.6    1.2  2009-07-21      2125   \n",
      "1822593   37.7244  -112.7551       505.1   1.0    1.0  2017-06-22      2041   \n",
      "1210295   33.3665  -108.5492       505.1   1.2    1.1  2012-05-23      2040   \n",
      "1370513   43.4694  -115.4580       505.1   1.5    1.2  2013-08-10      2108   \n",
      "1468939   42.0365  -122.2374       505.2   1.1    1.1  2014-08-02      2126   \n",
      "1974542   19.4879  -154.8892       505.2   1.0    1.0  2018-06-17      1211   \n",
      "1822592   37.7171  -112.7419       505.2   1.0    1.0  2017-06-22      2041   \n",
      "1734609   44.2707  -118.3207       505.2   1.0    1.0  2016-08-27      2101   \n",
      "1980891   19.4980  -154.8340       505.3   1.0    1.0  2018-07-04      2348   \n",
      "1103490   33.9607  -109.1333       505.3   1.1    1.1  2011-06-06      2040   \n",
      "1468948   42.0538  -122.2549       505.4   1.1    1.1  2014-08-02      2126   \n",
      "796357    41.8915  -115.3125       505.4   1.1    1.0  2008-08-25      2038   \n",
      "1468938   42.0381  -122.2238       505.6   1.1    1.1  2014-08-02      2126   \n",
      "902658    65.9583  -146.9409       505.6   1.6    1.2  2009-07-21      2125   \n",
      "1451125   60.3689  -151.0223       505.7   1.0    1.0  2014-05-20      2234   \n",
      "1224482   42.5009  -110.4651       505.7   1.1    1.0  2012-06-28      2018   \n",
      "1596671   43.2478  -116.9659       505.7   1.0    1.0  2015-08-11      2049   \n",
      "1224483   42.4988  -110.4776       505.7   1.1    1.0  2012-06-28      2018   \n",
      "1468942   42.0475  -122.2260       505.8   1.1    1.1  2014-08-02      2126   \n",
      "1468943   42.0459  -122.2395       505.8   1.1    1.1  2014-08-02      2126   \n",
      "1468947   42.0554  -122.2415       505.8   1.1    1.1  2014-08-02      2126   \n",
      "1822594   37.7260  -112.7440       505.8   1.0    1.0  2017-06-22      2041   \n",
      "2034948   41.0170  -106.6197       506.0   1.6    1.2  2018-09-22      2036   \n",
      "1984738   19.4836  -154.8392       506.1   1.3    1.1  2018-07-15      2330   \n",
      "1734605   44.2617  -118.3183       506.2   1.0    1.0  2016-08-27      2101   \n",
      "1622733   47.8645  -113.5227       506.3   1.2    1.1  2015-08-27      2050   \n",
      "1997973   19.4755  -154.9028       506.3   1.5    1.2  2018-08-02      1224   \n",
      "1565610   62.2427  -160.7681       506.4   1.0    1.0  2015-06-25      2317   \n",
      "2004365   39.9394  -111.3834       506.4   1.1    1.0  2018-08-07      2024   \n",
      "902652    65.9654  -146.9118       506.4   1.6    1.2  2009-07-21      2125   \n",
      "1622587   45.3421  -116.1222       506.5   1.0    1.0  2015-08-27      2050   \n",
      "1993892   19.4817  -154.8928       506.5   1.0    1.0  2018-07-29      2343   \n",
      "1565609   62.2400  -160.7867       506.5   1.0    1.0  2015-06-25      2317   \n",
      "\n",
      "        satellite instrument  confidence  version  bright_t31     frp  \\\n",
      "1984419      Aqua      MODIS         100      6.2       400.1  2508.4   \n",
      "902655       Aqua      MODIS         100      6.2       338.7  3289.7   \n",
      "1822593      Aqua      MODIS         100      6.2       400.1  1705.4   \n",
      "1210295      Aqua      MODIS         100      6.2       400.1  2233.0   \n",
      "1370513      Aqua      MODIS         100      6.2       400.1  2943.7   \n",
      "1468939      Aqua      MODIS         100      6.2       400.1  2050.4   \n",
      "1974542      Aqua      MODIS         100      6.2       400.1  1815.5   \n",
      "1822592      Aqua      MODIS         100      6.2       400.1  1712.8   \n",
      "1734609      Aqua      MODIS         100      6.2       400.1  1783.6   \n",
      "1980891      Aqua      MODIS          94      6.2       400.1  1826.4   \n",
      "1103490      Aqua      MODIS         100      6.2       400.1  2081.9   \n",
      "1468948      Aqua      MODIS         100      6.2       400.1  2054.2   \n",
      "796357       Aqua      MODIS          87      6.2       340.1  1972.3   \n",
      "1468938      Aqua      MODIS         100      6.2       400.1  2067.2   \n",
      "902658       Aqua      MODIS         100      6.2       400.1  3323.5   \n",
      "1451125      Aqua      MODIS         100      6.2       400.1  1794.9   \n",
      "1224482      Aqua      MODIS         100      6.2       325.0  1910.2   \n",
      "1596671      Aqua      MODIS         100      6.2       400.1  1731.2   \n",
      "1224483      Aqua      MODIS         100      6.2       335.8  1911.6   \n",
      "1468942      Aqua      MODIS          94      6.2       400.1  2073.0   \n",
      "1468943      Aqua      MODIS         100      6.2       400.1  2069.0   \n",
      "1468947      Aqua      MODIS          94      6.2       400.1  2068.6   \n",
      "1822594      Aqua      MODIS         100      6.2       400.1  1723.2   \n",
      "2034948      Aqua      MODIS         100      6.2       400.1  3337.7   \n",
      "1984738      Aqua      MODIS         100      6.2       400.1     0.0   \n",
      "1734605      Aqua      MODIS         100      6.2       400.1  1808.0   \n",
      "1622733      Aqua      MODIS         100      6.2       400.1  2412.5   \n",
      "1997973      Aqua      MODIS         100      6.2       400.1  3195.4   \n",
      "1565610      Aqua      MODIS         100      6.2       400.1  1756.6   \n",
      "2004365      Aqua      MODIS         100      6.2       400.1  1962.1   \n",
      "902652       Aqua      MODIS         100      6.2       400.1  3349.5   \n",
      "1622587      Aqua      MODIS         100      6.2       400.1  1776.4   \n",
      "1993892      Aqua      MODIS           0      6.2       326.0  1753.3   \n",
      "1565609      Aqua      MODIS         100      6.2       400.1  1758.1   \n",
      "\n",
      "        daynight  type  year  \n",
      "1984419        N     0  2018  \n",
      "902655         D     0  2009  \n",
      "1822593        D     0  2017  \n",
      "1210295        D     0  2012  \n",
      "1370513        D     0  2013  \n",
      "1468939        D     0  2014  \n",
      "1974542        N     0  2018  \n",
      "1822592        D     0  2017  \n",
      "1734609        D     0  2016  \n",
      "1980891        D     0  2018  \n",
      "1103490        D     0  2011  \n",
      "1468948        D     0  2014  \n",
      "796357         D     0  2008  \n",
      "1468938        D     0  2014  \n",
      "902658         D     0  2009  \n",
      "1451125        D     0  2014  \n",
      "1224482        D     0  2012  \n",
      "1596671        D     0  2015  \n",
      "1224483        D     0  2012  \n",
      "1468942        D     0  2014  \n",
      "1468943        D     0  2014  \n",
      "1468947        D     0  2014  \n",
      "1822594        D     0  2017  \n",
      "2034948        D     0  2018  \n",
      "1984738        D     0  2018  \n",
      "1734605        D     0  2016  \n",
      "1622733        D     0  2015  \n",
      "1997973        N     0  2018  \n",
      "1565610        D     0  2015  \n",
      "2004365        D     0  2018  \n",
      "902652         D     0  2009  \n",
      "1622587        D     0  2015  \n",
      "1993892        D     0  2018  \n",
      "1565609        D     0  2015  \n"
     ]
    }
   ],
   "source": [
    "print(b1)"
   ]
  },
  {
   "cell_type": "code",
   "execution_count": 23,
   "metadata": {},
   "outputs": [
    {
     "data": {
      "text/plain": [
       "Text(0, 0.5, '# of Fire Instances')"
      ]
     },
     "execution_count": 23,
     "metadata": {},
     "output_type": "execute_result"
    },
    {
     "data": {
      "image/png": "[encoded data removed]",
      "text/plain": [
       "<Figure size 432x288 with 1 Axes>"
      ]
     },
     "metadata": {
      "needs_background": "light"
     },
     "output_type": "display_data"
    }
   ],
   "source": [
    "# matplotlib histogram\n",
    "plt.hist(NASA_M6['brightness'], color = 'red', edgecolor = 'black',\n",
    "         bins = int(180/5))\n",
    "\n",
    "# seaborn histogram\n",
    "sns.distplot(NASA_M6['brightness'], hist=True, kde=False, \n",
    "             bins=int(180/5), color = 'red',\n",
    "             hist_kws={'edgecolor':'black'})\n",
    "# Add labels\n",
    "plt.title('Histogram of Brightness across M6 data 2003-2019')\n",
    "plt.xlabel('Brightness/Intensity')\n",
    "plt.ylabel('# of Fire Instances')"
   ]
  },
  {
   "cell_type": "code",
   "execution_count": 17,
   "metadata": {},
   "outputs": [
    {
     "data": {
      "text/plain": [
       "<matplotlib.axes._subplots.AxesSubplot at 0x1a2bd8dbe0>"
      ]
     },
     "execution_count": 17,
     "metadata": {},
     "output_type": "execute_result"
    },
    {
     "data": {
      "image/png": "[encoded data removed]",
      "text/plain": [
       "<Figure size 432x288 with 1 Axes>"
      ]
     },
     "metadata": {
      "needs_background": "light"
     },
     "output_type": "display_data"
    }
   ],
   "source": [
    "sns.distplot(NASA_M6['brightness'], hist = False, kde = True,\n",
    "                 kde_kws = {'shade': True, 'linewidth': 3}, \n",
    "                  label = 'brightness')"
   ]
  },
  {
   "cell_type": "code",
   "execution_count": 24,
   "metadata": {},
   "outputs": [
    {
     "data": {
      "text/plain": [
       "Text(0, 0.5, '# of Fire Instances')"
      ]
     },
     "execution_count": 24,
     "metadata": {},
     "output_type": "execute_result"
    },
    {
     "data": {
      "image/png": "[encoded data removed]",
      "text/plain": [
       "<Figure size 432x288 with 1 Axes>"
      ]
     },
     "metadata": {
      "needs_background": "light"
     },
     "output_type": "display_data"
    }
   ],
   "source": [
    "# matplotlib histogram\n",
    "plt.hist(NASA_M6['bright_t31'], color = 'blue', edgecolor = 'black',\n",
    "         bins = int(180/5))\n",
    "\n",
    "# seaborn histogram\n",
    "sns.distplot(NASA_M6['bright_t31'], hist=True, kde=False, \n",
    "             bins=int(180/5), color = 'orange',\n",
    "             hist_kws={'edgecolor':'black'})\n",
    "# Add labels\n",
    "plt.title('Histogram of Bright_T31 across M6 data 2003-2019')\n",
    "plt.xlabel('Brightness/Intensity')\n",
    "plt.ylabel('# of Fire Instances')"
   ]
  },
  {
   "cell_type": "code",
   "execution_count": 22,
   "metadata": {},
   "outputs": [
    {
     "data": {
      "text/plain": [
       "<matplotlib.axes._subplots.AxesSubplot at 0x1a2d140278>"
      ]
     },
     "execution_count": 22,
     "metadata": {},
     "output_type": "execute_result"
    },
    {
     "data": {
      "image/png": "[encoded data removed]",
      "text/plain": [
       "<Figure size 432x288 with 1 Axes>"
      ]
     },
     "metadata": {
      "needs_background": "light"
     },
     "output_type": "display_data"
    }
   ],
   "source": [
    "sns.distplot(NASA_M6['frp'], hist = False, kde = True,\n",
    "                 kde_kws = {'shade': True, 'linewidth': 3, 'color': 'Y'}, \n",
    "                  label = 'brightness')"
   ]
  },
  {
   "cell_type": "code",
   "execution_count": 57,
   "metadata": {},
   "outputs": [],
   "source": [
    "### & (NASA_M6.latitude > 40) & (NASA_M6.latitude < 50) & (NASA_M6.longitude < -119) & (NASA_M6.longitude > -126)]  \n",
    "NM2005 = NASA_M6[(NASA_M6.year > '2004') & (NASA_M6.year < '2006') & (NASA_M6.latitude > 45.7) & (NASA_M6.latitude < 45.99) & (NASA_M6.longitude < -120.18) & (NASA_M6.longitude > -120.8)] "
   ]
  },
  {
   "cell_type": "code",
   "execution_count": 58,
   "metadata": {},
   "outputs": [
    {
     "data": {
      "text/html": [
       "<div>\n",
       "<style scoped>\n",
       "    .dataframe tbody tr th:only-of-type {\n",
       "        vertical-align: middle;\n",
       "    }\n",
       "\n",
       "    .dataframe tbody tr th {\n",
       "        vertical-align: top;\n",
       "    }\n",
       "\n",
       "    .dataframe thead th {\n",
       "        text-align: right;\n",
       "    }\n",
       "</style>\n",
       "<table border=\"1\" class=\"dataframe\">\n",
       "  <thead>\n",
       "    <tr style=\"text-align: right;\">\n",
       "      <th></th>\n",
       "      <th>latitude</th>\n",
       "      <th>longitude</th>\n",
       "      <th>brightness</th>\n",
       "      <th>scan</th>\n",
       "      <th>track</th>\n",
       "      <th>acq_date</th>\n",
       "      <th>acq_time</th>\n",
       "      <th>satellite</th>\n",
       "      <th>instrument</th>\n",
       "      <th>confidence</th>\n",
       "      <th>version</th>\n",
       "      <th>bright_t31</th>\n",
       "      <th>frp</th>\n",
       "      <th>daynight</th>\n",
       "      <th>type</th>\n",
       "      <th>year</th>\n",
       "    </tr>\n",
       "  </thead>\n",
       "  <tbody>\n",
       "    <tr>\n",
       "      <th>343878</th>\n",
       "      <td>45.8023</td>\n",
       "      <td>-120.2710</td>\n",
       "      <td>336.1</td>\n",
       "      <td>1.3</td>\n",
       "      <td>1.1</td>\n",
       "      <td>2005-07-23</td>\n",
       "      <td>2040</td>\n",
       "      <td>Aqua</td>\n",
       "      <td>MODIS</td>\n",
       "      <td>83</td>\n",
       "      <td>6.2</td>\n",
       "      <td>318.8</td>\n",
       "      <td>17.3</td>\n",
       "      <td>D</td>\n",
       "      <td>0</td>\n",
       "      <td>2005</td>\n",
       "    </tr>\n",
       "    <tr>\n",
       "      <th>344092</th>\n",
       "      <td>45.8270</td>\n",
       "      <td>-120.2290</td>\n",
       "      <td>314.7</td>\n",
       "      <td>1.1</td>\n",
       "      <td>1.1</td>\n",
       "      <td>2005-07-24</td>\n",
       "      <td>608</td>\n",
       "      <td>Terra</td>\n",
       "      <td>MODIS</td>\n",
       "      <td>90</td>\n",
       "      <td>6.2</td>\n",
       "      <td>292.8</td>\n",
       "      <td>15.2</td>\n",
       "      <td>N</td>\n",
       "      <td>0</td>\n",
       "      <td>2005</td>\n",
       "    </tr>\n",
       "    <tr>\n",
       "      <th>344093</th>\n",
       "      <td>45.8176</td>\n",
       "      <td>-120.2265</td>\n",
       "      <td>307.7</td>\n",
       "      <td>1.1</td>\n",
       "      <td>1.1</td>\n",
       "      <td>2005-07-24</td>\n",
       "      <td>608</td>\n",
       "      <td>Terra</td>\n",
       "      <td>MODIS</td>\n",
       "      <td>68</td>\n",
       "      <td>6.2</td>\n",
       "      <td>293.2</td>\n",
       "      <td>9.1</td>\n",
       "      <td>N</td>\n",
       "      <td>0</td>\n",
       "      <td>2005</td>\n",
       "    </tr>\n",
       "    <tr>\n",
       "      <th>344094</th>\n",
       "      <td>45.8082</td>\n",
       "      <td>-120.2242</td>\n",
       "      <td>318.2</td>\n",
       "      <td>1.1</td>\n",
       "      <td>1.1</td>\n",
       "      <td>2005-07-24</td>\n",
       "      <td>608</td>\n",
       "      <td>Terra</td>\n",
       "      <td>MODIS</td>\n",
       "      <td>96</td>\n",
       "      <td>6.2</td>\n",
       "      <td>293.9</td>\n",
       "      <td>18.6</td>\n",
       "      <td>N</td>\n",
       "      <td>0</td>\n",
       "      <td>2005</td>\n",
       "    </tr>\n",
       "    <tr>\n",
       "      <th>344194</th>\n",
       "      <td>45.8062</td>\n",
       "      <td>-120.2258</td>\n",
       "      <td>300.2</td>\n",
       "      <td>1.1</td>\n",
       "      <td>1.0</td>\n",
       "      <td>2005-07-24</td>\n",
       "      <td>1015</td>\n",
       "      <td>Aqua</td>\n",
       "      <td>MODIS</td>\n",
       "      <td>21</td>\n",
       "      <td>6.2</td>\n",
       "      <td>287.7</td>\n",
       "      <td>5.6</td>\n",
       "      <td>N</td>\n",
       "      <td>0</td>\n",
       "      <td>2005</td>\n",
       "    </tr>\n",
       "  </tbody>\n",
       "</table>\n",
       "</div>"
      ],
      "text/plain": [
       "        latitude  longitude  brightness  scan  track    acq_date  acq_time  \\\n",
       "343878   45.8023  -120.2710       336.1   1.3    1.1  2005-07-23      2040   \n",
       "344092   45.8270  -120.2290       314.7   1.1    1.1  2005-07-24       608   \n",
       "344093   45.8176  -120.2265       307.7   1.1    1.1  2005-07-24       608   \n",
       "344094   45.8082  -120.2242       318.2   1.1    1.1  2005-07-24       608   \n",
       "344194   45.8062  -120.2258       300.2   1.1    1.0  2005-07-24      1015   \n",
       "\n",
       "       satellite instrument  confidence  version  bright_t31   frp daynight  \\\n",
       "343878      Aqua      MODIS          83      6.2       318.8  17.3        D   \n",
       "344092     Terra      MODIS          90      6.2       292.8  15.2        N   \n",
       "344093     Terra      MODIS          68      6.2       293.2   9.1        N   \n",
       "344094     Terra      MODIS          96      6.2       293.9  18.6        N   \n",
       "344194      Aqua      MODIS          21      6.2       287.7   5.6        N   \n",
       "\n",
       "        type  year  \n",
       "343878     0  2005  \n",
       "344092     0  2005  \n",
       "344093     0  2005  \n",
       "344094     0  2005  \n",
       "344194     0  2005  "
      ]
     },
     "execution_count": 58,
     "metadata": {},
     "output_type": "execute_result"
    }
   ],
   "source": [
    "NM2005.head()"
   ]
  },
  {
   "cell_type": "code",
   "execution_count": 59,
   "metadata": {},
   "outputs": [
    {
     "data": {
      "text/html": [
       "<div>\n",
       "<style scoped>\n",
       "    .dataframe tbody tr th:only-of-type {\n",
       "        vertical-align: middle;\n",
       "    }\n",
       "\n",
       "    .dataframe tbody tr th {\n",
       "        vertical-align: top;\n",
       "    }\n",
       "\n",
       "    .dataframe thead th {\n",
       "        text-align: right;\n",
       "    }\n",
       "</style>\n",
       "<table border=\"1\" class=\"dataframe\">\n",
       "  <thead>\n",
       "    <tr style=\"text-align: right;\">\n",
       "      <th></th>\n",
       "      <th>brightness</th>\n",
       "      <th>frp</th>\n",
       "    </tr>\n",
       "  </thead>\n",
       "  <tbody>\n",
       "    <tr>\n",
       "      <th>mean</th>\n",
       "      <td>328.964286</td>\n",
       "      <td>36.3</td>\n",
       "    </tr>\n",
       "    <tr>\n",
       "      <th>min</th>\n",
       "      <td>300.200000</td>\n",
       "      <td>5.6</td>\n",
       "    </tr>\n",
       "    <tr>\n",
       "      <th>max</th>\n",
       "      <td>383.900000</td>\n",
       "      <td>274.9</td>\n",
       "    </tr>\n",
       "    <tr>\n",
       "      <th>count</th>\n",
       "      <td>14.000000</td>\n",
       "      <td>14.0</td>\n",
       "    </tr>\n",
       "  </tbody>\n",
       "</table>\n",
       "</div>"
      ],
      "text/plain": [
       "       brightness    frp\n",
       "mean   328.964286   36.3\n",
       "min    300.200000    5.6\n",
       "max    383.900000  274.9\n",
       "count   14.000000   14.0"
      ]
     },
     "execution_count": 59,
     "metadata": {},
     "output_type": "execute_result"
    }
   ],
   "source": [
    "NM2005[['brightness', 'frp']].agg(['mean','min','max','count'])"
   ]
  },
  {
   "cell_type": "code",
   "execution_count": 60,
   "metadata": {},
   "outputs": [],
   "source": [
    "M6large2005 = NASA_M6[(NASA_M6.year == '2005') & (NASA_M6.longitude < -148) & (NASA_M6.latitude > 66.1)]"
   ]
  },
  {
   "cell_type": "code",
   "execution_count": 61,
   "metadata": {},
   "outputs": [
    {
     "data": {
      "text/plain": [
       "(9366, 16)"
      ]
     },
     "execution_count": 61,
     "metadata": {},
     "output_type": "execute_result"
    }
   ],
   "source": [
    "M6large2005.shape"
   ]
  },
  {
   "cell_type": "code",
   "execution_count": 71,
   "metadata": {},
   "outputs": [],
   "source": [
    "M6large2005.to_csv('/Users/AlfHaugen/Python/Wildfire_Data/m62005large.csv', encoding='utf-8')"
   ]
  },
  {
   "cell_type": "code",
   "execution_count": 62,
   "metadata": {},
   "outputs": [
    {
     "data": {
      "text/html": [
       "<div>\n",
       "<style scoped>\n",
       "    .dataframe tbody tr th:only-of-type {\n",
       "        vertical-align: middle;\n",
       "    }\n",
       "\n",
       "    .dataframe tbody tr th {\n",
       "        vertical-align: top;\n",
       "    }\n",
       "\n",
       "    .dataframe thead th {\n",
       "        text-align: right;\n",
       "    }\n",
       "</style>\n",
       "<table border=\"1\" class=\"dataframe\">\n",
       "  <thead>\n",
       "    <tr style=\"text-align: right;\">\n",
       "      <th></th>\n",
       "      <th>latitude</th>\n",
       "      <th>longitude</th>\n",
       "      <th>acq_date</th>\n",
       "    </tr>\n",
       "  </thead>\n",
       "  <tbody>\n",
       "    <tr>\n",
       "      <th>318850</th>\n",
       "      <td>67.0757</td>\n",
       "      <td>-150.4181</td>\n",
       "      <td>2005-06-15</td>\n",
       "    </tr>\n",
       "    <tr>\n",
       "      <th>318904</th>\n",
       "      <td>67.9037</td>\n",
       "      <td>-158.1996</td>\n",
       "      <td>2005-06-16</td>\n",
       "    </tr>\n",
       "    <tr>\n",
       "      <th>318905</th>\n",
       "      <td>67.9108</td>\n",
       "      <td>-158.1705</td>\n",
       "      <td>2005-06-16</td>\n",
       "    </tr>\n",
       "    <tr>\n",
       "      <th>318927</th>\n",
       "      <td>68.1171</td>\n",
       "      <td>-159.4746</td>\n",
       "      <td>2005-06-16</td>\n",
       "    </tr>\n",
       "    <tr>\n",
       "      <th>319165</th>\n",
       "      <td>67.9151</td>\n",
       "      <td>-158.1490</td>\n",
       "      <td>2005-06-16</td>\n",
       "    </tr>\n",
       "    <tr>\n",
       "      <th>319166</th>\n",
       "      <td>66.3454</td>\n",
       "      <td>-155.9969</td>\n",
       "      <td>2005-06-16</td>\n",
       "    </tr>\n",
       "    <tr>\n",
       "      <th>319167</th>\n",
       "      <td>67.9144</td>\n",
       "      <td>-158.1324</td>\n",
       "      <td>2005-06-16</td>\n",
       "    </tr>\n",
       "    <tr>\n",
       "      <th>319168</th>\n",
       "      <td>66.3433</td>\n",
       "      <td>-156.0025</td>\n",
       "      <td>2005-06-16</td>\n",
       "    </tr>\n",
       "    <tr>\n",
       "      <th>319169</th>\n",
       "      <td>67.9208</td>\n",
       "      <td>-158.1341</td>\n",
       "      <td>2005-06-16</td>\n",
       "    </tr>\n",
       "    <tr>\n",
       "      <th>319170</th>\n",
       "      <td>67.8905</td>\n",
       "      <td>-160.3148</td>\n",
       "      <td>2005-06-16</td>\n",
       "    </tr>\n",
       "    <tr>\n",
       "      <th>319171</th>\n",
       "      <td>67.9334</td>\n",
       "      <td>-161.1259</td>\n",
       "      <td>2005-06-16</td>\n",
       "    </tr>\n",
       "    <tr>\n",
       "      <th>319172</th>\n",
       "      <td>66.3518</td>\n",
       "      <td>-155.9755</td>\n",
       "      <td>2005-06-16</td>\n",
       "    </tr>\n",
       "    <tr>\n",
       "      <th>319173</th>\n",
       "      <td>67.9306</td>\n",
       "      <td>-161.0930</td>\n",
       "      <td>2005-06-16</td>\n",
       "    </tr>\n",
       "    <tr>\n",
       "      <th>319174</th>\n",
       "      <td>66.3457</td>\n",
       "      <td>-156.0051</td>\n",
       "      <td>2005-06-16</td>\n",
       "    </tr>\n",
       "    <tr>\n",
       "      <th>319175</th>\n",
       "      <td>66.3547</td>\n",
       "      <td>-155.9984</td>\n",
       "      <td>2005-06-16</td>\n",
       "    </tr>\n",
       "    <tr>\n",
       "      <th>319177</th>\n",
       "      <td>67.9262</td>\n",
       "      <td>-161.1239</td>\n",
       "      <td>2005-06-16</td>\n",
       "    </tr>\n",
       "    <tr>\n",
       "      <th>319179</th>\n",
       "      <td>67.9111</td>\n",
       "      <td>-158.1410</td>\n",
       "      <td>2005-06-16</td>\n",
       "    </tr>\n",
       "    <tr>\n",
       "      <th>319180</th>\n",
       "      <td>68.1341</td>\n",
       "      <td>-159.4726</td>\n",
       "      <td>2005-06-16</td>\n",
       "    </tr>\n",
       "    <tr>\n",
       "      <th>319181</th>\n",
       "      <td>68.1312</td>\n",
       "      <td>-159.4413</td>\n",
       "      <td>2005-06-16</td>\n",
       "    </tr>\n",
       "    <tr>\n",
       "      <th>319182</th>\n",
       "      <td>68.1212</td>\n",
       "      <td>-159.4485</td>\n",
       "      <td>2005-06-16</td>\n",
       "    </tr>\n",
       "    <tr>\n",
       "      <th>319183</th>\n",
       "      <td>68.1241</td>\n",
       "      <td>-159.4796</td>\n",
       "      <td>2005-06-16</td>\n",
       "    </tr>\n",
       "    <tr>\n",
       "      <th>319187</th>\n",
       "      <td>67.0777</td>\n",
       "      <td>-150.3704</td>\n",
       "      <td>2005-06-16</td>\n",
       "    </tr>\n",
       "    <tr>\n",
       "      <th>319212</th>\n",
       "      <td>66.3525</td>\n",
       "      <td>-155.9891</td>\n",
       "      <td>2005-06-16</td>\n",
       "    </tr>\n",
       "    <tr>\n",
       "      <th>319213</th>\n",
       "      <td>67.9137</td>\n",
       "      <td>-158.1808</td>\n",
       "      <td>2005-06-16</td>\n",
       "    </tr>\n",
       "    <tr>\n",
       "      <th>319217</th>\n",
       "      <td>67.8863</td>\n",
       "      <td>-160.3264</td>\n",
       "      <td>2005-06-16</td>\n",
       "    </tr>\n",
       "    <tr>\n",
       "      <th>319218</th>\n",
       "      <td>67.9105</td>\n",
       "      <td>-158.1423</td>\n",
       "      <td>2005-06-16</td>\n",
       "    </tr>\n",
       "    <tr>\n",
       "      <th>319219</th>\n",
       "      <td>67.9270</td>\n",
       "      <td>-161.1297</td>\n",
       "      <td>2005-06-16</td>\n",
       "    </tr>\n",
       "    <tr>\n",
       "      <th>319220</th>\n",
       "      <td>66.3473</td>\n",
       "      <td>-156.0137</td>\n",
       "      <td>2005-06-16</td>\n",
       "    </tr>\n",
       "    <tr>\n",
       "      <th>319221</th>\n",
       "      <td>67.9240</td>\n",
       "      <td>-161.1208</td>\n",
       "      <td>2005-06-16</td>\n",
       "    </tr>\n",
       "    <tr>\n",
       "      <th>319222</th>\n",
       "      <td>67.9193</td>\n",
       "      <td>-158.1553</td>\n",
       "      <td>2005-06-16</td>\n",
       "    </tr>\n",
       "    <tr>\n",
       "      <th>...</th>\n",
       "      <td>...</td>\n",
       "      <td>...</td>\n",
       "      <td>...</td>\n",
       "    </tr>\n",
       "    <tr>\n",
       "      <th>319249</th>\n",
       "      <td>67.9217</td>\n",
       "      <td>-158.1946</td>\n",
       "      <td>2005-06-16</td>\n",
       "    </tr>\n",
       "    <tr>\n",
       "      <th>319250</th>\n",
       "      <td>67.9111</td>\n",
       "      <td>-158.1580</td>\n",
       "      <td>2005-06-16</td>\n",
       "    </tr>\n",
       "    <tr>\n",
       "      <th>319260</th>\n",
       "      <td>67.1199</td>\n",
       "      <td>-150.2631</td>\n",
       "      <td>2005-06-16</td>\n",
       "    </tr>\n",
       "    <tr>\n",
       "      <th>319261</th>\n",
       "      <td>67.1275</td>\n",
       "      <td>-150.2655</td>\n",
       "      <td>2005-06-16</td>\n",
       "    </tr>\n",
       "    <tr>\n",
       "      <th>319262</th>\n",
       "      <td>66.4104</td>\n",
       "      <td>-156.8304</td>\n",
       "      <td>2005-06-16</td>\n",
       "    </tr>\n",
       "    <tr>\n",
       "      <th>319263</th>\n",
       "      <td>67.9024</td>\n",
       "      <td>-158.1340</td>\n",
       "      <td>2005-06-16</td>\n",
       "    </tr>\n",
       "    <tr>\n",
       "      <th>319264</th>\n",
       "      <td>66.3424</td>\n",
       "      <td>-156.0014</td>\n",
       "      <td>2005-06-16</td>\n",
       "    </tr>\n",
       "    <tr>\n",
       "      <th>319266</th>\n",
       "      <td>67.0139</td>\n",
       "      <td>-155.3529</td>\n",
       "      <td>2005-06-16</td>\n",
       "    </tr>\n",
       "    <tr>\n",
       "      <th>319267</th>\n",
       "      <td>67.8851</td>\n",
       "      <td>-160.3235</td>\n",
       "      <td>2005-06-16</td>\n",
       "    </tr>\n",
       "    <tr>\n",
       "      <th>319268</th>\n",
       "      <td>67.9246</td>\n",
       "      <td>-161.1409</td>\n",
       "      <td>2005-06-16</td>\n",
       "    </tr>\n",
       "    <tr>\n",
       "      <th>319269</th>\n",
       "      <td>67.0076</td>\n",
       "      <td>-155.3470</td>\n",
       "      <td>2005-06-16</td>\n",
       "    </tr>\n",
       "    <tr>\n",
       "      <th>319270</th>\n",
       "      <td>66.4105</td>\n",
       "      <td>-156.7839</td>\n",
       "      <td>2005-06-16</td>\n",
       "    </tr>\n",
       "    <tr>\n",
       "      <th>319271</th>\n",
       "      <td>67.9124</td>\n",
       "      <td>-158.1885</td>\n",
       "      <td>2005-06-16</td>\n",
       "    </tr>\n",
       "    <tr>\n",
       "      <th>319272</th>\n",
       "      <td>66.3976</td>\n",
       "      <td>-156.8282</td>\n",
       "      <td>2005-06-16</td>\n",
       "    </tr>\n",
       "    <tr>\n",
       "      <th>319273</th>\n",
       "      <td>66.4084</td>\n",
       "      <td>-156.8342</td>\n",
       "      <td>2005-06-16</td>\n",
       "    </tr>\n",
       "    <tr>\n",
       "      <th>319274</th>\n",
       "      <td>67.9148</td>\n",
       "      <td>-158.1389</td>\n",
       "      <td>2005-06-16</td>\n",
       "    </tr>\n",
       "    <tr>\n",
       "      <th>319275</th>\n",
       "      <td>68.1186</td>\n",
       "      <td>-159.4156</td>\n",
       "      <td>2005-06-16</td>\n",
       "    </tr>\n",
       "    <tr>\n",
       "      <th>319276</th>\n",
       "      <td>68.1281</td>\n",
       "      <td>-159.4654</td>\n",
       "      <td>2005-06-16</td>\n",
       "    </tr>\n",
       "    <tr>\n",
       "      <th>319277</th>\n",
       "      <td>68.1256</td>\n",
       "      <td>-159.5097</td>\n",
       "      <td>2005-06-16</td>\n",
       "    </tr>\n",
       "    <tr>\n",
       "      <th>319278</th>\n",
       "      <td>68.1161</td>\n",
       "      <td>-159.4601</td>\n",
       "      <td>2005-06-16</td>\n",
       "    </tr>\n",
       "    <tr>\n",
       "      <th>319298</th>\n",
       "      <td>66.3451</td>\n",
       "      <td>-155.9838</td>\n",
       "      <td>2005-06-17</td>\n",
       "    </tr>\n",
       "    <tr>\n",
       "      <th>319299</th>\n",
       "      <td>66.3478</td>\n",
       "      <td>-155.9869</td>\n",
       "      <td>2005-06-17</td>\n",
       "    </tr>\n",
       "    <tr>\n",
       "      <th>319301</th>\n",
       "      <td>66.3372</td>\n",
       "      <td>-155.9589</td>\n",
       "      <td>2005-06-17</td>\n",
       "    </tr>\n",
       "    <tr>\n",
       "      <th>319303</th>\n",
       "      <td>66.3931</td>\n",
       "      <td>-156.8378</td>\n",
       "      <td>2005-06-17</td>\n",
       "    </tr>\n",
       "    <tr>\n",
       "      <th>319305</th>\n",
       "      <td>66.3820</td>\n",
       "      <td>-156.8101</td>\n",
       "      <td>2005-06-17</td>\n",
       "    </tr>\n",
       "    <tr>\n",
       "      <th>319306</th>\n",
       "      <td>68.1056</td>\n",
       "      <td>-159.4141</td>\n",
       "      <td>2005-06-17</td>\n",
       "    </tr>\n",
       "    <tr>\n",
       "      <th>319307</th>\n",
       "      <td>66.5405</td>\n",
       "      <td>-155.7532</td>\n",
       "      <td>2005-06-17</td>\n",
       "    </tr>\n",
       "    <tr>\n",
       "      <th>319308</th>\n",
       "      <td>66.5495</td>\n",
       "      <td>-155.7807</td>\n",
       "      <td>2005-06-17</td>\n",
       "    </tr>\n",
       "    <tr>\n",
       "      <th>319311</th>\n",
       "      <td>66.2931</td>\n",
       "      <td>-154.9110</td>\n",
       "      <td>2005-06-17</td>\n",
       "    </tr>\n",
       "    <tr>\n",
       "      <th>319313</th>\n",
       "      <td>66.5381</td>\n",
       "      <td>-155.7214</td>\n",
       "      <td>2005-06-17</td>\n",
       "    </tr>\n",
       "  </tbody>\n",
       "</table>\n",
       "<p>84 rows × 3 columns</p>\n",
       "</div>"
      ],
      "text/plain": [
       "        latitude  longitude    acq_date\n",
       "318850   67.0757  -150.4181  2005-06-15\n",
       "318904   67.9037  -158.1996  2005-06-16\n",
       "318905   67.9108  -158.1705  2005-06-16\n",
       "318927   68.1171  -159.4746  2005-06-16\n",
       "319165   67.9151  -158.1490  2005-06-16\n",
       "319166   66.3454  -155.9969  2005-06-16\n",
       "319167   67.9144  -158.1324  2005-06-16\n",
       "319168   66.3433  -156.0025  2005-06-16\n",
       "319169   67.9208  -158.1341  2005-06-16\n",
       "319170   67.8905  -160.3148  2005-06-16\n",
       "319171   67.9334  -161.1259  2005-06-16\n",
       "319172   66.3518  -155.9755  2005-06-16\n",
       "319173   67.9306  -161.0930  2005-06-16\n",
       "319174   66.3457  -156.0051  2005-06-16\n",
       "319175   66.3547  -155.9984  2005-06-16\n",
       "319177   67.9262  -161.1239  2005-06-16\n",
       "319179   67.9111  -158.1410  2005-06-16\n",
       "319180   68.1341  -159.4726  2005-06-16\n",
       "319181   68.1312  -159.4413  2005-06-16\n",
       "319182   68.1212  -159.4485  2005-06-16\n",
       "319183   68.1241  -159.4796  2005-06-16\n",
       "319187   67.0777  -150.3704  2005-06-16\n",
       "319212   66.3525  -155.9891  2005-06-16\n",
       "319213   67.9137  -158.1808  2005-06-16\n",
       "319217   67.8863  -160.3264  2005-06-16\n",
       "319218   67.9105  -158.1423  2005-06-16\n",
       "319219   67.9270  -161.1297  2005-06-16\n",
       "319220   66.3473  -156.0137  2005-06-16\n",
       "319221   67.9240  -161.1208  2005-06-16\n",
       "319222   67.9193  -158.1553  2005-06-16\n",
       "...          ...        ...         ...\n",
       "319249   67.9217  -158.1946  2005-06-16\n",
       "319250   67.9111  -158.1580  2005-06-16\n",
       "319260   67.1199  -150.2631  2005-06-16\n",
       "319261   67.1275  -150.2655  2005-06-16\n",
       "319262   66.4104  -156.8304  2005-06-16\n",
       "319263   67.9024  -158.1340  2005-06-16\n",
       "319264   66.3424  -156.0014  2005-06-16\n",
       "319266   67.0139  -155.3529  2005-06-16\n",
       "319267   67.8851  -160.3235  2005-06-16\n",
       "319268   67.9246  -161.1409  2005-06-16\n",
       "319269   67.0076  -155.3470  2005-06-16\n",
       "319270   66.4105  -156.7839  2005-06-16\n",
       "319271   67.9124  -158.1885  2005-06-16\n",
       "319272   66.3976  -156.8282  2005-06-16\n",
       "319273   66.4084  -156.8342  2005-06-16\n",
       "319274   67.9148  -158.1389  2005-06-16\n",
       "319275   68.1186  -159.4156  2005-06-16\n",
       "319276   68.1281  -159.4654  2005-06-16\n",
       "319277   68.1256  -159.5097  2005-06-16\n",
       "319278   68.1161  -159.4601  2005-06-16\n",
       "319298   66.3451  -155.9838  2005-06-17\n",
       "319299   66.3478  -155.9869  2005-06-17\n",
       "319301   66.3372  -155.9589  2005-06-17\n",
       "319303   66.3931  -156.8378  2005-06-17\n",
       "319305   66.3820  -156.8101  2005-06-17\n",
       "319306   68.1056  -159.4141  2005-06-17\n",
       "319307   66.5405  -155.7532  2005-06-17\n",
       "319308   66.5495  -155.7807  2005-06-17\n",
       "319311   66.2931  -154.9110  2005-06-17\n",
       "319313   66.5381  -155.7214  2005-06-17\n",
       "\n",
       "[84 rows x 3 columns]"
      ]
     },
     "execution_count": 62,
     "metadata": {},
     "output_type": "execute_result"
    }
   ],
   "source": [
    "xlg = M6large2005[['latitude', 'longitude', 'acq_date']]\n",
    "xlg[136:220]"
   ]
  },
  {
   "cell_type": "markdown",
   "metadata": {},
   "source": [
    "#def graph_data(path, xkey='doy', ykey='eco'):\n",
    "data = NASA_M6_2005\n",
    "xval = data['acq_date']\n",
    "yval = data['frp']\n",
    "#Year = emyear2003['year']\n",
    "\n",
    "fig,axe = plt.subplots()\n",
    "plt.scatter(xval, yval, alpha=0.7)\n",
    "plt.ylim([0, data['frp'].max()+100])\n",
    "\n",
    "plt.ylabel('Emissions of CO')\n",
    "plt.xlabel('Acq Date')\n",
    "plt.title('FRP Brightness across time') \n",
    "#+ str(Year))\n",
    "\n",
    "plt.grid(True)\n",
    "plt.show()\n",
    "\n",
    "#graph_data(emyear2003) # Or whatever your path is"
   ]
  },
  {
   "cell_type": "markdown",
   "metadata": {},
   "source": [
    "NM2005[['longitude', 'frp']]"
   ]
  },
  {
   "cell_type": "markdown",
   "metadata": {},
   "source": [
    "## Sending results of NASA M6 focus area to CSV to file. \n",
    "NM2005.to_csv('/Users/AlfHaugen/Python/Wildfire_Data/Predicting-Wildfires/NASA2005WoodGulch.csv', encoding='utf-8')"
   ]
  },
  {
   "cell_type": "code",
   "execution_count": 63,
   "metadata": {},
   "outputs": [],
   "source": [
    "emdata = pd.read_csv('/Users/AlfHaugen/Python/Wildfire_Data/9 Missoula Emisions Data RDS-2017-0039/Emissions_Year/emissions_year2003to2015.csv')"
   ]
  },
  {
   "cell_type": "code",
   "execution_count": 64,
   "metadata": {},
   "outputs": [],
   "source": [
    "emyear2005 = emdata[(emdata.year == 2005) & (emdata.latitude > 45.6) & (emdata.latitude < 45.99) & (emdata.longitude < -119) & (emdata.longitude > -120.8) & (emdata.doy > 204) & (emdata.doy < 210)]"
   ]
  },
  {
   "cell_type": "code",
   "execution_count": 65,
   "metadata": {},
   "outputs": [],
   "source": [
    "cluster2005 = pd.read_csv('/Users/AlfHaugen/Python/Wildfire_Data/FireExports/ClusterDBScan_Emissions2005.csv')"
   ]
  },
  {
   "cell_type": "code",
   "execution_count": 66,
   "metadata": {},
   "outputs": [],
   "source": [
    "c25 = cluster2005[(cluster2005.latitude > 45.6) & (cluster2005.latitude < 45.99) & (cluster2005.longitude < -119.8) & (cluster2005.longitude > -120.8)] "
   ]
  },
  {
   "cell_type": "code",
   "execution_count": 67,
   "metadata": {},
   "outputs": [
    {
     "data": {
      "text/plain": [
       "(1, 23)"
      ]
     },
     "execution_count": 67,
     "metadata": {},
     "output_type": "execute_result"
    }
   ],
   "source": [
    "c25.shape"
   ]
  },
  {
   "cell_type": "markdown",
   "metadata": {},
   "source": [
    "#### Plotting article. \n",
    "https://medium.com/python-pandemonium/data-visualization-in-python-scatter-plots-in-matplotlib-da90ac4c99f9"
   ]
  },
  {
   "cell_type": "code",
   "execution_count": 68,
   "metadata": {},
   "outputs": [
    {
     "data": {
      "text/plain": [
       "<function matplotlib.pyplot.show(*args, **kw)>"
      ]
     },
     "execution_count": 68,
     "metadata": {},
     "output_type": "execute_result"
    },
    {
     "data": {
      "image/png": "[encoded data removed]",
      "text/plain": [
       "<Figure size 432x288 with 1 Axes>"
      ]
     },
     "metadata": {
      "needs_background": "light"
     },
     "output_type": "display_data"
    },
    {
     "data": {
      "image/png": "[encoded data removed]",
      "text/plain": [
       "<Figure size 432x288 with 1 Axes>"
      ]
     },
     "metadata": {
      "needs_background": "light"
     },
     "output_type": "display_data"
    }
   ],
   "source": [
    "###Plotting area of Emissions Data vs NASA M6 Data together to view overlap. \n",
    "NM2005.plot(kind=\"scatter\", x=\"longitude\", y=\"latitude\",alpha=0.8, color='b')\n",
    "emyear2005.plot(kind=\"scatter\", x=\"longitude\", y=\"latitude\",alpha=0.8, color='r')\n",
    "plt.show"
   ]
  },
  {
   "cell_type": "code",
   "execution_count": 69,
   "metadata": {},
   "outputs": [
    {
     "data": {
      "image/png": "[encoded data removed]",
      "text/plain": [
       "<Figure size 432x288 with 1 Axes>"
      ]
     },
     "metadata": {
      "needs_background": "light"
     },
     "output_type": "display_data"
    }
   ],
   "source": [
    "### Plotting both Emissions and NASA M6 for same geo area to determine overlap. \n",
    "LongNM, LatNM = NM2005['longitude'], NM2005['latitude']\n",
    "LongEM05, LatEM05 = emyear2005['longitude'], emyear2005['latitude']\n",
    "LongEMClust, LatEMClust = c25['longitude'], c25['latitude']\n",
    "    \n",
    "plt.scatter(LongEM05, LatEM05, color='r', edgecolors='r')\n",
    "plt.scatter(LongNM, LatNM, s=100, edgecolors='b')\n",
    "plt.scatter(LongEMClust, LatEMClust, s=350, color='g', edgecolors='g')\n",
    "\n",
    "plt.xlabel('longitude')\n",
    "plt.ylabel('latitude')\n",
    "plt.title('2005 Emissions Cluster Point (Green), Emission Points (Red) and NASA M6 Points (Blue) for July 2005 Wood Gulch Fire')\n",
    "plt.show()"
   ]
  },
  {
   "cell_type": "code",
   "execution_count": 70,
   "metadata": {},
   "outputs": [
    {
     "ename": "IndentationError",
     "evalue": "unexpected indent (<ipython-input-70-24b4278e3b6c>, line 2)",
     "output_type": "error",
     "traceback": [
      "\u001b[0;36m  File \u001b[0;32m\"<ipython-input-70-24b4278e3b6c>\"\u001b[0;36m, line \u001b[0;32m2\u001b[0m\n\u001b[0;31m    lat, lon = cities['latd'], cities['longd']\u001b[0m\n\u001b[0m    ^\u001b[0m\n\u001b[0;31mIndentationError\u001b[0m\u001b[0;31m:\u001b[0m unexpected indent\n"
     ]
    }
   ],
   "source": [
    "# Extract the data we're interested in\n",
    "       lat, lon = cities['latd'], cities['longd']\n",
    "       population, area = cities['population_total'], cities['area_total_km2']\n",
    "\n",
    "       # Scatter the points, using size and color but no label\n",
    "       plt.scatter(lon, lat, label=None,\n",
    "                   c=np.log10(population), cmap='viridis',\n",
    "                   s=area, linewidth=0, alpha=0.5)\n",
    "       plt.axis(aspect='equal')\n",
    "       plt.xlabel('longitude')\n",
    "       plt.ylabel('latitude')\n",
    "       plt.colorbar(label='log$_{10}$(population)')\n",
    "       plt.clim(3, 7)\n",
    "\n",
    "       # Here we create a legend:\n",
    "       # we'll plot empty lists with the desired size and label\n",
    "       for area in [100, 300, 500]:\n",
    "           plt.scatter([], [], c='k', alpha=0.3, s=area,\n",
    "                       label=str(area) + ' km$^2$')\n",
    "       plt.legend(scatterpoints=1, frameon=False,\n",
    "                  labelspacing=1, title='City Area')\n",
    "\n",
    "       plt.title('California Cities: Area and Population');"
   ]
  },
  {
   "cell_type": "markdown",
   "metadata": {},
   "source": [
    "# NASA J1V1 Data Review"
   ]
  },
  {
   "cell_type": "code",
   "execution_count": null,
   "metadata": {},
   "outputs": [],
   "source": [
    "NASA_J1V1['year'] = NASA_J1V1['acq_date'].astype(str).str[0:4]"
   ]
  },
  {
   "cell_type": "code",
   "execution_count": null,
   "metadata": {},
   "outputs": [],
   "source": [
    "NASA_J1V1.head()"
   ]
  },
  {
   "cell_type": "code",
   "execution_count": null,
   "metadata": {},
   "outputs": [],
   "source": [
    "NASA_J1V1['year'].unique()"
   ]
  },
  {
   "cell_type": "code",
   "execution_count": null,
   "metadata": {},
   "outputs": [],
   "source": [
    "NASA_J1V1.shape"
   ]
  },
  {
   "cell_type": "code",
   "execution_count": null,
   "metadata": {},
   "outputs": [],
   "source": [
    "# matplotlib histogram\n",
    "plt.hist(NASA_M6['brightness'], color = 'red', edgecolor = 'black',\n",
    "         bins = int(180/5))\n",
    "\n",
    "# seaborn histogram\n",
    "sns.distplot(NASA_M6['brightness'], hist=True, kde=False, \n",
    "             bins=int(180/5), color = 'red',\n",
    "             hist_kws={'edgecolor':'black'})\n",
    "# Add labels\n",
    "plt.title('Histogram of Fire Brightness')\n",
    "plt.xlabel('Brightness/Intensity')\n",
    "plt.ylabel('Fire Instances')"
   ]
  },
  {
   "cell_type": "code",
   "execution_count": null,
   "metadata": {},
   "outputs": [],
   "source": []
  },
  {
   "cell_type": "code",
   "execution_count": null,
   "metadata": {},
   "outputs": [],
   "source": []
  },
  {
   "cell_type": "code",
   "execution_count": null,
   "metadata": {},
   "outputs": [],
   "source": []
  }
 ],
 "metadata": {
  "kernelspec": {
   "display_name": "Python 3",
   "language": "python",
   "name": "python3"
  },
  "language_info": {
   "codemirror_mode": {
    "name": "ipython",
    "version": 3
   },
   "file_extension": ".py",
   "mimetype": "text/x-python",
   "name": "python",
   "nbconvert_exporter": "python",
   "pygments_lexer": "ipython3",
   "version": "3.7.3"
  }
 },
 "nbformat": 4,
 "nbformat_minor": 2
}

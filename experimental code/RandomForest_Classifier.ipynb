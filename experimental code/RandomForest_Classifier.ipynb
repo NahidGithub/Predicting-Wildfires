{
 "cells": [
  {
   "cell_type": "markdown",
   "metadata": {},
   "source": [
    "# RandomForest Classifier Wild Fire Model Evaluation\n",
    "\n",
    "This notebooks will tune and run Random Forest classifier on wildfire dataset in order to make a predecction on fire intensity.\n"
   ]
  },
  {
   "cell_type": "markdown",
   "metadata": {},
   "source": [
    "#optional code if warnings become over bearing \n",
    "import warnings\n",
    "warnings.filterwarnings('ignore')"
   ]
  },
  {
   "cell_type": "code",
   "execution_count": 1,
   "metadata": {},
   "outputs": [
    {
     "name": "stdout",
     "output_type": "stream",
     "text": [
      "The scikit-learn version is 0.23.1.\n"
     ]
    }
   ],
   "source": [
    "#optional code to ensure everyone is on the right version\n",
    "import sklearn\n",
    "print('The scikit-learn version is {}.'.format(sklearn.__version__))"
   ]
  },
  {
   "cell_type": "code",
   "execution_count": 2,
   "metadata": {},
   "outputs": [],
   "source": [
    "#optional code if warnings become over bearing \n",
    "import warnings\n",
    "warnings.filterwarnings('ignore')"
   ]
  },
  {
   "cell_type": "markdown",
   "metadata": {},
   "source": [
    "# Import all the models and libraries needed"
   ]
  },
  {
   "cell_type": "code",
   "execution_count": 3,
   "metadata": {},
   "outputs": [],
   "source": [
    "%matplotlib inline\n",
    "\n",
    "import os\n",
    "import pickle\n",
    "import pandas as pd\n",
    "import numpy as np\n",
    "import seaborn as sns\n",
    "\n",
    "from sklearn.utils import resample\n",
    "from sklearn.metrics import f1_score\n",
    "from sklearn.metrics import balanced_accuracy_score\n",
    "from sklearn.pipeline import Pipeline\n",
    "from sklearn.impute import SimpleImputer\n",
    "from sklearn.metrics import confusion_matrix\n",
    "from sklearn.metrics import classification_report\n",
    "from sklearn.compose import ColumnTransformer\n",
    "from sklearn.compose import make_column_transformer\n",
    "from sklearn.model_selection import train_test_split as tts\n",
    "from sklearn.preprocessing import OneHotEncoder, LabelEncoder\n",
    "from sklearn.ensemble import GradientBoostingRegressor, RandomForestClassifier\n",
    "from sklearn.preprocessing import StandardScaler, OneHotEncoder, MinMaxScaler, RobustScaler\n",
    "from sklearn.linear_model import LogisticRegressionCV, LogisticRegression, SGDClassifier\n",
    "\n",
    "\n",
    "from yellowbrick.classifier import ROCAUC\n",
    "from yellowbrick.classifier import ClassificationReport\n",
    "\n",
    "from imblearn.over_sampling import SMOTE\n",
    "from imblearn import under_sampling, over_sampling\n",
    "\n",
    "\n",
    "\n"
   ]
  },
  {
   "cell_type": "markdown",
   "metadata": {},
   "source": [
    "# Helper function to save estimator\n",
    "Saves to current working directory"
   ]
  },
  {
   "cell_type": "code",
   "execution_count": 4,
   "metadata": {},
   "outputs": [],
   "source": [
    "def save_estimator (estimator) :\n",
    "          \n",
    "    outpath = estimator.__class__.__name__.lower().replace(\" \", \"-\") + \".pickle\"\n",
    "    with open(outpath, 'wb') as f:\n",
    "        pickle.dump(estimator, f)\n",
    "        f.close()\n",
    "        "
   ]
  },
  {
   "cell_type": "code",
   "execution_count": 5,
   "metadata": {},
   "outputs": [],
   "source": [
    "def open_estimator(filename) :\n",
    "    \n",
    "    infile = open(filename,'rb')\n",
    "    estimator = pickle.load(infile)\n",
    "    infile.close()\n",
    "\n",
    "    print (\"Unpickled file\", filename)\n",
    "    \n",
    "    return estimator"
   ]
  },
  {
   "cell_type": "markdown",
   "metadata": {},
   "source": [
    "### Read the Fire Data From Disk to Save Time.\n",
    "During the feature evaluation the data was pulled from the database and stored locally\n",
    "Read a random sample.\n",
    "\n",
    "Optimal testing data is 150K - SMOTE will generate additonal data for us"
   ]
  },
  {
   "cell_type": "code",
   "execution_count": 6,
   "metadata": {},
   "outputs": [
    {
     "name": "stdout",
     "output_type": "stream",
     "text": [
      "(50000, 26)\n"
     ]
    }
   ],
   "source": [
    "df_fires = pd.read_csv('data/FireIntensity_Model_June12_Clean.csv').sample(50000)\n",
    "\n",
    "print(df_fires.shape)"
   ]
  },
  {
   "cell_type": "markdown",
   "metadata": {},
   "source": [
    "### Assess data in the file. \n",
    "Check data to ensure it's correct.\n"
   ]
  },
  {
   "cell_type": "code",
   "execution_count": 7,
   "metadata": {},
   "outputs": [],
   "source": [
    "# Expanding number of columns:\n",
    "pd.set_option('display.max_columns', 40)"
   ]
  },
  {
   "cell_type": "code",
   "execution_count": 8,
   "metadata": {},
   "outputs": [
    {
     "name": "stdout",
     "output_type": "stream",
     "text": [
      "(50000, 26)\n"
     ]
    },
    {
     "data": {
      "text/html": [
       "<div>\n",
       "<style scoped>\n",
       "    .dataframe tbody tr th:only-of-type {\n",
       "        vertical-align: middle;\n",
       "    }\n",
       "\n",
       "    .dataframe tbody tr th {\n",
       "        vertical-align: top;\n",
       "    }\n",
       "\n",
       "    .dataframe thead th {\n",
       "        text-align: right;\n",
       "    }\n",
       "</style>\n",
       "<table border=\"1\" class=\"dataframe\">\n",
       "  <thead>\n",
       "    <tr style=\"text-align: right;\">\n",
       "      <th></th>\n",
       "      <th>Unnamed: 0</th>\n",
       "      <th>latitude</th>\n",
       "      <th>longitude</th>\n",
       "      <th>doy</th>\n",
       "      <th>month</th>\n",
       "      <th>year</th>\n",
       "      <th>cluster_reference</th>\n",
       "      <th>fire_region</th>\n",
       "      <th>season</th>\n",
       "      <th>covertype</th>\n",
       "      <th>fuelcode</th>\n",
       "      <th>prefire_fuel</th>\n",
       "      <th>fuel_moisture_class</th>\n",
       "      <th>temperature</th>\n",
       "      <th>humidity</th>\n",
       "      <th>precip_intensity</th>\n",
       "      <th>visibility</th>\n",
       "      <th>wind_speed</th>\n",
       "      <th>wind_gust</th>\n",
       "      <th>brightness</th>\n",
       "      <th>fire_intensity</th>\n",
       "      <th>fire_intensity_twocat</th>\n",
       "      <th>fire_intensity_threecat</th>\n",
       "      <th>fire_intensity_fourcat</th>\n",
       "      <th>bright_t31</th>\n",
       "      <th>frp</th>\n",
       "    </tr>\n",
       "  </thead>\n",
       "  <tbody>\n",
       "    <tr>\n",
       "      <td>971285</td>\n",
       "      <td>971285</td>\n",
       "      <td>39.3236</td>\n",
       "      <td>-122.6254</td>\n",
       "      <td>191</td>\n",
       "      <td>7</td>\n",
       "      <td>2012</td>\n",
       "      <td>2012_412</td>\n",
       "      <td>5</td>\n",
       "      <td>1</td>\n",
       "      <td>3</td>\n",
       "      <td>1370</td>\n",
       "      <td>2673.497587</td>\n",
       "      <td>2</td>\n",
       "      <td>80.17</td>\n",
       "      <td>0.22</td>\n",
       "      <td>0.0</td>\n",
       "      <td>9.216293</td>\n",
       "      <td>5.90</td>\n",
       "      <td>10.71</td>\n",
       "      <td>333.9</td>\n",
       "      <td>Severe</td>\n",
       "      <td>Moderate</td>\n",
       "      <td>Low</td>\n",
       "      <td>Low</td>\n",
       "      <td>296.3</td>\n",
       "      <td>35.1</td>\n",
       "    </tr>\n",
       "    <tr>\n",
       "      <td>86122</td>\n",
       "      <td>86122</td>\n",
       "      <td>39.4644</td>\n",
       "      <td>-104.9777</td>\n",
       "      <td>302</td>\n",
       "      <td>10</td>\n",
       "      <td>2003</td>\n",
       "      <td>2003_188</td>\n",
       "      <td>4</td>\n",
       "      <td>2</td>\n",
       "      <td>3</td>\n",
       "      <td>1220</td>\n",
       "      <td>4534.187262</td>\n",
       "      <td>2</td>\n",
       "      <td>77.44</td>\n",
       "      <td>0.12</td>\n",
       "      <td>0.0</td>\n",
       "      <td>10.000000</td>\n",
       "      <td>15.38</td>\n",
       "      <td>23.69</td>\n",
       "      <td>328.9</td>\n",
       "      <td>High</td>\n",
       "      <td>Moderate</td>\n",
       "      <td>Low</td>\n",
       "      <td>Low</td>\n",
       "      <td>302.1</td>\n",
       "      <td>103.3</td>\n",
       "    </tr>\n",
       "    <tr>\n",
       "      <td>1207188</td>\n",
       "      <td>1207188</td>\n",
       "      <td>31.8392</td>\n",
       "      <td>-82.3193</td>\n",
       "      <td>291</td>\n",
       "      <td>10</td>\n",
       "      <td>2014</td>\n",
       "      <td>2014_6129</td>\n",
       "      <td>2</td>\n",
       "      <td>2</td>\n",
       "      <td>3</td>\n",
       "      <td>1140</td>\n",
       "      <td>7646.952224</td>\n",
       "      <td>2</td>\n",
       "      <td>77.91</td>\n",
       "      <td>0.58</td>\n",
       "      <td>0.0</td>\n",
       "      <td>9.997000</td>\n",
       "      <td>6.46</td>\n",
       "      <td>10.01</td>\n",
       "      <td>314.9</td>\n",
       "      <td>Medium</td>\n",
       "      <td>Moderate</td>\n",
       "      <td>Low</td>\n",
       "      <td>Low</td>\n",
       "      <td>298.0</td>\n",
       "      <td>16.2</td>\n",
       "    </tr>\n",
       "  </tbody>\n",
       "</table>\n",
       "</div>"
      ],
      "text/plain": [
       "         Unnamed: 0  latitude  longitude  doy  month  year cluster_reference  \\\n",
       "971285       971285   39.3236  -122.6254  191      7  2012          2012_412   \n",
       "86122         86122   39.4644  -104.9777  302     10  2003          2003_188   \n",
       "1207188     1207188   31.8392   -82.3193  291     10  2014         2014_6129   \n",
       "\n",
       "         fire_region  season  covertype  fuelcode  prefire_fuel  \\\n",
       "971285             5       1          3      1370   2673.497587   \n",
       "86122              4       2          3      1220   4534.187262   \n",
       "1207188            2       2          3      1140   7646.952224   \n",
       "\n",
       "         fuel_moisture_class  temperature  humidity  precip_intensity  \\\n",
       "971285                     2        80.17      0.22               0.0   \n",
       "86122                      2        77.44      0.12               0.0   \n",
       "1207188                    2        77.91      0.58               0.0   \n",
       "\n",
       "         visibility  wind_speed  wind_gust  brightness fire_intensity  \\\n",
       "971285     9.216293        5.90      10.71       333.9         Severe   \n",
       "86122     10.000000       15.38      23.69       328.9           High   \n",
       "1207188    9.997000        6.46      10.01       314.9         Medium   \n",
       "\n",
       "        fire_intensity_twocat fire_intensity_threecat fire_intensity_fourcat  \\\n",
       "971285               Moderate                     Low                    Low   \n",
       "86122                Moderate                     Low                    Low   \n",
       "1207188              Moderate                     Low                    Low   \n",
       "\n",
       "         bright_t31    frp  \n",
       "971285        296.3   35.1  \n",
       "86122         302.1  103.3  \n",
       "1207188       298.0   16.2  "
      ]
     },
     "execution_count": 8,
     "metadata": {},
     "output_type": "execute_result"
    }
   ],
   "source": [
    "# review datagram\n",
    "print (df_fires.shape)\n",
    "df_fires.head(3) "
   ]
  },
  {
   "cell_type": "markdown",
   "metadata": {},
   "source": [
    "### Drop the columns not needed identified during the feature seleciton phase\n",
    "Recommend Features:  'temperature', 'wind_speed','humidity', 'fire_region', 'season', \n",
    "                 'fuelcode', 'prefire_fuel', 'fuel_moisture_class',\n",
    "                 'visibility', 'precip_intensity', 'wind_gust'"
   ]
  },
  {
   "cell_type": "code",
   "execution_count": 9,
   "metadata": {},
   "outputs": [],
   "source": [
    "df_fires = df_fires.drop(columns={'Unnamed: 0', 'latitude', 'longitude','cluster_reference', 'doy', \n",
    "                                  'month', 'year', 'brightness', 'bright_t31','frp', 'visibility', 'covertype',\n",
    "                                  'fire_intensity_twocat', 'fire_intensity', 'fire_intensity_threecat'})"
   ]
  },
  {
   "cell_type": "code",
   "execution_count": 10,
   "metadata": {},
   "outputs": [
    {
     "data": {
      "text/plain": [
       "Index(['fire_region', 'season', 'fuelcode', 'prefire_fuel',\n",
       "       'fuel_moisture_class', 'temperature', 'humidity', 'precip_intensity',\n",
       "       'wind_speed', 'wind_gust', 'fire_intensity_fourcat'],\n",
       "      dtype='object')"
      ]
     },
     "execution_count": 10,
     "metadata": {},
     "output_type": "execute_result"
    }
   ],
   "source": [
    "df_fires.columns"
   ]
  },
  {
   "cell_type": "code",
   "execution_count": 11,
   "metadata": {},
   "outputs": [
    {
     "name": "stdout",
     "output_type": "stream",
     "text": [
      "Low         45527\n",
      "Moderate     3812\n",
      "High          525\n",
      "Severe        136\n",
      "Name: fire_intensity_fourcat, dtype: int64\n"
     ]
    }
   ],
   "source": [
    "#show the shape of the data\n",
    "print(df_fires['fire_intensity_fourcat'].value_counts())"
   ]
  },
  {
   "cell_type": "markdown",
   "metadata": {},
   "source": [
    "### Setup the features for the pipeline"
   ]
  },
  {
   "cell_type": "code",
   "execution_count": 12,
   "metadata": {},
   "outputs": [],
   "source": [
    "features = ['fire_region', 'season', 'fuelcode', 'fuel_moisture_class', 'prefire_fuel', 'temperature', 'humidity', 'precip_intensity', \n",
    "             'wind_gust', 'wind_speed']\n",
    "\n",
    "cat_features = ['fire_region', 'season', 'fuelcode', 'fuel_moisture_class']\n",
    "\n",
    "num_features = ['prefire_fuel', 'temperature', 'humidity', 'precip_intensity', 'wind_gust', 'wind_speed']\n",
    "\n",
    "target = ['fire_intensity_fourcat'] # four categories using balanced binning\n",
    "\n",
    "y = df_fires[target]\n",
    "y = np.ravel(y)\n",
    "X = df_fires[features]\n"
   ]
  },
  {
   "cell_type": "markdown",
   "metadata": {},
   "source": [
    "### Setup the columns transfomer for the pipeline."
   ]
  },
  {
   "cell_type": "code",
   "execution_count": 13,
   "metadata": {},
   "outputs": [],
   "source": [
    "# Setup\n",
    "\n",
    "categorical_transformer = Pipeline(steps=[('onehot', OneHotEncoder(handle_unknown='ignore')),\n",
    "    ('imputer', SimpleImputer(strategy='most_frequent'))])\n",
    "\n",
    "numeric_transformer = Pipeline(steps=[('scaler', StandardScaler()),\n",
    "    ('imputer', SimpleImputer(strategy='median'))])\n",
    "\n",
    "# Setting the transformation for the pipeline below. \n",
    "preprocessor = ColumnTransformer (transformers=[\n",
    "        ('num_features', numeric_transformer, num_features),\n",
    "        ('cat_features', categorical_transformer, cat_features)])"
   ]
  },
  {
   "cell_type": "markdown",
   "metadata": {},
   "source": [
    "model = Pipeline(steps=[('preprocessor', preprocessor),\n",
    "                      ('classifier', LogisticRegression())])"
   ]
  },
  {
   "cell_type": "markdown",
   "metadata": {},
   "source": [
    "# Define the models to test\n",
    "<b>Down to our best 2 models</b>"
   ]
  },
  {
   "cell_type": "code",
   "execution_count": 14,
   "metadata": {},
   "outputs": [],
   "source": [
    "models = [ \n",
    "            RandomForestClassifier(),\n",
    "           # GradientBoostingRegressor(),\n",
    "        ]    \n"
   ]
  },
  {
   "cell_type": "code",
   "execution_count": 15,
   "metadata": {},
   "outputs": [
    {
     "data": {
      "text/plain": [
       "(50000, 10)"
      ]
     },
     "execution_count": 15,
     "metadata": {},
     "output_type": "execute_result"
    }
   ],
   "source": [
    "X.shape"
   ]
  },
  {
   "cell_type": "markdown",
   "metadata": {},
   "source": [
    "# Function to Fit and predict the scores of the model. \n",
    "Give us our final scores"
   ]
  },
  {
   "cell_type": "code",
   "execution_count": 16,
   "metadata": {},
   "outputs": [],
   "source": [
    "def score_model(X, y, estimator, **kwargs):\n",
    "    \n",
    "    \n",
    "    # Processing y.\n",
    "    y = LabelEncoder().fit_transform(y) # Label-encode targets before modeling\n",
    "    \n",
    "   \n",
    "    #smote models for balance bins for classifier \n",
    "    oversample = SMOTE()\n",
    "    X, y = oversample.fit_resample(X, y)\n",
    "   \n",
    "    model = Pipeline(steps=[\n",
    "          ('preprocessor', preprocessor),\n",
    "          ('estimator', estimator)\n",
    "      ])\n",
    "    \n",
    "    # Instantiate the classification model and visualizer\n",
    "    model.fit(X, y, **kwargs)  \n",
    "    \n",
    "    expected = y\n",
    "    predicted = model.predict(X)\n",
    "    \n",
    "   \n",
    "    # Compute and return F1 (harmonic mean of precision and recall)\n",
    "    print(\"{}: {}\".format(estimator.__class__.__name__, f1_score(expected, predicted, average='weighted')))\n",
    "    \n",
    "   \n",
    "    return save_estimator(estimator)\n"
   ]
  },
  {
   "cell_type": "markdown",
   "metadata": {},
   "source": [
    "# Iterate through the different models"
   ]
  },
  {
   "cell_type": "code",
   "execution_count": 17,
   "metadata": {},
   "outputs": [
    {
     "name": "stdout",
     "output_type": "stream",
     "text": [
      "RandomForestClassifier: 0.98246894179801\n"
     ]
    }
   ],
   "source": [
    "for model in models:\n",
    "    score_model(X, y, model)"
   ]
  },
  {
   "cell_type": "markdown",
   "metadata": {},
   "source": [
    "# Function to visualize the model out using yellow brick classification report.\n"
   ]
  },
  {
   "cell_type": "code",
   "execution_count": 18,
   "metadata": {},
   "outputs": [],
   "source": [
    "def visualize_model(X, y, estimator):\n",
    "        \n",
    "    \n",
    "    # Processing y.\n",
    "    y = LabelEncoder().fit_transform(y) # Label-encode targets before modeling\n",
    "    \n",
    "   \n",
    "    #smote models for balance bins for classifier \n",
    "    oversample = SMOTE()\n",
    "    X, y = oversample.fit_resample(X, y)\n",
    "\n",
    "    model = Pipeline(steps=[\n",
    "        ('preprocessor', preprocessor),\n",
    "        ('estimator', estimator)\n",
    "    ])\n",
    "   \n",
    "\n",
    "    X_train, X_test, y_train, y_test = tts(X, y, test_size=0.33)\n",
    "\n",
    "    # Instantiate the classification model and visualizer\n",
    "    visualizer = ClassificationReport(\n",
    "        model,\n",
    "        classes=['Low', 'Medium', 'High', 'Severe'], # Classes for equal balanced bins per quartiles\n",
    "        cmap=\"Reds\", \n",
    "        support=True,\n",
    "        size=(800, 660)\n",
    "    )\n",
    "\n",
    "                                           \n",
    "    visualizer.fit(X_train, y_train)  \n",
    "        \n",
    "    visualizer.score(X_test, y_test)\n",
    "\n",
    "       \n",
    "    #optional\n",
    "    #visualizer.show(outpath=estimator.__class__.__name__ + \".png\")  \n",
    "    \n",
    "    visualizer.show()\n",
    "    \n",
    "    \n",
    "    from sklearn.metrics import confusion_matrix\n",
    "\n"
   ]
  },
  {
   "cell_type": "markdown",
   "metadata": {},
   "source": [
    "# Iterate through the models to visualize"
   ]
  },
  {
   "cell_type": "code",
   "execution_count": 19,
   "metadata": {},
   "outputs": [
    {
     "data": {
      "image/png": "[encoded data removed]",
      "text/plain": [
       "<Figure size 800x660 with 2 Axes>"
      ]
     },
     "metadata": {
      "needs_background": "light"
     },
     "output_type": "display_data"
    }
   ],
   "source": [
    "for model in models:\n",
    "    visualize_model(X, y, model)\n",
    "    "
   ]
  },
  {
   "cell_type": "code",
   "execution_count": 20,
   "metadata": {},
   "outputs": [],
   "source": [
    "def confusion_matrix_report (X, y, estimator, **kwargs):\n",
    "    \n",
    "    \n",
    "    # Processing y.\n",
    "    y = LabelEncoder().fit_transform(y) # Label-encode targets before modeling\n",
    "    \n",
    "   \n",
    "    #smote models for balance bins for classifier \n",
    "    oversample = SMOTE()\n",
    "    X, y = oversample.fit_resample(X, y)\n",
    "   \n",
    "    model = Pipeline(steps=[\n",
    "          ('preprocessor', preprocessor),\n",
    "          ('estimator', estimator)\n",
    "      ])\n",
    "    \n",
    "    X_train, X_test, y_train, y_test = tts(X, y, test_size=0.33)\n",
    "    \n",
    "    # Instantiate the classification model and visualizer\n",
    "    model.fit(X_train, y_train, **kwargs)  \n",
    "    \n",
    "    expected =  y_test\n",
    "    predicted = model.predict(X_test)\n",
    "    \n",
    "    print(confusion_matrix(expected, predicted))\n",
    "    print(classification_report(expected, predicted))\n",
    "\n",
    "    # Compute and return F1 (harmonic mean of precision and recall)\n",
    "    print(\"{}: {}\".format(estimator.__class__.__name__, f1_score(expected, predicted, average='micro')))\n",
    "\n",
    "   \n",
    "    return save_estimator(estimator)"
   ]
  },
  {
   "cell_type": "code",
   "execution_count": 21,
   "metadata": {},
   "outputs": [
    {
     "name": "stdout",
     "output_type": "stream",
     "text": [
      "[[14396   114   293   289]\n",
      " [  289 12989  1671    90]\n",
      " [  639  1430 12729   175]\n",
      " [  131    25    42 14794]]\n",
      "              precision    recall  f1-score   support\n",
      "\n",
      "           0       0.93      0.95      0.94     15092\n",
      "           1       0.89      0.86      0.88     15039\n",
      "           2       0.86      0.85      0.86     14973\n",
      "           3       0.96      0.99      0.98     14992\n",
      "\n",
      "    accuracy                           0.91     60096\n",
      "   macro avg       0.91      0.91      0.91     60096\n",
      "weighted avg       0.91      0.91      0.91     60096\n",
      "\n",
      "RandomForestClassifier: 0.913671458998935\n"
     ]
    }
   ],
   "source": [
    "for model in models:\n",
    "   confusion_matrix_report(X, y, model)"
   ]
  },
  {
   "cell_type": "markdown",
   "metadata": {},
   "source": [
    "---\n",
    "#### ROCAUC For Bagging Classifier "
   ]
  },
  {
   "cell_type": "code",
   "execution_count": 23,
   "metadata": {},
   "outputs": [
    {
     "data": {
      "image/png": "[encoded data removed]",
      "text/plain": [
       "<Figure size 1080x720 with 1 Axes>"
      ]
     },
     "metadata": {
      "needs_background": "light"
     },
     "output_type": "display_data"
    },
    {
     "data": {
      "text/plain": [
       "<matplotlib.axes._subplots.AxesSubplot at 0x1c2b6e3b50>"
      ]
     },
     "execution_count": 23,
     "metadata": {},
     "output_type": "execute_result"
    }
   ],
   "source": [
    "\n",
    "# Instantiate the classification model and visualizer\n",
    "visualizer = ROCAUC(RandomForestClassifier(), size=(1080, 720))\n",
    "\n",
    "oversample = SMOTE()\n",
    "X, y = oversample.fit_resample(X, y)\n",
    "\n",
    "# Create the train and test data\n",
    "X_train, X_test, y_train, y_test = tts(X, y, test_size=0.3)\n",
    "\n",
    "\n",
    "visualizer.fit(X_train, y_train)  # Fit the training data to the visualizer\n",
    "visualizer.score(X_test, y_test)  # Evaluate the model on the test data\n",
    "visualizer.show()                 # Draw the data"
   ]
  },
  {
   "cell_type": "code",
   "execution_count": null,
   "metadata": {},
   "outputs": [],
   "source": []
  }
 ],
 "metadata": {
  "kernelspec": {
   "display_name": "Python 3",
   "language": "python",
   "name": "python3"
  },
  "language_info": {
   "codemirror_mode": {
    "name": "ipython",
    "version": 3
   },
   "file_extension": ".py",
   "mimetype": "text/x-python",
   "name": "python",
   "nbconvert_exporter": "python",
   "pygments_lexer": "ipython3",
   "version": "3.7.4"
  }
 },
 "nbformat": 4,
 "nbformat_minor": 4
}

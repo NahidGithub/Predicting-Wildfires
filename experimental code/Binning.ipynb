{
 "cells": [
  {
   "cell_type": "markdown",
   "metadata": {},
   "source": [
    "# Binning"
   ]
  },
  {
   "cell_type": "code",
   "execution_count": 1,
   "metadata": {},
   "outputs": [],
   "source": [
    "import pandas as pd\n",
    "import numpy as np\n",
    "from geopy.distance import great_circle\n",
    "import math\n",
    "import seaborn as sns\n",
    "from scipy import spatial\n",
    "from sklearn.cluster import KMeans\n",
    "import matplotlib.pyplot as plt\n",
    "import datetime"
   ]
  },
  {
   "cell_type": "code",
   "execution_count": 2,
   "metadata": {},
   "outputs": [],
   "source": [
    "from yellowbrick.datasets import load_concrete\n",
    "from yellowbrick.target import BalancedBinningReference"
   ]
  },
  {
   "cell_type": "code",
   "execution_count": 3,
   "metadata": {},
   "outputs": [],
   "source": [
    "# Expanding number of columns:\n",
    "pd.set_option('display.max_columns', 40)"
   ]
  },
  {
   "cell_type": "code",
   "execution_count": 4,
   "metadata": {},
   "outputs": [],
   "source": [
    "Fire_Brightness_Model = pd.read_csv('../data/FireIntensity_Model_June7_Clean.csv')"
   ]
  },
  {
   "cell_type": "code",
   "execution_count": 5,
   "metadata": {},
   "outputs": [
    {
     "name": "stdout",
     "output_type": "stream",
     "text": [
      "(1328922, 22)\n"
     ]
    },
    {
     "data": {
      "text/html": [
       "<div>\n",
       "<style scoped>\n",
       "    .dataframe tbody tr th:only-of-type {\n",
       "        vertical-align: middle;\n",
       "    }\n",
       "\n",
       "    .dataframe tbody tr th {\n",
       "        vertical-align: top;\n",
       "    }\n",
       "\n",
       "    .dataframe thead th {\n",
       "        text-align: right;\n",
       "    }\n",
       "</style>\n",
       "<table border=\"1\" class=\"dataframe\">\n",
       "  <thead>\n",
       "    <tr style=\"text-align: right;\">\n",
       "      <th></th>\n",
       "      <th>latitude</th>\n",
       "      <th>longitude</th>\n",
       "      <th>doy</th>\n",
       "      <th>month</th>\n",
       "      <th>year</th>\n",
       "      <th>cluster_reference</th>\n",
       "      <th>fire_region</th>\n",
       "      <th>season</th>\n",
       "      <th>covertype</th>\n",
       "      <th>fuelcode</th>\n",
       "      <th>prefire_fuel</th>\n",
       "      <th>fuel_moisture_class</th>\n",
       "      <th>temperature</th>\n",
       "      <th>humidity</th>\n",
       "      <th>precip_intensity</th>\n",
       "      <th>visibility</th>\n",
       "      <th>wind_speed</th>\n",
       "      <th>wind_gust</th>\n",
       "      <th>brightness</th>\n",
       "      <th>fire_intensity</th>\n",
       "      <th>bright_t31</th>\n",
       "      <th>frp</th>\n",
       "    </tr>\n",
       "  </thead>\n",
       "  <tbody>\n",
       "    <tr>\n",
       "      <th>0</th>\n",
       "      <td>34.5954</td>\n",
       "      <td>-78.6218</td>\n",
       "      <td>1</td>\n",
       "      <td>1</td>\n",
       "      <td>2003</td>\n",
       "      <td>2003_4279</td>\n",
       "      <td>6</td>\n",
       "      <td>3</td>\n",
       "      <td>3</td>\n",
       "      <td>1600</td>\n",
       "      <td>6220.097576</td>\n",
       "      <td>3</td>\n",
       "      <td>64.14</td>\n",
       "      <td>0.88</td>\n",
       "      <td>0.011</td>\n",
       "      <td>9.022000</td>\n",
       "      <td>6.42</td>\n",
       "      <td>12.51</td>\n",
       "      <td>306.5</td>\n",
       "      <td>Low</td>\n",
       "      <td>289.2</td>\n",
       "      <td>11.0</td>\n",
       "    </tr>\n",
       "    <tr>\n",
       "      <th>1</th>\n",
       "      <td>33.4182</td>\n",
       "      <td>-110.8618</td>\n",
       "      <td>1</td>\n",
       "      <td>1</td>\n",
       "      <td>2003</td>\n",
       "      <td>2003_1522</td>\n",
       "      <td>4</td>\n",
       "      <td>3</td>\n",
       "      <td>3</td>\n",
       "      <td>1220</td>\n",
       "      <td>4534.187262</td>\n",
       "      <td>2</td>\n",
       "      <td>32.17</td>\n",
       "      <td>0.37</td>\n",
       "      <td>0.000</td>\n",
       "      <td>9.216293</td>\n",
       "      <td>6.88</td>\n",
       "      <td>18.50</td>\n",
       "      <td>307.6</td>\n",
       "      <td>Low</td>\n",
       "      <td>285.1</td>\n",
       "      <td>10.8</td>\n",
       "    </tr>\n",
       "    <tr>\n",
       "      <th>2</th>\n",
       "      <td>29.7120</td>\n",
       "      <td>-95.1284</td>\n",
       "      <td>1</td>\n",
       "      <td>1</td>\n",
       "      <td>2003</td>\n",
       "      <td>2003_919</td>\n",
       "      <td>3</td>\n",
       "      <td>3</td>\n",
       "      <td>1</td>\n",
       "      <td>1</td>\n",
       "      <td>277.412850</td>\n",
       "      <td>2</td>\n",
       "      <td>65.97</td>\n",
       "      <td>0.50</td>\n",
       "      <td>0.000</td>\n",
       "      <td>9.997000</td>\n",
       "      <td>10.98</td>\n",
       "      <td>16.90</td>\n",
       "      <td>307.2</td>\n",
       "      <td>Low</td>\n",
       "      <td>294.1</td>\n",
       "      <td>5.6</td>\n",
       "    </tr>\n",
       "    <tr>\n",
       "      <th>3</th>\n",
       "      <td>28.9161</td>\n",
       "      <td>-98.6293</td>\n",
       "      <td>1</td>\n",
       "      <td>1</td>\n",
       "      <td>2003</td>\n",
       "      <td>2003_777</td>\n",
       "      <td>3</td>\n",
       "      <td>3</td>\n",
       "      <td>1</td>\n",
       "      <td>1</td>\n",
       "      <td>251.296812</td>\n",
       "      <td>2</td>\n",
       "      <td>72.89</td>\n",
       "      <td>0.51</td>\n",
       "      <td>0.000</td>\n",
       "      <td>9.997000</td>\n",
       "      <td>25.06</td>\n",
       "      <td>28.59</td>\n",
       "      <td>313.3</td>\n",
       "      <td>Medium</td>\n",
       "      <td>297.4</td>\n",
       "      <td>12.0</td>\n",
       "    </tr>\n",
       "    <tr>\n",
       "      <th>4</th>\n",
       "      <td>32.7772</td>\n",
       "      <td>-95.0444</td>\n",
       "      <td>1</td>\n",
       "      <td>1</td>\n",
       "      <td>2003</td>\n",
       "      <td>2003_3100</td>\n",
       "      <td>3</td>\n",
       "      <td>3</td>\n",
       "      <td>1</td>\n",
       "      <td>1</td>\n",
       "      <td>173.172870</td>\n",
       "      <td>2</td>\n",
       "      <td>58.39</td>\n",
       "      <td>0.30</td>\n",
       "      <td>0.000</td>\n",
       "      <td>9.216293</td>\n",
       "      <td>7.99</td>\n",
       "      <td>10.99</td>\n",
       "      <td>301.3</td>\n",
       "      <td>Low</td>\n",
       "      <td>289.9</td>\n",
       "      <td>4.2</td>\n",
       "    </tr>\n",
       "  </tbody>\n",
       "</table>\n",
       "</div>"
      ],
      "text/plain": [
       "   latitude  longitude  doy  month  year cluster_reference  fire_region  \\\n",
       "0   34.5954   -78.6218    1      1  2003         2003_4279            6   \n",
       "1   33.4182  -110.8618    1      1  2003         2003_1522            4   \n",
       "2   29.7120   -95.1284    1      1  2003          2003_919            3   \n",
       "3   28.9161   -98.6293    1      1  2003          2003_777            3   \n",
       "4   32.7772   -95.0444    1      1  2003         2003_3100            3   \n",
       "\n",
       "   season  covertype  fuelcode  prefire_fuel  fuel_moisture_class  \\\n",
       "0       3          3      1600   6220.097576                    3   \n",
       "1       3          3      1220   4534.187262                    2   \n",
       "2       3          1         1    277.412850                    2   \n",
       "3       3          1         1    251.296812                    2   \n",
       "4       3          1         1    173.172870                    2   \n",
       "\n",
       "   temperature  humidity  precip_intensity  visibility  wind_speed  wind_gust  \\\n",
       "0        64.14      0.88             0.011    9.022000        6.42      12.51   \n",
       "1        32.17      0.37             0.000    9.216293        6.88      18.50   \n",
       "2        65.97      0.50             0.000    9.997000       10.98      16.90   \n",
       "3        72.89      0.51             0.000    9.997000       25.06      28.59   \n",
       "4        58.39      0.30             0.000    9.216293        7.99      10.99   \n",
       "\n",
       "   brightness fire_intensity  bright_t31   frp  \n",
       "0       306.5            Low       289.2  11.0  \n",
       "1       307.6            Low       285.1  10.8  \n",
       "2       307.2            Low       294.1   5.6  \n",
       "3       313.3         Medium       297.4  12.0  \n",
       "4       301.3            Low       289.9   4.2  "
      ]
     },
     "execution_count": 5,
     "metadata": {},
     "output_type": "execute_result"
    }
   ],
   "source": [
    "print(Fire_Brightness_Model.shape)\n",
    "Fire_Brightness_Model.head()"
   ]
  },
  {
   "cell_type": "markdown",
   "metadata": {},
   "source": [
    "---\n",
    "## Graphing"
   ]
  },
  {
   "cell_type": "code",
   "execution_count": 6,
   "metadata": {},
   "outputs": [
    {
     "name": "stdout",
     "output_type": "stream",
     "text": [
      "Min 300.0\n",
      "Max 506.5\n",
      "Mean 323.8604039966302\n",
      "309.8 317.9 330.2\n"
     ]
    }
   ],
   "source": [
    "# Brightness\n",
    "e = Fire_Brightness_Model['brightness'].min()\n",
    "ee = Fire_Brightness_Model['brightness'].max()\n",
    "eee = Fire_Brightness_Model['brightness'].mean(skipna = True)\n",
    "Q1e, mediane, Q3e = np.percentile(Fire_Brightness_Model['brightness'], [25,50,75])\n",
    "print('Min', e)\n",
    "print('Max', ee)\n",
    "print('Mean', eee)\n",
    "print(Q1e, mediane, Q3e)"
   ]
  },
  {
   "cell_type": "code",
   "execution_count": 30,
   "metadata": {},
   "outputs": [
    {
     "data": {
      "image/png": "[encoded data removed]",
      "text/plain": [
       "<Figure size 504x72 with 1 Axes>"
      ]
     },
     "metadata": {},
     "output_type": "display_data"
    }
   ],
   "source": [
    "# Setting color scheme. \n",
    "flatui = [\"#9b59b6\", \"#3498db\", \"#95a5a6\", \"#e74c3c\", \"#34495e\", \"#2ecc71\", '#3040ba']\n",
    "sns.palplot(sns.color_palette(flatui))"
   ]
  },
  {
   "cell_type": "markdown",
   "metadata": {},
   "source": [
    "#### Graphing the brightness numerical value in NASA M6 that will be a Y in the Wild Fire project. "
   ]
  },
  {
   "cell_type": "code",
   "execution_count": 19,
   "metadata": {},
   "outputs": [
    {
     "data": {
      "text/plain": [
       "<matplotlib.axes._subplots.AxesSubplot at 0x7f8fd4166a20>"
      ]
     },
     "execution_count": 19,
     "metadata": {},
     "output_type": "execute_result"
    },
    {
     "data": {
      "image/png": "[encoded data removed]",
      "text/plain": [
       "<Figure size 1440x432 with 1 Axes>"
      ]
     },
     "metadata": {},
     "output_type": "display_data"
    }
   ],
   "source": [
    "plt.figure(figsize=(20, 6))\n",
    "sns.distplot(Fire_Brightness_Model[\"brightness\"], hist=True, kde=False, rug=False, color = '#3498db', hist_kws={'edgecolor':'#3040ba'})\n",
    "#sns.plt.show()"
   ]
  },
  {
   "cell_type": "markdown",
   "metadata": {},
   "source": [
    "#### Review of Brightness across the quartiles."
   ]
  },
  {
   "cell_type": "code",
   "execution_count": 22,
   "metadata": {},
   "outputs": [],
   "source": [
    "# Setting the format for numerical values, so annoying when they come out as huge scientific notations. \n",
    "pd.set_option('display.float_format', lambda x: '%.5f' % x)"
   ]
  },
  {
   "cell_type": "code",
   "execution_count": 23,
   "metadata": {},
   "outputs": [
    {
     "data": {
      "text/plain": [
       "count   1328922.00000\n",
       "mean        323.86040\n",
       "std          22.26737\n",
       "min         300.00000\n",
       "25%         309.80000\n",
       "50%         317.90000\n",
       "75%         330.20000\n",
       "max         506.50000\n",
       "Name: brightness, dtype: float64"
      ]
     },
     "execution_count": 23,
     "metadata": {},
     "output_type": "execute_result"
    }
   ],
   "source": [
    "Fire_Brightness_Model['brightness'].describe()"
   ]
  },
  {
   "cell_type": "markdown",
   "metadata": {},
   "source": [
    "#### Result of above:\n",
    "Based on the above results - we'll create one set of Y's using a Low, Medium, High, Severe category scale using the Min, 25%, 50%, 75%, Max values as bins. "
   ]
  },
  {
   "cell_type": "markdown",
   "metadata": {},
   "source": [
    "#### Placing the Brightness Y through the YellowBrick Balanced Binning Tool. "
   ]
  },
  {
   "cell_type": "code",
   "execution_count": 25,
   "metadata": {},
   "outputs": [],
   "source": [
    "### Setting the Y value which is the NASA M6 Brightness. \n",
    "y = Fire_Brightness_Model['brightness']"
   ]
  },
  {
   "cell_type": "code",
   "execution_count": 26,
   "metadata": {},
   "outputs": [
    {
     "data": {
      "text/plain": [
       "(1328922,)"
      ]
     },
     "execution_count": 26,
     "metadata": {},
     "output_type": "execute_result"
    }
   ],
   "source": [
    "y.shape"
   ]
  },
  {
   "cell_type": "code",
   "execution_count": 11,
   "metadata": {},
   "outputs": [],
   "source": [
    "from yellowbrick.datasets import load_concrete\n",
    "from yellowbrick.target import balanced_binning_reference"
   ]
  },
  {
   "cell_type": "code",
   "execution_count": 29,
   "metadata": {},
   "outputs": [
    {
     "data": {
      "image/png": "[encoded data removed]",
      "text/plain": [
       "<Figure size 576x396 with 1 Axes>"
      ]
     },
     "metadata": {},
     "output_type": "display_data"
    },
    {
     "data": {
      "text/plain": [
       "<matplotlib.axes._subplots.AxesSubplot at 0x7f8fd4289710>"
      ]
     },
     "execution_count": 29,
     "metadata": {},
     "output_type": "execute_result"
    }
   ],
   "source": [
    "visualizer = BalancedBinningReference(bins = 2)\n",
    "visualizer.fit(y)\n",
    "visualizer.show()"
   ]
  },
  {
   "cell_type": "markdown",
   "metadata": {},
   "source": [
    "#### Results:\n",
    "Based on Balanced Binning for 2, 3 and 4 bins, we approximately get the following bin break lines:   \n",
    "2 Bins - [300 to 403.125, to 506.5]    \n",
    "3 Bins - [300 to 368.75, to 437.5, to 506.5]    \n",
    "4 Bins - [300 to 351.625, 403.25, 454.875, 506.5]    "
   ]
  },
  {
   "cell_type": "code",
   "execution_count": 50,
   "metadata": {},
   "outputs": [
    {
     "data": {
      "text/plain": [
       "0          (299.999, 309.8]\n",
       "1          (299.999, 309.8]\n",
       "2          (299.999, 309.8]\n",
       "3            (309.8, 317.9]\n",
       "4          (299.999, 309.8]\n",
       "5          (299.999, 309.8]\n",
       "6            (309.8, 317.9]\n",
       "7          (299.999, 309.8]\n",
       "8          (299.999, 309.8]\n",
       "9          (299.999, 309.8]\n",
       "10           (309.8, 317.9]\n",
       "11         (299.999, 309.8]\n",
       "12           (317.9, 330.2]\n",
       "13         (299.999, 309.8]\n",
       "14           (309.8, 317.9]\n",
       "15           (309.8, 317.9]\n",
       "16         (299.999, 309.8]\n",
       "17         (299.999, 309.8]\n",
       "18           (309.8, 317.9]\n",
       "19           (317.9, 330.2]\n",
       "20           (309.8, 317.9]\n",
       "21           (309.8, 317.9]\n",
       "22         (299.999, 309.8]\n",
       "23         (299.999, 309.8]\n",
       "24           (317.9, 330.2]\n",
       "25           (317.9, 330.2]\n",
       "26           (317.9, 330.2]\n",
       "27         (299.999, 309.8]\n",
       "28           (309.8, 317.9]\n",
       "29           (330.2, 506.5]\n",
       "                 ...       \n",
       "1328892    (299.999, 309.8]\n",
       "1328893    (299.999, 309.8]\n",
       "1328894    (299.999, 309.8]\n",
       "1328895    (299.999, 309.8]\n",
       "1328896    (299.999, 309.8]\n",
       "1328897    (299.999, 309.8]\n",
       "1328898    (299.999, 309.8]\n",
       "1328899    (299.999, 309.8]\n",
       "1328900      (330.2, 506.5]\n",
       "1328901      (317.9, 330.2]\n",
       "1328902      (330.2, 506.5]\n",
       "1328903      (317.9, 330.2]\n",
       "1328904      (317.9, 330.2]\n",
       "1328905      (330.2, 506.5]\n",
       "1328906      (330.2, 506.5]\n",
       "1328907      (330.2, 506.5]\n",
       "1328908    (299.999, 309.8]\n",
       "1328909      (330.2, 506.5]\n",
       "1328910      (317.9, 330.2]\n",
       "1328911      (309.8, 317.9]\n",
       "1328912      (309.8, 317.9]\n",
       "1328913    (299.999, 309.8]\n",
       "1328914    (299.999, 309.8]\n",
       "1328915    (299.999, 309.8]\n",
       "1328916    (299.999, 309.8]\n",
       "1328917    (299.999, 309.8]\n",
       "1328918      (309.8, 317.9]\n",
       "1328919    (299.999, 309.8]\n",
       "1328920      (317.9, 330.2]\n",
       "1328921    (299.999, 309.8]\n",
       "Name: brightness, Length: 1328922, dtype: category\n",
       "Categories (4, interval[float64]): [(299.999, 309.8] < (309.8, 317.9] < (317.9, 330.2] < (330.2, 506.5]]"
      ]
     },
     "execution_count": 50,
     "metadata": {},
     "output_type": "execute_result"
    }
   ],
   "source": [
    "pd.qcut(Fire_Brightness_Model['brightness'], q=4)"
   ]
  },
  {
   "cell_type": "code",
   "execution_count": null,
   "metadata": {},
   "outputs": [],
   "source": [
    "plt.figure(figsize=(20, 6))\n",
    "\n",
    "covertypeplot = sns.catplot(x=\"year\", y=\"ECO2\", hue='covertype', data=emyeartest,\n",
    "                height=6, kind=\"bar\", palette=flatui)\n",
    "covertypeplot.despine(left=True)\n",
    "covertypeplot.set_ylabels(\"CO2 Emissions Intensity\")"
   ]
  }
 ],
 "metadata": {
  "kernelspec": {
   "display_name": "Python 3",
   "language": "python",
   "name": "python3"
  },
  "language_info": {
   "codemirror_mode": {
    "name": "ipython",
    "version": 3
   },
   "file_extension": ".py",
   "mimetype": "text/x-python",
   "name": "python",
   "nbconvert_exporter": "python",
   "pygments_lexer": "ipython3",
   "version": "3.7.3"
  }
 },
 "nbformat": 4,
 "nbformat_minor": 2
}

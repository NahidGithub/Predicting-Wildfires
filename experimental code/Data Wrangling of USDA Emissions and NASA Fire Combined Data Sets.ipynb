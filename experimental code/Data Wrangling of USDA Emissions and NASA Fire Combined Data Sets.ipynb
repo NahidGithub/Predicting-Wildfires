{
 "cells": [
  {
   "cell_type": "markdown",
   "metadata": {},
   "source": [
    "### Data Wrangling of USDA Emissions and NASA Fire Combined Data Sets"
   ]
  },
  {
   "cell_type": "code",
   "execution_count": 1,
   "metadata": {},
   "outputs": [],
   "source": [
    "import pandas as pd\n",
    "import numpy as np\n",
    "import seaborn as sns\n",
    "import matplotlib.pyplot as plt, time\n",
    "from geopy.distance import great_circle\n",
    "import math\n",
    "from scipy import spatial\n",
    "import datetime\n",
    "from sklearn.cluster import DBSCAN\n",
    "from shapely.geometry import MultiPoint\n",
    "\n",
    "%matplotlib inline"
   ]
  },
  {
   "cell_type": "code",
   "execution_count": 2,
   "metadata": {},
   "outputs": [],
   "source": [
    "# Load Emissions CSV File\"\n",
    "comdata = pd.read_csv('5_nasa_emissions_doycombined.csv')"
   ]
  },
  {
   "cell_type": "code",
   "execution_count": 3,
   "metadata": {},
   "outputs": [
    {
     "data": {
      "text/html": [
       "<div>\n",
       "<style scoped>\n",
       "    .dataframe tbody tr th:only-of-type {\n",
       "        vertical-align: middle;\n",
       "    }\n",
       "\n",
       "    .dataframe tbody tr th {\n",
       "        vertical-align: top;\n",
       "    }\n",
       "\n",
       "    .dataframe thead th {\n",
       "        text-align: right;\n",
       "    }\n",
       "</style>\n",
       "<table border=\"1\" class=\"dataframe\">\n",
       "  <thead>\n",
       "    <tr style=\"text-align: right;\">\n",
       "      <th></th>\n",
       "      <th>Unnamed: 0</th>\n",
       "      <th>year</th>\n",
       "      <th>cluster_reference</th>\n",
       "      <th>cluster_doy</th>\n",
       "      <th>doy_count</th>\n",
       "      <th>centerpoint_doy</th>\n",
       "      <th>longitude</th>\n",
       "      <th>latitude</th>\n",
       "    </tr>\n",
       "  </thead>\n",
       "  <tbody>\n",
       "    <tr>\n",
       "      <td>0</td>\n",
       "      <td>0</td>\n",
       "      <td>2003</td>\n",
       "      <td>2003_0</td>\n",
       "      <td>95</td>\n",
       "      <td>2</td>\n",
       "      <td>131.0</td>\n",
       "      <td>-80.686</td>\n",
       "      <td>25.4148</td>\n",
       "    </tr>\n",
       "    <tr>\n",
       "      <td>1</td>\n",
       "      <td>1</td>\n",
       "      <td>2003</td>\n",
       "      <td>2003_0</td>\n",
       "      <td>97</td>\n",
       "      <td>7</td>\n",
       "      <td>131.0</td>\n",
       "      <td>-80.686</td>\n",
       "      <td>25.4148</td>\n",
       "    </tr>\n",
       "    <tr>\n",
       "      <td>2</td>\n",
       "      <td>318540</td>\n",
       "      <td>2003</td>\n",
       "      <td>2003_0</td>\n",
       "      <td>98</td>\n",
       "      <td>6</td>\n",
       "      <td>131.0</td>\n",
       "      <td>-80.686</td>\n",
       "      <td>25.4148</td>\n",
       "    </tr>\n",
       "    <tr>\n",
       "      <td>3</td>\n",
       "      <td>2</td>\n",
       "      <td>2003</td>\n",
       "      <td>2003_0</td>\n",
       "      <td>98</td>\n",
       "      <td>5</td>\n",
       "      <td>131.0</td>\n",
       "      <td>-80.686</td>\n",
       "      <td>25.4148</td>\n",
       "    </tr>\n",
       "    <tr>\n",
       "      <td>4</td>\n",
       "      <td>3</td>\n",
       "      <td>2003</td>\n",
       "      <td>2003_0</td>\n",
       "      <td>99</td>\n",
       "      <td>1</td>\n",
       "      <td>131.0</td>\n",
       "      <td>-80.686</td>\n",
       "      <td>25.4148</td>\n",
       "    </tr>\n",
       "  </tbody>\n",
       "</table>\n",
       "</div>"
      ],
      "text/plain": [
       "   Unnamed: 0  year cluster_reference  cluster_doy  doy_count  \\\n",
       "0           0  2003            2003_0           95          2   \n",
       "1           1  2003            2003_0           97          7   \n",
       "2      318540  2003            2003_0           98          6   \n",
       "3           2  2003            2003_0           98          5   \n",
       "4           3  2003            2003_0           99          1   \n",
       "\n",
       "   centerpoint_doy  longitude  latitude  \n",
       "0            131.0    -80.686   25.4148  \n",
       "1            131.0    -80.686   25.4148  \n",
       "2            131.0    -80.686   25.4148  \n",
       "3            131.0    -80.686   25.4148  \n",
       "4            131.0    -80.686   25.4148  "
      ]
     },
     "execution_count": 3,
     "metadata": {},
     "output_type": "execute_result"
    }
   ],
   "source": [
    "# Use Pandas to view the first 5 rows of the file\n",
    "comdata.head(5)"
   ]
  },
  {
   "cell_type": "code",
   "execution_count": 4,
   "metadata": {},
   "outputs": [
    {
     "name": "stdout",
     "output_type": "stream",
     "text": [
      "<class 'pandas.core.frame.DataFrame'>\n",
      "RangeIndex: 727866 entries, 0 to 727865\n",
      "Data columns (total 8 columns):\n",
      "Unnamed: 0           727866 non-null int64\n",
      "year                 727866 non-null int64\n",
      "cluster_reference    727866 non-null object\n",
      "cluster_doy          727866 non-null int64\n",
      "doy_count            727866 non-null int64\n",
      "centerpoint_doy      727866 non-null float64\n",
      "longitude            727866 non-null float64\n",
      "latitude             727866 non-null float64\n",
      "dtypes: float64(3), int64(4), object(1)\n",
      "memory usage: 44.4+ MB\n"
     ]
    }
   ],
   "source": [
    "# What are the dtypes of the columns\n",
    "comdata.info() "
   ]
  },
  {
   "cell_type": "code",
   "execution_count": 5,
   "metadata": {},
   "outputs": [
    {
     "data": {
      "text/plain": [
       "(727866, 8)"
      ]
     },
     "execution_count": 5,
     "metadata": {},
     "output_type": "execute_result"
    }
   ],
   "source": [
    "# How many rows and columns is the dataset?\n",
    "comdata.shape"
   ]
  },
  {
   "cell_type": "code",
   "execution_count": 6,
   "metadata": {},
   "outputs": [
    {
     "name": "stdout",
     "output_type": "stream",
     "text": [
      "727866 instances with 8 features\n",
      "\n"
     ]
    }
   ],
   "source": [
    "# Determine the shape of the data\n",
    "print(\"{} instances with {} features\\n\".format(*comdata.shape))"
   ]
  },
  {
   "cell_type": "code",
   "execution_count": 7,
   "metadata": {},
   "outputs": [
    {
     "name": "stdout",
     "output_type": "stream",
     "text": [
      "[2003 2004 2005 2006 2007 2008 2009 2010 2011 2012 2013 2014 2015]\n"
     ]
    }
   ],
   "source": [
    "# Checking to see that all years were combined to file\n",
    "print(comdata['year'].unique())"
   ]
  },
  {
   "cell_type": "code",
   "execution_count": 8,
   "metadata": {},
   "outputs": [
    {
     "data": {
      "text/plain": [
       "Unnamed: 0           0\n",
       "year                 0\n",
       "cluster_reference    0\n",
       "cluster_doy          0\n",
       "doy_count            0\n",
       "centerpoint_doy      0\n",
       "longitude            0\n",
       "latitude             0\n",
       "dtype: int64"
      ]
     },
     "execution_count": 8,
     "metadata": {},
     "output_type": "execute_result"
    }
   ],
   "source": [
    "# Checking for null values\n",
    "comdata.isnull().sum()"
   ]
  },
  {
   "cell_type": "code",
   "execution_count": 9,
   "metadata": {},
   "outputs": [
    {
     "data": {
      "text/html": [
       "<div>\n",
       "<style scoped>\n",
       "    .dataframe tbody tr th:only-of-type {\n",
       "        vertical-align: middle;\n",
       "    }\n",
       "\n",
       "    .dataframe tbody tr th {\n",
       "        vertical-align: top;\n",
       "    }\n",
       "\n",
       "    .dataframe thead th {\n",
       "        text-align: right;\n",
       "    }\n",
       "</style>\n",
       "<table border=\"1\" class=\"dataframe\">\n",
       "  <thead>\n",
       "    <tr style=\"text-align: right;\">\n",
       "      <th></th>\n",
       "      <th>Unnamed: 0</th>\n",
       "      <th>year</th>\n",
       "      <th>cluster_doy</th>\n",
       "      <th>doy_count</th>\n",
       "      <th>centerpoint_doy</th>\n",
       "      <th>longitude</th>\n",
       "      <th>latitude</th>\n",
       "    </tr>\n",
       "  </thead>\n",
       "  <tbody>\n",
       "    <tr>\n",
       "      <td>count</td>\n",
       "      <td>727866.000000</td>\n",
       "      <td>727866.000000</td>\n",
       "      <td>727866.000000</td>\n",
       "      <td>727866.000000</td>\n",
       "      <td>727866.000000</td>\n",
       "      <td>727866.000000</td>\n",
       "      <td>727866.000000</td>\n",
       "    </tr>\n",
       "    <tr>\n",
       "      <td>mean</td>\n",
       "      <td>363932.500000</td>\n",
       "      <td>2008.886247</td>\n",
       "      <td>168.364721</td>\n",
       "      <td>10.002877</td>\n",
       "      <td>164.957429</td>\n",
       "      <td>-95.314507</td>\n",
       "      <td>35.566678</td>\n",
       "    </tr>\n",
       "    <tr>\n",
       "      <td>std</td>\n",
       "      <td>210116.959855</td>\n",
       "      <td>3.636636</td>\n",
       "      <td>96.595154</td>\n",
       "      <td>108.917104</td>\n",
       "      <td>95.936705</td>\n",
       "      <td>12.220371</td>\n",
       "      <td>5.254635</td>\n",
       "    </tr>\n",
       "    <tr>\n",
       "      <td>min</td>\n",
       "      <td>0.000000</td>\n",
       "      <td>2003.000000</td>\n",
       "      <td>0.000000</td>\n",
       "      <td>1.000000</td>\n",
       "      <td>0.000000</td>\n",
       "      <td>-124.654200</td>\n",
       "      <td>24.680100</td>\n",
       "    </tr>\n",
       "    <tr>\n",
       "      <td>25%</td>\n",
       "      <td>181966.250000</td>\n",
       "      <td>2006.000000</td>\n",
       "      <td>84.000000</td>\n",
       "      <td>1.000000</td>\n",
       "      <td>82.000000</td>\n",
       "      <td>-101.050800</td>\n",
       "      <td>31.685600</td>\n",
       "    </tr>\n",
       "    <tr>\n",
       "      <td>50%</td>\n",
       "      <td>363932.500000</td>\n",
       "      <td>2009.000000</td>\n",
       "      <td>158.000000</td>\n",
       "      <td>2.000000</td>\n",
       "      <td>151.000000</td>\n",
       "      <td>-93.669400</td>\n",
       "      <td>34.534500</td>\n",
       "    </tr>\n",
       "    <tr>\n",
       "      <td>75%</td>\n",
       "      <td>545898.750000</td>\n",
       "      <td>2012.000000</td>\n",
       "      <td>251.000000</td>\n",
       "      <td>4.000000</td>\n",
       "      <td>246.000000</td>\n",
       "      <td>-85.118400</td>\n",
       "      <td>38.131300</td>\n",
       "    </tr>\n",
       "    <tr>\n",
       "      <td>max</td>\n",
       "      <td>727865.000000</td>\n",
       "      <td>2015.000000</td>\n",
       "      <td>366.000000</td>\n",
       "      <td>25906.000000</td>\n",
       "      <td>366.000000</td>\n",
       "      <td>-67.012400</td>\n",
       "      <td>49.000400</td>\n",
       "    </tr>\n",
       "  </tbody>\n",
       "</table>\n",
       "</div>"
      ],
      "text/plain": [
       "          Unnamed: 0           year    cluster_doy      doy_count  \\\n",
       "count  727866.000000  727866.000000  727866.000000  727866.000000   \n",
       "mean   363932.500000    2008.886247     168.364721      10.002877   \n",
       "std    210116.959855       3.636636      96.595154     108.917104   \n",
       "min         0.000000    2003.000000       0.000000       1.000000   \n",
       "25%    181966.250000    2006.000000      84.000000       1.000000   \n",
       "50%    363932.500000    2009.000000     158.000000       2.000000   \n",
       "75%    545898.750000    2012.000000     251.000000       4.000000   \n",
       "max    727865.000000    2015.000000     366.000000   25906.000000   \n",
       "\n",
       "       centerpoint_doy      longitude       latitude  \n",
       "count    727866.000000  727866.000000  727866.000000  \n",
       "mean        164.957429     -95.314507      35.566678  \n",
       "std          95.936705      12.220371       5.254635  \n",
       "min           0.000000    -124.654200      24.680100  \n",
       "25%          82.000000    -101.050800      31.685600  \n",
       "50%         151.000000     -93.669400      34.534500  \n",
       "75%         246.000000     -85.118400      38.131300  \n",
       "max         366.000000     -67.012400      49.000400  "
      ]
     },
     "execution_count": 9,
     "metadata": {},
     "output_type": "execute_result"
    }
   ],
   "source": [
    "# Use Pandas to get the summary statistics on the data\n",
    "comdata.describe()"
   ]
  },
  {
   "cell_type": "code",
   "execution_count": 10,
   "metadata": {},
   "outputs": [
    {
     "data": {
      "text/html": [
       "<div>\n",
       "<style scoped>\n",
       "    .dataframe tbody tr th:only-of-type {\n",
       "        vertical-align: middle;\n",
       "    }\n",
       "\n",
       "    .dataframe tbody tr th {\n",
       "        vertical-align: top;\n",
       "    }\n",
       "\n",
       "    .dataframe thead th {\n",
       "        text-align: right;\n",
       "    }\n",
       "</style>\n",
       "<table border=\"1\" class=\"dataframe\">\n",
       "  <thead>\n",
       "    <tr style=\"text-align: right;\">\n",
       "      <th></th>\n",
       "      <th>Unnamed: 0</th>\n",
       "      <th>year</th>\n",
       "      <th>cluster_reference</th>\n",
       "      <th>cluster_doy</th>\n",
       "      <th>doy_count</th>\n",
       "      <th>centerpoint_doy</th>\n",
       "      <th>longitude</th>\n",
       "      <th>latitude</th>\n",
       "    </tr>\n",
       "  </thead>\n",
       "  <tbody>\n",
       "    <tr>\n",
       "      <td>293997</td>\n",
       "      <td>128949</td>\n",
       "      <td>2008</td>\n",
       "      <td>2008_120</td>\n",
       "      <td>366</td>\n",
       "      <td>1</td>\n",
       "      <td>335.0</td>\n",
       "      <td>-84.9303</td>\n",
       "      <td>29.8725</td>\n",
       "    </tr>\n",
       "    <tr>\n",
       "      <td>74135</td>\n",
       "      <td>26959</td>\n",
       "      <td>2004</td>\n",
       "      <td>2004_390</td>\n",
       "      <td>366</td>\n",
       "      <td>1</td>\n",
       "      <td>1.0</td>\n",
       "      <td>-113.3165</td>\n",
       "      <td>37.3900</td>\n",
       "    </tr>\n",
       "    <tr>\n",
       "      <td>343960</td>\n",
       "      <td>153513</td>\n",
       "      <td>2008</td>\n",
       "      <td>2008_7125</td>\n",
       "      <td>366</td>\n",
       "      <td>3</td>\n",
       "      <td>359.0</td>\n",
       "      <td>-100.6687</td>\n",
       "      <td>35.7764</td>\n",
       "    </tr>\n",
       "    <tr>\n",
       "      <td>75282</td>\n",
       "      <td>366430</td>\n",
       "      <td>2004</td>\n",
       "      <td>2004_4087</td>\n",
       "      <td>366</td>\n",
       "      <td>1</td>\n",
       "      <td>356.0</td>\n",
       "      <td>-95.6720</td>\n",
       "      <td>34.3362</td>\n",
       "    </tr>\n",
       "    <tr>\n",
       "      <td>65168</td>\n",
       "      <td>23490</td>\n",
       "      <td>2004</td>\n",
       "      <td>2004_246</td>\n",
       "      <td>366</td>\n",
       "      <td>3</td>\n",
       "      <td>245.0</td>\n",
       "      <td>-109.2003</td>\n",
       "      <td>40.7759</td>\n",
       "    </tr>\n",
       "    <tr>\n",
       "      <td>334028</td>\n",
       "      <td>148812</td>\n",
       "      <td>2008</td>\n",
       "      <td>2008_5651</td>\n",
       "      <td>366</td>\n",
       "      <td>1</td>\n",
       "      <td>365.0</td>\n",
       "      <td>-98.7906</td>\n",
       "      <td>33.5231</td>\n",
       "    </tr>\n",
       "    <tr>\n",
       "      <td>75291</td>\n",
       "      <td>27398</td>\n",
       "      <td>2004</td>\n",
       "      <td>2004_409</td>\n",
       "      <td>366</td>\n",
       "      <td>2</td>\n",
       "      <td>366.0</td>\n",
       "      <td>-112.9046</td>\n",
       "      <td>38.1195</td>\n",
       "    </tr>\n",
       "    <tr>\n",
       "      <td>329691</td>\n",
       "      <td>146666</td>\n",
       "      <td>2008</td>\n",
       "      <td>2008_5123</td>\n",
       "      <td>366</td>\n",
       "      <td>1</td>\n",
       "      <td>8.0</td>\n",
       "      <td>-98.0716</td>\n",
       "      <td>32.7789</td>\n",
       "    </tr>\n",
       "    <tr>\n",
       "      <td>80708</td>\n",
       "      <td>29800</td>\n",
       "      <td>2004</td>\n",
       "      <td>2004_5129</td>\n",
       "      <td>366</td>\n",
       "      <td>2</td>\n",
       "      <td>71.0</td>\n",
       "      <td>-94.8601</td>\n",
       "      <td>36.2880</td>\n",
       "    </tr>\n",
       "    <tr>\n",
       "      <td>315789</td>\n",
       "      <td>495136</td>\n",
       "      <td>2008</td>\n",
       "      <td>2008_3357</td>\n",
       "      <td>366</td>\n",
       "      <td>2</td>\n",
       "      <td>358.0</td>\n",
       "      <td>-92.9880</td>\n",
       "      <td>30.4731</td>\n",
       "    </tr>\n",
       "  </tbody>\n",
       "</table>\n",
       "</div>"
      ],
      "text/plain": [
       "        Unnamed: 0  year cluster_reference  cluster_doy  doy_count  \\\n",
       "293997      128949  2008          2008_120          366          1   \n",
       "74135        26959  2004          2004_390          366          1   \n",
       "343960      153513  2008         2008_7125          366          3   \n",
       "75282       366430  2004         2004_4087          366          1   \n",
       "65168        23490  2004          2004_246          366          3   \n",
       "334028      148812  2008         2008_5651          366          1   \n",
       "75291        27398  2004          2004_409          366          2   \n",
       "329691      146666  2008         2008_5123          366          1   \n",
       "80708        29800  2004         2004_5129          366          2   \n",
       "315789      495136  2008         2008_3357          366          2   \n",
       "\n",
       "        centerpoint_doy  longitude  latitude  \n",
       "293997            335.0   -84.9303   29.8725  \n",
       "74135               1.0  -113.3165   37.3900  \n",
       "343960            359.0  -100.6687   35.7764  \n",
       "75282             356.0   -95.6720   34.3362  \n",
       "65168             245.0  -109.2003   40.7759  \n",
       "334028            365.0   -98.7906   33.5231  \n",
       "75291             366.0  -112.9046   38.1195  \n",
       "329691              8.0   -98.0716   32.7789  \n",
       "80708              71.0   -94.8601   36.2880  \n",
       "315789            358.0   -92.9880   30.4731  "
      ]
     },
     "execution_count": 10,
     "metadata": {},
     "output_type": "execute_result"
    }
   ],
   "source": [
    "# What are the top cluster counts towards end of year?\n",
    "comdata.sort_values(by='cluster_doy', ascending=False).head(10)"
   ]
  },
  {
   "cell_type": "code",
   "execution_count": 11,
   "metadata": {},
   "outputs": [
    {
     "data": {
      "text/html": [
       "<div>\n",
       "<style scoped>\n",
       "    .dataframe tbody tr th:only-of-type {\n",
       "        vertical-align: middle;\n",
       "    }\n",
       "\n",
       "    .dataframe tbody tr th {\n",
       "        vertical-align: top;\n",
       "    }\n",
       "\n",
       "    .dataframe thead th {\n",
       "        text-align: right;\n",
       "    }\n",
       "</style>\n",
       "<table border=\"1\" class=\"dataframe\">\n",
       "  <thead>\n",
       "    <tr style=\"text-align: right;\">\n",
       "      <th></th>\n",
       "      <th>Unnamed: 0</th>\n",
       "      <th>year</th>\n",
       "      <th>cluster_reference</th>\n",
       "      <th>cluster_doy</th>\n",
       "      <th>doy_count</th>\n",
       "      <th>centerpoint_doy</th>\n",
       "      <th>longitude</th>\n",
       "      <th>latitude</th>\n",
       "    </tr>\n",
       "  </thead>\n",
       "  <tbody>\n",
       "    <tr>\n",
       "      <td>46179</td>\n",
       "      <td>16705</td>\n",
       "      <td>2003</td>\n",
       "      <td>2003_682</td>\n",
       "      <td>0</td>\n",
       "      <td>2</td>\n",
       "      <td>0.0</td>\n",
       "      <td>-104.6422</td>\n",
       "      <td>44.8383</td>\n",
       "    </tr>\n",
       "    <tr>\n",
       "      <td>73568</td>\n",
       "      <td>26720</td>\n",
       "      <td>2004</td>\n",
       "      <td>2004_380</td>\n",
       "      <td>0</td>\n",
       "      <td>7</td>\n",
       "      <td>0.0</td>\n",
       "      <td>-113.8833</td>\n",
       "      <td>37.1092</td>\n",
       "    </tr>\n",
       "    <tr>\n",
       "      <td>73010</td>\n",
       "      <td>26461</td>\n",
       "      <td>2004</td>\n",
       "      <td>2004_371</td>\n",
       "      <td>0</td>\n",
       "      <td>3</td>\n",
       "      <td>0.0</td>\n",
       "      <td>-114.0151</td>\n",
       "      <td>36.6305</td>\n",
       "    </tr>\n",
       "    <tr>\n",
       "      <td>45960</td>\n",
       "      <td>16537</td>\n",
       "      <td>2003</td>\n",
       "      <td>2003_662</td>\n",
       "      <td>0</td>\n",
       "      <td>3</td>\n",
       "      <td>2.0</td>\n",
       "      <td>-106.3383</td>\n",
       "      <td>44.3182</td>\n",
       "    </tr>\n",
       "    <tr>\n",
       "      <td>45876</td>\n",
       "      <td>16484</td>\n",
       "      <td>2003</td>\n",
       "      <td>2003_649</td>\n",
       "      <td>0</td>\n",
       "      <td>1</td>\n",
       "      <td>0.0</td>\n",
       "      <td>-106.8264</td>\n",
       "      <td>43.9497</td>\n",
       "    </tr>\n",
       "    <tr>\n",
       "      <td>45908</td>\n",
       "      <td>16515</td>\n",
       "      <td>2003</td>\n",
       "      <td>2003_651</td>\n",
       "      <td>0</td>\n",
       "      <td>3</td>\n",
       "      <td>3.0</td>\n",
       "      <td>-105.8544</td>\n",
       "      <td>44.0776</td>\n",
       "    </tr>\n",
       "    <tr>\n",
       "      <td>45778</td>\n",
       "      <td>16417</td>\n",
       "      <td>2003</td>\n",
       "      <td>2003_637</td>\n",
       "      <td>0</td>\n",
       "      <td>3</td>\n",
       "      <td>226.0</td>\n",
       "      <td>-107.7585</td>\n",
       "      <td>43.6686</td>\n",
       "    </tr>\n",
       "    <tr>\n",
       "      <td>72650</td>\n",
       "      <td>26320</td>\n",
       "      <td>2004</td>\n",
       "      <td>2004_365</td>\n",
       "      <td>0</td>\n",
       "      <td>2</td>\n",
       "      <td>0.0</td>\n",
       "      <td>-113.3559</td>\n",
       "      <td>36.5130</td>\n",
       "    </tr>\n",
       "    <tr>\n",
       "      <td>73125</td>\n",
       "      <td>26507</td>\n",
       "      <td>2004</td>\n",
       "      <td>2004_373</td>\n",
       "      <td>0</td>\n",
       "      <td>1</td>\n",
       "      <td>0.0</td>\n",
       "      <td>-113.7752</td>\n",
       "      <td>36.8642</td>\n",
       "    </tr>\n",
       "    <tr>\n",
       "      <td>173678</td>\n",
       "      <td>71524</td>\n",
       "      <td>2006</td>\n",
       "      <td>2006_1637</td>\n",
       "      <td>1</td>\n",
       "      <td>2</td>\n",
       "      <td>2.0</td>\n",
       "      <td>-111.5723</td>\n",
       "      <td>42.1713</td>\n",
       "    </tr>\n",
       "  </tbody>\n",
       "</table>\n",
       "</div>"
      ],
      "text/plain": [
       "        Unnamed: 0  year cluster_reference  cluster_doy  doy_count  \\\n",
       "46179        16705  2003          2003_682            0          2   \n",
       "73568        26720  2004          2004_380            0          7   \n",
       "73010        26461  2004          2004_371            0          3   \n",
       "45960        16537  2003          2003_662            0          3   \n",
       "45876        16484  2003          2003_649            0          1   \n",
       "45908        16515  2003          2003_651            0          3   \n",
       "45778        16417  2003          2003_637            0          3   \n",
       "72650        26320  2004          2004_365            0          2   \n",
       "73125        26507  2004          2004_373            0          1   \n",
       "173678       71524  2006         2006_1637            1          2   \n",
       "\n",
       "        centerpoint_doy  longitude  latitude  \n",
       "46179               0.0  -104.6422   44.8383  \n",
       "73568               0.0  -113.8833   37.1092  \n",
       "73010               0.0  -114.0151   36.6305  \n",
       "45960               2.0  -106.3383   44.3182  \n",
       "45876               0.0  -106.8264   43.9497  \n",
       "45908               3.0  -105.8544   44.0776  \n",
       "45778             226.0  -107.7585   43.6686  \n",
       "72650               0.0  -113.3559   36.5130  \n",
       "73125               0.0  -113.7752   36.8642  \n",
       "173678              2.0  -111.5723   42.1713  "
      ]
     },
     "execution_count": 11,
     "metadata": {},
     "output_type": "execute_result"
    }
   ],
   "source": [
    "# What are the minimum cluster counts beginning of year?\n",
    "comdata.sort_values(by='cluster_doy', ascending=True).head(10)"
   ]
  },
  {
   "cell_type": "code",
   "execution_count": 12,
   "metadata": {},
   "outputs": [
    {
     "data": {
      "image/png": "[encoded data removed]",
      "text/plain": [
       "<Figure size 432x288 with 1 Axes>"
      ]
     },
     "metadata": {
      "needs_background": "light"
     },
     "output_type": "display_data"
    }
   ],
   "source": [
    "# Visualize the cluster_reference distribution by year\n",
    "fig, ax = plt.subplots()\n",
    "ax.hist(comdata['year'], bins=10, range = (comdata['year'].min(),comdata['year'].max()))\n",
    "plt.title('Fire Calendar Year')\n",
    "plt.xlabel('cluster maximum per year')\n",
    "plt.ylabel('cluster numbers')\n",
    "plt.show()"
   ]
  },
  {
   "cell_type": "code",
   "execution_count": 13,
   "metadata": {},
   "outputs": [
    {
     "data": {
      "text/html": [
       "<div>\n",
       "<style scoped>\n",
       "    .dataframe tbody tr th:only-of-type {\n",
       "        vertical-align: middle;\n",
       "    }\n",
       "\n",
       "    .dataframe tbody tr th {\n",
       "        vertical-align: top;\n",
       "    }\n",
       "\n",
       "    .dataframe thead th {\n",
       "        text-align: right;\n",
       "    }\n",
       "</style>\n",
       "<table border=\"1\" class=\"dataframe\">\n",
       "  <thead>\n",
       "    <tr style=\"text-align: right;\">\n",
       "      <th></th>\n",
       "      <th>Unnamed: 0</th>\n",
       "      <th>year</th>\n",
       "      <th>cluster_reference</th>\n",
       "      <th>cluster_doy</th>\n",
       "      <th>doy_count</th>\n",
       "      <th>centerpoint_doy</th>\n",
       "      <th>longitude</th>\n",
       "      <th>latitude</th>\n",
       "    </tr>\n",
       "  </thead>\n",
       "  <tbody>\n",
       "    <tr>\n",
       "      <td>671709</td>\n",
       "      <td>697274</td>\n",
       "      <td>2015</td>\n",
       "      <td>2015_0</td>\n",
       "      <td>200</td>\n",
       "      <td>8</td>\n",
       "      <td>203.0</td>\n",
       "      <td>-124.5838</td>\n",
       "      <td>48.3398</td>\n",
       "    </tr>\n",
       "  </tbody>\n",
       "</table>\n",
       "</div>"
      ],
      "text/plain": [
       "        Unnamed: 0  year cluster_reference  cluster_doy  doy_count  \\\n",
       "671709      697274  2015            2015_0          200          8   \n",
       "\n",
       "        centerpoint_doy  longitude  latitude  \n",
       "671709            203.0  -124.5838   48.3398  "
      ]
     },
     "execution_count": 13,
     "metadata": {},
     "output_type": "execute_result"
    }
   ],
   "source": [
    "# Creating a variable to toggle/limit the dataset to one year within the boundaries of CONUS\n",
    "comdata2015 = comdata[(comdata.year == 2015) & (comdata.latitude > 25) & (comdata.longitude < -67)]\n",
    "comdata2015[1:2]"
   ]
  },
  {
   "cell_type": "code",
   "execution_count": 14,
   "metadata": {},
   "outputs": [
    {
     "data": {
      "text/plain": [
       "(56158, 8)"
      ]
     },
     "execution_count": 14,
     "metadata": {},
     "output_type": "execute_result"
    }
   ],
   "source": [
    "# Checking data shape for variable year of 2015 and CONUS\n",
    "comdata2015.shape"
   ]
  },
  {
   "cell_type": "code",
   "execution_count": 15,
   "metadata": {},
   "outputs": [
    {
     "data": {
      "image/png": "[encoded data removed]",
      "text/plain": [
       "<Figure size 432x288 with 1 Axes>"
      ]
     },
     "metadata": {
      "needs_background": "light"
     },
     "output_type": "display_data"
    }
   ],
   "source": [
    "# Using comdata2015 for geographical depiction of fire clusters within CONUS\n",
    "comdata2015.plot(kind=\"scatter\", x=\"longitude\", y=\"latitude\", alpha=0.1)\n",
    "plt.show()"
   ]
  },
  {
   "cell_type": "code",
   "execution_count": 16,
   "metadata": {},
   "outputs": [
    {
     "data": {
      "text/html": [
       "<div>\n",
       "<style scoped>\n",
       "    .dataframe tbody tr th:only-of-type {\n",
       "        vertical-align: middle;\n",
       "    }\n",
       "\n",
       "    .dataframe tbody tr th {\n",
       "        vertical-align: top;\n",
       "    }\n",
       "\n",
       "    .dataframe thead th {\n",
       "        text-align: right;\n",
       "    }\n",
       "</style>\n",
       "<table border=\"1\" class=\"dataframe\">\n",
       "  <thead>\n",
       "    <tr style=\"text-align: right;\">\n",
       "      <th></th>\n",
       "      <th>Unnamed: 0</th>\n",
       "      <th>year</th>\n",
       "      <th>cluster_reference</th>\n",
       "      <th>cluster_doy</th>\n",
       "      <th>doy_count</th>\n",
       "      <th>centerpoint_doy</th>\n",
       "      <th>longitude</th>\n",
       "      <th>latitude</th>\n",
       "    </tr>\n",
       "  </thead>\n",
       "  <tbody>\n",
       "    <tr>\n",
       "      <td>671709</td>\n",
       "      <td>697274</td>\n",
       "      <td>2015</td>\n",
       "      <td>2015_0</td>\n",
       "      <td>200</td>\n",
       "      <td>8</td>\n",
       "      <td>203.0</td>\n",
       "      <td>-124.5838</td>\n",
       "      <td>48.3398</td>\n",
       "    </tr>\n",
       "  </tbody>\n",
       "</table>\n",
       "</div>"
      ],
      "text/plain": [
       "        Unnamed: 0  year cluster_reference  cluster_doy  doy_count  \\\n",
       "671709      697274  2015            2015_0          200          8   \n",
       "\n",
       "        centerpoint_doy  longitude  latitude  \n",
       "671709            203.0  -124.5838   48.3398  "
      ]
     },
     "execution_count": 16,
     "metadata": {},
     "output_type": "execute_result"
    }
   ],
   "source": [
    "# Creating a variable to toggle/limit the dataset to one year within the boundaries of California \n",
    "comdata2015_ca = comdata[(comdata.year == 2015) & (comdata.latitude > 34) & (comdata.longitude < -114)]\n",
    "comdata2015_ca[1:2]"
   ]
  },
  {
   "cell_type": "code",
   "execution_count": 17,
   "metadata": {},
   "outputs": [
    {
     "data": {
      "text/plain": [
       "(8220, 8)"
      ]
     },
     "execution_count": 17,
     "metadata": {},
     "output_type": "execute_result"
    }
   ],
   "source": [
    "# Checking data shape for variable year of 2015 and for state of CA\n",
    "comdata2015_ca.shape"
   ]
  },
  {
   "cell_type": "code",
   "execution_count": 18,
   "metadata": {},
   "outputs": [
    {
     "data": {
      "image/png": "[encoded data removed]",
      "text/plain": [
       "<Figure size 720x504 with 1 Axes>"
      ]
     },
     "metadata": {
      "needs_background": "light"
     },
     "output_type": "display_data"
    }
   ],
   "source": [
    "# California Fire Distribution Map\n",
    "import matplotlib.image as mpimg\n",
    "california_img=mpimg.imread('CaliforniaMapOutline.gif')\n",
    "comdata2015_ca.plot(kind=\"scatter\", x=\"longitude\", y=\"latitude\", c= \"red\", figsize=(10,7), alpha=0.1)\n",
    "plt.imshow(california_img, extent=[-124.55, -113.80, 32.45, 42.05], alpha=0.1)\n",
    "plt.title('California Fire Cluster Distribution') \n",
    "plt.show()"
   ]
  },
  {
   "cell_type": "code",
   "execution_count": null,
   "metadata": {},
   "outputs": [],
   "source": []
  }
 ],
 "metadata": {
  "kernelspec": {
   "display_name": "Python 3",
   "language": "python",
   "name": "python3"
  },
  "language_info": {
   "codemirror_mode": {
    "name": "ipython",
    "version": 3
   },
   "file_extension": ".py",
   "mimetype": "text/x-python",
   "name": "python",
   "nbconvert_exporter": "python",
   "pygments_lexer": "ipython3",
   "version": "3.7.4"
  }
 },
 "nbformat": 4,
 "nbformat_minor": 2
}

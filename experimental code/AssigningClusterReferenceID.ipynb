{
 "cells": [
  {
   "cell_type": "markdown",
   "metadata": {},
   "source": [
    "# Notebook for Assigning Cluster Reference ID and Reviewing for Duplicates"
   ]
  },
  {
   "cell_type": "code",
   "execution_count": 5,
   "metadata": {},
   "outputs": [],
   "source": [
    "import pandas as pd\n",
    "import numpy as np\n",
    "from geopy.distance import great_circle\n",
    "import math\n",
    "import seaborn as sns\n",
    "from scipy import spatial\n",
    "import matplotlib.pyplot as plt\n",
    "import datetime"
   ]
  },
  {
   "cell_type": "markdown",
   "metadata": {},
   "source": [
    "## One-Time - Combining Cluster Point CSVs:"
   ]
  },
  {
   "cell_type": "markdown",
   "metadata": {},
   "source": [
    "#Combine all csv's in a directory, into a new file.\n",
    "import os \n",
    "import glob \n",
    "import pandas as pd \n",
    "\n",
    "os.chdir('/Users/AlfHaugen/Python/Wildfire_Data/FireExports/Emissions Cluster Data/EmissionClusterPoints')\n",
    "\n",
    "extension = 'csv' \n",
    "all_filenames = [i for i in glob.glob('*.{}'.format(extension))]\n",
    "\n",
    "#combine all files in the list \n",
    "clusterpoints_03_15_v2 = pd.concat([pd.read_csv(f) for f in all_filenames ])\n",
    "\n",
    "###export to csv \n",
    "clusterpoints_03_15_v2.to_csv( \"clusterpoints_03_15_v2.csv\", index=False, encoding='utf-8-sig')\n"
   ]
  },
  {
   "cell_type": "markdown",
   "metadata": {},
   "source": [
    "## Load related DataFrames: Fire Cluster Center Points, Cluster Points and 1.88m Fire Records:"
   ]
  },
  {
   "cell_type": "code",
   "execution_count": 6,
   "metadata": {},
   "outputs": [],
   "source": [
    "# Expanding number of columns:\n",
    "pd.set_option('display.max_columns', 40)"
   ]
  },
  {
   "cell_type": "code",
   "execution_count": null,
   "metadata": {},
   "outputs": [],
   "source": [
    "# Loading 1.88m fire record table:\n",
    "usdafiredb_onemil = pd.read_csv('/Users/AlfHaugen/Python/Wildfire_Data/1_188m_USDA Fire Database/Fire_Program_Analysis__Fire_Occurrence_Database_Feature_Layer.csv')"
   ]
  },
  {
   "cell_type": "code",
   "execution_count": 7,
   "metadata": {},
   "outputs": [],
   "source": [
    "FireCenterPoints = pd.read_csv('/Users/AlfHaugen/Python/Wildfire_Data/FireExports/Emissions Cluster Data/centerpoints_03_15_v2.csv')"
   ]
  },
  {
   "cell_type": "code",
   "execution_count": 8,
   "metadata": {},
   "outputs": [],
   "source": [
    "emdata_0315 = pd.read_csv('/Users/AlfHaugen/Python/Wildfire_Data/9 Missoula Emisions Data RDS-2017-0039/Emissions_Year/emissions_2003to2015_cleanv1.csv')"
   ]
  },
  {
   "cell_type": "code",
   "execution_count": 38,
   "metadata": {},
   "outputs": [],
   "source": [
    "ClusterPoints = pd.read_csv('/Users/AlfHaugen/Python/Wildfire_Data/FireExports/Emissions Cluster Data/clusterpoints_03_15_v2.csv', encoding='utf-8')"
   ]
  },
  {
   "cell_type": "markdown",
   "metadata": {},
   "source": [
    "## Emissions Data"
   ]
  },
  {
   "cell_type": "code",
   "execution_count": null,
   "metadata": {},
   "outputs": [],
   "source": [
    "emdata_0315.head(2)"
   ]
  },
  {
   "cell_type": "code",
   "execution_count": null,
   "metadata": {},
   "outputs": [],
   "source": [
    "emdata_20xx = emdata_0315[emdata_0315.year == 2004]\n",
    "emdata_20xx.head(2)"
   ]
  },
  {
   "cell_type": "markdown",
   "metadata": {},
   "source": [
    "## Fire Cluster Points Data:"
   ]
  },
  {
   "cell_type": "code",
   "execution_count": 10,
   "metadata": {},
   "outputs": [
    {
     "name": "stdout",
     "output_type": "stream",
     "text": [
      "(5960572, 5)\n"
     ]
    },
    {
     "data": {
      "text/html": [
       "<div>\n",
       "<style scoped>\n",
       "    .dataframe tbody tr th:only-of-type {\n",
       "        vertical-align: middle;\n",
       "    }\n",
       "\n",
       "    .dataframe tbody tr th {\n",
       "        vertical-align: top;\n",
       "    }\n",
       "\n",
       "    .dataframe thead th {\n",
       "        text-align: right;\n",
       "    }\n",
       "</style>\n",
       "<table border=\"1\" class=\"dataframe\">\n",
       "  <thead>\n",
       "    <tr style=\"text-align: right;\">\n",
       "      <th></th>\n",
       "      <th>Unnamed: 0</th>\n",
       "      <th>0</th>\n",
       "      <th>1</th>\n",
       "      <th>ClusterNum</th>\n",
       "      <th>Year</th>\n",
       "    </tr>\n",
       "  </thead>\n",
       "  <tbody>\n",
       "    <tr>\n",
       "      <th>200000</th>\n",
       "      <td>200000</td>\n",
       "      <td>31.7406</td>\n",
       "      <td>-109.2987</td>\n",
       "      <td>361</td>\n",
       "      <td>2011</td>\n",
       "    </tr>\n",
       "    <tr>\n",
       "      <th>200001</th>\n",
       "      <td>200001</td>\n",
       "      <td>31.7409</td>\n",
       "      <td>-109.2961</td>\n",
       "      <td>361</td>\n",
       "      <td>2011</td>\n",
       "    </tr>\n",
       "    <tr>\n",
       "      <th>200002</th>\n",
       "      <td>200002</td>\n",
       "      <td>31.7412</td>\n",
       "      <td>-109.2935</td>\n",
       "      <td>361</td>\n",
       "      <td>2011</td>\n",
       "    </tr>\n",
       "    <tr>\n",
       "      <th>200003</th>\n",
       "      <td>200003</td>\n",
       "      <td>31.7415</td>\n",
       "      <td>-109.2909</td>\n",
       "      <td>361</td>\n",
       "      <td>2011</td>\n",
       "    </tr>\n",
       "    <tr>\n",
       "      <th>200004</th>\n",
       "      <td>200004</td>\n",
       "      <td>31.7418</td>\n",
       "      <td>-109.2882</td>\n",
       "      <td>361</td>\n",
       "      <td>2011</td>\n",
       "    </tr>\n",
       "  </tbody>\n",
       "</table>\n",
       "</div>"
      ],
      "text/plain": [
       "        Unnamed: 0        0         1  ClusterNum  Year\n",
       "200000      200000  31.7406 -109.2987         361  2011\n",
       "200001      200001  31.7409 -109.2961         361  2011\n",
       "200002      200002  31.7412 -109.2935         361  2011\n",
       "200003      200003  31.7415 -109.2909         361  2011\n",
       "200004      200004  31.7418 -109.2882         361  2011"
      ]
     },
     "execution_count": 10,
     "metadata": {},
     "output_type": "execute_result"
    }
   ],
   "source": [
    "print(ClusterPoints.shape)\n",
    "ClusterPoints[200000:200005]"
   ]
  },
  {
   "cell_type": "markdown",
   "metadata": {},
   "source": [
    "## Creating New Fire Cluster Point Dataframe:\n",
    "#### Dropping unused columns\n",
    "#### Renaming column headers\n",
    "#### Assigning new Cluster Reference to cluster points"
   ]
  },
  {
   "cell_type": "code",
   "execution_count": 39,
   "metadata": {},
   "outputs": [
    {
     "data": {
      "text/html": [
       "<div>\n",
       "<style scoped>\n",
       "    .dataframe tbody tr th:only-of-type {\n",
       "        vertical-align: middle;\n",
       "    }\n",
       "\n",
       "    .dataframe tbody tr th {\n",
       "        vertical-align: top;\n",
       "    }\n",
       "\n",
       "    .dataframe thead th {\n",
       "        text-align: right;\n",
       "    }\n",
       "</style>\n",
       "<table border=\"1\" class=\"dataframe\">\n",
       "  <thead>\n",
       "    <tr style=\"text-align: right;\">\n",
       "      <th></th>\n",
       "      <th>0</th>\n",
       "      <th>1</th>\n",
       "      <th>ClusterNum</th>\n",
       "      <th>Year</th>\n",
       "    </tr>\n",
       "  </thead>\n",
       "  <tbody>\n",
       "    <tr>\n",
       "      <th>0</th>\n",
       "      <td>25.1903</td>\n",
       "      <td>-81.0394</td>\n",
       "      <td>0</td>\n",
       "      <td>2011</td>\n",
       "    </tr>\n",
       "  </tbody>\n",
       "</table>\n",
       "</div>"
      ],
      "text/plain": [
       "         0        1  ClusterNum  Year\n",
       "0  25.1903 -81.0394           0  2011"
      ]
     },
     "execution_count": 39,
     "metadata": {},
     "output_type": "execute_result"
    }
   ],
   "source": [
    "ClusterPoints = ClusterPoints.drop(columns=['Unnamed: 0'])\n",
    "ClusterPoints[0:1]"
   ]
  },
  {
   "cell_type": "code",
   "execution_count": 40,
   "metadata": {},
   "outputs": [
    {
     "data": {
      "text/html": [
       "<div>\n",
       "<style scoped>\n",
       "    .dataframe tbody tr th:only-of-type {\n",
       "        vertical-align: middle;\n",
       "    }\n",
       "\n",
       "    .dataframe tbody tr th {\n",
       "        vertical-align: top;\n",
       "    }\n",
       "\n",
       "    .dataframe thead th {\n",
       "        text-align: right;\n",
       "    }\n",
       "</style>\n",
       "<table border=\"1\" class=\"dataframe\">\n",
       "  <thead>\n",
       "    <tr style=\"text-align: right;\">\n",
       "      <th></th>\n",
       "      <th>latitude</th>\n",
       "      <th>longitude</th>\n",
       "      <th>ClusterNum</th>\n",
       "      <th>year</th>\n",
       "    </tr>\n",
       "  </thead>\n",
       "  <tbody>\n",
       "    <tr>\n",
       "      <th>0</th>\n",
       "      <td>25.1903</td>\n",
       "      <td>-81.0394</td>\n",
       "      <td>0</td>\n",
       "      <td>2011</td>\n",
       "    </tr>\n",
       "    <tr>\n",
       "      <th>1</th>\n",
       "      <td>25.1900</td>\n",
       "      <td>-81.0370</td>\n",
       "      <td>0</td>\n",
       "      <td>2011</td>\n",
       "    </tr>\n",
       "    <tr>\n",
       "      <th>2</th>\n",
       "      <td>25.1896</td>\n",
       "      <td>-81.0346</td>\n",
       "      <td>0</td>\n",
       "      <td>2011</td>\n",
       "    </tr>\n",
       "    <tr>\n",
       "      <th>3</th>\n",
       "      <td>25.1926</td>\n",
       "      <td>-81.0390</td>\n",
       "      <td>0</td>\n",
       "      <td>2011</td>\n",
       "    </tr>\n",
       "    <tr>\n",
       "      <th>4</th>\n",
       "      <td>25.1922</td>\n",
       "      <td>-81.0366</td>\n",
       "      <td>0</td>\n",
       "      <td>2011</td>\n",
       "    </tr>\n",
       "  </tbody>\n",
       "</table>\n",
       "</div>"
      ],
      "text/plain": [
       "   latitude  longitude  ClusterNum  year\n",
       "0   25.1903   -81.0394           0  2011\n",
       "1   25.1900   -81.0370           0  2011\n",
       "2   25.1896   -81.0346           0  2011\n",
       "3   25.1926   -81.0390           0  2011\n",
       "4   25.1922   -81.0366           0  2011"
      ]
     },
     "execution_count": 40,
     "metadata": {},
     "output_type": "execute_result"
    }
   ],
   "source": [
    "ClusterPoints = ClusterPoints.rename(columns={'0': 'latitude', '1': 'longitude', 'Year': 'year'})\n",
    "ClusterPoints[0:5]"
   ]
  },
  {
   "cell_type": "code",
   "execution_count": 41,
   "metadata": {},
   "outputs": [
    {
     "data": {
      "text/html": [
       "<div>\n",
       "<style scoped>\n",
       "    .dataframe tbody tr th:only-of-type {\n",
       "        vertical-align: middle;\n",
       "    }\n",
       "\n",
       "    .dataframe tbody tr th {\n",
       "        vertical-align: top;\n",
       "    }\n",
       "\n",
       "    .dataframe thead th {\n",
       "        text-align: right;\n",
       "    }\n",
       "</style>\n",
       "<table border=\"1\" class=\"dataframe\">\n",
       "  <thead>\n",
       "    <tr style=\"text-align: right;\">\n",
       "      <th></th>\n",
       "      <th>latitude</th>\n",
       "      <th>longitude</th>\n",
       "      <th>ClusterNum</th>\n",
       "      <th>year</th>\n",
       "      <th>cluster_reference</th>\n",
       "    </tr>\n",
       "  </thead>\n",
       "  <tbody>\n",
       "    <tr>\n",
       "      <th>0</th>\n",
       "      <td>25.1903</td>\n",
       "      <td>-81.0394</td>\n",
       "      <td>0</td>\n",
       "      <td>2011</td>\n",
       "      <td>2011_0</td>\n",
       "    </tr>\n",
       "    <tr>\n",
       "      <th>1</th>\n",
       "      <td>25.1900</td>\n",
       "      <td>-81.0370</td>\n",
       "      <td>0</td>\n",
       "      <td>2011</td>\n",
       "      <td>2011_0</td>\n",
       "    </tr>\n",
       "    <tr>\n",
       "      <th>2</th>\n",
       "      <td>25.1896</td>\n",
       "      <td>-81.0346</td>\n",
       "      <td>0</td>\n",
       "      <td>2011</td>\n",
       "      <td>2011_0</td>\n",
       "    </tr>\n",
       "    <tr>\n",
       "      <th>3</th>\n",
       "      <td>25.1926</td>\n",
       "      <td>-81.0390</td>\n",
       "      <td>0</td>\n",
       "      <td>2011</td>\n",
       "      <td>2011_0</td>\n",
       "    </tr>\n",
       "    <tr>\n",
       "      <th>4</th>\n",
       "      <td>25.1922</td>\n",
       "      <td>-81.0366</td>\n",
       "      <td>0</td>\n",
       "      <td>2011</td>\n",
       "      <td>2011_0</td>\n",
       "    </tr>\n",
       "    <tr>\n",
       "      <th>5</th>\n",
       "      <td>25.1918</td>\n",
       "      <td>-81.0342</td>\n",
       "      <td>0</td>\n",
       "      <td>2011</td>\n",
       "      <td>2011_0</td>\n",
       "    </tr>\n",
       "    <tr>\n",
       "      <th>6</th>\n",
       "      <td>25.1995</td>\n",
       "      <td>-81.0701</td>\n",
       "      <td>0</td>\n",
       "      <td>2011</td>\n",
       "      <td>2011_0</td>\n",
       "    </tr>\n",
       "    <tr>\n",
       "      <th>7</th>\n",
       "      <td>25.1991</td>\n",
       "      <td>-81.0677</td>\n",
       "      <td>0</td>\n",
       "      <td>2011</td>\n",
       "      <td>2011_0</td>\n",
       "    </tr>\n",
       "    <tr>\n",
       "      <th>8</th>\n",
       "      <td>25.1952</td>\n",
       "      <td>-81.0411</td>\n",
       "      <td>0</td>\n",
       "      <td>2011</td>\n",
       "      <td>2011_0</td>\n",
       "    </tr>\n",
       "    <tr>\n",
       "      <th>9</th>\n",
       "      <td>25.1948</td>\n",
       "      <td>-81.0386</td>\n",
       "      <td>0</td>\n",
       "      <td>2011</td>\n",
       "      <td>2011_0</td>\n",
       "    </tr>\n",
       "  </tbody>\n",
       "</table>\n",
       "</div>"
      ],
      "text/plain": [
       "   latitude  longitude  ClusterNum  year cluster_reference\n",
       "0   25.1903   -81.0394           0  2011            2011_0\n",
       "1   25.1900   -81.0370           0  2011            2011_0\n",
       "2   25.1896   -81.0346           0  2011            2011_0\n",
       "3   25.1926   -81.0390           0  2011            2011_0\n",
       "4   25.1922   -81.0366           0  2011            2011_0\n",
       "5   25.1918   -81.0342           0  2011            2011_0\n",
       "6   25.1995   -81.0701           0  2011            2011_0\n",
       "7   25.1991   -81.0677           0  2011            2011_0\n",
       "8   25.1952   -81.0411           0  2011            2011_0\n",
       "9   25.1948   -81.0386           0  2011            2011_0"
      ]
     },
     "execution_count": 41,
     "metadata": {},
     "output_type": "execute_result"
    }
   ],
   "source": [
    "ClusterPoints['cluster_reference'] = ClusterPoints['year'].astype(str) + \"_\" + ClusterPoints['ClusterNum'].astype(str)\n",
    "ClusterPoints[0:10]"
   ]
  },
  {
   "cell_type": "code",
   "execution_count": 42,
   "metadata": {},
   "outputs": [
    {
     "name": "stdout",
     "output_type": "stream",
     "text": [
      "(5960572, 5)\n"
     ]
    }
   ],
   "source": [
    "ClusterPoints[1000:1002]\n",
    "print(ClusterPoints.shape)"
   ]
  },
  {
   "cell_type": "code",
   "execution_count": 45,
   "metadata": {},
   "outputs": [
    {
     "name": "stdout",
     "output_type": "stream",
     "text": [
      "109321\n"
     ]
    }
   ],
   "source": [
    "# Determining unique cluster reference points.  Using Unique will include blanks. \n",
    "f = len(ClusterPoints['cluster_reference'].unique())\n",
    "print(f)"
   ]
  },
  {
   "cell_type": "code",
   "execution_count": null,
   "metadata": {},
   "outputs": [],
   "source": [
    "# Writing new dataset of cluster points with cluster reference ID to CSV:\n",
    "ClusterPoints.to_csv('/Users/AlfHaugen/Python/Wildfire_Data/FireExports/Emissions Cluster Data/clusterpoints_03_15_ref1.csv', encoding='utf-8')"
   ]
  },
  {
   "cell_type": "markdown",
   "metadata": {},
   "source": [
    "## Fire Center Points Data:\n",
    "#### Renaming columns, adding cluster_reference id, moving column. "
   ]
  },
  {
   "cell_type": "code",
   "execution_count": 15,
   "metadata": {},
   "outputs": [
    {
     "name": "stdout",
     "output_type": "stream",
     "text": [
      "(109321, 23)\n"
     ]
    },
    {
     "data": {
      "text/html": [
       "<div>\n",
       "<style scoped>\n",
       "    .dataframe tbody tr th:only-of-type {\n",
       "        vertical-align: middle;\n",
       "    }\n",
       "\n",
       "    .dataframe tbody tr th {\n",
       "        vertical-align: top;\n",
       "    }\n",
       "\n",
       "    .dataframe thead th {\n",
       "        text-align: right;\n",
       "    }\n",
       "</style>\n",
       "<table border=\"1\" class=\"dataframe\">\n",
       "  <thead>\n",
       "    <tr style=\"text-align: right;\">\n",
       "      <th></th>\n",
       "      <th>Unnamed: 0</th>\n",
       "      <th>id</th>\n",
       "      <th>year</th>\n",
       "      <th>doy</th>\n",
       "      <th>longitude</th>\n",
       "      <th>latitude</th>\n",
       "      <th>grid10k</th>\n",
       "      <th>covertype</th>\n",
       "      <th>fuelcode</th>\n",
       "      <th>area_burned</th>\n",
       "      <th>prefire_fuel</th>\n",
       "      <th>consumed_fuel</th>\n",
       "      <th>ECO2</th>\n",
       "      <th>ECO</th>\n",
       "      <th>ECH4</th>\n",
       "      <th>EPM2.5</th>\n",
       "      <th>cwd_frac</th>\n",
       "      <th>duff_frac</th>\n",
       "      <th>fuel_moisture_class</th>\n",
       "      <th>burn_source</th>\n",
       "      <th>burnday_source</th>\n",
       "      <th>BSEV</th>\n",
       "      <th>BSEV_flag</th>\n",
       "    </tr>\n",
       "  </thead>\n",
       "  <tbody>\n",
       "    <tr>\n",
       "      <th>0</th>\n",
       "      <td>0</td>\n",
       "      <td>22.0</td>\n",
       "      <td>2006.0</td>\n",
       "      <td>208.0</td>\n",
       "      <td>-80.6759</td>\n",
       "      <td>25.4076</td>\n",
       "      <td>5461.0</td>\n",
       "      <td>1.0</td>\n",
       "      <td>1.0</td>\n",
       "      <td>62500.0</td>\n",
       "      <td>394.430634</td>\n",
       "      <td>366.820490</td>\n",
       "      <td>615.157961</td>\n",
       "      <td>25.677434</td>\n",
       "      <td>0.983079</td>\n",
       "      <td>3.741569</td>\n",
       "      <td>0.0</td>\n",
       "      <td>0.0</td>\n",
       "      <td>2.0</td>\n",
       "      <td>1.0</td>\n",
       "      <td>15.0</td>\n",
       "      <td>2.0</td>\n",
       "      <td>0.0</td>\n",
       "    </tr>\n",
       "    <tr>\n",
       "      <th>1</th>\n",
       "      <td>1</td>\n",
       "      <td>96.0</td>\n",
       "      <td>2006.0</td>\n",
       "      <td>157.0</td>\n",
       "      <td>-80.5824</td>\n",
       "      <td>25.6130</td>\n",
       "      <td>6845.0</td>\n",
       "      <td>1.0</td>\n",
       "      <td>1.0</td>\n",
       "      <td>62500.0</td>\n",
       "      <td>299.942136</td>\n",
       "      <td>278.946186</td>\n",
       "      <td>467.792755</td>\n",
       "      <td>19.526233</td>\n",
       "      <td>0.747576</td>\n",
       "      <td>2.845251</td>\n",
       "      <td>0.0</td>\n",
       "      <td>0.0</td>\n",
       "      <td>2.0</td>\n",
       "      <td>1.0</td>\n",
       "      <td>81.0</td>\n",
       "      <td>2.0</td>\n",
       "      <td>0.0</td>\n",
       "    </tr>\n",
       "  </tbody>\n",
       "</table>\n",
       "</div>"
      ],
      "text/plain": [
       "   Unnamed: 0    id    year    doy  longitude  latitude  grid10k  covertype  \\\n",
       "0           0  22.0  2006.0  208.0   -80.6759   25.4076   5461.0        1.0   \n",
       "1           1  96.0  2006.0  157.0   -80.5824   25.6130   6845.0        1.0   \n",
       "\n",
       "   fuelcode  area_burned  prefire_fuel  consumed_fuel        ECO2        ECO  \\\n",
       "0       1.0      62500.0    394.430634     366.820490  615.157961  25.677434   \n",
       "1       1.0      62500.0    299.942136     278.946186  467.792755  19.526233   \n",
       "\n",
       "       ECH4    EPM2.5  cwd_frac  duff_frac  fuel_moisture_class  burn_source  \\\n",
       "0  0.983079  3.741569       0.0        0.0                  2.0          1.0   \n",
       "1  0.747576  2.845251       0.0        0.0                  2.0          1.0   \n",
       "\n",
       "   burnday_source  BSEV  BSEV_flag  \n",
       "0            15.0   2.0        0.0  \n",
       "1            81.0   2.0        0.0  "
      ]
     },
     "execution_count": 15,
     "metadata": {},
     "output_type": "execute_result"
    }
   ],
   "source": [
    "print(FireCenterPoints.shape)\n",
    "FireCenterPoints[0:2]"
   ]
  },
  {
   "cell_type": "code",
   "execution_count": 16,
   "metadata": {},
   "outputs": [],
   "source": [
    "FireCenterPoints = FireCenterPoints.rename(columns={'Unnamed: 0': 'cluster_ref'})"
   ]
  },
  {
   "cell_type": "code",
   "execution_count": 17,
   "metadata": {},
   "outputs": [],
   "source": [
    "FireCenterPoints = FireCenterPoints.astype({\"year\": int}) "
   ]
  },
  {
   "cell_type": "code",
   "execution_count": 18,
   "metadata": {},
   "outputs": [
    {
     "data": {
      "text/html": [
       "<div>\n",
       "<style scoped>\n",
       "    .dataframe tbody tr th:only-of-type {\n",
       "        vertical-align: middle;\n",
       "    }\n",
       "\n",
       "    .dataframe tbody tr th {\n",
       "        vertical-align: top;\n",
       "    }\n",
       "\n",
       "    .dataframe thead th {\n",
       "        text-align: right;\n",
       "    }\n",
       "</style>\n",
       "<table border=\"1\" class=\"dataframe\">\n",
       "  <thead>\n",
       "    <tr style=\"text-align: right;\">\n",
       "      <th></th>\n",
       "      <th>cluster_ref</th>\n",
       "      <th>id</th>\n",
       "      <th>year</th>\n",
       "      <th>doy</th>\n",
       "      <th>longitude</th>\n",
       "      <th>latitude</th>\n",
       "      <th>grid10k</th>\n",
       "      <th>covertype</th>\n",
       "      <th>fuelcode</th>\n",
       "      <th>area_burned</th>\n",
       "      <th>prefire_fuel</th>\n",
       "      <th>consumed_fuel</th>\n",
       "      <th>ECO2</th>\n",
       "      <th>ECO</th>\n",
       "      <th>ECH4</th>\n",
       "      <th>EPM2.5</th>\n",
       "      <th>cwd_frac</th>\n",
       "      <th>duff_frac</th>\n",
       "      <th>fuel_moisture_class</th>\n",
       "      <th>burn_source</th>\n",
       "      <th>burnday_source</th>\n",
       "      <th>BSEV</th>\n",
       "      <th>BSEV_flag</th>\n",
       "    </tr>\n",
       "  </thead>\n",
       "  <tbody>\n",
       "    <tr>\n",
       "      <th>0</th>\n",
       "      <td>0</td>\n",
       "      <td>22.0</td>\n",
       "      <td>2006</td>\n",
       "      <td>208.0</td>\n",
       "      <td>-80.6759</td>\n",
       "      <td>25.4076</td>\n",
       "      <td>5461.0</td>\n",
       "      <td>1.0</td>\n",
       "      <td>1.0</td>\n",
       "      <td>62500.0</td>\n",
       "      <td>394.430634</td>\n",
       "      <td>366.82049</td>\n",
       "      <td>615.157961</td>\n",
       "      <td>25.677434</td>\n",
       "      <td>0.983079</td>\n",
       "      <td>3.741569</td>\n",
       "      <td>0.0</td>\n",
       "      <td>0.0</td>\n",
       "      <td>2.0</td>\n",
       "      <td>1.0</td>\n",
       "      <td>15.0</td>\n",
       "      <td>2.0</td>\n",
       "      <td>0.0</td>\n",
       "    </tr>\n",
       "  </tbody>\n",
       "</table>\n",
       "</div>"
      ],
      "text/plain": [
       "   cluster_ref    id  year    doy  longitude  latitude  grid10k  covertype  \\\n",
       "0            0  22.0  2006  208.0   -80.6759   25.4076   5461.0        1.0   \n",
       "\n",
       "   fuelcode  area_burned  prefire_fuel  consumed_fuel        ECO2        ECO  \\\n",
       "0       1.0      62500.0    394.430634      366.82049  615.157961  25.677434   \n",
       "\n",
       "       ECH4    EPM2.5  cwd_frac  duff_frac  fuel_moisture_class  burn_source  \\\n",
       "0  0.983079  3.741569       0.0        0.0                  2.0          1.0   \n",
       "\n",
       "   burnday_source  BSEV  BSEV_flag  \n",
       "0            15.0   2.0        0.0  "
      ]
     },
     "execution_count": 18,
     "metadata": {},
     "output_type": "execute_result"
    }
   ],
   "source": [
    "FireCenterPoints.head(1)"
   ]
  },
  {
   "cell_type": "code",
   "execution_count": 19,
   "metadata": {},
   "outputs": [],
   "source": [
    "FireCenterPoints['cluster_reference'] = FireCenterPoints['year'].astype(str) + \"_\" + FireCenterPoints['cluster_ref'].astype(str)"
   ]
  },
  {
   "cell_type": "code",
   "execution_count": 20,
   "metadata": {},
   "outputs": [
    {
     "data": {
      "text/html": [
       "<div>\n",
       "<style scoped>\n",
       "    .dataframe tbody tr th:only-of-type {\n",
       "        vertical-align: middle;\n",
       "    }\n",
       "\n",
       "    .dataframe tbody tr th {\n",
       "        vertical-align: top;\n",
       "    }\n",
       "\n",
       "    .dataframe thead th {\n",
       "        text-align: right;\n",
       "    }\n",
       "</style>\n",
       "<table border=\"1\" class=\"dataframe\">\n",
       "  <thead>\n",
       "    <tr style=\"text-align: right;\">\n",
       "      <th></th>\n",
       "      <th>cluster_ref</th>\n",
       "      <th>id</th>\n",
       "      <th>year</th>\n",
       "      <th>doy</th>\n",
       "      <th>longitude</th>\n",
       "      <th>latitude</th>\n",
       "      <th>grid10k</th>\n",
       "      <th>covertype</th>\n",
       "      <th>fuelcode</th>\n",
       "      <th>area_burned</th>\n",
       "      <th>prefire_fuel</th>\n",
       "      <th>consumed_fuel</th>\n",
       "      <th>ECO2</th>\n",
       "      <th>ECO</th>\n",
       "      <th>ECH4</th>\n",
       "      <th>EPM2.5</th>\n",
       "      <th>cwd_frac</th>\n",
       "      <th>duff_frac</th>\n",
       "      <th>fuel_moisture_class</th>\n",
       "      <th>burn_source</th>\n",
       "      <th>burnday_source</th>\n",
       "      <th>BSEV</th>\n",
       "      <th>BSEV_flag</th>\n",
       "      <th>cluster_reference</th>\n",
       "    </tr>\n",
       "  </thead>\n",
       "  <tbody>\n",
       "    <tr>\n",
       "      <th>0</th>\n",
       "      <td>0</td>\n",
       "      <td>22.0</td>\n",
       "      <td>2006</td>\n",
       "      <td>208.0</td>\n",
       "      <td>-80.6759</td>\n",
       "      <td>25.4076</td>\n",
       "      <td>5461.0</td>\n",
       "      <td>1.0</td>\n",
       "      <td>1.0</td>\n",
       "      <td>62500.0</td>\n",
       "      <td>394.430634</td>\n",
       "      <td>366.820490</td>\n",
       "      <td>615.157961</td>\n",
       "      <td>25.677434</td>\n",
       "      <td>0.983079</td>\n",
       "      <td>3.741569</td>\n",
       "      <td>0.000000</td>\n",
       "      <td>0.000000</td>\n",
       "      <td>2.0</td>\n",
       "      <td>1.0</td>\n",
       "      <td>15.0</td>\n",
       "      <td>2.0</td>\n",
       "      <td>0.0</td>\n",
       "      <td>2006_0</td>\n",
       "    </tr>\n",
       "    <tr>\n",
       "      <th>1</th>\n",
       "      <td>1</td>\n",
       "      <td>96.0</td>\n",
       "      <td>2006</td>\n",
       "      <td>157.0</td>\n",
       "      <td>-80.5824</td>\n",
       "      <td>25.6130</td>\n",
       "      <td>6845.0</td>\n",
       "      <td>1.0</td>\n",
       "      <td>1.0</td>\n",
       "      <td>62500.0</td>\n",
       "      <td>299.942136</td>\n",
       "      <td>278.946186</td>\n",
       "      <td>467.792755</td>\n",
       "      <td>19.526233</td>\n",
       "      <td>0.747576</td>\n",
       "      <td>2.845251</td>\n",
       "      <td>0.000000</td>\n",
       "      <td>0.000000</td>\n",
       "      <td>2.0</td>\n",
       "      <td>1.0</td>\n",
       "      <td>81.0</td>\n",
       "      <td>2.0</td>\n",
       "      <td>0.0</td>\n",
       "      <td>2006_1</td>\n",
       "    </tr>\n",
       "    <tr>\n",
       "      <th>2</th>\n",
       "      <td>2</td>\n",
       "      <td>164.0</td>\n",
       "      <td>2006</td>\n",
       "      <td>157.0</td>\n",
       "      <td>-80.5513</td>\n",
       "      <td>25.6198</td>\n",
       "      <td>6845.0</td>\n",
       "      <td>1.0</td>\n",
       "      <td>1.0</td>\n",
       "      <td>62500.0</td>\n",
       "      <td>226.077462</td>\n",
       "      <td>210.252040</td>\n",
       "      <td>352.592671</td>\n",
       "      <td>14.717643</td>\n",
       "      <td>0.563475</td>\n",
       "      <td>2.144571</td>\n",
       "      <td>0.000000</td>\n",
       "      <td>0.000000</td>\n",
       "      <td>2.0</td>\n",
       "      <td>1.0</td>\n",
       "      <td>15.0</td>\n",
       "      <td>2.0</td>\n",
       "      <td>0.0</td>\n",
       "      <td>2006_2</td>\n",
       "    </tr>\n",
       "    <tr>\n",
       "      <th>3</th>\n",
       "      <td>3</td>\n",
       "      <td>718.0</td>\n",
       "      <td>2006</td>\n",
       "      <td>49.0</td>\n",
       "      <td>-81.1249</td>\n",
       "      <td>26.0165</td>\n",
       "      <td>8222.0</td>\n",
       "      <td>3.0</td>\n",
       "      <td>1600.0</td>\n",
       "      <td>62500.0</td>\n",
       "      <td>6220.097576</td>\n",
       "      <td>2017.491592</td>\n",
       "      <td>3377.280924</td>\n",
       "      <td>155.346853</td>\n",
       "      <td>4.539356</td>\n",
       "      <td>24.008150</td>\n",
       "      <td>0.011189</td>\n",
       "      <td>0.081394</td>\n",
       "      <td>4.0</td>\n",
       "      <td>1.0</td>\n",
       "      <td>15.0</td>\n",
       "      <td>2.0</td>\n",
       "      <td>0.0</td>\n",
       "      <td>2006_3</td>\n",
       "    </tr>\n",
       "    <tr>\n",
       "      <th>4</th>\n",
       "      <td>4</td>\n",
       "      <td>444.0</td>\n",
       "      <td>2006</td>\n",
       "      <td>155.0</td>\n",
       "      <td>-81.6018</td>\n",
       "      <td>26.0708</td>\n",
       "      <td>8217.0</td>\n",
       "      <td>3.0</td>\n",
       "      <td>1140.0</td>\n",
       "      <td>62500.0</td>\n",
       "      <td>7646.952224</td>\n",
       "      <td>3842.452183</td>\n",
       "      <td>6432.264954</td>\n",
       "      <td>295.868818</td>\n",
       "      <td>8.645517</td>\n",
       "      <td>45.725181</td>\n",
       "      <td>0.008857</td>\n",
       "      <td>0.084716</td>\n",
       "      <td>2.0</td>\n",
       "      <td>1.0</td>\n",
       "      <td>15.0</td>\n",
       "      <td>2.0</td>\n",
       "      <td>1.0</td>\n",
       "      <td>2006_4</td>\n",
       "    </tr>\n",
       "  </tbody>\n",
       "</table>\n",
       "</div>"
      ],
      "text/plain": [
       "   cluster_ref     id  year    doy  longitude  latitude  grid10k  covertype  \\\n",
       "0            0   22.0  2006  208.0   -80.6759   25.4076   5461.0        1.0   \n",
       "1            1   96.0  2006  157.0   -80.5824   25.6130   6845.0        1.0   \n",
       "2            2  164.0  2006  157.0   -80.5513   25.6198   6845.0        1.0   \n",
       "3            3  718.0  2006   49.0   -81.1249   26.0165   8222.0        3.0   \n",
       "4            4  444.0  2006  155.0   -81.6018   26.0708   8217.0        3.0   \n",
       "\n",
       "   fuelcode  area_burned  prefire_fuel  consumed_fuel         ECO2  \\\n",
       "0       1.0      62500.0    394.430634     366.820490   615.157961   \n",
       "1       1.0      62500.0    299.942136     278.946186   467.792755   \n",
       "2       1.0      62500.0    226.077462     210.252040   352.592671   \n",
       "3    1600.0      62500.0   6220.097576    2017.491592  3377.280924   \n",
       "4    1140.0      62500.0   7646.952224    3842.452183  6432.264954   \n",
       "\n",
       "          ECO      ECH4     EPM2.5  cwd_frac  duff_frac  fuel_moisture_class  \\\n",
       "0   25.677434  0.983079   3.741569  0.000000   0.000000                  2.0   \n",
       "1   19.526233  0.747576   2.845251  0.000000   0.000000                  2.0   \n",
       "2   14.717643  0.563475   2.144571  0.000000   0.000000                  2.0   \n",
       "3  155.346853  4.539356  24.008150  0.011189   0.081394                  4.0   \n",
       "4  295.868818  8.645517  45.725181  0.008857   0.084716                  2.0   \n",
       "\n",
       "   burn_source  burnday_source  BSEV  BSEV_flag cluster_reference  \n",
       "0          1.0            15.0   2.0        0.0            2006_0  \n",
       "1          1.0            81.0   2.0        0.0            2006_1  \n",
       "2          1.0            15.0   2.0        0.0            2006_2  \n",
       "3          1.0            15.0   2.0        0.0            2006_3  \n",
       "4          1.0            15.0   2.0        1.0            2006_4  "
      ]
     },
     "execution_count": 20,
     "metadata": {},
     "output_type": "execute_result"
    }
   ],
   "source": [
    "FireCenterPoints[0:5]"
   ]
  },
  {
   "cell_type": "code",
   "execution_count": 21,
   "metadata": {},
   "outputs": [
    {
     "data": {
      "text/html": [
       "<div>\n",
       "<style scoped>\n",
       "    .dataframe tbody tr th:only-of-type {\n",
       "        vertical-align: middle;\n",
       "    }\n",
       "\n",
       "    .dataframe tbody tr th {\n",
       "        vertical-align: top;\n",
       "    }\n",
       "\n",
       "    .dataframe thead th {\n",
       "        text-align: right;\n",
       "    }\n",
       "</style>\n",
       "<table border=\"1\" class=\"dataframe\">\n",
       "  <thead>\n",
       "    <tr style=\"text-align: right;\">\n",
       "      <th></th>\n",
       "      <th>cluster_ref</th>\n",
       "      <th>cluster_reference</th>\n",
       "      <th>id</th>\n",
       "      <th>year</th>\n",
       "      <th>doy</th>\n",
       "      <th>longitude</th>\n",
       "      <th>latitude</th>\n",
       "      <th>grid10k</th>\n",
       "      <th>covertype</th>\n",
       "      <th>fuelcode</th>\n",
       "      <th>area_burned</th>\n",
       "      <th>prefire_fuel</th>\n",
       "      <th>consumed_fuel</th>\n",
       "      <th>ECO2</th>\n",
       "      <th>ECO</th>\n",
       "      <th>ECH4</th>\n",
       "      <th>EPM2.5</th>\n",
       "      <th>cwd_frac</th>\n",
       "      <th>duff_frac</th>\n",
       "      <th>fuel_moisture_class</th>\n",
       "      <th>burn_source</th>\n",
       "      <th>burnday_source</th>\n",
       "      <th>BSEV</th>\n",
       "      <th>BSEV_flag</th>\n",
       "    </tr>\n",
       "  </thead>\n",
       "  <tbody>\n",
       "    <tr>\n",
       "      <th>0</th>\n",
       "      <td>0</td>\n",
       "      <td>2006_0</td>\n",
       "      <td>22.0</td>\n",
       "      <td>2006</td>\n",
       "      <td>208.0</td>\n",
       "      <td>-80.6759</td>\n",
       "      <td>25.4076</td>\n",
       "      <td>5461.0</td>\n",
       "      <td>1.0</td>\n",
       "      <td>1.0</td>\n",
       "      <td>62500.0</td>\n",
       "      <td>394.430634</td>\n",
       "      <td>366.820490</td>\n",
       "      <td>615.157961</td>\n",
       "      <td>25.677434</td>\n",
       "      <td>0.983079</td>\n",
       "      <td>3.741569</td>\n",
       "      <td>0.0</td>\n",
       "      <td>0.0</td>\n",
       "      <td>2.0</td>\n",
       "      <td>1.0</td>\n",
       "      <td>15.0</td>\n",
       "      <td>2.0</td>\n",
       "      <td>0.0</td>\n",
       "    </tr>\n",
       "    <tr>\n",
       "      <th>1</th>\n",
       "      <td>1</td>\n",
       "      <td>2006_1</td>\n",
       "      <td>96.0</td>\n",
       "      <td>2006</td>\n",
       "      <td>157.0</td>\n",
       "      <td>-80.5824</td>\n",
       "      <td>25.6130</td>\n",
       "      <td>6845.0</td>\n",
       "      <td>1.0</td>\n",
       "      <td>1.0</td>\n",
       "      <td>62500.0</td>\n",
       "      <td>299.942136</td>\n",
       "      <td>278.946186</td>\n",
       "      <td>467.792755</td>\n",
       "      <td>19.526233</td>\n",
       "      <td>0.747576</td>\n",
       "      <td>2.845251</td>\n",
       "      <td>0.0</td>\n",
       "      <td>0.0</td>\n",
       "      <td>2.0</td>\n",
       "      <td>1.0</td>\n",
       "      <td>81.0</td>\n",
       "      <td>2.0</td>\n",
       "      <td>0.0</td>\n",
       "    </tr>\n",
       "  </tbody>\n",
       "</table>\n",
       "</div>"
      ],
      "text/plain": [
       "   cluster_ref cluster_reference    id  year    doy  longitude  latitude  \\\n",
       "0            0            2006_0  22.0  2006  208.0   -80.6759   25.4076   \n",
       "1            1            2006_1  96.0  2006  157.0   -80.5824   25.6130   \n",
       "\n",
       "   grid10k  covertype  fuelcode  area_burned  prefire_fuel  consumed_fuel  \\\n",
       "0   5461.0        1.0       1.0      62500.0    394.430634     366.820490   \n",
       "1   6845.0        1.0       1.0      62500.0    299.942136     278.946186   \n",
       "\n",
       "         ECO2        ECO      ECH4    EPM2.5  cwd_frac  duff_frac  \\\n",
       "0  615.157961  25.677434  0.983079  3.741569       0.0        0.0   \n",
       "1  467.792755  19.526233  0.747576  2.845251       0.0        0.0   \n",
       "\n",
       "   fuel_moisture_class  burn_source  burnday_source  BSEV  BSEV_flag  \n",
       "0                  2.0          1.0            15.0   2.0        0.0  \n",
       "1                  2.0          1.0            81.0   2.0        0.0  "
      ]
     },
     "execution_count": 21,
     "metadata": {},
     "output_type": "execute_result"
    }
   ],
   "source": [
    "first_col = FireCenterPoints.pop('cluster_reference')\n",
    "FireCenterPoints.insert(1, 'cluster_reference', first_col)\n",
    "FireCenterPoints[0:2]"
   ]
  },
  {
   "cell_type": "markdown",
   "metadata": {},
   "source": [
    "-----"
   ]
  },
  {
   "cell_type": "markdown",
   "metadata": {},
   "source": [
    "## Duplicates\n",
    "### Center Points: identify duplicates in Centerpoint data using DOY, Year, and alternating Lat and Long to then merge cluster coordinates into a single cluster based on distance on the same day of review. \n",
    "#### Based on the manual review, create short list of cluster references to merge. "
   ]
  },
  {
   "cell_type": "code",
   "execution_count": null,
   "metadata": {},
   "outputs": [],
   "source": [
    "centerpoint_dupes = FireCenterPoints[FireCenterPoints.duplicated(['doy', 'year', 'longitude'],keep=False)]\n",
    "centerpoint_dupes_lat = FireCenterPoints[FireCenterPoints.duplicated(['doy', 'year', 'latitude'],keep=False)]"
   ]
  },
  {
   "cell_type": "code",
   "execution_count": null,
   "metadata": {},
   "outputs": [],
   "source": [
    "print(centerpoint_dupes_lat.shape)\n",
    "centerpoint_dupes_lat[50:59]"
   ]
  },
  {
   "cell_type": "code",
   "execution_count": null,
   "metadata": {},
   "outputs": [],
   "source": [
    "### Research into single duplicate in the Fire CenterPoint Data:\n",
    "day = 75\n",
    "lg = -82.9603\n",
    "\n",
    "FireCenterPoints.loc[(FireCenterPoints['year'] == 2013) & (FireCenterPoints['doy'] == day) &(FireCenterPoints['longitude'] == lg),['cluster_reference', 'year', 'doy', 'longitude', 'latitude']]"
   ]
  },
  {
   "cell_type": "code",
   "execution_count": null,
   "metadata": {},
   "outputs": [],
   "source": [
    "# Seeing how many cluster points are related to the cluster reference, in determining which to merge. \n",
    "c1 = '2010_7596'\n",
    "c2 = '2010_7597'\n",
    "\n",
    "a = ClusterPoints.loc[(ClusterPoints['cluster_reference'] == c1)]\n",
    "b = ClusterPoints.loc[(ClusterPoints['cluster_reference'] == c2)]\n",
    "print(len(a), len(b))\n",
    "print(b[0:10])\n",
    "print(a[0:10])"
   ]
  },
  {
   "cell_type": "markdown",
   "metadata": {},
   "source": [
    "## Duplicate Centerpoints / Merging list:\n",
    "- 2006_1874 same as 2006_1880 = merged 2006_1874 into 2006_1880.\n",
    "         2006_3171 lat is off by 2 from 2006_3568\n",
    "         2006_5430 not equal to '2006_10010'\n",
    "- 2006_11021 merged into 2006_11012\n",
    "- 2004_5765 merged into 2004_5772\n",
    "- 2005_7122 merged into 2005_228\n",
    "- 2003_3553 mergred into 2003_3572\n",
    "- 2003_5931 merged into 2003_722\n",
    "- 2008_2209 merged into 2008_2201\n",
    "        '2008_4900' not eq to '2008_6046'\n",
    "- 2008_7540 merged into 2008_7603\n",
    "- 2009_1551 merged into 2009_1554\n",
    "- 2009_1952 merged into 2009_1957\n",
    "- 2009_2127 merged into 2009_2125\n",
    "        '2009_5224' note eq to '2009_7086'\n",
    "- 2013_4179 merged into 2013_4365\n",
    "\n",
    "- 2007_4737 merged into 2007_4730\n",
    "- 2007_8121 merged into 2007_8120\n",
    "- 2015_3984 merged into 2015_3968\n",
    "- 2011_9524 merged into 2011_9537\n",
    "- 2011_9726 merged into 2011_9722\n",
    "- 2009_2255 merged into 2009_2256\n",
    "- 2009_4723 merged into 2009_4724\n",
    "- 2010_4123 merged into 2010_4124\n",
    "- 2010_6123 merged into 2010_6133\n",
    "- 2010_7596 merged into 2010_7597\n",
    "\n",
    "109321 less 22 equals 109299."
   ]
  },
  {
   "cell_type": "code",
   "execution_count": 54,
   "metadata": {},
   "outputs": [
    {
     "name": "stdout",
     "output_type": "stream",
     "text": [
      "(5960572, 5)\n",
      "109318\n"
     ]
    },
    {
     "data": {
      "text/html": [
       "<div>\n",
       "<style scoped>\n",
       "    .dataframe tbody tr th:only-of-type {\n",
       "        vertical-align: middle;\n",
       "    }\n",
       "\n",
       "    .dataframe tbody tr th {\n",
       "        vertical-align: top;\n",
       "    }\n",
       "\n",
       "    .dataframe thead th {\n",
       "        text-align: right;\n",
       "    }\n",
       "</style>\n",
       "<table border=\"1\" class=\"dataframe\">\n",
       "  <thead>\n",
       "    <tr style=\"text-align: right;\">\n",
       "      <th></th>\n",
       "      <th>latitude</th>\n",
       "      <th>longitude</th>\n",
       "      <th>ClusterNum</th>\n",
       "      <th>year</th>\n",
       "      <th>cluster_reference</th>\n",
       "    </tr>\n",
       "  </thead>\n",
       "  <tbody>\n",
       "    <tr>\n",
       "      <th>0</th>\n",
       "      <td>25.1903</td>\n",
       "      <td>-81.0394</td>\n",
       "      <td>0</td>\n",
       "      <td>2011</td>\n",
       "      <td>2011_0</td>\n",
       "    </tr>\n",
       "  </tbody>\n",
       "</table>\n",
       "</div>"
      ],
      "text/plain": [
       "   latitude  longitude  ClusterNum  year cluster_reference\n",
       "0   25.1903   -81.0394           0  2011            2011_0"
      ]
     },
     "execution_count": 54,
     "metadata": {},
     "output_type": "execute_result"
    }
   ],
   "source": [
    "print(ClusterPoints.shape)\n",
    "print(len(ClusterPoints['cluster_reference'].unique()))\n",
    "ClusterPoints.head(1)"
   ]
  },
  {
   "cell_type": "code",
   "execution_count": 53,
   "metadata": {},
   "outputs": [],
   "source": [
    "# Method to replace the first reference with the second. \n",
    "ClusterPoints['cluster_reference'].mask(ClusterPoints['cluster_reference'] == '2004_5765', '2004_5772', inplace=True)"
   ]
  },
  {
   "cell_type": "code",
   "execution_count": 49,
   "metadata": {},
   "outputs": [
    {
     "name": "stdout",
     "output_type": "stream",
     "text": [
      "(5960572, 5)\n"
     ]
    },
    {
     "data": {
      "text/html": [
       "<div>\n",
       "<style scoped>\n",
       "    .dataframe tbody tr th:only-of-type {\n",
       "        vertical-align: middle;\n",
       "    }\n",
       "\n",
       "    .dataframe tbody tr th {\n",
       "        vertical-align: top;\n",
       "    }\n",
       "\n",
       "    .dataframe thead th {\n",
       "        text-align: right;\n",
       "    }\n",
       "</style>\n",
       "<table border=\"1\" class=\"dataframe\">\n",
       "  <thead>\n",
       "    <tr style=\"text-align: right;\">\n",
       "      <th></th>\n",
       "      <th>latitude</th>\n",
       "      <th>longitude</th>\n",
       "      <th>ClusterNum</th>\n",
       "      <th>year</th>\n",
       "      <th>cluster_reference</th>\n",
       "    </tr>\n",
       "  </thead>\n",
       "  <tbody>\n",
       "  </tbody>\n",
       "</table>\n",
       "</div>"
      ],
      "text/plain": [
       "Empty DataFrame\n",
       "Columns: [latitude, longitude, ClusterNum, year, cluster_reference]\n",
       "Index: []"
      ]
     },
     "execution_count": 49,
     "metadata": {},
     "output_type": "execute_result"
    }
   ],
   "source": [
    "print(ClusterPoints.shape)\n",
    "ClusterPoints.loc[(ClusterPoints['cluster_reference'] == '2006_1874')]"
   ]
  },
  {
   "cell_type": "code",
   "execution_count": null,
   "metadata": {},
   "outputs": [],
   "source": [
    "ClusterPoints.reset_index(inplace = True, drop = True) "
   ]
  },
  {
   "cell_type": "code",
   "execution_count": null,
   "metadata": {},
   "outputs": [],
   "source": [
    "ClusterPoints.to_csv('/Users/AlfHaugen/Python/Wildfire_Data/FireExports/Emissions Cluster Data/clusterpoints_03_15_refv5.csv', encoding='utf-8')"
   ]
  },
  {
   "cell_type": "markdown",
   "metadata": {},
   "source": [
    "### Remove centerpoint rows for duplicate cluster references as noted above. "
   ]
  },
  {
   "cell_type": "code",
   "execution_count": null,
   "metadata": {},
   "outputs": [],
   "source": [
    "FireCenterPoints.shape"
   ]
  },
  {
   "cell_type": "code",
   "execution_count": null,
   "metadata": {},
   "outputs": [],
   "source": [
    "adrop = '2010_7596'"
   ]
  },
  {
   "cell_type": "code",
   "execution_count": null,
   "metadata": {},
   "outputs": [],
   "source": [
    "FireCenterPoints.drop(FireCenterPoints[FireCenterPoints['cluster_reference'] == adrop].index, inplace = True) "
   ]
  },
  {
   "cell_type": "code",
   "execution_count": null,
   "metadata": {},
   "outputs": [],
   "source": [
    "FireCenterPoints.shape"
   ]
  },
  {
   "cell_type": "code",
   "execution_count": null,
   "metadata": {},
   "outputs": [],
   "source": [
    "FireCenterPoints.reset_index(inplace = True, drop = True) "
   ]
  },
  {
   "cell_type": "code",
   "execution_count": null,
   "metadata": {},
   "outputs": [],
   "source": [
    "FireCenterPoints.to_csv('/Users/AlfHaugen/Python/Wildfire_Data/FireExports/Emissions Cluster Data/centerpoints_03_15_v5.csv', encoding='utf-8')"
   ]
  },
  {
   "cell_type": "markdown",
   "metadata": {},
   "source": [
    "## Emissions Data for Database:"
   ]
  },
  {
   "cell_type": "code",
   "execution_count": null,
   "metadata": {},
   "outputs": [],
   "source": [
    "print(emdata_0315.shape)\n",
    "emdata_0315.head(2)"
   ]
  },
  {
   "cell_type": "code",
   "execution_count": null,
   "metadata": {},
   "outputs": [],
   "source": [
    "print(emdata_0315.shape)\n",
    "emdata_0315 = emdata_0315.drop(columns=['Unnamed: 0'])\n",
    "emdata_0315.head(2)"
   ]
  },
  {
   "cell_type": "markdown",
   "metadata": {},
   "source": [
    "----"
   ]
  },
  {
   "cell_type": "markdown",
   "metadata": {},
   "source": [
    "# Assigning Cluster References to the Emissions Dataset:"
   ]
  },
  {
   "cell_type": "markdown",
   "metadata": {},
   "source": [
    "### Taking the Emissions Dataset (emdata_0315) and by lat/long/year, bringing over the cluster references from the ClusterPoints df. \n",
    "## Test 1\n",
    "### Prepare Emissions and DeDuplicate"
   ]
  },
  {
   "cell_type": "code",
   "execution_count": null,
   "metadata": {},
   "outputs": [],
   "source": [
    "emdatatest = emdata_0315[(emdata_0315.year == 2008) & (emdata_0315.doy < 184)]\n",
    "ClusterPointstest = ClusterPoints[(ClusterPoints.year == 2008)]\n",
    "print(emdatatest.shape)\n",
    "print (ClusterPointstest.shape)\n",
    "print(emdatatest.head(3), ClusterPointstest.head(3))"
   ]
  },
  {
   "cell_type": "code",
   "execution_count": null,
   "metadata": {},
   "outputs": [],
   "source": [
    "emdatatest.reset_index(inplace = True, drop = True) "
   ]
  },
  {
   "cell_type": "code",
   "execution_count": null,
   "metadata": {},
   "outputs": [],
   "source": [
    "emdatatest.tail()"
   ]
  },
  {
   "cell_type": "code",
   "execution_count": null,
   "metadata": {},
   "outputs": [],
   "source": [
    "dupes1 = emdatatest[emdatatest.duplicated(['doy', 'year', 'longitude', 'latitude'])]\n",
    "dupes2 = emdatatest.drop_duplicates(subset=['doy', 'year', 'longitude', 'latitude'], keep='first')"
   ]
  },
  {
   "cell_type": "code",
   "execution_count": null,
   "metadata": {},
   "outputs": [],
   "source": [
    "print(dupes2.shape)\n",
    "dupes2[0:1]"
   ]
  },
  {
   "cell_type": "markdown",
   "metadata": {},
   "source": [
    "### Test Merge:  \n",
    "#### When doing the merge, sometimes duplicates will occur, therefore you need to de-duplicate the list. "
   ]
  },
  {
   "cell_type": "code",
   "execution_count": null,
   "metadata": {},
   "outputs": [],
   "source": [
    "emdatatestv2 = dupes2.merge(right=ClusterPointstest.loc[:,['latitude', 'longitude','year', 'cluster_reference']],\n",
    "                   how='left',\n",
    "                   left_on=['latitude','longitude','year'],\n",
    "                   right_on=['latitude','longitude','year'])"
   ]
  },
  {
   "cell_type": "markdown",
   "metadata": {},
   "source": [
    "emdatatestv2 = pd.merge(emdatatest, \n",
    "                   ClusterPointstest[['latitude', 'longitude', 'year', 'cluster_reference']],\n",
    "                     on =['latitude', 'longitude', 'year'],\n",
    "                    how ='left')"
   ]
  },
  {
   "cell_type": "code",
   "execution_count": null,
   "metadata": {},
   "outputs": [],
   "source": [
    "print(emdatatestv2.shape)\n",
    "emdatatestv2[0:2]"
   ]
  },
  {
   "cell_type": "code",
   "execution_count": null,
   "metadata": {},
   "outputs": [],
   "source": [
    "cluster_dupes = emdatatestv2[emdatatestv2.duplicated(['doy', 'year', 'longitude', 'latitude'],)]"
   ]
  },
  {
   "cell_type": "code",
   "execution_count": null,
   "metadata": {},
   "outputs": [],
   "source": [
    "print(cluster_dupes.shape)\n",
    "cluster_dupes[0:20]"
   ]
  },
  {
   "cell_type": "code",
   "execution_count": null,
   "metadata": {},
   "outputs": [],
   "source": [
    "dupes3 = emdatatestv2.drop_duplicates(subset=['doy', 'year', 'longitude', 'latitude'], keep='first')"
   ]
  },
  {
   "cell_type": "code",
   "execution_count": null,
   "metadata": {},
   "outputs": [],
   "source": [
    "dupes3.shape"
   ]
  },
  {
   "cell_type": "markdown",
   "metadata": {},
   "source": [
    "--------"
   ]
  },
  {
   "cell_type": "markdown",
   "metadata": {},
   "source": [
    "## Final - Merge of Cluster Reference to Emissions Data:\n",
    "### Taking the Emissions Dataset (emdata_0315) and by lat/long/year, bringing over the cluster references from the ClusterPoints df. "
   ]
  },
  {
   "cell_type": "code",
   "execution_count": 55,
   "metadata": {},
   "outputs": [],
   "source": [
    "ClusterPoints2 = pd.read_csv('/Users/AlfHaugen/Python/Wildfire_Data/FireExports/Emissions Cluster Data/clusterpoints_03_15_refv5.17.csv', encoding='utf-8')"
   ]
  },
  {
   "cell_type": "code",
   "execution_count": 56,
   "metadata": {},
   "outputs": [
    {
     "name": "stdout",
     "output_type": "stream",
     "text": [
      "(5960572, 19)\n",
      "(5960572, 5)\n"
     ]
    }
   ],
   "source": [
    "print(emdata_0315.shape)\n",
    "print(ClusterPoints.shape)"
   ]
  },
  {
   "cell_type": "code",
   "execution_count": 60,
   "metadata": {},
   "outputs": [
    {
     "data": {
      "text/html": [
       "<div>\n",
       "<style scoped>\n",
       "    .dataframe tbody tr th:only-of-type {\n",
       "        vertical-align: middle;\n",
       "    }\n",
       "\n",
       "    .dataframe tbody tr th {\n",
       "        vertical-align: top;\n",
       "    }\n",
       "\n",
       "    .dataframe thead th {\n",
       "        text-align: right;\n",
       "    }\n",
       "</style>\n",
       "<table border=\"1\" class=\"dataframe\">\n",
       "  <thead>\n",
       "    <tr style=\"text-align: right;\">\n",
       "      <th></th>\n",
       "      <th>Unnamed: 0</th>\n",
       "      <th>latitude</th>\n",
       "      <th>longitude</th>\n",
       "      <th>ClusterNum</th>\n",
       "      <th>year</th>\n",
       "      <th>cluster_reference</th>\n",
       "    </tr>\n",
       "  </thead>\n",
       "  <tbody>\n",
       "    <tr>\n",
       "      <th>5960567</th>\n",
       "      <td>5960567</td>\n",
       "      <td>48.8939</td>\n",
       "      <td>-121.1569</td>\n",
       "      <td>9262</td>\n",
       "      <td>2008</td>\n",
       "      <td>2008_9262</td>\n",
       "    </tr>\n",
       "    <tr>\n",
       "      <th>5960568</th>\n",
       "      <td>5960568</td>\n",
       "      <td>48.8945</td>\n",
       "      <td>-121.1537</td>\n",
       "      <td>9262</td>\n",
       "      <td>2008</td>\n",
       "      <td>2008_9262</td>\n",
       "    </tr>\n",
       "    <tr>\n",
       "      <th>5960569</th>\n",
       "      <td>5960569</td>\n",
       "      <td>48.8951</td>\n",
       "      <td>-121.1504</td>\n",
       "      <td>9262</td>\n",
       "      <td>2008</td>\n",
       "      <td>2008_9262</td>\n",
       "    </tr>\n",
       "    <tr>\n",
       "      <th>5960570</th>\n",
       "      <td>5960570</td>\n",
       "      <td>48.8967</td>\n",
       "      <td>-121.1545</td>\n",
       "      <td>9262</td>\n",
       "      <td>2008</td>\n",
       "      <td>2008_9262</td>\n",
       "    </tr>\n",
       "    <tr>\n",
       "      <th>5960571</th>\n",
       "      <td>5960571</td>\n",
       "      <td>48.9108</td>\n",
       "      <td>-122.0411</td>\n",
       "      <td>9263</td>\n",
       "      <td>2008</td>\n",
       "      <td>2008_9263</td>\n",
       "    </tr>\n",
       "  </tbody>\n",
       "</table>\n",
       "</div>"
      ],
      "text/plain": [
       "         Unnamed: 0  latitude  longitude  ClusterNum  year cluster_reference\n",
       "5960567     5960567   48.8939  -121.1569        9262  2008         2008_9262\n",
       "5960568     5960568   48.8945  -121.1537        9262  2008         2008_9262\n",
       "5960569     5960569   48.8951  -121.1504        9262  2008         2008_9262\n",
       "5960570     5960570   48.8967  -121.1545        9262  2008         2008_9262\n",
       "5960571     5960571   48.9108  -122.0411        9263  2008         2008_9263"
      ]
     },
     "execution_count": 60,
     "metadata": {},
     "output_type": "execute_result"
    }
   ],
   "source": [
    "ClusterPoints2.tail(5)"
   ]
  },
  {
   "cell_type": "code",
   "execution_count": 59,
   "metadata": {},
   "outputs": [
    {
     "name": "stdout",
     "output_type": "stream",
     "text": [
      "109299\n"
     ]
    }
   ],
   "source": [
    "clustercount = len(ClusterPoints2['cluster_reference'].unique())\n",
    "print(clustercount)"
   ]
  },
  {
   "cell_type": "code",
   "execution_count": 61,
   "metadata": {},
   "outputs": [],
   "source": [
    "ClusterPoints2_nodupe = ClusterPoints2.drop_duplicates(subset=['year', 'longitude', 'latitude'], keep='first')"
   ]
  },
  {
   "cell_type": "code",
   "execution_count": 67,
   "metadata": {},
   "outputs": [
    {
     "name": "stdout",
     "output_type": "stream",
     "text": [
      "109299\n",
      "109299\n"
     ]
    }
   ],
   "source": [
    "clustercount2 = len(ClusterPoints2_nodupe['cluster_reference'].unique())\n",
    "print(clustercount2)\n",
    "print(ClusterPoints2_nodupe['cluster_reference'].nunique())"
   ]
  },
  {
   "cell_type": "code",
   "execution_count": 25,
   "metadata": {},
   "outputs": [],
   "source": [
    "emdata_0315_nodup = emdata_0315.drop_duplicates(subset=['doy', 'year', 'longitude', 'latitude'], keep='first')"
   ]
  },
  {
   "cell_type": "code",
   "execution_count": 26,
   "metadata": {},
   "outputs": [
    {
     "name": "stdout",
     "output_type": "stream",
     "text": [
      "(5936438, 19)\n"
     ]
    },
    {
     "data": {
      "text/html": [
       "<div>\n",
       "<style scoped>\n",
       "    .dataframe tbody tr th:only-of-type {\n",
       "        vertical-align: middle;\n",
       "    }\n",
       "\n",
       "    .dataframe tbody tr th {\n",
       "        vertical-align: top;\n",
       "    }\n",
       "\n",
       "    .dataframe thead th {\n",
       "        text-align: right;\n",
       "    }\n",
       "</style>\n",
       "<table border=\"1\" class=\"dataframe\">\n",
       "  <thead>\n",
       "    <tr style=\"text-align: right;\">\n",
       "      <th></th>\n",
       "      <th>Unnamed: 0</th>\n",
       "      <th>year</th>\n",
       "      <th>doy</th>\n",
       "      <th>longitude</th>\n",
       "      <th>latitude</th>\n",
       "      <th>covertype</th>\n",
       "      <th>fuelcode</th>\n",
       "      <th>area_burned</th>\n",
       "      <th>prefire_fuel</th>\n",
       "      <th>consumed_fuel</th>\n",
       "      <th>ECO2</th>\n",
       "      <th>ECO</th>\n",
       "      <th>ECH4</th>\n",
       "      <th>EPM2.5</th>\n",
       "      <th>cwd_frac</th>\n",
       "      <th>duff_frac</th>\n",
       "      <th>fuel_moisture_class</th>\n",
       "      <th>burnday_source</th>\n",
       "      <th>BSEV</th>\n",
       "    </tr>\n",
       "  </thead>\n",
       "  <tbody>\n",
       "    <tr>\n",
       "      <th>0</th>\n",
       "      <td>0</td>\n",
       "      <td>2008</td>\n",
       "      <td>359</td>\n",
       "      <td>-81.0384</td>\n",
       "      <td>25.1958</td>\n",
       "      <td>3</td>\n",
       "      <td>1600</td>\n",
       "      <td>0.0</td>\n",
       "      <td>6220.097576</td>\n",
       "      <td>1999.75772</td>\n",
       "      <td>3347.594423</td>\n",
       "      <td>153.981344</td>\n",
       "      <td>4.499455</td>\n",
       "      <td>23.797117</td>\n",
       "      <td>0.023231</td>\n",
       "      <td>0.082115</td>\n",
       "      <td>3</td>\n",
       "      <td>81</td>\n",
       "      <td>1</td>\n",
       "    </tr>\n",
       "    <tr>\n",
       "      <th>1</th>\n",
       "      <td>1</td>\n",
       "      <td>2008</td>\n",
       "      <td>359</td>\n",
       "      <td>-81.0404</td>\n",
       "      <td>25.1984</td>\n",
       "      <td>3</td>\n",
       "      <td>1600</td>\n",
       "      <td>62500.0</td>\n",
       "      <td>6220.097576</td>\n",
       "      <td>2041.37434</td>\n",
       "      <td>3417.260644</td>\n",
       "      <td>157.185824</td>\n",
       "      <td>4.593092</td>\n",
       "      <td>24.292355</td>\n",
       "      <td>0.022757</td>\n",
       "      <td>0.080441</td>\n",
       "      <td>3</td>\n",
       "      <td>81</td>\n",
       "      <td>2</td>\n",
       "    </tr>\n",
       "  </tbody>\n",
       "</table>\n",
       "</div>"
      ],
      "text/plain": [
       "   Unnamed: 0  year  doy  longitude  latitude  covertype  fuelcode  \\\n",
       "0           0  2008  359   -81.0384   25.1958          3      1600   \n",
       "1           1  2008  359   -81.0404   25.1984          3      1600   \n",
       "\n",
       "   area_burned  prefire_fuel  consumed_fuel         ECO2         ECO  \\\n",
       "0          0.0   6220.097576     1999.75772  3347.594423  153.981344   \n",
       "1      62500.0   6220.097576     2041.37434  3417.260644  157.185824   \n",
       "\n",
       "       ECH4     EPM2.5  cwd_frac  duff_frac  fuel_moisture_class  \\\n",
       "0  4.499455  23.797117  0.023231   0.082115                    3   \n",
       "1  4.593092  24.292355  0.022757   0.080441                    3   \n",
       "\n",
       "   burnday_source  BSEV  \n",
       "0              81     1  \n",
       "1              81     2  "
      ]
     },
     "execution_count": 26,
     "metadata": {},
     "output_type": "execute_result"
    }
   ],
   "source": [
    "print(emdata_0315_nodup.shape)\n",
    "emdata_0315_nodup[0:2]"
   ]
  },
  {
   "cell_type": "code",
   "execution_count": 28,
   "metadata": {},
   "outputs": [],
   "source": [
    "emdata_0315_ref5 = emdata_0315_nodup.merge(right=ClusterPoints.loc[:,['latitude', 'longitude','year','cluster_reference']],\n",
    "                   how='left',\n",
    "                   left_on=['latitude','longitude','year'],\n",
    "                   right_on=['latitude','longitude','year'])"
   ]
  },
  {
   "cell_type": "code",
   "execution_count": 29,
   "metadata": {},
   "outputs": [
    {
     "name": "stdout",
     "output_type": "stream",
     "text": [
      "(5990537, 20)\n"
     ]
    },
    {
     "data": {
      "text/html": [
       "<div>\n",
       "<style scoped>\n",
       "    .dataframe tbody tr th:only-of-type {\n",
       "        vertical-align: middle;\n",
       "    }\n",
       "\n",
       "    .dataframe tbody tr th {\n",
       "        vertical-align: top;\n",
       "    }\n",
       "\n",
       "    .dataframe thead th {\n",
       "        text-align: right;\n",
       "    }\n",
       "</style>\n",
       "<table border=\"1\" class=\"dataframe\">\n",
       "  <thead>\n",
       "    <tr style=\"text-align: right;\">\n",
       "      <th></th>\n",
       "      <th>Unnamed: 0</th>\n",
       "      <th>year</th>\n",
       "      <th>doy</th>\n",
       "      <th>longitude</th>\n",
       "      <th>latitude</th>\n",
       "      <th>covertype</th>\n",
       "      <th>fuelcode</th>\n",
       "      <th>area_burned</th>\n",
       "      <th>prefire_fuel</th>\n",
       "      <th>consumed_fuel</th>\n",
       "      <th>ECO2</th>\n",
       "      <th>ECO</th>\n",
       "      <th>ECH4</th>\n",
       "      <th>EPM2.5</th>\n",
       "      <th>cwd_frac</th>\n",
       "      <th>duff_frac</th>\n",
       "      <th>fuel_moisture_class</th>\n",
       "      <th>burnday_source</th>\n",
       "      <th>BSEV</th>\n",
       "      <th>cluster_reference</th>\n",
       "    </tr>\n",
       "  </thead>\n",
       "  <tbody>\n",
       "    <tr>\n",
       "      <th>0</th>\n",
       "      <td>0</td>\n",
       "      <td>2008</td>\n",
       "      <td>359</td>\n",
       "      <td>-81.0384</td>\n",
       "      <td>25.1958</td>\n",
       "      <td>3</td>\n",
       "      <td>1600</td>\n",
       "      <td>0.0</td>\n",
       "      <td>6220.097576</td>\n",
       "      <td>1999.75772</td>\n",
       "      <td>3347.594423</td>\n",
       "      <td>153.981344</td>\n",
       "      <td>4.499455</td>\n",
       "      <td>23.797117</td>\n",
       "      <td>0.023231</td>\n",
       "      <td>0.082115</td>\n",
       "      <td>3</td>\n",
       "      <td>81</td>\n",
       "      <td>1</td>\n",
       "      <td>2008_0</td>\n",
       "    </tr>\n",
       "    <tr>\n",
       "      <th>1</th>\n",
       "      <td>1</td>\n",
       "      <td>2008</td>\n",
       "      <td>359</td>\n",
       "      <td>-81.0404</td>\n",
       "      <td>25.1984</td>\n",
       "      <td>3</td>\n",
       "      <td>1600</td>\n",
       "      <td>62500.0</td>\n",
       "      <td>6220.097576</td>\n",
       "      <td>2041.37434</td>\n",
       "      <td>3417.260644</td>\n",
       "      <td>157.185824</td>\n",
       "      <td>4.593092</td>\n",
       "      <td>24.292355</td>\n",
       "      <td>0.022757</td>\n",
       "      <td>0.080441</td>\n",
       "      <td>3</td>\n",
       "      <td>81</td>\n",
       "      <td>2</td>\n",
       "      <td>2008_0</td>\n",
       "    </tr>\n",
       "    <tr>\n",
       "      <th>2</th>\n",
       "      <td>2</td>\n",
       "      <td>2008</td>\n",
       "      <td>359</td>\n",
       "      <td>-81.0380</td>\n",
       "      <td>25.1981</td>\n",
       "      <td>3</td>\n",
       "      <td>1600</td>\n",
       "      <td>0.0</td>\n",
       "      <td>6220.097576</td>\n",
       "      <td>1999.75772</td>\n",
       "      <td>3347.594423</td>\n",
       "      <td>153.981344</td>\n",
       "      <td>4.499455</td>\n",
       "      <td>23.797117</td>\n",
       "      <td>0.023231</td>\n",
       "      <td>0.082115</td>\n",
       "      <td>3</td>\n",
       "      <td>81</td>\n",
       "      <td>1</td>\n",
       "      <td>2008_0</td>\n",
       "    </tr>\n",
       "  </tbody>\n",
       "</table>\n",
       "</div>"
      ],
      "text/plain": [
       "   Unnamed: 0  year  doy  longitude  latitude  covertype  fuelcode  \\\n",
       "0           0  2008  359   -81.0384   25.1958          3      1600   \n",
       "1           1  2008  359   -81.0404   25.1984          3      1600   \n",
       "2           2  2008  359   -81.0380   25.1981          3      1600   \n",
       "\n",
       "   area_burned  prefire_fuel  consumed_fuel         ECO2         ECO  \\\n",
       "0          0.0   6220.097576     1999.75772  3347.594423  153.981344   \n",
       "1      62500.0   6220.097576     2041.37434  3417.260644  157.185824   \n",
       "2          0.0   6220.097576     1999.75772  3347.594423  153.981344   \n",
       "\n",
       "       ECH4     EPM2.5  cwd_frac  duff_frac  fuel_moisture_class  \\\n",
       "0  4.499455  23.797117  0.023231   0.082115                    3   \n",
       "1  4.593092  24.292355  0.022757   0.080441                    3   \n",
       "2  4.499455  23.797117  0.023231   0.082115                    3   \n",
       "\n",
       "   burnday_source  BSEV cluster_reference  \n",
       "0              81     1            2008_0  \n",
       "1              81     2            2008_0  \n",
       "2              81     1            2008_0  "
      ]
     },
     "execution_count": 29,
     "metadata": {},
     "output_type": "execute_result"
    }
   ],
   "source": [
    "print(emdata_0315_ref5.shape)\n",
    "emdata_0315_ref5[0:3]"
   ]
  },
  {
   "cell_type": "code",
   "execution_count": 30,
   "metadata": {},
   "outputs": [
    {
     "name": "stdout",
     "output_type": "stream",
     "text": [
      "109164\n"
     ]
    }
   ],
   "source": [
    "emclustercount = len(emdata_0315_ref5['cluster_reference'].unique())\n",
    "print(emclustercount)"
   ]
  },
  {
   "cell_type": "code",
   "execution_count": 31,
   "metadata": {},
   "outputs": [
    {
     "name": "stdout",
     "output_type": "stream",
     "text": [
      "(5936438, 20)\n"
     ]
    }
   ],
   "source": [
    "emdata_0315_ref5_clean = emdata_0315_ref5.drop_duplicates(subset=['doy', 'year', 'longitude', 'latitude'], keep='first')\n",
    "print(emdata_0315_ref5_clean.shape)"
   ]
  },
  {
   "cell_type": "code",
   "execution_count": 36,
   "metadata": {},
   "outputs": [
    {
     "name": "stdout",
     "output_type": "stream",
     "text": [
      "109164\n"
     ]
    }
   ],
   "source": [
    "emclustercount2 = len(emdata_0315_ref5_clean['cluster_reference'].unique())\n",
    "print(emclustercount2)"
   ]
  },
  {
   "cell_type": "code",
   "execution_count": 63,
   "metadata": {},
   "outputs": [
    {
     "data": {
      "text/html": [
       "<div>\n",
       "<style scoped>\n",
       "    .dataframe tbody tr th:only-of-type {\n",
       "        vertical-align: middle;\n",
       "    }\n",
       "\n",
       "    .dataframe tbody tr th {\n",
       "        vertical-align: top;\n",
       "    }\n",
       "\n",
       "    .dataframe thead th {\n",
       "        text-align: right;\n",
       "    }\n",
       "</style>\n",
       "<table border=\"1\" class=\"dataframe\">\n",
       "  <thead>\n",
       "    <tr style=\"text-align: right;\">\n",
       "      <th></th>\n",
       "      <th>Unnamed: 0</th>\n",
       "      <th>year</th>\n",
       "      <th>doy</th>\n",
       "      <th>longitude</th>\n",
       "      <th>latitude</th>\n",
       "      <th>covertype</th>\n",
       "      <th>fuelcode</th>\n",
       "      <th>area_burned</th>\n",
       "      <th>prefire_fuel</th>\n",
       "      <th>consumed_fuel</th>\n",
       "      <th>ECO2</th>\n",
       "      <th>ECO</th>\n",
       "      <th>ECH4</th>\n",
       "      <th>EPM2.5</th>\n",
       "      <th>cwd_frac</th>\n",
       "      <th>duff_frac</th>\n",
       "      <th>fuel_moisture_class</th>\n",
       "      <th>burnday_source</th>\n",
       "      <th>BSEV</th>\n",
       "      <th>cluster_reference</th>\n",
       "    </tr>\n",
       "  </thead>\n",
       "  <tbody>\n",
       "    <tr>\n",
       "      <th>0</th>\n",
       "      <td>0</td>\n",
       "      <td>2008</td>\n",
       "      <td>359</td>\n",
       "      <td>-81.0384</td>\n",
       "      <td>25.1958</td>\n",
       "      <td>3</td>\n",
       "      <td>1600</td>\n",
       "      <td>0.0</td>\n",
       "      <td>6220.097576</td>\n",
       "      <td>1999.75772</td>\n",
       "      <td>3347.594423</td>\n",
       "      <td>153.981344</td>\n",
       "      <td>4.499455</td>\n",
       "      <td>23.797117</td>\n",
       "      <td>0.023231</td>\n",
       "      <td>0.082115</td>\n",
       "      <td>3</td>\n",
       "      <td>81</td>\n",
       "      <td>1</td>\n",
       "      <td>2008_0</td>\n",
       "    </tr>\n",
       "    <tr>\n",
       "      <th>1</th>\n",
       "      <td>1</td>\n",
       "      <td>2008</td>\n",
       "      <td>359</td>\n",
       "      <td>-81.0404</td>\n",
       "      <td>25.1984</td>\n",
       "      <td>3</td>\n",
       "      <td>1600</td>\n",
       "      <td>62500.0</td>\n",
       "      <td>6220.097576</td>\n",
       "      <td>2041.37434</td>\n",
       "      <td>3417.260644</td>\n",
       "      <td>157.185824</td>\n",
       "      <td>4.593092</td>\n",
       "      <td>24.292355</td>\n",
       "      <td>0.022757</td>\n",
       "      <td>0.080441</td>\n",
       "      <td>3</td>\n",
       "      <td>81</td>\n",
       "      <td>2</td>\n",
       "      <td>2008_0</td>\n",
       "    </tr>\n",
       "    <tr>\n",
       "      <th>2</th>\n",
       "      <td>2</td>\n",
       "      <td>2008</td>\n",
       "      <td>359</td>\n",
       "      <td>-81.0380</td>\n",
       "      <td>25.1981</td>\n",
       "      <td>3</td>\n",
       "      <td>1600</td>\n",
       "      <td>0.0</td>\n",
       "      <td>6220.097576</td>\n",
       "      <td>1999.75772</td>\n",
       "      <td>3347.594423</td>\n",
       "      <td>153.981344</td>\n",
       "      <td>4.499455</td>\n",
       "      <td>23.797117</td>\n",
       "      <td>0.023231</td>\n",
       "      <td>0.082115</td>\n",
       "      <td>3</td>\n",
       "      <td>81</td>\n",
       "      <td>1</td>\n",
       "      <td>2008_0</td>\n",
       "    </tr>\n",
       "    <tr>\n",
       "      <th>3</th>\n",
       "      <td>4</td>\n",
       "      <td>2008</td>\n",
       "      <td>359</td>\n",
       "      <td>-81.0594</td>\n",
       "      <td>25.2035</td>\n",
       "      <td>3</td>\n",
       "      <td>1600</td>\n",
       "      <td>0.0</td>\n",
       "      <td>6220.097576</td>\n",
       "      <td>1999.75772</td>\n",
       "      <td>3347.594423</td>\n",
       "      <td>153.981344</td>\n",
       "      <td>4.499455</td>\n",
       "      <td>23.797117</td>\n",
       "      <td>0.023231</td>\n",
       "      <td>0.082115</td>\n",
       "      <td>3</td>\n",
       "      <td>81</td>\n",
       "      <td>1</td>\n",
       "      <td>2008_0</td>\n",
       "    </tr>\n",
       "    <tr>\n",
       "      <th>4</th>\n",
       "      <td>5</td>\n",
       "      <td>2008</td>\n",
       "      <td>359</td>\n",
       "      <td>-81.0570</td>\n",
       "      <td>25.2032</td>\n",
       "      <td>3</td>\n",
       "      <td>1600</td>\n",
       "      <td>62500.0</td>\n",
       "      <td>6220.097576</td>\n",
       "      <td>2041.37434</td>\n",
       "      <td>3417.260644</td>\n",
       "      <td>157.185824</td>\n",
       "      <td>4.593092</td>\n",
       "      <td>24.292355</td>\n",
       "      <td>0.022757</td>\n",
       "      <td>0.080441</td>\n",
       "      <td>3</td>\n",
       "      <td>81</td>\n",
       "      <td>2</td>\n",
       "      <td>2008_0</td>\n",
       "    </tr>\n",
       "  </tbody>\n",
       "</table>\n",
       "</div>"
      ],
      "text/plain": [
       "   Unnamed: 0  year  doy  longitude  latitude  covertype  fuelcode  \\\n",
       "0           0  2008  359   -81.0384   25.1958          3      1600   \n",
       "1           1  2008  359   -81.0404   25.1984          3      1600   \n",
       "2           2  2008  359   -81.0380   25.1981          3      1600   \n",
       "3           4  2008  359   -81.0594   25.2035          3      1600   \n",
       "4           5  2008  359   -81.0570   25.2032          3      1600   \n",
       "\n",
       "   area_burned  prefire_fuel  consumed_fuel         ECO2         ECO  \\\n",
       "0          0.0   6220.097576     1999.75772  3347.594423  153.981344   \n",
       "1      62500.0   6220.097576     2041.37434  3417.260644  157.185824   \n",
       "2          0.0   6220.097576     1999.75772  3347.594423  153.981344   \n",
       "3          0.0   6220.097576     1999.75772  3347.594423  153.981344   \n",
       "4      62500.0   6220.097576     2041.37434  3417.260644  157.185824   \n",
       "\n",
       "       ECH4     EPM2.5  cwd_frac  duff_frac  fuel_moisture_class  \\\n",
       "0  4.499455  23.797117  0.023231   0.082115                    3   \n",
       "1  4.593092  24.292355  0.022757   0.080441                    3   \n",
       "2  4.499455  23.797117  0.023231   0.082115                    3   \n",
       "3  4.499455  23.797117  0.023231   0.082115                    3   \n",
       "4  4.593092  24.292355  0.022757   0.080441                    3   \n",
       "\n",
       "   burnday_source  BSEV cluster_reference  \n",
       "0              81     1            2008_0  \n",
       "1              81     2            2008_0  \n",
       "2              81     1            2008_0  \n",
       "3              81     1            2008_0  \n",
       "4              81     2            2008_0  "
      ]
     },
     "execution_count": 63,
     "metadata": {},
     "output_type": "execute_result"
    }
   ],
   "source": [
    "emdata_0315_ref5_clean.head()"
   ]
  },
  {
   "cell_type": "markdown",
   "metadata": {},
   "source": [
    "thirdcol = emdata_0315_ref5_clean.pop('cluster_reference')\n",
    "emdata_0315_ref5_clean.insert(2, 'cluster_reference', thirdcol)\n",
    "emdata_0315_ref5_clean[0:20]"
   ]
  },
  {
   "cell_type": "code",
   "execution_count": 64,
   "metadata": {},
   "outputs": [
    {
     "data": {
      "text/html": [
       "<div>\n",
       "<style scoped>\n",
       "    .dataframe tbody tr th:only-of-type {\n",
       "        vertical-align: middle;\n",
       "    }\n",
       "\n",
       "    .dataframe tbody tr th {\n",
       "        vertical-align: top;\n",
       "    }\n",
       "\n",
       "    .dataframe thead th {\n",
       "        text-align: right;\n",
       "    }\n",
       "</style>\n",
       "<table border=\"1\" class=\"dataframe\">\n",
       "  <thead>\n",
       "    <tr style=\"text-align: right;\">\n",
       "      <th></th>\n",
       "      <th>Unnamed: 0</th>\n",
       "      <th>year</th>\n",
       "      <th>doy</th>\n",
       "      <th>longitude</th>\n",
       "      <th>latitude</th>\n",
       "      <th>covertype</th>\n",
       "      <th>fuelcode</th>\n",
       "      <th>area_burned</th>\n",
       "      <th>prefire_fuel</th>\n",
       "      <th>consumed_fuel</th>\n",
       "      <th>ECO2</th>\n",
       "      <th>ECO</th>\n",
       "      <th>ECH4</th>\n",
       "      <th>EPM2.5</th>\n",
       "      <th>cwd_frac</th>\n",
       "      <th>duff_frac</th>\n",
       "      <th>fuel_moisture_class</th>\n",
       "      <th>burnday_source</th>\n",
       "      <th>BSEV</th>\n",
       "      <th>cluster_reference</th>\n",
       "    </tr>\n",
       "  </thead>\n",
       "  <tbody>\n",
       "    <tr>\n",
       "      <th>5936433</th>\n",
       "      <td>7254529</td>\n",
       "      <td>2003</td>\n",
       "      <td>181</td>\n",
       "      <td>-119.3634</td>\n",
       "      <td>48.9603</td>\n",
       "      <td>1</td>\n",
       "      <td>1</td>\n",
       "      <td>62500.0</td>\n",
       "      <td>115.560666</td>\n",
       "      <td>107.471419</td>\n",
       "      <td>180.229570</td>\n",
       "      <td>7.522999</td>\n",
       "      <td>0.288023</td>\n",
       "      <td>1.096208</td>\n",
       "      <td>0.000000</td>\n",
       "      <td>0.000000</td>\n",
       "      <td>2</td>\n",
       "      <td>77</td>\n",
       "      <td>2</td>\n",
       "      <td>2003_428</td>\n",
       "    </tr>\n",
       "    <tr>\n",
       "      <th>5936434</th>\n",
       "      <td>7254530</td>\n",
       "      <td>2003</td>\n",
       "      <td>182</td>\n",
       "      <td>-119.3602</td>\n",
       "      <td>48.9609</td>\n",
       "      <td>2</td>\n",
       "      <td>2</td>\n",
       "      <td>0.0</td>\n",
       "      <td>359.235630</td>\n",
       "      <td>323.312067</td>\n",
       "      <td>542.194336</td>\n",
       "      <td>22.631845</td>\n",
       "      <td>0.866476</td>\n",
       "      <td>3.297783</td>\n",
       "      <td>0.000000</td>\n",
       "      <td>0.000000</td>\n",
       "      <td>2</td>\n",
       "      <td>77</td>\n",
       "      <td>1</td>\n",
       "      <td>2003_428</td>\n",
       "    </tr>\n",
       "    <tr>\n",
       "      <th>5936435</th>\n",
       "      <td>7254531</td>\n",
       "      <td>2003</td>\n",
       "      <td>181</td>\n",
       "      <td>-119.3642</td>\n",
       "      <td>48.9625</td>\n",
       "      <td>2</td>\n",
       "      <td>2</td>\n",
       "      <td>62500.0</td>\n",
       "      <td>324.937314</td>\n",
       "      <td>292.443583</td>\n",
       "      <td>490.427888</td>\n",
       "      <td>20.471051</td>\n",
       "      <td>0.783749</td>\n",
       "      <td>2.982925</td>\n",
       "      <td>0.000000</td>\n",
       "      <td>0.000000</td>\n",
       "      <td>2</td>\n",
       "      <td>77</td>\n",
       "      <td>2</td>\n",
       "      <td>2003_428</td>\n",
       "    </tr>\n",
       "    <tr>\n",
       "      <th>5936436</th>\n",
       "      <td>7254532</td>\n",
       "      <td>2003</td>\n",
       "      <td>182</td>\n",
       "      <td>-119.3610</td>\n",
       "      <td>48.9631</td>\n",
       "      <td>2</td>\n",
       "      <td>2</td>\n",
       "      <td>62500.0</td>\n",
       "      <td>130.356018</td>\n",
       "      <td>117.320416</td>\n",
       "      <td>196.746338</td>\n",
       "      <td>8.212429</td>\n",
       "      <td>0.314419</td>\n",
       "      <td>1.196668</td>\n",
       "      <td>0.000000</td>\n",
       "      <td>0.000000</td>\n",
       "      <td>2</td>\n",
       "      <td>77</td>\n",
       "      <td>3</td>\n",
       "      <td>2003_428</td>\n",
       "    </tr>\n",
       "    <tr>\n",
       "      <th>5936437</th>\n",
       "      <td>7254533</td>\n",
       "      <td>2003</td>\n",
       "      <td>219</td>\n",
       "      <td>-121.9887</td>\n",
       "      <td>48.5002</td>\n",
       "      <td>3</td>\n",
       "      <td>1200</td>\n",
       "      <td>62500.0</td>\n",
       "      <td>6424.431099</td>\n",
       "      <td>4040.568775</td>\n",
       "      <td>6279.043877</td>\n",
       "      <td>537.395647</td>\n",
       "      <td>30.223454</td>\n",
       "      <td>92.124968</td>\n",
       "      <td>0.236728</td>\n",
       "      <td>0.198929</td>\n",
       "      <td>3</td>\n",
       "      <td>77</td>\n",
       "      <td>3</td>\n",
       "      <td>2003_6230</td>\n",
       "    </tr>\n",
       "  </tbody>\n",
       "</table>\n",
       "</div>"
      ],
      "text/plain": [
       "         Unnamed: 0  year  doy  longitude  latitude  covertype  fuelcode  \\\n",
       "5936433     7254529  2003  181  -119.3634   48.9603          1         1   \n",
       "5936434     7254530  2003  182  -119.3602   48.9609          2         2   \n",
       "5936435     7254531  2003  181  -119.3642   48.9625          2         2   \n",
       "5936436     7254532  2003  182  -119.3610   48.9631          2         2   \n",
       "5936437     7254533  2003  219  -121.9887   48.5002          3      1200   \n",
       "\n",
       "         area_burned  prefire_fuel  consumed_fuel         ECO2         ECO  \\\n",
       "5936433      62500.0    115.560666     107.471419   180.229570    7.522999   \n",
       "5936434          0.0    359.235630     323.312067   542.194336   22.631845   \n",
       "5936435      62500.0    324.937314     292.443583   490.427888   20.471051   \n",
       "5936436      62500.0    130.356018     117.320416   196.746338    8.212429   \n",
       "5936437      62500.0   6424.431099    4040.568775  6279.043877  537.395647   \n",
       "\n",
       "              ECH4     EPM2.5  cwd_frac  duff_frac  fuel_moisture_class  \\\n",
       "5936433   0.288023   1.096208  0.000000   0.000000                    2   \n",
       "5936434   0.866476   3.297783  0.000000   0.000000                    2   \n",
       "5936435   0.783749   2.982925  0.000000   0.000000                    2   \n",
       "5936436   0.314419   1.196668  0.000000   0.000000                    2   \n",
       "5936437  30.223454  92.124968  0.236728   0.198929                    3   \n",
       "\n",
       "         burnday_source  BSEV cluster_reference  \n",
       "5936433              77     2          2003_428  \n",
       "5936434              77     1          2003_428  \n",
       "5936435              77     2          2003_428  \n",
       "5936436              77     3          2003_428  \n",
       "5936437              77     3         2003_6230  "
      ]
     },
     "execution_count": 64,
     "metadata": {},
     "output_type": "execute_result"
    }
   ],
   "source": [
    "emdata_0315_ref5_clean.tail()"
   ]
  },
  {
   "cell_type": "code",
   "execution_count": 65,
   "metadata": {},
   "outputs": [],
   "source": [
    "emdata_0315_ref5_clean.reset_index(inplace = True, drop = True) "
   ]
  },
  {
   "cell_type": "code",
   "execution_count": 66,
   "metadata": {},
   "outputs": [],
   "source": [
    "emdata_0315_ref5_clean.to_csv('/Users/AlfHaugen/Python/Wildfire_Data/FireExports/Emissions Cluster Data/emissions_03_15_v522.csv', encoding='utf-8')"
   ]
  },
  {
   "cell_type": "markdown",
   "metadata": {},
   "source": [
    "---\n"
   ]
  }
 ],
 "metadata": {
  "kernelspec": {
   "display_name": "Python 3",
   "language": "python",
   "name": "python3"
  },
  "language_info": {
   "codemirror_mode": {
    "name": "ipython",
    "version": 3
   },
   "file_extension": ".py",
   "mimetype": "text/x-python",
   "name": "python",
   "nbconvert_exporter": "python",
   "pygments_lexer": "ipython3",
   "version": "3.7.3"
  }
 },
 "nbformat": 4,
 "nbformat_minor": 2
}

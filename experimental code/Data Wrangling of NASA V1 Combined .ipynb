{
 "cells": [
  {
   "cell_type": "markdown",
   "metadata": {},
   "source": [
    "### Data Wrangling of USDA Fire Emissions Data Set (2003-2015)"
   ]
  },
  {
   "cell_type": "code",
   "execution_count": 1,
   "metadata": {},
   "outputs": [],
   "source": [
    "import pandas as pd\n",
    "import numpy as np\n",
    "import seaborn as sns\n",
    "import matplotlib.pyplot as plt, time\n",
    "\n",
    "%matplotlib inline"
   ]
  },
  {
   "cell_type": "code",
   "execution_count": 2,
   "metadata": {},
   "outputs": [
    {
     "name": "stderr",
     "output_type": "stream",
     "text": [
      "C:\\Users\\mharr\\Anaconda3\\lib\\site-packages\\IPython\\core\\interactiveshell.py:3058: DtypeWarning: Columns (5,14) have mixed types. Specify dtype option on import or set low_memory=False.\n",
      "  interactivity=interactivity, compiler=compiler, result=result)\n"
     ]
    }
   ],
   "source": [
    "# Load Emissions CSV File\n",
    "NASA = pd.read_csv('NASA_V1_combined.csv')"
   ]
  },
  {
   "cell_type": "code",
   "execution_count": 3,
   "metadata": {},
   "outputs": [
    {
     "data": {
      "text/html": [
       "<div>\n",
       "<style scoped>\n",
       "    .dataframe tbody tr th:only-of-type {\n",
       "        vertical-align: middle;\n",
       "    }\n",
       "\n",
       "    .dataframe tbody tr th {\n",
       "        vertical-align: top;\n",
       "    }\n",
       "\n",
       "    .dataframe thead th {\n",
       "        text-align: right;\n",
       "    }\n",
       "</style>\n",
       "<table border=\"1\" class=\"dataframe\">\n",
       "  <thead>\n",
       "    <tr style=\"text-align: right;\">\n",
       "      <th></th>\n",
       "      <th>acq_date</th>\n",
       "      <th>acq_time</th>\n",
       "      <th>bright_ti4</th>\n",
       "      <th>bright_ti5</th>\n",
       "      <th>confidence</th>\n",
       "      <th>daynight</th>\n",
       "      <th>frp</th>\n",
       "      <th>instrument</th>\n",
       "      <th>latitude</th>\n",
       "      <th>longitude</th>\n",
       "      <th>satellite</th>\n",
       "      <th>scan</th>\n",
       "      <th>track</th>\n",
       "      <th>type</th>\n",
       "      <th>version</th>\n",
       "    </tr>\n",
       "  </thead>\n",
       "  <tbody>\n",
       "    <tr>\n",
       "      <td>0</td>\n",
       "      <td>2019-10-01</td>\n",
       "      <td>612</td>\n",
       "      <td>307.3</td>\n",
       "      <td>288.6</td>\n",
       "      <td>n</td>\n",
       "      <td>N</td>\n",
       "      <td>2.3</td>\n",
       "      <td>VIIRS</td>\n",
       "      <td>41.46153</td>\n",
       "      <td>-81.67585</td>\n",
       "      <td>N</td>\n",
       "      <td>0.69</td>\n",
       "      <td>0.74</td>\n",
       "      <td>NaN</td>\n",
       "      <td>1.0NRT</td>\n",
       "    </tr>\n",
       "    <tr>\n",
       "      <td>1</td>\n",
       "      <td>2019-10-01</td>\n",
       "      <td>612</td>\n",
       "      <td>312.8</td>\n",
       "      <td>288.3</td>\n",
       "      <td>n</td>\n",
       "      <td>N</td>\n",
       "      <td>2.1</td>\n",
       "      <td>VIIRS</td>\n",
       "      <td>41.45969</td>\n",
       "      <td>-81.67487</td>\n",
       "      <td>N</td>\n",
       "      <td>0.69</td>\n",
       "      <td>0.74</td>\n",
       "      <td>NaN</td>\n",
       "      <td>1.0NRT</td>\n",
       "    </tr>\n",
       "    <tr>\n",
       "      <td>2</td>\n",
       "      <td>2019-10-01</td>\n",
       "      <td>612</td>\n",
       "      <td>336.8</td>\n",
       "      <td>287.2</td>\n",
       "      <td>n</td>\n",
       "      <td>N</td>\n",
       "      <td>4.8</td>\n",
       "      <td>VIIRS</td>\n",
       "      <td>34.66630</td>\n",
       "      <td>-80.58686</td>\n",
       "      <td>N</td>\n",
       "      <td>0.55</td>\n",
       "      <td>0.68</td>\n",
       "      <td>NaN</td>\n",
       "      <td>1.0NRT</td>\n",
       "    </tr>\n",
       "    <tr>\n",
       "      <td>3</td>\n",
       "      <td>2019-10-01</td>\n",
       "      <td>612</td>\n",
       "      <td>307.7</td>\n",
       "      <td>286.4</td>\n",
       "      <td>n</td>\n",
       "      <td>N</td>\n",
       "      <td>1.7</td>\n",
       "      <td>VIIRS</td>\n",
       "      <td>37.23220</td>\n",
       "      <td>-82.03742</td>\n",
       "      <td>N</td>\n",
       "      <td>0.69</td>\n",
       "      <td>0.74</td>\n",
       "      <td>NaN</td>\n",
       "      <td>1.0NRT</td>\n",
       "    </tr>\n",
       "    <tr>\n",
       "      <td>4</td>\n",
       "      <td>2019-10-01</td>\n",
       "      <td>612</td>\n",
       "      <td>297.7</td>\n",
       "      <td>285.9</td>\n",
       "      <td>n</td>\n",
       "      <td>N</td>\n",
       "      <td>2.3</td>\n",
       "      <td>VIIRS</td>\n",
       "      <td>37.22986</td>\n",
       "      <td>-82.04183</td>\n",
       "      <td>N</td>\n",
       "      <td>0.69</td>\n",
       "      <td>0.74</td>\n",
       "      <td>NaN</td>\n",
       "      <td>1.0NRT</td>\n",
       "    </tr>\n",
       "  </tbody>\n",
       "</table>\n",
       "</div>"
      ],
      "text/plain": [
       "     acq_date  acq_time  bright_ti4  bright_ti5 confidence daynight  frp  \\\n",
       "0  2019-10-01       612       307.3       288.6          n        N  2.3   \n",
       "1  2019-10-01       612       312.8       288.3          n        N  2.1   \n",
       "2  2019-10-01       612       336.8       287.2          n        N  4.8   \n",
       "3  2019-10-01       612       307.7       286.4          n        N  1.7   \n",
       "4  2019-10-01       612       297.7       285.9          n        N  2.3   \n",
       "\n",
       "  instrument  latitude  longitude satellite  scan  track  type version  \n",
       "0      VIIRS  41.46153  -81.67585         N  0.69   0.74   NaN  1.0NRT  \n",
       "1      VIIRS  41.45969  -81.67487         N  0.69   0.74   NaN  1.0NRT  \n",
       "2      VIIRS  34.66630  -80.58686         N  0.55   0.68   NaN  1.0NRT  \n",
       "3      VIIRS  37.23220  -82.03742         N  0.69   0.74   NaN  1.0NRT  \n",
       "4      VIIRS  37.22986  -82.04183         N  0.69   0.74   NaN  1.0NRT  "
      ]
     },
     "execution_count": 3,
     "metadata": {},
     "output_type": "execute_result"
    }
   ],
   "source": [
    "# Use pandas to view the first 5 rows of the file\n",
    "NASA.head(5)"
   ]
  },
  {
   "cell_type": "code",
   "execution_count": 4,
   "metadata": {},
   "outputs": [
    {
     "name": "stdout",
     "output_type": "stream",
     "text": [
      "<class 'pandas.core.frame.DataFrame'>\n",
      "RangeIndex: 10820816 entries, 0 to 10820815\n",
      "Data columns (total 15 columns):\n",
      "acq_date      object\n",
      "acq_time      int64\n",
      "bright_ti4    float64\n",
      "bright_ti5    float64\n",
      "confidence    object\n",
      "daynight      object\n",
      "frp           float64\n",
      "instrument    object\n",
      "latitude      float64\n",
      "longitude     float64\n",
      "satellite     object\n",
      "scan          float64\n",
      "track         float64\n",
      "type          float64\n",
      "version       object\n",
      "dtypes: float64(8), int64(1), object(6)\n",
      "memory usage: 1.2+ GB\n"
     ]
    }
   ],
   "source": [
    "# What are the dtypes of the columns\n",
    "NASA.info() "
   ]
  },
  {
   "cell_type": "code",
   "execution_count": 5,
   "metadata": {},
   "outputs": [
    {
     "data": {
      "text/plain": [
       "(10820816, 15)"
      ]
     },
     "execution_count": 5,
     "metadata": {},
     "output_type": "execute_result"
    }
   ],
   "source": [
    "# How many rows and columns is the dataset?\n",
    "NASA.shape"
   ]
  },
  {
   "cell_type": "code",
   "execution_count": 6,
   "metadata": {},
   "outputs": [
    {
     "name": "stdout",
     "output_type": "stream",
     "text": [
      "10820816 instances with 15 features\n",
      "\n"
     ]
    }
   ],
   "source": [
    "# Determine the shape of the data\n",
    "print(\"{} instances with {} features\\n\".format(*NASA.shape))"
   ]
  },
  {
   "cell_type": "code",
   "execution_count": 7,
   "metadata": {},
   "outputs": [
    {
     "name": "stdout",
     "output_type": "stream",
     "text": [
      "['2019-10-01' '2019-10-02' '2019-10-03' ... '2019-09-28' '2019-09-29'\n",
      " '2019-09-30']\n"
     ]
    }
   ],
   "source": [
    "# Checking to see that all years were combined to file\n",
    "print(NASA['acq_date'].unique())"
   ]
  },
  {
   "cell_type": "code",
   "execution_count": 8,
   "metadata": {},
   "outputs": [
    {
     "data": {
      "text/plain": [
       "acq_date             0\n",
       "acq_time             0\n",
       "bright_ti4           0\n",
       "bright_ti5           0\n",
       "confidence           0\n",
       "daynight      10594043\n",
       "frp                  0\n",
       "instrument           0\n",
       "latitude             0\n",
       "longitude            0\n",
       "satellite            0\n",
       "scan                 0\n",
       "track                0\n",
       "type            226773\n",
       "version              0\n",
       "dtype: int64"
      ]
     },
     "execution_count": 8,
     "metadata": {},
     "output_type": "execute_result"
    }
   ],
   "source": [
    "# Checking for null values\n",
    "NASA.isnull().sum()"
   ]
  },
  {
   "cell_type": "code",
   "execution_count": 9,
   "metadata": {},
   "outputs": [],
   "source": [
    "# Removing select columns that are not necessary per earlier team discussion\n",
    "NASA = NASA.drop(['instrument', 'satellite', 'scan', 'track'], 1)"
   ]
  },
  {
   "cell_type": "code",
   "execution_count": 10,
   "metadata": {},
   "outputs": [
    {
     "data": {
      "text/plain": [
       "(10820816, 11)"
      ]
     },
     "execution_count": 10,
     "metadata": {},
     "output_type": "execute_result"
    }
   ],
   "source": [
    "# Verify the three columns were dropped\n",
    "NASA.shape"
   ]
  },
  {
   "cell_type": "code",
   "execution_count": 11,
   "metadata": {},
   "outputs": [
    {
     "data": {
      "text/html": [
       "<div>\n",
       "<style scoped>\n",
       "    .dataframe tbody tr th:only-of-type {\n",
       "        vertical-align: middle;\n",
       "    }\n",
       "\n",
       "    .dataframe tbody tr th {\n",
       "        vertical-align: top;\n",
       "    }\n",
       "\n",
       "    .dataframe thead th {\n",
       "        text-align: right;\n",
       "    }\n",
       "</style>\n",
       "<table border=\"1\" class=\"dataframe\">\n",
       "  <thead>\n",
       "    <tr style=\"text-align: right;\">\n",
       "      <th></th>\n",
       "      <th>acq_time</th>\n",
       "      <th>bright_ti4</th>\n",
       "      <th>bright_ti5</th>\n",
       "      <th>frp</th>\n",
       "      <th>latitude</th>\n",
       "      <th>longitude</th>\n",
       "      <th>type</th>\n",
       "    </tr>\n",
       "  </thead>\n",
       "  <tbody>\n",
       "    <tr>\n",
       "      <td>count</td>\n",
       "      <td>1.082082e+07</td>\n",
       "      <td>1.082082e+07</td>\n",
       "      <td>1.082082e+07</td>\n",
       "      <td>1.082082e+07</td>\n",
       "      <td>1.082082e+07</td>\n",
       "      <td>1.082082e+07</td>\n",
       "      <td>1.059404e+07</td>\n",
       "    </tr>\n",
       "    <tr>\n",
       "      <td>mean</td>\n",
       "      <td>1.435303e+03</td>\n",
       "      <td>3.278395e+02</td>\n",
       "      <td>2.920592e+02</td>\n",
       "      <td>1.228721e+01</td>\n",
       "      <td>3.950159e+01</td>\n",
       "      <td>-1.075576e+02</td>\n",
       "      <td>4.513891e-01</td>\n",
       "    </tr>\n",
       "    <tr>\n",
       "      <td>std</td>\n",
       "      <td>5.632978e+02</td>\n",
       "      <td>2.117195e+01</td>\n",
       "      <td>1.240298e+01</td>\n",
       "      <td>3.778120e+01</td>\n",
       "      <td>9.644486e+00</td>\n",
       "      <td>2.112151e+01</td>\n",
       "      <td>9.152609e-01</td>\n",
       "    </tr>\n",
       "    <tr>\n",
       "      <td>min</td>\n",
       "      <td>0.000000e+00</td>\n",
       "      <td>2.080000e+02</td>\n",
       "      <td>0.000000e+00</td>\n",
       "      <td>0.000000e+00</td>\n",
       "      <td>1.891902e+01</td>\n",
       "      <td>-1.788074e+02</td>\n",
       "      <td>0.000000e+00</td>\n",
       "    </tr>\n",
       "    <tr>\n",
       "      <td>25%</td>\n",
       "      <td>9.080000e+02</td>\n",
       "      <td>3.071000e+02</td>\n",
       "      <td>2.848000e+02</td>\n",
       "      <td>1.700000e+00</td>\n",
       "      <td>3.312107e+01</td>\n",
       "      <td>-1.197162e+02</td>\n",
       "      <td>0.000000e+00</td>\n",
       "    </tr>\n",
       "    <tr>\n",
       "      <td>50%</td>\n",
       "      <td>1.735000e+03</td>\n",
       "      <td>3.308000e+02</td>\n",
       "      <td>2.910000e+02</td>\n",
       "      <td>4.000000e+00</td>\n",
       "      <td>3.849042e+01</td>\n",
       "      <td>-1.041523e+02</td>\n",
       "      <td>0.000000e+00</td>\n",
       "    </tr>\n",
       "    <tr>\n",
       "      <td>75%</td>\n",
       "      <td>1.942000e+03</td>\n",
       "      <td>3.430000e+02</td>\n",
       "      <td>2.984000e+02</td>\n",
       "      <td>9.500000e+00</td>\n",
       "      <td>4.434374e+01</td>\n",
       "      <td>-9.016537e+01</td>\n",
       "      <td>0.000000e+00</td>\n",
       "    </tr>\n",
       "    <tr>\n",
       "      <td>max</td>\n",
       "      <td>2.359000e+03</td>\n",
       "      <td>3.670000e+02</td>\n",
       "      <td>3.800000e+02</td>\n",
       "      <td>8.065400e+03</td>\n",
       "      <td>7.132837e+01</td>\n",
       "      <td>1.795834e+02</td>\n",
       "      <td>3.000000e+00</td>\n",
       "    </tr>\n",
       "  </tbody>\n",
       "</table>\n",
       "</div>"
      ],
      "text/plain": [
       "           acq_time    bright_ti4    bright_ti5           frp      latitude  \\\n",
       "count  1.082082e+07  1.082082e+07  1.082082e+07  1.082082e+07  1.082082e+07   \n",
       "mean   1.435303e+03  3.278395e+02  2.920592e+02  1.228721e+01  3.950159e+01   \n",
       "std    5.632978e+02  2.117195e+01  1.240298e+01  3.778120e+01  9.644486e+00   \n",
       "min    0.000000e+00  2.080000e+02  0.000000e+00  0.000000e+00  1.891902e+01   \n",
       "25%    9.080000e+02  3.071000e+02  2.848000e+02  1.700000e+00  3.312107e+01   \n",
       "50%    1.735000e+03  3.308000e+02  2.910000e+02  4.000000e+00  3.849042e+01   \n",
       "75%    1.942000e+03  3.430000e+02  2.984000e+02  9.500000e+00  4.434374e+01   \n",
       "max    2.359000e+03  3.670000e+02  3.800000e+02  8.065400e+03  7.132837e+01   \n",
       "\n",
       "          longitude          type  \n",
       "count  1.082082e+07  1.059404e+07  \n",
       "mean  -1.075576e+02  4.513891e-01  \n",
       "std    2.112151e+01  9.152609e-01  \n",
       "min   -1.788074e+02  0.000000e+00  \n",
       "25%   -1.197162e+02  0.000000e+00  \n",
       "50%   -1.041523e+02  0.000000e+00  \n",
       "75%   -9.016537e+01  0.000000e+00  \n",
       "max    1.795834e+02  3.000000e+00  "
      ]
     },
     "execution_count": 11,
     "metadata": {},
     "output_type": "execute_result"
    }
   ],
   "source": [
    "# Use pandas to get the summary statistics on the data\n",
    "NASA.describe()"
   ]
  },
  {
   "cell_type": "code",
   "execution_count": 12,
   "metadata": {},
   "outputs": [
    {
     "data": {
      "text/html": [
       "<div>\n",
       "<style scoped>\n",
       "    .dataframe tbody tr th:only-of-type {\n",
       "        vertical-align: middle;\n",
       "    }\n",
       "\n",
       "    .dataframe tbody tr th {\n",
       "        vertical-align: top;\n",
       "    }\n",
       "\n",
       "    .dataframe thead th {\n",
       "        text-align: right;\n",
       "    }\n",
       "</style>\n",
       "<table border=\"1\" class=\"dataframe\">\n",
       "  <thead>\n",
       "    <tr style=\"text-align: right;\">\n",
       "      <th></th>\n",
       "      <th>acq_date</th>\n",
       "      <th>acq_time</th>\n",
       "      <th>bright_ti4</th>\n",
       "      <th>bright_ti5</th>\n",
       "      <th>confidence</th>\n",
       "      <th>daynight</th>\n",
       "      <th>frp</th>\n",
       "      <th>latitude</th>\n",
       "      <th>longitude</th>\n",
       "      <th>type</th>\n",
       "      <th>version</th>\n",
       "    </tr>\n",
       "  </thead>\n",
       "  <tbody>\n",
       "    <tr>\n",
       "      <td>2800151</td>\n",
       "      <td>2017-07-31</td>\n",
       "      <td>1024</td>\n",
       "      <td>297.7</td>\n",
       "      <td>286.8</td>\n",
       "      <td>n</td>\n",
       "      <td>NaN</td>\n",
       "      <td>8065.4</td>\n",
       "      <td>48.80692</td>\n",
       "      <td>-117.24569</td>\n",
       "      <td>0.0</td>\n",
       "      <td>1</td>\n",
       "    </tr>\n",
       "    <tr>\n",
       "      <td>6629845</td>\n",
       "      <td>2017-07-31</td>\n",
       "      <td>1024</td>\n",
       "      <td>297.7</td>\n",
       "      <td>286.8</td>\n",
       "      <td>n</td>\n",
       "      <td>NaN</td>\n",
       "      <td>8065.4</td>\n",
       "      <td>48.80692</td>\n",
       "      <td>-117.24569</td>\n",
       "      <td>0.0</td>\n",
       "      <td>1</td>\n",
       "    </tr>\n",
       "    <tr>\n",
       "      <td>9564500</td>\n",
       "      <td>2017-07-31</td>\n",
       "      <td>1024</td>\n",
       "      <td>297.7</td>\n",
       "      <td>286.8</td>\n",
       "      <td>n</td>\n",
       "      <td>NaN</td>\n",
       "      <td>8065.4</td>\n",
       "      <td>48.80692</td>\n",
       "      <td>-117.24569</td>\n",
       "      <td>0.0</td>\n",
       "      <td>1</td>\n",
       "    </tr>\n",
       "    <tr>\n",
       "      <td>9684259</td>\n",
       "      <td>2017-09-02</td>\n",
       "      <td>2132</td>\n",
       "      <td>367.0</td>\n",
       "      <td>380.0</td>\n",
       "      <td>l</td>\n",
       "      <td>NaN</td>\n",
       "      <td>6868.7</td>\n",
       "      <td>45.28411</td>\n",
       "      <td>-115.12079</td>\n",
       "      <td>0.0</td>\n",
       "      <td>1</td>\n",
       "    </tr>\n",
       "    <tr>\n",
       "      <td>6749604</td>\n",
       "      <td>2017-09-02</td>\n",
       "      <td>2132</td>\n",
       "      <td>367.0</td>\n",
       "      <td>380.0</td>\n",
       "      <td>l</td>\n",
       "      <td>NaN</td>\n",
       "      <td>6868.7</td>\n",
       "      <td>45.28411</td>\n",
       "      <td>-115.12079</td>\n",
       "      <td>0.0</td>\n",
       "      <td>1</td>\n",
       "    </tr>\n",
       "    <tr>\n",
       "      <td>2919910</td>\n",
       "      <td>2017-09-02</td>\n",
       "      <td>2132</td>\n",
       "      <td>367.0</td>\n",
       "      <td>380.0</td>\n",
       "      <td>l</td>\n",
       "      <td>NaN</td>\n",
       "      <td>6868.7</td>\n",
       "      <td>45.28411</td>\n",
       "      <td>-115.12079</td>\n",
       "      <td>0.0</td>\n",
       "      <td>1</td>\n",
       "    </tr>\n",
       "    <tr>\n",
       "      <td>6629840</td>\n",
       "      <td>2017-07-31</td>\n",
       "      <td>1024</td>\n",
       "      <td>300.5</td>\n",
       "      <td>290.0</td>\n",
       "      <td>n</td>\n",
       "      <td>NaN</td>\n",
       "      <td>3994.3</td>\n",
       "      <td>48.80873</td>\n",
       "      <td>-117.23483</td>\n",
       "      <td>0.0</td>\n",
       "      <td>1</td>\n",
       "    </tr>\n",
       "    <tr>\n",
       "      <td>6629861</td>\n",
       "      <td>2017-07-31</td>\n",
       "      <td>1024</td>\n",
       "      <td>306.8</td>\n",
       "      <td>289.6</td>\n",
       "      <td>n</td>\n",
       "      <td>NaN</td>\n",
       "      <td>3994.3</td>\n",
       "      <td>48.80521</td>\n",
       "      <td>-117.23811</td>\n",
       "      <td>0.0</td>\n",
       "      <td>1</td>\n",
       "    </tr>\n",
       "    <tr>\n",
       "      <td>2800167</td>\n",
       "      <td>2017-07-31</td>\n",
       "      <td>1024</td>\n",
       "      <td>306.8</td>\n",
       "      <td>289.6</td>\n",
       "      <td>n</td>\n",
       "      <td>NaN</td>\n",
       "      <td>3994.3</td>\n",
       "      <td>48.80521</td>\n",
       "      <td>-117.23811</td>\n",
       "      <td>0.0</td>\n",
       "      <td>1</td>\n",
       "    </tr>\n",
       "    <tr>\n",
       "      <td>9564495</td>\n",
       "      <td>2017-07-31</td>\n",
       "      <td>1024</td>\n",
       "      <td>300.5</td>\n",
       "      <td>290.0</td>\n",
       "      <td>n</td>\n",
       "      <td>NaN</td>\n",
       "      <td>3994.3</td>\n",
       "      <td>48.80873</td>\n",
       "      <td>-117.23483</td>\n",
       "      <td>0.0</td>\n",
       "      <td>1</td>\n",
       "    </tr>\n",
       "  </tbody>\n",
       "</table>\n",
       "</div>"
      ],
      "text/plain": [
       "           acq_date  acq_time  bright_ti4  bright_ti5 confidence daynight  \\\n",
       "2800151  2017-07-31      1024       297.7       286.8          n      NaN   \n",
       "6629845  2017-07-31      1024       297.7       286.8          n      NaN   \n",
       "9564500  2017-07-31      1024       297.7       286.8          n      NaN   \n",
       "9684259  2017-09-02      2132       367.0       380.0          l      NaN   \n",
       "6749604  2017-09-02      2132       367.0       380.0          l      NaN   \n",
       "2919910  2017-09-02      2132       367.0       380.0          l      NaN   \n",
       "6629840  2017-07-31      1024       300.5       290.0          n      NaN   \n",
       "6629861  2017-07-31      1024       306.8       289.6          n      NaN   \n",
       "2800167  2017-07-31      1024       306.8       289.6          n      NaN   \n",
       "9564495  2017-07-31      1024       300.5       290.0          n      NaN   \n",
       "\n",
       "            frp  latitude  longitude  type version  \n",
       "2800151  8065.4  48.80692 -117.24569   0.0       1  \n",
       "6629845  8065.4  48.80692 -117.24569   0.0       1  \n",
       "9564500  8065.4  48.80692 -117.24569   0.0       1  \n",
       "9684259  6868.7  45.28411 -115.12079   0.0       1  \n",
       "6749604  6868.7  45.28411 -115.12079   0.0       1  \n",
       "2919910  6868.7  45.28411 -115.12079   0.0       1  \n",
       "6629840  3994.3  48.80873 -117.23483   0.0       1  \n",
       "6629861  3994.3  48.80521 -117.23811   0.0       1  \n",
       "2800167  3994.3  48.80521 -117.23811   0.0       1  \n",
       "9564495  3994.3  48.80873 -117.23483   0.0       1  "
      ]
     },
     "execution_count": 12,
     "metadata": {},
     "output_type": "execute_result"
    }
   ],
   "source": [
    "NASA.sort_values(by='frp', ascending=False).head(10)"
   ]
  },
  {
   "cell_type": "code",
   "execution_count": 13,
   "metadata": {},
   "outputs": [
    {
     "data": {
      "text/html": [
       "<div>\n",
       "<style scoped>\n",
       "    .dataframe tbody tr th:only-of-type {\n",
       "        vertical-align: middle;\n",
       "    }\n",
       "\n",
       "    .dataframe tbody tr th {\n",
       "        vertical-align: top;\n",
       "    }\n",
       "\n",
       "    .dataframe thead th {\n",
       "        text-align: right;\n",
       "    }\n",
       "</style>\n",
       "<table border=\"1\" class=\"dataframe\">\n",
       "  <thead>\n",
       "    <tr style=\"text-align: right;\">\n",
       "      <th></th>\n",
       "      <th>frp</th>\n",
       "    </tr>\n",
       "  </thead>\n",
       "  <tbody>\n",
       "    <tr>\n",
       "      <td>mean</td>\n",
       "      <td>12.287206</td>\n",
       "    </tr>\n",
       "    <tr>\n",
       "      <td>min</td>\n",
       "      <td>0.000000</td>\n",
       "    </tr>\n",
       "    <tr>\n",
       "      <td>max</td>\n",
       "      <td>8065.400000</td>\n",
       "    </tr>\n",
       "  </tbody>\n",
       "</table>\n",
       "</div>"
      ],
      "text/plain": [
       "              frp\n",
       "mean    12.287206\n",
       "min      0.000000\n",
       "max   8065.400000"
      ]
     },
     "execution_count": 13,
     "metadata": {},
     "output_type": "execute_result"
    }
   ],
   "source": [
    "NASA[['frp']].agg(['mean','min','max'])"
   ]
  },
  {
   "cell_type": "code",
   "execution_count": 14,
   "metadata": {},
   "outputs": [
    {
     "data": {
      "text/plain": [
       "True"
      ]
     },
     "execution_count": 14,
     "metadata": {},
     "output_type": "execute_result"
    }
   ],
   "source": [
    "# Check if there are any empty/missing values from the csv that would cause errors when we run the scikit-learn tools\n",
    "NASA.isnull().values.any()"
   ]
  },
  {
   "cell_type": "code",
   "execution_count": 15,
   "metadata": {},
   "outputs": [
    {
     "data": {
      "text/plain": [
       "297"
      ]
     },
     "execution_count": 15,
     "metadata": {},
     "output_type": "execute_result"
    }
   ],
   "source": [
    "# How many values are there where frp = 0?\n",
    "len(NASA.loc[NASA['frp'] == 0.0])"
   ]
  },
  {
   "cell_type": "code",
   "execution_count": 16,
   "metadata": {},
   "outputs": [
    {
     "data": {
      "text/html": [
       "<div>\n",
       "<style scoped>\n",
       "    .dataframe tbody tr th:only-of-type {\n",
       "        vertical-align: middle;\n",
       "    }\n",
       "\n",
       "    .dataframe tbody tr th {\n",
       "        vertical-align: top;\n",
       "    }\n",
       "\n",
       "    .dataframe thead th {\n",
       "        text-align: right;\n",
       "    }\n",
       "</style>\n",
       "<table border=\"1\" class=\"dataframe\">\n",
       "  <thead>\n",
       "    <tr style=\"text-align: right;\">\n",
       "      <th></th>\n",
       "      <th>bright_ti4</th>\n",
       "      <th>bright_ti5</th>\n",
       "    </tr>\n",
       "  </thead>\n",
       "  <tbody>\n",
       "    <tr>\n",
       "      <td>mean</td>\n",
       "      <td>327.8395</td>\n",
       "      <td>292.059227</td>\n",
       "    </tr>\n",
       "    <tr>\n",
       "      <td>min</td>\n",
       "      <td>208.0000</td>\n",
       "      <td>0.000000</td>\n",
       "    </tr>\n",
       "    <tr>\n",
       "      <td>max</td>\n",
       "      <td>367.0000</td>\n",
       "      <td>380.000000</td>\n",
       "    </tr>\n",
       "  </tbody>\n",
       "</table>\n",
       "</div>"
      ],
      "text/plain": [
       "      bright_ti4  bright_ti5\n",
       "mean    327.8395  292.059227\n",
       "min     208.0000    0.000000\n",
       "max     367.0000  380.000000"
      ]
     },
     "execution_count": 16,
     "metadata": {},
     "output_type": "execute_result"
    }
   ],
   "source": [
    "NASA[['bright_ti4', 'bright_ti5']].agg(['mean','min','max'])"
   ]
  },
  {
   "cell_type": "code",
   "execution_count": 17,
   "metadata": {},
   "outputs": [
    {
     "data": {
      "text/html": [
       "<div>\n",
       "<style scoped>\n",
       "    .dataframe tbody tr th:only-of-type {\n",
       "        vertical-align: middle;\n",
       "    }\n",
       "\n",
       "    .dataframe tbody tr th {\n",
       "        vertical-align: top;\n",
       "    }\n",
       "\n",
       "    .dataframe thead th {\n",
       "        text-align: right;\n",
       "    }\n",
       "</style>\n",
       "<table border=\"1\" class=\"dataframe\">\n",
       "  <thead>\n",
       "    <tr style=\"text-align: right;\">\n",
       "      <th></th>\n",
       "      <th>acq_date</th>\n",
       "      <th>acq_time</th>\n",
       "      <th>bright_ti4</th>\n",
       "      <th>bright_ti5</th>\n",
       "      <th>confidence</th>\n",
       "      <th>daynight</th>\n",
       "      <th>frp</th>\n",
       "      <th>latitude</th>\n",
       "      <th>longitude</th>\n",
       "      <th>type</th>\n",
       "      <th>version</th>\n",
       "    </tr>\n",
       "  </thead>\n",
       "  <tbody>\n",
       "    <tr>\n",
       "      <td>0</td>\n",
       "      <td>2019-10-01</td>\n",
       "      <td>612</td>\n",
       "      <td>307.3</td>\n",
       "      <td>288.6</td>\n",
       "      <td>n</td>\n",
       "      <td>N</td>\n",
       "      <td>2.3</td>\n",
       "      <td>41.46153</td>\n",
       "      <td>-81.67585</td>\n",
       "      <td>NaN</td>\n",
       "      <td>1.0NRT</td>\n",
       "    </tr>\n",
       "    <tr>\n",
       "      <td>1</td>\n",
       "      <td>2019-10-01</td>\n",
       "      <td>612</td>\n",
       "      <td>312.8</td>\n",
       "      <td>288.3</td>\n",
       "      <td>n</td>\n",
       "      <td>N</td>\n",
       "      <td>2.1</td>\n",
       "      <td>41.45969</td>\n",
       "      <td>-81.67487</td>\n",
       "      <td>NaN</td>\n",
       "      <td>1.0NRT</td>\n",
       "    </tr>\n",
       "    <tr>\n",
       "      <td>2</td>\n",
       "      <td>2019-10-01</td>\n",
       "      <td>612</td>\n",
       "      <td>336.8</td>\n",
       "      <td>287.2</td>\n",
       "      <td>n</td>\n",
       "      <td>N</td>\n",
       "      <td>4.8</td>\n",
       "      <td>34.66630</td>\n",
       "      <td>-80.58686</td>\n",
       "      <td>NaN</td>\n",
       "      <td>1.0NRT</td>\n",
       "    </tr>\n",
       "    <tr>\n",
       "      <td>3</td>\n",
       "      <td>2019-10-01</td>\n",
       "      <td>612</td>\n",
       "      <td>307.7</td>\n",
       "      <td>286.4</td>\n",
       "      <td>n</td>\n",
       "      <td>N</td>\n",
       "      <td>1.7</td>\n",
       "      <td>37.23220</td>\n",
       "      <td>-82.03742</td>\n",
       "      <td>NaN</td>\n",
       "      <td>1.0NRT</td>\n",
       "    </tr>\n",
       "    <tr>\n",
       "      <td>4</td>\n",
       "      <td>2019-10-01</td>\n",
       "      <td>612</td>\n",
       "      <td>297.7</td>\n",
       "      <td>285.9</td>\n",
       "      <td>n</td>\n",
       "      <td>N</td>\n",
       "      <td>2.3</td>\n",
       "      <td>37.22986</td>\n",
       "      <td>-82.04183</td>\n",
       "      <td>NaN</td>\n",
       "      <td>1.0NRT</td>\n",
       "    </tr>\n",
       "  </tbody>\n",
       "</table>\n",
       "</div>"
      ],
      "text/plain": [
       "     acq_date  acq_time  bright_ti4  bright_ti5 confidence daynight  frp  \\\n",
       "0  2019-10-01       612       307.3       288.6          n        N  2.3   \n",
       "1  2019-10-01       612       312.8       288.3          n        N  2.1   \n",
       "2  2019-10-01       612       336.8       287.2          n        N  4.8   \n",
       "3  2019-10-01       612       307.7       286.4          n        N  1.7   \n",
       "4  2019-10-01       612       297.7       285.9          n        N  2.3   \n",
       "\n",
       "   latitude  longitude  type version  \n",
       "0  41.46153  -81.67585   NaN  1.0NRT  \n",
       "1  41.45969  -81.67487   NaN  1.0NRT  \n",
       "2  34.66630  -80.58686   NaN  1.0NRT  \n",
       "3  37.23220  -82.03742   NaN  1.0NRT  \n",
       "4  37.22986  -82.04183   NaN  1.0NRT  "
      ]
     },
     "execution_count": 17,
     "metadata": {},
     "output_type": "execute_result"
    }
   ],
   "source": [
    "NASA2 = NASA.groupby('bright_ti4')['frp'].max().sort_values(ascending = False)\n",
    "NASA.head()"
   ]
  },
  {
   "cell_type": "code",
   "execution_count": 19,
   "metadata": {},
   "outputs": [
    {
     "name": "stderr",
     "output_type": "stream",
     "text": [
      "C:\\Users\\mharr\\Anaconda3\\lib\\site-packages\\seaborn\\distributions.py:334: MatplotlibDeprecationWarning: Support for uppercase single-letter colors is deprecated since Matplotlib 3.1 and will be removed in 3.3; please use lowercase instead.\n",
      "  ax.fill_between(x, 0, y, **shade_kws)\n"
     ]
    },
    {
     "data": {
      "text/plain": [
       "<matplotlib.axes._subplots.AxesSubplot at 0x216d0bf7348>"
      ]
     },
     "execution_count": 19,
     "metadata": {},
     "output_type": "execute_result"
    },
    {
     "data": {
      "image/png": "[encoded data removed]",
      "text/plain": [
       "<Figure size 432x288 with 1 Axes>"
      ]
     },
     "metadata": {
      "needs_background": "light"
     },
     "output_type": "display_data"
    }
   ],
   "source": [
    "sns.distplot(NASA['frp'], hist = False, kde = True,\n",
    "                 kde_kws = {'shade': True, 'linewidth': 3, 'color': 'Y'}, \n",
    "                  label = 'brightness')"
   ]
  },
  {
   "cell_type": "code",
   "execution_count": 20,
   "metadata": {},
   "outputs": [
    {
     "data": {
      "text/plain": [
       "Text(0, 0.5, '# of Fire Instances')"
      ]
     },
     "execution_count": 20,
     "metadata": {},
     "output_type": "execute_result"
    },
    {
     "data": {
      "image/png": "[encoded data removed]",
      "text/plain": [
       "<Figure size 432x288 with 1 Axes>"
      ]
     },
     "metadata": {
      "needs_background": "light"
     },
     "output_type": "display_data"
    }
   ],
   "source": [
    "# matplotlib histogram\n",
    "plt.hist(NASA['bright_ti4'], color = 'blue', edgecolor = 'black',\n",
    "         bins = int(180/5))\n",
    "\n",
    "# seaborn histogram\n",
    "sns.distplot(NASA['bright_ti4'], hist=True, kde=False, \n",
    "             bins=int(180/5), color = 'orange',\n",
    "             hist_kws={'edgecolor':'black'})\n",
    "# Add labels\n",
    "plt.title('Histogram of Bright_ti4 across V1 data 2019')\n",
    "plt.xlabel('Brightness/Intensity')\n",
    "plt.ylabel('# of Fire Instances')"
   ]
  },
  {
   "cell_type": "code",
   "execution_count": null,
   "metadata": {},
   "outputs": [],
   "source": []
  }
 ],
 "metadata": {
  "kernelspec": {
   "display_name": "Python 3",
   "language": "python",
   "name": "python3"
  },
  "language_info": {
   "codemirror_mode": {
    "name": "ipython",
    "version": 3
   },
   "file_extension": ".py",
   "mimetype": "text/x-python",
   "name": "python",
   "nbconvert_exporter": "python",
   "pygments_lexer": "ipython3",
   "version": "3.7.4"
  }
 },
 "nbformat": 4,
 "nbformat_minor": 2
}

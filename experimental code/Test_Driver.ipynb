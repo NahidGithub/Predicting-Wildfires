{
 "cells": [
  {
   "cell_type": "code",
   "execution_count": null,
   "metadata": {},
   "outputs": [],
   "source": [
    "#optional code if warnings become over bearing \n",
    "import warnings\n",
    "warnings.filterwarnings('ignore')"
   ]
  },
  {
   "cell_type": "code",
   "execution_count": 1,
   "metadata": {},
   "outputs": [],
   "source": [
    "%matplotlib inline\n",
    "\n",
    "import os\n",
    "import pickle\n",
    "import pandas as pd\n",
    "import numpy as np\n",
    "import collections\n",
    "\n",
    "\n",
    "from sklearn.metrics import f1_score\n",
    "from sklearn.pipeline import Pipeline\n",
    "from sklearn.impute import SimpleImputer\n",
    "from sklearn.metrics import confusion_matrix\n",
    "from sklearn.metrics import classification_report\n",
    "from sklearn.compose import ColumnTransformer\n",
    "from sklearn.compose import make_column_transformer\n",
    "from sklearn.model_selection import StratifiedKFold\n",
    "from sklearn.model_selection import cross_val_score\n",
    "from sklearn.preprocessing import OneHotEncoder, LabelEncoder\n",
    "from sklearn.ensemble import BaggingClassifier, ExtraTreesClassifier, RandomForestClassifier\n",
    "from sklearn.preprocessing import StandardScaler, OneHotEncoder, MinMaxScaler, RobustScaler\n",
    "\n",
    "\n",
    "\n",
    "\n"
   ]
  },
  {
   "cell_type": "code",
   "execution_count": 2,
   "metadata": {},
   "outputs": [],
   "source": [
    "def find_X (df):\n",
    "\n",
    "    features = ['latitude', 'longitude', 'doy','fuelcode', 'fuel_moisture_class', 'prefire_fuel', 'temperature', 'humidity', 'precip_intensity', \n",
    "             'wind_gust', 'wind_speed']\n",
    "\n",
    "    X = df[features]\n",
    "    \n",
    "    return X\n",
    "\n"
   ]
  },
  {
   "cell_type": "code",
   "execution_count": 3,
   "metadata": {},
   "outputs": [],
   "source": [
    "def open_estimator(filename) :\n",
    "    \n",
    "    infile = open(filename,'rb')\n",
    "    estimator = pickle.load(infile)\n",
    "    infile.close()\n",
    "\n",
    "    print (\"Unpickled file\", filename)\n",
    "    \n",
    "    return estimator"
   ]
  },
  {
   "cell_type": "code",
   "execution_count": 9,
   "metadata": {},
   "outputs": [],
   "source": [
    "def open_estimator(filename) :\n",
    "    \n",
    "    infile = open(filename,'rb')\n",
    "    estimator = pickle.load(infile)\n",
    "    infile.close()\n",
    "\n",
    "    #print (\"Unpickled file\", filename)\n",
    "    \n",
    "    return estimator"
   ]
  },
  {
   "cell_type": "markdown",
   "metadata": {},
   "source": [
    "### Driver to run the application\n",
    "Pass the name of pickle and data file (Store in same directory as the app for easier access)"
   ]
  },
  {
   "cell_type": "code",
   "execution_count": 14,
   "metadata": {},
   "outputs": [],
   "source": [
    "#get 3 random records to test\n",
    "df_fires = pd.read_csv('data/FireIntensity_Model_June12_Clean.csv').sample(5)"
   ]
  },
  {
   "cell_type": "code",
   "execution_count": 15,
   "metadata": {},
   "outputs": [
    {
     "data": {
      "text/html": [
       "<div>\n",
       "<style scoped>\n",
       "    .dataframe tbody tr th:only-of-type {\n",
       "        vertical-align: middle;\n",
       "    }\n",
       "\n",
       "    .dataframe tbody tr th {\n",
       "        vertical-align: top;\n",
       "    }\n",
       "\n",
       "    .dataframe thead th {\n",
       "        text-align: right;\n",
       "    }\n",
       "</style>\n",
       "<table border=\"1\" class=\"dataframe\">\n",
       "  <thead>\n",
       "    <tr style=\"text-align: right;\">\n",
       "      <th></th>\n",
       "      <th>Unnamed: 0</th>\n",
       "      <th>latitude</th>\n",
       "      <th>longitude</th>\n",
       "      <th>doy</th>\n",
       "      <th>month</th>\n",
       "      <th>year</th>\n",
       "      <th>cluster_reference</th>\n",
       "      <th>fire_region</th>\n",
       "      <th>season</th>\n",
       "      <th>covertype</th>\n",
       "      <th>...</th>\n",
       "      <th>visibility</th>\n",
       "      <th>wind_speed</th>\n",
       "      <th>wind_gust</th>\n",
       "      <th>brightness</th>\n",
       "      <th>fire_intensity</th>\n",
       "      <th>fire_intensity_twocat</th>\n",
       "      <th>fire_intensity_threecat</th>\n",
       "      <th>fire_intensity_fourcat</th>\n",
       "      <th>bright_t31</th>\n",
       "      <th>frp</th>\n",
       "    </tr>\n",
       "  </thead>\n",
       "  <tbody>\n",
       "    <tr>\n",
       "      <th>838795</th>\n",
       "      <td>838795</td>\n",
       "      <td>31.6554</td>\n",
       "      <td>-89.1758</td>\n",
       "      <td>116</td>\n",
       "      <td>4</td>\n",
       "      <td>2011</td>\n",
       "      <td>2011_2374</td>\n",
       "      <td>0</td>\n",
       "      <td>0</td>\n",
       "      <td>1</td>\n",
       "      <td>...</td>\n",
       "      <td>9.216293</td>\n",
       "      <td>7.37</td>\n",
       "      <td>14.32</td>\n",
       "      <td>316.4</td>\n",
       "      <td>Medium</td>\n",
       "      <td>Moderate</td>\n",
       "      <td>Low</td>\n",
       "      <td>Low</td>\n",
       "      <td>298.8</td>\n",
       "      <td>8.8</td>\n",
       "    </tr>\n",
       "    <tr>\n",
       "      <th>1164157</th>\n",
       "      <td>1164157</td>\n",
       "      <td>37.1974</td>\n",
       "      <td>-76.5978</td>\n",
       "      <td>111</td>\n",
       "      <td>4</td>\n",
       "      <td>2014</td>\n",
       "      <td>2014_2431</td>\n",
       "      <td>6</td>\n",
       "      <td>0</td>\n",
       "      <td>3</td>\n",
       "      <td>...</td>\n",
       "      <td>9.997000</td>\n",
       "      <td>7.18</td>\n",
       "      <td>11.64</td>\n",
       "      <td>305.8</td>\n",
       "      <td>Low</td>\n",
       "      <td>Moderate</td>\n",
       "      <td>Low</td>\n",
       "      <td>Low</td>\n",
       "      <td>290.9</td>\n",
       "      <td>8.5</td>\n",
       "    </tr>\n",
       "    <tr>\n",
       "      <th>673270</th>\n",
       "      <td>673270</td>\n",
       "      <td>34.4852</td>\n",
       "      <td>-119.6924</td>\n",
       "      <td>128</td>\n",
       "      <td>5</td>\n",
       "      <td>2009</td>\n",
       "      <td>2009_483</td>\n",
       "      <td>5</td>\n",
       "      <td>0</td>\n",
       "      <td>1</td>\n",
       "      <td>...</td>\n",
       "      <td>7.002000</td>\n",
       "      <td>6.31</td>\n",
       "      <td>12.88</td>\n",
       "      <td>342.8</td>\n",
       "      <td>Severe</td>\n",
       "      <td>Moderate</td>\n",
       "      <td>Low</td>\n",
       "      <td>Low</td>\n",
       "      <td>292.1</td>\n",
       "      <td>420.1</td>\n",
       "    </tr>\n",
       "    <tr>\n",
       "      <th>1186509</th>\n",
       "      <td>1186509</td>\n",
       "      <td>41.1478</td>\n",
       "      <td>-122.8297</td>\n",
       "      <td>214</td>\n",
       "      <td>8</td>\n",
       "      <td>2014</td>\n",
       "      <td>2014_994</td>\n",
       "      <td>5</td>\n",
       "      <td>1</td>\n",
       "      <td>3</td>\n",
       "      <td>...</td>\n",
       "      <td>9.997000</td>\n",
       "      <td>2.63</td>\n",
       "      <td>6.77</td>\n",
       "      <td>493.5</td>\n",
       "      <td>Severe</td>\n",
       "      <td>Severe</td>\n",
       "      <td>Severe</td>\n",
       "      <td>Severe</td>\n",
       "      <td>400.1</td>\n",
       "      <td>1585.6</td>\n",
       "    </tr>\n",
       "    <tr>\n",
       "      <th>1177316</th>\n",
       "      <td>1177316</td>\n",
       "      <td>31.9456</td>\n",
       "      <td>-103.0513</td>\n",
       "      <td>187</td>\n",
       "      <td>7</td>\n",
       "      <td>2014</td>\n",
       "      <td>2014_6122</td>\n",
       "      <td>3</td>\n",
       "      <td>1</td>\n",
       "      <td>2</td>\n",
       "      <td>...</td>\n",
       "      <td>9.216293</td>\n",
       "      <td>1.00</td>\n",
       "      <td>7.99</td>\n",
       "      <td>307.1</td>\n",
       "      <td>Low</td>\n",
       "      <td>Moderate</td>\n",
       "      <td>Low</td>\n",
       "      <td>Low</td>\n",
       "      <td>276.2</td>\n",
       "      <td>14.8</td>\n",
       "    </tr>\n",
       "  </tbody>\n",
       "</table>\n",
       "<p>5 rows × 26 columns</p>\n",
       "</div>"
      ],
      "text/plain": [
       "         Unnamed: 0  latitude  longitude  doy  month  year cluster_reference  \\\n",
       "838795       838795   31.6554   -89.1758  116      4  2011         2011_2374   \n",
       "1164157     1164157   37.1974   -76.5978  111      4  2014         2014_2431   \n",
       "673270       673270   34.4852  -119.6924  128      5  2009          2009_483   \n",
       "1186509     1186509   41.1478  -122.8297  214      8  2014          2014_994   \n",
       "1177316     1177316   31.9456  -103.0513  187      7  2014         2014_6122   \n",
       "\n",
       "         fire_region  season  covertype  ...  visibility  wind_speed  \\\n",
       "838795             0       0          1  ...    9.216293        7.37   \n",
       "1164157            6       0          3  ...    9.997000        7.18   \n",
       "673270             5       0          1  ...    7.002000        6.31   \n",
       "1186509            5       1          3  ...    9.997000        2.63   \n",
       "1177316            3       1          2  ...    9.216293        1.00   \n",
       "\n",
       "         wind_gust  brightness  fire_intensity  fire_intensity_twocat  \\\n",
       "838795       14.32       316.4          Medium               Moderate   \n",
       "1164157      11.64       305.8             Low               Moderate   \n",
       "673270       12.88       342.8          Severe               Moderate   \n",
       "1186509       6.77       493.5          Severe                 Severe   \n",
       "1177316       7.99       307.1             Low               Moderate   \n",
       "\n",
       "         fire_intensity_threecat  fire_intensity_fourcat  bright_t31     frp  \n",
       "838795                       Low                     Low       298.8     8.8  \n",
       "1164157                      Low                     Low       290.9     8.5  \n",
       "673270                       Low                     Low       292.1   420.1  \n",
       "1186509                   Severe                  Severe       400.1  1585.6  \n",
       "1177316                      Low                     Low       276.2    14.8  \n",
       "\n",
       "[5 rows x 26 columns]"
      ]
     },
     "execution_count": 15,
     "metadata": {},
     "output_type": "execute_result"
    }
   ],
   "source": [
    "df_fires.head() #look at fire_intensity_twocat for the intentisty "
   ]
  },
  {
   "cell_type": "markdown",
   "metadata": {},
   "source": [
    "### Get the only the X - remove extra columns \n",
    "    "
   ]
  },
  {
   "cell_type": "code",
   "execution_count": 16,
   "metadata": {},
   "outputs": [],
   "source": [
    "X = find_X(df_fires)"
   ]
  },
  {
   "cell_type": "markdown",
   "metadata": {},
   "source": [
    "### Open the pickle estimator - same directory as the executing program"
   ]
  },
  {
   "cell_type": "code",
   "execution_count": 8,
   "metadata": {},
   "outputs": [
    {
     "name": "stdout",
     "output_type": "stream",
     "text": [
      "Unpickled file pipeline.pickle\n"
     ]
    }
   ],
   "source": [
    "model = open_estimator(\"pipeline.pickle\")"
   ]
  },
  {
   "cell_type": "markdown",
   "metadata": {},
   "source": [
    "### Predict the value"
   ]
  },
  {
   "cell_type": "code",
   "execution_count": 17,
   "metadata": {},
   "outputs": [],
   "source": [
    "predicted = model.predict(X)\n"
   ]
  },
  {
   "cell_type": "code",
   "execution_count": 18,
   "metadata": {},
   "outputs": [
    {
     "name": "stdout",
     "output_type": "stream",
     "text": [
      "['Num Array of Predicted Values: Moderate'\n",
      " 'Num Array of Predicted Values: Moderate'\n",
      " 'Num Array of Predicted Values: Moderate'\n",
      " 'Num Array of Predicted Values: Severe'\n",
      " 'Num Array of Predicted Values: Moderate']\n"
     ]
    }
   ],
   "source": [
    "print(\"Num Array of Predicted Values: \" + predicted)"
   ]
  },
  {
   "cell_type": "code",
   "execution_count": null,
   "metadata": {},
   "outputs": [],
   "source": []
  }
 ],
 "metadata": {
  "kernelspec": {
   "display_name": "Python 3",
   "language": "python",
   "name": "python3"
  },
  "language_info": {
   "codemirror_mode": {
    "name": "ipython",
    "version": 3
   },
   "file_extension": ".py",
   "mimetype": "text/x-python",
   "name": "python",
   "nbconvert_exporter": "python",
   "pygments_lexer": "ipython3",
   "version": "3.7.4"
  }
 },
 "nbformat": 4,
 "nbformat_minor": 4
}

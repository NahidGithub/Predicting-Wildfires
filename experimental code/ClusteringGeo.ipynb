{
 "cells": [
  {
   "cell_type": "markdown",
   "metadata": {},
   "source": [
    "# Clustering Notebook: \n",
    "\n",
    "#### DBScan - https://scikit-learn.org/stable/modules/generated/sklearn.cluster.DBSCAN.html\n",
    "\n",
    "#### Nearest Neighbors - https://scikit-learn.org/stable/modules/generated/sklearn.neighbors.NearestNeighbors.html\n",
    "\n",
    "#### Overview of DB Scan - https://medium.com/@agarwalvibhor84/lets-cluster-data-points-using-dbscan-278c5459bee5\n",
    "\n",
    "#### DBScan Article for code below - https://geoffboeing.com/2014/08/clustering-to-reduce-spatial-data-set-size/\n",
    "\n",
    "#### Notebook from above article - https://github.com/gboeing/2014-summer-travels/blob/master/clustering-scikitlearn.ipynb\n",
    "\n"
   ]
  },
  {
   "cell_type": "code",
   "execution_count": 1,
   "metadata": {},
   "outputs": [],
   "source": [
    "import pandas as pd, numpy as np, matplotlib.pyplot as plt, time\n",
    "from sklearn.cluster import DBSCAN\n",
    "from sklearn import metrics\n",
    "from geopy.distance import great_circle\n",
    "from shapely.geometry import MultiPoint\n",
    "%matplotlib inline"
   ]
  },
  {
   "cell_type": "code",
   "execution_count": 2,
   "metadata": {},
   "outputs": [],
   "source": [
    "### Load File. \n",
    "emyear20xx = pd.read_csv('/Users/AlfHaugen/Python/Wildfire_Data/9 Missoula Emisions Data RDS-2017-0039/Emissions_Year/emissions_year2003to2015.csv')"
   ]
  },
  {
   "cell_type": "code",
   "execution_count": 3,
   "metadata": {},
   "outputs": [
    {
     "name": "stdout",
     "output_type": "stream",
     "text": [
      "[2008 2009 2013 2007 2006 2012 2004 2010 2011 2005 2015 2014 2003]\n"
     ]
    }
   ],
   "source": [
    "print(emyear20xx['year'].unique())"
   ]
  },
  {
   "cell_type": "code",
   "execution_count": 4,
   "metadata": {},
   "outputs": [
    {
     "data": {
      "text/plain": [
       "(7254534, 22)"
      ]
     },
     "execution_count": 4,
     "metadata": {},
     "output_type": "execute_result"
    }
   ],
   "source": [
    "emyear20xx.shape"
   ]
  },
  {
   "cell_type": "code",
   "execution_count": 5,
   "metadata": {},
   "outputs": [],
   "source": [
    "### Remove zero value features noted during data review. \n",
    "indexNames = emyear20xx[(emyear20xx.prefire_fuel == 0) & (emyear20xx.consumed_fuel == 0) & (emyear20xx.ECO2 == 0)].index\n",
    "emyear20xx.drop(indexNames , inplace=True)"
   ]
  },
  {
   "cell_type": "code",
   "execution_count": 6,
   "metadata": {},
   "outputs": [
    {
     "data": {
      "text/plain": [
       "(5960572, 22)"
      ]
     },
     "execution_count": 6,
     "metadata": {},
     "output_type": "execute_result"
    }
   ],
   "source": [
    "emyear20xx.shape"
   ]
  },
  {
   "cell_type": "code",
   "execution_count": 7,
   "metadata": {},
   "outputs": [
    {
     "data": {
      "text/html": [
       "<div>\n",
       "<style scoped>\n",
       "    .dataframe tbody tr th:only-of-type {\n",
       "        vertical-align: middle;\n",
       "    }\n",
       "\n",
       "    .dataframe tbody tr th {\n",
       "        vertical-align: top;\n",
       "    }\n",
       "\n",
       "    .dataframe thead th {\n",
       "        text-align: right;\n",
       "    }\n",
       "</style>\n",
       "<table border=\"1\" class=\"dataframe\">\n",
       "  <thead>\n",
       "    <tr style=\"text-align: right;\">\n",
       "      <th></th>\n",
       "      <th>id</th>\n",
       "      <th>year</th>\n",
       "      <th>doy</th>\n",
       "      <th>longitude</th>\n",
       "      <th>latitude</th>\n",
       "      <th>grid10k</th>\n",
       "      <th>covertype</th>\n",
       "      <th>fuelcode</th>\n",
       "      <th>area_burned</th>\n",
       "      <th>prefire_fuel</th>\n",
       "      <th>...</th>\n",
       "      <th>ECO</th>\n",
       "      <th>ECH4</th>\n",
       "      <th>EPM2.5</th>\n",
       "      <th>cwd_frac</th>\n",
       "      <th>duff_frac</th>\n",
       "      <th>fuel_moisture_class</th>\n",
       "      <th>burn_source</th>\n",
       "      <th>burnday_source</th>\n",
       "      <th>BSEV</th>\n",
       "      <th>BSEV_flag</th>\n",
       "    </tr>\n",
       "  </thead>\n",
       "  <tbody>\n",
       "    <tr>\n",
       "      <th>0</th>\n",
       "      <td>0</td>\n",
       "      <td>2008</td>\n",
       "      <td>359</td>\n",
       "      <td>-81.0384</td>\n",
       "      <td>25.1958</td>\n",
       "      <td>4536</td>\n",
       "      <td>3</td>\n",
       "      <td>1600</td>\n",
       "      <td>0.0</td>\n",
       "      <td>6220.097576</td>\n",
       "      <td>...</td>\n",
       "      <td>153.981344</td>\n",
       "      <td>4.499455</td>\n",
       "      <td>23.797117</td>\n",
       "      <td>0.023231</td>\n",
       "      <td>0.082115</td>\n",
       "      <td>3</td>\n",
       "      <td>1</td>\n",
       "      <td>81</td>\n",
       "      <td>1</td>\n",
       "      <td>0</td>\n",
       "    </tr>\n",
       "    <tr>\n",
       "      <th>1</th>\n",
       "      <td>1</td>\n",
       "      <td>2008</td>\n",
       "      <td>359</td>\n",
       "      <td>-81.0404</td>\n",
       "      <td>25.1984</td>\n",
       "      <td>4536</td>\n",
       "      <td>3</td>\n",
       "      <td>1600</td>\n",
       "      <td>62500.0</td>\n",
       "      <td>6220.097576</td>\n",
       "      <td>...</td>\n",
       "      <td>157.185824</td>\n",
       "      <td>4.593092</td>\n",
       "      <td>24.292355</td>\n",
       "      <td>0.022757</td>\n",
       "      <td>0.080441</td>\n",
       "      <td>3</td>\n",
       "      <td>1</td>\n",
       "      <td>81</td>\n",
       "      <td>2</td>\n",
       "      <td>0</td>\n",
       "    </tr>\n",
       "    <tr>\n",
       "      <th>2</th>\n",
       "      <td>2</td>\n",
       "      <td>2008</td>\n",
       "      <td>359</td>\n",
       "      <td>-81.0380</td>\n",
       "      <td>25.1981</td>\n",
       "      <td>4536</td>\n",
       "      <td>3</td>\n",
       "      <td>1600</td>\n",
       "      <td>0.0</td>\n",
       "      <td>6220.097576</td>\n",
       "      <td>...</td>\n",
       "      <td>153.981344</td>\n",
       "      <td>4.499455</td>\n",
       "      <td>23.797117</td>\n",
       "      <td>0.023231</td>\n",
       "      <td>0.082115</td>\n",
       "      <td>3</td>\n",
       "      <td>1</td>\n",
       "      <td>81</td>\n",
       "      <td>1</td>\n",
       "      <td>0</td>\n",
       "    </tr>\n",
       "    <tr>\n",
       "      <th>4</th>\n",
       "      <td>4</td>\n",
       "      <td>2008</td>\n",
       "      <td>359</td>\n",
       "      <td>-81.0594</td>\n",
       "      <td>25.2035</td>\n",
       "      <td>4536</td>\n",
       "      <td>3</td>\n",
       "      <td>1600</td>\n",
       "      <td>0.0</td>\n",
       "      <td>6220.097576</td>\n",
       "      <td>...</td>\n",
       "      <td>153.981344</td>\n",
       "      <td>4.499455</td>\n",
       "      <td>23.797117</td>\n",
       "      <td>0.023231</td>\n",
       "      <td>0.082115</td>\n",
       "      <td>3</td>\n",
       "      <td>1</td>\n",
       "      <td>81</td>\n",
       "      <td>1</td>\n",
       "      <td>0</td>\n",
       "    </tr>\n",
       "    <tr>\n",
       "      <th>5</th>\n",
       "      <td>5</td>\n",
       "      <td>2008</td>\n",
       "      <td>359</td>\n",
       "      <td>-81.0570</td>\n",
       "      <td>25.2032</td>\n",
       "      <td>4536</td>\n",
       "      <td>3</td>\n",
       "      <td>1600</td>\n",
       "      <td>62500.0</td>\n",
       "      <td>6220.097576</td>\n",
       "      <td>...</td>\n",
       "      <td>157.185824</td>\n",
       "      <td>4.593092</td>\n",
       "      <td>24.292355</td>\n",
       "      <td>0.022757</td>\n",
       "      <td>0.080441</td>\n",
       "      <td>3</td>\n",
       "      <td>1</td>\n",
       "      <td>81</td>\n",
       "      <td>2</td>\n",
       "      <td>0</td>\n",
       "    </tr>\n",
       "  </tbody>\n",
       "</table>\n",
       "<p>5 rows × 22 columns</p>\n",
       "</div>"
      ],
      "text/plain": [
       "   id  year  doy  longitude  latitude  grid10k  covertype  fuelcode  \\\n",
       "0   0  2008  359   -81.0384   25.1958     4536          3      1600   \n",
       "1   1  2008  359   -81.0404   25.1984     4536          3      1600   \n",
       "2   2  2008  359   -81.0380   25.1981     4536          3      1600   \n",
       "4   4  2008  359   -81.0594   25.2035     4536          3      1600   \n",
       "5   5  2008  359   -81.0570   25.2032     4536          3      1600   \n",
       "\n",
       "   area_burned  prefire_fuel  ...         ECO      ECH4     EPM2.5  cwd_frac  \\\n",
       "0          0.0   6220.097576  ...  153.981344  4.499455  23.797117  0.023231   \n",
       "1      62500.0   6220.097576  ...  157.185824  4.593092  24.292355  0.022757   \n",
       "2          0.0   6220.097576  ...  153.981344  4.499455  23.797117  0.023231   \n",
       "4          0.0   6220.097576  ...  153.981344  4.499455  23.797117  0.023231   \n",
       "5      62500.0   6220.097576  ...  157.185824  4.593092  24.292355  0.022757   \n",
       "\n",
       "   duff_frac  fuel_moisture_class  burn_source  burnday_source  BSEV  \\\n",
       "0   0.082115                    3            1              81     1   \n",
       "1   0.080441                    3            1              81     2   \n",
       "2   0.082115                    3            1              81     1   \n",
       "4   0.082115                    3            1              81     1   \n",
       "5   0.080441                    3            1              81     2   \n",
       "\n",
       "   BSEV_flag  \n",
       "0          0  \n",
       "1          0  \n",
       "2          0  \n",
       "4          0  \n",
       "5          0  \n",
       "\n",
       "[5 rows x 22 columns]"
      ]
     },
     "execution_count": 7,
     "metadata": {},
     "output_type": "execute_result"
    }
   ],
   "source": [
    "emyear20xx.head()"
   ]
  },
  {
   "cell_type": "markdown",
   "metadata": {},
   "source": [
    "## Set Year for DataSet and pair down data"
   ]
  },
  {
   "cell_type": "code",
   "execution_count": 65,
   "metadata": {},
   "outputs": [],
   "source": [
    "emyear = 2007"
   ]
  },
  {
   "cell_type": "code",
   "execution_count": 66,
   "metadata": {},
   "outputs": [
    {
     "name": "stdout",
     "output_type": "stream",
     "text": [
      "There are 640,039 rows\n"
     ]
    }
   ],
   "source": [
    "### Variable to capture a single year of data for clustering. \n",
    "### Example - emyear20xx = emyear20xx[(emyear20xx.year == 2005) & (emdata.doy > 181) & (emdata.doy < 213)]\n",
    "emyearset20xx = emyear20xx[(emyear20xx.year == emyear)]\n",
    "print('There are {:,} rows'.format(len(emyearset20xx)))"
   ]
  },
  {
   "cell_type": "code",
   "execution_count": 67,
   "metadata": {},
   "outputs": [
    {
     "data": {
      "text/html": [
       "<div>\n",
       "<style scoped>\n",
       "    .dataframe tbody tr th:only-of-type {\n",
       "        vertical-align: middle;\n",
       "    }\n",
       "\n",
       "    .dataframe tbody tr th {\n",
       "        vertical-align: top;\n",
       "    }\n",
       "\n",
       "    .dataframe thead th {\n",
       "        text-align: right;\n",
       "    }\n",
       "</style>\n",
       "<table border=\"1\" class=\"dataframe\">\n",
       "  <thead>\n",
       "    <tr style=\"text-align: right;\">\n",
       "      <th></th>\n",
       "      <th>id</th>\n",
       "      <th>year</th>\n",
       "      <th>doy</th>\n",
       "      <th>longitude</th>\n",
       "      <th>latitude</th>\n",
       "      <th>grid10k</th>\n",
       "      <th>covertype</th>\n",
       "      <th>fuelcode</th>\n",
       "      <th>area_burned</th>\n",
       "      <th>prefire_fuel</th>\n",
       "      <th>...</th>\n",
       "      <th>ECO</th>\n",
       "      <th>ECH4</th>\n",
       "      <th>EPM2.5</th>\n",
       "      <th>cwd_frac</th>\n",
       "      <th>duff_frac</th>\n",
       "      <th>fuel_moisture_class</th>\n",
       "      <th>burn_source</th>\n",
       "      <th>burnday_source</th>\n",
       "      <th>BSEV</th>\n",
       "      <th>BSEV_flag</th>\n",
       "    </tr>\n",
       "  </thead>\n",
       "  <tbody>\n",
       "    <tr>\n",
       "      <th>2080921</th>\n",
       "      <td>766642</td>\n",
       "      <td>2007</td>\n",
       "      <td>177</td>\n",
       "      <td>-120.2088</td>\n",
       "      <td>48.3765</td>\n",
       "      <td>128214</td>\n",
       "      <td>3</td>\n",
       "      <td>1220</td>\n",
       "      <td>62500.0</td>\n",
       "      <td>4534.187262</td>\n",
       "      <td>...</td>\n",
       "      <td>450.203370</td>\n",
       "      <td>25.319708</td>\n",
       "      <td>77.177721</td>\n",
       "      <td>0.154208</td>\n",
       "      <td>0.257893</td>\n",
       "      <td>2</td>\n",
       "      <td>4</td>\n",
       "      <td>78</td>\n",
       "      <td>3</td>\n",
       "      <td>1</td>\n",
       "    </tr>\n",
       "    <tr>\n",
       "      <th>2080922</th>\n",
       "      <td>766643</td>\n",
       "      <td>2007</td>\n",
       "      <td>177</td>\n",
       "      <td>-120.2055</td>\n",
       "      <td>48.3771</td>\n",
       "      <td>128214</td>\n",
       "      <td>1</td>\n",
       "      <td>1</td>\n",
       "      <td>62500.0</td>\n",
       "      <td>61.871472</td>\n",
       "      <td>...</td>\n",
       "      <td>4.027833</td>\n",
       "      <td>0.154208</td>\n",
       "      <td>0.586913</td>\n",
       "      <td>0.000000</td>\n",
       "      <td>0.000000</td>\n",
       "      <td>2</td>\n",
       "      <td>4</td>\n",
       "      <td>78</td>\n",
       "      <td>3</td>\n",
       "      <td>1</td>\n",
       "    </tr>\n",
       "    <tr>\n",
       "      <th>2080923</th>\n",
       "      <td>766644</td>\n",
       "      <td>2007</td>\n",
       "      <td>177</td>\n",
       "      <td>-120.2128</td>\n",
       "      <td>48.3781</td>\n",
       "      <td>128214</td>\n",
       "      <td>2</td>\n",
       "      <td>2</td>\n",
       "      <td>62500.0</td>\n",
       "      <td>676.775268</td>\n",
       "      <td>...</td>\n",
       "      <td>42.636842</td>\n",
       "      <td>1.632382</td>\n",
       "      <td>6.212797</td>\n",
       "      <td>0.000000</td>\n",
       "      <td>0.000000</td>\n",
       "      <td>2</td>\n",
       "      <td>4</td>\n",
       "      <td>78</td>\n",
       "      <td>2</td>\n",
       "      <td>1</td>\n",
       "    </tr>\n",
       "    <tr>\n",
       "      <th>2080924</th>\n",
       "      <td>766645</td>\n",
       "      <td>2007</td>\n",
       "      <td>177</td>\n",
       "      <td>-120.2096</td>\n",
       "      <td>48.3787</td>\n",
       "      <td>128214</td>\n",
       "      <td>2</td>\n",
       "      <td>2</td>\n",
       "      <td>62500.0</td>\n",
       "      <td>675.766494</td>\n",
       "      <td>...</td>\n",
       "      <td>42.573289</td>\n",
       "      <td>1.629949</td>\n",
       "      <td>6.203536</td>\n",
       "      <td>0.000000</td>\n",
       "      <td>0.000000</td>\n",
       "      <td>2</td>\n",
       "      <td>4</td>\n",
       "      <td>78</td>\n",
       "      <td>3</td>\n",
       "      <td>1</td>\n",
       "    </tr>\n",
       "    <tr>\n",
       "      <th>2080925</th>\n",
       "      <td>766646</td>\n",
       "      <td>2007</td>\n",
       "      <td>177</td>\n",
       "      <td>-120.2064</td>\n",
       "      <td>48.3793</td>\n",
       "      <td>128214</td>\n",
       "      <td>2</td>\n",
       "      <td>2</td>\n",
       "      <td>62500.0</td>\n",
       "      <td>690.449760</td>\n",
       "      <td>...</td>\n",
       "      <td>43.498335</td>\n",
       "      <td>1.665365</td>\n",
       "      <td>6.338329</td>\n",
       "      <td>0.000000</td>\n",
       "      <td>0.000000</td>\n",
       "      <td>2</td>\n",
       "      <td>4</td>\n",
       "      <td>78</td>\n",
       "      <td>3</td>\n",
       "      <td>1</td>\n",
       "    </tr>\n",
       "    <tr>\n",
       "      <th>2080926</th>\n",
       "      <td>766647</td>\n",
       "      <td>2007</td>\n",
       "      <td>177</td>\n",
       "      <td>-120.2104</td>\n",
       "      <td>48.3809</td>\n",
       "      <td>128214</td>\n",
       "      <td>2</td>\n",
       "      <td>2</td>\n",
       "      <td>62500.0</td>\n",
       "      <td>714.099906</td>\n",
       "      <td>...</td>\n",
       "      <td>44.988294</td>\n",
       "      <td>1.722409</td>\n",
       "      <td>6.555437</td>\n",
       "      <td>0.000000</td>\n",
       "      <td>0.000000</td>\n",
       "      <td>2</td>\n",
       "      <td>4</td>\n",
       "      <td>78</td>\n",
       "      <td>2</td>\n",
       "      <td>1</td>\n",
       "    </tr>\n",
       "    <tr>\n",
       "      <th>2080927</th>\n",
       "      <td>766648</td>\n",
       "      <td>2007</td>\n",
       "      <td>219</td>\n",
       "      <td>-118.2374</td>\n",
       "      <td>48.9904</td>\n",
       "      <td>129613</td>\n",
       "      <td>3</td>\n",
       "      <td>1200</td>\n",
       "      <td>62500.0</td>\n",
       "      <td>6424.431099</td>\n",
       "      <td>...</td>\n",
       "      <td>600.019765</td>\n",
       "      <td>33.745472</td>\n",
       "      <td>102.860531</td>\n",
       "      <td>0.212021</td>\n",
       "      <td>0.178167</td>\n",
       "      <td>3</td>\n",
       "      <td>4</td>\n",
       "      <td>77</td>\n",
       "      <td>4</td>\n",
       "      <td>1</td>\n",
       "    </tr>\n",
       "    <tr>\n",
       "      <th>2080929</th>\n",
       "      <td>766650</td>\n",
       "      <td>2007</td>\n",
       "      <td>139</td>\n",
       "      <td>-119.3991</td>\n",
       "      <td>48.8640</td>\n",
       "      <td>129604</td>\n",
       "      <td>1</td>\n",
       "      <td>1</td>\n",
       "      <td>0.0</td>\n",
       "      <td>136.857006</td>\n",
       "      <td>...</td>\n",
       "      <td>8.909391</td>\n",
       "      <td>0.341102</td>\n",
       "      <td>1.298226</td>\n",
       "      <td>0.000000</td>\n",
       "      <td>0.000000</td>\n",
       "      <td>3</td>\n",
       "      <td>4</td>\n",
       "      <td>78</td>\n",
       "      <td>1</td>\n",
       "      <td>1</td>\n",
       "    </tr>\n",
       "    <tr>\n",
       "      <th>2080930</th>\n",
       "      <td>766651</td>\n",
       "      <td>2007</td>\n",
       "      <td>196</td>\n",
       "      <td>-120.7040</td>\n",
       "      <td>48.9275</td>\n",
       "      <td>130978</td>\n",
       "      <td>3</td>\n",
       "      <td>1360</td>\n",
       "      <td>0.0</td>\n",
       "      <td>2673.497587</td>\n",
       "      <td>...</td>\n",
       "      <td>230.753619</td>\n",
       "      <td>12.977722</td>\n",
       "      <td>39.557763</td>\n",
       "      <td>0.191861</td>\n",
       "      <td>0.264404</td>\n",
       "      <td>2</td>\n",
       "      <td>4</td>\n",
       "      <td>78</td>\n",
       "      <td>1</td>\n",
       "      <td>1</td>\n",
       "    </tr>\n",
       "    <tr>\n",
       "      <th>2080931</th>\n",
       "      <td>766652</td>\n",
       "      <td>2007</td>\n",
       "      <td>196</td>\n",
       "      <td>-120.7007</td>\n",
       "      <td>48.9281</td>\n",
       "      <td>130978</td>\n",
       "      <td>3</td>\n",
       "      <td>1260</td>\n",
       "      <td>62500.0</td>\n",
       "      <td>6989.973251</td>\n",
       "      <td>...</td>\n",
       "      <td>629.822967</td>\n",
       "      <td>35.421623</td>\n",
       "      <td>107.969652</td>\n",
       "      <td>0.321165</td>\n",
       "      <td>0.245802</td>\n",
       "      <td>2</td>\n",
       "      <td>4</td>\n",
       "      <td>78</td>\n",
       "      <td>3</td>\n",
       "      <td>1</td>\n",
       "    </tr>\n",
       "  </tbody>\n",
       "</table>\n",
       "<p>10 rows × 22 columns</p>\n",
       "</div>"
      ],
      "text/plain": [
       "             id  year  doy  longitude  latitude  grid10k  covertype  fuelcode  \\\n",
       "2080921  766642  2007  177  -120.2088   48.3765   128214          3      1220   \n",
       "2080922  766643  2007  177  -120.2055   48.3771   128214          1         1   \n",
       "2080923  766644  2007  177  -120.2128   48.3781   128214          2         2   \n",
       "2080924  766645  2007  177  -120.2096   48.3787   128214          2         2   \n",
       "2080925  766646  2007  177  -120.2064   48.3793   128214          2         2   \n",
       "2080926  766647  2007  177  -120.2104   48.3809   128214          2         2   \n",
       "2080927  766648  2007  219  -118.2374   48.9904   129613          3      1200   \n",
       "2080929  766650  2007  139  -119.3991   48.8640   129604          1         1   \n",
       "2080930  766651  2007  196  -120.7040   48.9275   130978          3      1360   \n",
       "2080931  766652  2007  196  -120.7007   48.9281   130978          3      1260   \n",
       "\n",
       "         area_burned  prefire_fuel  ...         ECO       ECH4      EPM2.5  \\\n",
       "2080921      62500.0   4534.187262  ...  450.203370  25.319708   77.177721   \n",
       "2080922      62500.0     61.871472  ...    4.027833   0.154208    0.586913   \n",
       "2080923      62500.0    676.775268  ...   42.636842   1.632382    6.212797   \n",
       "2080924      62500.0    675.766494  ...   42.573289   1.629949    6.203536   \n",
       "2080925      62500.0    690.449760  ...   43.498335   1.665365    6.338329   \n",
       "2080926      62500.0    714.099906  ...   44.988294   1.722409    6.555437   \n",
       "2080927      62500.0   6424.431099  ...  600.019765  33.745472  102.860531   \n",
       "2080929          0.0    136.857006  ...    8.909391   0.341102    1.298226   \n",
       "2080930          0.0   2673.497587  ...  230.753619  12.977722   39.557763   \n",
       "2080931      62500.0   6989.973251  ...  629.822967  35.421623  107.969652   \n",
       "\n",
       "         cwd_frac  duff_frac  fuel_moisture_class  burn_source  \\\n",
       "2080921  0.154208   0.257893                    2            4   \n",
       "2080922  0.000000   0.000000                    2            4   \n",
       "2080923  0.000000   0.000000                    2            4   \n",
       "2080924  0.000000   0.000000                    2            4   \n",
       "2080925  0.000000   0.000000                    2            4   \n",
       "2080926  0.000000   0.000000                    2            4   \n",
       "2080927  0.212021   0.178167                    3            4   \n",
       "2080929  0.000000   0.000000                    3            4   \n",
       "2080930  0.191861   0.264404                    2            4   \n",
       "2080931  0.321165   0.245802                    2            4   \n",
       "\n",
       "         burnday_source  BSEV  BSEV_flag  \n",
       "2080921              78     3          1  \n",
       "2080922              78     3          1  \n",
       "2080923              78     2          1  \n",
       "2080924              78     3          1  \n",
       "2080925              78     3          1  \n",
       "2080926              78     2          1  \n",
       "2080927              77     4          1  \n",
       "2080929              78     1          1  \n",
       "2080930              78     1          1  \n",
       "2080931              78     3          1  \n",
       "\n",
       "[10 rows x 22 columns]"
      ]
     },
     "execution_count": 67,
     "metadata": {},
     "output_type": "execute_result"
    }
   ],
   "source": [
    "emyearset20xx.tail(10)"
   ]
  },
  {
   "cell_type": "code",
   "execution_count": 68,
   "metadata": {},
   "outputs": [
    {
     "name": "stdout",
     "output_type": "stream",
     "text": [
      "3956\n"
     ]
    }
   ],
   "source": [
    "kms_per_radian = 3956\n",
    "### 3956 for miles, 6371.0088 for kilometers\n",
    "print(kms_per_radian)"
   ]
  },
  {
   "cell_type": "markdown",
   "metadata": {},
   "source": [
    "## Compute DBSCAN\n",
    "\n",
    " #####   eps is the physical distance from each point that forms its neighborhood\n",
    "#####    min_samples is the min cluster size, otherwise it's noise - set to 1 so we get no noise\n",
    "\n",
    "##### Extract the lat, lon columns into a numpy matrix of coordinates, then convert to radians when you call fit, for use by scikit-learn's haversine metric."
   ]
  },
  {
   "cell_type": "code",
   "execution_count": 69,
   "metadata": {},
   "outputs": [
    {
     "name": "stderr",
     "output_type": "stream",
     "text": [
      "/Users/AlfHaugen/anaconda3/lib/python3.7/site-packages/ipykernel_launcher.py:1: FutureWarning: Method .as_matrix will be removed in a future version. Use .values instead.\n",
      "  \"\"\"Entry point for launching an IPython kernel.\n"
     ]
    }
   ],
   "source": [
    "coords = emyearset20xx.as_matrix(columns=['latitude', 'longitude'])\n",
    "epsilon = 1.5 / kms_per_radian"
   ]
  },
  {
   "cell_type": "markdown",
   "metadata": {},
   "source": [
    "## Defining the Clustering Functions"
   ]
  },
  {
   "cell_type": "code",
   "execution_count": 70,
   "metadata": {},
   "outputs": [
    {
     "data": {
      "text/plain": [
       "2007"
      ]
     },
     "execution_count": 70,
     "metadata": {},
     "output_type": "execute_result"
    }
   ],
   "source": [
    "emyear"
   ]
  },
  {
   "cell_type": "code",
   "execution_count": 71,
   "metadata": {},
   "outputs": [
    {
     "name": "stdout",
     "output_type": "stream",
     "text": [
      "Clustered 640,039 points down to 8,945 clusters, for 98.6% compression in 110.69 seconds\n",
      "Silhouette coefficient: 0.269\n"
     ]
    }
   ],
   "source": [
    "start_time = time.time()\n",
    "db = DBSCAN(eps=epsilon, min_samples=1, algorithm='ball_tree', metric='haversine').fit(np.radians(coords))\n",
    "cluster_labels = db.labels_\n",
    "\n",
    "# get the number of clusters\n",
    "num_clusters = len(set(cluster_labels))\n",
    "\n",
    "# all done, print the outcome\n",
    "message = 'Clustered {:,} points down to {:,} clusters, for {:.1f}% compression in {:,.2f} seconds'\n",
    "print(message.format(len(emyearset20xx), num_clusters, 100*(1 - float(num_clusters) / len(emyearset20xx)), time.time()-start_time))\n",
    "print('Silhouette coefficient: {:0.03f}'.format(metrics.silhouette_score(coords, cluster_labels)))\n"
   ]
  },
  {
   "cell_type": "markdown",
   "metadata": {},
   "source": [
    "## Results from Clustering:\n",
    "### Emissions Data from USDA:\n",
    "##### 2003 - Clustered 317,353 points down to 6,231 clusters, for 98.0% compression in 44.70 seconds\n",
    "Silhouette coefficient: 0.491\n",
    "##### 2004 - Clustered 164,634 points down to 6,568 clusters, for 96.0% compression in 21.16 seconds\n",
    "Silhouette coefficient: 0.605\n",
    "##### 2005 - Clustered 399,828 points down to 9,010 clusters, for 97.7% compression in 76.10 seconds\n",
    "Silhouette coefficient: 0.419\n",
    "##### 2007 - Clustered 640,039 points down to 8,945 clusters, for 98.6% compression in 110.69 seconds\n",
    "Silhouette coefficient: 0.269\n",
    "#### 2008 - "
   ]
  },
  {
   "cell_type": "code",
   "execution_count": 72,
   "metadata": {},
   "outputs": [],
   "source": [
    "# turn the clusters into a pandas series, where each element is a cluster of points\n",
    "clusters = pd.Series([coords[cluster_labels==n] for n in range(num_clusters)])"
   ]
  },
  {
   "cell_type": "code",
   "execution_count": 73,
   "metadata": {},
   "outputs": [
    {
     "data": {
      "text/plain": [
       "8943                          [[48.864, -119.3991]]\n",
       "8944    [[48.9275, -120.704], [48.9281, -120.7007]]\n",
       "dtype: object"
      ]
     },
     "execution_count": 73,
     "metadata": {},
     "output_type": "execute_result"
    }
   ],
   "source": [
    "# Print clusters to see what's in it:: ok, looks like all the coordindates for cluster. \n",
    "clusters.tail(2)"
   ]
  },
  {
   "cell_type": "markdown",
   "metadata": {},
   "source": [
    "# Moving original data points placed into clusters into DataFrame"
   ]
  },
  {
   "cell_type": "code",
   "execution_count": 74,
   "metadata": {},
   "outputs": [
    {
     "name": "stdout",
     "output_type": "stream",
     "text": [
      "Number (len) of Clusters from results =  8945\n",
      "Number of cluster datapoints in the first Cluster =  3\n"
     ]
    }
   ],
   "source": [
    "ab = list(zip(clusters[0]))\n",
    "ab = len(ab)\n",
    "print('Number (len) of Clusters from results = ', len(clusters))\n",
    "print('Number of cluster datapoints in the first Cluster = ', ab)"
   ]
  },
  {
   "cell_type": "code",
   "execution_count": 75,
   "metadata": {},
   "outputs": [],
   "source": [
    "### Loop to pull in the cluster points that make up each Cluster represented in the Series 'Clusters'.\n",
    "def preparecluster(row, clusterseries):\n",
    "    clusterDF = pd.DataFrame(clusterseries[0]) \n",
    "    clusterDF = clusterDF.assign(ClusterNum=row) \n",
    "    row = 1\n",
    "    while row < len(clusterseries):\n",
    "        clusterdata = (clusterseries[row])\n",
    "        clusterDFTemp = pd.DataFrame(clusterdata)\n",
    "        clusterDFTemp = clusterDFTemp.assign(ClusterNum=row) \n",
    "        clusterDF = clusterDF.append(clusterDFTemp, ignore_index=True)\n",
    "        row = row + 1\n",
    "    return clusterDF"
   ]
  },
  {
   "cell_type": "code",
   "execution_count": 76,
   "metadata": {},
   "outputs": [
    {
     "data": {
      "text/html": [
       "<div>\n",
       "<style scoped>\n",
       "    .dataframe tbody tr th:only-of-type {\n",
       "        vertical-align: middle;\n",
       "    }\n",
       "\n",
       "    .dataframe tbody tr th {\n",
       "        vertical-align: top;\n",
       "    }\n",
       "\n",
       "    .dataframe thead th {\n",
       "        text-align: right;\n",
       "    }\n",
       "</style>\n",
       "<table border=\"1\" class=\"dataframe\">\n",
       "  <thead>\n",
       "    <tr style=\"text-align: right;\">\n",
       "      <th></th>\n",
       "      <th>0</th>\n",
       "      <th>1</th>\n",
       "      <th>ClusterNum</th>\n",
       "      <th>Year</th>\n",
       "    </tr>\n",
       "  </thead>\n",
       "  <tbody>\n",
       "    <tr>\n",
       "      <th>640034</th>\n",
       "      <td>48.3809</td>\n",
       "      <td>-120.2104</td>\n",
       "      <td>8941</td>\n",
       "      <td>2007</td>\n",
       "    </tr>\n",
       "    <tr>\n",
       "      <th>640035</th>\n",
       "      <td>48.9904</td>\n",
       "      <td>-118.2374</td>\n",
       "      <td>8942</td>\n",
       "      <td>2007</td>\n",
       "    </tr>\n",
       "    <tr>\n",
       "      <th>640036</th>\n",
       "      <td>48.8640</td>\n",
       "      <td>-119.3991</td>\n",
       "      <td>8943</td>\n",
       "      <td>2007</td>\n",
       "    </tr>\n",
       "    <tr>\n",
       "      <th>640037</th>\n",
       "      <td>48.9275</td>\n",
       "      <td>-120.7040</td>\n",
       "      <td>8944</td>\n",
       "      <td>2007</td>\n",
       "    </tr>\n",
       "    <tr>\n",
       "      <th>640038</th>\n",
       "      <td>48.9281</td>\n",
       "      <td>-120.7007</td>\n",
       "      <td>8944</td>\n",
       "      <td>2007</td>\n",
       "    </tr>\n",
       "  </tbody>\n",
       "</table>\n",
       "</div>"
      ],
      "text/plain": [
       "              0         1  ClusterNum  Year\n",
       "640034  48.3809 -120.2104        8941  2007\n",
       "640035  48.9904 -118.2374        8942  2007\n",
       "640036  48.8640 -119.3991        8943  2007\n",
       "640037  48.9275 -120.7040        8944  2007\n",
       "640038  48.9281 -120.7007        8944  2007"
      ]
     },
     "execution_count": 76,
     "metadata": {},
     "output_type": "execute_result"
    }
   ],
   "source": [
    "### Viewing results of dataframe consolidation and adding year to \n",
    "groupedclusters = preparecluster(0,clusters)\n",
    "groupedclusters = groupedclusters.assign(Year=2007) \n",
    "groupedclusters.tail()"
   ]
  },
  {
   "cell_type": "code",
   "execution_count": 77,
   "metadata": {},
   "outputs": [],
   "source": [
    "groupedclusters.to_csv('/Users/AlfHaugen/Python/Wildfire_Data/FireExports/Emclustermakeup_2007.csv', encoding='utf-8')"
   ]
  },
  {
   "cell_type": "markdown",
   "metadata": {},
   "source": [
    "## Find the point in each cluster that is closest to its centroid\n",
    "\n",
    "DBSCAN clusters may be non-convex. This technique just returns one representative point from each cluster. First get the lat,lon coordinates of the cluster's centroid (shapely represents the first coordinate in the tuple as x and the second as y, so lat is x and lon is y here). Then find the member of the cluster with the smallest great circle distance to the centroid.\n"
   ]
  },
  {
   "cell_type": "code",
   "execution_count": 78,
   "metadata": {},
   "outputs": [],
   "source": [
    "def get_centermost_point(cluster):\n",
    "    centroid = (MultiPoint(cluster).centroid.x, MultiPoint(cluster).centroid.y)\n",
    "    centermost_point = min(cluster, key=lambda point: great_circle(point, centroid).m)\n",
    "    return tuple(centermost_point)\n",
    "\n",
    "centermost_points = clusters.map(get_centermost_point)"
   ]
  },
  {
   "cell_type": "code",
   "execution_count": 79,
   "metadata": {},
   "outputs": [
    {
     "name": "stdout",
     "output_type": "stream",
     "text": [
      "<zip object at 0x10f364908>\n"
     ]
    }
   ],
   "source": [
    "# unzip the list of centermost points (lat, lon) tuples into separate lat and lon lists\n",
    "latlon = zip(*centermost_points)\n",
    "print(latlon)"
   ]
  },
  {
   "cell_type": "code",
   "execution_count": 80,
   "metadata": {},
   "outputs": [],
   "source": [
    "# unzip the list of centermost points (lat, lon) tuples into separate lat and lon lists\n",
    "latitude, longitude = zip(*centermost_points)"
   ]
  },
  {
   "cell_type": "code",
   "execution_count": 81,
   "metadata": {},
   "outputs": [
    {
     "name": "stdout",
     "output_type": "stream",
     "text": [
      "(25.7279, 25.7478, 25.8822, 25.8898) (-80.5475, -80.5264, -81.2633, -81.2045)\n"
     ]
    }
   ],
   "source": [
    "print(latitude[1:5], longitude[1:5])"
   ]
  },
  {
   "cell_type": "code",
   "execution_count": 82,
   "metadata": {},
   "outputs": [
    {
     "data": {
      "text/html": [
       "<div>\n",
       "<style scoped>\n",
       "    .dataframe tbody tr th:only-of-type {\n",
       "        vertical-align: middle;\n",
       "    }\n",
       "\n",
       "    .dataframe tbody tr th {\n",
       "        vertical-align: top;\n",
       "    }\n",
       "\n",
       "    .dataframe thead th {\n",
       "        text-align: right;\n",
       "    }\n",
       "</style>\n",
       "<table border=\"1\" class=\"dataframe\">\n",
       "  <thead>\n",
       "    <tr style=\"text-align: right;\">\n",
       "      <th></th>\n",
       "      <th>longitude</th>\n",
       "      <th>latitude</th>\n",
       "    </tr>\n",
       "  </thead>\n",
       "  <tbody>\n",
       "    <tr>\n",
       "      <th>0</th>\n",
       "      <td>-80.5223</td>\n",
       "      <td>25.7149</td>\n",
       "    </tr>\n",
       "    <tr>\n",
       "      <th>1</th>\n",
       "      <td>-80.5475</td>\n",
       "      <td>25.7279</td>\n",
       "    </tr>\n",
       "    <tr>\n",
       "      <th>2</th>\n",
       "      <td>-80.5264</td>\n",
       "      <td>25.7478</td>\n",
       "    </tr>\n",
       "    <tr>\n",
       "      <th>3</th>\n",
       "      <td>-81.2633</td>\n",
       "      <td>25.8822</td>\n",
       "    </tr>\n",
       "    <tr>\n",
       "      <th>4</th>\n",
       "      <td>-81.2045</td>\n",
       "      <td>25.8898</td>\n",
       "    </tr>\n",
       "  </tbody>\n",
       "</table>\n",
       "</div>"
      ],
      "text/plain": [
       "   longitude  latitude\n",
       "0   -80.5223   25.7149\n",
       "1   -80.5475   25.7279\n",
       "2   -80.5264   25.7478\n",
       "3   -81.2633   25.8822\n",
       "4   -81.2045   25.8898"
      ]
     },
     "execution_count": 82,
     "metadata": {},
     "output_type": "execute_result"
    }
   ],
   "source": [
    "# from these lats/lons create a new df of one representative point for each cluster\n",
    "rep_points = pd.DataFrame({'longitude':longitude, 'latitude':latitude})\n",
    "rep_points.head()"
   ]
  },
  {
   "cell_type": "markdown",
   "metadata": {},
   "source": [
    "## Pulling related data for new Cluster Points and saving to CSV"
   ]
  },
  {
   "cell_type": "code",
   "execution_count": 83,
   "metadata": {},
   "outputs": [
    {
     "data": {
      "text/html": [
       "<div>\n",
       "<style scoped>\n",
       "    .dataframe tbody tr th:only-of-type {\n",
       "        vertical-align: middle;\n",
       "    }\n",
       "\n",
       "    .dataframe tbody tr th {\n",
       "        vertical-align: top;\n",
       "    }\n",
       "\n",
       "    .dataframe thead th {\n",
       "        text-align: right;\n",
       "    }\n",
       "</style>\n",
       "<table border=\"1\" class=\"dataframe\">\n",
       "  <thead>\n",
       "    <tr style=\"text-align: right;\">\n",
       "      <th></th>\n",
       "      <th>id</th>\n",
       "      <th>year</th>\n",
       "      <th>doy</th>\n",
       "      <th>longitude</th>\n",
       "      <th>latitude</th>\n",
       "      <th>grid10k</th>\n",
       "      <th>covertype</th>\n",
       "      <th>fuelcode</th>\n",
       "      <th>area_burned</th>\n",
       "      <th>prefire_fuel</th>\n",
       "      <th>...</th>\n",
       "      <th>ECO</th>\n",
       "      <th>ECH4</th>\n",
       "      <th>EPM2.5</th>\n",
       "      <th>cwd_frac</th>\n",
       "      <th>duff_frac</th>\n",
       "      <th>fuel_moisture_class</th>\n",
       "      <th>burn_source</th>\n",
       "      <th>burnday_source</th>\n",
       "      <th>BSEV</th>\n",
       "      <th>BSEV_flag</th>\n",
       "    </tr>\n",
       "  </thead>\n",
       "  <tbody>\n",
       "    <tr>\n",
       "      <th>8940</th>\n",
       "      <td>766639.0</td>\n",
       "      <td>2007.0</td>\n",
       "      <td>224.0</td>\n",
       "      <td>-116.6763</td>\n",
       "      <td>48.9172</td>\n",
       "      <td>127780.0</td>\n",
       "      <td>3.0</td>\n",
       "      <td>1300.0</td>\n",
       "      <td>62500.0</td>\n",
       "      <td>11715.036749</td>\n",
       "      <td>...</td>\n",
       "      <td>970.697355</td>\n",
       "      <td>54.592603</td>\n",
       "      <td>166.405261</td>\n",
       "      <td>0.411771</td>\n",
       "      <td>0.244087</td>\n",
       "      <td>2.0</td>\n",
       "      <td>4.0</td>\n",
       "      <td>78.0</td>\n",
       "      <td>3.0</td>\n",
       "      <td>1.0</td>\n",
       "    </tr>\n",
       "    <tr>\n",
       "      <th>8941</th>\n",
       "      <td>766642.0</td>\n",
       "      <td>2007.0</td>\n",
       "      <td>177.0</td>\n",
       "      <td>-120.2088</td>\n",
       "      <td>48.3765</td>\n",
       "      <td>128214.0</td>\n",
       "      <td>3.0</td>\n",
       "      <td>1220.0</td>\n",
       "      <td>62500.0</td>\n",
       "      <td>4534.187262</td>\n",
       "      <td>...</td>\n",
       "      <td>450.203370</td>\n",
       "      <td>25.319708</td>\n",
       "      <td>77.177721</td>\n",
       "      <td>0.154208</td>\n",
       "      <td>0.257893</td>\n",
       "      <td>2.0</td>\n",
       "      <td>4.0</td>\n",
       "      <td>78.0</td>\n",
       "      <td>3.0</td>\n",
       "      <td>1.0</td>\n",
       "    </tr>\n",
       "    <tr>\n",
       "      <th>8942</th>\n",
       "      <td>766648.0</td>\n",
       "      <td>2007.0</td>\n",
       "      <td>219.0</td>\n",
       "      <td>-118.2374</td>\n",
       "      <td>48.9904</td>\n",
       "      <td>129613.0</td>\n",
       "      <td>3.0</td>\n",
       "      <td>1200.0</td>\n",
       "      <td>62500.0</td>\n",
       "      <td>6424.431099</td>\n",
       "      <td>...</td>\n",
       "      <td>600.019765</td>\n",
       "      <td>33.745472</td>\n",
       "      <td>102.860531</td>\n",
       "      <td>0.212021</td>\n",
       "      <td>0.178167</td>\n",
       "      <td>3.0</td>\n",
       "      <td>4.0</td>\n",
       "      <td>77.0</td>\n",
       "      <td>4.0</td>\n",
       "      <td>1.0</td>\n",
       "    </tr>\n",
       "    <tr>\n",
       "      <th>8943</th>\n",
       "      <td>766650.0</td>\n",
       "      <td>2007.0</td>\n",
       "      <td>139.0</td>\n",
       "      <td>-119.3991</td>\n",
       "      <td>48.8640</td>\n",
       "      <td>129604.0</td>\n",
       "      <td>1.0</td>\n",
       "      <td>1.0</td>\n",
       "      <td>0.0</td>\n",
       "      <td>136.857006</td>\n",
       "      <td>...</td>\n",
       "      <td>8.909391</td>\n",
       "      <td>0.341102</td>\n",
       "      <td>1.298226</td>\n",
       "      <td>0.000000</td>\n",
       "      <td>0.000000</td>\n",
       "      <td>3.0</td>\n",
       "      <td>4.0</td>\n",
       "      <td>78.0</td>\n",
       "      <td>1.0</td>\n",
       "      <td>1.0</td>\n",
       "    </tr>\n",
       "    <tr>\n",
       "      <th>8944</th>\n",
       "      <td>766652.0</td>\n",
       "      <td>2007.0</td>\n",
       "      <td>196.0</td>\n",
       "      <td>-120.7007</td>\n",
       "      <td>48.9281</td>\n",
       "      <td>130978.0</td>\n",
       "      <td>3.0</td>\n",
       "      <td>1260.0</td>\n",
       "      <td>62500.0</td>\n",
       "      <td>6989.973251</td>\n",
       "      <td>...</td>\n",
       "      <td>629.822967</td>\n",
       "      <td>35.421623</td>\n",
       "      <td>107.969652</td>\n",
       "      <td>0.321165</td>\n",
       "      <td>0.245802</td>\n",
       "      <td>2.0</td>\n",
       "      <td>4.0</td>\n",
       "      <td>78.0</td>\n",
       "      <td>3.0</td>\n",
       "      <td>1.0</td>\n",
       "    </tr>\n",
       "  </tbody>\n",
       "</table>\n",
       "<p>5 rows × 22 columns</p>\n",
       "</div>"
      ],
      "text/plain": [
       "            id    year    doy  longitude  latitude   grid10k  covertype  \\\n",
       "8940  766639.0  2007.0  224.0  -116.6763   48.9172  127780.0        3.0   \n",
       "8941  766642.0  2007.0  177.0  -120.2088   48.3765  128214.0        3.0   \n",
       "8942  766648.0  2007.0  219.0  -118.2374   48.9904  129613.0        3.0   \n",
       "8943  766650.0  2007.0  139.0  -119.3991   48.8640  129604.0        1.0   \n",
       "8944  766652.0  2007.0  196.0  -120.7007   48.9281  130978.0        3.0   \n",
       "\n",
       "      fuelcode  area_burned  prefire_fuel  ...         ECO       ECH4  \\\n",
       "8940    1300.0      62500.0  11715.036749  ...  970.697355  54.592603   \n",
       "8941    1220.0      62500.0   4534.187262  ...  450.203370  25.319708   \n",
       "8942    1200.0      62500.0   6424.431099  ...  600.019765  33.745472   \n",
       "8943       1.0          0.0    136.857006  ...    8.909391   0.341102   \n",
       "8944    1260.0      62500.0   6989.973251  ...  629.822967  35.421623   \n",
       "\n",
       "          EPM2.5  cwd_frac  duff_frac  fuel_moisture_class  burn_source  \\\n",
       "8940  166.405261  0.411771   0.244087                  2.0          4.0   \n",
       "8941   77.177721  0.154208   0.257893                  2.0          4.0   \n",
       "8942  102.860531  0.212021   0.178167                  3.0          4.0   \n",
       "8943    1.298226  0.000000   0.000000                  3.0          4.0   \n",
       "8944  107.969652  0.321165   0.245802                  2.0          4.0   \n",
       "\n",
       "      burnday_source  BSEV  BSEV_flag  \n",
       "8940            78.0   3.0        1.0  \n",
       "8941            78.0   3.0        1.0  \n",
       "8942            77.0   4.0        1.0  \n",
       "8943            78.0   1.0        1.0  \n",
       "8944            78.0   3.0        1.0  \n",
       "\n",
       "[5 rows x 22 columns]"
      ]
     },
     "execution_count": 83,
     "metadata": {},
     "output_type": "execute_result"
    }
   ],
   "source": [
    "# pull row from original data set where lat/lon match the lat/lon of each row of representative points\n",
    "# that way we get the full details like city, country, and date from the original dataframe\n",
    "\n",
    "rs = rep_points.apply(lambda row: emyearset20xx[(emyearset20xx['latitude']==row['latitude']) & (emyearset20xx['longitude']==row['longitude'])].iloc[0], axis=1)\n",
    "rs.to_csv('/Users/AlfHaugen/Python/Wildfire_Data/FireExports/Emissions2007_DBScan_Clusters.csv', encoding='utf-8')\n",
    "rs.tail()"
   ]
  },
  {
   "cell_type": "code",
   "execution_count": 130,
   "metadata": {},
   "outputs": [
    {
     "data": {
      "image/png": "[encoded data removed]",
      "text/plain": [
       "<Figure size 720x432 with 1 Axes>"
      ]
     },
     "metadata": {
      "needs_background": "light"
     },
     "output_type": "display_data"
    }
   ],
   "source": [
    "# plot the final reduced set of coordinate points vs the original full set\n",
    "fig, ax = plt.subplots(figsize=[10, 6])\n",
    "rs_scatter = ax.scatter(rs['longitude'], rs['latitude'], c='#99cc99', edgecolor='None', alpha=0.7, s=120)\n",
    "df_scatter = ax.scatter(emyearset20xx['longitude'], emyearset20xx['latitude'], c='k', alpha=0.9, s=3)\n",
    "ax.set_title('Full data set vs DBSCAN reduced set')\n",
    "ax.set_xlabel('Longitude')\n",
    "ax.set_ylabel('Latitude')\n",
    "ax.legend([df_scatter, rs_scatter], ['Full set', 'Reduced set'], loc='upper right')\n",
    "plt.show()"
   ]
  },
  {
   "cell_type": "code",
   "execution_count": null,
   "metadata": {},
   "outputs": [],
   "source": []
  },
  {
   "cell_type": "code",
   "execution_count": null,
   "metadata": {},
   "outputs": [],
   "source": []
  }
 ],
 "metadata": {
  "kernelspec": {
   "display_name": "Python 3",
   "language": "python",
   "name": "python3"
  },
  "language_info": {
   "codemirror_mode": {
    "name": "ipython",
    "version": 3
   },
   "file_extension": ".py",
   "mimetype": "text/x-python",
   "name": "python",
   "nbconvert_exporter": "python",
   "pygments_lexer": "ipython3",
   "version": "3.7.3"
  }
 },
 "nbformat": 4,
 "nbformat_minor": 2
}

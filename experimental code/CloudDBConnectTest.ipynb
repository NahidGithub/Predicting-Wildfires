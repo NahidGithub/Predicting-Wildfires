{
 "cells": [
  {
   "cell_type": "markdown",
   "metadata": {},
   "source": [
    "## Connect to Cloud Datebase MYSQL Using Note book\n",
    "\n",
    "### First install MYSQL Connect: \n",
    "<i> pip install mysql-connector-python </i>\n",
    "\n",
    "### Add your IP to the siteground:\n",
    "<i> https://tools.siteground.com/mysql-access?siteId=TFFud1lYTVBJZz09 <i>\n",
    "    \n",
    "### Make sure you have the config.py file in the same folder as the code\n",
    "note not sure how this will work once code is moved out of experimental folder how to reference the .py file in other folders\n",
    "\n",
    "    \n",
    "### Code Steps\n",
    "\n",
    "1.  Connect to DB\n",
    "2.  Print out DB info\n",
    "3.  Execute a Query (Will skip as database has no data)\n",
    "4.  Close Connection"
   ]
  },
  {
   "cell_type": "code",
   "execution_count": 1,
   "metadata": {
    "scrolled": true
   },
   "outputs": [],
   "source": [
    "import mysql.connector\n",
    "from mysql.connector import Error\n",
    "import pandas as pd\n",
    "import config\n",
    "\n",
    "_host = config.db_host\n",
    "_database = config.db_name\n",
    "_user = config.db_user\n",
    "_password = config.db_pass\n",
    "_query = \"select * from pet\" #Somebody created a pet table\n"
   ]
  },
  {
   "cell_type": "code",
   "execution_count": 2,
   "metadata": {},
   "outputs": [],
   "source": [
    "def dbConnect(host1, database1, user1, password1):\n",
    "\n",
    "    try:\n",
    "        print(\"....Trying to Connect\")\n",
    "        connection = mysql.connector.connect(host = host1,\n",
    "                                         database = database1,\n",
    "                                         user = user1,\n",
    "                                         password = password1)\n",
    "        \n",
    "        print(\"....Connection function executed\")\n",
    "        \n",
    "        if connection.is_connected():\n",
    "            db_Info = connection.get_server_info()\n",
    "            print(\"Connected to MySQL Server version \", db_Info)\n",
    "        \n",
    "        cursor = connection.cursor()\n",
    "        cursor.execute(\"select database();\")\n",
    "        record = cursor.fetchone()\n",
    "        print(\"You're connected to database: \", record)\n",
    "        \n",
    "        readTable(connection)\n",
    "\n",
    "    except Error as e:\n",
    "        print(\"Error while connecting to MySQL\", e)\n",
    "    finally:\n",
    "        if (connection.is_connected()):\n",
    "            cursor.close()\n",
    "            connection.close()\n",
    "            print(\"MySQL connection is closed\")"
   ]
  },
  {
   "cell_type": "code",
   "execution_count": 3,
   "metadata": {},
   "outputs": [],
   "source": [
    "def readTable(dbConnection):\n",
    "    \n",
    "    try:\n",
    "        dataFrame = pd.read_sql(_query, dbConnection); \n",
    "        print(\"All the data queried: \\n\", dataFrame)\n",
    "    except Error as e:\n",
    "        print(\"Error while reading\", e)\n",
    "\n",
    "    except Exception as ex:   \n",
    "        print(ex)\n",
    "    finally:\n",
    "        print(\"Finished Reading\")\n",
    "    "
   ]
  },
  {
   "cell_type": "code",
   "execution_count": 4,
   "metadata": {},
   "outputs": [
    {
     "name": "stdout",
     "output_type": "stream",
     "text": [
      "....Trying to Connect\n",
      "....Connection function executed\n",
      "Connected to MySQL Server version  5.7.25-28-log\n",
      "You're connected to database:  ('db27bvsdruzh45',)\n",
      "All the data queried: \n",
      "      name  owner species sex birth death\n",
      "0  sparky  Marty     dog   M  None  None\n",
      "1   rover   John     dog   F  None  None\n",
      "Finished Reading\n",
      "MySQL connection is closed\n"
     ]
    }
   ],
   "source": [
    "dbConnect(_host, _database, _user, _password)"
   ]
  },
  {
   "cell_type": "code",
   "execution_count": null,
   "metadata": {},
   "outputs": [],
   "source": []
  }
 ],
 "metadata": {
  "kernelspec": {
   "display_name": "Python 3",
   "language": "python",
   "name": "python3"
  },
  "language_info": {
   "codemirror_mode": {
    "name": "ipython",
    "version": 3
   },
   "file_extension": ".py",
   "mimetype": "text/x-python",
   "name": "python",
   "nbconvert_exporter": "python",
   "pygments_lexer": "ipython3",
   "version": "3.7.4"
  }
 },
 "nbformat": 4,
 "nbformat_minor": 4
}

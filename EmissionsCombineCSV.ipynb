{
 "cells": [
  {
   "cell_type": "code",
   "execution_count": 22,
   "metadata": {},
   "outputs": [],
   "source": [
    "### Combine all csv's in a directory, into a new file. \n",
    "\n",
    "import os\n",
    "import glob\n",
    "import pandas as pd\n",
    "os.chdir('/Users/AlfHaugen/Python/Wildfire_Data/Missoula Emisions Data RDS-2017-0039/Emissions_Year')\n",
    "\n",
    "extension = 'csv'\n",
    "all_filenames = [i for i in glob.glob('*.{}'.format(extension))]\n",
    "\n",
    "#combine all files in the list\n",
    "combined_csv = pd.concat([pd.read_csv(f) for f in all_filenames ])\n",
    "#export to csv\n",
    "combined_csv.to_csv( \"combined_csv.csv\", index=False, encoding='utf-8-sig')\n",
    "\n"
   ]
  },
  {
   "cell_type": "code",
   "execution_count": 23,
   "metadata": {},
   "outputs": [],
   "source": [
    "emdata = pd.read_csv('/Users/AlfHaugen/Python/Wildfire_Data/Missoula Emisions Data RDS-2017-0039/Emissions_Year/emissions_year2003to2015.csv')"
   ]
  },
  {
   "cell_type": "code",
   "execution_count": 24,
   "metadata": {},
   "outputs": [
    {
     "data": {
      "text/html": [
       "<div>\n",
       "<style scoped>\n",
       "    .dataframe tbody tr th:only-of-type {\n",
       "        vertical-align: middle;\n",
       "    }\n",
       "\n",
       "    .dataframe tbody tr th {\n",
       "        vertical-align: top;\n",
       "    }\n",
       "\n",
       "    .dataframe thead th {\n",
       "        text-align: right;\n",
       "    }\n",
       "</style>\n",
       "<table border=\"1\" class=\"dataframe\">\n",
       "  <thead>\n",
       "    <tr style=\"text-align: right;\">\n",
       "      <th></th>\n",
       "      <th>id</th>\n",
       "      <th>year</th>\n",
       "      <th>doy</th>\n",
       "      <th>longitude</th>\n",
       "      <th>latitude</th>\n",
       "      <th>grid10k</th>\n",
       "      <th>covertype</th>\n",
       "      <th>fuelcode</th>\n",
       "      <th>area_burned</th>\n",
       "      <th>prefire_fuel</th>\n",
       "      <th>...</th>\n",
       "      <th>ECO</th>\n",
       "      <th>ECH4</th>\n",
       "      <th>EPM2.5</th>\n",
       "      <th>cwd_frac</th>\n",
       "      <th>duff_frac</th>\n",
       "      <th>fuel_moisture_class</th>\n",
       "      <th>burn_source</th>\n",
       "      <th>burnday_source</th>\n",
       "      <th>BSEV</th>\n",
       "      <th>BSEV_flag</th>\n",
       "    </tr>\n",
       "  </thead>\n",
       "  <tbody>\n",
       "    <tr>\n",
       "      <th>0</th>\n",
       "      <td>0</td>\n",
       "      <td>2008</td>\n",
       "      <td>359</td>\n",
       "      <td>-81.0384</td>\n",
       "      <td>25.1958</td>\n",
       "      <td>4536</td>\n",
       "      <td>3</td>\n",
       "      <td>1600</td>\n",
       "      <td>0.0</td>\n",
       "      <td>6220.097576</td>\n",
       "      <td>...</td>\n",
       "      <td>153.981344</td>\n",
       "      <td>4.499455</td>\n",
       "      <td>23.797117</td>\n",
       "      <td>0.023231</td>\n",
       "      <td>0.082115</td>\n",
       "      <td>3</td>\n",
       "      <td>1</td>\n",
       "      <td>81</td>\n",
       "      <td>1</td>\n",
       "      <td>0</td>\n",
       "    </tr>\n",
       "    <tr>\n",
       "      <th>1</th>\n",
       "      <td>1</td>\n",
       "      <td>2008</td>\n",
       "      <td>359</td>\n",
       "      <td>-81.0404</td>\n",
       "      <td>25.1984</td>\n",
       "      <td>4536</td>\n",
       "      <td>3</td>\n",
       "      <td>1600</td>\n",
       "      <td>62500.0</td>\n",
       "      <td>6220.097576</td>\n",
       "      <td>...</td>\n",
       "      <td>157.185824</td>\n",
       "      <td>4.593092</td>\n",
       "      <td>24.292355</td>\n",
       "      <td>0.022757</td>\n",
       "      <td>0.080441</td>\n",
       "      <td>3</td>\n",
       "      <td>1</td>\n",
       "      <td>81</td>\n",
       "      <td>2</td>\n",
       "      <td>0</td>\n",
       "    </tr>\n",
       "    <tr>\n",
       "      <th>2</th>\n",
       "      <td>2</td>\n",
       "      <td>2008</td>\n",
       "      <td>359</td>\n",
       "      <td>-81.0380</td>\n",
       "      <td>25.1981</td>\n",
       "      <td>4536</td>\n",
       "      <td>3</td>\n",
       "      <td>1600</td>\n",
       "      <td>0.0</td>\n",
       "      <td>6220.097576</td>\n",
       "      <td>...</td>\n",
       "      <td>153.981344</td>\n",
       "      <td>4.499455</td>\n",
       "      <td>23.797117</td>\n",
       "      <td>0.023231</td>\n",
       "      <td>0.082115</td>\n",
       "      <td>3</td>\n",
       "      <td>1</td>\n",
       "      <td>81</td>\n",
       "      <td>1</td>\n",
       "      <td>0</td>\n",
       "    </tr>\n",
       "    <tr>\n",
       "      <th>3</th>\n",
       "      <td>3</td>\n",
       "      <td>2008</td>\n",
       "      <td>359</td>\n",
       "      <td>-81.0331</td>\n",
       "      <td>25.1973</td>\n",
       "      <td>4536</td>\n",
       "      <td>95</td>\n",
       "      <td>0</td>\n",
       "      <td>62500.0</td>\n",
       "      <td>0.000000</td>\n",
       "      <td>...</td>\n",
       "      <td>0.000000</td>\n",
       "      <td>0.000000</td>\n",
       "      <td>0.000000</td>\n",
       "      <td>0.000000</td>\n",
       "      <td>0.000000</td>\n",
       "      <td>3</td>\n",
       "      <td>1</td>\n",
       "      <td>81</td>\n",
       "      <td>2</td>\n",
       "      <td>0</td>\n",
       "    </tr>\n",
       "    <tr>\n",
       "      <th>4</th>\n",
       "      <td>4</td>\n",
       "      <td>2008</td>\n",
       "      <td>359</td>\n",
       "      <td>-81.0594</td>\n",
       "      <td>25.2035</td>\n",
       "      <td>4536</td>\n",
       "      <td>3</td>\n",
       "      <td>1600</td>\n",
       "      <td>0.0</td>\n",
       "      <td>6220.097576</td>\n",
       "      <td>...</td>\n",
       "      <td>153.981344</td>\n",
       "      <td>4.499455</td>\n",
       "      <td>23.797117</td>\n",
       "      <td>0.023231</td>\n",
       "      <td>0.082115</td>\n",
       "      <td>3</td>\n",
       "      <td>1</td>\n",
       "      <td>81</td>\n",
       "      <td>1</td>\n",
       "      <td>0</td>\n",
       "    </tr>\n",
       "  </tbody>\n",
       "</table>\n",
       "<p>5 rows × 22 columns</p>\n",
       "</div>"
      ],
      "text/plain": [
       "   id  year  doy  longitude  latitude  grid10k  covertype  fuelcode  \\\n",
       "0   0  2008  359   -81.0384   25.1958     4536          3      1600   \n",
       "1   1  2008  359   -81.0404   25.1984     4536          3      1600   \n",
       "2   2  2008  359   -81.0380   25.1981     4536          3      1600   \n",
       "3   3  2008  359   -81.0331   25.1973     4536         95         0   \n",
       "4   4  2008  359   -81.0594   25.2035     4536          3      1600   \n",
       "\n",
       "   area_burned  prefire_fuel  ...         ECO      ECH4     EPM2.5  cwd_frac  \\\n",
       "0          0.0   6220.097576  ...  153.981344  4.499455  23.797117  0.023231   \n",
       "1      62500.0   6220.097576  ...  157.185824  4.593092  24.292355  0.022757   \n",
       "2          0.0   6220.097576  ...  153.981344  4.499455  23.797117  0.023231   \n",
       "3      62500.0      0.000000  ...    0.000000  0.000000   0.000000  0.000000   \n",
       "4          0.0   6220.097576  ...  153.981344  4.499455  23.797117  0.023231   \n",
       "\n",
       "   duff_frac  fuel_moisture_class  burn_source  burnday_source  BSEV  \\\n",
       "0   0.082115                    3            1              81     1   \n",
       "1   0.080441                    3            1              81     2   \n",
       "2   0.082115                    3            1              81     1   \n",
       "3   0.000000                    3            1              81     2   \n",
       "4   0.082115                    3            1              81     1   \n",
       "\n",
       "   BSEV_flag  \n",
       "0          0  \n",
       "1          0  \n",
       "2          0  \n",
       "3          0  \n",
       "4          0  \n",
       "\n",
       "[5 rows x 22 columns]"
      ]
     },
     "execution_count": 24,
     "metadata": {},
     "output_type": "execute_result"
    }
   ],
   "source": [
    "emdata.head(5)"
   ]
  },
  {
   "cell_type": "code",
   "execution_count": 27,
   "metadata": {},
   "outputs": [
    {
     "data": {
      "text/plain": [
       "array([2008, 2009, 2013, 2007, 2006, 2012, 2004, 2010, 2011, 2005, 2015,\n",
       "       2014, 2003])"
      ]
     },
     "execution_count": 27,
     "metadata": {},
     "output_type": "execute_result"
    }
   ],
   "source": [
    "emdata['year'].unique()"
   ]
  },
  {
   "cell_type": "code",
   "execution_count": 39,
   "metadata": {},
   "outputs": [
    {
     "data": {
      "text/plain": [
       "(7254534, 22)"
      ]
     },
     "execution_count": 39,
     "metadata": {},
     "output_type": "execute_result"
    }
   ],
   "source": [
    "emdata.shape"
   ]
  },
  {
   "cell_type": "code",
   "execution_count": 37,
   "metadata": {},
   "outputs": [
    {
     "data": {
      "text/plain": [
       "year\n",
       "2003    424715\n",
       "2004    239663\n",
       "2005    473253\n",
       "2006    813256\n",
       "2007    754083\n",
       "2008    523941\n",
       "2009    484933\n",
       "2010    378858\n",
       "2011    883243\n",
       "2012    731744\n",
       "2013    317975\n",
       "2014    558889\n",
       "2015    669981\n",
       "Name: year, dtype: int64"
      ]
     },
     "execution_count": 37,
     "metadata": {},
     "output_type": "execute_result"
    }
   ],
   "source": [
    "emdata.groupby(['year'])['year'].count()\n"
   ]
  },
  {
   "cell_type": "code",
   "execution_count": null,
   "metadata": {},
   "outputs": [],
   "source": []
  }
 ],
 "metadata": {
  "kernelspec": {
   "display_name": "Python 3",
   "language": "python",
   "name": "python3"
  },
  "language_info": {
   "codemirror_mode": {
    "name": "ipython",
    "version": 3
   },
   "file_extension": ".py",
   "mimetype": "text/x-python",
   "name": "python",
   "nbconvert_exporter": "python",
   "pygments_lexer": "ipython3",
   "version": "3.7.3"
  }
 },
 "nbformat": 4,
 "nbformat_minor": 2
}

{
 "cells": [
  {
   "cell_type": "markdown",
   "metadata": {},
   "source": [
    "# Visualization and explore the Wildfire data with Matplotlib, Pandas and Seaborn"
   ]
  },
  {
   "cell_type": "markdown",
   "metadata": {},
   "source": [
    "This notebook will connect to a MySQL DB in the cloud which houses a combined table for wild\n",
    "fires in the US and weather conditions during each fire. Independent features will be evaluated \n",
    "for collerlation and usefulness in a model. The goal of the model is to predict the fire intensity based on the fire features and the weather."
   ]
  },
  {
   "cell_type": "markdown",
   "metadata": {},
   "source": [
    "### Getting Started:\n",
    "#### Importing the libraries "
   ]
  },
  {
   "cell_type": "code",
   "execution_count": 1,
   "metadata": {},
   "outputs": [],
   "source": [
    "%matplotlib inline\n",
    "import pandas as pd\n",
    "from pandas.plotting import scatter_matrix\n",
    "import numpy as np\n",
    "\n",
    "from sqlalchemy import create_engine   #sql engine\n",
    "\n",
    "import yellowbrick as yb\n",
    "\n",
    "import pylab as pl\n",
    "import seaborn as sns\n",
    "from matplotlib import cm\n",
    "import matplotlib.pyplot as plt\n",
    "import matplotlib.pyplot as plt\n",
    "\n",
    "\n",
    "from sklearn.svm import LinearSVC, NuSVC, SVC\n",
    "from sklearn.neighbors import KNeighborsClassifier\n",
    "from sklearn.model_selection import train_test_split as tts\n",
    "from sklearn.linear_model import LogisticRegressionCV, LogisticRegression, SGDClassifier\n",
    "from sklearn.ensemble import BaggingClassifier, ExtraTreesClassifier, RandomForestClassifier\n",
    "from sklearn.ensemble import AdaBoostClassifier\n",
    "\n",
    "\n",
    "import config #database connection variables \n",
    "from sklearn.preprocessing import OneHotEncoder, LabelEncoder\n",
    "from sklearn.preprocessing import StandardScaler"
   ]
  },
  {
   "cell_type": "markdown",
   "metadata": {},
   "source": [
    "### Connect to mySQL database in the cloud\n",
    "The config files stored in the same directory as the notebook \n",
    "contains the connection information "
   ]
  },
  {
   "cell_type": "code",
   "execution_count": null,
   "metadata": {},
   "outputs": [],
   "source": [
    "# Skip this block if reading from disk\n",
    "\n",
    "# create sqlalchemy engine\n",
    "engine = create_engine(\"mysql+mysqlconnector://{user}:{password}@{host}/{dbname}\"\n",
    "                       .format(user=config.db_user,\n",
    "                               password=config.db_pass,\n",
    "                               dbname=config.db_main,\n",
    "                               host=config.db_host))"
   ]
  },
  {
   "cell_type": "markdown",
   "metadata": {},
   "source": [
    "### Query the machine learning table  \n",
    "Setup the code to query the machine learning table in the database. Select all columns.\n",
    "\n",
    "\n",
    "<i>Query the emissions and weather table until the final machine learning is setup. Limit the rows for initial exploration data</i>"
   ]
  },
  {
   "cell_type": "code",
   "execution_count": null,
   "metadata": {},
   "outputs": [],
   "source": [
    "#Skip this block if reading from local disk\n",
    "\n",
    "queryEmissions = \"\"\"\n",
    "SELECT *\n",
    "FROM Emissions_Data\n",
    "LIMIT 1000000;\n",
    "\"\"\""
   ]
  },
  {
   "cell_type": "code",
   "execution_count": null,
   "metadata": {},
   "outputs": [],
   "source": [
    "#Skip this block if reading from local disk\n",
    "\n",
    "#Execute Queries\n",
    "dfEmissions = pd.read_sql(queryEmissions, engine)\n",
    "\n",
    "#close the database connection\n",
    "engine.dispose()"
   ]
  },
  {
   "cell_type": "markdown",
   "metadata": {},
   "source": [
    "### Save the data to disk for faster access in the future\n",
    "Store data in default data sub directory or folder"
   ]
  },
  {
   "cell_type": "code",
   "execution_count": null,
   "metadata": {},
   "outputs": [],
   "source": [
    "#Save data to local disk\n",
    "\n",
    "#Execute Queries\n",
    "dfEmissions.to_csv('data/emissions1.csv', index = False)"
   ]
  },
  {
   "cell_type": "markdown",
   "metadata": {},
   "source": [
    "### Read data from disk previously stored for faster access "
   ]
  },
  {
   "cell_type": "code",
   "execution_count": 2,
   "metadata": {},
   "outputs": [
    {
     "data": {
      "text/html": [
       "<div>\n",
       "<style scoped>\n",
       "    .dataframe tbody tr th:only-of-type {\n",
       "        vertical-align: middle;\n",
       "    }\n",
       "\n",
       "    .dataframe tbody tr th {\n",
       "        vertical-align: top;\n",
       "    }\n",
       "\n",
       "    .dataframe thead th {\n",
       "        text-align: right;\n",
       "    }\n",
       "</style>\n",
       "<table border=\"1\" class=\"dataframe\">\n",
       "  <thead>\n",
       "    <tr style=\"text-align: right;\">\n",
       "      <th></th>\n",
       "      <th>Key</th>\n",
       "      <th>id</th>\n",
       "      <th>cluster_ref</th>\n",
       "      <th>lon</th>\n",
       "      <th>lat</th>\n",
       "      <th>year</th>\n",
       "      <th>doy</th>\n",
       "      <th>covertype</th>\n",
       "      <th>fuelcode</th>\n",
       "      <th>prefire_fuel</th>\n",
       "      <th>consumed_fuel</th>\n",
       "      <th>ECO2</th>\n",
       "      <th>ECO</th>\n",
       "      <th>ECH4</th>\n",
       "      <th>EPM2.5</th>\n",
       "      <th>fuel_moisture_class</th>\n",
       "      <th>BSEV</th>\n",
       "      <th>cwd_frac</th>\n",
       "      <th>duff_frac</th>\n",
       "    </tr>\n",
       "  </thead>\n",
       "  <tbody>\n",
       "    <tr>\n",
       "      <th>85272</th>\n",
       "      <td>85273</td>\n",
       "      <td>93742</td>\n",
       "      <td>2008_236</td>\n",
       "      <td>-100.5062</td>\n",
       "      <td>32.1465</td>\n",
       "      <td>2008</td>\n",
       "      <td>213</td>\n",
       "      <td>2</td>\n",
       "      <td>2</td>\n",
       "      <td>673.524774</td>\n",
       "      <td>606.172297</td>\n",
       "      <td>1016.550941</td>\n",
       "      <td>42.432061</td>\n",
       "      <td>1.624542</td>\n",
       "      <td>6.182957</td>\n",
       "      <td>2.0</td>\n",
       "      <td>1.0</td>\n",
       "      <td>0.000000</td>\n",
       "      <td>0.000000</td>\n",
       "    </tr>\n",
       "    <tr>\n",
       "      <th>739963</th>\n",
       "      <td>739964</td>\n",
       "      <td>865548</td>\n",
       "      <td>2009_1352</td>\n",
       "      <td>-88.9070</td>\n",
       "      <td>30.7120</td>\n",
       "      <td>2009</td>\n",
       "      <td>51</td>\n",
       "      <td>3</td>\n",
       "      <td>1160</td>\n",
       "      <td>7020.760516</td>\n",
       "      <td>3902.227247</td>\n",
       "      <td>6532.328411</td>\n",
       "      <td>300.471498</td>\n",
       "      <td>8.780011</td>\n",
       "      <td>46.436504</td>\n",
       "      <td>2.0</td>\n",
       "      <td>4.0</td>\n",
       "      <td>0.013013</td>\n",
       "      <td>0.067773</td>\n",
       "    </tr>\n",
       "    <tr>\n",
       "      <th>874086</th>\n",
       "      <td>874087</td>\n",
       "      <td>1072005</td>\n",
       "      <td>2013_176</td>\n",
       "      <td>-116.7251</td>\n",
       "      <td>33.9049</td>\n",
       "      <td>2013</td>\n",
       "      <td>221</td>\n",
       "      <td>2</td>\n",
       "      <td>2</td>\n",
       "      <td>134.166942</td>\n",
       "      <td>120.750248</td>\n",
       "      <td>202.498166</td>\n",
       "      <td>8.452517</td>\n",
       "      <td>0.323611</td>\n",
       "      <td>1.231653</td>\n",
       "      <td>2.0</td>\n",
       "      <td>2.0</td>\n",
       "      <td>0.000000</td>\n",
       "      <td>0.000000</td>\n",
       "    </tr>\n",
       "    <tr>\n",
       "      <th>732703</th>\n",
       "      <td>732704</td>\n",
       "      <td>839896</td>\n",
       "      <td>2009_634</td>\n",
       "      <td>-122.0329</td>\n",
       "      <td>41.7174</td>\n",
       "      <td>2009</td>\n",
       "      <td>201</td>\n",
       "      <td>3</td>\n",
       "      <td>1220</td>\n",
       "      <td>4534.187262</td>\n",
       "      <td>3165.742015</td>\n",
       "      <td>4919.563091</td>\n",
       "      <td>421.043688</td>\n",
       "      <td>23.679750</td>\n",
       "      <td>72.178918</td>\n",
       "      <td>2.0</td>\n",
       "      <td>2.0</td>\n",
       "      <td>0.164887</td>\n",
       "      <td>0.275754</td>\n",
       "    </tr>\n",
       "    <tr>\n",
       "      <th>706678</th>\n",
       "      <td>706679</td>\n",
       "      <td>811700</td>\n",
       "      <td>2009_644</td>\n",
       "      <td>-118.5003</td>\n",
       "      <td>42.8463</td>\n",
       "      <td>2009</td>\n",
       "      <td>260</td>\n",
       "      <td>2</td>\n",
       "      <td>2</td>\n",
       "      <td>184.493556</td>\n",
       "      <td>166.044200</td>\n",
       "      <td>278.456124</td>\n",
       "      <td>11.623094</td>\n",
       "      <td>0.444998</td>\n",
       "      <td>1.693651</td>\n",
       "      <td>2.0</td>\n",
       "      <td>1.0</td>\n",
       "      <td>0.000000</td>\n",
       "      <td>0.000000</td>\n",
       "    </tr>\n",
       "  </tbody>\n",
       "</table>\n",
       "</div>"
      ],
      "text/plain": [
       "           Key       id cluster_ref       lon      lat  year  doy  covertype  \\\n",
       "85272    85273    93742    2008_236 -100.5062  32.1465  2008  213          2   \n",
       "739963  739964   865548   2009_1352  -88.9070  30.7120  2009   51          3   \n",
       "874086  874087  1072005    2013_176 -116.7251  33.9049  2013  221          2   \n",
       "732703  732704   839896    2009_634 -122.0329  41.7174  2009  201          3   \n",
       "706678  706679   811700    2009_644 -118.5003  42.8463  2009  260          2   \n",
       "\n",
       "        fuelcode  prefire_fuel  consumed_fuel         ECO2         ECO  \\\n",
       "85272          2    673.524774     606.172297  1016.550941   42.432061   \n",
       "739963      1160   7020.760516    3902.227247  6532.328411  300.471498   \n",
       "874086         2    134.166942     120.750248   202.498166    8.452517   \n",
       "732703      1220   4534.187262    3165.742015  4919.563091  421.043688   \n",
       "706678         2    184.493556     166.044200   278.456124   11.623094   \n",
       "\n",
       "             ECH4     EPM2.5  fuel_moisture_class  BSEV  cwd_frac  duff_frac  \n",
       "85272    1.624542   6.182957                  2.0   1.0  0.000000   0.000000  \n",
       "739963   8.780011  46.436504                  2.0   4.0  0.013013   0.067773  \n",
       "874086   0.323611   1.231653                  2.0   2.0  0.000000   0.000000  \n",
       "732703  23.679750  72.178918                  2.0   2.0  0.164887   0.275754  \n",
       "706678   0.444998   1.693651                  2.0   1.0  0.000000   0.000000  "
      ]
     },
     "execution_count": 2,
     "metadata": {},
     "output_type": "execute_result"
    }
   ],
   "source": [
    "#Read the data from disk for faster access\n",
    "\n",
    "#Read the data from disk for faster access\n",
    "dfEmissions = pd.read_csv('data/emissions1.csv').sample(800000)\n",
    "\n",
    "dfEmissions.head()"
   ]
  },
  {
   "cell_type": "code",
   "execution_count": null,
   "metadata": {},
   "outputs": [],
   "source": [
    "print(dfEmissions.columns)"
   ]
  },
  {
   "cell_type": "markdown",
   "metadata": {},
   "source": [
    "### Display the head of data for check."
   ]
  },
  {
   "cell_type": "markdown",
   "metadata": {},
   "source": [
    "### Analyze the features in the machine learning table\n",
    "\n",
    "<i> This example uses emissions until the machine learning table is setup. We will predict BSEV 1-4) Burn serverity</i>"
   ]
  },
  {
   "cell_type": "code",
   "execution_count": 3,
   "metadata": {},
   "outputs": [],
   "source": [
    "#drop columns which are not relevant \n",
    "\n",
    "#covertype maps to fuelcode so no need to have it twice\n",
    "dfEmissions = dfEmissions.drop(columns=['cluster_ref', 'Key', 'id', 'year', 'covertype'])\n"
   ]
  },
  {
   "cell_type": "code",
   "execution_count": 4,
   "metadata": {},
   "outputs": [
    {
     "name": "stdout",
     "output_type": "stream",
     "text": [
      "(800000, 14)\n",
      "         lon     lat     doy  fuelcode  prefire_fuel  consumed_fuel    ECO2  \\\n",
      "BSEV                                                                          \n",
      "1.0   151254  151254  151254    151254        151254         151254  151254   \n",
      "2.0   476196  476196  476196    476196        476196         476196  476196   \n",
      "3.0   125076  125076  125076    125076        125076         125076  125076   \n",
      "4.0    47474   47474   47474     47474         47474          47474   47474   \n",
      "\n",
      "         ECO    ECH4  EPM2.5  fuel_moisture_class  cwd_frac  duff_frac  \n",
      "BSEV                                                                    \n",
      "1.0   151254  151254  151254               151254    151254     151254  \n",
      "2.0   476196  476196  476196               476196    476196     476196  \n",
      "3.0   125076  125076  125076               125076    125076     125076  \n",
      "4.0    47474   47474   47474                47474     47474      47474  \n"
     ]
    }
   ],
   "source": [
    "#show the shape of the data\n",
    "print (dfEmissions.shape)\n",
    "\n",
    "#show the data by BSEV\n",
    "print(dfEmissions.groupby('BSEV').count())\n",
    "\n"
   ]
  },
  {
   "cell_type": "markdown",
   "metadata": {},
   "source": [
    "### Visualize home many of each type of dependent variables we have (1-4)\n",
    "\n",
    "Use seaborn to plot a count histogram. We have 4 separate categories.\n",
    "1 (not burned), 2 (light), 3(med), 4 (heavy burn)"
   ]
  },
  {
   "cell_type": "code",
   "execution_count": 5,
   "metadata": {},
   "outputs": [
    {
     "data": {
      "image/png": "[encoded data removed]",
      "text/plain": [
       "<Figure size 432x288 with 1 Axes>"
      ]
     },
     "metadata": {
      "needs_background": "light"
     },
     "output_type": "display_data"
    }
   ],
   "source": [
    "sns.countplot(dfEmissions['BSEV'],label=\"Count\")\n",
    "plt.show()"
   ]
  },
  {
   "cell_type": "markdown",
   "metadata": {},
   "source": [
    "### Draw box diagram to see scale and quartiles of data\n",
    "Data is on a very large scale with could affect some models scaling maybe needed.\n"
   ]
  },
  {
   "cell_type": "code",
   "execution_count": null,
   "metadata": {},
   "outputs": [],
   "source": [
    "#draw box plot of see range of the data\n",
    "import matplotlib\n",
    "matplotlib.style.use('ggplot')\n",
    "dfEmissions.plot(kind='box',figsize=(30,15))\n",
    "\n"
   ]
  },
  {
   "cell_type": "markdown",
   "metadata": {},
   "source": [
    "### View histogram of all numerical data to better understand the distribution\n",
    "Graphs show some data is continous while others are categorical. \n",
    "No normal distribution shown.Correlations can be seen between ECO/ECO2, EPM2.5/Consumed fuel"
   ]
  },
  {
   "cell_type": "code",
   "execution_count": null,
   "metadata": {},
   "outputs": [],
   "source": [
    "#historgram of all numerical data\n",
    "dfEmissions.hist(bins=30, figsize=(15,15))\n",
    "pl.suptitle(\"Histogram for each numeric input variable\")\n",
    "plt.show()"
   ]
  },
  {
   "cell_type": "markdown",
   "metadata": {},
   "source": [
    "### Scatter matrix plot for the continous values - categorical does not present much value\n",
    "<i>once agains shows relationships between eco, eco2, ech4 consumed fuels. These features can likely be combined or dropped. Note this take a long time to run (minutes)</i> "
   ]
  },
  {
   "cell_type": "code",
   "execution_count": null,
   "metadata": {},
   "outputs": [],
   "source": [
    "#draw scatter matrix\n",
    "\n",
    "#if you dropped features update the feature names\n",
    "feature_names = ['ECH4', 'ECO', 'ECO2', 'EPM2.5', 'consumed_fuel', 'cwd_frac', 'duff_frac', 'prefire_fuel']\n",
    "\n",
    "\n",
    "X = dfEmissions[feature_names]\n",
    "y = dfEmissions['BSEV']\n",
    "cmap = cm.get_cmap('gnuplot')\n",
    "scatter = scatter_matrix(X, c = y, marker = 'o', s=40, hist_kwds={'bins':10}, figsize=(15,15), cmap = cmap)\n",
    "plt.suptitle('Scatter-matrix for each input variable')\n"
   ]
  },
  {
   "cell_type": "code",
   "execution_count": null,
   "metadata": {},
   "outputs": [],
   "source": [
    "print(dfEmissions.columns)"
   ]
  },
  {
   "cell_type": "markdown",
   "metadata": {},
   "source": [
    "### Show which features likely have the most impact of Burn Serverity \n",
    "<i> Based on the data and this model fuel code, fuel mositure, lat, and lon are most predictive of burn serverity</i>"
   ]
  },
  {
   "cell_type": "code",
   "execution_count": 6,
   "metadata": {},
   "outputs": [
    {
     "data": {
      "image/png": "[encoded data removed]",
      "text/plain": [
       "<Figure size 1080x720 with 1 Axes>"
      ]
     },
     "metadata": {},
     "output_type": "display_data"
    },
    {
     "data": {
      "text/plain": [
       "<matplotlib.axes._subplots.AxesSubplot at 0x129618090>"
      ]
     },
     "execution_count": 6,
     "metadata": {},
     "output_type": "execute_result"
    }
   ],
   "source": [
    "from yellowbrick.features import RadViz\n",
    "\n",
    "\n",
    "#udpate the feature list if you removed features\n",
    "feature_names = ['ECH4', 'ECO', 'ECO2', 'EPM2.5', 'consumed_fuel', 'cwd_frac', 'duff_frac','doy',\n",
    "                 'fuel_moisture_class', 'fuelcode', 'lat', 'lon', 'prefire_fuel']\n",
    "    \n",
    "\n",
    "X = dfEmissions[feature_names]\n",
    "y = dfEmissions['BSEV']\n",
    "y = LabelEncoder().fit_transform(y)\n",
    "\n",
    "# Specify the target classes\n",
    "classes = [\"no burn\", \"low burn\", \"med burn\", \"high burn\"]\n",
    "\n",
    "# Instantiate the visualizer\n",
    "visualizer = RadViz(classes=classes, features=feature_names, size=(1080, 720))\n",
    "\n",
    " \n",
    "visualizer.fit(X, y)           # Fit the data to the visualizer\n",
    "visualizer.transform(X)       # Transform the data\n",
    "visualizer.show()              # Draw the data"
   ]
  },
  {
   "cell_type": "markdown",
   "metadata": {},
   "source": [
    "### Show Random forest classier of the most important features to predict severity\n",
    "\n",
    "<i> Lat/Lon and emissions are high important but not the covertype and fuel moisture type. I suspect this is because\n",
    "scaling is not sued and those value types are very small and close together. I get different answers eveytime I run this but a random decision tree? Top and bottom half are consistent though. Run 3-4 times to get a feel </i>"
   ]
  },
  {
   "cell_type": "code",
   "execution_count": null,
   "metadata": {},
   "outputs": [],
   "source": [
    "from sklearn.ensemble import RandomForestClassifier\n",
    "from yellowbrick.features import FeatureImportances\n",
    "\n",
    "model = RandomForestClassifier(n_estimators=10)\n",
    "viz = FeatureImportances(model, labels=feature_names, size=(1080, 720))\n",
    "\n",
    "viz.fit(X, y)\n",
    "# Note: the FeatureImportances visualizer is a model visualizer,\n",
    "# not a feature visualizer, so it doesn't have a transform method!\n",
    "viz.show()"
   ]
  },
  {
   "cell_type": "markdown",
   "metadata": {},
   "source": [
    "### Visualize using rank 2D\n",
    "<i> This shows a high digree of multicollinearity. Columsn can likely be combined or dropped </i>"
   ]
  },
  {
   "cell_type": "code",
   "execution_count": null,
   "metadata": {},
   "outputs": [],
   "source": [
    "from yellowbrick.features import Rank2D\n",
    "\n",
    "# Instantiate the visualizer with the Pearson ranking algorithm\n",
    "visualizer = Rank2D(algorithm='pearson', features=feature_names, size=(1080, 720))\n",
    "\n",
    "visualizer.fit(X, y)\n",
    "visualizer.transform(X)\n",
    "visualizer.show()\n",
    "\n",
    "\n",
    "\n",
    "    "
   ]
  },
  {
   "cell_type": "code",
   "execution_count": null,
   "metadata": {},
   "outputs": [],
   "source": [
    "\n",
    "#udpate the feature list if you removed features\n",
    "feature_names = [ 'ECO2', 'duff_frac','doy',\n",
    "                 'fuel_moisture_class', 'fuelcode', 'lat', 'lon', 'prefire_fuel']\n",
    "\n",
    "X = dfEmissions[feature_names]\n",
    "y = dfEmissions['BSEV']\n",
    "y = LabelEncoder().fit_transform(y)\n",
    "# Instantiate the visualizer with the Pearson ranking algorithm\n",
    "visualizer1 = Rank2D(algorithm='pearson', features=feature_names, size=(1080, 720))\n",
    "\n",
    "visualizer1.fit(X, y)\n",
    "visualizer1.transform(X)\n",
    "visualizer1.show()"
   ]
  },
  {
   "cell_type": "markdown",
   "metadata": {},
   "source": [
    "### After analysis remove features deemed not releveant or duplicative  \n",
    "Store the data for ML models or/and return the evaluations with the new ML data."
   ]
  },
  {
   "cell_type": "code",
   "execution_count": null,
   "metadata": {},
   "outputs": [],
   "source": [
    "#wrangle the data based on insights and save a clean ML CVS for the models\n",
    "\n",
    "#simplfy the data by dropping features that have high Multicollinearity\n",
    "\"\"\" \n",
    "dfEmissions = dfEmissions.drop(columns=['ECO', 'consumed_fuel'])\n",
    "\n",
    "\n",
    "dfEmissions.to_csv('data/emissions_ML.csv', index = False)\n",
    " \"\"\""
   ]
  },
  {
   "cell_type": "code",
   "execution_count": 7,
   "metadata": {},
   "outputs": [
    {
     "data": {
      "text/plain": [
       "\"\\nmodel = MultinomialNB()\\nvisualizer = LearningCurve(\\n    model, cv=cv, scoring='f1_weighted', train_sizes=sizes, n_jobs=4\\n)\\n\\nvisualizer.fit(X, y)        # Fit the data to the visualizer\\nvisualizer.show()           # Finalize and render the figure\\n\""
      ]
     },
     "execution_count": 7,
     "metadata": {},
     "output_type": "execute_result"
    }
   ],
   "source": [
    "import numpy as np\n",
    "\n",
    "from sklearn.model_selection import StratifiedKFold\n",
    "from sklearn.naive_bayes import MultinomialNB\n",
    "\n",
    "\n",
    "from yellowbrick.datasets import load_game\n",
    "from yellowbrick.model_selection import LearningCurve\n",
    "\n",
    "# Load a classification dataset\n",
    "#X, y = load_game()\n",
    "#udpate the feature list if you removed features\n",
    "feature_names = [ 'ECO2', 'duff_frac','doy',\n",
    "                 'fuel_moisture_class', 'fuelcode', 'prefire_fuel']\n",
    "\n",
    "# Encode the categorical data\n",
    "X = dfEmissions[feature_names]\n",
    "y = dfEmissions['BSEV']\n",
    "y = LabelEncoder().fit_transform(y)\n",
    "\n",
    "#X = OneHotEncoder(categories=\"auto\").fit_transform(X)\n",
    "#X = StandardScaler().fit_transform(X) \n",
    "\n",
    "#X is throwing an error as negative  need to check\n",
    "\n",
    "# Create the learning curve visualizer\n",
    "cv = StratifiedKFold(n_splits=5)\n",
    "sizes = np.linspace(0.3, 1.0, 5)\n",
    "\n",
    "# Instantiate the classification model and visualizer\n",
    "\"\"\"\n",
    "model = MultinomialNB()\n",
    "visualizer = LearningCurve(\n",
    "    model, cv=cv, scoring='f1_weighted', train_sizes=sizes, n_jobs=4\n",
    ")\n",
    "\n",
    "visualizer.fit(X, y)        # Fit the data to the visualizer\n",
    "visualizer.show()           # Finalize and render the figure\n",
    "\"\"\""
   ]
  },
  {
   "cell_type": "code",
   "execution_count": 8,
   "metadata": {},
   "outputs": [
    {
     "name": "stderr",
     "output_type": "stream",
     "text": [
      "/Users/sandstone/opt/anaconda3/lib/python3.7/site-packages/sklearn/externals/joblib/externals/loky/process_executor.py:706: UserWarning: A worker stopped while some jobs were given to the executor. This can be caused by a too short worker timeout or by a memory leak.\n",
      "  \"timeout or by a memory leak.\", UserWarning\n"
     ]
    },
    {
     "data": {
      "image/png": "[encoded data removed]",
      "text/plain": [
       "<Figure size 432x288 with 1 Axes>"
      ]
     },
     "metadata": {
      "needs_background": "light"
     },
     "output_type": "display_data"
    },
    {
     "data": {
      "text/plain": [
       "<matplotlib.axes._subplots.AxesSubplot at 0x12a8c0110>"
      ]
     },
     "execution_count": 8,
     "metadata": {},
     "output_type": "execute_result"
    }
   ],
   "source": [
    "# Instantiate the classification model and visualizer\n",
    "\n",
    "#udpate the feature list if you removed features\n",
    "feature_names = ['ECO2', 'duff_frac','doy',\n",
    "                 'fuel_moisture_class', 'fuelcode', 'lat', 'lon', 'prefire_fuel']\n",
    "\n",
    "\n",
    "X = dfEmissions[feature_names]\n",
    "y = dfEmissions['BSEV']\n",
    "y = LabelEncoder().fit_transform(y)\n",
    "\n",
    "\n",
    "#X = OneHotEncoder(categories=\"auto\").fit_transform(X)\n",
    "#X = StandardScaler().fit_transform(X) \n",
    "\n",
    "model = BaggingClassifier()\n",
    "visualizer = LearningCurve(\n",
    "    model, cv=cv, scoring='f1_weighted', train_sizes=sizes, n_jobs=4\n",
    ")\n",
    "\n",
    "visualizer.fit(X, y)        # Fit the data to the visualizer\n",
    "visualizer.show()           # Finalize and render the figure"
   ]
  },
  {
   "cell_type": "code",
   "execution_count": null,
   "metadata": {},
   "outputs": [],
   "source": [
    "# Instantiate the classification model and visualizer\n",
    "model = RandomForestClassifier(n_estimators=25)\n",
    "visualizer = LearningCurve(\n",
    "    model, cv=cv, scoring='f1_weighted', train_sizes=sizes, n_jobs=4\n",
    ")\n",
    "\n",
    "visualizer.fit(X, y)        # Fit the data to the visualizer\n",
    "visualizer.show()           # Finalize and render the figure\n"
   ]
  },
  {
   "cell_type": "code",
   "execution_count": null,
   "metadata": {},
   "outputs": [],
   "source": [
    "model = AdaBoostClassifier()\n",
    "visualizer = LearningCurve(\n",
    "    model, cv=cv, scoring='f1_weighted', train_sizes=sizes, n_jobs=4\n",
    ")\n",
    "\n",
    "visualizer.fit(X, y)        # Fit the data to the visualizer\n",
    "visualizer.show()           # Finalize and render the figure"
   ]
  },
  {
   "cell_type": "code",
   "execution_count": null,
   "metadata": {},
   "outputs": [],
   "source": []
  }
 ],
 "metadata": {
  "kernelspec": {
   "display_name": "Python 3",
   "language": "python",
   "name": "python3"
  },
  "language_info": {
   "codemirror_mode": {
    "name": "ipython",
    "version": 3
   },
   "file_extension": ".py",
   "mimetype": "text/x-python",
   "name": "python",
   "nbconvert_exporter": "python",
   "pygments_lexer": "ipython3",
   "version": "3.7.4"
  }
 },
 "nbformat": 4,
 "nbformat_minor": 4
}

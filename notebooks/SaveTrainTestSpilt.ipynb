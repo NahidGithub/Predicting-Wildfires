{
 "cells": [
  {
   "cell_type": "markdown",
   "metadata": {},
   "source": [
    "### Notebook To Save Test and Train data\n",
    "Because we are using synthentic data it's important to not mix the training \n",
    "data with the final test data. "
   ]
  },
  {
   "cell_type": "code",
   "execution_count": 17,
   "metadata": {},
   "outputs": [],
   "source": [
    "import os\n",
    "import collections\n",
    "import pandas as pd\n",
    "import numpy as np\n",
    "\n",
    "from imblearn.over_sampling import SMOTE\n",
    "from imblearn import under_sampling, over_sampling\n",
    "from imblearn.under_sampling import RandomUnderSampler"
   ]
  },
  {
   "cell_type": "markdown",
   "metadata": {},
   "source": [
    "### Function to split DataFrame and save into train test csv\n",
    "save 80% to train and 20% to test"
   ]
  },
  {
   "cell_type": "code",
   "execution_count": 44,
   "metadata": {},
   "outputs": [],
   "source": [
    "def save_train_test_db(df_save):\n",
    "\n",
    "    msk = np.random.rand(len(df_save)) < 0.8\n",
    "\n",
    "    print(len(df_save))\n",
    "    print(np.random.rand(len(df_save)))\n",
    "    \n",
    "    train = df_save[msk]\n",
    "\n",
    "    test = df_save[~msk]\n",
    "    \n",
    "    train.to_csv('data/train.csv', index=False)\n",
    "    test.to_csv('data/test.csv', index=False)"
   ]
  },
  {
   "cell_type": "markdown",
   "metadata": {},
   "source": [
    "### Reduce the sample number to 120K moderate fires\n",
    "This to ensure more balance bin classes since we had\n",
    "1.3 M moderatesand 17K severe"
   ]
  },
  {
   "cell_type": "code",
   "execution_count": 45,
   "metadata": {},
   "outputs": [],
   "source": [
    "def smote_data(X2, y2):\n",
    "    \n",
    "    under_range = {'Moderate': 120000} #recommend hyperparameter range - 150-200k\n",
    "    under = RandomUnderSampler(sampling_strategy=under_range)\n",
    "    X2, y2 = under.fit_resample(X2,y2)\n",
    "    \n",
    "    return X2, y2"
   ]
  },
  {
   "cell_type": "markdown",
   "metadata": {},
   "source": [
    "### Setup the X and y to smote"
   ]
  },
  {
   "cell_type": "code",
   "execution_count": 46,
   "metadata": {},
   "outputs": [],
   "source": [
    "def find_X_y(df_fires1):\n",
    "\n",
    "    #\n",
    "    features = ['latitude', 'longitude', 'doy','fuelcode', 'fuel_moisture_class', 'prefire_fuel', 'temperature', 'humidity', 'precip_intensity', 'wind_gust',\n",
    "                'wind_speed', 'fire_intensity_twocat']\n",
    "\n",
    "    # four categories using balanced binning\n",
    "    #target = ['fire_intensity_fourcat']\n",
    "    target = ['fire_intensity_twocat']\n",
    "    \n",
    "    y = df_fires1[target]\n",
    "    y = np.ravel(y)\n",
    "    X = df_fires1[features]\n",
    "    \n",
    "    # Not really needed already 1-4 numerical\n",
    "    #y = LabelEncoder().fit_transform(y) # Label-encode targets before modeling\n",
    "    \n",
    "    return X, y"
   ]
  },
  {
   "cell_type": "markdown",
   "metadata": {},
   "source": [
    "### Read the orginal data files and dropped columns not needed."
   ]
  },
  {
   "cell_type": "code",
   "execution_count": 47,
   "metadata": {},
   "outputs": [
    {
     "name": "stdout",
     "output_type": "stream",
     "text": [
      "(1328922, 26)\n"
     ]
    }
   ],
   "source": [
    "df_fires = pd.read_csv('data/FireIntensity_Model_June12_Clean.csv').sample(1328922)\n",
    "\n",
    "print(df_fires.shape)"
   ]
  },
  {
   "cell_type": "code",
   "execution_count": 48,
   "metadata": {},
   "outputs": [],
   "source": [
    "df_fires = df_fires.drop(columns={'Unnamed: 0','cluster_reference', 'fire_region', 'season', \n",
    "                                  'month', 'year', 'brightness', 'bright_t31','frp', 'visibility', 'covertype',\n",
    "                                  'fire_intensity', 'fire_intensity_threecat', 'fire_intensity_fourcat'})"
   ]
  },
  {
   "cell_type": "code",
   "execution_count": null,
   "metadata": {},
   "outputs": [],
   "source": []
  },
  {
   "cell_type": "markdown",
   "metadata": {},
   "source": [
    "### Setup the features to be saved"
   ]
  },
  {
   "cell_type": "code",
   "execution_count": 49,
   "metadata": {},
   "outputs": [],
   "source": [
    "X1, y1 = find_X_y(df_fires)"
   ]
  },
  {
   "cell_type": "markdown",
   "metadata": {},
   "source": [
    "### Reduce the dataset to be more balanced."
   ]
  },
  {
   "cell_type": "code",
   "execution_count": 50,
   "metadata": {},
   "outputs": [],
   "source": [
    "X1, y1 = smote_data(X1,y1)"
   ]
  },
  {
   "cell_type": "code",
   "execution_count": 52,
   "metadata": {},
   "outputs": [
    {
     "data": {
      "text/plain": [
       "(137493, 12)"
      ]
     },
     "execution_count": 52,
     "metadata": {},
     "output_type": "execute_result"
    }
   ],
   "source": [
    "X1.shape"
   ]
  },
  {
   "cell_type": "markdown",
   "metadata": {},
   "source": [
    "### Save the train test splits to disk"
   ]
  },
  {
   "cell_type": "code",
   "execution_count": 41,
   "metadata": {},
   "outputs": [
    {
     "name": "stdout",
     "output_type": "stream",
     "text": [
      "137493\n",
      "[0.30465374 0.72750312 0.57353408 ... 0.60303146 0.64692706 0.25365399]\n"
     ]
    }
   ],
   "source": [
    "save_train_test_db(X1)"
   ]
  },
  {
   "cell_type": "code",
   "execution_count": null,
   "metadata": {},
   "outputs": [],
   "source": []
  }
 ],
 "metadata": {
  "kernelspec": {
   "display_name": "Python 3",
   "language": "python",
   "name": "python3"
  },
  "language_info": {
   "codemirror_mode": {
    "name": "ipython",
    "version": 3
   },
   "file_extension": ".py",
   "mimetype": "text/x-python",
   "name": "python",
   "nbconvert_exporter": "python",
   "pygments_lexer": "ipython3",
   "version": "3.7.4"
  }
 },
 "nbformat": 4,
 "nbformat_minor": 4
}

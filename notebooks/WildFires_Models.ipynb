{
 "cells": [
  {
   "cell_type": "markdown",
   "metadata": {},
   "source": [
    "# Wild Fire Model Evaluation\n",
    "\n",
    "This notebooks will evaluate severals model on the wildfire dataset in order to make a predecction on fire intensity and CO2 emissions. A down selection will be made to 2-3 models for further hyper-paramater tuning. "
   ]
  },
  {
   "cell_type": "code",
   "execution_count": 2,
   "metadata": {},
   "outputs": [],
   "source": [
    "#optional code if warnings become over bearing \n",
    "import warnings\n",
    "warnings.filterwarnings('ignore')"
   ]
  },
  {
   "cell_type": "code",
   "execution_count": 3,
   "metadata": {},
   "outputs": [
    {
     "name": "stdout",
     "output_type": "stream",
     "text": [
      "The scikit-learn version is 0.20.3.\n"
     ]
    }
   ],
   "source": [
    "#optional code to ensure everyone is on the right version\n",
    "import sklearn\n",
    "\n",
    "print('The scikit-learn version is {}.'.format(sklearn.__version__))"
   ]
  },
  {
   "cell_type": "markdown",
   "metadata": {},
   "source": [
    "# Import all the models we will likely use for classificaiton"
   ]
  },
  {
   "cell_type": "code",
   "execution_count": 2,
   "metadata": {},
   "outputs": [],
   "source": [
    "%matplotlib inline\n",
    "\n",
    "import os\n",
    "import pandas as pd\n",
    "\n",
    "from sklearn.metrics import f1_score\n",
    "from sklearn.pipeline import Pipeline\n",
    "from sklearn.svm import LinearSVC, NuSVC, SVC\n",
    "from sklearn.neighbors import KNeighborsClassifier\n",
    "from sklearn.model_selection import train_test_split as tts\n",
    "from sklearn.preprocessing import OneHotEncoder, LabelEncoder\n",
    "from sklearn.linear_model import LogisticRegressionCV, LogisticRegression, SGDClassifier\n",
    "from sklearn.ensemble import BaggingClassifier, ExtraTreesClassifier, RandomForestClassifier\n",
    "\n",
    "from yellowbrick.classifier import ClassificationReport\n",
    "\n",
    "from sklearn.preprocessing import OneHotEncoder, LabelEncoder\n",
    "from sklearn.pipeline import Pipeline\n",
    "\n",
    "import os\n",
    "import pickle\n"
   ]
  },
  {
   "cell_type": "markdown",
   "metadata": {},
   "source": [
    "# Helper function to save estimator\n",
    "Saves to current working directory"
   ]
  },
  {
   "cell_type": "code",
   "execution_count": 5,
   "metadata": {},
   "outputs": [],
   "source": [
    "def save_estimator (estimator) :\n",
    "          \n",
    "    outpath = estimator.__class__.__name__.lower().replace(\" \", \"-\") + \".pickle\"\n",
    "    with open(outpath, 'wb') as f:\n",
    "        pickle.dump(estimator, f)\n",
    "        f.close()\n",
    "        \n",
    "    #print(\"\\nFitted model written to:\\n{}\".format(os.path.abspath(outpath)))"
   ]
  },
  {
   "cell_type": "code",
   "execution_count": 6,
   "metadata": {},
   "outputs": [],
   "source": [
    "def open_estimator(filename) :\n",
    "    \n",
    "    infile = open(filename,'rb')\n",
    "    estimator = pickle.load(infile)\n",
    "    infile.close()\n",
    "\n",
    "    print (\"Unpickled file\", filename)\n",
    "    \n",
    "    return estimator"
   ]
  },
  {
   "cell_type": "markdown",
   "metadata": {},
   "source": [
    "# Read the Fire Data From Disk to Save Time.\n",
    "During the feature evaluation the data was pulled from the database and stored locally"
   ]
  },
  {
   "cell_type": "code",
   "execution_count": 3,
   "metadata": {},
   "outputs": [],
   "source": [
    "#Read the data from disk for faster access\n",
    "\n",
    "#get a sample of the data set to n rows, leave blank for all\n",
    "df_fires = pd.read_csv('data/FireIntensity_Model_June7_Clean.csv').sample(20000)\n",
    "\n",
    "\n"
   ]
  },
  {
   "cell_type": "markdown",
   "metadata": {},
   "source": [
    "# Show the shape of the file. \n",
    "Check data to ensure it's correct.\n"
   ]
  },
  {
   "cell_type": "code",
   "execution_count": 4,
   "metadata": {},
   "outputs": [
    {
     "name": "stdout",
     "output_type": "stream",
     "text": [
      "(20000, 22)\n",
      "        latitude  longitude  doy  month  year cluster_reference  fire_region  \\\n",
      "988811   45.3273  -114.4820  227      8  2012          2012_589            1   \n",
      "435210   33.5413  -109.3494  185      7  2007          2007_147            4   \n",
      "9171     48.3024  -119.6842   78      3  2003         2003_6226            1   \n",
      "\n",
      "        season  covertype  fuelcode  ...  temperature  humidity  \\\n",
      "988811       1          3      1200  ...        76.40      0.17   \n",
      "435210       1          3      1220  ...        87.43      0.19   \n",
      "9171         3          3      1200  ...        37.66      0.67   \n",
      "\n",
      "        precip_intensity  visibility  wind_speed  wind_gust  brightness  \\\n",
      "988811               0.0    9.216293        5.49      10.67       333.2   \n",
      "435210               0.0    9.216293        4.47      14.22       335.6   \n",
      "9171                 0.0    9.997000        2.71       8.43       309.9   \n",
      "\n",
      "        fire_intensity  bright_t31    frp  \n",
      "988811          Severe       296.7   52.2  \n",
      "435210          Severe       302.6  123.3  \n",
      "9171            Medium       286.2    9.5  \n",
      "\n",
      "[3 rows x 22 columns]\n",
      "           latitude     longitude           doy         month          year  \\\n",
      "count  20000.000000  20000.000000  20000.000000  20000.000000  20000.000000   \n",
      "mean      37.061639    -99.535111    185.736850      6.614850   2009.005250   \n",
      "std        5.844818     14.018974     93.376394      3.059228      3.667301   \n",
      "min       25.397300   -124.503700      1.000000      1.000000   2003.000000   \n",
      "25%       32.351575   -114.377550     99.000000      4.000000   2006.000000   \n",
      "50%       35.983750    -96.267850    199.000000      7.000000   2009.000000   \n",
      "75%       41.609825    -87.989925    263.000000      9.000000   2012.000000   \n",
      "max       48.992200    -67.373900    366.000000     12.000000   2015.000000   \n",
      "\n",
      "        fire_region        season     covertype      fuelcode  prefire_fuel  \\\n",
      "count  20000.000000  20000.000000  20000.000000  20000.000000  20000.000000   \n",
      "mean       2.773900      1.330300      2.346600    831.464500   3834.862121   \n",
      "std        2.129673      1.041372      0.877785    712.797811   3000.602862   \n",
      "min        0.000000      0.000000      1.000000      1.000000     29.198403   \n",
      "25%        1.000000      0.000000      1.000000      1.000000    320.453874   \n",
      "50%        2.000000      1.000000      3.000000   1160.000000   4335.068543   \n",
      "75%        5.000000      2.000000      3.000000   1280.000000   6989.973251   \n",
      "max        7.000000      3.000000      3.000000   2950.000000  13337.510830   \n",
      "\n",
      "       fuel_moisture_class   temperature      humidity  precip_intensity  \\\n",
      "count          20000.00000  20000.000000  20000.000000      20000.000000   \n",
      "mean               2.25890     69.971813      0.411175          0.002484   \n",
      "std                0.70774     14.994581      0.169676          0.043215   \n",
      "min                1.00000      2.270000      0.030000          0.000000   \n",
      "25%                2.00000     60.710000      0.290000          0.000000   \n",
      "50%                2.00000     70.435000      0.400000          0.000000   \n",
      "75%                3.00000     79.690000      0.530000          0.000000   \n",
      "max                4.00000    117.110000      1.000000          1.899700   \n",
      "\n",
      "         visibility    wind_speed     wind_gust    brightness    bright_t31  \\\n",
      "count  20000.000000  20000.000000  20000.000000  20000.000000  20000.000000   \n",
      "mean       9.231872      6.372028     11.699539    324.278305    295.967795   \n",
      "std        1.661170      4.148753      6.091419     23.016585      9.744291   \n",
      "min        0.000000      0.000000      0.000000    300.000000    265.200000   \n",
      "25%        9.216293      3.540000      7.500000    309.900000    290.300000   \n",
      "50%        9.997000      5.450000     10.915000    318.100000    295.600000   \n",
      "75%        9.997000      8.110000     14.442500    330.700000    300.900000   \n",
      "max       10.000000     41.090000    137.970000    503.000000    400.100000   \n",
      "\n",
      "                frp  \n",
      "count  20000.000000  \n",
      "mean      61.522420  \n",
      "std      194.518365  \n",
      "min        0.000000  \n",
      "25%       10.300000  \n",
      "50%       20.700000  \n",
      "75%       47.700000  \n",
      "max     6609.300000  \n",
      "Index(['latitude', 'longitude', 'doy', 'month', 'year', 'cluster_reference',\n",
      "       'fire_region', 'season', 'covertype', 'fuelcode', 'prefire_fuel',\n",
      "       'fuel_moisture_class', 'temperature', 'humidity', 'precip_intensity',\n",
      "       'visibility', 'wind_speed', 'wind_gust', 'brightness', 'fire_intensity',\n",
      "       'bright_t31', 'frp'],\n",
      "      dtype='object')\n"
     ]
    }
   ],
   "source": [
    "#show the shape of the data\n",
    "\n",
    "print (df_fires.shape)\n",
    "print(df_fires.head(3))\n",
    "print (df_fires.describe())\n",
    "print(df_fires.columns)"
   ]
  },
  {
   "cell_type": "markdown",
   "metadata": {},
   "source": [
    "# Store the key features.\n",
    "Eliminated the variables related directly to fire_intensity due to overfit. \n",
    "Consider eliminating doy"
   ]
  },
  {
   "cell_type": "code",
   "execution_count": 7,
   "metadata": {},
   "outputs": [],
   "source": [
    "features = ['fire_region', 'season', 'fuelcode', 'prefire_fuel', \n",
    "            'fuel_moisture_class', 'temperature', 'humidity', \n",
    "             'wind_speed']\n",
    "\n",
    "target = ['fire_intensity']\n",
    "\n",
    "\n",
    "y = df_fires[target]\n",
    "X = df_fires[features]\n"
   ]
  },
  {
   "cell_type": "code",
   "execution_count": 8,
   "metadata": {},
   "outputs": [
    {
     "data": {
      "text/plain": [
       "\"\\ncolumn_trans = make_column_transformer((OneHotEncoder(), ['fire_region', 'season',\\n                                'fuelcode', 'fuel_moisture_class']),\\n                                 remainder='passthrough')\\n    \\ncolumn_trans.fit_transform(X)\\ny = LabelEncoder().fit_transform(y)\\n\""
      ]
     },
     "execution_count": 8,
     "metadata": {},
     "output_type": "execute_result"
    }
   ],
   "source": [
    "from sklearn.compose import make_column_transformer\n",
    "from sklearn.preprocessing import StandardScaler\n",
    "from sklearn.compose import ColumnTransformer\n",
    "\n",
    "    \n",
    "y = LabelEncoder().fit_transform(y)\n",
    "\n",
    "numeric_features = ['temperature', 'humidity', 'wind_speed']\n",
    "\n",
    "numeric_transformer = Pipeline(steps=[\n",
    "    #('imputer', SimpleImputer(strategy='median')),\n",
    "    ('scaler', StandardScaler())])\n",
    "\n",
    "#categorical_features = ['fire_region', 'season', 'fuelcode', 'fuel_moisture_class']\n",
    "categorical_features = ['fuelcode']    \n",
    "\n",
    "categorical_transformer = Pipeline(steps=[\n",
    "    #('imputer', SimpleImputer(strategy='constant', fill_value='missing')),\n",
    "    ('onehot', OneHotEncoder(handle_unknown='ignore'))])\n",
    "\n",
    "preprocessor = ColumnTransformer(\n",
    "    transformers=[\n",
    "        ('num', numeric_transformer, numeric_features),\n",
    "        ('cat', categorical_transformer, categorical_features)])\n",
    "\n",
    "\"\"\"\n",
    "column_trans = make_column_transformer((OneHotEncoder(), ['fire_region', 'season',\n",
    "                                'fuelcode', 'fuel_moisture_class']),\n",
    "                                 remainder='passthrough')\n",
    "    \n",
    "column_trans.fit_transform(X)\n",
    "y = LabelEncoder().fit_transform(y)\n",
    "\"\"\""
   ]
  },
  {
   "cell_type": "markdown",
   "metadata": {},
   "source": [
    "# Define the models to test\n",
    "<b>Commented out slower performing models and limited the interations/estimators for speed</b>"
   ]
  },
  {
   "cell_type": "code",
   "execution_count": 11,
   "metadata": {},
   "outputs": [],
   "source": [
    "'''\n",
    "    models = [\n",
    "        SVC(gamma='auto'), NuSVC(gamma='auto'), LinearSVC(), \n",
    "        SGDClassifier(max_iter=100, tol=1e-3), KNeighborsClassifier(), \n",
    "        LogisticRegression(solver='lbfgs'), LogisticRegressionCV(cv=3), \n",
    "        BaggingClassifier(), ExtraTreesClassifier(n_estimators=100), \n",
    "        RandomForestClassifier(n_estimators=100),\n",
    "        ]\n",
    "        \n",
    "'''\n",
    "\n",
    "\n",
    "models = [\n",
    "        #SVC(gamma='auto'), \n",
    "        #NuSVC(gamma='auto'),\n",
    "        #LinearSVC(),\n",
    "        #SGDClassifier(max_iter=25, tol=1e-3),  \n",
    "        #LogisticRegression(solver='lbfgs'),\n",
    "        #BaggingClassifier(), \n",
    "        #ExtraTreesClassifier(n_estimators=5), \n",
    "        RandomForestClassifier(n_estimators=5),\n",
    "        ]\n",
    "\n"
   ]
  },
  {
   "cell_type": "markdown",
   "metadata": {},
   "source": [
    "# Function to Fit and predict the scores of the model. \n",
    "Helps in the initial down selection"
   ]
  },
  {
   "cell_type": "code",
   "execution_count": 13,
   "metadata": {},
   "outputs": [],
   "source": [
    "from datetime import datetime\n",
    "\n",
    "def score_model(X, y, estimator, **kwargs):\n",
    "    \n",
    "    \"\"\"\n",
    "    Test various estimators.\n",
    "   \n",
    "   \n",
    "    #y = LabelEncoder().fit_transform(y)\n",
    "\n",
    "   \n",
    "    \n",
    "    model = Pipeline([\n",
    "         ('one_hot_encoder', OneHotEncoder(categories = 'auto')), \n",
    "         ('estimator', estimator)\n",
    "    ])\n",
    "    \"\"\" \n",
    "    \n",
    "    model = Pipeline([\n",
    "         ('preprocessor', preprocessor), \n",
    "         ('estimator', estimator)\n",
    "    ])\n",
    "   \n",
    "\n",
    "\n",
    "\n",
    "    now = datetime.now()\n",
    "\n",
    "    current_time = now.strftime(\"%H:%M:%S\")\n",
    "    print(\"start Time =\", current_time)\n",
    "  \n",
    "    # Instantiate the classification model and visualizer\n",
    "    model.fit(X, y, **kwargs)  \n",
    "    \n",
    "    expected = y\n",
    "    predicted = model.predict(X)\n",
    "    \n",
    "   \n",
    "    # Compute and return F1 (harmonic mean of precision and recall)\n",
    "    print(\"{}: {}\".format(estimator.__class__.__name__, f1_score(expected, predicted, average='macro')))\n",
    "   \n",
    "    now = datetime.now()\n",
    "\n",
    "    current_time = now.strftime(\"%H:%M:%S\")\n",
    "    print(\"End Time =\", current_time)\n",
    "    \n",
    "    #save_estimator(estimator)\n",
    "    \n",
    "    \n",
    "    \n",
    "    \n"
   ]
  },
  {
   "cell_type": "markdown",
   "metadata": {},
   "source": [
    "# Iterate through the different models"
   ]
  },
  {
   "cell_type": "code",
   "execution_count": 14,
   "metadata": {},
   "outputs": [
    {
     "name": "stdout",
     "output_type": "stream",
     "text": [
      "start Time = 03:01:50\n",
      "RandomForestClassifier: 0.8834718883515353\n",
      "End Time = 03:01:52\n"
     ]
    }
   ],
   "source": [
    "for model in models:\n",
    "    score_model(X, y, model)"
   ]
  },
  {
   "cell_type": "markdown",
   "metadata": {},
   "source": [
    "# Function to visualize the model out using yellow brick classification report.\n",
    "<b> Error is thrown here using the LabelEncoder and one_hot_encoder <b/>"
   ]
  },
  {
   "cell_type": "code",
   "execution_count": 15,
   "metadata": {},
   "outputs": [],
   "source": [
    "def visualize_model(X, y, estimator):\n",
    "    \n",
    "    \"\"\"\n",
    "    Test various estimators.\n",
    "    \n",
    "    y = LabelEncoder().fit_transform(y)\n",
    "    model = Pipeline([\n",
    "         ('one_hot_encoder', OneHotEncoder(categories='auto')), \n",
    "         ('estimator', estimator)\n",
    "    ])\n",
    "    \"\"\" \n",
    "    \n",
    "    \n",
    "    model = Pipeline([\n",
    "         ('preprocessor', preprocessor), \n",
    "         ('estimator', estimator)\n",
    "    ])\n",
    "   \n",
    "    # Instantiate the classification model and visualizer\n",
    "    visualizer = ClassificationReport(\n",
    "        model, \n",
    "        classes=['Low', 'Medium', 'High', 'Severe'], \n",
    "        cmap=\"Reds\", \n",
    "        support=True,\n",
    "        size=(800, 660)\n",
    "    )\n",
    "    \n",
    "    \n",
    "    X_train, X_test, y_train, y_test = tts(X, y, test_size=0.20)\n",
    "    \n",
    "    \n",
    "    visualizer.fit(X_train, y_train)  \n",
    "    \n",
    "    \n",
    "    visualizer.score(X_test, y_test)\n",
    "    \n",
    "    #optional\n",
    "    #visualizer.show(outpath=estimator.__class__.__name__ + \".png\")  \n",
    "    \n",
    "    visualizer.show()\n",
    " \n",
    "\n",
    "    "
   ]
  },
  {
   "cell_type": "markdown",
   "metadata": {},
   "source": [
    "# Iterate through the models to visualize"
   ]
  },
  {
   "cell_type": "code",
   "execution_count": 16,
   "metadata": {},
   "outputs": [
    {
     "data": {
      "image/png": "[encoded data removed]",
      "text/plain": [
       "<Figure size 800x660 with 2 Axes>"
      ]
     },
     "metadata": {
      "needs_background": "light"
     },
     "output_type": "display_data"
    }
   ],
   "source": [
    "for model in models:\n",
    "    visualize_model(X, y, model)\n",
    "    "
   ]
  },
  {
   "cell_type": "code",
   "execution_count": null,
   "metadata": {},
   "outputs": [],
   "source": []
  },
  {
   "cell_type": "code",
   "execution_count": null,
   "metadata": {},
   "outputs": [],
   "source": []
  }
 ],
 "metadata": {
  "kernelspec": {
   "display_name": "Python 3",
   "language": "python",
   "name": "python3"
  },
  "language_info": {
   "codemirror_mode": {
    "name": "ipython",
    "version": 3
   },
   "file_extension": ".py",
   "mimetype": "text/x-python",
   "name": "python",
   "nbconvert_exporter": "python",
   "pygments_lexer": "ipython3",
   "version": "3.7.4"
  }
 },
 "nbformat": 4,
 "nbformat_minor": 4
}

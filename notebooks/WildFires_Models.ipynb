{
 "cells": [
  {
   "cell_type": "markdown",
   "metadata": {},
   "source": [
    "# Wild Fire Model Evaluation\n",
    "\n",
    "This notebooks will evaluate severals model on the wildfire dataset in order to make a predecction on fire intensity and CO2 emissions. A down selection will be made to 2-3 models for further hyper-paramater tuning. "
   ]
  },
  {
   "cell_type": "code",
   "execution_count": 1,
   "metadata": {},
   "outputs": [],
   "source": [
    "#optional code if warnings become over bearing \n",
    "import warnings\n",
    "warnings.filterwarnings('ignore')"
   ]
  },
  {
   "cell_type": "code",
   "execution_count": 2,
   "metadata": {},
   "outputs": [
    {
     "name": "stdout",
     "output_type": "stream",
     "text": [
      "The scikit-learn version is 0.20.3.\n"
     ]
    }
   ],
   "source": [
    "#optional code to ensure everyone is on the right version\n",
    "import sklearn\n",
    "\n",
    "print('The scikit-learn version is {}.'.format(sklearn.__version__))"
   ]
  },
  {
   "cell_type": "markdown",
   "metadata": {},
   "source": [
    "# Import all the models we will likely use for classificaiton"
   ]
  },
  {
   "cell_type": "code",
   "execution_count": 3,
   "metadata": {},
   "outputs": [],
   "source": [
    "%matplotlib inline\n",
    "\n",
    "import os\n",
    "import pandas as pd\n",
    "\n",
    "from sklearn.metrics import f1_score\n",
    "from sklearn.pipeline import Pipeline\n",
    "from sklearn.svm import LinearSVC, NuSVC, SVC\n",
    "from sklearn.neighbors import KNeighborsClassifier\n",
    "from sklearn.model_selection import train_test_split as tts\n",
    "from sklearn.preprocessing import OneHotEncoder, LabelEncoder\n",
    "from sklearn.linear_model import LogisticRegressionCV, LogisticRegression, SGDClassifier\n",
    "from sklearn.ensemble import BaggingClassifier, ExtraTreesClassifier, RandomForestClassifier\n",
    "\n",
    "from yellowbrick.classifier import ClassificationReport\n",
    "\n",
    "from sklearn.preprocessing import OneHotEncoder, LabelEncoder\n",
    "from sklearn.pipeline import Pipeline\n",
    "\n",
    "import os\n",
    "import pickle\n"
   ]
  },
  {
   "cell_type": "markdown",
   "metadata": {},
   "source": [
    "# Helper function to save estimator\n",
    "Saves to current working directory"
   ]
  },
  {
   "cell_type": "code",
   "execution_count": 4,
   "metadata": {},
   "outputs": [],
   "source": [
    "def save_estimator (estimator) :\n",
    "          \n",
    "    outpath = estimator.__class__.__name__.lower().replace(\" \", \"-\") + \".pickle\"\n",
    "    with open(outpath, 'wb') as f:\n",
    "        pickle.dump(estimator, f)\n",
    "        f.close()\n",
    "        \n",
    "    #print(\"\\nFitted model written to:\\n{}\".format(os.path.abspath(outpath)))"
   ]
  },
  {
   "cell_type": "code",
   "execution_count": 5,
   "metadata": {},
   "outputs": [],
   "source": [
    "def open_estimator(filename) :\n",
    "    \n",
    "    infile = open(filename,'rb')\n",
    "    estimator = pickle.load(infile)\n",
    "    infile.close()\n",
    "\n",
    "    print (\"Unpickled file\", filename)\n",
    "    \n",
    "    return estimator"
   ]
  },
  {
   "cell_type": "markdown",
   "metadata": {},
   "source": [
    "# Read the Fire Data From Disk to Save Time.\n",
    "During the feature evaluation the data was pulled from the database and stored locally"
   ]
  },
  {
   "cell_type": "code",
   "execution_count": 7,
   "metadata": {},
   "outputs": [],
   "source": [
    "#Read the data from disk for faster access\n",
    "\n",
    "#get a sample of the data to save time - comment out if you want all the data\n",
    "df_fires = pd.read_csv('data/FireIntensity_Model_June7_Clean.csv').sample(frac = 0.20)\n",
    "\n",
    "\n"
   ]
  },
  {
   "cell_type": "markdown",
   "metadata": {},
   "source": [
    "# Show the shape of the file. \n",
    "Check data to ensure it's correct.\n"
   ]
  },
  {
   "cell_type": "code",
   "execution_count": 8,
   "metadata": {},
   "outputs": [
    {
     "name": "stdout",
     "output_type": "stream",
     "text": [
      "   latitude  longitude  doy  month  year cluster_reference  fire_region  \\\n",
      "0   26.5985   -81.4620    2      1  2003          2003_811            2   \n",
      "1   32.4349  -109.9679    2      1  2003         2003_3004            4   \n",
      "2   30.9114   -92.7975    3      1  2003         2003_1092            0   \n",
      "\n",
      "   season  covertype  fuelcode  ...  temperature  humidity  precip_intensity  \\\n",
      "0       3          1         1  ...        75.18      0.67               0.0   \n",
      "1       3          3      1920  ...        52.58      0.20               0.0   \n",
      "2       3          3      1160  ...        43.47      0.51               0.0   \n",
      "\n",
      "   visibility  wind_speed  wind_gust  brightness  fire_intensity  bright_t31  \\\n",
      "0       9.997        3.90  11.681998       305.5             Low       287.0   \n",
      "1      10.000        9.33  13.040000       326.7            High       291.8   \n",
      "2       9.446        5.10  10.770000       310.0          Medium       286.9   \n",
      "\n",
      "    frp  \n",
      "0   5.2  \n",
      "1  28.7  \n",
      "2  10.9  \n",
      "\n",
      "[3 rows x 22 columns]\n",
      "(50001, 22)\n",
      "           latitude     longitude           doy         month          year  \\\n",
      "count  50001.000000  50001.000000  50001.000000  50001.000000  50001.000000   \n",
      "mean      37.040820    -99.477722    184.637927      6.577308   2009.062679   \n",
      "std        5.844328     13.995284     93.113343      3.050146      3.649717   \n",
      "min       24.557200   -124.564100      1.000000      1.000000   2003.000000   \n",
      "25%       32.380700   -114.220400     98.000000      4.000000   2006.000000   \n",
      "50%       35.901600    -96.256000    198.000000      7.000000   2009.000000   \n",
      "75%       41.611400    -87.868500    262.000000      9.000000   2012.000000   \n",
      "max       48.989900    -67.388100    366.000000     12.000000   2015.000000   \n",
      "\n",
      "        fire_region        season     covertype      fuelcode  prefire_fuel  \\\n",
      "count  50001.000000  50001.000000  50001.000000  50001.000000  50001.000000   \n",
      "mean       2.726265      1.339173      2.344513    824.905602   3850.810199   \n",
      "std        2.111911      1.044423      0.879539    707.560604   3013.359064   \n",
      "min        0.000000      0.000000      1.000000      1.000000     19.727136   \n",
      "25%        1.000000      0.000000      1.000000      1.000000    319.781358   \n",
      "50%        2.000000      1.000000      3.000000   1160.000000   4335.068543   \n",
      "75%        4.000000      2.000000      3.000000   1280.000000   6989.973251   \n",
      "max        7.000000      3.000000      3.000000   2950.000000  13337.510830   \n",
      "\n",
      "       fuel_moisture_class   temperature      humidity  precip_intensity  \\\n",
      "count         50001.000000  50001.000000  50001.000000      50001.000000   \n",
      "mean              2.262355     70.087911      0.411378          0.002431   \n",
      "std               0.705584     14.984885      0.168741          0.050236   \n",
      "min               1.000000     -3.090000      0.000000          0.000000   \n",
      "25%               2.000000     60.730000      0.290000          0.000000   \n",
      "50%               2.000000     70.470000      0.400000          0.000000   \n",
      "75%               3.000000     79.690000      0.530000          0.000000   \n",
      "max               4.000000    119.950000      1.000000          2.760000   \n",
      "\n",
      "         visibility    wind_speed     wind_gust    brightness    bright_t31  \\\n",
      "count  50001.000000  50001.000000  50001.000000  50001.000000  50001.000000   \n",
      "mean       9.203214      6.375639     11.690788    323.779050    295.804744   \n",
      "std        1.712362      4.164169      6.068996     22.165872      9.437227   \n",
      "min        0.000000      0.000000      0.000000    300.000000    264.900000   \n",
      "25%        9.216293      3.530000      7.470000    309.800000    290.200000   \n",
      "50%        9.997000      5.410000     10.870000    317.800000    295.500000   \n",
      "75%        9.997000      8.100000     14.400000    330.100000    300.700000   \n",
      "max       10.000000     42.170000     88.550000    504.900000    400.100000   \n",
      "\n",
      "                frp  \n",
      "count  50001.000000  \n",
      "mean      58.016664  \n",
      "std      177.839010  \n",
      "min        0.000000  \n",
      "25%       10.200000  \n",
      "50%       20.300000  \n",
      "75%       46.600000  \n",
      "max     8911.000000  \n",
      "Index(['latitude', 'longitude', 'doy', 'month', 'year', 'cluster_reference',\n",
      "       'fire_region', 'season', 'covertype', 'fuelcode', 'prefire_fuel',\n",
      "       'fuel_moisture_class', 'temperature', 'humidity', 'precip_intensity',\n",
      "       'visibility', 'wind_speed', 'wind_gust', 'brightness', 'fire_intensity',\n",
      "       'bright_t31', 'frp'],\n",
      "      dtype='object')\n"
     ]
    }
   ],
   "source": [
    "#show the shape of the data\n",
    "\n",
    "print(df_fires.head(3))\n",
    "print (df_fires.shape)\n",
    "print (df_fires.describe())\n",
    "print(df_fires.columns)"
   ]
  },
  {
   "cell_type": "markdown",
   "metadata": {},
   "source": [
    "# Store the key features.\n",
    "Eliminated the variables related directly to fire_intensity due to overfit. \n",
    "Consider eliminating doy"
   ]
  },
  {
   "cell_type": "code",
   "execution_count": 9,
   "metadata": {},
   "outputs": [],
   "source": [
    "features = ['fire_region', 'season', 'fuelcode', 'prefire_fuel', \n",
    "            'fuel_moisture_class', 'temperature', 'humidity', \n",
    "             'wind_speed']\n",
    "\n",
    "target = ['fire_intensity']\n",
    "\n",
    "\n",
    "y = df_fires[target]\n",
    "X = df_fires[features]\n",
    "\n",
    "\n",
    "#encode_columns = ('fire_region', 'season', 'covertype', 'fuel_moisture_class')\n",
    "#onehot_list = df_fires[encode_columns]"
   ]
  },
  {
   "cell_type": "code",
   "execution_count": 10,
   "metadata": {},
   "outputs": [],
   "source": [
    "from sklearn.compose import make_column_transformer\n",
    "\n",
    "column_trans = make_column_transformer((OneHotEncoder(), ['fire_region', 'season',\n",
    "                                'fuelcode', 'fuel_moisture_class']),\n",
    "                                 remainder='passthrough')\n",
    "    \n",
    "column_trans.fit_transform(X)\n",
    "y = LabelEncoder().fit_transform(y)\n"
   ]
  },
  {
   "cell_type": "markdown",
   "metadata": {},
   "source": [
    "# Define the models to test\n",
    "<b>Commented out slower performing models and limited the interations/estimators for speed</b>"
   ]
  },
  {
   "cell_type": "code",
   "execution_count": 11,
   "metadata": {},
   "outputs": [],
   "source": [
    "'''\n",
    "    models = [\n",
    "        SVC(gamma='auto'), NuSVC(gamma='auto'), LinearSVC(), \n",
    "        SGDClassifier(max_iter=100, tol=1e-3), KNeighborsClassifier(), \n",
    "        LogisticRegression(solver='lbfgs'), LogisticRegressionCV(cv=3), \n",
    "        BaggingClassifier(), ExtraTreesClassifier(n_estimators=100), \n",
    "        RandomForestClassifier(n_estimators=100),\n",
    "        ]\n",
    "        \n",
    "'''\n",
    "\n",
    "\n",
    "models = [\n",
    "        SVC(gamma='auto'), \n",
    "        NuSVC(gamma='auto'),\n",
    "        #LinearSVC(),\n",
    "        #SGDClassifier(max_iter=25, tol=1e-3),  \n",
    "        #LogisticRegression(solver='lbfgs'),\n",
    "        BaggingClassifier(), \n",
    "        ExtraTreesClassifier(n_estimators=20), \n",
    "        RandomForestClassifier(n_estimators=20),\n",
    "        ]\n",
    "\n"
   ]
  },
  {
   "cell_type": "markdown",
   "metadata": {},
   "source": [
    "# Function to Fit and predict the scores of the model. \n",
    "Helps in the initial down selection"
   ]
  },
  {
   "cell_type": "code",
   "execution_count": 12,
   "metadata": {},
   "outputs": [],
   "source": [
    "def score_model(X, y, estimator, **kwargs):\n",
    "    \n",
    "    \"\"\"\n",
    "    Test various estimators.\n",
    "   \n",
    "   \n",
    "    #y = LabelEncoder().fit_transform(y)\n",
    "\n",
    "   \n",
    "    \n",
    "    model = Pipeline([\n",
    "         ('one_hot_encoder', OneHotEncoder(categories = 'auto')), \n",
    "         ('estimator', estimator)\n",
    "    ])\n",
    "    \"\"\" \n",
    "    \n",
    "    model = Pipeline([\n",
    "         ('trans', column_trans), \n",
    "         ('estimator', estimator)\n",
    "    ])\n",
    "   \n",
    "  \n",
    "    # Instantiate the classification model and visualizer\n",
    "    model.fit(X, y, **kwargs)  \n",
    "    \n",
    "    expected = y\n",
    "    predicted = model.predict(X)\n",
    "    \n",
    "   \n",
    "    # Compute and return F1 (harmonic mean of precision and recall)\n",
    "    print(\"{}: {}\".format(estimator.__class__.__name__, f1_score(expected, predicted, average='macro')))\n",
    "   \n",
    "    save_estimator(estimator)\n",
    "    \n",
    "    \n"
   ]
  },
  {
   "cell_type": "markdown",
   "metadata": {},
   "source": [
    "# Iterate through the different models"
   ]
  },
  {
   "cell_type": "code",
   "execution_count": 15,
   "metadata": {},
   "outputs": [
    {
     "name": "stdout",
     "output_type": "stream",
     "text": [
      "SVC: 0.49312927908581494\n",
      "NuSVC: 0.6393926867621572\n",
      "BaggingClassifier: 0.894489237381965\n",
      "ExtraTreesClassifier: 0.9089920815952419\n",
      "RandomForestClassifier: 0.9066119596829675\n"
     ]
    }
   ],
   "source": [
    "for model in models:\n",
    "    score_model(X, y, model)"
   ]
  },
  {
   "cell_type": "markdown",
   "metadata": {},
   "source": [
    "# Function to visualize the model out using yellow brick classification report.\n",
    "<b> Error is thrown here using the LabelEncoder and one_hot_encoder <b/>"
   ]
  },
  {
   "cell_type": "code",
   "execution_count": 14,
   "metadata": {},
   "outputs": [],
   "source": [
    "def visualize_model(X, y, estimator):\n",
    "    \n",
    "    \"\"\"\n",
    "    Test various estimators.\n",
    "    \n",
    "    y = LabelEncoder().fit_transform(y)\n",
    "    model = Pipeline([\n",
    "         ('one_hot_encoder', OneHotEncoder(categories='auto')), \n",
    "         ('estimator', estimator)\n",
    "    ])\n",
    "    \"\"\" \n",
    "    \n",
    "    model = Pipeline([\n",
    "         ('trans', column_trans), \n",
    "         ('estimator', estimator)\n",
    "    ])\n",
    "   \n",
    "   \n",
    "    # Instantiate the classification model and visualizer\n",
    "    visualizer = ClassificationReport(\n",
    "        model, \n",
    "        classes=['Low', 'Medium', 'High', 'Severe'], \n",
    "        cmap=\"Reds\", \n",
    "        support=True,\n",
    "        size=(800, 660)\n",
    "    )\n",
    "    \n",
    "    \n",
    "    X_train, X_test, y_train, y_test = tts(X, y, test_size=0.20)\n",
    "    \n",
    "    \n",
    "    visualizer.fit(X_train, y_train)  \n",
    "    \n",
    "    \n",
    "    visualizer.score(X_test, y_test)\n",
    "    \n",
    "    #optional\n",
    "    #visualizer.show(outpath=estimator.__class__.__name__ + \".png\")  \n",
    "    \n",
    "    visualizer.show()\n",
    " \n",
    "\n",
    "    "
   ]
  },
  {
   "cell_type": "markdown",
   "metadata": {},
   "source": [
    "# Iterate through the models to visualize"
   ]
  },
  {
   "cell_type": "code",
   "execution_count": null,
   "metadata": {},
   "outputs": [],
   "source": [
    "for model in models:\n",
    "    visualize_model(X, y, model)\n",
    "    "
   ]
  },
  {
   "cell_type": "code",
   "execution_count": null,
   "metadata": {},
   "outputs": [],
   "source": []
  },
  {
   "cell_type": "code",
   "execution_count": null,
   "metadata": {},
   "outputs": [],
   "source": []
  }
 ],
 "metadata": {
  "kernelspec": {
   "display_name": "Python 3",
   "language": "python",
   "name": "python3"
  },
  "language_info": {
   "codemirror_mode": {
    "name": "ipython",
    "version": 3
   },
   "file_extension": ".py",
   "mimetype": "text/x-python",
   "name": "python",
   "nbconvert_exporter": "python",
   "pygments_lexer": "ipython3",
   "version": "3.7.4"
  }
 },
 "nbformat": 4,
 "nbformat_minor": 4
}

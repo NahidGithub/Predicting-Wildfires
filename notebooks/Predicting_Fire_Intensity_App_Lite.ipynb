{
 "cells": [
  {
   "cell_type": "code",
   "execution_count": 311,
   "metadata": {},
   "outputs": [],
   "source": [
    "#optional code if warnings become over bearing \n",
    "import warnings\n",
    "warnings.filterwarnings('ignore')"
   ]
  },
  {
   "cell_type": "code",
   "execution_count": 312,
   "metadata": {},
   "outputs": [],
   "source": [
    "%matplotlib inline\n",
    "\n",
    "import os\n",
    "import pickle\n",
    "import pandas as pd\n",
    "import numpy as np\n",
    "import seaborn as sns\n",
    "from datetime import date\n",
    "from datetime import datetime\n",
    "from datetime import timedelta\n",
    "\n",
    "from darksky import forecast\n",
    "\n",
    "import config\n",
    "\n",
    "import ipywidgets as widgets\n",
    "from IPython.display import display\n",
    "from ipywidgets import TwoByTwoLayout\n",
    "from ipywidgets import GridspecLayout"
   ]
  },
  {
   "cell_type": "markdown",
   "metadata": {},
   "source": [
    "## Loading Models & Data"
   ]
  },
  {
   "cell_type": "code",
   "execution_count": 313,
   "metadata": {},
   "outputs": [],
   "source": [
    "df_fires = pd.read_csv('data/FireIntensity_Model_June12_Clean.csv')"
   ]
  },
  {
   "cell_type": "markdown",
   "metadata": {},
   "source": [
    "## Defining widgets"
   ]
  },
  {
   "cell_type": "code",
   "execution_count": 314,
   "metadata": {},
   "outputs": [],
   "source": [
    "datepicker = widgets.DatePicker(\n",
    "    description='Fire start: ',\n",
    "    disabled=False,\n",
    "    value = date.today()\n",
    ")"
   ]
  },
  {
   "cell_type": "code",
   "execution_count": 315,
   "metadata": {},
   "outputs": [],
   "source": [
    "temperature = widgets.IntSlider(value=85, max=120, min=20, description='Temperature: ')\n",
    "temperature.style.handle_color = 'lightblue'"
   ]
  },
  {
   "cell_type": "code",
   "execution_count": 316,
   "metadata": {},
   "outputs": [],
   "source": [
    "humidity = widgets.IntSlider(value=85, max=120, min=20, description='Humidity: ')"
   ]
  },
  {
   "cell_type": "code",
   "execution_count": 317,
   "metadata": {},
   "outputs": [],
   "source": [
    "lat = widgets.FloatSlider(value=df_fires.latitude.median(),\n",
    "                          max=df_fires.latitude.max(),\n",
    "                          min=df_fires.latitude.min(),\n",
    "                          description='Latitude: ',\n",
    "                          readout_format='.4f',\n",
    "                          step=0.0001,\n",
    "                         )\n",
    "lat.style.handle_color = 'lightpink'\n",
    "\n",
    "lon = widgets.FloatSlider(value=df_fires.longitude.median(),\n",
    "                          max=df_fires.longitude.max(),\n",
    "                          min=df_fires.longitude.min(),\n",
    "                          description='Longitude: ',\n",
    "                          readout_format='.4f',\n",
    "                          step=0.0001,\n",
    "                         )\n",
    "lon.style.handle_color = 'lightpink'"
   ]
  },
  {
   "cell_type": "code",
   "execution_count": 318,
   "metadata": {},
   "outputs": [],
   "source": [
    "fuel_moist = widgets.Dropdown(\n",
    "    options=[('Very Dry', 1), ('Dry', 2), ('Moderate', 3), ('Moist', 4)],\n",
    "    value=1,\n",
    "    description='Fuel Moisture Class:',\n",
    ")"
   ]
  },
  {
   "cell_type": "code",
   "execution_count": 342,
   "metadata": {},
   "outputs": [],
   "source": [
    "prefire = widgets.FloatSlider(value=df_fires.prefire_fuel.median(),\n",
    "                          max=df_fires.prefire_fuel.max(),\n",
    "                          min=df_fires.prefire_fuel.min(),\n",
    "                          description='Prefire Fuel: ',\n",
    "                          readout_format='.5f',\n",
    "                          step=0.00001,\n",
    "                         )\n",
    "prefire.style.handle_color = 'lightblue'"
   ]
  },
  {
   "cell_type": "code",
   "execution_count": 336,
   "metadata": {},
   "outputs": [],
   "source": [
    "fuel_code = widgets.Dropdown(\n",
    "    options=[1600, 1220,    1, 1400, 1140, 1370, 1920,    2, 1160, 1500, 2700,\n",
    "       2900, 1200, 1910, 2950, 2180, 1900, 1800, 1180, 1100, 1300, 1280,\n",
    "       1260, 1120, 1950, 1940, 1360, 1320, 1340, 1700, 1980, 1990],\n",
    "    value=1,\n",
    "    description='Fuelcode:',\n",
    ")"
   ]
  },
  {
   "cell_type": "code",
   "execution_count": null,
   "metadata": {},
   "outputs": [],
   "source": []
  },
  {
   "cell_type": "markdown",
   "metadata": {},
   "source": [
    "## Predicting Fire Intensity App\n",
    "\n",
    "#### Enter the information in app below and submit for pridiction on fire intensity"
   ]
  },
  {
   "cell_type": "code",
   "execution_count": 387,
   "metadata": {},
   "outputs": [],
   "source": [
    "fireapp = GridspecLayout(4, 3)\n",
    "fireapp[0,0] = datepicker\n",
    "#fireapp[0,2] = temperature\n",
    "fireapp[1,0] = lat\n",
    "fireapp[2,0] = lon\n",
    "fireapp[0,1] = fuel_moist\n",
    "fireapp[1,1] = fuel_code\n",
    "fireapp[2,1] = prefire"
   ]
  },
  {
   "cell_type": "code",
   "execution_count": 388,
   "metadata": {},
   "outputs": [
    {
     "data": {
      "application/vnd.jupyter.widget-view+json": {
       "model_id": "2cc06dd7754d44409cf15507a49cfa6d",
       "version_major": 2,
       "version_minor": 0
      },
      "text/plain": [
       "GridspecLayout(children=(DatePicker(value=datetime.date(2019, 11, 5), description='Fire start: ', layout=Layou…"
      ]
     },
     "metadata": {},
     "output_type": "display_data"
    }
   ],
   "source": [
    "fireapp"
   ]
  },
  {
   "cell_type": "code",
   "execution_count": 320,
   "metadata": {},
   "outputs": [],
   "source": [
    "#source: https://towardsdatascience.com/heres-how-to-calculate-distance-between-2-geolocations-in-python-93ecab5bbba4\n",
    "\n",
    "# estimate fire region input\n",
    "def haversine_distance(lat1, lon1, lat2, lon2):\n",
    "   r = 6371\n",
    "   phi1 = np.radians(lat1)\n",
    "   phi2 = np.radians(lat2)\n",
    "   delta_phi = np.radians(lat2 - lat1)\n",
    "   delta_lambda = np.radians(lon2 - lon1)\n",
    "   a = np.sin(delta_phi / 2)**2 + np.cos(phi1) * np.cos(phi2) *   np.sin(delta_lambda / 2)**2\n",
    "   res = r * (2 * np.arctan2(np.sqrt(a), np.sqrt(1 - a)))\n",
    "   return np.round(res, 2)\n",
    "\n",
    "distances_km = []\n",
    "\n",
    "for row in df_fires.itertuples(index=False):\n",
    "   distances_km.append(\n",
    "       haversine_distance(lat.value, lon.value, row.latitude, row.longitude)\n",
    "   )\n",
    "\n",
    "df_fires['DistanceFromPoint'] = distances_km\n",
    "\n",
    "fire_region_in = df_fires[df_fires.DistanceFromPoint == df_fires.DistanceFromPoint.min()].fire_region.min()"
   ]
  },
  {
   "cell_type": "code",
   "execution_count": 321,
   "metadata": {},
   "outputs": [],
   "source": [
    "#get doy input\n",
    "def get_season(doy):\n",
    "    if ((doy >= 80) and (doy <= 172)):\n",
    "        s = 0  # spring\n",
    "    elif ((doy > 172) and (doy < 264)):\n",
    "        s = 1  # summer\n",
    "    elif ((doy >= 264) and (doy <= 355)):\n",
    "        s = 2  # fall\n",
    "    #elif ((doy > 355) and (doy < 80)):\n",
    "        #s = 3  # winter\n",
    "    else:\n",
    "        s = 3\n",
    "     #   raise IndexError(\"Invalid date\")\n",
    "    return s\n",
    "\n",
    "season_in = get_season(datepicker.value.timetuple().tm_yday)"
   ]
  },
  {
   "cell_type": "code",
   "execution_count": 370,
   "metadata": {},
   "outputs": [],
   "source": [
    "def weather_lookup(date, lat, lon, key=config.darksky_api1):\n",
    "    data = []    \n",
    "    ts = date.isoformat() \n",
    "    lat = lat\n",
    "    lon = lon\n",
    "    weather = forecast(key, lat, lon, time=ts)\n",
    "    w_dict = weather['currently']\n",
    "    data.append(w_dict)\n",
    "    return data\n",
    "\n",
    "dt = datetime(datepicker.value.year, datepicker.value.month, datepicker.value.day, 12)\n",
    "\n",
    "weather_df = pd.DataFrame(weather_lookup(dt, lat.value, lon.value, config.darksky_api1))\n",
    "\n",
    "temperature_in = weather_df.temperature.min()\n",
    "wind_speed_in = weather_df.windSpeed.min()\n",
    "humidity_in = weather_df.humidity.min()\n",
    "visibility_in = weather_df.visibility.min()\n",
    "precip_intensity_in = weather_df.precipIntensity.min()\n",
    "wind_gust_in = weather_df.windGust.min()"
   ]
  },
  {
   "cell_type": "code",
   "execution_count": 391,
   "metadata": {},
   "outputs": [
    {
     "name": "stdout",
     "output_type": "stream",
     "text": [
      "_____User Inputs_____\n",
      "Fire Start:  2019-11-05\n",
      "Latitude:  30.4746\n",
      "Longitude:  -86.2953\n",
      "Fuel Moisture Class:  3\n",
      "Prefire Fuel:  4523.28571\n",
      "Fuelcode:  1260\n",
      "\n",
      "___Model Input Values___\n",
      "Temperature:  78.25\n",
      "Humidity:  0.77\n",
      "Visibility:  10\n",
      "Precip Intensity:  0.0098\n",
      "Wind Gust:  8.04\n",
      "Wind Speed:  5.45\n",
      "Season:  2\n",
      "Fire Region:  2\n",
      "Fuel Moisture Class:  3\n",
      "Prefire Fuel:  4523.28571\n",
      "Fuelcode:  1260\n"
     ]
    }
   ],
   "source": [
    "print(\"_____User Inputs_____\")\n",
    "print(\"Fire Start: \", datepicker.value)\n",
    "print(\"Latitude: \", lat.value)\n",
    "print(\"Longitude: \", lon.value)\n",
    "print(\"Fuel Moisture Class: \", fuel_moist.value)\n",
    "print(\"Prefire Fuel: \", prefire.value)\n",
    "print(\"Fuelcode: \", fuel_code.value)\n",
    "print(\"\")\n",
    "\n",
    "\n",
    "print(\"___Model Input Values___\")\n",
    "print(\"Temperature: \", temperature_in)\n",
    "print(\"Humidity: \", humidity_in)\n",
    "print(\"Visibility: \", visibility_in)\n",
    "print(\"Precip Intensity: \", precip_intensity_in)\n",
    "print(\"Wind Gust: \", wind_gust_in)\n",
    "print(\"Wind Speed: \", wind_speed_in)\n",
    "print(\"Season: \", season_in)\n",
    "print(\"Fire Region: \", fire_region_in)\n",
    "print(\"Fuel Moisture Class: \", fuel_moist.value)\n",
    "print(\"Prefire Fuel: \", prefire.value)\n",
    "print(\"Fuelcode: \", fuel_code.value)"
   ]
  },
  {
   "cell_type": "code",
   "execution_count": 381,
   "metadata": {},
   "outputs": [
    {
     "data": {
      "text/plain": [
       "('fuel_moisture_class', 'fuelcode', 'prefire_fuel')"
      ]
     },
     "execution_count": 381,
     "metadata": {},
     "output_type": "execute_result"
    }
   ],
   "source": [
    "# pull from darksky api\n",
    "'temperature', 'wind_speed','humidity','visibility', 'precip_intensity', 'wind_gust'\n",
    "\n",
    "#use functions to create\n",
    "'fire_region', 'season',\n",
    "\n",
    "#set by user\n",
    "'fuel_moisture_class','fuelcode', 'prefire_fuel'\n",
    "\n"
   ]
  },
  {
   "cell_type": "code",
   "execution_count": null,
   "metadata": {},
   "outputs": [],
   "source": []
  },
  {
   "cell_type": "code",
   "execution_count": null,
   "metadata": {},
   "outputs": [],
   "source": []
  },
  {
   "cell_type": "code",
   "execution_count": null,
   "metadata": {},
   "outputs": [],
   "source": []
  },
  {
   "cell_type": "code",
   "execution_count": null,
   "metadata": {},
   "outputs": [],
   "source": []
  },
  {
   "cell_type": "code",
   "execution_count": null,
   "metadata": {},
   "outputs": [],
   "source": []
  },
  {
   "cell_type": "code",
   "execution_count": 307,
   "metadata": {},
   "outputs": [],
   "source": [
    "## Other cool stuff to try"
   ]
  },
  {
   "cell_type": "code",
   "execution_count": 308,
   "metadata": {},
   "outputs": [
    {
     "data": {
      "application/vnd.jupyter.widget-view+json": {
       "model_id": "b9bfb9e65bf6442fa81ac0d5c6ef772a",
       "version_major": 2,
       "version_minor": 0
      },
      "text/plain": [
       "HBox(children=(VBox(children=(IntSlider(value=0, description='a', style=SliderStyle(handle_color='lightblue'))…"
      ]
     },
     "metadata": {},
     "output_type": "display_data"
    }
   ],
   "source": [
    "\n",
    "a = widgets.IntSlider(description='a')\n",
    "a.style.handle_color = 'lightblue'\n",
    "b = widgets.IntSlider(description='b')\n",
    "b.style.handle_color = 'green'\n",
    "c = widgets.IntSlider(description='c')\n",
    "c.style.handle_color = 'red'\n",
    "def f(a, b, c):\n",
    "    print('{}*{}*{}={}'.format(a, b, c, a*b*c))\n",
    "\n",
    "out = widgets.interactive_output(f, {'a': a, 'b': b, 'c': c})\n",
    "\n",
    "widgets.HBox([widgets.VBox([a, b, c]), out])\n"
   ]
  },
  {
   "cell_type": "code",
   "execution_count": 309,
   "metadata": {},
   "outputs": [
    {
     "data": {
      "application/vnd.jupyter.widget-view+json": {
       "model_id": "ba73aecd02b74ab48d9aafe19f3e4dd4",
       "version_major": 2,
       "version_minor": 0
      },
      "text/plain": [
       "ToggleButtons(description='Speed:', options=('Slow', 'Regular', 'Fast'), tooltips=('Description of slow', 'Des…"
      ]
     },
     "metadata": {},
     "output_type": "display_data"
    }
   ],
   "source": [
    "\n",
    "widgets.ToggleButtons(\n",
    "    options=['Slow', 'Regular', 'Fast'],\n",
    "    description='Speed:',\n",
    "    disabled=False,\n",
    "    button_style='', # 'success', 'info', 'warning', 'danger' or ''\n",
    "    tooltips=['Description of slow', 'Description of regular', 'Description of fast'],\n",
    "#     icons=['check'] * 3\n",
    ")"
   ]
  },
  {
   "cell_type": "code",
   "execution_count": 310,
   "metadata": {},
   "outputs": [
    {
     "data": {
      "application/vnd.jupyter.widget-view+json": {
       "model_id": "28fac4b9282b4c02ba9af154d551b849",
       "version_major": 2,
       "version_minor": 0
      },
      "text/plain": [
       "Accordion(children=(IntSlider(value=0), Text(value='test')))"
      ]
     },
     "metadata": {},
     "output_type": "display_data"
    }
   ],
   "source": [
    "\n",
    "accordion = widgets.Accordion(children=[widgets.IntSlider(), widgets.Text(\"test\")], titles=('Slider', 'Text'))\n",
    "accordion"
   ]
  },
  {
   "cell_type": "code",
   "execution_count": null,
   "metadata": {},
   "outputs": [],
   "source": []
  }
 ],
 "metadata": {
  "kernelspec": {
   "display_name": "Python 3",
   "language": "python",
   "name": "python3"
  },
  "language_info": {
   "codemirror_mode": {
    "name": "ipython",
    "version": 3
   },
   "file_extension": ".py",
   "mimetype": "text/x-python",
   "name": "python",
   "nbconvert_exporter": "python",
   "pygments_lexer": "ipython3",
   "version": "3.7.4"
  }
 },
 "nbformat": 4,
 "nbformat_minor": 2
}

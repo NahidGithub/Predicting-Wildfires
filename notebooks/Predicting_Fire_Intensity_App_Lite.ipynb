{
 "cells": [
  {
   "cell_type": "code",
   "execution_count": 65,
   "metadata": {},
   "outputs": [],
   "source": [
    "#optional code if warnings become over bearing \n",
    "import warnings\n",
    "warnings.filterwarnings('ignore')"
   ]
  },
  {
   "cell_type": "code",
   "execution_count": 126,
   "metadata": {},
   "outputs": [],
   "source": [
    "%matplotlib inline\n",
    "\n",
    "import os\n",
    "import pickle\n",
    "import pandas as pd\n",
    "import numpy as np\n",
    "import seaborn as sns\n",
    "from datetime import date\n",
    "from datetime import datetime\n",
    "from datetime import timedelta\n",
    "\n",
    "from darksky import forecast\n",
    "\n",
    "import config\n",
    "\n",
    "import ipywidgets as widgets\n",
    "from IPython.display import display\n",
    "from ipywidgets import TwoByTwoLayout\n",
    "from ipywidgets import GridspecLayout\n",
    "import threading\n",
    "from IPython.display import display, HTML\n",
    "import ipywidgets as widgets\n",
    "import time\n",
    "\n",
    "RAPIDAPI_KEY  = config.darksky_api1"
   ]
  },
  {
   "cell_type": "markdown",
   "metadata": {},
   "source": [
    "## Loading Models & Data"
   ]
  },
  {
   "cell_type": "code",
   "execution_count": 67,
   "metadata": {},
   "outputs": [],
   "source": [
    "df_fires = pd.read_csv('data/FireIntensity_Model_June12_Clean.csv')"
   ]
  },
  {
   "cell_type": "markdown",
   "metadata": {},
   "source": [
    "## Defining widgets"
   ]
  },
  {
   "cell_type": "code",
   "execution_count": 68,
   "metadata": {},
   "outputs": [],
   "source": [
    "datepicker = widgets.DatePicker(\n",
    "    description='Fire start: ',\n",
    "    disabled=False,\n",
    "    value = date.today()\n",
    ")"
   ]
  },
  {
   "cell_type": "code",
   "execution_count": 69,
   "metadata": {},
   "outputs": [],
   "source": [
    "temperature = widgets.IntSlider(value=85, max=120, min=20, description='Temperature: ')\n",
    "temperature.style.handle_color = 'lightblue'"
   ]
  },
  {
   "cell_type": "code",
   "execution_count": 70,
   "metadata": {},
   "outputs": [],
   "source": [
    "humidity = widgets.IntSlider(value=85, max=120, min=20, description='Humidity: ')"
   ]
  },
  {
   "cell_type": "code",
   "execution_count": 71,
   "metadata": {},
   "outputs": [],
   "source": [
    "lat = widgets.FloatSlider(value=df_fires.latitude.median(),\n",
    "                          max=df_fires.latitude.max(),\n",
    "                          min=df_fires.latitude.min(),\n",
    "                          description='Latitude: ',\n",
    "                          readout_format='.4f',\n",
    "                          step=0.0001,\n",
    "                         )\n",
    "lat.style.handle_color = 'lightpink'\n",
    "\n",
    "lon = widgets.FloatSlider(value=df_fires.longitude.median(),\n",
    "                          max=df_fires.longitude.max(),\n",
    "                          min=df_fires.longitude.min(),\n",
    "                          description='Longitude: ',\n",
    "                          readout_format='.4f',\n",
    "                          step=0.0001,\n",
    "                         )\n",
    "lon.style.handle_color = 'lightpink'"
   ]
  },
  {
   "cell_type": "code",
   "execution_count": 72,
   "metadata": {},
   "outputs": [],
   "source": [
    "fuel_moist = widgets.Dropdown(\n",
    "    options=[('Very Dry', 1), ('Dry', 2), ('Moderate', 3), ('Moist', 4)],\n",
    "    value=1,\n",
    "    description='Fuel Moisture Class:',\n",
    ")"
   ]
  },
  {
   "cell_type": "code",
   "execution_count": 73,
   "metadata": {},
   "outputs": [],
   "source": [
    "prefire = widgets.FloatSlider(value=df_fires.prefire_fuel.median(),\n",
    "                          max=df_fires.prefire_fuel.max(),\n",
    "                          min=df_fires.prefire_fuel.min(),\n",
    "                          description='Prefire Fuel: ',\n",
    "                          readout_format='.5f',\n",
    "                          step=0.00001,\n",
    "                         )\n",
    "prefire.style.handle_color = 'lightblue'"
   ]
  },
  {
   "cell_type": "code",
   "execution_count": 98,
   "metadata": {},
   "outputs": [],
   "source": [
    "fuel_code = widgets.Dropdown(\n",
    "    options=[('Herbaceous ', 1), \n",
    "             ('Shrub / scrub ', 2),\n",
    "             ('Spruce / fir group ', 1120), \n",
    "             ('Longleaf / slash pine group ', 1140), \n",
    "             ('Loblolly / shortleaf pine group ', 1160), \n",
    "             ('Douglas-fir group ', 1200), \n",
    "             ('Hemlock / Sitka spruce group ', 1300), \n",
    "             ('Redwood group ', 1340), \n",
    "             ('Oak / hickory group ', 1500), \n",
    "             ('Elm / ash / cottonwood group ', 1700)],\n",
    "    value=1,\n",
    "    description='Cover Type:',\n",
    ")"
   ]
  },
  {
   "cell_type": "code",
   "execution_count": null,
   "metadata": {},
   "outputs": [],
   "source": []
  },
  {
   "cell_type": "markdown",
   "metadata": {},
   "source": [
    "## Predicting Fire Intensity App\n",
    "\n",
    "#### Enter the information in app below and submit for pridiction on fire intensity"
   ]
  },
  {
   "cell_type": "code",
   "execution_count": 150,
   "metadata": {},
   "outputs": [],
   "source": [
    "fireapp = GridspecLayout(4, 3)\n",
    "fireapp[0,0] = datepicker\n",
    "fireapp[1,0] = lat\n",
    "fireapp[2,0] = lon\n",
    "fireapp[0,1] = fuel_moist\n",
    "fireapp[1,1] = fuel_code\n",
    "fireapp[2,1] = prefire\n",
    "fireapp[0,2] = button"
   ]
  },
  {
   "cell_type": "code",
   "execution_count": 145,
   "metadata": {
    "scrolled": false
   },
   "outputs": [],
   "source": [
    "#fireapp"
   ]
  },
  {
   "cell_type": "code",
   "execution_count": 102,
   "metadata": {},
   "outputs": [],
   "source": [
    "#source: https://towardsdatascience.com/heres-how-to-calculate-distance-between-2-geolocations-in-python-93ecab5bbba4\n",
    "\n",
    "# estimate fire region input\n",
    "def haversine_distance(lat1, lon1, lat2, lon2):\n",
    "    r = 6371\n",
    "    phi1 = np.radians(lat1)\n",
    "    phi2 = np.radians(lat2)\n",
    "    delta_phi = np.radians(lat2 - lat1)\n",
    "    delta_lambda = np.radians(lon2 - lon1)\n",
    "    a = np.sin(delta_phi / 2)**2 + np.cos(phi1) * np.cos(phi2) *   np.sin(delta_lambda / 2)**2\n",
    "    res = r * (2 * np.arctan2(np.sqrt(a), np.sqrt(1 - a)))\n",
    "    return np.round(res, 2)\n",
    "\n",
    "distances_km = []\n",
    "\n",
    "for row in df_fires.itertuples(index=False):\n",
    "    distances_km.append(\n",
    "       haversine_distance(lat.value, lon.value, row.latitude, row.longitude)\n",
    "   )\n",
    "\n",
    "df_fires['DistanceFromPoint'] = distances_km\n",
    "\n",
    "fire_region_in = df_fires[df_fires.DistanceFromPoint == df_fires.DistanceFromPoint.min()].fire_region.min()"
   ]
  },
  {
   "cell_type": "code",
   "execution_count": 103,
   "metadata": {},
   "outputs": [],
   "source": [
    "#get doy input\n",
    "def get_season(doy):\n",
    "    if ((doy >= 80) and (doy <= 172)):\n",
    "        s = 0  # spring\n",
    "    elif ((doy > 172) and (doy < 264)):\n",
    "        s = 1  # summer\n",
    "    elif ((doy >= 264) and (doy <= 355)):\n",
    "        s = 2  # fall\n",
    "    #elif ((doy > 355) and (doy < 80)):\n",
    "        #s = 3  # winter\n",
    "    else:\n",
    "        s = 3\n",
    "     #   raise IndexError(\"Invalid date\")\n",
    "    return s\n",
    "\n",
    "season_in = get_season(datepicker.value.timetuple().tm_yday)"
   ]
  },
  {
   "cell_type": "code",
   "execution_count": 104,
   "metadata": {},
   "outputs": [],
   "source": [
    "def weather_lookup(df, key=RAPIDAPI_KEY, days_before=0, days_after=0):\n",
    "    data = []\n",
    "    for index, row in df.iterrows():\n",
    "        ts = row['datetime'].isoformat() \n",
    "        lat = row['latitude']\n",
    "        lon = row['longitude']\n",
    "        weather = forecast(key, lat, lon, time=ts)\n",
    "        w_dict = weather['currently']\n",
    "        w_dict['timestamp'] = ts\n",
    "        w_dict['latitude'] = lat\n",
    "        w_dict['longitude'] = lon\n",
    "        data.append(w_dict)\n",
    "    return data\n"
   ]
  },
  {
   "cell_type": "code",
   "execution_count": 106,
   "metadata": {},
   "outputs": [],
   "source": [
    "dt = datetime(datepicker.value.year, datepicker.value.month, datepicker.value.day, 12)\n",
    "fire_predict = pd.DataFrame(columns=['datetime', 'latitude', 'longitude'])\n",
    "fire_predict = fire_predict.append({'datetime': dt, 'latitude': lat.value, 'longitude': lon.value}, ignore_index=True)\n",
    "weather_df = pd.DataFrame(weather_lookup(fire_predict))\n",
    "\n",
    "temperature_in = weather_df.temperature.min()\n",
    "wind_speed_in = weather_df.windSpeed.min()\n",
    "humidity_in = weather_df.humidity.min()\n",
    "precip_intensity_in = weather_df.precipIntensity.min()\n",
    "wind_gust_in = weather_df.windGust.min()"
   ]
  },
  {
   "cell_type": "code",
   "execution_count": 112,
   "metadata": {},
   "outputs": [
    {
     "name": "stdout",
     "output_type": "stream",
     "text": [
      "------User Inputs------\n",
      "Fire Start:  2008-06-18\n",
      "Latitude:  38.8183\n",
      "Longitude:  -109.0128\n",
      "Fuel Moisture Class:  1\n",
      "Prefire Fuel:  6971.76675\n",
      "Fuelcode:  1500\n",
      "\n",
      "------Model Input Values------\n",
      "Latitude:  38.8183\n",
      "Longitude:  -109.0128\n",
      "Day of Year:  170\n",
      "Fuelcode:  1500\n",
      "Fuel Moisture Class:  1\n",
      "Prefire Fuel:  6971.76675\n",
      "Temperature:  82.36\n",
      "Humidity:  0.15\n",
      "Precip Intensity:  0\n",
      "Wind Gust:  13.11\n",
      "Wind Speed:  5.64\n",
      "\n",
      "----Additional Features-----\n",
      "Season:  0\n",
      "Fire Region:  4\n"
     ]
    }
   ],
   "source": [
    "print(\"------User Inputs------\")\n",
    "print(\"Fire Start: \", datepicker.value)\n",
    "print(\"Latitude: \", lat.value)\n",
    "print(\"Longitude: \", lon.value)\n",
    "print(\"Fuel Moisture Class: \", fuel_moist.value)\n",
    "print(\"Prefire Fuel: \", prefire.value)\n",
    "print(\"Fuelcode: \", fuel_code.value)\n",
    "print(\"\")\n",
    "\n",
    "\n",
    "print(\"------Model Input Values------\")\n",
    "print(\"Latitude: \", lat.value)\n",
    "print(\"Longitude: \", lon.value)\n",
    "print(\"Day of Year: \", datepicker.value.timetuple().tm_yday)\n",
    "print(\"Fuelcode: \", fuel_code.value)\n",
    "print(\"Fuel Moisture Class: \", fuel_moist.value)\n",
    "print(\"Prefire Fuel: \", prefire.value)\n",
    "print(\"Temperature: \", temperature_in)\n",
    "print(\"Humidity: \", humidity_in)\n",
    "print(\"Precip Intensity: \", precip_intensity_in)\n",
    "print(\"Wind Gust: \", wind_gust_in)\n",
    "print(\"Wind Speed: \", wind_speed_in)\n",
    "print(\"\")\n",
    "\n",
    "print(\"----Additional Features-----\")\n",
    "print(\"Season: \", season_in)\n",
    "print(\"Fire Region: \", fire_region_in)\n"
   ]
  },
  {
   "cell_type": "code",
   "execution_count": null,
   "metadata": {},
   "outputs": [],
   "source": [
    "features = ['latitude', 'longitude', 'doy', 'fuelcode', 'fuel_moisture_class', 'prefire_fuel', 'temperature', 'humidity', 'precip_intensity', 'wind_gust', 'wind_speed']"
   ]
  },
  {
   "cell_type": "code",
   "execution_count": null,
   "metadata": {},
   "outputs": [],
   "source": []
  },
  {
   "cell_type": "code",
   "execution_count": null,
   "metadata": {},
   "outputs": [],
   "source": []
  },
  {
   "cell_type": "code",
   "execution_count": null,
   "metadata": {},
   "outputs": [],
   "source": []
  },
  {
   "cell_type": "code",
   "execution_count": null,
   "metadata": {},
   "outputs": [],
   "source": []
  },
  {
   "cell_type": "code",
   "execution_count": null,
   "metadata": {},
   "outputs": [],
   "source": []
  },
  {
   "cell_type": "code",
   "execution_count": 381,
   "metadata": {},
   "outputs": [
    {
     "data": {
      "text/plain": [
       "('fuel_moisture_class', 'fuelcode', 'prefire_fuel')"
      ]
     },
     "execution_count": 381,
     "metadata": {},
     "output_type": "execute_result"
    }
   ],
   "source": [
    "# pull from darksky api\n",
    "'temperature', 'wind_speed','humidity','visibility', 'precip_intensity', 'wind_gust'\n",
    "\n",
    "#use functions to create\n",
    "'fire_region', 'season',\n",
    "\n",
    "#set by user\n",
    "'fuel_moisture_class','fuelcode', 'prefire_fuel'\n",
    "\n"
   ]
  },
  {
   "cell_type": "code",
   "execution_count": null,
   "metadata": {},
   "outputs": [],
   "source": []
  },
  {
   "cell_type": "code",
   "execution_count": null,
   "metadata": {},
   "outputs": [],
   "source": []
  },
  {
   "cell_type": "code",
   "execution_count": null,
   "metadata": {},
   "outputs": [],
   "source": []
  },
  {
   "cell_type": "code",
   "execution_count": null,
   "metadata": {},
   "outputs": [],
   "source": []
  },
  {
   "cell_type": "code",
   "execution_count": null,
   "metadata": {},
   "outputs": [],
   "source": []
  },
  {
   "cell_type": "code",
   "execution_count": 307,
   "metadata": {},
   "outputs": [],
   "source": [
    "## Other cool stuff to try"
   ]
  },
  {
   "cell_type": "code",
   "execution_count": 79,
   "metadata": {},
   "outputs": [
    {
     "data": {
      "application/vnd.jupyter.widget-view+json": {
       "model_id": "59813700182f40de816adb807dcce4a4",
       "version_major": 2,
       "version_minor": 0
      },
      "text/plain": [
       "HBox(children=(VBox(children=(IntSlider(value=0, description='a', style=SliderStyle(handle_color='lightblue'))…"
      ]
     },
     "metadata": {},
     "output_type": "display_data"
    }
   ],
   "source": [
    "\n",
    "a = widgets.IntSlider(description='a')\n",
    "a.style.handle_color = 'lightblue'\n",
    "b = widgets.IntSlider(description='b')\n",
    "b.style.handle_color = 'green'\n",
    "c = widgets.IntSlider(description='c')\n",
    "c.style.handle_color = 'red'\n",
    "def f(a, b, c):\n",
    "    print('{}*{}*{}={}'.format(a, b, c, a*b*c))\n",
    "\n",
    "out = widgets.interactive_output(f, {'a': a, 'b': b, 'c': c})\n",
    "\n",
    "widgets.HBox([widgets.VBox([a, b, c]), out])\n"
   ]
  },
  {
   "cell_type": "code",
   "execution_count": 80,
   "metadata": {},
   "outputs": [
    {
     "data": {
      "application/vnd.jupyter.widget-view+json": {
       "model_id": "5b4abb27211e4f58a66c0ede5ec37479",
       "version_major": 2,
       "version_minor": 0
      },
      "text/plain": [
       "ToggleButtons(description='Speed:', options=('Slow', 'Regular', 'Fast'), tooltips=('Description of slow', 'Des…"
      ]
     },
     "metadata": {},
     "output_type": "display_data"
    }
   ],
   "source": [
    "\n",
    "widgets.ToggleButtons(\n",
    "    options=['Slow', 'Regular', 'Fast'],\n",
    "    description='Speed:',\n",
    "    disabled=False,\n",
    "    button_style='', # 'success', 'info', 'warning', 'danger' or ''\n",
    "    tooltips=['Description of slow', 'Description of regular', 'Description of fast'],\n",
    "#     icons=['check'] * 3\n",
    ")"
   ]
  },
  {
   "cell_type": "code",
   "execution_count": 81,
   "metadata": {},
   "outputs": [
    {
     "data": {
      "application/vnd.jupyter.widget-view+json": {
       "model_id": "0743b4f172144717a937a408a27a2165",
       "version_major": 2,
       "version_minor": 0
      },
      "text/plain": [
       "Accordion(children=(IntSlider(value=0), Text(value='test')))"
      ]
     },
     "metadata": {},
     "output_type": "display_data"
    }
   ],
   "source": [
    "\n",
    "accordion = widgets.Accordion(children=[widgets.IntSlider(), widgets.Text(\"test\")], titles=('Slider', 'Text'))\n",
    "accordion"
   ]
  },
  {
   "cell_type": "code",
   "execution_count": 182,
   "metadata": {},
   "outputs": [
    {
     "data": {
      "application/vnd.jupyter.widget-view+json": {
       "model_id": "81847261ce2b4a41b7dea4e840640d75",
       "version_major": 2,
       "version_minor": 0
      },
      "text/plain": [
       "Button(description='Predict Fire', style=ButtonStyle())"
      ]
     },
     "metadata": {},
     "output_type": "display_data"
    },
    {
     "data": {
      "application/vnd.jupyter.widget-view+json": {
       "model_id": "533a3e26109b46ebb02158eb0a2b1b59",
       "version_major": 2,
       "version_minor": 0
      },
      "text/plain": [
       "Output()"
      ]
     },
     "metadata": {},
     "output_type": "display_data"
    }
   ],
   "source": [
    "from IPython.display import display\n",
    "button = widgets.Button(description=\"Predict Fire\")\n",
    "output = widgets.Output()\n",
    "\n",
    "display(button, output)\n",
    "\n",
    "def on_button_clicked(b):\n",
    "    with output:\n",
    "        print(\"Warming up...\")\n",
    "#         print(\"Finding region on map...\")\n",
    "#         def haversine_distance(lat1, lon1, lat2, lon2):\n",
    "#             r = 6371\n",
    "#             phi1 = np.radians(lat1)\n",
    "#             phi2 = np.radians(lat2)\n",
    "#             delta_phi = np.radians(lat2 - lat1)\n",
    "#             delta_lambda = np.radians(lon2 - lon1)\n",
    "#             a = np.sin(delta_phi / 2)**2 + np.cos(phi1) * np.cos(phi2) *   np.sin(delta_lambda / 2)**2\n",
    "#             res = r * (2 * np.arctan2(np.sqrt(a), np.sqrt(1 - a)))\n",
    "#             return np.round(res, 2)\n",
    "\n",
    "#         distances_km = []\n",
    "\n",
    "#         for row in df_fires.itertuples(index=False):\n",
    "#             distances_km.append(\n",
    "#             haversine_distance(lat.value, lon.value, row.latitude, row.longitude)\n",
    "#          )\n",
    "\n",
    "#         df_fires['DistanceFromPoint'] = distances_km\n",
    "\n",
    "#         fire_region_in = df_fires[df_fires.DistanceFromPoint == df_fires.DistanceFromPoint.min()].fire_region.min()\n",
    "#         print('### remove this ###  Region: ',fire_region_in)\n",
    "        \n",
    "        #get season input\n",
    "        def get_season(doy):\n",
    "            if ((doy >= 80) and (doy <= 172)):\n",
    "                s = 0  # spring\n",
    "            elif ((doy > 172) and (doy < 264)):\n",
    "                s = 1  # summer\n",
    "            elif ((doy >= 264) and (doy <= 355)):\n",
    "                s = 2  # fall\n",
    "            #elif ((doy > 355) and (doy < 80)):\n",
    "                #s = 3  # winter\n",
    "            else:\n",
    "                s = 3\n",
    "             #   raise IndexError(\"Invalid date\")\n",
    "            return s\n",
    "        \n",
    "        season_in = get_season(datepicker.value.timetuple().tm_yday)\n",
    "        print('### remove this ###  Season: ',season_in)\n",
    "        \n",
    "        \n",
    "        print(\"Pulling weather data from DarkSky...\")\n",
    "        def weather_lookup(df, key=RAPIDAPI_KEY, days_before=0, days_after=0):\n",
    "            data = []\n",
    "            for index, row in df.iterrows():\n",
    "                ts = row['datetime'].isoformat() \n",
    "                lat = row['latitude']\n",
    "                lon = row['longitude']\n",
    "                weather = forecast(key, lat, lon, time=ts)\n",
    "                w_dict = weather['currently']\n",
    "                w_dict['timestamp'] = ts\n",
    "                w_dict['latitude'] = lat\n",
    "                w_dict['longitude'] = lon\n",
    "                data.append(w_dict)\n",
    "            return data\n",
    "        \n",
    "        dt = datetime(datepicker.value.year, datepicker.value.month, datepicker.value.day, 12)\n",
    "        fire_predict = pd.DataFrame(columns=['datetime', 'latitude', 'longitude'])\n",
    "        fire_predict = fire_predict.append({'datetime': dt, 'latitude': lat.value, 'longitude': lon.value}, ignore_index=True)\n",
    "        weather_df = pd.DataFrame(weather_lookup(fire_predict))\n",
    "        \n",
    "        temperature_in = weather_df.temperature.min()\n",
    "        wind_speed_in = weather_df.windSpeed.min()\n",
    "        humidity_in = weather_df.humidity.min()\n",
    "        precip_intensity_in = weather_df.precipIntensity.min()\n",
    "        wind_gust_in = weather_df.windGust.min()\n",
    "        \n",
    "        print('### remove this ###  Weather Data: ')\n",
    "        print(\"Temperature: \", temperature_in)\n",
    "        print(\"Humidity: \", humidity_in)\n",
    "        print(\"Precip Intensity: \", precip_intensity_in)\n",
    "        print(\"Wind Gust: \", wind_gust_in)\n",
    "        print(\"Wind Speed: \", wind_speed_in)\n",
    "        \n",
    "        print(\"Calculating Intinsity...\")\n",
    "        def thread_func(something, out):\n",
    "            for i in range(1, 5):\n",
    "                time.sleep(2.5)\n",
    "                out.append_stdout('{} {} {}\\n'.format(i, '**'*i, something))\n",
    "            #out.append_display_data(HTML(\"<em>All done!</em>\"))\n",
    "            print(\"Fire is SEVERE!\")\n",
    "        \n",
    "        display('Display in main thread')\n",
    "        out = widgets.Output()\n",
    "        # Now the key: the container is displayed (while empty) in the main thread\n",
    "        display(out)\n",
    "        \n",
    "        thread = threading.Thread(\n",
    "            target=thread_func,\n",
    "            args=(\"Calculating\", out))\n",
    "        thread.start()\n",
    "        \n",
    "button.on_click(on_button_clicked)"
   ]
  },
  {
   "cell_type": "code",
   "execution_count": 189,
   "metadata": {
    "scrolled": false
   },
   "outputs": [
    {
     "data": {
      "application/vnd.jupyter.widget-view+json": {
       "model_id": "460c568401114c14a2601b664d291499",
       "version_major": 2,
       "version_minor": 0
      },
      "text/plain": [
       "GridspecLayout(children=(DatePicker(value=datetime.date(2012, 1, 18), description='Fire start: ', layout=Layou…"
      ]
     },
     "metadata": {},
     "output_type": "display_data"
    },
    {
     "data": {
      "application/vnd.jupyter.widget-view+json": {
       "model_id": "533a3e26109b46ebb02158eb0a2b1b59",
       "version_major": 2,
       "version_minor": 0
      },
      "text/plain": [
       "Output()"
      ]
     },
     "metadata": {},
     "output_type": "display_data"
    }
   ],
   "source": [
    "display(fireapp, output)"
   ]
  },
  {
   "cell_type": "code",
   "execution_count": 186,
   "metadata": {},
   "outputs": [
    {
     "data": {
      "application/vnd.jupyter.widget-view+json": {
       "model_id": "533a3e26109b46ebb02158eb0a2b1b59",
       "version_major": 2,
       "version_minor": 0
      },
      "text/plain": [
       "Output()"
      ]
     },
     "metadata": {},
     "output_type": "display_data"
    }
   ],
   "source": [
    "output"
   ]
  },
  {
   "cell_type": "code",
   "execution_count": 185,
   "metadata": {},
   "outputs": [],
   "source": [
    "output.clear_output()"
   ]
  },
  {
   "cell_type": "code",
   "execution_count": 173,
   "metadata": {},
   "outputs": [],
   "source": [
    "fireapp = GridspecLayout(4, 3)\n",
    "fireapp[0,0] = datepicker\n",
    "fireapp[1,0] = lat\n",
    "fireapp[2,0] = lon\n",
    "fireapp[0,1] = fuel_moist\n",
    "fireapp[1,1] = fuel_code\n",
    "fireapp[2,1] = prefire\n",
    "fireapp[0,2] = button"
   ]
  },
  {
   "cell_type": "code",
   "execution_count": null,
   "metadata": {},
   "outputs": [],
   "source": []
  },
  {
   "cell_type": "code",
   "execution_count": null,
   "metadata": {},
   "outputs": [],
   "source": []
  },
  {
   "cell_type": "code",
   "execution_count": null,
   "metadata": {},
   "outputs": [],
   "source": []
  },
  {
   "cell_type": "code",
   "execution_count": null,
   "metadata": {},
   "outputs": [],
   "source": []
  },
  {
   "cell_type": "code",
   "execution_count": null,
   "metadata": {},
   "outputs": [],
   "source": []
  },
  {
   "cell_type": "code",
   "execution_count": null,
   "metadata": {},
   "outputs": [],
   "source": []
  },
  {
   "cell_type": "code",
   "execution_count": null,
   "metadata": {},
   "outputs": [],
   "source": []
  },
  {
   "cell_type": "code",
   "execution_count": null,
   "metadata": {},
   "outputs": [],
   "source": []
  },
  {
   "cell_type": "code",
   "execution_count": null,
   "metadata": {},
   "outputs": [],
   "source": []
  },
  {
   "cell_type": "code",
   "execution_count": null,
   "metadata": {},
   "outputs": [],
   "source": []
  },
  {
   "cell_type": "code",
   "execution_count": null,
   "metadata": {},
   "outputs": [],
   "source": []
  },
  {
   "cell_type": "code",
   "execution_count": null,
   "metadata": {},
   "outputs": [],
   "source": []
  },
  {
   "cell_type": "code",
   "execution_count": null,
   "metadata": {},
   "outputs": [],
   "source": []
  },
  {
   "cell_type": "code",
   "execution_count": 159,
   "metadata": {},
   "outputs": [],
   "source": [
    "%gui asyncio"
   ]
  },
  {
   "cell_type": "code",
   "execution_count": 160,
   "metadata": {},
   "outputs": [],
   "source": [
    "\n",
    "import asyncio\n",
    "def wait_for_change(widget, value):\n",
    "    future = asyncio.Future()\n",
    "    def getvalue(change):\n",
    "        # make the new value available\n",
    "        future.set_result(change.new)\n",
    "        widget.unobserve(getvalue, value)\n",
    "    widget.observe(getvalue, value)\n",
    "    return future"
   ]
  },
  {
   "cell_type": "code",
   "execution_count": null,
   "metadata": {},
   "outputs": [],
   "source": []
  },
  {
   "cell_type": "code",
   "execution_count": 166,
   "metadata": {},
   "outputs": [],
   "source": [
    "\n",
    "from functools import wraps\n",
    "def yield_for_change(widget, attribute):\n",
    "    \"\"\"Pause a generator to wait for a widget change event.\n",
    "\n",
    "    This is a decorator for a generator function which pauses the generator on yield\n",
    "    until the given widget attribute changes. The new value of the attribute is\n",
    "    sent to the generator and is the value of the yield.\n",
    "    \"\"\"\n",
    "    def f(iterator):\n",
    "        @wraps(iterator)\n",
    "        def inner():\n",
    "            i = iterator()\n",
    "            def next_i(change):\n",
    "                try:\n",
    "                    i.send(change.new)\n",
    "                except StopIteration as e:\n",
    "                    widget.unobserve(next_i, attribute)\n",
    "            widget.observe(next_i, attribute)\n",
    "            # start the generator\n",
    "            next(i)\n",
    "        return inner\n",
    "    return f"
   ]
  },
  {
   "cell_type": "code",
   "execution_count": 168,
   "metadata": {},
   "outputs": [
    {
     "name": "stdout",
     "output_type": "stream",
     "text": [
      "did work 0\n"
     ]
    },
    {
     "data": {
      "application/vnd.jupyter.widget-view+json": {
       "model_id": "2a0de9f64d974add9aa8047719226770",
       "version_major": 2,
       "version_minor": 0
      },
      "text/plain": [
       "IntSlider(value=0)"
      ]
     },
     "metadata": {},
     "output_type": "display_data"
    },
    {
     "name": "stdout",
     "output_type": "stream",
     "text": [
      "generator function continued with value 45\n",
      "did work 1\n",
      "generator function continued with value 19\n",
      "did work 2\n",
      "generator function continued with value 75\n",
      "did work 3\n",
      "generator function continued with value 55\n",
      "did work 4\n",
      "generator function continued with value 26\n",
      "did work 5\n",
      "generator function continued with value 92\n",
      "did work 6\n",
      "generator function continued with value 39\n",
      "did work 7\n",
      "generator function continued with value 9\n",
      "did work 8\n",
      "generator function continued with value 49\n",
      "did work 9\n",
      "generator function continued with value 89\n"
     ]
    }
   ],
   "source": [
    "from ipywidgets import IntSlider, VBox, HTML\n",
    "slider2=IntSlider()\n",
    "\n",
    "@yield_for_change(slider2, 'value')\n",
    "def f():\n",
    "    for i in range(10):\n",
    "        print('did work %s'%i)\n",
    "        x = yield\n",
    "        print('generator function continued with value %s'%x)\n",
    "f()\n",
    "\n",
    "slider2"
   ]
  },
  {
   "cell_type": "code",
   "execution_count": null,
   "metadata": {},
   "outputs": [],
   "source": []
  },
  {
   "cell_type": "code",
   "execution_count": null,
   "metadata": {},
   "outputs": [],
   "source": []
  }
 ],
 "metadata": {
  "kernelspec": {
   "display_name": "Python 3",
   "language": "python",
   "name": "python3"
  },
  "language_info": {
   "codemirror_mode": {
    "name": "ipython",
    "version": 3
   },
   "file_extension": ".py",
   "mimetype": "text/x-python",
   "name": "python",
   "nbconvert_exporter": "python",
   "pygments_lexer": "ipython3",
   "version": "3.7.4"
  }
 },
 "nbformat": 4,
 "nbformat_minor": 2
}

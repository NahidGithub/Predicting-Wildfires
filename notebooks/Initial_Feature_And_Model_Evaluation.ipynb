{
 "cells": [
  {
   "cell_type": "markdown",
   "metadata": {},
   "source": [
    "# Visualization and explore the Wildfire data with Matplotlib, Pandas and Seaborn"
   ]
  },
  {
   "cell_type": "markdown",
   "metadata": {},
   "source": [
    "This notebook will connect to a MySQL DB in the cloud which houses a combined table for wild\n",
    "fires in the US and weather conditions during each fire. Features will be evalauted for multicollinearity  usefulness in a model. The goal of the model is to predict the burn serverity based on the fire features and the weather. This notebook relies on the NASA fires dataset. "
   ]
  },
  {
   "cell_type": "code",
   "execution_count": 1,
   "metadata": {},
   "outputs": [],
   "source": [
    "#optional code if warnings become over bearing \n",
    "import warnings\n",
    "warnings.filterwarnings('ignore')"
   ]
  },
  {
   "cell_type": "markdown",
   "metadata": {},
   "source": [
    "### Getting Started:"
   ]
  },
  {
   "cell_type": "code",
   "execution_count": 2,
   "metadata": {},
   "outputs": [],
   "source": [
    "\n",
    "%matplotlib inline\n",
    "import numpy as np\n",
    "import pandas as pd\n",
    "from pandas.plotting import scatter_matrix\n",
    "\n",
    "import config #database connection variables \n",
    "from sqlalchemy import create_engine   #sql engine\n",
    "\n",
    "from imblearn.over_sampling import SMOTE\n",
    "\n",
    "import yellowbrick as yb\n",
    "from yellowbrick.features import RadViz\n",
    "from yellowbrick.model_selection import LearningCurve\n",
    "\n",
    "import pylab as pl\n",
    "import seaborn as sns\n",
    "from matplotlib import cm\n",
    "import matplotlib.pyplot as plt\n",
    "import matplotlib.pyplot as plt\n",
    "\n",
    "\n",
    "from sklearn.naive_bayes import MultinomialNB\n",
    "from sklearn.svm import LinearSVC, NuSVC, SVC\n",
    "from sklearn.ensemble import AdaBoostClassifier\n",
    "from sklearn.model_selection import StratifiedKFold\n",
    "from sklearn.neighbors import KNeighborsClassifier\n",
    "from sklearn.model_selection import train_test_split as tts\n",
    "from sklearn.linear_model import LogisticRegressionCV, LogisticRegression, SGDClassifier\n",
    "from sklearn.ensemble import BaggingClassifier, ExtraTreesClassifier, RandomForestClassifier\n",
    "\n",
    "from sklearn.preprocessing import OneHotEncoder, LabelEncoder\n",
    "from sklearn.preprocessing import StandardScaler"
   ]
  },
  {
   "cell_type": "markdown",
   "metadata": {},
   "source": [
    "### Connect to mySQL database in the cloud\n",
    "Requires config files stored in the same directory as the notebook, contains the connection information \n",
    "\n",
    "Save the data to disk for faster access in the future\n"
   ]
  },
  {
   "cell_type": "code",
   "execution_count": null,
   "metadata": {},
   "outputs": [],
   "source": [
    "def read_from_db() : \n",
    "    \n",
    "    # create sqlalchemy engine\n",
    "    engine = create_engine(\"mysql+mysqlconnector://{user}:{password}@{host}/{dbname}\"\n",
    "                       .format(user=config.db_user,\n",
    "                               password=config.db_pass,\n",
    "                               dbname=config.db_main,\n",
    "                               host=config.db_host))\n",
    "    \n",
    "    #Create Query Statments\n",
    "\n",
    "    queryFire = \"\"\"\n",
    "    SELECT *\n",
    "    FROM Fire_Intensity_Model_Clean\n",
    "    LIMIT 20000;\n",
    "    \"\"\"\n",
    "\n",
    "    \n",
    "    #Execute Queries\n",
    "    df_fires = pd.read_sql(queryFire, engine)\n",
    "\n",
    "    #close the database connection\n",
    "    engine.dispose()\n",
    "    \n",
    "    \n",
    "    df_fires.to_csv('data/fires.csv', index = False)\n",
    "    \n",
    "    "
   ]
  },
  {
   "cell_type": "markdown",
   "metadata": {},
   "source": [
    "#### Read from to cloud db\n",
    "Skip if reading from disk"
   ]
  },
  {
   "cell_type": "code",
   "execution_count": null,
   "metadata": {},
   "outputs": [],
   "source": [
    "read_from_db()"
   ]
  },
  {
   "cell_type": "markdown",
   "metadata": {},
   "source": [
    "### Read data from disk previously stored for faster access "
   ]
  },
  {
   "cell_type": "code",
   "execution_count": 3,
   "metadata": {},
   "outputs": [
    {
     "name": "stdout",
     "output_type": "stream",
     "text": [
      "(50000, 26)\n"
     ]
    }
   ],
   "source": [
    "#Read the data from disk for faster access\n",
    "df_fires = pd.read_csv('data/FireIntensity_Model_June12_Clean.csv').sample(50000)\n",
    "\n",
    "print(df_fires.shape)"
   ]
  },
  {
   "cell_type": "markdown",
   "metadata": {},
   "source": [
    "### Display the head of data for check."
   ]
  },
  {
   "cell_type": "code",
   "execution_count": null,
   "metadata": {},
   "outputs": [],
   "source": [
    "print(df_fires.columns)"
   ]
  },
  {
   "cell_type": "markdown",
   "metadata": {},
   "source": [
    "### Drop Columns\n",
    "\n",
    "<i> Drop columns not used, the team binned lat/lon into region, doy instead of month/year and covertype, brightness, etc... really y values </i>"
   ]
  },
  {
   "cell_type": "code",
   "execution_count": 4,
   "metadata": {},
   "outputs": [],
   "source": [
    "#drop columns which are not relevant \n",
    "\n",
    "#remove index column if reading from cloud\n",
    "df_fires = df_fires.drop(columns=['Unnamed: 0', 'year', 'cluster_reference', 'latitude', 'longitude', 'month', 'covertype', \n",
    "                                  'brightness', 'bright_t31', 'frp'])\n"
   ]
  },
  {
   "cell_type": "markdown",
   "metadata": {},
   "source": [
    "### Visualize home many of each type of dependent variables we have (1-4)\n",
    "\n",
    "Use seaborn to plot a count histogram. We have 4 separate categories.\n",
    "1 (not burned), 2 (light), 3(med), 4 (heavy burn). We have a very uneven distribution. \n",
    "We will use SMOTE to fix this later."
   ]
  },
  {
   "cell_type": "code",
   "execution_count": 5,
   "metadata": {},
   "outputs": [
    {
     "data": {
      "image/png": "[encoded data removed]",
      "text/plain": [
       "<Figure size 432x288 with 1 Axes>"
      ]
     },
     "metadata": {
      "needs_background": "light"
     },
     "output_type": "display_data"
    }
   ],
   "source": [
    "sns.countplot(df_fires['fire_intensity_fourcat'],label=\"Count\")\n",
    "plt.show()"
   ]
  },
  {
   "cell_type": "markdown",
   "metadata": {},
   "source": [
    "### Inspect the dataframe"
   ]
  },
  {
   "cell_type": "code",
   "execution_count": 6,
   "metadata": {},
   "outputs": [
    {
     "name": "stdout",
     "output_type": "stream",
     "text": [
      "(50000, 16)\n"
     ]
    },
    {
     "data": {
      "text/html": [
       "<div>\n",
       "<style scoped>\n",
       "    .dataframe tbody tr th:only-of-type {\n",
       "        vertical-align: middle;\n",
       "    }\n",
       "\n",
       "    .dataframe tbody tr th {\n",
       "        vertical-align: top;\n",
       "    }\n",
       "\n",
       "    .dataframe thead th {\n",
       "        text-align: right;\n",
       "    }\n",
       "</style>\n",
       "<table border=\"1\" class=\"dataframe\">\n",
       "  <thead>\n",
       "    <tr style=\"text-align: right;\">\n",
       "      <th></th>\n",
       "      <th>doy</th>\n",
       "      <th>fire_region</th>\n",
       "      <th>season</th>\n",
       "      <th>fuelcode</th>\n",
       "      <th>prefire_fuel</th>\n",
       "      <th>fuel_moisture_class</th>\n",
       "      <th>temperature</th>\n",
       "      <th>humidity</th>\n",
       "      <th>precip_intensity</th>\n",
       "      <th>visibility</th>\n",
       "      <th>wind_speed</th>\n",
       "      <th>wind_gust</th>\n",
       "      <th>fire_intensity</th>\n",
       "      <th>fire_intensity_twocat</th>\n",
       "      <th>fire_intensity_threecat</th>\n",
       "      <th>fire_intensity_fourcat</th>\n",
       "    </tr>\n",
       "  </thead>\n",
       "  <tbody>\n",
       "    <tr>\n",
       "      <th>832991</th>\n",
       "      <td>102</td>\n",
       "      <td>3</td>\n",
       "      <td>0</td>\n",
       "      <td>1</td>\n",
       "      <td>277.580979</td>\n",
       "      <td>2</td>\n",
       "      <td>72.31</td>\n",
       "      <td>0.23</td>\n",
       "      <td>0.0000</td>\n",
       "      <td>9.997000</td>\n",
       "      <td>10.12</td>\n",
       "      <td>13.81</td>\n",
       "      <td>Medium</td>\n",
       "      <td>Moderate</td>\n",
       "      <td>Low</td>\n",
       "      <td>Low</td>\n",
       "    </tr>\n",
       "    <tr>\n",
       "      <th>1030065</th>\n",
       "      <td>291</td>\n",
       "      <td>5</td>\n",
       "      <td>2</td>\n",
       "      <td>1910</td>\n",
       "      <td>10702.941037</td>\n",
       "      <td>1</td>\n",
       "      <td>50.88</td>\n",
       "      <td>0.91</td>\n",
       "      <td>0.0003</td>\n",
       "      <td>9.997000</td>\n",
       "      <td>2.51</td>\n",
       "      <td>4.15</td>\n",
       "      <td>Low</td>\n",
       "      <td>Moderate</td>\n",
       "      <td>Low</td>\n",
       "      <td>Low</td>\n",
       "    </tr>\n",
       "    <tr>\n",
       "      <th>1187082</th>\n",
       "      <td>215</td>\n",
       "      <td>5</td>\n",
       "      <td>1</td>\n",
       "      <td>1370</td>\n",
       "      <td>7771.613688</td>\n",
       "      <td>1</td>\n",
       "      <td>78.07</td>\n",
       "      <td>0.24</td>\n",
       "      <td>0.0000</td>\n",
       "      <td>9.216293</td>\n",
       "      <td>2.68</td>\n",
       "      <td>5.82</td>\n",
       "      <td>Severe</td>\n",
       "      <td>Moderate</td>\n",
       "      <td>Low</td>\n",
       "      <td>Low</td>\n",
       "    </tr>\n",
       "  </tbody>\n",
       "</table>\n",
       "</div>"
      ],
      "text/plain": [
       "         doy  fire_region  season  fuelcode  prefire_fuel  \\\n",
       "832991   102            3       0         1    277.580979   \n",
       "1030065  291            5       2      1910  10702.941037   \n",
       "1187082  215            5       1      1370   7771.613688   \n",
       "\n",
       "         fuel_moisture_class  temperature  humidity  precip_intensity  \\\n",
       "832991                     2        72.31      0.23            0.0000   \n",
       "1030065                    1        50.88      0.91            0.0003   \n",
       "1187082                    1        78.07      0.24            0.0000   \n",
       "\n",
       "         visibility  wind_speed  wind_gust fire_intensity  \\\n",
       "832991     9.997000       10.12      13.81         Medium   \n",
       "1030065    9.997000        2.51       4.15            Low   \n",
       "1187082    9.216293        2.68       5.82         Severe   \n",
       "\n",
       "        fire_intensity_twocat fire_intensity_threecat fire_intensity_fourcat  \n",
       "832991               Moderate                     Low                    Low  \n",
       "1030065              Moderate                     Low                    Low  \n",
       "1187082              Moderate                     Low                    Low  "
      ]
     },
     "execution_count": 6,
     "metadata": {},
     "output_type": "execute_result"
    }
   ],
   "source": [
    "# Expanding number of columns:\n",
    "pd.set_option('display.max_columns', 40)\n",
    "\n",
    "# review datagram\n",
    "print (df_fires.shape)\n",
    "df_fires.head(3)"
   ]
  },
  {
   "cell_type": "markdown",
   "metadata": {},
   "source": [
    "### Draw box diagram to see scale and quartiles of data\n",
    "We have scaling issues with 1-2 values that are on a large scale.\n",
    "We will address when we down select and fine tune the models with scaling. \n"
   ]
  },
  {
   "cell_type": "code",
   "execution_count": 7,
   "metadata": {},
   "outputs": [
    {
     "data": {
      "text/plain": [
       "<matplotlib.axes._subplots.AxesSubplot at 0x12e611190>"
      ]
     },
     "execution_count": 7,
     "metadata": {},
     "output_type": "execute_result"
    },
    {
     "data": {
      "image/png": "[encoded data removed]",
      "text/plain": [
       "<Figure size 2160x1080 with 1 Axes>"
      ]
     },
     "metadata": {},
     "output_type": "display_data"
    }
   ],
   "source": [
    "#draw box plot of see range of the data\n",
    "import matplotlib\n",
    "matplotlib.style.use('ggplot')\n",
    "df_fires.plot(kind='box',figsize=(30,15))\n"
   ]
  },
  {
   "cell_type": "markdown",
   "metadata": {},
   "source": [
    "### View histogram of all numerical data to better understand the distribution\n",
    "Graphs show some data is continous while others are categorical. \n",
    "Not much else can be gleamed. "
   ]
  },
  {
   "cell_type": "code",
   "execution_count": null,
   "metadata": {},
   "outputs": [],
   "source": [
    "#historgram of all numerical data\n",
    "df_fires.hist(bins=30, figsize=(12,12))\n",
    "pl.suptitle(\"Histogram for each numeric input variable\")\n",
    "plt.show()"
   ]
  },
  {
   "cell_type": "markdown",
   "metadata": {},
   "source": [
    "### Fit X, y for deeper feature evaluation"
   ]
  },
  {
   "cell_type": "code",
   "execution_count": 8,
   "metadata": {},
   "outputs": [],
   "source": [
    "#feature we will go with\n",
    "feature_names = [ 'temperature', 'wind_speed','humidity', 'fire_region', 'season', \n",
    "                 'fuelcode', 'prefire_fuel', 'fuel_moisture_class',\n",
    "                 'visibility', 'precip_intensity', 'wind_gust']\n",
    "'''\n",
    "\n",
    "#check out model with not weather data\n",
    "feature_names = ['fire_region', 'season', \n",
    "                 'fuelcode', 'prefire_fuel', 'fuel_moisture_class']\n",
    "'''  \n",
    "\n",
    "#remove negative values from fire temperature to help with certain models\n",
    "# very few values here, in the final model code a scaler will be used\n",
    "ind = 0\n",
    "\n",
    "for ind in df_fires['temperature'].index:      \n",
    "        if df_fires['temperature'][ind] < 0:\n",
    "            df_fires['temperature'][ind] = 0\n",
    "\n",
    "X = df_fires[feature_names]\n",
    "y = df_fires['fire_intensity_fourcat']\n",
    "y = LabelEncoder().fit_transform(y)"
   ]
  },
  {
   "cell_type": "markdown",
   "metadata": {},
   "source": [
    "### We have very unbalance bins - let's use SMOTE generate artifical data"
   ]
  },
  {
   "cell_type": "code",
   "execution_count": 9,
   "metadata": {},
   "outputs": [
    {
     "name": "stdout",
     "output_type": "stream",
     "text": [
      "(181920, 11)\n"
     ]
    }
   ],
   "source": [
    "#SMOTE\n",
    "from imblearn.over_sampling import SMOTE\n",
    "\n",
    "oversample = SMOTE()\n",
    "X, y = oversample.fit_resample(X, y)\n",
    "\n",
    "print(X.shape)\n"
   ]
  },
  {
   "cell_type": "code",
   "execution_count": 10,
   "metadata": {},
   "outputs": [
    {
     "name": "stdout",
     "output_type": "stream",
     "text": [
      "181920\n"
     ]
    }
   ],
   "source": [
    "print(y.size)"
   ]
  },
  {
   "cell_type": "markdown",
   "metadata": {},
   "source": [
    "### Save the dataframe for future use\n",
    "Append X to y, show the plot and save with ML Models"
   ]
  },
  {
   "cell_type": "code",
   "execution_count": 14,
   "metadata": {},
   "outputs": [
    {
     "name": "stdout",
     "output_type": "stream",
     "text": [
      "(181920, 11)\n",
      "(181920, 11)\n",
      "(181920, 12)\n",
      "(181920, 11)\n"
     ]
    }
   ],
   "source": [
    "df_combine = X.copy()\n",
    "\n",
    "df_combine.insert(11, \"fire_intensity_fourcat\", y)"
   ]
  },
  {
   "cell_type": "code",
   "execution_count": 16,
   "metadata": {},
   "outputs": [
    {
     "data": {
      "image/png": "[encoded data removed]",
      "text/plain": [
       "<Figure size 432x288 with 1 Axes>"
      ]
     },
     "metadata": {},
     "output_type": "display_data"
    }
   ],
   "source": [
    "sns.countplot(df_combine['fire_intensity_fourcat'],label=\"Count\")\n",
    "plt.show()"
   ]
  },
  {
   "cell_type": "code",
   "execution_count": 15,
   "metadata": {},
   "outputs": [],
   "source": [
    "\n",
    "df_combine.to_csv('data/fires_data_smoted.csv', index = False)\n",
    "    "
   ]
  },
  {
   "cell_type": "markdown",
   "metadata": {},
   "source": [
    "### Visualize the multicolinearity of features\n",
    "This model is fairly good, wind or windgust can be considered for removing but may keep \n",
    "as we believe both play a hugh role in wildfires"
   ]
  },
  {
   "cell_type": "code",
   "execution_count": null,
   "metadata": {},
   "outputs": [],
   "source": [
    "from yellowbrick.features import Rank2D\n",
    "\n",
    "# Instantiate the visualizer with the Pearson ranking algorithm\n",
    "visualizer = Rank2D(algorithm='pearson', features=feature_names, size=(1080, 720))\n",
    "\n",
    "visualizer.fit(X, y)\n",
    "visualizer.transform(X)\n",
    "visualizer.show()"
   ]
  },
  {
   "cell_type": "markdown",
   "metadata": {},
   "source": [
    "### Show which features likely have the most impact in RadViz\n",
    "Slight skew toward wind gust but data is not completely clear"
   ]
  },
  {
   "cell_type": "code",
   "execution_count": null,
   "metadata": {},
   "outputs": [],
   "source": [
    "# Specify the target classes\n",
    "classes = [\"low\", \"med\", \"high\", \"severe\"]\n",
    "\n",
    "# Instantiate the visualizer\n",
    "visualizer = RadViz(classes=classes, features=feature_names, size=(1080, 720))\n",
    "\n",
    "visualizer.fit(X, y)           # Fit the data to the visualizer\n",
    "visualizer.transform(X)        # Transform the data\n",
    "visualizer.show()              # Draw the data"
   ]
  },
  {
   "cell_type": "markdown",
   "metadata": {},
   "source": [
    "### Show Random forest classier of the most important features to predict severity\n",
    "\n",
    "<i>  Answers differ on run but Top and bottom half are consistent though. Run 3-4 times to get a feel </i>"
   ]
  },
  {
   "cell_type": "code",
   "execution_count": null,
   "metadata": {},
   "outputs": [],
   "source": [
    "from sklearn.ensemble import RandomForestClassifier\n",
    "from yellowbrick.features import FeatureImportances\n",
    "\n",
    "model = RandomForestClassifier(n_estimators=20)\n",
    "viz = FeatureImportances(model, labels=feature_names, size=(1080, 720))\n",
    "\n",
    "viz.fit(X, y)\n",
    "# Note: the FeatureImportances visualizer is a model visualizer,\n",
    "# not a feature visualizer, so it doesn't have a transform method!\n",
    "viz.show()"
   ]
  },
  {
   "cell_type": "markdown",
   "metadata": {},
   "source": [
    "### Let's Check the learning Curve on different models\n",
    "First setup the intial variable"
   ]
  },
  {
   "cell_type": "code",
   "execution_count": null,
   "metadata": {},
   "outputs": [],
   "source": [
    "# Create the learning curve visualizer\n",
    "cv = StratifiedKFold(n_splits=5)\n",
    "sizes = np.linspace(0.3, 1.0, 5)\n"
   ]
  },
  {
   "cell_type": "markdown",
   "metadata": {},
   "source": [
    "### Instantiate Multi NB\n",
    "Not a great F1 score"
   ]
  },
  {
   "cell_type": "code",
   "execution_count": null,
   "metadata": {},
   "outputs": [],
   "source": [
    "# Instantiate the classification model and visualizer\n",
    "model = MultinomialNB()\n",
    "visualizer = LearningCurve(\n",
    "    model, cv=cv, scoring='f1_weighted', train_sizes=sizes, n_jobs=4\n",
    ")\n",
    "\n",
    "visualizer.fit(X, y)        # Fit the data to the visualizer\n",
    "visualizer.show()           # Finalize and render the figure"
   ]
  },
  {
   "cell_type": "markdown",
   "metadata": {},
   "source": [
    "### Instantiate Multi SVC\n",
    "Not a great F1 score \n",
    "Warning takes a while to run."
   ]
  },
  {
   "cell_type": "code",
   "execution_count": null,
   "metadata": {},
   "outputs": [],
   "source": [
    "# Instantiate the classification model and visualizer\n",
    "#Only run if you have time\n",
    "\n",
    "\"\"\"\n",
    "model = LinearSVC()\n",
    "visualizer = LearningCurve(\n",
    "    model, cv=cv, scoring='f1_weighted', train_sizes=sizes, n_jobs=4\n",
    ")\n",
    "\n",
    "visualizer.fit(X, y)        # Fit the data to the visualizer\n",
    "visualizer.show()           # Finalize and render the figure\n",
    "\n",
    "\"\"\""
   ]
  },
  {
   "cell_type": "markdown",
   "metadata": {},
   "source": [
    "### Instantiate Bagging Classifier\n",
    "Good F1 score - worth fine tuning data and hyper parameters"
   ]
  },
  {
   "cell_type": "code",
   "execution_count": null,
   "metadata": {},
   "outputs": [],
   "source": [
    "\n",
    "model = BaggingClassifier()\n",
    "visualizer = LearningCurve(\n",
    "    model, cv=cv, scoring='f1_weighted', train_sizes=sizes, n_jobs=4\n",
    ")\n",
    "\n",
    "visualizer.fit(X, y)        # Fit the data to the visualizer\n",
    "visualizer.show()           # Finalize and render the figure\n",
    "\n",
    "     "
   ]
  },
  {
   "cell_type": "markdown",
   "metadata": {},
   "source": [
    "#### Instantiate ExtraTrees\n",
    "Good F1 score - worth fine tuning data and hyper parameters "
   ]
  },
  {
   "cell_type": "code",
   "execution_count": null,
   "metadata": {},
   "outputs": [],
   "source": [
    "# Instantiate the classification model and visualizer\n",
    "model = ExtraTreesClassifier(n_estimators=5)\n",
    "visualizer = LearningCurve(\n",
    "    model, cv=cv, scoring='f1_weighted', train_sizes=sizes, n_jobs=4\n",
    ")\n",
    "\n",
    "visualizer.fit(X, y)        # Fit the data to the visualizer\n",
    "visualizer.show()           # Finalize and render the figure\n",
    "\n",
    "  "
   ]
  },
  {
   "cell_type": "markdown",
   "metadata": {},
   "source": [
    "### Instantiate Random ForestClassifier\n",
    "Good F1 score - worth fine tuning data and hyper parameters"
   ]
  },
  {
   "cell_type": "code",
   "execution_count": null,
   "metadata": {},
   "outputs": [],
   "source": [
    "# Instantiate the classification model and visualizer\n",
    "model = RandomForestClassifier(n_estimators=5)\n",
    "visualizer = LearningCurve(\n",
    "    model, cv=cv, scoring='f1_weighted', train_sizes=sizes, n_jobs=4\n",
    ")\n",
    "\n",
    "visualizer.fit(X, y)        # Fit the data to the visualizer\n",
    "visualizer.show()           # Finalize and render the figure\n"
   ]
  },
  {
   "cell_type": "markdown",
   "metadata": {},
   "source": [
    "### Instantiate AdaBoostClassifier\n",
    "\n",
    "Not a great F1 score "
   ]
  },
  {
   "cell_type": "code",
   "execution_count": null,
   "metadata": {},
   "outputs": [],
   "source": [
    "model = AdaBoostClassifier()\n",
    "visualizer = LearningCurve(\n",
    "    model, cv=cv, scoring='f1_weighted', train_sizes=sizes, n_jobs=4\n",
    ")\n",
    "\n",
    "visualizer.fit(X, y)        # Fit the data to the visualizer\n",
    "visualizer.show()           # Finalize and render the figure"
   ]
  },
  {
   "cell_type": "markdown",
   "metadata": {},
   "source": [
    "## Final recommendation for further investigation in model tuning notebook\n",
    "\n",
    "Features: [ 'temperature', 'wind_speed','humidity', 'fire_region', 'season', \n",
    "                 'fuelcode', 'prefire_fuel', 'fuel_moisture_class',\n",
    "                 'visibility', 'precip_intensity', 'wind_gust']\n",
    "    \n",
    "    \n",
    "Models: Bagging, ExtraTrees, RandomForest"
   ]
  },
  {
   "cell_type": "code",
   "execution_count": null,
   "metadata": {},
   "outputs": [],
   "source": []
  }
 ],
 "metadata": {
  "kernelspec": {
   "display_name": "Python 3",
   "language": "python",
   "name": "python3"
  },
  "language_info": {
   "codemirror_mode": {
    "name": "ipython",
    "version": 3
   },
   "file_extension": ".py",
   "mimetype": "text/x-python",
   "name": "python",
   "nbconvert_exporter": "python",
   "pygments_lexer": "ipython3",
   "version": "3.7.4"
  }
 },
 "nbformat": 4,
 "nbformat_minor": 4
}

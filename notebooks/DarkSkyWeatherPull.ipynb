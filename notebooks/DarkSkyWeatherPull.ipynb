{
 "cells": [
  {
   "cell_type": "markdown",
   "metadata": {},
   "source": [
    "## DarkSky API pull for fire post clustered data\n",
    "### Main columns needed are latitude, longitude, datetime"
   ]
  },
  {
   "cell_type": "code",
   "execution_count": 1,
   "metadata": {},
   "outputs": [],
   "source": [
    "import pandas as pd\n",
    "import datetime\n",
    "import numpy as np\n",
    "\n",
    "import config\n",
    "\n",
    "from darksky import forecast\n",
    "from datetime import datetime as dt\n",
    "from datetime import timedelta\n",
    "from datetime import date\n",
    "from sqlalchemy import create_engine"
   ]
  },
  {
   "cell_type": "markdown",
   "metadata": {},
   "source": [
    "### Use SQLalchemy to create a connection engine and connect to our MySQL database"
   ]
  },
  {
   "cell_type": "code",
   "execution_count": 2,
   "metadata": {},
   "outputs": [],
   "source": [
    "# create sqlalchemy engine\n",
    "engine = create_engine(\"mysql+mysqlconnector://{user}:{password}@{host}/{dbname}\"\n",
    "                       .format(user=config.db_user,\n",
    "                               password=config.db_pass,\n",
    "                               dbname=config.db_name,\n",
    "                               host=config.db_host))"
   ]
  },
  {
   "cell_type": "markdown",
   "metadata": {},
   "source": [
    "### Setting DarkSky API Keys & Creating Weather Lookup Function"
   ]
  },
  {
   "cell_type": "code",
   "execution_count": 3,
   "metadata": {},
   "outputs": [],
   "source": [
    "RAPIDAPI_KEY  = config.darksky_api1\n",
    "RAPIDAPI_KEY2  = config.darksky_api2"
   ]
  },
  {
   "cell_type": "code",
   "execution_count": 4,
   "metadata": {},
   "outputs": [],
   "source": [
    "def weather_lookup(df, key=RAPIDAPI_KEY, days_before=0, days_after=0):\n",
    "    data = []\n",
    "    for index, row in df.iterrows():\n",
    "        ts = row['datetime'].isoformat() \n",
    "        lat = row['latitude']\n",
    "        lon = row['longitude']\n",
    "        weather = forecast(key, lat, lon, time=ts)\n",
    "        w_dict = weather['currently']\n",
    "        w_dict['timestamp'] = ts\n",
    "        w_dict['latitude'] = lat\n",
    "        w_dict['longitude'] = lon\n",
    "        data.append(w_dict)\n",
    "    return data\n"
   ]
  },
  {
   "cell_type": "markdown",
   "metadata": {},
   "source": [
    "## Load the Emission Clusters to pull weather from"
   ]
  },
  {
   "cell_type": "code",
   "execution_count": 5,
   "metadata": {},
   "outputs": [],
   "source": [
    "filename = \"fire_lat_lon_data/Emissions2014_DBScan_Clusters.csv\""
   ]
  },
  {
   "cell_type": "code",
   "execution_count": 6,
   "metadata": {},
   "outputs": [],
   "source": [
    "firedata = pd.read_csv(filename)"
   ]
  },
  {
   "cell_type": "code",
   "execution_count": 7,
   "metadata": {},
   "outputs": [],
   "source": [
    "firedata['datetime'] = (pd.to_datetime(firedata.year, format='%Y') + \n",
    "                       firedata['doy'].apply(np.ceil).apply(\n",
    "                           lambda x: pd.Timedelta(x, unit='D')) - timedelta(days=1) + timedelta(hours=12))"
   ]
  },
  {
   "cell_type": "code",
   "execution_count": 8,
   "metadata": {
    "scrolled": false
   },
   "outputs": [
    {
     "name": "stdout",
     "output_type": "stream",
     "text": [
      "<class 'pandas.core.frame.DataFrame'>\n",
      "RangeIndex: 8059 entries, 0 to 8058\n",
      "Data columns (total 24 columns):\n",
      "Unnamed: 0             8059 non-null int64\n",
      "id                     8059 non-null float64\n",
      "year                   8059 non-null float64\n",
      "doy                    8059 non-null float64\n",
      "longitude              8059 non-null float64\n",
      "latitude               8059 non-null float64\n",
      "grid10k                8059 non-null float64\n",
      "covertype              8059 non-null float64\n",
      "fuelcode               8059 non-null float64\n",
      "area_burned            8059 non-null float64\n",
      "prefire_fuel           8059 non-null float64\n",
      "consumed_fuel          8059 non-null float64\n",
      "ECO2                   8059 non-null float64\n",
      "ECO                    8059 non-null float64\n",
      "ECH4                   8059 non-null float64\n",
      "EPM2.5                 8059 non-null float64\n",
      "cwd_frac               8059 non-null float64\n",
      "duff_frac              8059 non-null float64\n",
      "fuel_moisture_class    8059 non-null float64\n",
      "burn_source            8059 non-null float64\n",
      "burnday_source         8059 non-null float64\n",
      "BSEV                   8059 non-null float64\n",
      "BSEV_flag              8059 non-null float64\n",
      "datetime               8059 non-null datetime64[ns]\n",
      "dtypes: datetime64[ns](1), float64(22), int64(1)\n",
      "memory usage: 1.5 MB\n"
     ]
    }
   ],
   "source": [
    "firedata.info()"
   ]
  },
  {
   "cell_type": "markdown",
   "metadata": {},
   "source": [
    "### Set the number of records to feed to the api"
   ]
  },
  {
   "cell_type": "code",
   "execution_count": 9,
   "metadata": {},
   "outputs": [],
   "source": [
    "firedata10 = firedata[:10]"
   ]
  },
  {
   "cell_type": "code",
   "execution_count": 10,
   "metadata": {},
   "outputs": [],
   "source": [
    "weather_df1 = pd.DataFrame(weather_lookup(firedata10,RAPIDAPI_KEY))"
   ]
  },
  {
   "cell_type": "code",
   "execution_count": 11,
   "metadata": {},
   "outputs": [],
   "source": [
    "db_columns = ['apparentTemperature', 'cloudCover', 'dewPoint',\n",
    "       'humidity', 'icon', 'latitude', 'longitude',\n",
    "       'precipIntensity', 'precipProbability', 'precipType', 'pressure',\n",
    "       'summary', 'temperature', 'time', 'timestamp', 'uvIndex', 'visibility',\n",
    "       'windBearing', 'windGust', 'windSpeed']"
   ]
  },
  {
   "cell_type": "code",
   "execution_count": 12,
   "metadata": {},
   "outputs": [
    {
     "data": {
      "text/html": [
       "<div>\n",
       "<style scoped>\n",
       "    .dataframe tbody tr th:only-of-type {\n",
       "        vertical-align: middle;\n",
       "    }\n",
       "\n",
       "    .dataframe tbody tr th {\n",
       "        vertical-align: top;\n",
       "    }\n",
       "\n",
       "    .dataframe thead th {\n",
       "        text-align: right;\n",
       "    }\n",
       "</style>\n",
       "<table border=\"1\" class=\"dataframe\">\n",
       "  <thead>\n",
       "    <tr style=\"text-align: right;\">\n",
       "      <th></th>\n",
       "      <th>Unnamed: 0</th>\n",
       "      <th>id</th>\n",
       "      <th>year</th>\n",
       "      <th>doy</th>\n",
       "      <th>longitude</th>\n",
       "      <th>latitude</th>\n",
       "      <th>grid10k</th>\n",
       "      <th>covertype</th>\n",
       "      <th>fuelcode</th>\n",
       "      <th>area_burned</th>\n",
       "      <th>...</th>\n",
       "      <th>ECH4</th>\n",
       "      <th>EPM2.5</th>\n",
       "      <th>cwd_frac</th>\n",
       "      <th>duff_frac</th>\n",
       "      <th>fuel_moisture_class</th>\n",
       "      <th>burn_source</th>\n",
       "      <th>burnday_source</th>\n",
       "      <th>BSEV</th>\n",
       "      <th>BSEV_flag</th>\n",
       "      <th>datetime</th>\n",
       "    </tr>\n",
       "  </thead>\n",
       "  <tbody>\n",
       "    <tr>\n",
       "      <td>0</td>\n",
       "      <td>0</td>\n",
       "      <td>382358.0</td>\n",
       "      <td>2014.0</td>\n",
       "      <td>195.0</td>\n",
       "      <td>-121.9806</td>\n",
       "      <td>48.7142</td>\n",
       "      <td>131429.0</td>\n",
       "      <td>3.0</td>\n",
       "      <td>1260.0</td>\n",
       "      <td>0.0</td>\n",
       "      <td>...</td>\n",
       "      <td>29.903119</td>\n",
       "      <td>91.148546</td>\n",
       "      <td>0.380435</td>\n",
       "      <td>0.291163</td>\n",
       "      <td>2.0</td>\n",
       "      <td>2.0</td>\n",
       "      <td>12.0</td>\n",
       "      <td>1.0</td>\n",
       "      <td>1.0</td>\n",
       "      <td>2014-07-14 12:00:00</td>\n",
       "    </tr>\n",
       "    <tr>\n",
       "      <td>1</td>\n",
       "      <td>1</td>\n",
       "      <td>432142.0</td>\n",
       "      <td>2014.0</td>\n",
       "      <td>224.0</td>\n",
       "      <td>-120.4474</td>\n",
       "      <td>48.9251</td>\n",
       "      <td>130980.0</td>\n",
       "      <td>3.0</td>\n",
       "      <td>1280.0</td>\n",
       "      <td>62500.0</td>\n",
       "      <td>...</td>\n",
       "      <td>36.255639</td>\n",
       "      <td>110.511841</td>\n",
       "      <td>0.321977</td>\n",
       "      <td>0.343797</td>\n",
       "      <td>1.0</td>\n",
       "      <td>3.0</td>\n",
       "      <td>16.0</td>\n",
       "      <td>2.0</td>\n",
       "      <td>1.0</td>\n",
       "      <td>2014-08-12 12:00:00</td>\n",
       "    </tr>\n",
       "    <tr>\n",
       "      <td>2</td>\n",
       "      <td>2</td>\n",
       "      <td>427550.0</td>\n",
       "      <td>2014.0</td>\n",
       "      <td>220.0</td>\n",
       "      <td>-124.6477</td>\n",
       "      <td>48.1125</td>\n",
       "      <td>130947.0</td>\n",
       "      <td>1.0</td>\n",
       "      <td>1.0</td>\n",
       "      <td>62500.0</td>\n",
       "      <td>...</td>\n",
       "      <td>0.560682</td>\n",
       "      <td>2.133938</td>\n",
       "      <td>0.000000</td>\n",
       "      <td>0.000000</td>\n",
       "      <td>2.0</td>\n",
       "      <td>2.0</td>\n",
       "      <td>12.0</td>\n",
       "      <td>2.0</td>\n",
       "      <td>1.0</td>\n",
       "      <td>2014-08-08 12:00:00</td>\n",
       "    </tr>\n",
       "    <tr>\n",
       "      <td>3</td>\n",
       "      <td>3</td>\n",
       "      <td>550306.0</td>\n",
       "      <td>2014.0</td>\n",
       "      <td>223.0</td>\n",
       "      <td>-121.5700</td>\n",
       "      <td>48.6051</td>\n",
       "      <td>130510.0</td>\n",
       "      <td>3.0</td>\n",
       "      <td>1300.0</td>\n",
       "      <td>62500.0</td>\n",
       "      <td>...</td>\n",
       "      <td>49.681566</td>\n",
       "      <td>151.435790</td>\n",
       "      <td>0.452474</td>\n",
       "      <td>0.268215</td>\n",
       "      <td>2.0</td>\n",
       "      <td>2.0</td>\n",
       "      <td>12.0</td>\n",
       "      <td>2.0</td>\n",
       "      <td>1.0</td>\n",
       "      <td>2014-08-11 12:00:00</td>\n",
       "    </tr>\n",
       "    <tr>\n",
       "      <td>4</td>\n",
       "      <td>4</td>\n",
       "      <td>670668.0</td>\n",
       "      <td>2014.0</td>\n",
       "      <td>217.0</td>\n",
       "      <td>-120.2527</td>\n",
       "      <td>48.7550</td>\n",
       "      <td>130059.0</td>\n",
       "      <td>3.0</td>\n",
       "      <td>1360.0</td>\n",
       "      <td>62500.0</td>\n",
       "      <td>...</td>\n",
       "      <td>16.713892</td>\n",
       "      <td>50.946089</td>\n",
       "      <td>0.172671</td>\n",
       "      <td>0.229814</td>\n",
       "      <td>1.0</td>\n",
       "      <td>1.0</td>\n",
       "      <td>16.0</td>\n",
       "      <td>4.0</td>\n",
       "      <td>0.0</td>\n",
       "      <td>2014-08-05 12:00:00</td>\n",
       "    </tr>\n",
       "    <tr>\n",
       "      <td>5</td>\n",
       "      <td>5</td>\n",
       "      <td>720992.0</td>\n",
       "      <td>2014.0</td>\n",
       "      <td>197.0</td>\n",
       "      <td>-120.8493</td>\n",
       "      <td>48.6106</td>\n",
       "      <td>129593.0</td>\n",
       "      <td>3.0</td>\n",
       "      <td>1260.0</td>\n",
       "      <td>62500.0</td>\n",
       "      <td>...</td>\n",
       "      <td>35.421623</td>\n",
       "      <td>107.969652</td>\n",
       "      <td>0.321165</td>\n",
       "      <td>0.245802</td>\n",
       "      <td>2.0</td>\n",
       "      <td>4.0</td>\n",
       "      <td>77.0</td>\n",
       "      <td>3.0</td>\n",
       "      <td>1.0</td>\n",
       "      <td>2014-07-16 12:00:00</td>\n",
       "    </tr>\n",
       "    <tr>\n",
       "      <td>6</td>\n",
       "      <td>6</td>\n",
       "      <td>762711.0</td>\n",
       "      <td>2014.0</td>\n",
       "      <td>277.0</td>\n",
       "      <td>-118.6289</td>\n",
       "      <td>48.9632</td>\n",
       "      <td>129610.0</td>\n",
       "      <td>3.0</td>\n",
       "      <td>1200.0</td>\n",
       "      <td>62500.0</td>\n",
       "      <td>...</td>\n",
       "      <td>28.674507</td>\n",
       "      <td>87.403578</td>\n",
       "      <td>0.308820</td>\n",
       "      <td>0.242211</td>\n",
       "      <td>2.0</td>\n",
       "      <td>2.0</td>\n",
       "      <td>12.0</td>\n",
       "      <td>2.0</td>\n",
       "      <td>1.0</td>\n",
       "      <td>2014-10-04 12:00:00</td>\n",
       "    </tr>\n",
       "    <tr>\n",
       "      <td>7</td>\n",
       "      <td>7</td>\n",
       "      <td>771449.0</td>\n",
       "      <td>2014.0</td>\n",
       "      <td>233.0</td>\n",
       "      <td>-121.0134</td>\n",
       "      <td>48.5431</td>\n",
       "      <td>129592.0</td>\n",
       "      <td>3.0</td>\n",
       "      <td>1300.0</td>\n",
       "      <td>62500.0</td>\n",
       "      <td>...</td>\n",
       "      <td>49.681566</td>\n",
       "      <td>151.435790</td>\n",
       "      <td>0.452474</td>\n",
       "      <td>0.268215</td>\n",
       "      <td>2.0</td>\n",
       "      <td>2.0</td>\n",
       "      <td>12.0</td>\n",
       "      <td>2.0</td>\n",
       "      <td>1.0</td>\n",
       "      <td>2014-08-21 12:00:00</td>\n",
       "    </tr>\n",
       "    <tr>\n",
       "      <td>8</td>\n",
       "      <td>8</td>\n",
       "      <td>914045.0</td>\n",
       "      <td>2014.0</td>\n",
       "      <td>207.0</td>\n",
       "      <td>-119.2507</td>\n",
       "      <td>48.7473</td>\n",
       "      <td>129144.0</td>\n",
       "      <td>2.0</td>\n",
       "      <td>2.0</td>\n",
       "      <td>62500.0</td>\n",
       "      <td>...</td>\n",
       "      <td>0.423641</td>\n",
       "      <td>1.612364</td>\n",
       "      <td>0.000000</td>\n",
       "      <td>0.000000</td>\n",
       "      <td>2.0</td>\n",
       "      <td>3.0</td>\n",
       "      <td>77.0</td>\n",
       "      <td>2.0</td>\n",
       "      <td>1.0</td>\n",
       "      <td>2014-07-26 12:00:00</td>\n",
       "    </tr>\n",
       "    <tr>\n",
       "      <td>9</td>\n",
       "      <td>9</td>\n",
       "      <td>928884.0</td>\n",
       "      <td>2014.0</td>\n",
       "      <td>164.0</td>\n",
       "      <td>-122.3052</td>\n",
       "      <td>48.1824</td>\n",
       "      <td>129120.0</td>\n",
       "      <td>3.0</td>\n",
       "      <td>1200.0</td>\n",
       "      <td>0.0</td>\n",
       "      <td>...</td>\n",
       "      <td>24.940427</td>\n",
       "      <td>76.021624</td>\n",
       "      <td>0.286874</td>\n",
       "      <td>0.241068</td>\n",
       "      <td>3.0</td>\n",
       "      <td>4.0</td>\n",
       "      <td>77.0</td>\n",
       "      <td>1.0</td>\n",
       "      <td>1.0</td>\n",
       "      <td>2014-06-13 12:00:00</td>\n",
       "    </tr>\n",
       "  </tbody>\n",
       "</table>\n",
       "<p>10 rows × 24 columns</p>\n",
       "</div>"
      ],
      "text/plain": [
       "   Unnamed: 0        id    year    doy  longitude  latitude   grid10k  \\\n",
       "0           0  382358.0  2014.0  195.0  -121.9806   48.7142  131429.0   \n",
       "1           1  432142.0  2014.0  224.0  -120.4474   48.9251  130980.0   \n",
       "2           2  427550.0  2014.0  220.0  -124.6477   48.1125  130947.0   \n",
       "3           3  550306.0  2014.0  223.0  -121.5700   48.6051  130510.0   \n",
       "4           4  670668.0  2014.0  217.0  -120.2527   48.7550  130059.0   \n",
       "5           5  720992.0  2014.0  197.0  -120.8493   48.6106  129593.0   \n",
       "6           6  762711.0  2014.0  277.0  -118.6289   48.9632  129610.0   \n",
       "7           7  771449.0  2014.0  233.0  -121.0134   48.5431  129592.0   \n",
       "8           8  914045.0  2014.0  207.0  -119.2507   48.7473  129144.0   \n",
       "9           9  928884.0  2014.0  164.0  -122.3052   48.1824  129120.0   \n",
       "\n",
       "   covertype  fuelcode  area_burned  ...       ECH4      EPM2.5  cwd_frac  \\\n",
       "0        3.0    1260.0          0.0  ...  29.903119   91.148546  0.380435   \n",
       "1        3.0    1280.0      62500.0  ...  36.255639  110.511841  0.321977   \n",
       "2        1.0       1.0      62500.0  ...   0.560682    2.133938  0.000000   \n",
       "3        3.0    1300.0      62500.0  ...  49.681566  151.435790  0.452474   \n",
       "4        3.0    1360.0      62500.0  ...  16.713892   50.946089  0.172671   \n",
       "5        3.0    1260.0      62500.0  ...  35.421623  107.969652  0.321165   \n",
       "6        3.0    1200.0      62500.0  ...  28.674507   87.403578  0.308820   \n",
       "7        3.0    1300.0      62500.0  ...  49.681566  151.435790  0.452474   \n",
       "8        2.0       2.0      62500.0  ...   0.423641    1.612364  0.000000   \n",
       "9        3.0    1200.0          0.0  ...  24.940427   76.021624  0.286874   \n",
       "\n",
       "   duff_frac  fuel_moisture_class  burn_source  burnday_source  BSEV  \\\n",
       "0   0.291163                  2.0          2.0            12.0   1.0   \n",
       "1   0.343797                  1.0          3.0            16.0   2.0   \n",
       "2   0.000000                  2.0          2.0            12.0   2.0   \n",
       "3   0.268215                  2.0          2.0            12.0   2.0   \n",
       "4   0.229814                  1.0          1.0            16.0   4.0   \n",
       "5   0.245802                  2.0          4.0            77.0   3.0   \n",
       "6   0.242211                  2.0          2.0            12.0   2.0   \n",
       "7   0.268215                  2.0          2.0            12.0   2.0   \n",
       "8   0.000000                  2.0          3.0            77.0   2.0   \n",
       "9   0.241068                  3.0          4.0            77.0   1.0   \n",
       "\n",
       "   BSEV_flag            datetime  \n",
       "0        1.0 2014-07-14 12:00:00  \n",
       "1        1.0 2014-08-12 12:00:00  \n",
       "2        1.0 2014-08-08 12:00:00  \n",
       "3        1.0 2014-08-11 12:00:00  \n",
       "4        0.0 2014-08-05 12:00:00  \n",
       "5        1.0 2014-07-16 12:00:00  \n",
       "6        1.0 2014-10-04 12:00:00  \n",
       "7        1.0 2014-08-21 12:00:00  \n",
       "8        1.0 2014-07-26 12:00:00  \n",
       "9        1.0 2014-06-13 12:00:00  \n",
       "\n",
       "[10 rows x 24 columns]"
      ]
     },
     "execution_count": 12,
     "metadata": {},
     "output_type": "execute_result"
    }
   ],
   "source": [
    "firedata10"
   ]
  },
  {
   "cell_type": "code",
   "execution_count": 13,
   "metadata": {
    "scrolled": true
   },
   "outputs": [],
   "source": [
    "weather_df1 = weather_df1[db_columns]"
   ]
  },
  {
   "cell_type": "markdown",
   "metadata": {},
   "source": [
    "### Append weather records to database table / read down database and save as csv for backup"
   ]
  },
  {
   "cell_type": "code",
   "execution_count": 14,
   "metadata": {},
   "outputs": [],
   "source": [
    "weather_df1.to_sql('weather_loading', con = engine, if_exists = 'append', chunksize = 100000)"
   ]
  },
  {
   "cell_type": "code",
   "execution_count": 15,
   "metadata": {},
   "outputs": [],
   "source": [
    "query = \"\"\"SELECT * FROM weather_loading;\n",
    "\"\"\""
   ]
  },
  {
   "cell_type": "code",
   "execution_count": 16,
   "metadata": {},
   "outputs": [],
   "source": [
    "weather_all_sql = pd.read_sql(query, engine)"
   ]
  },
  {
   "cell_type": "code",
   "execution_count": 17,
   "metadata": {},
   "outputs": [],
   "source": [
    "weather_all_sql.to_csv('weather_records_saved.csv')"
   ]
  },
  {
   "cell_type": "code",
   "execution_count": 18,
   "metadata": {
    "scrolled": true
   },
   "outputs": [
    {
     "name": "stdout",
     "output_type": "stream",
     "text": [
      "<class 'pandas.core.frame.DataFrame'>\n",
      "RangeIndex: 753577 entries, 0 to 753576\n",
      "Data columns (total 23 columns):\n",
      "index                  753577 non-null int64\n",
      "apparentTemperature    737817 non-null float64\n",
      "cloudCover             590283 non-null float64\n",
      "dewPoint               733948 non-null float64\n",
      "humidity               733691 non-null float64\n",
      "icon                   566220 non-null object\n",
      "latitude               753577 non-null float64\n",
      "longitude              753577 non-null float64\n",
      "precipAccumulation     2258 non-null float64\n",
      "precipIntensity        691246 non-null float64\n",
      "precipProbability      691246 non-null float64\n",
      "precipType             59712 non-null object\n",
      "pressure               465964 non-null float64\n",
      "summary                571640 non-null object\n",
      "temperature            737817 non-null float64\n",
      "time                   753577 non-null int64\n",
      "timestamp              753577 non-null object\n",
      "uvIndex                590283 non-null float64\n",
      "visibility             601595 non-null float64\n",
      "windBearing            723060 non-null float64\n",
      "windGust               678519 non-null float64\n",
      "windSpeed              733065 non-null float64\n",
      "Key                    753577 non-null int64\n",
      "dtypes: float64(16), int64(3), object(4)\n",
      "memory usage: 132.2+ MB\n"
     ]
    }
   ],
   "source": [
    "weather_all_sql.info()"
   ]
  },
  {
   "cell_type": "code",
   "execution_count": null,
   "metadata": {},
   "outputs": [],
   "source": []
  }
 ],
 "metadata": {
  "kernelspec": {
   "display_name": "Python 3",
   "language": "python",
   "name": "python3"
  },
  "language_info": {
   "codemirror_mode": {
    "name": "ipython",
    "version": 3
   },
   "file_extension": ".py",
   "mimetype": "text/x-python",
   "name": "python",
   "nbconvert_exporter": "python",
   "pygments_lexer": "ipython3",
   "version": "3.7.4"
  }
 },
 "nbformat": 4,
 "nbformat_minor": 4
}

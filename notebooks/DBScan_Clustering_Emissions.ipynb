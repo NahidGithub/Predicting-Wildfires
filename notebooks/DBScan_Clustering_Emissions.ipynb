{
 "cells": [
  {
   "cell_type": "markdown",
   "metadata": {},
   "source": [
    "# DBScan Clustering \n",
    "Transitioning Emissions Latitude/Longitude records into unsupervised clusters in order to consolidate the 5.96m records into \n",
    "a smaller subset of unique clusters with a labeled centerpoint and reference label. "
   ]
  },
  {
   "cell_type": "code",
   "execution_count": 4,
   "metadata": {},
   "outputs": [],
   "source": [
    "import pandas as pd, numpy as np\n",
    "import matplotlib.pyplot as plt, time\n",
    "%matplotlib inline\n",
    "\n",
    "from sklearn.cluster import DBSCAN\n",
    "from sklearn import metrics\n",
    "from geopy.distance import great_circle\n",
    "from shapely.geometry import MultiPoint\n",
    "%matplotlib inline\n",
    "\n",
    "from sqlalchemy import create_engine\n",
    "import config\n",
    "import config1"
   ]
  },
  {
   "cell_type": "code",
   "execution_count": 5,
   "metadata": {},
   "outputs": [],
   "source": [
    "# Expanding number of columns when using .head():\n",
    "pd.set_option('display.max_columns', 40)"
   ]
  },
  {
   "cell_type": "markdown",
   "metadata": {},
   "source": [
    "### Loading Data from SQL DB. "
   ]
  },
  {
   "cell_type": "code",
   "execution_count": 6,
   "metadata": {},
   "outputs": [
    {
     "data": {
      "text/plain": [
       "'db27bvsdruzh45'"
      ]
     },
     "execution_count": 6,
     "metadata": {},
     "output_type": "execute_result"
    }
   ],
   "source": [
    "config.db_name  # Checking name of DB. "
   ]
  },
  {
   "cell_type": "code",
   "execution_count": 7,
   "metadata": {},
   "outputs": [],
   "source": [
    "# Create sqlalchemy engine to access database:\n",
    "engine = create_engine(\"mysql+mysqlconnector://{user}:{password}@{host}/{dbname}\"\n",
    "                       .format(user=config.db_user,\n",
    "                               password=config.db_pass,\n",
    "                               dbname=config.db_main,\n",
    "                               host=config.db_host))"
   ]
  },
  {
   "cell_type": "code",
   "execution_count": 13,
   "metadata": {},
   "outputs": [],
   "source": [
    "### Skip this block if reading from local disk:\n",
    "\n",
    "#Create Query Statments\n",
    "queryWeather = \"\"\"\n",
    "SELECT *\n",
    "FROM Weather;\n",
    "\"\"\"\n",
    "queryEmissions = \"\"\"\n",
    "SELECT *\n",
    "FROM Emissions_Data;\n",
    "\"\"\""
   ]
  },
  {
   "cell_type": "raw",
   "metadata": {},
   "source": [
    "emyear20xx = pd.read_sql(queryEmissions, engine)  # Bring in Emissions records (w/o Null Values) from database. "
   ]
  },
  {
   "cell_type": "code",
   "execution_count": 18,
   "metadata": {},
   "outputs": [],
   "source": [
    "### Alternative Load from disk if required. \n",
    "emyear20xx = pd.read_csv('../data/emissions_year2003to2015.csv')"
   ]
  },
  {
   "cell_type": "code",
   "execution_count": 19,
   "metadata": {},
   "outputs": [
    {
     "data": {
      "text/plain": [
       "(7254534, 22)"
      ]
     },
     "execution_count": 19,
     "metadata": {},
     "output_type": "execute_result"
    }
   ],
   "source": [
    "emyear20xx.shape"
   ]
  },
  {
   "cell_type": "code",
   "execution_count": 20,
   "metadata": {},
   "outputs": [
    {
     "name": "stdout",
     "output_type": "stream",
     "text": [
      "[2008 2009 2013 2007 2006 2012 2004 2010 2011 2005 2015 2014 2003]\n"
     ]
    }
   ],
   "source": [
    "# Reviewing the years across the dataset.\n",
    "print(emyear20xx['year'].unique())"
   ]
  },
  {
   "cell_type": "code",
   "execution_count": 21,
   "metadata": {},
   "outputs": [],
   "source": [
    "### Remove zero value features noted during initial Emissions data review. \n",
    "indexNames = emyear20xx[(emyear20xx.prefire_fuel == 0) & (emyear20xx.consumed_fuel == 0) & (emyear20xx.ECO2 == 0)].index\n",
    "emyear20xx.drop(indexNames , inplace=True)"
   ]
  },
  {
   "cell_type": "code",
   "execution_count": 22,
   "metadata": {},
   "outputs": [
    {
     "data": {
      "text/plain": [
       "(5960572, 22)"
      ]
     },
     "execution_count": 22,
     "metadata": {},
     "output_type": "execute_result"
    }
   ],
   "source": [
    "emyear20xx.shape"
   ]
  },
  {
   "cell_type": "code",
   "execution_count": 7,
   "metadata": {},
   "outputs": [
    {
     "data": {
      "text/html": [
       "<div>\n",
       "<style scoped>\n",
       "    .dataframe tbody tr th:only-of-type {\n",
       "        vertical-align: middle;\n",
       "    }\n",
       "\n",
       "    .dataframe tbody tr th {\n",
       "        vertical-align: top;\n",
       "    }\n",
       "\n",
       "    .dataframe thead th {\n",
       "        text-align: right;\n",
       "    }\n",
       "</style>\n",
       "<table border=\"1\" class=\"dataframe\">\n",
       "  <thead>\n",
       "    <tr style=\"text-align: right;\">\n",
       "      <th></th>\n",
       "      <th>id</th>\n",
       "      <th>year</th>\n",
       "      <th>doy</th>\n",
       "      <th>longitude</th>\n",
       "      <th>latitude</th>\n",
       "      <th>grid10k</th>\n",
       "      <th>covertype</th>\n",
       "      <th>fuelcode</th>\n",
       "      <th>area_burned</th>\n",
       "      <th>prefire_fuel</th>\n",
       "      <th>...</th>\n",
       "      <th>ECO</th>\n",
       "      <th>ECH4</th>\n",
       "      <th>EPM2.5</th>\n",
       "      <th>cwd_frac</th>\n",
       "      <th>duff_frac</th>\n",
       "      <th>fuel_moisture_class</th>\n",
       "      <th>burn_source</th>\n",
       "      <th>burnday_source</th>\n",
       "      <th>BSEV</th>\n",
       "      <th>BSEV_flag</th>\n",
       "    </tr>\n",
       "  </thead>\n",
       "  <tbody>\n",
       "    <tr>\n",
       "      <th>0</th>\n",
       "      <td>0</td>\n",
       "      <td>2008</td>\n",
       "      <td>359</td>\n",
       "      <td>-81.0384</td>\n",
       "      <td>25.1958</td>\n",
       "      <td>4536</td>\n",
       "      <td>3</td>\n",
       "      <td>1600</td>\n",
       "      <td>0.0</td>\n",
       "      <td>6220.097576</td>\n",
       "      <td>...</td>\n",
       "      <td>153.981344</td>\n",
       "      <td>4.499455</td>\n",
       "      <td>23.797117</td>\n",
       "      <td>0.023231</td>\n",
       "      <td>0.082115</td>\n",
       "      <td>3</td>\n",
       "      <td>1</td>\n",
       "      <td>81</td>\n",
       "      <td>1</td>\n",
       "      <td>0</td>\n",
       "    </tr>\n",
       "    <tr>\n",
       "      <th>1</th>\n",
       "      <td>1</td>\n",
       "      <td>2008</td>\n",
       "      <td>359</td>\n",
       "      <td>-81.0404</td>\n",
       "      <td>25.1984</td>\n",
       "      <td>4536</td>\n",
       "      <td>3</td>\n",
       "      <td>1600</td>\n",
       "      <td>62500.0</td>\n",
       "      <td>6220.097576</td>\n",
       "      <td>...</td>\n",
       "      <td>157.185824</td>\n",
       "      <td>4.593092</td>\n",
       "      <td>24.292355</td>\n",
       "      <td>0.022757</td>\n",
       "      <td>0.080441</td>\n",
       "      <td>3</td>\n",
       "      <td>1</td>\n",
       "      <td>81</td>\n",
       "      <td>2</td>\n",
       "      <td>0</td>\n",
       "    </tr>\n",
       "    <tr>\n",
       "      <th>2</th>\n",
       "      <td>2</td>\n",
       "      <td>2008</td>\n",
       "      <td>359</td>\n",
       "      <td>-81.0380</td>\n",
       "      <td>25.1981</td>\n",
       "      <td>4536</td>\n",
       "      <td>3</td>\n",
       "      <td>1600</td>\n",
       "      <td>0.0</td>\n",
       "      <td>6220.097576</td>\n",
       "      <td>...</td>\n",
       "      <td>153.981344</td>\n",
       "      <td>4.499455</td>\n",
       "      <td>23.797117</td>\n",
       "      <td>0.023231</td>\n",
       "      <td>0.082115</td>\n",
       "      <td>3</td>\n",
       "      <td>1</td>\n",
       "      <td>81</td>\n",
       "      <td>1</td>\n",
       "      <td>0</td>\n",
       "    </tr>\n",
       "    <tr>\n",
       "      <th>4</th>\n",
       "      <td>4</td>\n",
       "      <td>2008</td>\n",
       "      <td>359</td>\n",
       "      <td>-81.0594</td>\n",
       "      <td>25.2035</td>\n",
       "      <td>4536</td>\n",
       "      <td>3</td>\n",
       "      <td>1600</td>\n",
       "      <td>0.0</td>\n",
       "      <td>6220.097576</td>\n",
       "      <td>...</td>\n",
       "      <td>153.981344</td>\n",
       "      <td>4.499455</td>\n",
       "      <td>23.797117</td>\n",
       "      <td>0.023231</td>\n",
       "      <td>0.082115</td>\n",
       "      <td>3</td>\n",
       "      <td>1</td>\n",
       "      <td>81</td>\n",
       "      <td>1</td>\n",
       "      <td>0</td>\n",
       "    </tr>\n",
       "    <tr>\n",
       "      <th>5</th>\n",
       "      <td>5</td>\n",
       "      <td>2008</td>\n",
       "      <td>359</td>\n",
       "      <td>-81.0570</td>\n",
       "      <td>25.2032</td>\n",
       "      <td>4536</td>\n",
       "      <td>3</td>\n",
       "      <td>1600</td>\n",
       "      <td>62500.0</td>\n",
       "      <td>6220.097576</td>\n",
       "      <td>...</td>\n",
       "      <td>157.185824</td>\n",
       "      <td>4.593092</td>\n",
       "      <td>24.292355</td>\n",
       "      <td>0.022757</td>\n",
       "      <td>0.080441</td>\n",
       "      <td>3</td>\n",
       "      <td>1</td>\n",
       "      <td>81</td>\n",
       "      <td>2</td>\n",
       "      <td>0</td>\n",
       "    </tr>\n",
       "  </tbody>\n",
       "</table>\n",
       "<p>5 rows × 22 columns</p>\n",
       "</div>"
      ],
      "text/plain": [
       "   id  year  doy  longitude  latitude  grid10k  covertype  fuelcode  \\\n",
       "0   0  2008  359   -81.0384   25.1958     4536          3      1600   \n",
       "1   1  2008  359   -81.0404   25.1984     4536          3      1600   \n",
       "2   2  2008  359   -81.0380   25.1981     4536          3      1600   \n",
       "4   4  2008  359   -81.0594   25.2035     4536          3      1600   \n",
       "5   5  2008  359   -81.0570   25.2032     4536          3      1600   \n",
       "\n",
       "   area_burned  prefire_fuel  ...         ECO      ECH4     EPM2.5  cwd_frac  \\\n",
       "0          0.0   6220.097576  ...  153.981344  4.499455  23.797117  0.023231   \n",
       "1      62500.0   6220.097576  ...  157.185824  4.593092  24.292355  0.022757   \n",
       "2          0.0   6220.097576  ...  153.981344  4.499455  23.797117  0.023231   \n",
       "4          0.0   6220.097576  ...  153.981344  4.499455  23.797117  0.023231   \n",
       "5      62500.0   6220.097576  ...  157.185824  4.593092  24.292355  0.022757   \n",
       "\n",
       "   duff_frac  fuel_moisture_class  burn_source  burnday_source  BSEV  \\\n",
       "0   0.082115                    3            1              81     1   \n",
       "1   0.080441                    3            1              81     2   \n",
       "2   0.082115                    3            1              81     1   \n",
       "4   0.082115                    3            1              81     1   \n",
       "5   0.080441                    3            1              81     2   \n",
       "\n",
       "   BSEV_flag  \n",
       "0          0  \n",
       "1          0  \n",
       "2          0  \n",
       "4          0  \n",
       "5          0  \n",
       "\n",
       "[5 rows x 22 columns]"
      ]
     },
     "execution_count": 7,
     "metadata": {},
     "output_type": "execute_result"
    }
   ],
   "source": [
    "emyear20xx.head()"
   ]
  },
  {
   "cell_type": "markdown",
   "metadata": {},
   "source": [
    "## Set Year for DBSCan clustering. "
   ]
  },
  {
   "cell_type": "code",
   "execution_count": 114,
   "metadata": {},
   "outputs": [],
   "source": [
    "emyear = 2009"
   ]
  },
  {
   "cell_type": "code",
   "execution_count": 115,
   "metadata": {},
   "outputs": [
    {
     "name": "stdout",
     "output_type": "stream",
     "text": [
      "There are 375,841 rows\n"
     ]
    }
   ],
   "source": [
    "### Variable to capture a single year of data for clustering. \n",
    "emyearset20xx = emyear20xx[(emyear20xx.year == emyear)]\n",
    "print('There are {:,} rows'.format(len(emyearset20xx)))"
   ]
  },
  {
   "cell_type": "code",
   "execution_count": 116,
   "metadata": {},
   "outputs": [
    {
     "data": {
      "text/html": [
       "<div>\n",
       "<style scoped>\n",
       "    .dataframe tbody tr th:only-of-type {\n",
       "        vertical-align: middle;\n",
       "    }\n",
       "\n",
       "    .dataframe tbody tr th {\n",
       "        vertical-align: top;\n",
       "    }\n",
       "\n",
       "    .dataframe thead th {\n",
       "        text-align: right;\n",
       "    }\n",
       "</style>\n",
       "<table border=\"1\" class=\"dataframe\">\n",
       "  <thead>\n",
       "    <tr style=\"text-align: right;\">\n",
       "      <th></th>\n",
       "      <th>id</th>\n",
       "      <th>year</th>\n",
       "      <th>doy</th>\n",
       "      <th>longitude</th>\n",
       "      <th>latitude</th>\n",
       "      <th>grid10k</th>\n",
       "      <th>covertype</th>\n",
       "      <th>fuelcode</th>\n",
       "      <th>area_burned</th>\n",
       "      <th>prefire_fuel</th>\n",
       "      <th>...</th>\n",
       "      <th>ECO</th>\n",
       "      <th>ECH4</th>\n",
       "      <th>EPM2.5</th>\n",
       "      <th>cwd_frac</th>\n",
       "      <th>duff_frac</th>\n",
       "      <th>fuel_moisture_class</th>\n",
       "      <th>burn_source</th>\n",
       "      <th>burnday_source</th>\n",
       "      <th>BSEV</th>\n",
       "      <th>BSEV_flag</th>\n",
       "    </tr>\n",
       "  </thead>\n",
       "  <tbody>\n",
       "    <tr>\n",
       "      <th>1008864</th>\n",
       "      <td>496810</td>\n",
       "      <td>2009</td>\n",
       "      <td>240</td>\n",
       "      <td>-120.7744</td>\n",
       "      <td>48.8777</td>\n",
       "      <td>130977</td>\n",
       "      <td>3</td>\n",
       "      <td>1360</td>\n",
       "      <td>62500.0</td>\n",
       "      <td>2673.497587</td>\n",
       "      <td>...</td>\n",
       "      <td>262.016109</td>\n",
       "      <td>14.735944</td>\n",
       "      <td>44.917047</td>\n",
       "      <td>0.168969</td>\n",
       "      <td>0.232857</td>\n",
       "      <td>2</td>\n",
       "      <td>4</td>\n",
       "      <td>15</td>\n",
       "      <td>3</td>\n",
       "      <td>1</td>\n",
       "    </tr>\n",
       "    <tr>\n",
       "      <th>1008865</th>\n",
       "      <td>496811</td>\n",
       "      <td>2009</td>\n",
       "      <td>240</td>\n",
       "      <td>-120.7850</td>\n",
       "      <td>48.8782</td>\n",
       "      <td>130977</td>\n",
       "      <td>3</td>\n",
       "      <td>1260</td>\n",
       "      <td>0.0</td>\n",
       "      <td>6989.973251</td>\n",
       "      <td>...</td>\n",
       "      <td>531.699850</td>\n",
       "      <td>29.903119</td>\n",
       "      <td>91.148546</td>\n",
       "      <td>0.380435</td>\n",
       "      <td>0.291163</td>\n",
       "      <td>2</td>\n",
       "      <td>4</td>\n",
       "      <td>15</td>\n",
       "      <td>1</td>\n",
       "      <td>1</td>\n",
       "    </tr>\n",
       "    <tr>\n",
       "      <th>1008866</th>\n",
       "      <td>496812</td>\n",
       "      <td>2009</td>\n",
       "      <td>240</td>\n",
       "      <td>-120.7817</td>\n",
       "      <td>48.8787</td>\n",
       "      <td>130977</td>\n",
       "      <td>3</td>\n",
       "      <td>1260</td>\n",
       "      <td>62500.0</td>\n",
       "      <td>6989.973251</td>\n",
       "      <td>...</td>\n",
       "      <td>552.142166</td>\n",
       "      <td>31.052808</td>\n",
       "      <td>94.652943</td>\n",
       "      <td>0.366350</td>\n",
       "      <td>0.280383</td>\n",
       "      <td>2</td>\n",
       "      <td>4</td>\n",
       "      <td>15</td>\n",
       "      <td>2</td>\n",
       "      <td>1</td>\n",
       "    </tr>\n",
       "    <tr>\n",
       "      <th>1008867</th>\n",
       "      <td>496813</td>\n",
       "      <td>2009</td>\n",
       "      <td>240</td>\n",
       "      <td>-120.7785</td>\n",
       "      <td>48.8793</td>\n",
       "      <td>130977</td>\n",
       "      <td>3</td>\n",
       "      <td>1260</td>\n",
       "      <td>62500.0</td>\n",
       "      <td>6989.973251</td>\n",
       "      <td>...</td>\n",
       "      <td>552.142166</td>\n",
       "      <td>31.052808</td>\n",
       "      <td>94.652943</td>\n",
       "      <td>0.366350</td>\n",
       "      <td>0.280383</td>\n",
       "      <td>2</td>\n",
       "      <td>4</td>\n",
       "      <td>15</td>\n",
       "      <td>2</td>\n",
       "      <td>1</td>\n",
       "    </tr>\n",
       "    <tr>\n",
       "      <th>1008868</th>\n",
       "      <td>496814</td>\n",
       "      <td>2009</td>\n",
       "      <td>240</td>\n",
       "      <td>-120.7826</td>\n",
       "      <td>48.8809</td>\n",
       "      <td>130977</td>\n",
       "      <td>3</td>\n",
       "      <td>1260</td>\n",
       "      <td>62500.0</td>\n",
       "      <td>6989.973251</td>\n",
       "      <td>...</td>\n",
       "      <td>695.238379</td>\n",
       "      <td>39.100625</td>\n",
       "      <td>119.183722</td>\n",
       "      <td>0.290946</td>\n",
       "      <td>0.222674</td>\n",
       "      <td>2</td>\n",
       "      <td>4</td>\n",
       "      <td>15</td>\n",
       "      <td>4</td>\n",
       "      <td>1</td>\n",
       "    </tr>\n",
       "    <tr>\n",
       "      <th>1008869</th>\n",
       "      <td>496815</td>\n",
       "      <td>2009</td>\n",
       "      <td>120</td>\n",
       "      <td>-122.1427</td>\n",
       "      <td>48.9261</td>\n",
       "      <td>132351</td>\n",
       "      <td>3</td>\n",
       "      <td>1910</td>\n",
       "      <td>62500.0</td>\n",
       "      <td>9690.845325</td>\n",
       "      <td>...</td>\n",
       "      <td>898.386849</td>\n",
       "      <td>50.525817</td>\n",
       "      <td>154.009174</td>\n",
       "      <td>0.213875</td>\n",
       "      <td>0.330757</td>\n",
       "      <td>2</td>\n",
       "      <td>4</td>\n",
       "      <td>78</td>\n",
       "      <td>3</td>\n",
       "      <td>1</td>\n",
       "    </tr>\n",
       "    <tr>\n",
       "      <th>1008870</th>\n",
       "      <td>496816</td>\n",
       "      <td>2009</td>\n",
       "      <td>120</td>\n",
       "      <td>-122.1468</td>\n",
       "      <td>48.9277</td>\n",
       "      <td>132351</td>\n",
       "      <td>3</td>\n",
       "      <td>1200</td>\n",
       "      <td>62500.0</td>\n",
       "      <td>6424.431099</td>\n",
       "      <td>...</td>\n",
       "      <td>646.844460</td>\n",
       "      <td>36.378922</td>\n",
       "      <td>110.887622</td>\n",
       "      <td>0.243417</td>\n",
       "      <td>0.190915</td>\n",
       "      <td>2</td>\n",
       "      <td>4</td>\n",
       "      <td>78</td>\n",
       "      <td>4</td>\n",
       "      <td>1</td>\n",
       "    </tr>\n",
       "    <tr>\n",
       "      <th>1008871</th>\n",
       "      <td>496817</td>\n",
       "      <td>2009</td>\n",
       "      <td>120</td>\n",
       "      <td>-122.1436</td>\n",
       "      <td>48.9283</td>\n",
       "      <td>132351</td>\n",
       "      <td>3</td>\n",
       "      <td>1910</td>\n",
       "      <td>62500.0</td>\n",
       "      <td>9690.845325</td>\n",
       "      <td>...</td>\n",
       "      <td>873.389054</td>\n",
       "      <td>49.119926</td>\n",
       "      <td>149.723838</td>\n",
       "      <td>0.219996</td>\n",
       "      <td>0.340224</td>\n",
       "      <td>2</td>\n",
       "      <td>4</td>\n",
       "      <td>78</td>\n",
       "      <td>2</td>\n",
       "      <td>1</td>\n",
       "    </tr>\n",
       "    <tr>\n",
       "      <th>1008872</th>\n",
       "      <td>496818</td>\n",
       "      <td>2009</td>\n",
       "      <td>120</td>\n",
       "      <td>-122.1404</td>\n",
       "      <td>48.9289</td>\n",
       "      <td>132351</td>\n",
       "      <td>3</td>\n",
       "      <td>1200</td>\n",
       "      <td>62500.0</td>\n",
       "      <td>6424.431099</td>\n",
       "      <td>...</td>\n",
       "      <td>584.220342</td>\n",
       "      <td>32.856903</td>\n",
       "      <td>100.152059</td>\n",
       "      <td>0.269510</td>\n",
       "      <td>0.211380</td>\n",
       "      <td>2</td>\n",
       "      <td>4</td>\n",
       "      <td>78</td>\n",
       "      <td>3</td>\n",
       "      <td>1</td>\n",
       "    </tr>\n",
       "    <tr>\n",
       "      <th>1008873</th>\n",
       "      <td>496819</td>\n",
       "      <td>2009</td>\n",
       "      <td>120</td>\n",
       "      <td>-122.1445</td>\n",
       "      <td>48.9305</td>\n",
       "      <td>132351</td>\n",
       "      <td>3</td>\n",
       "      <td>1910</td>\n",
       "      <td>62500.0</td>\n",
       "      <td>9690.845325</td>\n",
       "      <td>...</td>\n",
       "      <td>919.437623</td>\n",
       "      <td>51.709725</td>\n",
       "      <td>157.617878</td>\n",
       "      <td>0.208978</td>\n",
       "      <td>0.323184</td>\n",
       "      <td>2</td>\n",
       "      <td>4</td>\n",
       "      <td>78</td>\n",
       "      <td>4</td>\n",
       "      <td>1</td>\n",
       "    </tr>\n",
       "  </tbody>\n",
       "</table>\n",
       "<p>10 rows × 22 columns</p>\n",
       "</div>"
      ],
      "text/plain": [
       "             id  year  doy  longitude  latitude  grid10k  covertype  fuelcode  \\\n",
       "1008864  496810  2009  240  -120.7744   48.8777   130977          3      1360   \n",
       "1008865  496811  2009  240  -120.7850   48.8782   130977          3      1260   \n",
       "1008866  496812  2009  240  -120.7817   48.8787   130977          3      1260   \n",
       "1008867  496813  2009  240  -120.7785   48.8793   130977          3      1260   \n",
       "1008868  496814  2009  240  -120.7826   48.8809   130977          3      1260   \n",
       "1008869  496815  2009  120  -122.1427   48.9261   132351          3      1910   \n",
       "1008870  496816  2009  120  -122.1468   48.9277   132351          3      1200   \n",
       "1008871  496817  2009  120  -122.1436   48.9283   132351          3      1910   \n",
       "1008872  496818  2009  120  -122.1404   48.9289   132351          3      1200   \n",
       "1008873  496819  2009  120  -122.1445   48.9305   132351          3      1910   \n",
       "\n",
       "         area_burned  prefire_fuel  ...         ECO       ECH4      EPM2.5  \\\n",
       "1008864      62500.0   2673.497587  ...  262.016109  14.735944   44.917047   \n",
       "1008865          0.0   6989.973251  ...  531.699850  29.903119   91.148546   \n",
       "1008866      62500.0   6989.973251  ...  552.142166  31.052808   94.652943   \n",
       "1008867      62500.0   6989.973251  ...  552.142166  31.052808   94.652943   \n",
       "1008868      62500.0   6989.973251  ...  695.238379  39.100625  119.183722   \n",
       "1008869      62500.0   9690.845325  ...  898.386849  50.525817  154.009174   \n",
       "1008870      62500.0   6424.431099  ...  646.844460  36.378922  110.887622   \n",
       "1008871      62500.0   9690.845325  ...  873.389054  49.119926  149.723838   \n",
       "1008872      62500.0   6424.431099  ...  584.220342  32.856903  100.152059   \n",
       "1008873      62500.0   9690.845325  ...  919.437623  51.709725  157.617878   \n",
       "\n",
       "         cwd_frac  duff_frac  fuel_moisture_class  burn_source  \\\n",
       "1008864  0.168969   0.232857                    2            4   \n",
       "1008865  0.380435   0.291163                    2            4   \n",
       "1008866  0.366350   0.280383                    2            4   \n",
       "1008867  0.366350   0.280383                    2            4   \n",
       "1008868  0.290946   0.222674                    2            4   \n",
       "1008869  0.213875   0.330757                    2            4   \n",
       "1008870  0.243417   0.190915                    2            4   \n",
       "1008871  0.219996   0.340224                    2            4   \n",
       "1008872  0.269510   0.211380                    2            4   \n",
       "1008873  0.208978   0.323184                    2            4   \n",
       "\n",
       "         burnday_source  BSEV  BSEV_flag  \n",
       "1008864              15     3          1  \n",
       "1008865              15     1          1  \n",
       "1008866              15     2          1  \n",
       "1008867              15     2          1  \n",
       "1008868              15     4          1  \n",
       "1008869              78     3          1  \n",
       "1008870              78     4          1  \n",
       "1008871              78     2          1  \n",
       "1008872              78     3          1  \n",
       "1008873              78     4          1  \n",
       "\n",
       "[10 rows x 22 columns]"
      ]
     },
     "execution_count": 116,
     "metadata": {},
     "output_type": "execute_result"
    }
   ],
   "source": [
    "emyearset20xx.tail(10)"
   ]
  },
  {
   "cell_type": "code",
   "execution_count": 117,
   "metadata": {},
   "outputs": [
    {
     "name": "stdout",
     "output_type": "stream",
     "text": [
      "3956\n"
     ]
    }
   ],
   "source": [
    "# Set distance per radian, either KMs or Miles. \n",
    "kms_per_radian = 3956\n",
    "### 3956 for miles, 6371.0088 for kilometers\n",
    "print(kms_per_radian)"
   ]
  },
  {
   "cell_type": "markdown",
   "metadata": {},
   "source": [
    "## Compute DBSCAN\n",
    "\n",
    " #####   eps is the physical distance from each point that forms its neighborhood\n",
    "#####    min_samples is the min cluster size, otherwise it's noise - set to 1 so we get no noise\n",
    "\n",
    "##### Extract the lat, lon columns into a numpy matrix of coordinates, then convert to radians when you call fit, for use by scikit-learn's haversine metric."
   ]
  },
  {
   "cell_type": "code",
   "execution_count": 118,
   "metadata": {},
   "outputs": [
    {
     "name": "stderr",
     "output_type": "stream",
     "text": [
      "/Users/AlfHaugen/anaconda3/lib/python3.7/site-packages/ipykernel_launcher.py:1: FutureWarning: Method .as_matrix will be removed in a future version. Use .values instead.\n",
      "  \"\"\"Entry point for launching an IPython kernel.\n"
     ]
    }
   ],
   "source": [
    "coords = emyearset20xx.as_matrix(columns=['latitude', 'longitude'])\n",
    "epsilon = 1.5 / kms_per_radian"
   ]
  },
  {
   "cell_type": "markdown",
   "metadata": {},
   "source": [
    "## Defining the Clustering Functions"
   ]
  },
  {
   "cell_type": "code",
   "execution_count": 119,
   "metadata": {},
   "outputs": [
    {
     "data": {
      "text/plain": [
       "2009"
      ]
     },
     "execution_count": 119,
     "metadata": {},
     "output_type": "execute_result"
    }
   ],
   "source": [
    "emyear"
   ]
  },
  {
   "cell_type": "code",
   "execution_count": 120,
   "metadata": {},
   "outputs": [
    {
     "name": "stdout",
     "output_type": "stream",
     "text": [
      "Clustered 375,841 points down to 8,234 clusters, for 97.8% compression in 57.06 seconds\n",
      "Silhouette coefficient: 0.281\n"
     ]
    }
   ],
   "source": [
    "# Set up DBScan model. \n",
    "start_time = time.time()\n",
    "db = DBSCAN(eps=epsilon, min_samples=1, algorithm='ball_tree', metric='haversine').fit(np.radians(coords))\n",
    "cluster_labels = db.labels_\n",
    "\n",
    "# determine the number of clusters\n",
    "num_clusters = len(set(cluster_labels))\n",
    "\n",
    "# Print the outcome\n",
    "message = 'Clustered {:,} points down to {:,} clusters, for {:.1f}% compression in {:,.2f} seconds'\n",
    "print(message.format(len(emyearset20xx), num_clusters, 100*(1 - float(num_clusters) / len(emyearset20xx)), time.time()-start_time))\n",
    "print('Silhouette coefficient: {:0.03f}'.format(metrics.silhouette_score(coords, cluster_labels)))\n"
   ]
  },
  {
   "cell_type": "markdown",
   "metadata": {},
   "source": [
    "## Results from Clustering:\n",
    "### Emissions Data from USDA:\n",
    "##### 2003 - Clustered 317,353 points down to 6,231 clusters, for 98.0% compression in 44.70 seconds\n",
    "Silhouette coefficient: 0.491\n",
    "##### 2004 - Clustered 164,634 points down to 6,568 clusters, for 96.0% compression in 21.16 seconds\n",
    "Silhouette coefficient: 0.605\n",
    "##### 2005 - Clustered 399,828 points down to 9,010 clusters, for 97.7% compression in 76.10 seconds\n",
    "Silhouette coefficient: 0.419\n",
    "##### 2006 West - Clustered 300,874 points down to 2,718 clusters, for 99.14% compression in 43.30 seconds\n",
    "Silhouette coefficient: 0.359\n",
    "##### 2006 East - Clustered 190,156 points down to 9,073 clusters, for 95.2% compression in 27.19 seconds\n",
    "Silhouette coefficient: 0.341\n",
    "##### 2007 - Clustered 640,039 points down to 8,945 clusters, for 98.6% compression in 110.69 seconds\n",
    "Silhouette coefficient: 0.269\n",
    "##### 2008 - Clustered 440,888 points down to 9,264 clusters, for 97.9% compression in 75.88 seconds\n",
    "Silhouette coefficient: 0.444\n",
    "##### 2009 - Clustered 375,841 points down to 8,234 clusters, for 97.8% compression in 57.06 seconds\n",
    "Silhouette coefficient: 0.281\n",
    "##### 2010 - Clustered 270,486 points down to 8,237 clusters, for 97.0% compression in 30.41 seconds\n",
    "Silhouette coefficient: 0.512\n",
    "##### 2011 - Clustered 770,255 points down to 10,554 clusters, for 98.6% compression in 137.69 seconds\n",
    "Silhouette coefficient: 0.252\n",
    "##### 2012 - Clustered 667,029 points down to 7,549 clusters, for 98.9% compression in 114.98 seconds\n",
    "Silhouette coefficient: 0.340\n",
    "##### 2013 - Clustered 272,406 points down to 5,483 clusters, for 98.0% compression in 34.88 seconds\n",
    "Silhouette coefficient: 0.528\n",
    "##### 2014 - Clustered 442,103 points down to 8,059 clusters, for 98.2% compression in 75.23 seconds\n",
    "Silhouette coefficient: 0.188\n",
    "##### 2015 - Clustered 483,703 points down to 8,588 clusters, for 98.2% compression in 83.23 seconds\n",
    "Silhouette coefficient: 0.379"
   ]
  },
  {
   "cell_type": "code",
   "execution_count": 121,
   "metadata": {},
   "outputs": [],
   "source": [
    "# Turn the clusters into a pandas series, where each record is a cluster of points.\n",
    "clusters = pd.Series([coords[cluster_labels==n] for n in range(num_clusters)])"
   ]
  },
  {
   "cell_type": "code",
   "execution_count": 122,
   "metadata": {},
   "outputs": [
    {
     "data": {
      "text/plain": [
       "8232                               [[48.6519, -120.8904]]\n",
       "8233    [[48.9261, -122.1427], [48.9277, -122.1468], [...\n",
       "dtype: object"
      ]
     },
     "execution_count": 122,
     "metadata": {},
     "output_type": "execute_result"
    }
   ],
   "source": [
    "# Print clusters to see what's in it: ok, looks like all the coordindates for a cluster are within a record row.  \n",
    "clusters.tail(2)"
   ]
  },
  {
   "cell_type": "markdown",
   "metadata": {},
   "source": [
    "## Capturing individual data points (lat/long) that make up each cluster to save into a DataFrame"
   ]
  },
  {
   "cell_type": "code",
   "execution_count": 123,
   "metadata": {},
   "outputs": [
    {
     "name": "stdout",
     "output_type": "stream",
     "text": [
      "Number (len) of Clusters from results =  8234\n",
      "Number of cluster datapoints in the first Cluster =  359\n"
     ]
    }
   ],
   "source": [
    "ab = list(zip(clusters[0]))\n",
    "ab = len(ab)\n",
    "print('Number (len) of Clusters from results = ', len(clusters))\n",
    "print('Number of cluster datapoints in the first Cluster = ', ab)"
   ]
  },
  {
   "cell_type": "code",
   "execution_count": 124,
   "metadata": {},
   "outputs": [],
   "source": [
    "#clusters[0]  # Curious to review on record. "
   ]
  },
  {
   "cell_type": "code",
   "execution_count": 125,
   "metadata": {},
   "outputs": [],
   "source": [
    "### Loop to pull in the cluster points that make up each DBScan Cluster represented in the Series titled 'Clusters'.\n",
    "def preparecluster(row, clusterseries):\n",
    "    clusterDF = pd.DataFrame(clusterseries[0]) \n",
    "    clusterDF = clusterDF.assign(ClusterNum=row) \n",
    "    row = 1\n",
    "    while row < len(clusterseries):\n",
    "        clusterdata = (clusterseries[row])\n",
    "        clusterDFTemp = pd.DataFrame(clusterdata)\n",
    "        clusterDFTemp = clusterDFTemp.assign(ClusterNum=row) \n",
    "        clusterDF = clusterDF.append(clusterDFTemp, ignore_index=True)\n",
    "        row = row + 1\n",
    "    return clusterDF"
   ]
  },
  {
   "cell_type": "code",
   "execution_count": 126,
   "metadata": {},
   "outputs": [
    {
     "data": {
      "text/html": [
       "<div>\n",
       "<style scoped>\n",
       "    .dataframe tbody tr th:only-of-type {\n",
       "        vertical-align: middle;\n",
       "    }\n",
       "\n",
       "    .dataframe tbody tr th {\n",
       "        vertical-align: top;\n",
       "    }\n",
       "\n",
       "    .dataframe thead th {\n",
       "        text-align: right;\n",
       "    }\n",
       "</style>\n",
       "<table border=\"1\" class=\"dataframe\">\n",
       "  <thead>\n",
       "    <tr style=\"text-align: right;\">\n",
       "      <th></th>\n",
       "      <th>0</th>\n",
       "      <th>1</th>\n",
       "      <th>ClusterNum</th>\n",
       "      <th>Year</th>\n",
       "    </tr>\n",
       "  </thead>\n",
       "  <tbody>\n",
       "    <tr>\n",
       "      <th>375836</th>\n",
       "      <td>48.9261</td>\n",
       "      <td>-122.1427</td>\n",
       "      <td>8233</td>\n",
       "      <td>2009</td>\n",
       "    </tr>\n",
       "    <tr>\n",
       "      <th>375837</th>\n",
       "      <td>48.9277</td>\n",
       "      <td>-122.1468</td>\n",
       "      <td>8233</td>\n",
       "      <td>2009</td>\n",
       "    </tr>\n",
       "    <tr>\n",
       "      <th>375838</th>\n",
       "      <td>48.9283</td>\n",
       "      <td>-122.1436</td>\n",
       "      <td>8233</td>\n",
       "      <td>2009</td>\n",
       "    </tr>\n",
       "    <tr>\n",
       "      <th>375839</th>\n",
       "      <td>48.9289</td>\n",
       "      <td>-122.1404</td>\n",
       "      <td>8233</td>\n",
       "      <td>2009</td>\n",
       "    </tr>\n",
       "    <tr>\n",
       "      <th>375840</th>\n",
       "      <td>48.9305</td>\n",
       "      <td>-122.1445</td>\n",
       "      <td>8233</td>\n",
       "      <td>2009</td>\n",
       "    </tr>\n",
       "  </tbody>\n",
       "</table>\n",
       "</div>"
      ],
      "text/plain": [
       "              0         1  ClusterNum  Year\n",
       "375836  48.9261 -122.1427        8233  2009\n",
       "375837  48.9277 -122.1468        8233  2009\n",
       "375838  48.9283 -122.1436        8233  2009\n",
       "375839  48.9289 -122.1404        8233  2009\n",
       "375840  48.9305 -122.1445        8233  2009"
      ]
     },
     "execution_count": 126,
     "metadata": {},
     "output_type": "execute_result"
    }
   ],
   "source": [
    "### Viewing results of dataframe consolidation and adding year to the dataframe so we see each Lat/Long, assigned cluster number from DBScan and Year. \n",
    "groupedclusters = preparecluster(0,clusters)\n",
    "groupedclusters = groupedclusters.assign(Year=emyear) \n",
    "groupedclusters.tail()"
   ]
  },
  {
   "cell_type": "code",
   "execution_count": 127,
   "metadata": {},
   "outputs": [],
   "source": [
    "# Save results so that we may create a consolidated dataframe of all recorded coordinates, their cluster reference and year. \n",
    "groupedclusters.to_csv('../data/Emclustermakeup_2009.csv', encoding='utf-8')"
   ]
  },
  {
   "cell_type": "markdown",
   "metadata": {},
   "source": [
    "## Find the point in each cluster that is closest to its centroid\n",
    "\n",
    "DBSCAN clusters may be non-convex. This technique just returns one representative point from each cluster. First get the lat,lon coordinates of the cluster's centroid (shapely represents the first coordinate in the tuple as x and the second as y, so lat is x and lon is y here). Then find the member of the cluster with the smallest great circle distance to the centroid.\n"
   ]
  },
  {
   "cell_type": "code",
   "execution_count": 128,
   "metadata": {},
   "outputs": [],
   "source": [
    "def get_centermost_point(cluster):\n",
    "    centroid = (MultiPoint(cluster).centroid.x, MultiPoint(cluster).centroid.y)\n",
    "    centermost_point = min(cluster, key=lambda point: great_circle(point, centroid).m)\n",
    "    return tuple(centermost_point)\n",
    "\n",
    "centermost_points = clusters.map(get_centermost_point)"
   ]
  },
  {
   "cell_type": "code",
   "execution_count": 129,
   "metadata": {},
   "outputs": [
    {
     "name": "stdout",
     "output_type": "stream",
     "text": [
      "<zip object at 0x1a1d6e6348>\n"
     ]
    }
   ],
   "source": [
    "# unzip the list of centermost points (lat, lon) tuples into separate lat and lon lists\n",
    "latlon = zip(*centermost_points)\n",
    "print(latlon)"
   ]
  },
  {
   "cell_type": "code",
   "execution_count": 130,
   "metadata": {},
   "outputs": [],
   "source": [
    "# unzip the list of centermost points (lat, lon) tuples into separate lat and lon lists\n",
    "latitude, longitude = zip(*centermost_points)"
   ]
  },
  {
   "cell_type": "code",
   "execution_count": 131,
   "metadata": {},
   "outputs": [
    {
     "name": "stdout",
     "output_type": "stream",
     "text": [
      "(25.4634, 25.5956, 26.6739, 25.5937) (-81.0448, -81.1593, -97.9236, -80.5409)\n"
     ]
    }
   ],
   "source": [
    "print(latitude[1:5], longitude[1:5])"
   ]
  },
  {
   "cell_type": "code",
   "execution_count": 132,
   "metadata": {},
   "outputs": [
    {
     "data": {
      "text/html": [
       "<div>\n",
       "<style scoped>\n",
       "    .dataframe tbody tr th:only-of-type {\n",
       "        vertical-align: middle;\n",
       "    }\n",
       "\n",
       "    .dataframe tbody tr th {\n",
       "        vertical-align: top;\n",
       "    }\n",
       "\n",
       "    .dataframe thead th {\n",
       "        text-align: right;\n",
       "    }\n",
       "</style>\n",
       "<table border=\"1\" class=\"dataframe\">\n",
       "  <thead>\n",
       "    <tr style=\"text-align: right;\">\n",
       "      <th></th>\n",
       "      <th>longitude</th>\n",
       "      <th>latitude</th>\n",
       "    </tr>\n",
       "  </thead>\n",
       "  <tbody>\n",
       "    <tr>\n",
       "      <th>0</th>\n",
       "      <td>-80.8823</td>\n",
       "      <td>25.2221</td>\n",
       "    </tr>\n",
       "    <tr>\n",
       "      <th>1</th>\n",
       "      <td>-81.0448</td>\n",
       "      <td>25.4634</td>\n",
       "    </tr>\n",
       "    <tr>\n",
       "      <th>2</th>\n",
       "      <td>-81.1593</td>\n",
       "      <td>25.5956</td>\n",
       "    </tr>\n",
       "    <tr>\n",
       "      <th>3</th>\n",
       "      <td>-97.9236</td>\n",
       "      <td>26.6739</td>\n",
       "    </tr>\n",
       "    <tr>\n",
       "      <th>4</th>\n",
       "      <td>-80.5409</td>\n",
       "      <td>25.5937</td>\n",
       "    </tr>\n",
       "  </tbody>\n",
       "</table>\n",
       "</div>"
      ],
      "text/plain": [
       "   longitude  latitude\n",
       "0   -80.8823   25.2221\n",
       "1   -81.0448   25.4634\n",
       "2   -81.1593   25.5956\n",
       "3   -97.9236   26.6739\n",
       "4   -80.5409   25.5937"
      ]
     },
     "execution_count": 132,
     "metadata": {},
     "output_type": "execute_result"
    }
   ],
   "source": [
    "# from these lats/lons create a new df of one representative point for each cluster\n",
    "rep_points = pd.DataFrame({'longitude':longitude, 'latitude':latitude})\n",
    "rep_points.head()"
   ]
  },
  {
   "cell_type": "markdown",
   "metadata": {},
   "source": [
    "## Pulling related data for new Cluster Points and saving to CSV"
   ]
  },
  {
   "cell_type": "code",
   "execution_count": 133,
   "metadata": {},
   "outputs": [
    {
     "data": {
      "text/html": [
       "<div>\n",
       "<style scoped>\n",
       "    .dataframe tbody tr th:only-of-type {\n",
       "        vertical-align: middle;\n",
       "    }\n",
       "\n",
       "    .dataframe tbody tr th {\n",
       "        vertical-align: top;\n",
       "    }\n",
       "\n",
       "    .dataframe thead th {\n",
       "        text-align: right;\n",
       "    }\n",
       "</style>\n",
       "<table border=\"1\" class=\"dataframe\">\n",
       "  <thead>\n",
       "    <tr style=\"text-align: right;\">\n",
       "      <th></th>\n",
       "      <th>id</th>\n",
       "      <th>year</th>\n",
       "      <th>doy</th>\n",
       "      <th>longitude</th>\n",
       "      <th>latitude</th>\n",
       "      <th>grid10k</th>\n",
       "      <th>covertype</th>\n",
       "      <th>fuelcode</th>\n",
       "      <th>area_burned</th>\n",
       "      <th>prefire_fuel</th>\n",
       "      <th>...</th>\n",
       "      <th>ECO</th>\n",
       "      <th>ECH4</th>\n",
       "      <th>EPM2.5</th>\n",
       "      <th>cwd_frac</th>\n",
       "      <th>duff_frac</th>\n",
       "      <th>fuel_moisture_class</th>\n",
       "      <th>burn_source</th>\n",
       "      <th>burnday_source</th>\n",
       "      <th>BSEV</th>\n",
       "      <th>BSEV_flag</th>\n",
       "    </tr>\n",
       "  </thead>\n",
       "  <tbody>\n",
       "    <tr>\n",
       "      <th>8229</th>\n",
       "      <td>496792.0</td>\n",
       "      <td>2009.0</td>\n",
       "      <td>166.0</td>\n",
       "      <td>-119.6789</td>\n",
       "      <td>48.6127</td>\n",
       "      <td>128679.0</td>\n",
       "      <td>1.0</td>\n",
       "      <td>1.0</td>\n",
       "      <td>0.0</td>\n",
       "      <td>89.108370</td>\n",
       "      <td>...</td>\n",
       "      <td>5.800955</td>\n",
       "      <td>0.222094</td>\n",
       "      <td>0.845282</td>\n",
       "      <td>0.000000</td>\n",
       "      <td>0.000000</td>\n",
       "      <td>2.0</td>\n",
       "      <td>4.0</td>\n",
       "      <td>78.0</td>\n",
       "      <td>1.0</td>\n",
       "      <td>1.0</td>\n",
       "    </tr>\n",
       "    <tr>\n",
       "      <th>8230</th>\n",
       "      <td>496796.0</td>\n",
       "      <td>2009.0</td>\n",
       "      <td>247.0</td>\n",
       "      <td>-117.9043</td>\n",
       "      <td>48.9716</td>\n",
       "      <td>129154.0</td>\n",
       "      <td>3.0</td>\n",
       "      <td>1200.0</td>\n",
       "      <td>0.0</td>\n",
       "      <td>6424.431099</td>\n",
       "      <td>...</td>\n",
       "      <td>490.284166</td>\n",
       "      <td>27.573876</td>\n",
       "      <td>84.048714</td>\n",
       "      <td>0.321146</td>\n",
       "      <td>0.251879</td>\n",
       "      <td>2.0</td>\n",
       "      <td>4.0</td>\n",
       "      <td>15.0</td>\n",
       "      <td>1.0</td>\n",
       "      <td>1.0</td>\n",
       "    </tr>\n",
       "    <tr>\n",
       "      <th>8231</th>\n",
       "      <td>496802.0</td>\n",
       "      <td>2009.0</td>\n",
       "      <td>186.0</td>\n",
       "      <td>-122.0629</td>\n",
       "      <td>48.3321</td>\n",
       "      <td>129583.0</td>\n",
       "      <td>3.0</td>\n",
       "      <td>1300.0</td>\n",
       "      <td>0.0</td>\n",
       "      <td>11715.036749</td>\n",
       "      <td>...</td>\n",
       "      <td>860.395988</td>\n",
       "      <td>48.389188</td>\n",
       "      <td>147.496455</td>\n",
       "      <td>0.464559</td>\n",
       "      <td>0.275379</td>\n",
       "      <td>2.0</td>\n",
       "      <td>4.0</td>\n",
       "      <td>15.0</td>\n",
       "      <td>1.0</td>\n",
       "      <td>1.0</td>\n",
       "    </tr>\n",
       "    <tr>\n",
       "      <th>8232</th>\n",
       "      <td>496803.0</td>\n",
       "      <td>2009.0</td>\n",
       "      <td>210.0</td>\n",
       "      <td>-120.8904</td>\n",
       "      <td>48.6519</td>\n",
       "      <td>130054.0</td>\n",
       "      <td>3.0</td>\n",
       "      <td>1260.0</td>\n",
       "      <td>62500.0</td>\n",
       "      <td>6989.973251</td>\n",
       "      <td>...</td>\n",
       "      <td>629.822967</td>\n",
       "      <td>35.421623</td>\n",
       "      <td>107.969652</td>\n",
       "      <td>0.321165</td>\n",
       "      <td>0.245802</td>\n",
       "      <td>2.0</td>\n",
       "      <td>4.0</td>\n",
       "      <td>78.0</td>\n",
       "      <td>3.0</td>\n",
       "      <td>1.0</td>\n",
       "    </tr>\n",
       "    <tr>\n",
       "      <th>8233</th>\n",
       "      <td>496817.0</td>\n",
       "      <td>2009.0</td>\n",
       "      <td>120.0</td>\n",
       "      <td>-122.1436</td>\n",
       "      <td>48.9283</td>\n",
       "      <td>132351.0</td>\n",
       "      <td>3.0</td>\n",
       "      <td>1910.0</td>\n",
       "      <td>62500.0</td>\n",
       "      <td>9690.845325</td>\n",
       "      <td>...</td>\n",
       "      <td>873.389054</td>\n",
       "      <td>49.119926</td>\n",
       "      <td>149.723838</td>\n",
       "      <td>0.219996</td>\n",
       "      <td>0.340224</td>\n",
       "      <td>2.0</td>\n",
       "      <td>4.0</td>\n",
       "      <td>78.0</td>\n",
       "      <td>2.0</td>\n",
       "      <td>1.0</td>\n",
       "    </tr>\n",
       "  </tbody>\n",
       "</table>\n",
       "<p>5 rows × 22 columns</p>\n",
       "</div>"
      ],
      "text/plain": [
       "            id    year    doy  longitude  latitude   grid10k  covertype  \\\n",
       "8229  496792.0  2009.0  166.0  -119.6789   48.6127  128679.0        1.0   \n",
       "8230  496796.0  2009.0  247.0  -117.9043   48.9716  129154.0        3.0   \n",
       "8231  496802.0  2009.0  186.0  -122.0629   48.3321  129583.0        3.0   \n",
       "8232  496803.0  2009.0  210.0  -120.8904   48.6519  130054.0        3.0   \n",
       "8233  496817.0  2009.0  120.0  -122.1436   48.9283  132351.0        3.0   \n",
       "\n",
       "      fuelcode  area_burned  prefire_fuel  ...         ECO       ECH4  \\\n",
       "8229       1.0          0.0     89.108370  ...    5.800955   0.222094   \n",
       "8230    1200.0          0.0   6424.431099  ...  490.284166  27.573876   \n",
       "8231    1300.0          0.0  11715.036749  ...  860.395988  48.389188   \n",
       "8232    1260.0      62500.0   6989.973251  ...  629.822967  35.421623   \n",
       "8233    1910.0      62500.0   9690.845325  ...  873.389054  49.119926   \n",
       "\n",
       "          EPM2.5  cwd_frac  duff_frac  fuel_moisture_class  burn_source  \\\n",
       "8229    0.845282  0.000000   0.000000                  2.0          4.0   \n",
       "8230   84.048714  0.321146   0.251879                  2.0          4.0   \n",
       "8231  147.496455  0.464559   0.275379                  2.0          4.0   \n",
       "8232  107.969652  0.321165   0.245802                  2.0          4.0   \n",
       "8233  149.723838  0.219996   0.340224                  2.0          4.0   \n",
       "\n",
       "      burnday_source  BSEV  BSEV_flag  \n",
       "8229            78.0   1.0        1.0  \n",
       "8230            15.0   1.0        1.0  \n",
       "8231            15.0   1.0        1.0  \n",
       "8232            78.0   3.0        1.0  \n",
       "8233            78.0   2.0        1.0  \n",
       "\n",
       "[5 rows x 22 columns]"
      ]
     },
     "execution_count": 133,
     "metadata": {},
     "output_type": "execute_result"
    }
   ],
   "source": [
    "# Pull row from original data set where lat/lon match the lat/lon of each row of representative points\n",
    "# that way we get the full details such as 'covertype, 'fuelcode', etc. from the original dataframe.\n",
    "\n",
    "rs = rep_points.apply(lambda row: emyearset20xx[(emyearset20xx['latitude']==row['latitude']) & (emyearset20xx['longitude']==row['longitude'])].iloc[0], axis=1)\n",
    "rs.to_csv('../data/Emissions2006East_DBScan_Clusters.csv', encoding='utf-8')\n",
    "rs.tail()"
   ]
  },
  {
   "cell_type": "code",
   "execution_count": null,
   "metadata": {},
   "outputs": [],
   "source": []
  }
 ],
 "metadata": {
  "kernelspec": {
   "display_name": "Python 3",
   "language": "python",
   "name": "python3"
  },
  "language_info": {
   "codemirror_mode": {
    "name": "ipython",
    "version": 3
   },
   "file_extension": ".py",
   "mimetype": "text/x-python",
   "name": "python",
   "nbconvert_exporter": "python",
   "pygments_lexer": "ipython3",
   "version": "3.7.3"
  }
 },
 "nbformat": 4,
 "nbformat_minor": 2
}

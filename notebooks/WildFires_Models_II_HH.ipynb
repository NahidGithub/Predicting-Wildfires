{
 "cells": [
  {
   "cell_type": "markdown",
   "metadata": {},
   "source": [
    "# Wild Fire Model Evaluation\n",
    "\n",
    "This notebooks will evaluate severals model on the wildfire dataset in order to make a predecction on fire intensity and CO2 emissions. A down selection will be made to 2-3 models for further hyper-paramater tuning. "
   ]
  },
  {
   "cell_type": "markdown",
   "metadata": {},
   "source": [
    "#optional code if warnings become over bearing \n",
    "import warnings\n",
    "warnings.filterwarnings('ignore')"
   ]
  },
  {
   "cell_type": "code",
   "execution_count": 6,
   "metadata": {},
   "outputs": [
    {
     "name": "stdout",
     "output_type": "stream",
     "text": [
      "The scikit-learn version is 0.20.3.\n"
     ]
    }
   ],
   "source": [
    "#optional code to ensure everyone is on the right version\n",
    "import sklearn\n",
    "\n",
    "print('The scikit-learn version is {}.'.format(sklearn.__version__))"
   ]
  },
  {
   "cell_type": "markdown",
   "metadata": {},
   "source": [
    "# Import all the models we will likely use for classificaiton"
   ]
  },
  {
   "cell_type": "code",
   "execution_count": 7,
   "metadata": {},
   "outputs": [],
   "source": [
    "%matplotlib inline\n",
    "\n",
    "import os\n",
    "import pandas as pd\n",
    "import numpy as np\n",
    "import pickle\n",
    "\n",
    "from sklearn.metrics import f1_score\n",
    "from sklearn.pipeline import Pipeline\n",
    "from sklearn.compose import make_column_transformer\n",
    "from sklearn.preprocessing import StandardScaler, OneHotEncoder, MinMaxScaler\n",
    "from sklearn.compose import ColumnTransformer\n",
    "\n",
    "from sklearn.svm import LinearSVC, NuSVC, SVC\n",
    "from sklearn.neighbors import KNeighborsClassifier\n",
    "from sklearn.model_selection import train_test_split as tts\n",
    "from sklearn.preprocessing import OneHotEncoder, LabelEncoder\n",
    "from sklearn.linear_model import LogisticRegressionCV, LogisticRegression, SGDClassifier\n",
    "from sklearn.ensemble import BaggingClassifier, ExtraTreesClassifier, RandomForestClassifier\n",
    "\n",
    "from sklearn.naive_bayes import MultinomialNB\n",
    "from sklearn.ensemble import AdaBoostClassifier\n",
    "\n",
    "from yellowbrick.classifier import ClassificationReport\n",
    "\n"
   ]
  },
  {
   "cell_type": "markdown",
   "metadata": {},
   "source": [
    "# Helper function to save estimator\n",
    "Saves to current working directory"
   ]
  },
  {
   "cell_type": "code",
   "execution_count": 8,
   "metadata": {},
   "outputs": [],
   "source": [
    "def save_estimator (estimator) :\n",
    "          \n",
    "    outpath = estimator.__class__.__name__.lower().replace(\" \", \"-\") + \".pickle\"\n",
    "    with open(outpath, 'wb') as f:\n",
    "        pickle.dump(estimator, f)\n",
    "        f.close()\n",
    "        \n",
    "    #print(\"\\nFitted model written to:\\n{}\".format(os.path.abspath(outpath)))"
   ]
  },
  {
   "cell_type": "code",
   "execution_count": 9,
   "metadata": {},
   "outputs": [],
   "source": [
    "def open_estimator(filename) :\n",
    "    \n",
    "    infile = open(filename,'rb')\n",
    "    estimator = pickle.load(infile)\n",
    "    infile.close()\n",
    "\n",
    "    print (\"Unpickled file\", filename)\n",
    "    \n",
    "    return estimator"
   ]
  },
  {
   "cell_type": "markdown",
   "metadata": {},
   "source": [
    "# Read the Fire Data From Disk to Save Time.\n",
    "During the feature evaluation the data was pulled from the database and stored locally"
   ]
  },
  {
   "cell_type": "markdown",
   "metadata": {},
   "source": [
    "#This helper function allows for a random sample instead of reading everything\n",
    "\n",
    "import random\n",
    "\n",
    "def read_random_sample(sample_size, file_name):\n",
    "\n",
    "\n",
    "    total_records = 1328922 #number of records in file\n",
    "    skip = sorted(random.sample(range(total_records), total_records-sample_size))\n",
    "    \n",
    "    #don't skip the header line of the file\n",
    "    if (skip[0] == 0):\n",
    "        skip[0] = 2\n",
    "\n",
    "        \n",
    "    df = pd.read_csv(file_name, skiprows=skip)\n",
    "  \n",
    "    ''' #check to see numbers are being skipped - will only notice if a larger number of files is chosen\n",
    "    for i in skip: \n",
    "        print (skip[i], end =\" \") \n",
    "        if i == 1000:\n",
    "            return\n",
    "    '''\n",
    "    \n",
    "    return df\n"
   ]
  },
  {
   "cell_type": "code",
   "execution_count": 32,
   "metadata": {},
   "outputs": [],
   "source": [
    "#Read the data from disk for faster access\n",
    "\n",
    "df_fires = pd.read_csv('data/FireIntensity_Model_June7_Clean.csv')\n",
    "\n",
    "#get a sample of the data to save time - comment out if you want all the data\n",
    "#     df_fires = read_random_sample(50000, 'data/FireIntensity_Model_June7_Clean.csv')\n",
    "\n",
    "#use this line to get all the data\n",
    "#df_fires = pd.read_csv('data/FireIntensity_Model_June7_Clean.csv')\n",
    "\n"
   ]
  },
  {
   "cell_type": "code",
   "execution_count": 33,
   "metadata": {},
   "outputs": [],
   "source": [
    "# Random Sample of DF to reduce size:\n",
    "\n",
    "#df_fires = df_fires.sample(frac=0.25, replace=True, random_state=1)"
   ]
  },
  {
   "cell_type": "markdown",
   "metadata": {},
   "source": [
    "# Assess shape and data in the file. \n",
    "Check data to ensure it's correct.\n"
   ]
  },
  {
   "cell_type": "code",
   "execution_count": 34,
   "metadata": {},
   "outputs": [],
   "source": [
    "# Expanding number of columns:\n",
    "pd.set_option('display.max_columns', 40)"
   ]
  },
  {
   "cell_type": "code",
   "execution_count": 35,
   "metadata": {},
   "outputs": [
    {
     "name": "stdout",
     "output_type": "stream",
     "text": [
      "(1328922, 22)\n"
     ]
    },
    {
     "data": {
      "text/html": [
       "<div>\n",
       "<style scoped>\n",
       "    .dataframe tbody tr th:only-of-type {\n",
       "        vertical-align: middle;\n",
       "    }\n",
       "\n",
       "    .dataframe tbody tr th {\n",
       "        vertical-align: top;\n",
       "    }\n",
       "\n",
       "    .dataframe thead th {\n",
       "        text-align: right;\n",
       "    }\n",
       "</style>\n",
       "<table border=\"1\" class=\"dataframe\">\n",
       "  <thead>\n",
       "    <tr style=\"text-align: right;\">\n",
       "      <th></th>\n",
       "      <th>latitude</th>\n",
       "      <th>longitude</th>\n",
       "      <th>doy</th>\n",
       "      <th>month</th>\n",
       "      <th>year</th>\n",
       "      <th>cluster_reference</th>\n",
       "      <th>fire_region</th>\n",
       "      <th>season</th>\n",
       "      <th>covertype</th>\n",
       "      <th>fuelcode</th>\n",
       "      <th>prefire_fuel</th>\n",
       "      <th>fuel_moisture_class</th>\n",
       "      <th>temperature</th>\n",
       "      <th>humidity</th>\n",
       "      <th>precip_intensity</th>\n",
       "      <th>visibility</th>\n",
       "      <th>wind_speed</th>\n",
       "      <th>wind_gust</th>\n",
       "      <th>brightness</th>\n",
       "      <th>fire_intensity</th>\n",
       "      <th>bright_t31</th>\n",
       "      <th>frp</th>\n",
       "    </tr>\n",
       "  </thead>\n",
       "  <tbody>\n",
       "    <tr>\n",
       "      <th>0</th>\n",
       "      <td>34.59540</td>\n",
       "      <td>-78.62180</td>\n",
       "      <td>1</td>\n",
       "      <td>1</td>\n",
       "      <td>2003</td>\n",
       "      <td>2003_4279</td>\n",
       "      <td>6</td>\n",
       "      <td>3</td>\n",
       "      <td>3</td>\n",
       "      <td>1600</td>\n",
       "      <td>6220.09758</td>\n",
       "      <td>3</td>\n",
       "      <td>64.14000</td>\n",
       "      <td>0.88000</td>\n",
       "      <td>0.01100</td>\n",
       "      <td>9.02200</td>\n",
       "      <td>6.42000</td>\n",
       "      <td>12.51000</td>\n",
       "      <td>306.50000</td>\n",
       "      <td>Low</td>\n",
       "      <td>289.20000</td>\n",
       "      <td>11.00000</td>\n",
       "    </tr>\n",
       "    <tr>\n",
       "      <th>1</th>\n",
       "      <td>33.41820</td>\n",
       "      <td>-110.86180</td>\n",
       "      <td>1</td>\n",
       "      <td>1</td>\n",
       "      <td>2003</td>\n",
       "      <td>2003_1522</td>\n",
       "      <td>4</td>\n",
       "      <td>3</td>\n",
       "      <td>3</td>\n",
       "      <td>1220</td>\n",
       "      <td>4534.18726</td>\n",
       "      <td>2</td>\n",
       "      <td>32.17000</td>\n",
       "      <td>0.37000</td>\n",
       "      <td>0.00000</td>\n",
       "      <td>9.21629</td>\n",
       "      <td>6.88000</td>\n",
       "      <td>18.50000</td>\n",
       "      <td>307.60000</td>\n",
       "      <td>Low</td>\n",
       "      <td>285.10000</td>\n",
       "      <td>10.80000</td>\n",
       "    </tr>\n",
       "    <tr>\n",
       "      <th>2</th>\n",
       "      <td>29.71200</td>\n",
       "      <td>-95.12840</td>\n",
       "      <td>1</td>\n",
       "      <td>1</td>\n",
       "      <td>2003</td>\n",
       "      <td>2003_919</td>\n",
       "      <td>3</td>\n",
       "      <td>3</td>\n",
       "      <td>1</td>\n",
       "      <td>1</td>\n",
       "      <td>277.41285</td>\n",
       "      <td>2</td>\n",
       "      <td>65.97000</td>\n",
       "      <td>0.50000</td>\n",
       "      <td>0.00000</td>\n",
       "      <td>9.99700</td>\n",
       "      <td>10.98000</td>\n",
       "      <td>16.90000</td>\n",
       "      <td>307.20000</td>\n",
       "      <td>Low</td>\n",
       "      <td>294.10000</td>\n",
       "      <td>5.60000</td>\n",
       "    </tr>\n",
       "  </tbody>\n",
       "</table>\n",
       "</div>"
      ],
      "text/plain": [
       "   latitude  longitude  doy  month  year cluster_reference  fire_region  \\\n",
       "0  34.59540  -78.62180    1      1  2003         2003_4279            6   \n",
       "1  33.41820 -110.86180    1      1  2003         2003_1522            4   \n",
       "2  29.71200  -95.12840    1      1  2003          2003_919            3   \n",
       "\n",
       "   season  covertype  fuelcode  prefire_fuel  fuel_moisture_class  \\\n",
       "0       3          3      1600    6220.09758                    3   \n",
       "1       3          3      1220    4534.18726                    2   \n",
       "2       3          1         1     277.41285                    2   \n",
       "\n",
       "   temperature  humidity  precip_intensity  visibility  wind_speed  wind_gust  \\\n",
       "0     64.14000   0.88000           0.01100     9.02200     6.42000   12.51000   \n",
       "1     32.17000   0.37000           0.00000     9.21629     6.88000   18.50000   \n",
       "2     65.97000   0.50000           0.00000     9.99700    10.98000   16.90000   \n",
       "\n",
       "   brightness fire_intensity  bright_t31      frp  \n",
       "0   306.50000            Low   289.20000 11.00000  \n",
       "1   307.60000            Low   285.10000 10.80000  \n",
       "2   307.20000            Low   294.10000  5.60000  "
      ]
     },
     "execution_count": 35,
     "metadata": {},
     "output_type": "execute_result"
    }
   ],
   "source": [
    "# review datagram\n",
    "print (df_fires.shape)\n",
    "df_fires.head(3)"
   ]
  },
  {
   "cell_type": "code",
   "execution_count": 36,
   "metadata": {},
   "outputs": [],
   "source": [
    "df_fires = df_fires.drop(columns={'latitude', 'longitude','cluster_reference', 'doy', 'month', 'year', 'brightness', 'bright_t31','frp'})"
   ]
  },
  {
   "cell_type": "code",
   "execution_count": 37,
   "metadata": {},
   "outputs": [
    {
     "data": {
      "text/html": [
       "<div>\n",
       "<style scoped>\n",
       "    .dataframe tbody tr th:only-of-type {\n",
       "        vertical-align: middle;\n",
       "    }\n",
       "\n",
       "    .dataframe tbody tr th {\n",
       "        vertical-align: top;\n",
       "    }\n",
       "\n",
       "    .dataframe thead th {\n",
       "        text-align: right;\n",
       "    }\n",
       "</style>\n",
       "<table border=\"1\" class=\"dataframe\">\n",
       "  <thead>\n",
       "    <tr style=\"text-align: right;\">\n",
       "      <th></th>\n",
       "      <th>fire_region</th>\n",
       "      <th>season</th>\n",
       "      <th>covertype</th>\n",
       "      <th>fuelcode</th>\n",
       "      <th>prefire_fuel</th>\n",
       "      <th>fuel_moisture_class</th>\n",
       "      <th>temperature</th>\n",
       "      <th>humidity</th>\n",
       "      <th>precip_intensity</th>\n",
       "      <th>visibility</th>\n",
       "      <th>wind_speed</th>\n",
       "      <th>wind_gust</th>\n",
       "      <th>fire_intensity</th>\n",
       "    </tr>\n",
       "  </thead>\n",
       "  <tbody>\n",
       "    <tr>\n",
       "      <th>0</th>\n",
       "      <td>6</td>\n",
       "      <td>3</td>\n",
       "      <td>3</td>\n",
       "      <td>1600</td>\n",
       "      <td>6220.09758</td>\n",
       "      <td>3</td>\n",
       "      <td>64.14000</td>\n",
       "      <td>0.88000</td>\n",
       "      <td>0.01100</td>\n",
       "      <td>9.02200</td>\n",
       "      <td>6.42000</td>\n",
       "      <td>12.51000</td>\n",
       "      <td>Low</td>\n",
       "    </tr>\n",
       "    <tr>\n",
       "      <th>1</th>\n",
       "      <td>4</td>\n",
       "      <td>3</td>\n",
       "      <td>3</td>\n",
       "      <td>1220</td>\n",
       "      <td>4534.18726</td>\n",
       "      <td>2</td>\n",
       "      <td>32.17000</td>\n",
       "      <td>0.37000</td>\n",
       "      <td>0.00000</td>\n",
       "      <td>9.21629</td>\n",
       "      <td>6.88000</td>\n",
       "      <td>18.50000</td>\n",
       "      <td>Low</td>\n",
       "    </tr>\n",
       "  </tbody>\n",
       "</table>\n",
       "</div>"
      ],
      "text/plain": [
       "   fire_region  season  covertype  fuelcode  prefire_fuel  \\\n",
       "0            6       3          3      1600    6220.09758   \n",
       "1            4       3          3      1220    4534.18726   \n",
       "\n",
       "   fuel_moisture_class  temperature  humidity  precip_intensity  visibility  \\\n",
       "0                    3     64.14000   0.88000           0.01100     9.02200   \n",
       "1                    2     32.17000   0.37000           0.00000     9.21629   \n",
       "\n",
       "   wind_speed  wind_gust fire_intensity  \n",
       "0     6.42000   12.51000            Low  \n",
       "1     6.88000   18.50000            Low  "
      ]
     },
     "execution_count": 37,
     "metadata": {},
     "output_type": "execute_result"
    }
   ],
   "source": [
    "df_fires.head(2)"
   ]
  },
  {
   "cell_type": "code",
   "execution_count": 38,
   "metadata": {},
   "outputs": [],
   "source": [
    "pd.set_option('display.float_format', lambda x: '%.5f' % x)"
   ]
  },
  {
   "cell_type": "code",
   "execution_count": 39,
   "metadata": {},
   "outputs": [
    {
     "name": "stdout",
     "output_type": "stream",
     "text": [
      "(1328922, 13)\n",
      "        fire_region        season     covertype      fuelcode  prefire_fuel  \\\n",
      "count 1328922.00000 1328922.00000 1328922.00000 1328922.00000 1328922.00000   \n",
      "mean        2.74274       1.33294       2.34710     830.22111    3854.21233   \n",
      "std         2.11958       1.04687       0.87929     709.32156    3008.37354   \n",
      "min         0.00000       0.00000       1.00000       1.00000      19.61505   \n",
      "25%         1.00000       0.00000       1.00000       1.00000     320.67805   \n",
      "50%         2.00000       1.00000       3.00000    1160.00000    4335.06854   \n",
      "75%         4.00000       2.00000       3.00000    1280.00000    6989.97325   \n",
      "max         7.00000       3.00000       3.00000    2950.00000   13337.51083   \n",
      "\n",
      "       fuel_moisture_class   temperature      humidity  precip_intensity  \\\n",
      "count        1328922.00000 1328922.00000 1328922.00000     1328922.00000   \n",
      "mean               2.26137      69.96215       0.41110           0.00269   \n",
      "std                0.70759      14.98959       0.16854           0.05439   \n",
      "min                1.00000     -28.97000       0.00000           0.00000   \n",
      "25%                2.00000      60.63000       0.29000           0.00000   \n",
      "50%                2.00000      70.39000       0.40000           0.00000   \n",
      "75%                3.00000      79.55000       0.53000           0.00000   \n",
      "max                4.00000     139.55000       1.00000           3.93700   \n",
      "\n",
      "         visibility    wind_speed     wind_gust  \n",
      "count 1328922.00000 1328922.00000 1328922.00000  \n",
      "mean        9.21629       6.36565      11.68200  \n",
      "std         1.68975       4.14452       6.04490  \n",
      "min         0.00000       0.00000       0.00000  \n",
      "25%         9.21629       3.54000       7.46000  \n",
      "50%         9.99700       5.42000      10.88000  \n",
      "75%         9.99700       8.10000      14.41000  \n",
      "max        10.00000      66.30000     137.97000  \n"
     ]
    },
    {
     "data": {
      "text/html": [
       "<div>\n",
       "<style scoped>\n",
       "    .dataframe tbody tr th:only-of-type {\n",
       "        vertical-align: middle;\n",
       "    }\n",
       "\n",
       "    .dataframe tbody tr th {\n",
       "        vertical-align: top;\n",
       "    }\n",
       "\n",
       "    .dataframe thead th {\n",
       "        text-align: right;\n",
       "    }\n",
       "</style>\n",
       "<table border=\"1\" class=\"dataframe\">\n",
       "  <thead>\n",
       "    <tr style=\"text-align: right;\">\n",
       "      <th></th>\n",
       "      <th>fire_region</th>\n",
       "      <th>season</th>\n",
       "      <th>covertype</th>\n",
       "      <th>fuelcode</th>\n",
       "      <th>prefire_fuel</th>\n",
       "      <th>fuel_moisture_class</th>\n",
       "      <th>temperature</th>\n",
       "      <th>humidity</th>\n",
       "      <th>precip_intensity</th>\n",
       "      <th>visibility</th>\n",
       "      <th>wind_speed</th>\n",
       "      <th>wind_gust</th>\n",
       "      <th>fire_intensity</th>\n",
       "    </tr>\n",
       "  </thead>\n",
       "  <tbody>\n",
       "    <tr>\n",
       "      <th>0</th>\n",
       "      <td>6</td>\n",
       "      <td>3</td>\n",
       "      <td>3</td>\n",
       "      <td>1600</td>\n",
       "      <td>6220.09758</td>\n",
       "      <td>3</td>\n",
       "      <td>64.14000</td>\n",
       "      <td>0.88000</td>\n",
       "      <td>0.01100</td>\n",
       "      <td>9.02200</td>\n",
       "      <td>6.42000</td>\n",
       "      <td>12.51000</td>\n",
       "      <td>Low</td>\n",
       "    </tr>\n",
       "    <tr>\n",
       "      <th>1</th>\n",
       "      <td>4</td>\n",
       "      <td>3</td>\n",
       "      <td>3</td>\n",
       "      <td>1220</td>\n",
       "      <td>4534.18726</td>\n",
       "      <td>2</td>\n",
       "      <td>32.17000</td>\n",
       "      <td>0.37000</td>\n",
       "      <td>0.00000</td>\n",
       "      <td>9.21629</td>\n",
       "      <td>6.88000</td>\n",
       "      <td>18.50000</td>\n",
       "      <td>Low</td>\n",
       "    </tr>\n",
       "    <tr>\n",
       "      <th>2</th>\n",
       "      <td>3</td>\n",
       "      <td>3</td>\n",
       "      <td>1</td>\n",
       "      <td>1</td>\n",
       "      <td>277.41285</td>\n",
       "      <td>2</td>\n",
       "      <td>65.97000</td>\n",
       "      <td>0.50000</td>\n",
       "      <td>0.00000</td>\n",
       "      <td>9.99700</td>\n",
       "      <td>10.98000</td>\n",
       "      <td>16.90000</td>\n",
       "      <td>Low</td>\n",
       "    </tr>\n",
       "  </tbody>\n",
       "</table>\n",
       "</div>"
      ],
      "text/plain": [
       "   fire_region  season  covertype  fuelcode  prefire_fuel  \\\n",
       "0            6       3          3      1600    6220.09758   \n",
       "1            4       3          3      1220    4534.18726   \n",
       "2            3       3          1         1     277.41285   \n",
       "\n",
       "   fuel_moisture_class  temperature  humidity  precip_intensity  visibility  \\\n",
       "0                    3     64.14000   0.88000           0.01100     9.02200   \n",
       "1                    2     32.17000   0.37000           0.00000     9.21629   \n",
       "2                    2     65.97000   0.50000           0.00000     9.99700   \n",
       "\n",
       "   wind_speed  wind_gust fire_intensity  \n",
       "0     6.42000   12.51000            Low  \n",
       "1     6.88000   18.50000            Low  \n",
       "2    10.98000   16.90000            Low  "
      ]
     },
     "execution_count": 39,
     "metadata": {},
     "output_type": "execute_result"
    }
   ],
   "source": [
    "#show the shape of the data\n",
    "\n",
    "print (df_fires.shape)\n",
    "print (df_fires.describe())\n",
    "df_fires.head(3)"
   ]
  },
  {
   "cell_type": "markdown",
   "metadata": {},
   "source": [
    "# Setting Up Features:"
   ]
  },
  {
   "cell_type": "code",
   "execution_count": 40,
   "metadata": {},
   "outputs": [],
   "source": [
    "features = ['fire_region', 'season', 'covertype', 'fuelcode', 'fuel_moisture_class', 'prefire_fuel', 'temperature', 'humidity', 'precip_intensity', 'visibility', 'wind_gust', 'wind_speed']\n",
    "\n",
    "cat_features = ['fire_region', 'season', 'covertype', 'fuelcode', 'fuel_moisture_class']\n",
    "\n",
    "num_features = ['prefire_fuel', 'temperature', 'humidity', 'precip_intensity', 'visibility', 'wind_gust', 'wind_speed']\n",
    "\n",
    "target = ['fire_intensity']\n",
    "\n",
    "y = df_fires[target]\n",
    "y = np.ravel(y)\n",
    "X = df_fires[features]\n",
    "\n",
    "#encode_columns = ('fire_region', 'season', 'covertype', 'fuel_moisture_class')\n",
    "#onehot_list = df_fires[encode_columns]"
   ]
  },
  {
   "cell_type": "markdown",
   "metadata": {},
   "source": [
    "## Pipeline to Transform:"
   ]
  },
  {
   "cell_type": "code",
   "execution_count": 41,
   "metadata": {},
   "outputs": [],
   "source": [
    "# Processing y.\n",
    "y = LabelEncoder().fit_transform(y) # Label-encode targets before modeling"
   ]
  },
  {
   "cell_type": "code",
   "execution_count": 42,
   "metadata": {},
   "outputs": [],
   "source": [
    "# Processing X Features. \n",
    "categorical_transformer = Pipeline(steps=[('onehot', OneHotEncoder(handle_unknown='ignore'))])\n",
    "    #('imputer', SimpleImputer(strategy='constant', fill_value='missing')),\n",
    "\n",
    "numeric_transformer = Pipeline(steps=[('scaler', MinMaxScaler(feature_range=(0, 1), copy=True))])\n",
    "#numeric_transformer = Pipeline(steps=[('scaler', StandardScaler())])\n",
    "    #('imputer', SimpleImputer(strategy='median')),\n"
   ]
  },
  {
   "cell_type": "code",
   "execution_count": 43,
   "metadata": {},
   "outputs": [],
   "source": [
    "# Setting the transformation for the pipeline below. \n",
    "preprocessor = ColumnTransformer (transformers=[\n",
    "        ('num', numeric_transformer, num_features),\n",
    "        ('cat', categorical_transformer, cat_features)])"
   ]
  },
  {
   "cell_type": "markdown",
   "metadata": {},
   "source": [
    "model = Pipeline(steps=[('preprocessor', preprocessor),\n",
    "                      ('classifier', LogisticRegression())])"
   ]
  },
  {
   "cell_type": "markdown",
   "metadata": {},
   "source": [
    "\n",
    "#column_trans = make_column_transformer((OneHotEncoder(), ['fire_region', 'season',\n",
    " #                               'fuelcode', 'fuel_moisture_class']),\n",
    "  #                               remainder='passthrough')\n",
    "    \n",
    "column_trans.fit_transform(X)\n",
    "y = LabelEncoder().fit_transform(y)\n"
   ]
  },
  {
   "cell_type": "markdown",
   "metadata": {},
   "source": [
    "# Define the models to test\n",
    "<b>Commented out slower performing models and limited the interations/estimators for speed</b>"
   ]
  },
  {
   "cell_type": "code",
   "execution_count": 45,
   "metadata": {},
   "outputs": [],
   "source": [
    "'''\n",
    "    models = [\n",
    "        SVC(gamma='auto'), NuSVC(gamma='auto'), LinearSVC(), \n",
    "        SGDClassifier(max_iter=100, tol=1e-3), KNeighborsClassifier(), \n",
    "        LogisticRegression(solver='lbfgs'), LogisticRegressionCV(cv=3), \n",
    "        BaggingClassifier(), ExtraTreesClassifier(n_estimators=100), \n",
    "        RandomForestClassifier(n_estimators=100),\n",
    "        ]    \n",
    "'''\n",
    "models = [MultinomialNB(), AdaBoostClassifier()]\n",
    "#models = [AdaBoostClassifier()]"
   ]
  },
  {
   "cell_type": "markdown",
   "metadata": {},
   "source": [
    "# Function to Fit and predict the scores of the model. \n",
    "Helps in the initial down selection"
   ]
  },
  {
   "cell_type": "code",
   "execution_count": 46,
   "metadata": {},
   "outputs": [],
   "source": [
    "def score_model(X, y, estimator, **kwargs):\n",
    "    \n",
    "    \"\"\"\n",
    "    Test various estimators.\n",
    "   \n",
    "    #y = LabelEncoder().fit_transform(y)\n",
    "\n",
    "   \n",
    "    \n",
    "    model = Pipeline([\n",
    "         ('one_hot_encoder', OneHotEncoder(categories = 'auto')), \n",
    "         ('estimator', estimator)\n",
    "    ])\n",
    "    \"\"\" \n",
    "    \n",
    "    #model = Pipeline([\n",
    "#         ('trans', column_trans), \n",
    " #        ('estimator', estimator)\n",
    "  #  ])\n",
    "   \n",
    "    model = Pipeline(steps=[\n",
    "          ('preprocessor', preprocessor),\n",
    "          ('estimator', estimator)\n",
    "      ])\n",
    "    \n",
    "    # Instantiate the classification model and visualizer\n",
    "    model.fit(X, y, **kwargs)  \n",
    "    \n",
    "    expected = y\n",
    "    predicted = model.predict(X)\n",
    "    \n",
    "   \n",
    "    # Compute and return F1 (harmonic mean of precision and recall)\n",
    "    print(\"{}: {}\".format(estimator.__class__.__name__, f1_score(expected, predicted, average='macro')))\n",
    "   \n",
    "    return save_estimator(estimator)\n",
    "    \n",
    "    \n"
   ]
  },
  {
   "cell_type": "markdown",
   "metadata": {},
   "source": [
    "# Iterate through the different models"
   ]
  },
  {
   "cell_type": "code",
   "execution_count": 47,
   "metadata": {},
   "outputs": [
    {
     "name": "stdout",
     "output_type": "stream",
     "text": [
      "MultinomialNB: 0.37180116283889897\n",
      "AdaBoostClassifier: 0.42931362645526794\n"
     ]
    }
   ],
   "source": [
    "for model in models:\n",
    "    score_model(X, y, model)"
   ]
  },
  {
   "cell_type": "markdown",
   "metadata": {},
   "source": [
    "# Function to visualize the model out using yellow brick classification report.\n",
    "<b> Error is thrown here using the LabelEncoder and one_hot_encoder <b/>"
   ]
  },
  {
   "cell_type": "code",
   "execution_count": 48,
   "metadata": {},
   "outputs": [],
   "source": [
    "def visualize_model(X, y, estimator):\n",
    "    \n",
    "    \"\"\"\n",
    "    Test various estimators.\n",
    "    \n",
    "    y = LabelEncoder().fit_transform(y)\n",
    "    model = Pipeline([\n",
    "         ('one_hot_encoder', OneHotEncoder(categories='auto')), \n",
    "         ('estimator', estimator)\n",
    "    ])\n",
    "    \"\"\" \n",
    "    \n",
    "   # model = Pipeline([\n",
    "    #     ('trans', column_trans), \n",
    "     #    ('estimator', estimator)\n",
    "    #])\n",
    "    \n",
    "    model = Pipeline(steps=[\n",
    "        ('preprocessor', preprocessor),\n",
    "        ('estimator', estimator)\n",
    "    ])\n",
    "   \n",
    "   \n",
    "    # Instantiate the classification model and visualizer\n",
    "    visualizer = ClassificationReport(\n",
    "        model, \n",
    "        classes=['Low', 'Medium', 'High', 'Severe'], \n",
    "        cmap=\"Reds\", \n",
    "        support=True,\n",
    "        size=(800, 660)\n",
    "    )\n",
    "    \n",
    "    \n",
    "    X_train, X_test, y_train, y_test = tts(X, y, test_size=0.20)\n",
    "    \n",
    "    \n",
    "    visualizer.fit(X_train, y_train)  \n",
    "    \n",
    "    \n",
    "    visualizer.score(X_test, y_test)\n",
    "    \n",
    "    #optional\n",
    "    #visualizer.show(outpath=estimator.__class__.__name__ + \".png\")  \n",
    "    \n",
    "    visualizer.show()\n",
    " \n",
    "\n",
    "    "
   ]
  },
  {
   "cell_type": "markdown",
   "metadata": {},
   "source": [
    "# Iterate through the models to visualize"
   ]
  },
  {
   "cell_type": "code",
   "execution_count": 49,
   "metadata": {},
   "outputs": [
    {
     "data": {
      "image/png": "[encoded data removed]",
      "text/plain": [
       "<Figure size 800x660 with 2 Axes>"
      ]
     },
     "metadata": {
      "needs_background": "light"
     },
     "output_type": "display_data"
    },
    {
     "data": {
      "image/png": "[encoded data removed]",
      "text/plain": [
       "<Figure size 800x660 with 2 Axes>"
      ]
     },
     "metadata": {
      "needs_background": "light"
     },
     "output_type": "display_data"
    }
   ],
   "source": [
    "for model in models:\n",
    "    visualize_model(X, y, model)\n",
    "    "
   ]
  },
  {
   "cell_type": "code",
   "execution_count": null,
   "metadata": {},
   "outputs": [],
   "source": []
  },
  {
   "cell_type": "code",
   "execution_count": null,
   "metadata": {},
   "outputs": [],
   "source": []
  }
 ],
 "metadata": {
  "kernelspec": {
   "display_name": "Python 3",
   "language": "python",
   "name": "python3"
  },
  "language_info": {
   "codemirror_mode": {
    "name": "ipython",
    "version": 3
   },
   "file_extension": ".py",
   "mimetype": "text/x-python",
   "name": "python",
   "nbconvert_exporter": "python",
   "pygments_lexer": "ipython3",
   "version": "3.7.3"
  }
 },
 "nbformat": 4,
 "nbformat_minor": 4
}

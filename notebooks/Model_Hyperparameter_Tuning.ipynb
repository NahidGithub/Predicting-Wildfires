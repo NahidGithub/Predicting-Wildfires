{
 "cells": [
  {
   "cell_type": "markdown",
   "metadata": {},
   "source": [
    "### Hyper Parmeter Tuning of our tops models"
   ]
  },
  {
   "cell_type": "code",
   "execution_count": 1,
   "metadata": {},
   "outputs": [],
   "source": [
    "%matplotlib inline\n"
   ]
  },
  {
   "cell_type": "code",
   "execution_count": 2,
   "metadata": {},
   "outputs": [],
   "source": [
    "import warnings\n",
    "warnings.filterwarnings(\"ignore\")"
   ]
  },
  {
   "cell_type": "code",
   "execution_count": 3,
   "metadata": {},
   "outputs": [],
   "source": [
    "import os\n",
    "import pandas as pd\n",
    "\n",
    "from sklearn.model_selection import GridSearchCV\n",
    "from sklearn.ensemble import BaggingClassifier, ExtraTreesClassifier, RandomForestClassifier"
   ]
  },
  {
   "cell_type": "markdown",
   "metadata": {},
   "source": [
    "### Load the data from our models"
   ]
  },
  {
   "cell_type": "code",
   "execution_count": 4,
   "metadata": {},
   "outputs": [
    {
     "name": "stdout",
     "output_type": "stream",
     "text": [
      "(100000, 26)\n",
      "Index(['Unnamed: 0', 'latitude', 'longitude', 'doy', 'month', 'year',\n",
      "       'cluster_reference', 'fire_region', 'season', 'covertype', 'fuelcode',\n",
      "       'prefire_fuel', 'fuel_moisture_class', 'temperature', 'humidity',\n",
      "       'precip_intensity', 'visibility', 'wind_speed', 'wind_gust',\n",
      "       'brightness', 'fire_intensity', 'fire_intensity_twocat',\n",
      "       'fire_intensity_threecat', 'fire_intensity_fourcat', 'bright_t31',\n",
      "       'frp'],\n",
      "      dtype='object')\n"
     ]
    }
   ],
   "source": [
    "#Read the data from disk for faster access\n",
    "#df_fires = pd.read_csv('data/fires_data_smote.csv').sample(1000)\n",
    "df_fires = pd.read_csv('data/FireIntensity_Model_June12_Clean.csv').sample(100000)\n",
    "\n",
    "print(df_fires.shape)\n",
    "print(df_fires.columns)\n",
    "\n",
    "X = df_fires[['latitude', 'longitude', 'doy','temperature', 'wind_speed','humidity', 'fire_region', 'season', \n",
    "                 'fuelcode', 'prefire_fuel', 'fuel_moisture_class',\n",
    "                  'precip_intensity', 'wind_gust']]\n",
    "\n",
    "y = df_fires[\"fire_intensity_fourcat\"].values\n"
   ]
  },
  {
   "cell_type": "markdown",
   "metadata": {},
   "source": [
    "# Gridsearch\n",
    "\n",
    "Gridsearch is a method for finding the best combination of hyperparameters via an exhaustive search over specified parameter values for an estimator.\n"
   ]
  },
  {
   "cell_type": "markdown",
   "metadata": {},
   "source": [
    "### BaggingClassifier Hyper parameter tuning"
   ]
  },
  {
   "cell_type": "code",
   "execution_count": 5,
   "metadata": {},
   "outputs": [
    {
     "name": "stdout",
     "output_type": "stream",
     "text": [
      "BaggingClassifier(max_features=1, max_samples=10, n_estimators=5, n_jobs=-1,\n",
      "                  oob_score=True)\n"
     ]
    }
   ],
   "source": [
    "# Use GridSearchCV to see whether we need to tune any of the parameters.\n",
    "model = BaggingClassifier()\n",
    "\n",
    "# Create a dictionary with the parameter options\n",
    "parameters = {'n_estimators': [5, 10, 25, 50, 100], 'max_samples': [1,5, 10], \n",
    "              'max_features': [1,5, 10], 'bootstrap':[True,False], \n",
    "              'bootstrap_features': [True,False], 'oob_score': [True,False], \n",
    "              'n_jobs' : [-1]}\n",
    "              \n",
    "clf = GridSearchCV(model, parameters, cv=5)\n",
    "clf.fit(X, y)\n",
    "\n",
    "print(clf.best_estimator_)"
   ]
  },
  {
   "cell_type": "markdown",
   "metadata": {},
   "source": [
    "### ExtraTreesClassifier() Hyper parameter tuning\n"
   ]
  },
  {
   "cell_type": "code",
   "execution_count": null,
   "metadata": {},
   "outputs": [],
   "source": [
    "# Use GridSearchCV to see whether we need to tune any of the  parameters.\n",
    "model = ExtraTreesClassifier()\n",
    "\n",
    "# Create a dictionary with the parameter option'\n",
    "parameters = {'n_estimators': [5, 10, 25, 50, 100], 'criterion' : ['gini', 'entropy'],\n",
    "              'max_depth': [5, 10, 25, 50], 'bootstrap':[True,False], \n",
    "              'oob_score': [True,False], 'n_jobs' : [-1]}\n",
    "              \n",
    "clf = GridSearchCV(model, parameters, cv=5)\n",
    "clf.fit(X, y)\n",
    "\n",
    "print(clf.best_estimator_)"
   ]
  },
  {
   "cell_type": "markdown",
   "metadata": {},
   "source": [
    "### RandomForestClassifier() Hyper Parameter Tuning"
   ]
  },
  {
   "cell_type": "code",
   "execution_count": null,
   "metadata": {},
   "outputs": [],
   "source": [
    "# Use GridSearchCV to see whether we need to tune any of the  parameters.\n",
    "model = RandomForestClassifier()\n",
    "\n",
    "# Create a dictionary with the parameter option\n",
    "parameters = {'n_estimators': [5, 10, 25, 50, 100], 'criterion' : ['gini', 'entropy'],\n",
    "              'max_depth': [5, 10, 25, 50], 'bootstrap':[True,False], \n",
    "              'oob_score': [True,False], 'n_jobs' : [-1]}\n",
    "              \n",
    "clf = GridSearchCV(model, parameters, cv=5)\n",
    "clf.fit(X, y)\n",
    "\n",
    "print(clf.best_estimator_)"
   ]
  },
  {
   "cell_type": "code",
   "execution_count": null,
   "metadata": {},
   "outputs": [],
   "source": []
  }
 ],
 "metadata": {
  "kernelspec": {
   "display_name": "Python 3",
   "language": "python",
   "name": "python3"
  },
  "language_info": {
   "codemirror_mode": {
    "name": "ipython",
    "version": 3
   },
   "file_extension": ".py",
   "mimetype": "text/x-python",
   "name": "python",
   "nbconvert_exporter": "python",
   "pygments_lexer": "ipython3",
   "version": "3.7.4"
  }
 },
 "nbformat": 4,
 "nbformat_minor": 4
}
